{
 "cells": [
  {
   "cell_type": "code",
   "execution_count": 1,
   "metadata": {},
   "outputs": [],
   "source": [
    "import pandas as pd\n",
    "import os\n",
    "from tqdm import tqdm\n",
    "import matplotlib.pyplot as plt\n",
    "import sys\n",
    "root_dir = '..'\n",
    "sys.path.append(root_dir)\n",
    "import utils\n",
    "from LinearAlignment import LinearAlignment"
   ]
  },
  {
   "cell_type": "code",
   "execution_count": 2,
   "metadata": {},
   "outputs": [],
   "source": [
    "data = pd.read_csv(os.path.join(root_dir, 'data/train.csv'))\n",
    "data['epoch'] = pd.to_datetime(data['epoch']).astype(int)"
   ]
  },
  {
   "cell_type": "code",
   "execution_count": 3,
   "metadata": {},
   "outputs": [],
   "source": [
    "features_list=('x', 'y', 'z', 'Vx', 'Vy', 'Vz')"
   ]
  },
  {
   "cell_type": "code",
   "execution_count": 4,
   "metadata": {},
   "outputs": [
    {
     "name": "stderr",
     "output_type": "stream",
     "text": [
      "  0%|          | 0/600 [00:00<?, ?it/s]/home/misha/python-virtual-environments/py373-venv/lib/python3.7/site-packages/pandas/core/indexing.py:205: SettingWithCopyWarning: \n",
      "A value is trying to be set on a copy of a slice from a DataFrame\n",
      "\n",
      "See the caveats in the documentation: http://pandas.pydata.org/pandas-docs/stable/user_guide/indexing.html#returning-a-view-versus-a-copy\n",
      "  self._setitem_with_indexer(indexer, value)\n",
      " 42%|████▏     | 252/600 [00:20<00:27, 12.53it/s]/home/misha/Documents/Competitions/IDAO-2020/LinearAlignment/LinearAlignment.py:39: RuntimeWarning: invalid value encountered in long_scalars\n",
      "  t[peaks_x[common_peaks_count - 1]] - t[peaks_x[0]])\n",
      "../utils.py:30: RuntimeWarning: invalid value encountered in greater\n",
      "  far = np.concatenate([(t[1:] - t[:-1]) > eps, [True]])\n",
      " 42%|████▏     | 254/600 [00:20<00:25, 13.79it/s]"
     ]
    },
    {
     "name": "stdout",
     "output_type": "stream",
     "text": [
      "linear alignment failed for satellite 252:\tValueError interpolation error, x length = 1,         t_new length = 94\n"
     ]
    },
    {
     "name": "stderr",
     "output_type": "stream",
     "text": [
      "100%|██████████| 600/600 [00:47<00:00, 12.60it/s]\n"
     ]
    }
   ],
   "source": [
    "result_df = []\n",
    "alignment_model = LinearAlignment()\n",
    "\n",
    "satellites_list = data['sat_id'].unique()\n",
    "for sat_id in tqdm(satellites_list):\n",
    "    pred = pd.DataFrame([])\n",
    "    sat_data = utils.get_satellite_data(data, sat_id)\n",
    "    try:\n",
    "        sat_data = utils.remove_time_jumps_fast(sat_data)\n",
    "#         filtered_sat_data = utils.remove_time_jumps(sat_data)\n",
    "    except KeyError as e:\n",
    "        print(f'jump removal failed for satellite {sat_id}:\\t{type(e).__name__} {e}')\n",
    "        continue\n",
    "#     sat_data = sat_data.join(utils.remove_time_jumps(sat_data))\n",
    "    n_train = len(sat_data) // 2\n",
    "    train_sat_data = sat_data[:n_train]\n",
    "    \n",
    "    try:\n",
    "        for feature_name in features_list:\n",
    "            alignment_model.fit(t=train_sat_data['epoch'].values,\n",
    "                                x=train_sat_data[f'{feature_name}_sim'].values,\n",
    "                                gt=train_sat_data[feature_name].values)\n",
    "            pred[feature_name] = alignment_model.predict(t=sat_data['epoch'].values,\n",
    "                                                         x=sat_data[f'{feature_name}_sim'].values)\n",
    "    except Exception as e:\n",
    "        print(f'linear alignment failed for satellite {sat_id}:\\t{type(e).__name__} {e}')\n",
    "        continue\n",
    "        \n",
    "    sat_sim_smape = utils.smape(sat_data.loc[n_train:, [f'{f}_sim' for f in features_list]].values,\n",
    "                                sat_data.loc[n_train:, features_list].values)\n",
    "    sat_new_smape = utils.smape(pred.loc[n_train:, features_list].values,\n",
    "                                sat_data.loc[n_train:, features_list].values)\n",
    "    result_df.append([sat_id, sat_sim_smape, sat_new_smape])\n",
    "        "
   ]
  },
  {
   "cell_type": "code",
   "execution_count": 6,
   "metadata": {},
   "outputs": [],
   "source": [
    "result_df = pd.DataFrame(result_df, columns=['sat_id', 'sat_simulation_smape', 'sat_new_smape'])"
   ]
  },
  {
   "cell_type": "code",
   "execution_count": 7,
   "metadata": {},
   "outputs": [
    {
     "name": "stdout",
     "output_type": "stream",
     "text": [
      "599/600 satellites processed\n",
      "\n",
      "metrics: {'sat_simulation_smape': 0.14499453179384694, 'sat_new_smape': 0.08145263918265075}\n"
     ]
    }
   ],
   "source": [
    "print(f'{len(result_df)}/{len(satellites_list)} satellites processed')\n",
    "print('\\nmetrics:', dict(result_df.iloc[:, 1:].mean()))"
   ]
  },
  {
   "cell_type": "code",
   "execution_count": 9,
   "metadata": {},
   "outputs": [
    {
     "name": "stdout",
     "output_type": "stream",
     "text": [
      "587/600 satellites processed\n",
      "\n",
      "metrics: {'sat_simulation_smape': 0.2132816584458697, 'sat_new_smape': 0.12919047242986784}\n"
     ]
    }
   ],
   "source": [
    "print(f'{len(result_df)}/{len(satellites_list)} satellites processed')\n",
    "print('\\nmetrics:', dict(result_df.iloc[:, 1:].mean()))"
   ]
  }
 ],
 "metadata": {
  "kernelspec": {
   "display_name": "Python 3",
   "language": "python",
   "name": "python3"
  },
  "language_info": {
   "codemirror_mode": {
    "name": "ipython",
    "version": 3
   },
   "file_extension": ".py",
   "mimetype": "text/x-python",
   "name": "python",
   "nbconvert_exporter": "python",
   "pygments_lexer": "ipython3",
   "version": "3.7.3"
  }
 },
 "nbformat": 4,
 "nbformat_minor": 4
}
