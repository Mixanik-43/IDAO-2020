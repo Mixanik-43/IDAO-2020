{
 "cells": [
  {
   "cell_type": "code",
   "execution_count": 1,
   "metadata": {
    "scrolled": true
   },
   "outputs": [
    {
     "name": "stdout",
     "output_type": "stream",
     "text": [
      "Requirement already satisfied: tqdm in /home/misha/python-evironments/py373/lib/python3.7/site-packages (4.41.1)\n",
      "\u001b[33mYou are using pip version 19.0.3, however version 19.3.1 is available.\n",
      "You should consider upgrading via the 'pip install --upgrade pip' command.\u001b[0m\n"
     ]
    }
   ],
   "source": [
    "!pip install tqdm"
   ]
  },
  {
   "cell_type": "code",
   "execution_count": 2,
   "metadata": {},
   "outputs": [
    {
     "name": "stderr",
     "output_type": "stream",
     "text": [
      "/home/misha/python-evironments/py373/lib/python3.7/site-packages/pandas/compat/__init__.py:85: UserWarning: Could not import the lzma module. Your installed Python is incomplete. Attempting to use lzma compression will result in a RuntimeError.\n",
      "  warnings.warn(msg)\n",
      "/home/misha/python-evironments/py373/lib/python3.7/site-packages/pandas/compat/__init__.py:85: UserWarning: Could not import the lzma module. Your installed Python is incomplete. Attempting to use lzma compression will result in a RuntimeError.\n",
      "  warnings.warn(msg)\n"
     ]
    }
   ],
   "source": [
    "import pandas as pd\n",
    "import os\n",
    "from tqdm import tqdm\n",
    "import matplotlib.pyplot as plt\n",
    "import sys\n",
    "root_dir = '..'\n",
    "sys.path.append(root_dir)\n",
    "import utils\n",
    "from LinearAlignment import LinearAlignment"
   ]
  },
  {
   "cell_type": "code",
   "execution_count": 3,
   "metadata": {},
   "outputs": [],
   "source": [
    "data = pd.read_csv(os.path.join(root_dir, 'data/train.csv'))\n",
    "data['epoch'] = pd.to_datetime(data['epoch']).astype(int)"
   ]
  },
  {
   "cell_type": "code",
   "execution_count": 4,
   "metadata": {},
   "outputs": [],
   "source": [
    "features_list=('x', 'y', 'z', 'Vx', 'Vy', 'Vz')"
   ]
  },
  {
   "cell_type": "code",
   "execution_count": 7,
   "metadata": {},
   "outputs": [
    {
     "name": "stderr",
     "output_type": "stream",
     "text": [
      "  1%|          | 6/600 [00:11<17:09,  1.73s/it]"
     ]
    },
    {
     "name": "stdout",
     "output_type": "stream",
     "text": [
      "jump removal failed for satellite 5:\tKeyError 3531\n"
     ]
    },
    {
     "name": "stderr",
     "output_type": "stream",
     "text": [
      " 25%|██▍       | 149/600 [03:39<06:31,  1.15it/s]"
     ]
    },
    {
     "name": "stdout",
     "output_type": "stream",
     "text": [
      "jump removal failed for satellite 148:\tKeyError 2275\n"
     ]
    },
    {
     "name": "stderr",
     "output_type": "stream",
     "text": [
      " 26%|██▌       | 157/600 [03:47<04:54,  1.51it/s]"
     ]
    },
    {
     "name": "stdout",
     "output_type": "stream",
     "text": [
      "jump removal failed for satellite 156:\tKeyError 2717\n"
     ]
    },
    {
     "name": "stderr",
     "output_type": "stream",
     "text": [
      " 31%|███▏      | 188/600 [04:39<26:00,  3.79s/it]"
     ]
    },
    {
     "name": "stdout",
     "output_type": "stream",
     "text": [
      "jump removal failed for satellite 187:\tKeyError 1925\n"
     ]
    },
    {
     "name": "stderr",
     "output_type": "stream",
     "text": [
      " 35%|███▍      | 208/600 [04:59<11:10,  1.71s/it]"
     ]
    },
    {
     "name": "stdout",
     "output_type": "stream",
     "text": [
      "jump removal failed for satellite 207:\tKeyError 3400\n"
     ]
    },
    {
     "name": "stderr",
     "output_type": "stream",
     "text": [
      " 42%|████▏     | 252/600 [06:04<06:36,  1.14s/it]/home/misha/Documents/progr/GITHUB/IDAO-2020/LinearAlignment/LinearAlignment.py:39: RuntimeWarning: invalid value encountered in long_scalars\n",
      "  t[peaks_x[common_peaks_count - 1]] - t[peaks_x[0]])\n",
      "../utils.py:13: RuntimeWarning: invalid value encountered in greater\n",
      "  far = np.concatenate([(t[1:] - t[:-1]) > eps, [True]])\n",
      " 42%|████▏     | 253/600 [06:04<04:53,  1.18it/s]"
     ]
    },
    {
     "name": "stdout",
     "output_type": "stream",
     "text": [
      "linear alignment failed for satellite 252:\tValueError interpolation error, x length = 1, t_new length = 94\n"
     ]
    },
    {
     "name": "stderr",
     "output_type": "stream",
     "text": [
      " 49%|████▉     | 296/600 [07:09<06:46,  1.34s/it]"
     ]
    },
    {
     "name": "stdout",
     "output_type": "stream",
     "text": [
      "jump removal failed for satellite 295:\tKeyError 4088\n"
     ]
    },
    {
     "name": "stderr",
     "output_type": "stream",
     "text": [
      " 76%|███████▋  | 459/600 [11:39<01:51,  1.27it/s]"
     ]
    },
    {
     "name": "stdout",
     "output_type": "stream",
     "text": [
      "jump removal failed for satellite 458:\tKeyError 2924\n"
     ]
    },
    {
     "name": "stderr",
     "output_type": "stream",
     "text": [
      " 77%|███████▋  | 463/600 [11:46<03:36,  1.58s/it]"
     ]
    },
    {
     "name": "stdout",
     "output_type": "stream",
     "text": [
      "jump removal failed for satellite 462:\tKeyError 1519\n"
     ]
    },
    {
     "name": "stderr",
     "output_type": "stream",
     "text": [
      " 78%|███████▊  | 466/600 [11:49<02:21,  1.06s/it]"
     ]
    },
    {
     "name": "stdout",
     "output_type": "stream",
     "text": [
      "jump removal failed for satellite 465:\tKeyError 1762\n"
     ]
    },
    {
     "name": "stderr",
     "output_type": "stream",
     "text": [
      " 80%|████████  | 480/600 [12:25<04:40,  2.33s/it]"
     ]
    },
    {
     "name": "stdout",
     "output_type": "stream",
     "text": [
      "jump removal failed for satellite 479:\tKeyError 2079\n"
     ]
    },
    {
     "name": "stderr",
     "output_type": "stream",
     "text": [
      " 88%|████████▊ | 527/600 [13:43<01:24,  1.16s/it]"
     ]
    },
    {
     "name": "stdout",
     "output_type": "stream",
     "text": [
      "jump removal failed for satellite 526:\tKeyError 3130\n"
     ]
    },
    {
     "name": "stderr",
     "output_type": "stream",
     "text": [
      " 92%|█████████▏| 554/600 [14:32<00:47,  1.03s/it]"
     ]
    },
    {
     "name": "stdout",
     "output_type": "stream",
     "text": [
      "jump removal failed for satellite 553:\tKeyError 4525\n"
     ]
    },
    {
     "name": "stderr",
     "output_type": "stream",
     "text": [
      "100%|██████████| 600/600 [15:50<00:00,  1.58s/it]\n"
     ]
    }
   ],
   "source": [
    "result_df = []\n",
    "alignment_model = LinearAlignment()\n",
    "\n",
    "satellites_list = data['sat_id'].unique()\n",
    "for sat_id in tqdm(satellites_list):\n",
    "    pred = pd.DataFrame([])\n",
    "    sat_data = utils.get_satellite_data(data, sat_id)\n",
    "    try:\n",
    "        sat_data = sat_data.join(utils.remove_time_jumps(sat_data))\n",
    "#         filtered_sat_data = utils.remove_time_jumps(sat_data)\n",
    "    except KeyError as e:\n",
    "        print(f'jump removal failed for satellite {sat_id}:\\t{type(e).__name__} {e}')\n",
    "        continue\n",
    "#     sat_data = sat_data.join(utils.remove_time_jumps(sat_data))\n",
    "    n_train = len(sat_data) // 2\n",
    "    train_sat_data = sat_data[:n_train]\n",
    "    \n",
    "    try:\n",
    "        for feature_name in features_list:\n",
    "            alignment_model.fit(t=train_sat_data['epoch'].values,\n",
    "                                x=train_sat_data[f'{feature_name}_sim'].values,\n",
    "                                gt=train_sat_data[feature_name].values)\n",
    "            pred[feature_name] = alignment_model.predict(t=sat_data['epoch'].values,\n",
    "                                                         x=sat_data[f'{feature_name}_sim'].values)\n",
    "    except Exception as e:\n",
    "        print(f'linear alignment failed for satellite {sat_id}:\\t{type(e).__name__} {e}')\n",
    "        continue\n",
    "        \n",
    "    sat_sim_smape = utils.smape(sat_data.loc[n_train:, [f'{f}_sim' for f in features_list]].values,\n",
    "                                sat_data.loc[n_train:, features_list].values)\n",
    "    sat_new_smape = utils.smape(pred.loc[n_train:, features_list].values,\n",
    "                                sat_data.loc[n_train:, features_list].values)\n",
    "    result_df.append([sat_id, sat_sim_smape, sat_new_smape])\n",
    "        "
   ]
  },
  {
   "cell_type": "code",
   "execution_count": 8,
   "metadata": {},
   "outputs": [],
   "source": [
    "result_df = pd.DataFrame(result_df, columns=['sat_id', 'sat_simulation_smape', 'sat_new_smape'])"
   ]
  },
  {
   "cell_type": "code",
   "execution_count": 9,
   "metadata": {},
   "outputs": [
    {
     "name": "stdout",
     "output_type": "stream",
     "text": [
      "587/600 satellites processed\n",
      "\n",
      "metrics: {'sat_simulation_smape': 0.2132816584458697, 'sat_new_smape': 0.12919047242986784}\n"
     ]
    }
   ],
   "source": [
    "print(f'{len(result_df)}/{len(satellites_list)} satellites processed')\n",
    "print('\\nmetrics:', dict(result_df.iloc[:, 1:].mean()))"
   ]
  }
 ],
 "metadata": {
  "kernelspec": {
   "display_name": "Python 3",
   "language": "python",
   "name": "python3"
  },
  "language_info": {
   "codemirror_mode": {
    "name": "ipython",
    "version": 3
   },
   "file_extension": ".py",
   "mimetype": "text/x-python",
   "name": "python",
   "nbconvert_exporter": "python",
   "pygments_lexer": "ipython3",
   "version": "3.7.3"
  }
 },
 "nbformat": 4,
 "nbformat_minor": 4
}
