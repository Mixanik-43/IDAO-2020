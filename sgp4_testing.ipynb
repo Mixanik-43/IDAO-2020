{
 "cells": [
  {
   "cell_type": "code",
   "execution_count": 26,
   "metadata": {},
   "outputs": [],
   "source": [
    "!export PYTHONPATH=/Users/m/IDAO2020/github/IDAO-2020/orbitdeterminator/\n",
    "from orbitdeterminator.propagation.sgp4_prop import propagate_state\n",
    "from orbitdeterminator.propagation.sgp4_prop import propagate_kep\n",
    "from orbitdeterminator.util.state_kep import state_kep\n",
    "import numpy as np\n",
    "import pandas as pd"
   ]
  },
  {
   "cell_type": "code",
   "execution_count": 109,
   "metadata": {},
   "outputs": [],
   "source": [
    "#!pip install sgp4\n",
    "#https://github.com/aerospaceresearch/orbitdeterminator/\n",
    "#changes to make this work:\n",
    "#in spg4 files: remove satrec no attribute, replace with no_kazai\n",
    "#in sat_prop, when call def sgp4init, missing the arguments: xndot,   xnddot,  (add these)\n",
    "#"
   ]
  },
  {
   "cell_type": "code",
   "execution_count": 110,
   "metadata": {},
   "outputs": [],
   "source": [
    "def get_satellite_data(data, sat_id):\n",
    "    '''\n",
    "    returns all data for particular satellite by id\n",
    "    '''\n",
    "    return data[data['sat_id'] == sat_id]"
   ]
  },
  {
   "cell_type": "code",
   "execution_count": 53,
   "metadata": {},
   "outputs": [],
   "source": [
    "a = [-8855.823863,13117.780146,-20728.353233]\n",
    "b = [-0.908303,-3.808436,-2.022083]"
   ]
  },
  {
   "cell_type": "code",
   "execution_count": 54,
   "metadata": {},
   "outputs": [],
   "source": [
    "r = np.array(a)\n",
    "v = np.array(b)"
   ]
  },
  {
   "cell_type": "code",
   "execution_count": 55,
   "metadata": {},
   "outputs": [
    {
     "data": {
      "text/plain": [
       "(3,)"
      ]
     },
     "execution_count": 55,
     "metadata": {},
     "output_type": "execute_result"
    }
   ],
   "source": [
    "r.shape"
   ]
  },
  {
   "cell_type": "code",
   "execution_count": 111,
   "metadata": {},
   "outputs": [],
   "source": [
    "PATH = '/Users/m/IDAO2020/github/IDAO-2020/data/'\n",
    "train = pd.read_csv(PATH +'train.csv', index_col = 'id')\n",
    "train['time'] = train['epoch']\n",
    "train['epoch'] = pd.to_datetime(train['epoch']).values.astype(float)"
   ]
  },
  {
   "cell_type": "code",
   "execution_count": 69,
   "metadata": {},
   "outputs": [],
   "source": [
    "pos_cols = [train.columns.get_loc(c) for c in ['x','y','z']]\n",
    "vel_cols = [train.columns.get_loc(c) for c in ['Vx','Vy','Vz']]\n",
    "pos_sim_cols = [train.columns.get_loc(c) for c in ['x_sim','y_sim','z_sim']]\n",
    "vel_sim_cols = [train.columns.get_loc(c) for c in ['Vx_sim','Vy_sim','Vz_sim']]"
   ]
  },
  {
   "cell_type": "code",
   "execution_count": 96,
   "metadata": {},
   "outputs": [],
   "source": [
    "sat = 2\n",
    "data = get_satellite_data(train,sat)"
   ]
  },
  {
   "cell_type": "code",
   "execution_count": 97,
   "metadata": {},
   "outputs": [
    {
     "data": {
      "text/html": [
       "<div>\n",
       "<style scoped>\n",
       "    .dataframe tbody tr th:only-of-type {\n",
       "        vertical-align: middle;\n",
       "    }\n",
       "\n",
       "    .dataframe tbody tr th {\n",
       "        vertical-align: top;\n",
       "    }\n",
       "\n",
       "    .dataframe thead th {\n",
       "        text-align: right;\n",
       "    }\n",
       "</style>\n",
       "<table border=\"1\" class=\"dataframe\">\n",
       "  <thead>\n",
       "    <tr style=\"text-align: right;\">\n",
       "      <th></th>\n",
       "      <th>epoch</th>\n",
       "      <th>sat_id</th>\n",
       "      <th>x</th>\n",
       "      <th>y</th>\n",
       "      <th>z</th>\n",
       "      <th>Vx</th>\n",
       "      <th>Vy</th>\n",
       "      <th>Vz</th>\n",
       "      <th>x_sim</th>\n",
       "      <th>y_sim</th>\n",
       "      <th>z_sim</th>\n",
       "      <th>Vx_sim</th>\n",
       "      <th>Vy_sim</th>\n",
       "      <th>Vz_sim</th>\n",
       "      <th>time</th>\n",
       "    </tr>\n",
       "    <tr>\n",
       "      <th>id</th>\n",
       "      <th></th>\n",
       "      <th></th>\n",
       "      <th></th>\n",
       "      <th></th>\n",
       "      <th></th>\n",
       "      <th></th>\n",
       "      <th></th>\n",
       "      <th></th>\n",
       "      <th></th>\n",
       "      <th></th>\n",
       "      <th></th>\n",
       "      <th></th>\n",
       "      <th></th>\n",
       "      <th></th>\n",
       "      <th></th>\n",
       "    </tr>\n",
       "  </thead>\n",
       "  <tbody>\n",
       "    <tr>\n",
       "      <th>5828</th>\n",
       "      <td>1.388534e+18</td>\n",
       "      <td>2</td>\n",
       "      <td>33148.668886</td>\n",
       "      <td>-14110.640743</td>\n",
       "      <td>-968.074861</td>\n",
       "      <td>1.128804</td>\n",
       "      <td>2.826089</td>\n",
       "      <td>-2.540709</td>\n",
       "      <td>33421.694365</td>\n",
       "      <td>-13513.388445</td>\n",
       "      <td>-1551.416776</td>\n",
       "      <td>1.075190</td>\n",
       "      <td>2.851149</td>\n",
       "      <td>-2.530708</td>\n",
       "      <td>2014-01-01T00:00:00.000</td>\n",
       "    </tr>\n",
       "    <tr>\n",
       "      <th>5829</th>\n",
       "      <td>1.388541e+18</td>\n",
       "      <td>2</td>\n",
       "      <td>34524.849803</td>\n",
       "      <td>5438.883966</td>\n",
       "      <td>-16279.040266</td>\n",
       "      <td>-0.652929</td>\n",
       "      <td>3.071909</td>\n",
       "      <td>-2.099883</td>\n",
       "      <td>34479.954736</td>\n",
       "      <td>6084.116849</td>\n",
       "      <td>-16720.234615</td>\n",
       "      <td>-0.691089</td>\n",
       "      <td>3.063011</td>\n",
       "      <td>-2.069545</td>\n",
       "      <td>2014-01-01T01:47:19.603</td>\n",
       "    </tr>\n",
       "  </tbody>\n",
       "</table>\n",
       "</div>"
      ],
      "text/plain": [
       "             epoch  sat_id             x             y             z  \\\n",
       "id                                                                     \n",
       "5828  1.388534e+18       2  33148.668886 -14110.640743   -968.074861   \n",
       "5829  1.388541e+18       2  34524.849803   5438.883966 -16279.040266   \n",
       "\n",
       "            Vx        Vy        Vz         x_sim         y_sim         z_sim  \\\n",
       "id                                                                             \n",
       "5828  1.128804  2.826089 -2.540709  33421.694365 -13513.388445  -1551.416776   \n",
       "5829 -0.652929  3.071909 -2.099883  34479.954736   6084.116849 -16720.234615   \n",
       "\n",
       "        Vx_sim    Vy_sim    Vz_sim                     time  \n",
       "id                                                           \n",
       "5828  1.075190  2.851149 -2.530708  2014-01-01T00:00:00.000  \n",
       "5829 -0.691089  3.063011 -2.069545  2014-01-01T01:47:19.603  "
      ]
     },
     "execution_count": 97,
     "metadata": {},
     "output_type": "execute_result"
    }
   ],
   "source": [
    "data.head(2)"
   ]
  },
  {
   "cell_type": "code",
   "execution_count": 98,
   "metadata": {},
   "outputs": [],
   "source": [
    "row = 0"
   ]
  },
  {
   "cell_type": "code",
   "execution_count": 99,
   "metadata": {},
   "outputs": [],
   "source": [
    "r = np.array(data.iloc[row,pos_cols]).astype(float)\n",
    "v = np.array(data.iloc[row,vel_cols]).astype(float)"
   ]
  },
  {
   "cell_type": "code",
   "execution_count": 100,
   "metadata": {},
   "outputs": [
    {
     "data": {
      "text/plain": [
       "array([ 33148.66888566, -14110.64074284,   -968.07486053])"
      ]
     },
     "execution_count": 100,
     "metadata": {},
     "output_type": "execute_result"
    }
   ],
   "source": [
    "r"
   ]
  },
  {
   "cell_type": "code",
   "execution_count": 101,
   "metadata": {},
   "outputs": [
    {
     "data": {
      "text/plain": [
       "array([ 1.12880357,  2.82608943, -2.54070931])"
      ]
     },
     "execution_count": 101,
     "metadata": {},
     "output_type": "execute_result"
    }
   ],
   "source": [
    "v"
   ]
  },
  {
   "cell_type": "code",
   "execution_count": 108,
   "metadata": {},
   "outputs": [
    {
     "data": {
      "text/plain": [
       "(array([34572.88868939, -9669.99593562, -4853.37667141]),\n",
       " array([ 0.69494132,  2.98027456, -2.49750539]))"
      ]
     },
     "execution_count": 108,
     "metadata": {},
     "output_type": "execute_result"
    }
   ],
   "source": [
    "propagate_kep(kep=state_kep(r,v),t0=0,tf=1380)"
   ]
  },
  {
   "cell_type": "code",
   "execution_count": 87,
   "metadata": {},
   "outputs": [
    {
     "name": "stdout",
     "output_type": "stream",
     "text": [
      "x_sim    11199.9\n",
      "y_sim    5102.41\n",
      "z_sim    -845.93\n",
      "Name: 1820, dtype: object\n",
      "Vx_sim   -1.13099\n",
      "Vy_sim     5.8223\n",
      "Vz_sim   -3.25005\n",
      "Name: 1820, dtype: object\n"
     ]
    }
   ],
   "source": [
    "print(data.iloc[row+1,pos_sim_cols])\n",
    "print(data.iloc[row+1,vel_sim_cols])"
   ]
  },
  {
   "cell_type": "code",
   "execution_count": null,
   "metadata": {},
   "outputs": [],
   "source": []
  }
 ],
 "metadata": {
  "kernelspec": {
   "display_name": "IDAOenv",
   "language": "python",
   "name": "idaoenv"
  },
  "language_info": {
   "codemirror_mode": {
    "name": "ipython",
    "version": 3
   },
   "file_extension": ".py",
   "mimetype": "text/x-python",
   "name": "python",
   "nbconvert_exporter": "python",
   "pygments_lexer": "ipython3",
   "version": "3.7.3"
  }
 },
 "nbformat": 4,
 "nbformat_minor": 2
}
