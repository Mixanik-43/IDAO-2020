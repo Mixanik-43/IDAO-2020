{
 "cells": [
  {
   "cell_type": "code",
   "execution_count": 2,
   "metadata": {},
   "outputs": [],
   "source": [
    "from tqdm import tqdm\n",
    "import numpy as np\n",
    "import pandas as pd\n",
    "from scipy.interpolate import splrep, splev, InterpolatedUnivariateSpline\n",
    "import datetime as dt\n",
    "import matplotlib.pyplot as plt\n",
    "import json\n",
    "%matplotlib inline\n",
    "plt.rcParams.update({'font.size': 18})"
   ]
  },
  {
   "cell_type": "code",
   "execution_count": 161,
   "metadata": {},
   "outputs": [],
   "source": [
    "def smape(satellite_predicted_values, satellite_true_values):\n",
    "    # the division, addition and subtraction are pointwise\n",
    "    return np.mean(np.abs((satellite_predicted_values - satellite_true_values)/\n",
    "                (np.abs(satellite_predicted_values) + np.abs(satellite_true_values))))\n",
    "\n",
    "\n",
    "def drop_close(t, x, eps=10**9):\n",
    "    '''\n",
    "    t = time array, x = data array, eps is in nanoseconds\n",
    "    Returns entries in t,x with corresponding consecutive times > eps\n",
    "    \n",
    "    '''\n",
    "    t = np.array(t) #if not already np array, convert\n",
    "    x = np.array(x) #if t or x are pandas Series, will have dimension mismatch\n",
    "    far = np.concatenate([(t[1:] - t[:-1]) > eps, [True]])\n",
    "    return t[far], x[far]\n",
    "\n",
    "\n",
    "def resample(t, x, step=10 * 10**9, t_new=None, return_t=False):\n",
    "    '''\n",
    "    t: time array (or series); \n",
    "    x: data array (or series); \n",
    "    t_new: new time scale from start to end of t with step size step;\n",
    "    step: = 10 seconds by default; \n",
    "    return_t: by default, do not return resampled times\n",
    "    \n",
    "    resample time series or array by 10 (default) sec intervals and \n",
    "    return new time series (if t_new=True) and spline approximation series for data\n",
    "    \n",
    "    \n",
    "    '''\n",
    "    t, x = drop_close(t, x)\n",
    "    if t_new is None:\n",
    "        t_new = np.arange(t[0], t[-1], step)\n",
    "    try:\n",
    "        spl = splrep(t, x)\n",
    "        x_new = splev(t_new, spl)\n",
    "    except:\n",
    "        raise ValueError(f'interpolation error, x length = {len(x)}, \\\n",
    "        t_new length = {len(t_new)}')\n",
    "\n",
    "    return (t_new, x_new) if return_t else x_new\n",
    "\n",
    "\n",
    "def get_peaks(array):\n",
    "    '''\n",
    "    returns index of \"sharp\" peaks, excluding first and last values of array\n",
    "    \n",
    "    index of \"smooth peaks\", e.g. 1 2 3 9 9 3 2 1, is not returned\n",
    "    '''\n",
    "    return np.where((array[1:-1] > array[2:]) & (array[1:-1] > array[:-2]))[0] + 1\n",
    "\n",
    "\n",
    "def get_satellite_data(data, sat_id):\n",
    "    '''\n",
    "    returns all data for particular satellite by id\n",
    "    '''\n",
    "    return data[data['sat_id'] == sat_id].reset_index(drop=True)\n",
    "\n",
    "\n",
    "def remove_time_jumps(satellite_data, features_list=('x_sim', 'y_sim', 'z_sim', 'Vx_sim', 'Vy_sim', 'Vz_sim'),\n",
    "                      suffix='_jumps_removed',time_threshold = 0.00003):\n",
    "    #time_threshold 0.00003 sufficient for test and train\n",
    "    #time_threshold 0.00002 will throw errors\n",
    "    '''\n",
    "    removes time jumps in the simulation for a single satellite\n",
    "    for train and test data, sufficient to set time_threshold at default\n",
    "    '''\n",
    "    satellite_data['t'] = ((pd.to_datetime(satellite_data['epoch']) - pd.to_datetime(satellite_data['epoch'])[0]) /\n",
    "                           np.timedelta64(1, 'D')).astype(float)\n",
    "    satellite_data['dt'] = satellite_data['t'].diff()\n",
    "    # the most frequent time interval\n",
    "    t_standard = satellite_data['dt'].value_counts().index[0]\n",
    "\n",
    "    # time steps used for simulations\n",
    "    satellite_data['t_sim'] = satellite_data.index.values * t_standard\n",
    "\n",
    "    n = satellite_data.shape[0]\n",
    "    corrected_features = []\n",
    "    for feature_name in features_list:\n",
    "        corrected_feature = [0] * n\n",
    "        corrected_feature[0] = satellite_data[feature_name][0]\n",
    "\n",
    "        feature = satellite_data[feature_name]\n",
    "\n",
    "        for j in range(1, n - 1):\n",
    "            if satellite_data.t[j] < satellite_data.t_sim[j] - time_threshold:\n",
    "                # approximate by the left side\n",
    "    \n",
    "                # look for the interval\n",
    "                step = 0\n",
    "                while satellite_data.t[j] < satellite_data.t_sim[j - step] - time_threshold:\n",
    "                    step += 1\n",
    "                #             print(step)\n",
    "                corrected_feature[j] = feature[j - step] - (satellite_data.t_sim[j - step] - satellite_data.t[j]) / (\n",
    "                            satellite_data.t_sim[j - step] - satellite_data.t_sim[j - step - 1]) * (\n",
    "                                              feature[j - step] - feature[j - step - 1])\n",
    "            elif satellite_data.t[j] > satellite_data.t_sim[j] + time_threshold:\n",
    "                # approximate by the right side\n",
    "    \n",
    "                # look for the interval\n",
    "                step = 0\n",
    "                while satellite_data.t[j] > satellite_data.t_sim[j + step] + time_threshold:\n",
    "                    step += 1\n",
    "    \n",
    "                corrected_feature[j] = feature[j + step + 1] - (satellite_data.t_sim[j + step + 1] - satellite_data.t[j]) / (\n",
    "                            satellite_data.t_sim[j + step + 1] - satellite_data.t_sim[j + step]) * (\n",
    "                                              feature[j + step + 1] - feature[j + step])\n",
    "            else:\n",
    "                corrected_feature[j] = feature[j]\n",
    "    \n",
    "        corrected_feature[n - 1] = feature[n - 1] + corrected_feature[n - 2] - feature[n - 2]\n",
    "        corrected_features.append(corrected_feature)\n",
    "    return pd.DataFrame(corrected_features, index=[f + suffix for f in features_list]).T\n",
    "\n",
    "\n",
    "def insert_previous_and_shift(df,col_name,ind):\n",
    "    '''\n",
    "    input a data frame (df), column name (col_name), and index (ind)\n",
    "    insert previous value of df[col_name] at index and shift the rest \n",
    "    of df[col_name] from ind by +1;\n",
    "    This is used for remove_time_jumps_fast\n",
    "    '''\n",
    "    shifted_series = df[col_name].shift(1)\n",
    "    df[col_name].iloc[ind] = df[col_name].iloc[ind-1]\n",
    "    df[col_name].iloc[ind+1:] = shifted_series.iloc[ind+1:]\n",
    "    return df\n",
    "\n",
    "def remove_time_jumps_fast(data, features_list=\n",
    "                           ('x_sim', 'y_sim', 'z_sim', 'Vx_sim', 'Vy_sim', 'Vz_sim'),\n",
    "                           threshold = 0.000001):\n",
    "    #time_threshold 0.00003 sufficient for test and train\n",
    "    #time_threshold 0.00002 will throw errors\n",
    "    '''\n",
    "    removes time jumps in the simulation for a single satellite\n",
    "    for train and test data, sufficient to set time_threshold at default\n",
    "    s_data = satellite data\n",
    "    the features are replaced by the correction\n",
    "    note that threshold here is not the same as in remove_time_jumps\n",
    "    '''\n",
    "    if 't' not in data.columns:\n",
    "        data['t'] = ((pd.to_datetime(data['epoch']) - pd.to_datetime(data['epoch'])[0]) /\n",
    "                                   np.timedelta64(1, 'D')).astype(float)\n",
    "    data['dt'] = data['t'].diff(1)\n",
    "\n",
    "    index_for_correction = data[data['dt'] < threshold].index \n",
    "    #print(index_for_correction)\n",
    "    if list(index_for_correction): #if non empty\n",
    "        for feature in features_list:\n",
    "            for i in index_for_correction:\n",
    "                data = insert_previous_and_shift(data,feature,i)\n",
    "    return data\n",
    "\n",
    "def stretch_simulated_feats(data, stretch,true_feats = ['Vx','Vy','Vz'],\n",
    "                           suffix=\"_stretch\"):\n",
    "    '''\n",
    "    stretch time scale for simulation to better match true data,\n",
    "    for a single sattelite;\n",
    "    use predetermined stretch coefficient (depends on the satellite)\n",
    "    \n",
    "    '''\n",
    "    for feature in true_feats:\n",
    "        spl = splrep(stretch*data['t'],data[feature+'_sim'])\n",
    "        test_stretch = splev(data['t'], spl) #np array\n",
    "        data[feature+suffix] = test_stretch\n",
    "    \n",
    "    return data\n",
    "\n",
    "def amp_sim_feats(data, amp_stretch,true_feats = ['Vx','Vy','Vz'],\n",
    "                           suffix=\"_stretch_amp\"):\n",
    "    '''\n",
    "    vary amplitude for simulation to better match true data,\n",
    "    for a single sattelite;\n",
    "    use predetermined amp_stretch coefficient (depends on the satellite)\n",
    "    \n",
    "    '''\n",
    "    for feature in true_feats:\n",
    "        data[feature+suffix] = amp_stretch*data[feature+'_stretch']\n",
    "    \n",
    "    return data"
   ]
  },
  {
   "cell_type": "code",
   "execution_count": 6,
   "metadata": {},
   "outputs": [],
   "source": [
    "#!jupyter nbconvert --to script utils_edit_mb.ipynb"
   ]
  },
  {
   "cell_type": "code",
   "execution_count": 5,
   "metadata": {},
   "outputs": [],
   "source": [
    "s_data = pd.read_csv('./data/train.csv', index_col= 'id')"
   ]
  },
  {
   "cell_type": "code",
   "execution_count": 7,
   "metadata": {},
   "outputs": [],
   "source": [
    "s_data_test = pd.read_csv('./data/test.csv', index_col= 'id')"
   ]
  },
  {
   "cell_type": "code",
   "execution_count": 20,
   "metadata": {},
   "outputs": [],
   "source": [
    "s_track_1 = list(s_data_test['sat_id'].unique())\n",
    "s_track_2 = [k for k in range(600) if k not in s_track_1]"
   ]
  },
  {
   "cell_type": "code",
   "execution_count": 21,
   "metadata": {},
   "outputs": [],
   "source": [
    "data = get_satellite_data(s_data, 0)\n",
    "#data.tail()"
   ]
  },
  {
   "cell_type": "code",
   "execution_count": 22,
   "metadata": {},
   "outputs": [],
   "source": [
    "data_rtjf = remove_time_jumps_fast(data)\n",
    "#data_rtjf.tail()"
   ]
  },
  {
   "cell_type": "code",
   "execution_count": 12,
   "metadata": {},
   "outputs": [
    {
     "name": "stderr",
     "output_type": "stream",
     "text": [
      "100%|██████████| 600/600 [00:07<00:00, 83.42it/s] \n"
     ]
    }
   ],
   "source": [
    "#run for all satellites and print sat id if error occurs\n",
    "from tqdm import tqdm\n",
    "for i in tqdm(range(600)):\n",
    "    try:\n",
    "        remove_time_jumps_fast(get_satellite_data(s_data, i))\n",
    "    except:\n",
    "        print(i)"
   ]
  },
  {
   "cell_type": "code",
   "execution_count": 13,
   "metadata": {},
   "outputs": [
    {
     "data": {
      "image/png": "[encoded data removed]",
      "text/plain": [
       "<Figure size 1152x432 with 1 Axes>"
      ]
     },
     "metadata": {
      "needs_background": "light"
     },
     "output_type": "display_data"
    }
   ],
   "source": [
    "data = remove_time_jumps_fast(get_satellite_data(s_data, 4))\n",
    "plt.figure(figsize=(16, 6))\n",
    "plt.plot(data['t'],data['Vx'], label = 'true Vx');\n",
    "plt.plot(data['t'],data['Vx_sim'], label = 'simulated Vx');\n",
    "\n",
    "#plt.xlim([0,10])\n",
    "#plt.xlim([10,20])\n",
    "plt.xlim([20,30])\n",
    "plt.legend();"
   ]
  },
  {
   "cell_type": "markdown",
   "metadata": {},
   "source": [
    "## Explore time scale stretch for simulations\n",
    "\n",
    "The same stretch coefficient appears to work well for all dimensions"
   ]
  },
  {
   "cell_type": "code",
   "execution_count": 11,
   "metadata": {},
   "outputs": [],
   "source": [
    "true_feats = ['Vx','Vy','Vz']\n",
    "sim_feats = [f + '_sim' for f in true_feats]\n",
    "stretched_feats = [f+'_stretch' for f in true_feats]\n",
    "stretch_amp_feats = [f + '_amp' for f in stretched_feats]"
   ]
  },
  {
   "cell_type": "code",
   "execution_count": 12,
   "metadata": {},
   "outputs": [
    {
     "data": {
      "image/png": "[encoded data removed]",
      "text/plain": [
       "<Figure size 1152x432 with 1 Axes>"
      ]
     },
     "metadata": {
      "needs_background": "light"
     },
     "output_type": "display_data"
    }
   ],
   "source": [
    "data = remove_time_jumps_fast(get_satellite_data(s_data, 530))\n",
    "plt.figure(figsize=(16, 6))\n",
    "plt.plot(data['t'],data['Vz'], label = 'true Vx');\n",
    "plt.plot(1.03*data['t'],data['Vz_sim'], label = 'stretch Vx_sim');\n",
    "plt.plot(data['t'],data['Vz_sim'], label = 'Vx_sim');\n",
    "\n",
    "plt.xlim([0,10])\n",
    "#plt.xlim([10,20])\n",
    "plt.xlim([20,30])\n",
    "plt.legend();"
   ]
  },
  {
   "cell_type": "code",
   "execution_count": 13,
   "metadata": {},
   "outputs": [
    {
     "data": {
      "text/plain": [
       "0.2805457851994837"
      ]
     },
     "execution_count": 13,
     "metadata": {},
     "output_type": "execute_result"
    }
   ],
   "source": [
    "smape(data[true_feats].to_numpy(),data[sim_feats].to_numpy())"
   ]
  },
  {
   "cell_type": "code",
   "execution_count": 14,
   "metadata": {},
   "outputs": [
    {
     "data": {
      "text/plain": [
       "0.6869481884255387"
      ]
     },
     "execution_count": 14,
     "metadata": {},
     "output_type": "execute_result"
    }
   ],
   "source": [
    "data = stretch_simulated_feats(data,1.05)\n",
    "smape(data[true_feats].to_numpy(),data[stretched_feats].to_numpy())"
   ]
  },
  {
   "cell_type": "code",
   "execution_count": 19,
   "metadata": {},
   "outputs": [
    {
     "name": "stderr",
     "output_type": "stream",
     "text": [
      "100%|██████████| 600/600 [00:32<00:00, 18.56it/s]\n"
     ]
    }
   ],
   "source": [
    "stretch_dict = {}\n",
    "for sat in tqdm(s_data['sat_id'].unique()):\n",
    "    data = remove_time_jumps_fast(get_satellite_data(s_data, sat))\n",
    "    \n",
    "    stretch_list = []\n",
    "    for i in np.arange(0.98,1.02,0.005):\n",
    "        data = stretch_simulated_feats(data,i)\n",
    "        metric = smape(data[true_feats].to_numpy(),data[stretched_feats].to_numpy())\n",
    "        stretch_list.append((i,metric))\n",
    "        #print('i:',i)\n",
    "        #print('smape:',metric)\n",
    "    best = min(stretch_list, key = lambda t: t[1])\n",
    "    stretch_dict[sat] = best[0]"
   ]
  },
  {
   "cell_type": "code",
   "execution_count": 23,
   "metadata": {},
   "outputs": [],
   "source": [
    "extreme_stretch = {k for k,v in stretch_dict.items() if (v <= 0.98 or v >= 1.02)}"
   ]
  },
  {
   "cell_type": "code",
   "execution_count": 30,
   "metadata": {},
   "outputs": [],
   "source": [
    "for sat in extreme_stretch:\n",
    "    data = remove_time_jumps_fast(get_satellite_data(s_data, sat))\n",
    "    \n",
    "    stretch_list = []\n",
    "    for i in np.arange(0.94,1.06,0.005):\n",
    "        data = stretch_simulated_feats(data,i)\n",
    "        metric = smape(data[true_feats].to_numpy(),data[stretched_feats].to_numpy())\n",
    "        stretch_list.append((i,metric))\n",
    "        #print('i:',i)\n",
    "        #print('smape:',metric)\n",
    "    best = min(stretch_list, key = lambda t: t[1])\n",
    "    stretch_dict[sat] = best[0]"
   ]
  },
  {
   "cell_type": "code",
   "execution_count": 31,
   "metadata": {},
   "outputs": [
    {
     "name": "stdout",
     "output_type": "stream",
     "text": [
      "35 1.02\n",
      "260 1.02\n",
      "515 1.0550000000000002\n",
      "391 1.04\n",
      "140 1.02\n",
      "556 0.97\n",
      "277 0.975\n",
      "26 0.98\n",
      "252 0.95\n"
     ]
    }
   ],
   "source": [
    "for sat in extreme_stretch:\n",
    "    print(sat,stretch_dict[sat])"
   ]
  },
  {
   "cell_type": "code",
   "execution_count": 32,
   "metadata": {},
   "outputs": [],
   "source": [
    "stretch_dict = {int(k):v for k,v in stretch_dict.items()}\n",
    "\n",
    "#save stretch_dict\n",
    "import json\n",
    "with open('stretch_dict.txt', 'w') as file:\n",
    "    json.dump(stretch_dict, file)\n",
    "\n",
    "#with open('stretch_dict.txt', 'r') as file:\n",
    "#    stretch_dict = json.load(file)\n"
   ]
  },
  {
   "cell_type": "markdown",
   "metadata": {},
   "source": [
    "## Amplitude stretch"
   ]
  },
  {
   "cell_type": "code",
   "execution_count": 42,
   "metadata": {},
   "outputs": [
    {
     "data": {
      "text/plain": [
       "1.04"
      ]
     },
     "execution_count": 42,
     "metadata": {},
     "output_type": "execute_result"
    }
   ],
   "source": [
    "# satellite 391 needs amplitude stretched\n",
    "with open('stretch_dict.txt', 'r') as file:\n",
    "    stretch_dict = json.load(file) #keys as strings\n",
    "stretch_dict = {int(k) : v for k,v in stretch_dict.items()}\n",
    "stretch_dict[391]"
   ]
  },
  {
   "cell_type": "code",
   "execution_count": 47,
   "metadata": {},
   "outputs": [],
   "source": [
    "amp_dict = {dim: {} for dim in ['x','y','z']}\n",
    "for dim in ['x','y','z']:\n",
    "    for sat in s_data['sat_id'].unique():\n",
    "        amplitude_list = []\n",
    "        for i in np.arange(0.97,1.03,0.005):\n",
    "            data = stretch_simulated_feats(data,stretch_dict[sat])\n",
    "            data = amp_sim_feats(data,i)\n",
    "            metric = smape(data[true_feats].to_numpy(),data[stretch_amp_feats].to_numpy())\n",
    "            amplitude_list.append((i,metric))\n",
    "            #print('i:',i)\n",
    "            #print('smape:',metric)\n",
    "        best = min(amplitude_list, key = lambda t: t[1])\n",
    "        amp_dict[dim][sat] = best[0]"
   ]
  },
  {
   "cell_type": "code",
   "execution_count": 111,
   "metadata": {},
   "outputs": [
    {
     "data": {
      "text/plain": [
       "Index(['epoch', 'sat_id', 'x', 'y', 'z', 'Vx', 'Vy', 'Vz', 'x_sim', 'y_sim',\n",
       "       'z_sim', 'Vx_sim', 'Vy_sim', 'Vz_sim'],\n",
       "      dtype='object')"
      ]
     },
     "execution_count": 111,
     "metadata": {},
     "output_type": "execute_result"
    }
   ],
   "source": [
    "s_data.columns"
   ]
  },
  {
   "cell_type": "code",
   "execution_count": 124,
   "metadata": {},
   "outputs": [],
   "source": [
    "amp_dict = {dim: {} for dim in ['x','y','z']}\n",
    "for dim in ['x','y','z']:\n",
    "    for sat in range(600):\n",
    "        amplitude_list = []\n",
    "        for i in np.arange(0.9,1.1,0.01):\n",
    "            data = get_satellite_data(s_data,sat)\n",
    "            data['t'] = ((pd.to_datetime(data['epoch']) - pd.to_datetime(data['epoch'])[0]) /\n",
    "                                np.timedelta64(1, 'D')).astype(float)\n",
    "            data = stretch_simulated_feats(data,stretch_dict[sat])\n",
    "            data = amp_sim_feats(data,i)\n",
    "            metric = smape(data['V{}'.format(dim)].to_numpy(),data['V{}_stretch_amp'.format(dim)].to_numpy())\n",
    "            amplitude_list.append((i,metric))\n",
    "            #print('i:',i)\n",
    "            #print('smape:',metric)\n",
    "        best = min(amplitude_list, key = lambda t: t[1])\n",
    "        amp_dict[dim][sat] = best[0]"
   ]
  },
  {
   "cell_type": "code",
   "execution_count": 133,
   "metadata": {},
   "outputs": [
    {
     "data": {
      "text/plain": [
       "{'x': [26, 115, 277, 310, 442, 572],\n",
       " 'y': [26,\n",
       "  162,\n",
       "  164,\n",
       "  249,\n",
       "  277,\n",
       "  301,\n",
       "  353,\n",
       "  404,\n",
       "  442,\n",
       "  459,\n",
       "  490,\n",
       "  511,\n",
       "  515,\n",
       "  517,\n",
       "  572],\n",
       " 'z': [26,\n",
       "  28,\n",
       "  37,\n",
       "  104,\n",
       "  109,\n",
       "  179,\n",
       "  209,\n",
       "  244,\n",
       "  248,\n",
       "  277,\n",
       "  322,\n",
       "  396,\n",
       "  455,\n",
       "  481,\n",
       "  515,\n",
       "  530,\n",
       "  556,\n",
       "  572]}"
      ]
     },
     "execution_count": 133,
     "metadata": {},
     "output_type": "execute_result"
    }
   ],
   "source": [
    "extreme_amp = {}\n",
    "for dim in ['x','y','z']:\n",
    "    extreme_amp[dim] = [k for k,v in amp_dict[dim].items() if (v <= 0.9 or v >= 1.1)]\n",
    "extreme_amp"
   ]
  },
  {
   "cell_type": "code",
   "execution_count": 134,
   "metadata": {},
   "outputs": [],
   "source": [
    "for dim in ['x','y','z']:\n",
    "    for sat in extreme_amp[dim]:\n",
    "        amplitude_list = []\n",
    "        for i in np.arange(0.1,1.9,0.05):\n",
    "            data = get_satellite_data(s_data,sat)\n",
    "            data['t'] = ((pd.to_datetime(data['epoch']) - pd.to_datetime(data['epoch'])[0]) /\n",
    "                                np.timedelta64(1, 'D')).astype(float)\n",
    "            data = stretch_simulated_feats(data,stretch_dict[sat])\n",
    "            data = amp_sim_feats(data,i)\n",
    "            metric = smape(data['V{}'.format(dim)].to_numpy(),data['V{}_stretch_amp'.format(dim)].to_numpy())\n",
    "            amplitude_list.append((i,metric))\n",
    "            #print('i:',i)\n",
    "            #print('smape:',metric)\n",
    "        best = min(amplitude_list, key = lambda t: t[1])\n",
    "        amp_dict[dim][sat] = best[0]"
   ]
  },
  {
   "cell_type": "code",
   "execution_count": 136,
   "metadata": {},
   "outputs": [
    {
     "data": {
      "text/plain": [
       "{'x': [], 'y': [], 'z': []}"
      ]
     },
     "execution_count": 136,
     "metadata": {},
     "output_type": "execute_result"
    }
   ],
   "source": [
    "extreme_amp2 = {}\n",
    "for dim in ['x','y','z']:\n",
    "    extreme_amp2[dim] = [k for k,v in amp_dict[dim].items() if (v <= 0.1 or v >= 1.9)]\n",
    "extreme_amp2"
   ]
  },
  {
   "cell_type": "code",
   "execution_count": 137,
   "metadata": {},
   "outputs": [],
   "source": [
    "for dim in ['x','y','z']:\n",
    "    amp_dict[dim] = {int(k):v for k,v in amp_dict[dim].items()}\n",
    "#save stretch_dict\n",
    "import json\n",
    "with open('amp_dict.txt', 'w') as file:\n",
    "    json.dump(amp_dict, file)\n",
    "\n",
    "#with open('amp_dict.txt', 'r') as file:\n",
    "#    amp_dict = json.load(file)\n"
   ]
  },
  {
   "cell_type": "markdown",
   "metadata": {},
   "source": [
    "### Transform test data (track 1)\n",
    "1. Remove time jumps\n",
    "2. Stretch (horizontal)\n",
    "3. Stretch amplitude (vertical) for each dimension"
   ]
  },
  {
   "cell_type": "code",
   "execution_count": 182,
   "metadata": {},
   "outputs": [
    {
     "data": {
      "text/plain": [
       "Index(['sat_id', 'epoch', 'x_sim', 'y_sim', 'z_sim', 'Vx_sim', 'Vy_sim',\n",
       "       'Vz_sim', 't'],\n",
       "      dtype='object')"
      ]
     },
     "execution_count": 182,
     "metadata": {},
     "output_type": "execute_result"
    }
   ],
   "source": [
    "s_data_test = pd.read_csv('./data/test.csv', index_col= 'id')\n",
    "s_data_test['t'] = ((pd.to_datetime(s_data_test['epoch']) - pd.to_datetime(data['epoch'])[0]) /\n",
    "                                np.timedelta64(1, 'D')).astype(float)\n",
    "s_data_test.columns"
   ]
  },
  {
   "cell_type": "code",
   "execution_count": 183,
   "metadata": {},
   "outputs": [],
   "source": [
    "df_list = [get_satellite_data(s_data_test,i) for i in s_track_1]"
   ]
  },
  {
   "cell_type": "code",
   "execution_count": 184,
   "metadata": {},
   "outputs": [],
   "source": [
    "#remove time jumps\n",
    "for df in df_list:\n",
    "    df = remove_time_jumps_fast(df)"
   ]
  },
  {
   "cell_type": "code",
   "execution_count": 185,
   "metadata": {},
   "outputs": [],
   "source": [
    "#horizontal stretch\n",
    "for df in df_list:\n",
    "    df = stretch_simulated_feats(df,stretch_dict[int(df['sat_id'].unique())])"
   ]
  },
  {
   "cell_type": "code",
   "execution_count": 186,
   "metadata": {},
   "outputs": [],
   "source": [
    "#amplitude stretch\n",
    "for df in df_list:\n",
    "    for dim in ['x','y','z']:\n",
    "        amp = amp_dict[dim][int(df['sat_id'].unique())]\n",
    "        df['V{}'.format(dim)] = amp*df['V{}_stretch'.format(dim)]\n",
    "        \n",
    "#predicted velocities "
   ]
  },
  {
   "cell_type": "code",
   "execution_count": 228,
   "metadata": {},
   "outputs": [],
   "source": [
    "#predict coordinates using equation of motion\n",
    "for df in df_list:\n",
    "    for dim in ['x','y','z']:      \n",
    "        df[dim] = np.nan\n",
    "        x1 = df.iloc[1,df.columns.get_loc('{}_sim'.format(dim))]\n",
    "        #print(x1)\n",
    "        x0 = df.iloc[0,df.columns.get_loc('{}_sim'.format(dim))]\n",
    "        #print(x0)\n",
    "        v1 = df.iloc[1,df.columns.get_loc('V{}'.format(dim))]\n",
    "        #print(v1)\n",
    "        v0 = df.iloc[0,df.columns.get_loc('V{}'.format(dim))]\n",
    "        #print(v0)\n",
    "        df.iloc[0, df.columns.get_loc(dim)] = x0\n",
    "        df.iloc[1, df.columns.get_loc(dim)] = x1-x0\n",
    "        alpha = (x1-x0)/(v1+v0)\n",
    "        df[dim+'_diff'] = alpha*df['V{}'.format(dim)].diff()\n",
    "        a, a_diff = df[dim].iloc[0], df[dim+'_diff'].iloc[1:]\n",
    "        df[dim] = np.r_[a, a_diff].cumsum()"
   ]
  },
  {
   "cell_type": "code",
   "execution_count": 230,
   "metadata": {},
   "outputs": [
    {
     "name": "stderr",
     "output_type": "stream",
     "text": [
      "/anaconda3/lib/python3.7/site-packages/ipykernel_launcher.py:1: FutureWarning: Sorting because non-concatenation axis is not aligned. A future version\n",
      "of pandas will change to not sort by default.\n",
      "\n",
      "To accept the future behavior, pass 'sort=False'.\n",
      "\n",
      "To retain the current behavior and silence the warning, pass 'sort=True'.\n",
      "\n",
      "  \"\"\"Entry point for launching an IPython kernel.\n"
     ]
    }
   ],
   "source": [
    "submission = pd.concat(df_list)\n",
    "submission_columns = ['x','y','z','Vx','Vy','Vz']\n",
    "submission = submission[submission_columns]"
   ]
  },
  {
   "cell_type": "code",
   "execution_count": 231,
   "metadata": {},
   "outputs": [],
   "source": [
    "submission = submission.set_index(s_data_test.index)"
   ]
  },
  {
   "cell_type": "code",
   "execution_count": 232,
   "metadata": {},
   "outputs": [
    {
     "data": {
      "text/html": [
       "<div>\n",
       "<style scoped>\n",
       "    .dataframe tbody tr th:only-of-type {\n",
       "        vertical-align: middle;\n",
       "    }\n",
       "\n",
       "    .dataframe tbody tr th {\n",
       "        vertical-align: top;\n",
       "    }\n",
       "\n",
       "    .dataframe thead th {\n",
       "        text-align: right;\n",
       "    }\n",
       "</style>\n",
       "<table border=\"1\" class=\"dataframe\">\n",
       "  <thead>\n",
       "    <tr style=\"text-align: right;\">\n",
       "      <th></th>\n",
       "      <th>x</th>\n",
       "      <th>y</th>\n",
       "      <th>z</th>\n",
       "      <th>Vx</th>\n",
       "      <th>Vy</th>\n",
       "      <th>Vz</th>\n",
       "    </tr>\n",
       "    <tr>\n",
       "      <th>id</th>\n",
       "      <th></th>\n",
       "      <th></th>\n",
       "      <th></th>\n",
       "      <th></th>\n",
       "      <th></th>\n",
       "      <th></th>\n",
       "    </tr>\n",
       "  </thead>\n",
       "  <tbody>\n",
       "    <tr>\n",
       "      <th>3927</th>\n",
       "      <td>-13366.891347</td>\n",
       "      <td>-14236.753503</td>\n",
       "      <td>6386.774555</td>\n",
       "      <td>4.333815</td>\n",
       "      <td>-0.651198</td>\n",
       "      <td>0.826990</td>\n",
       "    </tr>\n",
       "    <tr>\n",
       "      <th>3928</th>\n",
       "      <td>-12893.100705</td>\n",
       "      <td>-13405.808443</td>\n",
       "      <td>6057.765264</td>\n",
       "      <td>5.077413</td>\n",
       "      <td>0.338972</td>\n",
       "      <td>0.319670</td>\n",
       "    </tr>\n",
       "    <tr>\n",
       "      <th>3929</th>\n",
       "      <td>-12611.671463</td>\n",
       "      <td>-12102.466496</td>\n",
       "      <td>5493.632956</td>\n",
       "      <td>5.519106</td>\n",
       "      <td>1.892060</td>\n",
       "      <td>-0.550201</td>\n",
       "    </tr>\n",
       "    <tr>\n",
       "      <th>3930</th>\n",
       "      <td>-13038.500953</td>\n",
       "      <td>-10267.520122</td>\n",
       "      <td>4613.720861</td>\n",
       "      <td>4.849212</td>\n",
       "      <td>4.078618</td>\n",
       "      <td>-1.906992</td>\n",
       "    </tr>\n",
       "    <tr>\n",
       "      <th>3931</th>\n",
       "      <td>-14891.812950</td>\n",
       "      <td>-8805.060021</td>\n",
       "      <td>3755.018231</td>\n",
       "      <td>1.940505</td>\n",
       "      <td>5.821314</td>\n",
       "      <td>-3.231079</td>\n",
       "    </tr>\n",
       "    <tr>\n",
       "      <th>3932</th>\n",
       "      <td>-17213.773313</td>\n",
       "      <td>-9209.261233</td>\n",
       "      <td>3697.668963</td>\n",
       "      <td>-1.703730</td>\n",
       "      <td>5.339660</td>\n",
       "      <td>-3.319509</td>\n",
       "    </tr>\n",
       "    <tr>\n",
       "      <th>3933</th>\n",
       "      <td>-18458.493678</td>\n",
       "      <td>-10615.442187</td>\n",
       "      <td>4208.618541</td>\n",
       "      <td>-3.657275</td>\n",
       "      <td>3.664027</td>\n",
       "      <td>-2.531644</td>\n",
       "    </tr>\n",
       "    <tr>\n",
       "      <th>3934</th>\n",
       "      <td>-18831.254168</td>\n",
       "      <td>-11892.012863</td>\n",
       "      <td>4751.167260</td>\n",
       "      <td>-4.242309</td>\n",
       "      <td>2.142841</td>\n",
       "      <td>-1.695055</td>\n",
       "    </tr>\n",
       "    <tr>\n",
       "      <th>3935</th>\n",
       "      <td>-18811.579916</td>\n",
       "      <td>-12846.770464</td>\n",
       "      <td>5187.951830</td>\n",
       "      <td>-4.211431</td>\n",
       "      <td>1.005133</td>\n",
       "      <td>-1.021549</td>\n",
       "    </tr>\n",
       "    <tr>\n",
       "      <th>3936</th>\n",
       "      <td>-18630.362232</td>\n",
       "      <td>-13548.231474</td>\n",
       "      <td>5526.180038</td>\n",
       "      <td>-3.927017</td>\n",
       "      <td>0.169258</td>\n",
       "      <td>-0.500014</td>\n",
       "    </tr>\n",
       "  </tbody>\n",
       "</table>\n",
       "</div>"
      ],
      "text/plain": [
       "                 x             y            z        Vx        Vy        Vz\n",
       "id                                                                         \n",
       "3927 -13366.891347 -14236.753503  6386.774555  4.333815 -0.651198  0.826990\n",
       "3928 -12893.100705 -13405.808443  6057.765264  5.077413  0.338972  0.319670\n",
       "3929 -12611.671463 -12102.466496  5493.632956  5.519106  1.892060 -0.550201\n",
       "3930 -13038.500953 -10267.520122  4613.720861  4.849212  4.078618 -1.906992\n",
       "3931 -14891.812950  -8805.060021  3755.018231  1.940505  5.821314 -3.231079\n",
       "3932 -17213.773313  -9209.261233  3697.668963 -1.703730  5.339660 -3.319509\n",
       "3933 -18458.493678 -10615.442187  4208.618541 -3.657275  3.664027 -2.531644\n",
       "3934 -18831.254168 -11892.012863  4751.167260 -4.242309  2.142841 -1.695055\n",
       "3935 -18811.579916 -12846.770464  5187.951830 -4.211431  1.005133 -1.021549\n",
       "3936 -18630.362232 -13548.231474  5526.180038 -3.927017  0.169258 -0.500014"
      ]
     },
     "execution_count": 232,
     "metadata": {},
     "output_type": "execute_result"
    }
   ],
   "source": [
    "submission.head(10)"
   ]
  },
  {
   "cell_type": "code",
   "execution_count": 233,
   "metadata": {},
   "outputs": [],
   "source": [
    "submission.to_csv(\"sub_baseline.csv\",index=True)"
   ]
  },
  {
   "cell_type": "code",
   "execution_count": 234,
   "metadata": {},
   "outputs": [
    {
     "data": {
      "text/html": [
       "<div>\n",
       "<style scoped>\n",
       "    .dataframe tbody tr th:only-of-type {\n",
       "        vertical-align: middle;\n",
       "    }\n",
       "\n",
       "    .dataframe tbody tr th {\n",
       "        vertical-align: top;\n",
       "    }\n",
       "\n",
       "    .dataframe thead th {\n",
       "        text-align: right;\n",
       "    }\n",
       "</style>\n",
       "<table border=\"1\" class=\"dataframe\">\n",
       "  <thead>\n",
       "    <tr style=\"text-align: right;\">\n",
       "      <th></th>\n",
       "      <th>x</th>\n",
       "      <th>y</th>\n",
       "      <th>z</th>\n",
       "      <th>Vx</th>\n",
       "      <th>Vy</th>\n",
       "      <th>Vz</th>\n",
       "    </tr>\n",
       "    <tr>\n",
       "      <th>id</th>\n",
       "      <th></th>\n",
       "      <th></th>\n",
       "      <th></th>\n",
       "      <th></th>\n",
       "      <th></th>\n",
       "      <th></th>\n",
       "    </tr>\n",
       "  </thead>\n",
       "  <tbody>\n",
       "    <tr>\n",
       "      <th>3927</th>\n",
       "      <td>-13366.891347</td>\n",
       "      <td>-14236.753503</td>\n",
       "      <td>6386.774555</td>\n",
       "      <td>4.333815</td>\n",
       "      <td>-0.651198</td>\n",
       "      <td>0.826990</td>\n",
       "    </tr>\n",
       "    <tr>\n",
       "      <th>3928</th>\n",
       "      <td>-12893.100705</td>\n",
       "      <td>-13405.808443</td>\n",
       "      <td>6057.765264</td>\n",
       "      <td>5.077413</td>\n",
       "      <td>0.338972</td>\n",
       "      <td>0.319670</td>\n",
       "    </tr>\n",
       "    <tr>\n",
       "      <th>3929</th>\n",
       "      <td>-12611.671463</td>\n",
       "      <td>-12102.466496</td>\n",
       "      <td>5493.632956</td>\n",
       "      <td>5.519106</td>\n",
       "      <td>1.892060</td>\n",
       "      <td>-0.550201</td>\n",
       "    </tr>\n",
       "    <tr>\n",
       "      <th>3930</th>\n",
       "      <td>-13038.500953</td>\n",
       "      <td>-10267.520122</td>\n",
       "      <td>4613.720861</td>\n",
       "      <td>4.849212</td>\n",
       "      <td>4.078618</td>\n",
       "      <td>-1.906992</td>\n",
       "    </tr>\n",
       "    <tr>\n",
       "      <th>3931</th>\n",
       "      <td>-14891.812950</td>\n",
       "      <td>-8805.060021</td>\n",
       "      <td>3755.018231</td>\n",
       "      <td>1.940505</td>\n",
       "      <td>5.821314</td>\n",
       "      <td>-3.231079</td>\n",
       "    </tr>\n",
       "  </tbody>\n",
       "</table>\n",
       "</div>"
      ],
      "text/plain": [
       "                 x             y            z        Vx        Vy        Vz\n",
       "id                                                                         \n",
       "3927 -13366.891347 -14236.753503  6386.774555  4.333815 -0.651198  0.826990\n",
       "3928 -12893.100705 -13405.808443  6057.765264  5.077413  0.338972  0.319670\n",
       "3929 -12611.671463 -12102.466496  5493.632956  5.519106  1.892060 -0.550201\n",
       "3930 -13038.500953 -10267.520122  4613.720861  4.849212  4.078618 -1.906992\n",
       "3931 -14891.812950  -8805.060021  3755.018231  1.940505  5.821314 -3.231079"
      ]
     },
     "execution_count": 234,
     "metadata": {},
     "output_type": "execute_result"
    }
   ],
   "source": [
    "sub_baseline = pd.read_csv('sub_baseline.csv',index_col='id')\n",
    "sub_baseline.head()"
   ]
  },
  {
   "cell_type": "code",
   "execution_count": 147,
   "metadata": {},
   "outputs": [
    {
     "data": {
      "text/html": [
       "<div>\n",
       "<style scoped>\n",
       "    .dataframe tbody tr th:only-of-type {\n",
       "        vertical-align: middle;\n",
       "    }\n",
       "\n",
       "    .dataframe tbody tr th {\n",
       "        vertical-align: top;\n",
       "    }\n",
       "\n",
       "    .dataframe thead th {\n",
       "        text-align: right;\n",
       "    }\n",
       "</style>\n",
       "<table border=\"1\" class=\"dataframe\">\n",
       "  <thead>\n",
       "    <tr style=\"text-align: right;\">\n",
       "      <th></th>\n",
       "      <th>x</th>\n",
       "      <th>y</th>\n",
       "      <th>z</th>\n",
       "      <th>Vx</th>\n",
       "      <th>Vy</th>\n",
       "      <th>Vz</th>\n",
       "    </tr>\n",
       "    <tr>\n",
       "      <th>id</th>\n",
       "      <th></th>\n",
       "      <th></th>\n",
       "      <th></th>\n",
       "      <th></th>\n",
       "      <th></th>\n",
       "      <th></th>\n",
       "    </tr>\n",
       "  </thead>\n",
       "  <tbody>\n",
       "    <tr>\n",
       "      <th>3927</th>\n",
       "      <td>-13366.891347</td>\n",
       "      <td>-14236.753503</td>\n",
       "      <td>6386.774555</td>\n",
       "      <td>4.333815</td>\n",
       "      <td>-0.692764</td>\n",
       "      <td>0.810774</td>\n",
       "    </tr>\n",
       "    <tr>\n",
       "      <th>3928</th>\n",
       "      <td>-7370.434039</td>\n",
       "      <td>-14498.771520</td>\n",
       "      <td>7130.411325</td>\n",
       "      <td>5.077413</td>\n",
       "      <td>0.360609</td>\n",
       "      <td>0.313402</td>\n",
       "    </tr>\n",
       "    <tr>\n",
       "      <th>3929</th>\n",
       "      <td>-572.068654</td>\n",
       "      <td>-13065.289498</td>\n",
       "      <td>7033.794876</td>\n",
       "      <td>5.519106</td>\n",
       "      <td>2.012830</td>\n",
       "      <td>-0.539412</td>\n",
       "    </tr>\n",
       "    <tr>\n",
       "      <th>3930</th>\n",
       "      <td>6208.945257</td>\n",
       "      <td>-9076.852425</td>\n",
       "      <td>5548.296900</td>\n",
       "      <td>4.849212</td>\n",
       "      <td>4.338955</td>\n",
       "      <td>-1.869600</td>\n",
       "    </tr>\n",
       "    <tr>\n",
       "      <th>3931</th>\n",
       "      <td>10768.200284</td>\n",
       "      <td>-2199.706707</td>\n",
       "      <td>2272.014862</td>\n",
       "      <td>1.940505</td>\n",
       "      <td>6.192887</td>\n",
       "      <td>-3.167724</td>\n",
       "    </tr>\n",
       "  </tbody>\n",
       "</table>\n",
       "</div>"
      ],
      "text/plain": [
       "                 x             y            z        Vx        Vy        Vz\n",
       "id                                                                         \n",
       "3927 -13366.891347 -14236.753503  6386.774555  4.333815 -0.692764  0.810774\n",
       "3928  -7370.434039 -14498.771520  7130.411325  5.077413  0.360609  0.313402\n",
       "3929   -572.068654 -13065.289498  7033.794876  5.519106  2.012830 -0.539412\n",
       "3930   6208.945257  -9076.852425  5548.296900  4.849212  4.338955 -1.869600\n",
       "3931  10768.200284  -2199.706707  2272.014862  1.940505  6.192887 -3.167724"
      ]
     },
     "execution_count": 147,
     "metadata": {},
     "output_type": "execute_result"
    }
   ],
   "source": [
    "#sample submission\n",
    "\n",
    "sub = pd.read_csv('./data/submission.csv', index_col= 'id')\n",
    "sub.head()"
   ]
  },
  {
   "cell_type": "code",
   "execution_count": null,
   "metadata": {},
   "outputs": [],
   "source": []
  },
  {
   "cell_type": "markdown",
   "metadata": {},
   "source": [
    "## Finding peaks and valleys (max/min)\n",
    "\n",
    "Find zeros first, subdivide time by zeros of velocity, then max or min for each interval."
   ]
  },
  {
   "cell_type": "code",
   "execution_count": 71,
   "metadata": {},
   "outputs": [
    {
     "data": {
      "text/plain": [
       "array([ 0.04993235,  0.5367329 ,  0.83759385,  1.32500676,  1.62602085,\n",
       "        2.11325585,  2.4144107 ,  2.90147985,  3.20272896,  3.689679  ,\n",
       "        3.99094656,  4.47785088,  4.77905078,  5.2659962 ,  5.56704375,\n",
       "        6.05411324,  6.35494374,  6.84219946,  7.14278215,  7.63025133,\n",
       "        7.93060383,  8.41826579,  8.71845366,  9.20623962,  9.50638048,\n",
       "        9.99416953, 10.29443332, 10.78205353, 11.08265393, 11.56988842,\n",
       "       11.87105366, 12.35767223, 12.65959719, 13.14540383, 13.44819628,\n",
       "       13.93308451, 14.23673928, 14.7207117 , 15.02512225, 15.50828502,\n",
       "       15.81328628, 16.29580423, 16.60121112, 17.08326901, 17.38890591,\n",
       "       17.87067739, 18.17639221, 18.65803053, 18.96369758, 19.44532645,\n",
       "       19.75085045, 20.23256344, 20.53787779, 21.01973874, 21.32480998,\n",
       "       21.80685046, 22.11167698, 22.59389577, 22.89851129, 23.38086963,\n",
       "       23.68534566, 24.16776858, 24.47221444, 24.95458745, 25.25915438,\n",
       "       25.74132252, 26.04620442, 26.52797372, 26.83341544, 27.31452645,\n",
       "       27.62083765, 28.10083843, 28.40807411, 28.88671691, 29.19464076,\n",
       "       29.67204122, 29.98013357, 30.45670081, 30.76454345])"
      ]
     },
     "execution_count": 71,
     "metadata": {},
     "output_type": "execute_result"
    }
   ],
   "source": [
    "#Find zeros:\n",
    "t = data['t']\n",
    "x = data['Vx']\n",
    "spl = InterpolatedUnivariateSpline(t, x)\n",
    "spl.roots()"
   ]
  },
  {
   "cell_type": "code",
   "execution_count": null,
   "metadata": {},
   "outputs": [],
   "source": []
  },
  {
   "cell_type": "code",
   "execution_count": null,
   "metadata": {},
   "outputs": [],
   "source": []
  },
  {
   "cell_type": "code",
   "execution_count": 49,
   "metadata": {},
   "outputs": [],
   "source": [
    "def best_stretch_coefficient(data, threshold = 0.05, iterations = 100,\n",
    "                            true_feats = ['x','y','z','Vx','Vy','Vz']):\n",
    "    '''\n",
    "    find stretch coefficient that yields best smape for given satellite\n",
    "    iterations: max number of iterations\n",
    "    \n",
    "    '''\n",
    "    "
   ]
  }
 ],
 "metadata": {
  "kernelspec": {
   "display_name": "IDAOenv",
   "language": "python",
   "name": "idaoenv"
  },
  "language_info": {
   "codemirror_mode": {
    "name": "ipython",
    "version": 3
   },
   "file_extension": ".py",
   "mimetype": "text/x-python",
   "name": "python",
   "nbconvert_exporter": "python",
   "pygments_lexer": "ipython3",
   "version": "3.7.3"
  }
 },
 "nbformat": 4,
 "nbformat_minor": 2
}
