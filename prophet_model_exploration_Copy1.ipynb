{
 "cells": [
  {
   "cell_type": "code",
   "execution_count": null,
   "metadata": {
    "colab": {},
    "colab_type": "code",
    "id": "VXyqz1FjJE6W"
   },
   "outputs": [],
   "source": [
    "from tqdm import tqdm\n",
    "import numpy as np\n",
    "import pandas as pd\n",
    "from scipy.interpolate import splrep, splev\n",
    "import datetime as dt\n",
    "import matplotlib.pyplot as plt\n",
    "from fbprophet import Prophet\n",
    "from scipy.interpolate import InterpolatedUnivariateSpline\n",
    "%matplotlib inline\n",
    "plt.rcParams.update({'font.size': 18})"
   ]
  },
  {
   "cell_type": "code",
   "execution_count": 2,
   "metadata": {
    "colab": {},
    "colab_type": "code",
    "id": "NWYkckHCJE6l"
   },
   "outputs": [],
   "source": [
    "def smape(satellite_predicted_values, satellite_true_values):\n",
    "    # the division, addition and subtraction are pointwise\n",
    "    return np.mean(np.abs((satellite_predicted_values - satellite_true_values)/\n",
    "                (np.abs(satellite_predicted_values) + np.abs(satellite_true_values))))\n",
    "\n",
    "\n",
    "def drop_close(t, x, eps=10**9):\n",
    "    '''\n",
    "    t = time array, x = data array, eps is in nanoseconds\n",
    "    Returns entries in t,x with corresponding consecutive times > eps\n",
    "    \n",
    "    '''\n",
    "    t = np.array(t) #if not already np array, convert\n",
    "    x = np.array(x) #if t or x are pandas Series, will have dimension mismatch\n",
    "    far = np.concatenate([(t[1:] - t[:-1]) > eps, [True]])\n",
    "    return t[far], x[far]\n",
    "\n",
    "\n",
    "def resample(t, x, step=10 * 10**9, t_new=None, return_t=False):\n",
    "    '''\n",
    "    t: time array (or series); \n",
    "    x: data array (or series); \n",
    "    t_new: new time scale from start to end of t with step size step;\n",
    "    step: = 10 seconds by default; \n",
    "    return_t: by default, do not return resampled times\n",
    "    \n",
    "    resample time series or array by 10 (default) sec intervals and \n",
    "    return new time series (if t_new=True) and spline approximation series for data\n",
    "    \n",
    "    \n",
    "    '''\n",
    "    t, x = drop_close(t, x)\n",
    "    if t_new is None:\n",
    "        t_new = np.arange(t[0], t[-1], step)\n",
    "    try:\n",
    "        spl = splrep(t, x)\n",
    "        x_new = splev(t_new, spl)\n",
    "    except:\n",
    "        raise ValueError(f'interpolation error, x length = {len(x)}, \\\n",
    "        t_new length = {len(t_new)}')\n",
    "\n",
    "    return (t_new, x_new) if return_t else x_new\n",
    "\n",
    "\n",
    "def get_peaks(array):\n",
    "    '''\n",
    "    returns index of \"sharp\" peaks, excluding first and last values of array\n",
    "    \n",
    "    index of \"smooth peaks\", e.g. 1 2 3 9 9 3 2 1, is not returned\n",
    "    '''\n",
    "    return np.where((array[1:-1] > array[2:]) & (array[1:-1] > array[:-2]))[0] + 1\n",
    "\n",
    "\n",
    "def get_satellite_data(data, sat_id):\n",
    "    '''\n",
    "    returns all data for particular satellite by id\n",
    "    '''\n",
    "    return data[data['sat_id'] == sat_id]\n",
    "\n",
    "\n",
    "def remove_time_jumps(satellite_data, features_list=('x_sim', 'y_sim', 'z_sim', 'Vx_sim', 'Vy_sim', 'Vz_sim'),\n",
    "                      suffix='_jumps_removed',time_threshold = 0.00003):\n",
    "    #time_threshold 0.00003 sufficient for test and train\n",
    "    #time_threshold 0.00002 will throw errors\n",
    "    '''\n",
    "    removes time jumps in the simulation for a single satellite\n",
    "    for train and test data, sufficient to set time_threshold at default\n",
    "    '''\n",
    "    satellite_data['t'] = ((pd.to_datetime(satellite_data['epoch']) - pd.to_datetime(satellite_data['epoch'])[0]) /\n",
    "                           np.timedelta64(1, 'D')).astype(float)\n",
    "    satellite_data['dt'] = satellite_data['t'].diff()\n",
    "    # the most frequent time interval\n",
    "    t_standard = satellite_data['dt'].value_counts().index[0]\n",
    "\n",
    "    # time steps used for simulations\n",
    "    satellite_data['t_sim'] = satellite_data.index.values * t_standard\n",
    "\n",
    "    n = satellite_data.shape[0]\n",
    "    corrected_features = []\n",
    "    for feature_name in features_list:\n",
    "        corrected_feature = [0] * n\n",
    "        corrected_feature[0] = satellite_data[feature_name][0]\n",
    "\n",
    "        feature = satellite_data[feature_name]\n",
    "\n",
    "        for j in range(1, n - 1):\n",
    "            if satellite_data.t[j] < satellite_data.t_sim[j] - time_threshold:\n",
    "                # approximate by the left side\n",
    "    \n",
    "                # look for the interval\n",
    "                step = 0\n",
    "                while satellite_data.t[j] < satellite_data.t_sim[j - step] - time_threshold:\n",
    "                    step += 1\n",
    "                #             print(step)\n",
    "                corrected_feature[j] = feature[j - step] - (satellite_data.t_sim[j - step] - satellite_data.t[j]) / (\n",
    "                            satellite_data.t_sim[j - step] - satellite_data.t_sim[j - step - 1]) * (\n",
    "                                              feature[j - step] - feature[j - step - 1])\n",
    "            elif satellite_data.t[j] > satellite_data.t_sim[j] + time_threshold:\n",
    "                # approximate by the right side\n",
    "    \n",
    "                # look for the interval\n",
    "                step = 0\n",
    "                while satellite_data.t[j] > satellite_data.t_sim[j + step] + time_threshold:\n",
    "                    step += 1\n",
    "    \n",
    "                corrected_feature[j] = feature[j + step + 1] - (satellite_data.t_sim[j + step + 1] - satellite_data.t[j]) / (\n",
    "                            satellite_data.t_sim[j + step + 1] - satellite_data.t_sim[j + step]) * (\n",
    "                                              feature[j + step + 1] - feature[j + step])\n",
    "            else:\n",
    "                corrected_feature[j] = feature[j]\n",
    "    \n",
    "        corrected_feature[n - 1] = feature[n - 1] + corrected_feature[n - 2] - feature[n - 2]\n",
    "        corrected_features.append(corrected_feature)\n",
    "    return pd.DataFrame(corrected_features, index=[f + suffix for f in features_list]).T"
   ]
  },
  {
   "cell_type": "code",
   "execution_count": 3,
   "metadata": {
    "colab": {},
    "colab_type": "code",
    "id": "-TN9lNVPJE6s"
   },
   "outputs": [],
   "source": [
    "def insert_previous_and_shift(df,col_name,ind):\n",
    "    '''\n",
    "    input a data frame (df), column name (col_name), and index (ind)\n",
    "    insert previous value of df[col_name] at index and shift the rest \n",
    "    of df[col_name] from ind by +1;\n",
    "    This is used for remove_time_jumps_fast\n",
    "    '''\n",
    "    shifted_series = df[col_name].shift(1)\n",
    "    df[col_name].iloc[ind] = df[col_name].iloc[ind-1]\n",
    "    df[col_name].iloc[ind+1:] = shifted_series.iloc[ind+1:]\n",
    "    return df"
   ]
  },
  {
   "cell_type": "code",
   "execution_count": 4,
   "metadata": {
    "colab": {},
    "colab_type": "code",
    "id": "ilY6WzcOJE60"
   },
   "outputs": [],
   "source": [
    "def remove_time_jumps_fast(data, features_list=\n",
    "                           ('x_sim', 'y_sim', 'z_sim', 'Vx_sim', 'Vy_sim', 'Vz_sim'),\n",
    "                           threshold = 0.000001):\n",
    "    #time_threshold 0.00003 sufficient for test and train\n",
    "    #time_threshold 0.00002 will throw errors\n",
    "    '''\n",
    "    removes time jumps in the simulation for a single satellite\n",
    "    for train and test data, sufficient to set time_threshold at default\n",
    "    s_data = satellite data\n",
    "    the features are replaced by the correction\n",
    "    note that threshold here is not the same as in remove_time_jumps\n",
    "    '''\n",
    "    data['t'] = ((pd.to_datetime(data['epoch']) - pd.to_datetime(data['epoch'])[0]) /\n",
    "                               np.timedelta64(1, 'D')).astype(float)\n",
    "    data['dt'] = data['t'].diff(1)\n",
    "\n",
    "    index_for_correction = data[data['dt'] < threshold].index \n",
    "    #print(index_for_correction)\n",
    "    if list(index_for_correction): #if non empty\n",
    "        for feature in features_list:\n",
    "            for i in index_for_correction:\n",
    "                data = insert_previous_and_shift(data,feature,i)\n",
    "    return data"
   ]
  },
  {
   "cell_type": "markdown",
   "metadata": {
    "colab_type": "text",
    "id": "hMW8narvJE67"
   },
   "source": [
    "## Transforming all the data"
   ]
  },
  {
   "cell_type": "code",
   "execution_count": 5,
   "metadata": {
    "colab": {},
    "colab_type": "code",
    "id": "-sqU97s-JE69"
   },
   "outputs": [
    {
     "name": "stdout",
     "output_type": "stream",
     "text": [
      "This application is used to convert notebook files (*.ipynb) to various other\n",
      "formats.\n",
      "\n",
      "WARNING: THE COMMANDLINE INTERFACE MAY CHANGE IN FUTURE RELEASES.\n",
      "\n",
      "Options\n",
      "\n",
      "-------\n",
      "\n",
      "\n",
      "\n",
      "Arguments that take values are actually convenience aliases to full\n",
      "Configurables, whose aliases are listed on the help line. For more information\n",
      "on full configurables, see '--help-all'.\n",
      "\n",
      "\n",
      "--debug\n",
      "\n",
      "    set log level to logging.DEBUG (maximize logging output)\n",
      "\n",
      "--generate-config\n",
      "\n",
      "    generate default config file\n",
      "\n",
      "-y\n",
      "\n",
      "    Answer yes to any questions instead of prompting.\n",
      "\n",
      "--execute\n",
      "\n",
      "    Execute the notebook prior to export.\n",
      "\n",
      "--allow-errors\n",
      "\n",
      "    Continue notebook execution even if one of the cells throws an error and include the error message in the cell output (the default behaviour is to abort conversion). This flag is only relevant if '--execute' was specified, too.\n",
      "\n",
      "--stdin\n",
      "\n",
      "    read a single notebook file from stdin. Write the resulting notebook with default basename 'notebook.*'\n",
      "\n",
      "--stdout\n",
      "\n",
      "    Write notebook output to stdout instead of files.\n",
      "\n",
      "--inplace\n",
      "\n",
      "    Run nbconvert in place, overwriting the existing notebook (only \n",
      "    relevant when converting to notebook format)\n",
      "\n",
      "--clear-output\n",
      "\n",
      "    Clear output of current file and save in place, \n",
      "    overwriting the existing notebook.\n",
      "\n",
      "--no-prompt\n",
      "\n",
      "    Exclude input and output prompts from converted document.\n",
      "\n",
      "--no-input\n",
      "\n",
      "    Exclude input cells and output prompts from converted document. \n",
      "    This mode is ideal for generating code-free reports.\n",
      "--log-level=<Enum> (Application.log_level)\n",
      "\n",
      "    Default: 30\n",
      "\n",
      "    Choices: (0, 10, 20, 30, 40, 50, 'DEBUG', 'INFO', 'WARN', 'ERROR', 'CRITICAL')\n",
      "\n",
      "    Set the log level by value or name.\n",
      "\n",
      "--config=<Unicode> (JupyterApp.config_file)\n",
      "\n",
      "    Default: ''\n",
      "\n",
      "    Full path of a config file.\n",
      "\n",
      "--to=<Unicode> (NbConvertApp.export_format)\n",
      "\n",
      "    Default: 'html'\n",
      "\n",
      "    The export format to be used, either one of the built-in formats\n",
      "\n",
      "    ['asciidoc', 'custom', 'html', 'latex', 'markdown', 'notebook', 'pdf',\n",
      "\n",
      "    'python', 'rst', 'script', 'slides'] or a dotted object name that represents\n",
      "\n",
      "    the import path for an `Exporter` class\n",
      "\n",
      "--template=<Unicode> (TemplateExporter.template_file)\n",
      "\n",
      "    Default: ''\n",
      "\n",
      "    Name of the template file to use\n",
      "\n",
      "--writer=<DottedObjectName> (NbConvertApp.writer_class)\n",
      "\n",
      "    Default: 'FilesWriter'\n",
      "\n",
      "    Writer class used to write the  results of the conversion\n",
      "\n",
      "--post=<DottedOrNone> (NbConvertApp.postprocessor_class)\n",
      "\n",
      "    Default: ''\n",
      "\n",
      "    PostProcessor class used to write the results of the conversion\n",
      "\n",
      "--output=<Unicode> (NbConvertApp.output_base)\n",
      "\n",
      "    Default: ''\n",
      "\n",
      "    overwrite base name use for output files. can only be used when converting\n",
      "\n",
      "    one notebook at a time.\n",
      "\n",
      "--output-dir=<Unicode> (FilesWriter.build_directory)\n",
      "\n",
      "    Default: ''\n",
      "\n",
      "    Directory to write output(s) to. Defaults to output to the directory of each\n",
      "\n",
      "    notebook. To recover previous default behaviour (outputting to the current\n",
      "\n",
      "    working directory) use . as the flag value.\n",
      "\n",
      "--reveal-prefix=<Unicode> (SlidesExporter.reveal_url_prefix)\n",
      "\n",
      "    Default: ''\n",
      "\n",
      "    The URL prefix for reveal.js (version 3.x). This defaults to the reveal CDN,\n",
      "\n",
      "    but can be any url pointing to a copy  of reveal.js.\n",
      "\n",
      "    For speaker notes to work, this must be a relative path to a local  copy of\n",
      "\n",
      "    reveal.js: e.g., \"reveal.js\".\n",
      "\n",
      "    If a relative path is given, it must be a subdirectory of the current\n",
      "\n",
      "    directory (from which the server is run).\n",
      "\n",
      "    See the usage documentation\n",
      "\n",
      "    (https://nbconvert.readthedocs.io/en/latest/usage.html#reveal-js-html-\n",
      "\n",
      "    slideshow) for more details.\n",
      "\n",
      "--nbformat=<Enum> (NotebookExporter.nbformat_version)\n",
      "\n",
      "    Default: 4\n",
      "\n",
      "    Choices: [1, 2, 3, 4]\n",
      "\n",
      "    The nbformat version to write. Use this to downgrade notebooks.\n",
      "\n",
      "To see all available configurables, use `--help-all`\n",
      "\n",
      "Examples\n",
      "--------\n",
      "\n",
      "    The simplest way to use nbconvert is\n",
      "    \n",
      "    > jupyter nbconvert mynotebook.ipynb\n",
      "    \n",
      "    which will convert mynotebook.ipynb to the default format (probably HTML).\n",
      "    \n",
      "    You can specify the export format with `--to`.\n",
      "    Options include ['asciidoc', 'custom', 'html', 'latex', 'markdown', 'notebook', 'pdf', 'python', 'rst', 'script', 'slides'].\n",
      "    \n",
      "    > jupyter nbconvert --to latex mynotebook.ipynb\n",
      "    \n",
      "    Both HTML and LaTeX support multiple output templates. LaTeX includes\n",
      "    'base', 'article' and 'report'.  HTML includes 'basic' and 'full'. You\n",
      "    can specify the flavor of the format used.\n",
      "    \n",
      "    > jupyter nbconvert --to html --template basic mynotebook.ipynb\n",
      "    \n",
      "    You can also pipe the output to stdout, rather than a file\n",
      "    \n",
      "    > jupyter nbconvert mynotebook.ipynb --stdout\n",
      "    \n",
      "    PDF is generated via latex\n",
      "    \n",
      "    > jupyter nbconvert mynotebook.ipynb --to pdf\n",
      "    \n",
      "    You can get (and serve) a Reveal.js-powered slideshow\n",
      "    \n",
      "    > jupyter nbconvert myslides.ipynb --to slides --post serve\n",
      "    \n",
      "    Multiple notebooks can be given at the command line in a couple of \n",
      "    different ways:\n",
      "    \n",
      "    > jupyter nbconvert notebook*.ipynb\n",
      "    > jupyter nbconvert notebook1.ipynb notebook2.ipynb\n",
      "    \n",
      "    or you can specify the notebooks list in a config file, containing::\n",
      "    \n",
      "        c.NbConvertApp.notebooks = [\"my_notebook.ipynb\"]\n",
      "    \n",
      "    > jupyter nbconvert --config mycfg.py\n",
      "\n"
     ]
    },
    {
     "name": "stderr",
     "output_type": "stream",
     "text": [
      "[NbConvertApp] WARNING | pattern 'utils_edit_mb.ipynb' matched no files\n"
     ]
    }
   ],
   "source": [
    "import utils\n",
    "from LinearAlignment import LinearAlignment"
   ]
  },
  {
   "cell_type": "code",
   "execution_count": 6,
   "metadata": {
    "colab": {},
    "colab_type": "code",
    "id": "ZfYLPtbZJE7E"
   },
   "outputs": [],
   "source": [
    "features_list=['x', 'y', 'z', 'Vx', 'Vy', 'Vz']"
   ]
  },
  {
   "cell_type": "code",
   "execution_count": 7,
   "metadata": {
    "colab": {
     "base_uri": "https://localhost:8080/",
     "height": 299
    },
    "colab_type": "code",
    "id": "iFtkEKxZJE7O",
    "outputId": "670fafeb-efc8-4614-c723-d96bdeae1c5d"
   },
   "outputs": [
    {
     "data": {
      "text/html": [
       "<div>\n",
       "<style scoped>\n",
       "    .dataframe tbody tr th:only-of-type {\n",
       "        vertical-align: middle;\n",
       "    }\n",
       "\n",
       "    .dataframe tbody tr th {\n",
       "        vertical-align: top;\n",
       "    }\n",
       "\n",
       "    .dataframe thead th {\n",
       "        text-align: right;\n",
       "    }\n",
       "</style>\n",
       "<table border=\"1\" class=\"dataframe\">\n",
       "  <thead>\n",
       "    <tr style=\"text-align: right;\">\n",
       "      <th></th>\n",
       "      <th>epoch</th>\n",
       "      <th>sat_id</th>\n",
       "      <th>x</th>\n",
       "      <th>y</th>\n",
       "      <th>z</th>\n",
       "      <th>Vx</th>\n",
       "      <th>Vy</th>\n",
       "      <th>Vz</th>\n",
       "      <th>x_sim</th>\n",
       "      <th>y_sim</th>\n",
       "      <th>z_sim</th>\n",
       "      <th>Vx_sim</th>\n",
       "      <th>Vy_sim</th>\n",
       "      <th>Vz_sim</th>\n",
       "      <th>time</th>\n",
       "    </tr>\n",
       "    <tr>\n",
       "      <th>id</th>\n",
       "      <th></th>\n",
       "      <th></th>\n",
       "      <th></th>\n",
       "      <th></th>\n",
       "      <th></th>\n",
       "      <th></th>\n",
       "      <th></th>\n",
       "      <th></th>\n",
       "      <th></th>\n",
       "      <th></th>\n",
       "      <th></th>\n",
       "      <th></th>\n",
       "      <th></th>\n",
       "      <th></th>\n",
       "      <th></th>\n",
       "    </tr>\n",
       "  </thead>\n",
       "  <tbody>\n",
       "    <tr>\n",
       "      <th>0</th>\n",
       "      <td>1.388534e+18</td>\n",
       "      <td>0</td>\n",
       "      <td>-8855.823863</td>\n",
       "      <td>13117.780146</td>\n",
       "      <td>-20728.353233</td>\n",
       "      <td>-0.908303</td>\n",
       "      <td>-3.808436</td>\n",
       "      <td>-2.022083</td>\n",
       "      <td>-8843.131454</td>\n",
       "      <td>13138.221690</td>\n",
       "      <td>-20741.615306</td>\n",
       "      <td>-0.907527</td>\n",
       "      <td>-3.804930</td>\n",
       "      <td>-2.024133</td>\n",
       "      <td>2014-01-01T00:00:00.000</td>\n",
       "    </tr>\n",
       "    <tr>\n",
       "      <th>1</th>\n",
       "      <td>1.388537e+18</td>\n",
       "      <td>0</td>\n",
       "      <td>-10567.672384</td>\n",
       "      <td>1619.746066</td>\n",
       "      <td>-24451.813271</td>\n",
       "      <td>-0.302590</td>\n",
       "      <td>-4.272617</td>\n",
       "      <td>-0.612796</td>\n",
       "      <td>-10555.500066</td>\n",
       "      <td>1649.289367</td>\n",
       "      <td>-24473.089556</td>\n",
       "      <td>-0.303704</td>\n",
       "      <td>-4.269816</td>\n",
       "      <td>-0.616468</td>\n",
       "      <td>2014-01-01T00:46:43.000</td>\n",
       "    </tr>\n",
       "    <tr>\n",
       "      <th>2</th>\n",
       "      <td>1.388540e+18</td>\n",
       "      <td>0</td>\n",
       "      <td>-10578.684043</td>\n",
       "      <td>-10180.467460</td>\n",
       "      <td>-24238.280949</td>\n",
       "      <td>0.277435</td>\n",
       "      <td>-4.047522</td>\n",
       "      <td>0.723155</td>\n",
       "      <td>-10571.858472</td>\n",
       "      <td>-10145.939908</td>\n",
       "      <td>-24271.169776</td>\n",
       "      <td>0.274880</td>\n",
       "      <td>-4.046788</td>\n",
       "      <td>0.718768</td>\n",
       "      <td>2014-01-01T01:33:26.001</td>\n",
       "    </tr>\n",
       "    <tr>\n",
       "      <th>3</th>\n",
       "      <td>1.388543e+18</td>\n",
       "      <td>0</td>\n",
       "      <td>-9148.251857</td>\n",
       "      <td>-20651.437460</td>\n",
       "      <td>-20720.381279</td>\n",
       "      <td>0.715600</td>\n",
       "      <td>-3.373762</td>\n",
       "      <td>1.722115</td>\n",
       "      <td>-9149.620794</td>\n",
       "      <td>-20618.200201</td>\n",
       "      <td>-20765.019094</td>\n",
       "      <td>0.712437</td>\n",
       "      <td>-3.375202</td>\n",
       "      <td>1.718306</td>\n",
       "      <td>2014-01-01T02:20:09.001</td>\n",
       "    </tr>\n",
       "    <tr>\n",
       "      <th>4</th>\n",
       "      <td>1.388546e+18</td>\n",
       "      <td>0</td>\n",
       "      <td>-6719.092336</td>\n",
       "      <td>-28929.061629</td>\n",
       "      <td>-14938.907967</td>\n",
       "      <td>0.992507</td>\n",
       "      <td>-2.519732</td>\n",
       "      <td>2.344703</td>\n",
       "      <td>-6729.358857</td>\n",
       "      <td>-28902.271436</td>\n",
       "      <td>-14992.399986</td>\n",
       "      <td>0.989382</td>\n",
       "      <td>-2.522618</td>\n",
       "      <td>2.342237</td>\n",
       "      <td>2014-01-01T03:06:52.002</td>\n",
       "    </tr>\n",
       "  </tbody>\n",
       "</table>\n",
       "</div>"
      ],
      "text/plain": [
       "           epoch  sat_id             x             y             z        Vx  \\\n",
       "id                                                                             \n",
       "0   1.388534e+18       0  -8855.823863  13117.780146 -20728.353233 -0.908303   \n",
       "1   1.388537e+18       0 -10567.672384   1619.746066 -24451.813271 -0.302590   \n",
       "2   1.388540e+18       0 -10578.684043 -10180.467460 -24238.280949  0.277435   \n",
       "3   1.388543e+18       0  -9148.251857 -20651.437460 -20720.381279  0.715600   \n",
       "4   1.388546e+18       0  -6719.092336 -28929.061629 -14938.907967  0.992507   \n",
       "\n",
       "          Vy        Vz         x_sim         y_sim         z_sim    Vx_sim  \\\n",
       "id                                                                           \n",
       "0  -3.808436 -2.022083  -8843.131454  13138.221690 -20741.615306 -0.907527   \n",
       "1  -4.272617 -0.612796 -10555.500066   1649.289367 -24473.089556 -0.303704   \n",
       "2  -4.047522  0.723155 -10571.858472 -10145.939908 -24271.169776  0.274880   \n",
       "3  -3.373762  1.722115  -9149.620794 -20618.200201 -20765.019094  0.712437   \n",
       "4  -2.519732  2.344703  -6729.358857 -28902.271436 -14992.399986  0.989382   \n",
       "\n",
       "      Vy_sim    Vz_sim                     time  \n",
       "id                                               \n",
       "0  -3.804930 -2.024133  2014-01-01T00:00:00.000  \n",
       "1  -4.269816 -0.616468  2014-01-01T00:46:43.000  \n",
       "2  -4.046788  0.718768  2014-01-01T01:33:26.001  \n",
       "3  -3.375202  1.718306  2014-01-01T02:20:09.001  \n",
       "4  -2.522618  2.342237  2014-01-01T03:06:52.002  "
      ]
     },
     "execution_count": 7,
     "metadata": {},
     "output_type": "execute_result"
    }
   ],
   "source": [
    "data = pd.read_csv('data/train.csv', index_col = 'id')\n",
    "data['time'] = data['epoch']\n",
    "data['epoch'] = pd.to_datetime(data['epoch']).values.astype(float)\n",
    "data.head()"
   ]
  },
  {
   "cell_type": "code",
   "execution_count": 8,
   "metadata": {},
   "outputs": [],
   "source": [
    "test_data = pd.read_csv('data/test.csv', index_col = 'id')\n",
    "test_data['time'] = test_data['epoch']\n",
    "test_data['epoch'] = pd.to_datetime(test_data['epoch']).values.astype(float)"
   ]
  },
  {
   "cell_type": "code",
   "execution_count": null,
   "metadata": {},
   "outputs": [],
   "source": [
    "d = data[data.sat_id == 2]\n",
    "td = test_data[test_data.sat_id == 2]\n",
    "new = pd.concat([d,td],  axis = 0, sort = False)"
   ]
  },
  {
   "cell_type": "code",
   "execution_count": null,
   "metadata": {},
   "outputs": [],
   "source": [
    "new.tail()"
   ]
  },
  {
   "cell_type": "code",
   "execution_count": null,
   "metadata": {},
   "outputs": [],
   "source": [
    "plt.figure(figsize=(15, 5))\n",
    "\n",
    "plt.plot(new['epoch'],new['x_sim'])\n",
    "plt.plot(new['epoch'],new['x'])"
   ]
  },
  {
   "cell_type": "code",
   "execution_count": 9,
   "metadata": {
    "colab": {
     "base_uri": "https://localhost:8080/",
     "height": 151
    },
    "colab_type": "code",
    "id": "McB3F4RvJE7U",
    "outputId": "c435e3f6-bb60-49e6-cbf5-c517076b1c32"
   },
   "outputs": [
    {
     "name": "stderr",
     "output_type": "stream",
     "text": [
      "  0%|                                                                                          | 0/300 [00:00<?, ?it/s]C:\\Users\\Tatiana\\Anaconda3\\envs\\idao\\lib\\site-packages\\pandas\\core\\indexing.py:205: SettingWithCopyWarning: \n",
      "A value is trying to be set on a copy of a slice from a DataFrame\n",
      "\n",
      "See the caveats in the documentation: http://pandas.pydata.org/pandas-docs/stable/user_guide/indexing.html#returning-a-view-versus-a-copy\n",
      "  self._setitem_with_indexer(indexer, value)\n",
      "100%|████████████████████████████████████████████████████████████████████████████████| 300/300 [02:51<00:00,  1.60it/s]\n"
     ]
    }
   ],
   "source": [
    "result_df = []\n",
    "alignment_model = LinearAlignment()\n",
    "\n",
    "satellites_list = test_data['sat_id'].unique()\n",
    "\n",
    "transf_df = pd.DataFrame([])\n",
    "for sat_id in tqdm(satellites_list):\n",
    "    \n",
    "#     sat_data = utils.get_satellite_data(data, sat_id)\n",
    "    try:\n",
    "        sat_data = get_satellite_data(data, sat_id)\n",
    "        n_first = sat_data.shape[0]\n",
    "        \n",
    "        test_sat_data = get_satellite_data(test_data, sat_id)\n",
    "        \n",
    "        sat_data = pd.concat([sat_data,test_sat_data], axis = 0, sort = False)\n",
    "                \n",
    "        index = sat_data.index\n",
    "        pred = pd.DataFrame(index = index )\n",
    "        \n",
    "        sat_data = remove_time_jumps_fast(sat_data.reset_index(drop=True))\n",
    "        sat_data.set_index(index)\n",
    "#         sat_data = get_satellite_data(data, sat_id) # run to check the smape score before any transformations\n",
    "    except KeyError as e:\n",
    "        print(f'jump removal failed for satellite {sat_id}:\\t{type(e).__name__} {e}')\n",
    "        continue\n",
    "    \n",
    "    \n",
    "    n_train = 4*len(sat_data) // 10\n",
    "    \n",
    "    train_sat_data = sat_data[:n_train]\n",
    "    \n",
    "    \n",
    "    pred['epoch'] = sat_data['epoch'].values\n",
    "    pred['t'] = sat_data['t'].values\n",
    "    pred['sat_id'] = sat_id\n",
    "    \n",
    "    try:\n",
    "\n",
    "        for feature_name in features_list:\n",
    "            alignment_model.fit(t=train_sat_data['epoch'].values,\n",
    "                                x=-train_sat_data[f'{feature_name}_sim'].values,\n",
    "                                gt=-train_sat_data[feature_name].values)\n",
    "            option1 = alignment_model.predict(t=sat_data['epoch'].values,\n",
    "                                                         x=sat_data[f'{feature_name}_sim'].values)\n",
    "            alignment_model.fit(t=train_sat_data['epoch'].values,\n",
    "                                x= train_sat_data[f'{feature_name}_sim'].values,\n",
    "                                gt= train_sat_data[feature_name].values)\n",
    "            \n",
    "            option2 = alignment_model.predict(t=sat_data['epoch'].values,\n",
    "                                                         x=sat_data[f'{feature_name}_sim'].values)\n",
    "            \n",
    "            if utils.smape(option1[n_train:n_first],sat_data[feature_name].values[n_train:n_first]) < utils.smape(option2[n_train:n_first],sat_data[feature_name].values[n_train:n_first]):\n",
    "                alignment_model.fit(t=sat_data['epoch'].iloc[:n_first].values,\n",
    "                                x=-sat_data[f'{feature_name}_sim'].iloc[:n_first].values,\n",
    "                                gt=-sat_data[feature_name].iloc[:n_first].values)\n",
    "                    \n",
    "                pred[f'{feature_name}_sim'] = alignment_model.predict(t=sat_data['epoch'].values,\n",
    "                                                         x=sat_data[f'{feature_name}_sim'].values)\n",
    "            else:\n",
    "                alignment_model.fit(t=sat_data['epoch'].iloc[:n_first].values,\n",
    "                                x=sat_data[f'{feature_name}_sim'].iloc[:n_first].values,\n",
    "                                gt=sat_data[feature_name].iloc[:n_first].values)\n",
    "                pred[f'{feature_name}_sim']  = alignment_model.predict(t=sat_data['epoch'].values,\n",
    "                                                         x=sat_data[f'{feature_name}_sim'].values)\n",
    "                \n",
    "            pred.loc[:,feature_name]=sat_data.loc[:, feature_name].values\n",
    "        \n",
    "                  \n",
    "            \n",
    "    except Exception as e:\n",
    "        print(f'linear alignment failed for satellite {sat_id}:\\t{type(e).__name__} {e}')\n",
    "        continue\n",
    "    \n",
    "    transf_df = transf_df.append(pred)"
   ]
  },
  {
   "cell_type": "code",
   "execution_count": 10,
   "metadata": {
    "colab": {
     "base_uri": "https://localhost:8080/",
     "height": 215
    },
    "colab_type": "code",
    "id": "Ib6hxF4DJE7Z",
    "outputId": "9a25df2f-7175-44c1-e736-db90421081b3"
   },
   "outputs": [
    {
     "data": {
      "text/html": [
       "<div>\n",
       "<style scoped>\n",
       "    .dataframe tbody tr th:only-of-type {\n",
       "        vertical-align: middle;\n",
       "    }\n",
       "\n",
       "    .dataframe tbody tr th {\n",
       "        vertical-align: top;\n",
       "    }\n",
       "\n",
       "    .dataframe thead th {\n",
       "        text-align: right;\n",
       "    }\n",
       "</style>\n",
       "<table border=\"1\" class=\"dataframe\">\n",
       "  <thead>\n",
       "    <tr style=\"text-align: right;\">\n",
       "      <th></th>\n",
       "      <th>epoch</th>\n",
       "      <th>t</th>\n",
       "      <th>sat_id</th>\n",
       "      <th>x_sim</th>\n",
       "      <th>x</th>\n",
       "      <th>y_sim</th>\n",
       "      <th>y</th>\n",
       "      <th>z_sim</th>\n",
       "      <th>z</th>\n",
       "      <th>Vx_sim</th>\n",
       "      <th>Vx</th>\n",
       "      <th>Vy_sim</th>\n",
       "      <th>Vy</th>\n",
       "      <th>Vz_sim</th>\n",
       "      <th>Vz</th>\n",
       "    </tr>\n",
       "    <tr>\n",
       "      <th>id</th>\n",
       "      <th></th>\n",
       "      <th></th>\n",
       "      <th></th>\n",
       "      <th></th>\n",
       "      <th></th>\n",
       "      <th></th>\n",
       "      <th></th>\n",
       "      <th></th>\n",
       "      <th></th>\n",
       "      <th></th>\n",
       "      <th></th>\n",
       "      <th></th>\n",
       "      <th></th>\n",
       "      <th></th>\n",
       "      <th></th>\n",
       "    </tr>\n",
       "  </thead>\n",
       "  <tbody>\n",
       "    <tr>\n",
       "      <th>1819</th>\n",
       "      <td>1.388534e+18</td>\n",
       "      <td>0.000000</td>\n",
       "      <td>1</td>\n",
       "      <td>10405.813755</td>\n",
       "      <td>10390.313089</td>\n",
       "      <td>-2771.180760</td>\n",
       "      <td>-2796.458271</td>\n",
       "      <td>3166.926302</td>\n",
       "      <td>3179.562085</td>\n",
       "      <td>2.508879</td>\n",
       "      <td>2.520477</td>\n",
       "      <td>6.152996</td>\n",
       "      <td>6.149930</td>\n",
       "      <td>-2.826227</td>\n",
       "      <td>-2.827599</td>\n",
       "    </tr>\n",
       "    <tr>\n",
       "      <th>1820</th>\n",
       "      <td>1.388536e+18</td>\n",
       "      <td>0.014720</td>\n",
       "      <td>1</td>\n",
       "      <td>11199.459274</td>\n",
       "      <td>11195.606833</td>\n",
       "      <td>5105.200658</td>\n",
       "      <td>5078.653968</td>\n",
       "      <td>-848.597754</td>\n",
       "      <td>-839.076593</td>\n",
       "      <td>-1.132222</td>\n",
       "      <td>-1.126667</td>\n",
       "      <td>5.822436</td>\n",
       "      <td>5.826412</td>\n",
       "      <td>-3.250054</td>\n",
       "      <td>-3.255872</td>\n",
       "    </tr>\n",
       "    <tr>\n",
       "      <th>1821</th>\n",
       "      <td>1.388537e+18</td>\n",
       "      <td>0.029441</td>\n",
       "      <td>1</td>\n",
       "      <td>8237.279843</td>\n",
       "      <td>8235.556436</td>\n",
       "      <td>11469.206013</td>\n",
       "      <td>11445.904263</td>\n",
       "      <td>-4684.829256</td>\n",
       "      <td>-4680.514023</td>\n",
       "      <td>-3.228498</td>\n",
       "      <td>-3.230227</td>\n",
       "      <td>4.124297</td>\n",
       "      <td>4.126433</td>\n",
       "      <td>-2.700287</td>\n",
       "      <td>-2.704441</td>\n",
       "    </tr>\n",
       "    <tr>\n",
       "      <th>1822</th>\n",
       "      <td>1.388538e+18</td>\n",
       "      <td>0.044161</td>\n",
       "      <td>1</td>\n",
       "      <td>3565.004307</td>\n",
       "      <td>3560.149776</td>\n",
       "      <td>15655.733441</td>\n",
       "      <td>15634.195146</td>\n",
       "      <td>-7655.277835</td>\n",
       "      <td>-7654.177182</td>\n",
       "      <td>-3.960607</td>\n",
       "      <td>-3.964696</td>\n",
       "      <td>2.521337</td>\n",
       "      <td>2.520867</td>\n",
       "      <td>-1.976770</td>\n",
       "      <td>-1.978151</td>\n",
       "    </tr>\n",
       "    <tr>\n",
       "      <th>1823</th>\n",
       "      <td>1.388539e+18</td>\n",
       "      <td>0.058882</td>\n",
       "      <td>1</td>\n",
       "      <td>-1571.839073</td>\n",
       "      <td>-1580.476891</td>\n",
       "      <td>18044.683022</td>\n",
       "      <td>18023.318335</td>\n",
       "      <td>-9755.479443</td>\n",
       "      <td>-9755.287599</td>\n",
       "      <td>-4.046854</td>\n",
       "      <td>-4.050865</td>\n",
       "      <td>1.298053</td>\n",
       "      <td>1.296388</td>\n",
       "      <td>-1.347061</td>\n",
       "      <td>-1.346512</td>\n",
       "    </tr>\n",
       "  </tbody>\n",
       "</table>\n",
       "</div>"
      ],
      "text/plain": [
       "             epoch         t  sat_id         x_sim             x  \\\n",
       "id                                                                 \n",
       "1819  1.388534e+18  0.000000       1  10405.813755  10390.313089   \n",
       "1820  1.388536e+18  0.014720       1  11199.459274  11195.606833   \n",
       "1821  1.388537e+18  0.029441       1   8237.279843   8235.556436   \n",
       "1822  1.388538e+18  0.044161       1   3565.004307   3560.149776   \n",
       "1823  1.388539e+18  0.058882       1  -1571.839073  -1580.476891   \n",
       "\n",
       "             y_sim             y        z_sim            z    Vx_sim  \\\n",
       "id                                                                     \n",
       "1819  -2771.180760  -2796.458271  3166.926302  3179.562085  2.508879   \n",
       "1820   5105.200658   5078.653968  -848.597754  -839.076593 -1.132222   \n",
       "1821  11469.206013  11445.904263 -4684.829256 -4680.514023 -3.228498   \n",
       "1822  15655.733441  15634.195146 -7655.277835 -7654.177182 -3.960607   \n",
       "1823  18044.683022  18023.318335 -9755.479443 -9755.287599 -4.046854   \n",
       "\n",
       "            Vx    Vy_sim        Vy    Vz_sim        Vz  \n",
       "id                                                      \n",
       "1819  2.520477  6.152996  6.149930 -2.826227 -2.827599  \n",
       "1820 -1.126667  5.822436  5.826412 -3.250054 -3.255872  \n",
       "1821 -3.230227  4.124297  4.126433 -2.700287 -2.704441  \n",
       "1822 -3.964696  2.521337  2.520867 -1.976770 -1.978151  \n",
       "1823 -4.050865  1.298053  1.296388 -1.347061 -1.346512  "
      ]
     },
     "execution_count": 10,
     "metadata": {},
     "output_type": "execute_result"
    }
   ],
   "source": [
    "transf_df.head()"
   ]
  },
  {
   "cell_type": "code",
   "execution_count": 11,
   "metadata": {
    "colab": {
     "base_uri": "https://localhost:8080/",
     "height": 34
    },
    "colab_type": "code",
    "id": "8N-TF9nlJE7f",
    "outputId": "208f83c4-82c6-4b0e-ba1c-71b2160d89b6"
   },
   "outputs": [
    {
     "data": {
      "text/plain": [
       "(599254, 15)"
      ]
     },
     "execution_count": 11,
     "metadata": {},
     "output_type": "execute_result"
    }
   ],
   "source": [
    "transf_df.shape"
   ]
  },
  {
   "cell_type": "code",
   "execution_count": null,
   "metadata": {
    "colab": {},
    "colab_type": "code",
    "id": "9_zL6fpcJE7m",
    "outputId": "3f0b0bf9-1373-4604-f8fb-c5b52155f8d6"
   },
   "outputs": [],
   "source": [
    "# # for now, simply append non-transformed values fot the satellites 252\n",
    "# transf_df = transf_df.append(remove_time_jumps_fast(get_satellite_data(data, 252))[transf_df.columns])\n",
    "# transf_df = transf_df.append(remove_time_jumps_fast(get_satellite_data(data, 301))[transf_df.columns])\n",
    "# transf_df.shape"
   ]
  },
  {
   "cell_type": "code",
   "execution_count": null,
   "metadata": {
    "colab": {
     "base_uri": "https://localhost:8080/",
     "height": 1000
    },
    "colab_type": "code",
    "id": "qEFuNAr0JE7r",
    "outputId": "69bd429c-4a8c-4d0a-b14e-ba90aa0316ba"
   },
   "outputs": [
    {
     "name": "stderr",
     "output_type": "stream",
     "text": [
      "  0%|                                                                                          | 0/300 [00:00<?, ?it/s]C:\\Users\\Tatiana\\Anaconda3\\envs\\idao\\lib\\site-packages\\pystan\\misc.py:399: FutureWarning: Conversion of the second argument of issubdtype from `float` to `np.floating` is deprecated. In future, it will be treated as `np.float64 == np.dtype(float).type`.\n",
      "  elif np.issubdtype(np.asarray(v).dtype, float):\n"
     ]
    },
    {
     "name": "stdout",
     "output_type": "stream",
     "text": [
      "1[x]  no correction: 0.19119642955303978, correction:0.038746070579538786\n",
      "1[y]  no correction: 0.18267242666654607, correction:0.0015251064080587693\n",
      "1[z]  no correction: 0.17772439658633013, correction:0.10822315641831583\n",
      "1[Vx]  no correction: 0.1498960586239248, correction:0.13625637376844116\n",
      "1[Vy]  no correction: 0.1736203022100542, correction:0.0035356489053515474\n",
      "1[Vz]  no correction: 0.20008292281196063, correction:0.1050866373640872\n"
     ]
    },
    {
     "name": "stderr",
     "output_type": "stream",
     "text": [
      "\r",
      "  0%|▎                                                                             | 1/300 [05:09<25:41:15, 309.28s/it]"
     ]
    },
    {
     "name": "stdout",
     "output_type": "stream",
     "text": [
      "2[x]  no correction: 0.00641881405571727, correction:0.0030207699385655998\n",
      "2[y]  no correction: 0.010210951558239532, correction:0.006725123878493333\n",
      "2[z]  no correction: 0.012744072856426519, correction:0.0027442029237939626\n",
      "2[Vx]  no correction: 0.004361435683741954, correction:0.0021617963233998847\n",
      "2[Vy]  no correction: 0.0035555157849736342, correction:0.0006616367678082797\n",
      "2[Vz]  no correction: 0.005076760787618269, correction:0.00195590903393318\n"
     ]
    },
    {
     "name": "stderr",
     "output_type": "stream",
     "text": [
      "\r",
      "  1%|▌                                                                             | 2/300 [06:36<20:05:51, 242.79s/it]"
     ]
    },
    {
     "name": "stdout",
     "output_type": "stream",
     "text": [
      "3[x]  no correction: 0.005384802247369703, correction:0.00410180350941329\n",
      "3[y]  no correction: 0.008505072049390067, correction:0.0030040408067198527\n",
      "3[z]  no correction: 0.06272469554852604, correction:0.014091919412526906\n",
      "3[Vx]  no correction: 0.010092645390854605, correction:0.005963164404960499\n",
      "3[Vy]  no correction: 0.008575299362054667, correction:0.012431240543484264\n",
      "3 Vy does not work\n",
      "3[Vz]  no correction: 0.049156051532656835, correction:0.02422920213723783\n"
     ]
    },
    {
     "name": "stderr",
     "output_type": "stream",
     "text": [
      "\r",
      "  1%|▊                                                                             | 3/300 [07:35<15:27:59, 187.47s/it]"
     ]
    },
    {
     "name": "stdout",
     "output_type": "stream",
     "text": [
      "4[x]  no correction: 0.002023990310406344, correction:0.00012982510561995963\n",
      "4[y]  no correction: 0.0044493880467143315, correction:0.0007752271669679783\n",
      "4[z]  no correction: 0.001244482454734679, correction:7.995831834801914e-05\n",
      "4[Vx]  no correction: 0.001495522285766975, correction:0.00010067927107848417\n",
      "4[Vy]  no correction: 0.0021220005387513076, correction:0.000228657673208931\n",
      "4[Vz]  no correction: 0.0011602094922427298, correction:0.00012453718186131675\n"
     ]
    },
    {
     "name": "stderr",
     "output_type": "stream",
     "text": [
      "\r",
      "  1%|█                                                                             | 4/300 [12:46<18:27:36, 224.51s/it]"
     ]
    },
    {
     "name": "stdout",
     "output_type": "stream",
     "text": [
      "6[x]  no correction: 0.445639551083066, correction:0.11298115325576735\n",
      "6[y]  no correction: 0.19517604382551113, correction:0.15749847431814562\n",
      "6[z]  no correction: 0.3253924533365266, correction:0.12076098226305274\n",
      "6[Vx]  no correction: 0.3299664119478038, correction:0.25635241991515056\n",
      "6[Vy]  no correction: 0.23518873610134933, correction:0.1735603741470902\n",
      "6[Vz]  no correction: 0.33184388837074397, correction:0.17938244032555464\n"
     ]
    },
    {
     "name": "stderr",
     "output_type": "stream",
     "text": [
      "\r",
      "  2%|█▎                                                                            | 5/300 [13:20<13:43:23, 167.47s/it]"
     ]
    },
    {
     "name": "stdout",
     "output_type": "stream",
     "text": [
      "9[x]  no correction: 0.07485345179010762, correction:0.002351563837624039\n",
      "9[y]  no correction: 0.05821652277734176, correction:0.006788695140733246\n",
      "9[z]  no correction: 0.0951671515803796, correction:0.001967846639033879\n",
      "9[Vx]  no correction: 0.09938208257185428, correction:0.030550151611446297\n",
      "9[Vy]  no correction: 0.03271778072320893, correction:0.003493587290466108\n",
      "9[Vz]  no correction: 0.07397819838620286, correction:0.0013794671538859377\n"
     ]
    },
    {
     "name": "stderr",
     "output_type": "stream",
     "text": [
      "\r",
      "  2%|█▌                                                                            | 6/300 [15:02<12:04:47, 147.92s/it]"
     ]
    },
    {
     "name": "stdout",
     "output_type": "stream",
     "text": [
      "16[x]  no correction: 0.04790999974711432, correction:0.03595040488093671\n",
      "16[y]  no correction: 0.04494575931003952, correction:0.031430819785863304\n",
      "16[z]  no correction: 0.04470583908788187, correction:0.04683882624228696\n",
      "16 z does not work\n",
      "16[Vx]  no correction: 0.05957608666509657, correction:0.029738278232017676\n",
      "16[Vy]  no correction: 0.030229376428253914, correction:0.02333883875646649\n",
      "16[Vz]  no correction: 0.015663098700972176, correction:0.023284445846512423\n",
      "16 Vz does not work\n"
     ]
    },
    {
     "name": "stderr",
     "output_type": "stream",
     "text": [
      "\r",
      "  2%|█▊                                                                             | 7/300 [15:58<9:47:33, 120.32s/it]"
     ]
    },
    {
     "name": "stdout",
     "output_type": "stream",
     "text": [
      "20[x]  no correction: 0.11700883731427064, correction:0.052428985966481885\n",
      "20[y]  no correction: 0.13369884379778152, correction:0.2862002233429454\n",
      "20 y does not work\n",
      "20[z]  no correction: 0.21655258793940765, correction:0.20719619871814735\n",
      "20[Vx]  no correction: 0.10712209352623935, correction:0.21740123284631177\n",
      "20 Vx does not work\n",
      "20[Vy]  no correction: 0.5526267318759085, correction:0.6896069274453349\n",
      "20 Vy does not work\n",
      "20[Vz]  no correction: 0.556589137747977, correction:0.8999167286418923\n",
      "20 Vz does not work\n"
     ]
    },
    {
     "name": "stderr",
     "output_type": "stream",
     "text": [
      "\r",
      "  3%|██▏                                                                             | 8/300 [16:36<7:45:24, 95.63s/it]"
     ]
    },
    {
     "name": "stdout",
     "output_type": "stream",
     "text": [
      "22[x]  no correction: 0.2966946650657961, correction:0.09945512071002359\n",
      "22[y]  no correction: 0.07717889475918661, correction:0.05927278260795082\n",
      "22[z]  no correction: 0.30653801406710574, correction:0.08819658441477456\n",
      "22[Vx]  no correction: 0.27200463481697956, correction:0.20179375360308738\n",
      "22[Vy]  no correction: 0.12855969359880481, correction:0.07046808926460728\n",
      "22[Vz]  no correction: 0.28594817139096124, correction:0.23707565499780753\n"
     ]
    },
    {
     "name": "stderr",
     "output_type": "stream",
     "text": [
      "\r",
      "  3%|██▍                                                                             | 9/300 [17:10<6:13:57, 77.10s/it]"
     ]
    },
    {
     "name": "stdout",
     "output_type": "stream",
     "text": [
      "24[x]  no correction: 0.0010025301337185212, correction:0.0010459289228923383\n",
      "24 x does not work\n",
      "24[y]  no correction: 0.0027574262305229548, correction:0.0022268936834159165\n",
      "24[z]  no correction: 0.029833797803445136, correction:0.013093541171975857\n",
      "24[Vx]  no correction: 0.029099619125404066, correction:0.003966661887050593\n",
      "24[Vy]  no correction: 0.04003470256676871, correction:0.006329486577786009\n",
      "24[Vz]  no correction: 0.002038772932050065, correction:0.0011313826315748577\n"
     ]
    },
    {
     "name": "stderr",
     "output_type": "stream",
     "text": [
      "\r",
      "  3%|██▋                                                                            | 10/300 [18:59<6:58:14, 86.53s/it]"
     ]
    },
    {
     "name": "stdout",
     "output_type": "stream",
     "text": [
      "25[x]  no correction: 0.0028054126574456805, correction:0.00029053424485072857\n",
      "25[y]  no correction: 0.001692003140377638, correction:0.0006622817856051967\n",
      "25[z]  no correction: 0.004341279425644821, correction:0.0005139906235760053\n",
      "25[Vx]  no correction: 0.0019527178810840378, correction:0.002123948633142693\n",
      "25 Vx does not work\n",
      "25[Vy]  no correction: 0.0019340915031168637, correction:0.0005962619445443327\n",
      "25[Vz]  no correction: 0.002175449403803054, correction:0.0004469338709681367\n"
     ]
    },
    {
     "name": "stderr",
     "output_type": "stream",
     "text": [
      "\r",
      "  4%|██▉                                                                            | 11/300 [21:07<7:56:58, 99.03s/it]"
     ]
    },
    {
     "name": "stdout",
     "output_type": "stream",
     "text": [
      "27[x]  no correction: 0.011520087028361402, correction:0.012182497930434943\n",
      "27 x does not work\n",
      "27[y]  no correction: 0.005072750842634269, correction:0.00026600583921841046\n",
      "27[z]  no correction: 0.00391468211725239, correction:0.003010871206799921\n",
      "27[Vx]  no correction: 0.04592045287896392, correction:0.009112349085000863\n",
      "27[Vy]  no correction: 0.042123822014549776, correction:0.05256741880283828\n",
      "27 Vy does not work\n",
      "27[Vz]  no correction: 0.0456014344657229, correction:0.05842566864788403\n",
      "27 Vz does not work\n"
     ]
    },
    {
     "name": "stderr",
     "output_type": "stream",
     "text": [
      "\r",
      "  4%|███▍                                                                           | 13/300 [22:20<6:24:17, 80.34s/it]"
     ]
    },
    {
     "name": "stdout",
     "output_type": "stream",
     "text": [
      "28[x]  no correction: 0.32766497382231835, correction:0.1258659501059809\n",
      "28[y]  no correction: 0.14028101819171548, correction:0.06878115909914007\n",
      "28[z]  no correction: 0.36563340296766517, correction:0.25114215156695135\n",
      "28[Vx]  no correction: 0.28973592612576826, correction:0.2086326076463666\n",
      "28[Vy]  no correction: 0.14573543842805428, correction:0.10367515340643582\n",
      "28[Vz]  no correction: 0.3872766164841074, correction:0.2086299607102258\n"
     ]
    },
    {
     "name": "stderr",
     "output_type": "stream",
     "text": [
      "\r",
      "  5%|███▋                                                                           | 14/300 [22:54<5:16:05, 66.31s/it]"
     ]
    },
    {
     "name": "stdout",
     "output_type": "stream",
     "text": [
      "29[x]  no correction: 0.01709733664514424, correction:0.0007896163947264201\n",
      "29[y]  no correction: 0.027266808702263386, correction:0.0005184297549026799\n",
      "29[z]  no correction: 0.01606147185114084, correction:0.0019308445596921359\n",
      "29[Vx]  no correction: 0.6555543450938358, correction:0.7468667847194909\n",
      "29 Vx does not work\n",
      "29[Vy]  no correction: 0.06432135735356759, correction:0.0514289830714199\n",
      "29[Vz]  no correction: 0.02656299976059347, correction:0.029860598753309035\n",
      "29 Vz does not work\n"
     ]
    },
    {
     "name": "stderr",
     "output_type": "stream",
     "text": [
      "\r",
      "  5%|███▉                                                                           | 15/300 [24:08<5:26:21, 68.71s/it]"
     ]
    },
    {
     "name": "stdout",
     "output_type": "stream",
     "text": [
      "32[x]  no correction: 0.045824606188019375, correction:0.0036442253017570135\n",
      "32[y]  no correction: 0.015128461285402564, correction:0.005689119141538218\n",
      "32[z]  no correction: 0.058124084924087625, correction:0.009683394941514541\n",
      "32[Vx]  no correction: 0.044704050928540774, correction:0.009176196439168558\n",
      "32[Vy]  no correction: 0.0198319071178539, correction:0.00764797589545661\n",
      "32[Vz]  no correction: 0.07445284095735656, correction:0.03509287707836272\n"
     ]
    },
    {
     "name": "stderr",
     "output_type": "stream",
     "text": [
      "\r",
      "  5%|████▏                                                                          | 16/300 [25:23<5:33:50, 70.53s/it]"
     ]
    },
    {
     "name": "stdout",
     "output_type": "stream",
     "text": [
      "34[x]  no correction: 0.023152716449221435, correction:0.00034241030034014216\n",
      "34[y]  no correction: 0.003733959046602699, correction:0.0001686404749031813\n",
      "34[z]  no correction: 0.011457086179014017, correction:0.00021982832008155884\n",
      "34[Vx]  no correction: 0.007045161343918662, correction:0.000192051979579543\n",
      "34[Vy]  no correction: 0.00350780309640106, correction:7.031045826058381e-05\n",
      "34[Vz]  no correction: 0.0060064820230472165, correction:9.519806154214679e-05\n"
     ]
    },
    {
     "name": "stderr",
     "output_type": "stream",
     "text": [
      "\r",
      "  6%|████▎                                                                        | 17/300 [31:45<12:52:35, 163.80s/it]"
     ]
    },
    {
     "name": "stdout",
     "output_type": "stream",
     "text": [
      "35[x]  no correction: 0.7036610739293895, correction:0.1265159478940346\n",
      "35[y]  no correction: 0.3911204894028843, correction:0.29434307739949006\n",
      "35[z]  no correction: 0.6329379741293155, correction:0.2750884581927364\n",
      "35[Vx]  no correction: 0.5587815519625657, correction:0.45696977481355694\n",
      "35[Vy]  no correction: 0.3531307927842414, correction:0.2875170071185333\n",
      "35[Vz]  no correction: 0.524073407506269, correction:0.3836815647678786\n"
     ]
    },
    {
     "name": "stderr",
     "output_type": "stream",
     "text": [
      "\r",
      "  6%|████▋                                                                         | 18/300 [32:16<9:43:14, 124.09s/it]"
     ]
    },
    {
     "name": "stdout",
     "output_type": "stream",
     "text": [
      "36[x]  no correction: 0.0072493749659390695, correction:0.005529990486163402\n",
      "36[y]  no correction: 0.00040087080905556744, correction:4.6030245672542834e-05\n",
      "36[z]  no correction: 0.012058528023800625, correction:0.007590519847450536\n",
      "36[Vx]  no correction: 0.0028757266047846008, correction:0.0019913681598591262\n",
      "36[Vy]  no correction: 0.004309950356583118, correction:0.002677127858612\n",
      "36[Vz]  no correction: 0.0006153482500981421, correction:0.00026233778211651193\n"
     ]
    },
    {
     "name": "stderr",
     "output_type": "stream",
     "text": [
      "\r",
      "  6%|████▉                                                                         | 19/300 [34:03<9:16:33, 118.84s/it]"
     ]
    },
    {
     "name": "stdout",
     "output_type": "stream",
     "text": [
      "37[x]  no correction: 0.4029099462789692, correction:0.3806759302993512\n",
      "37[y]  no correction: 0.35832399660107295, correction:0.4398045941390069\n",
      "37 y does not work\n",
      "37[z]  no correction: 0.44794260348958925, correction:0.37294392380469277\n",
      "37[Vx]  no correction: 0.457706459439524, correction:0.4059610290981009\n",
      "37[Vy]  no correction: 0.3932594428428035, correction:0.5431344147230983\n",
      "37 Vy does not work\n",
      "37[Vz]  no correction: 0.45828556646756813, correction:0.40075138485454354\n"
     ]
    },
    {
     "name": "stderr",
     "output_type": "stream",
     "text": [
      "\r",
      "  7%|█████▎                                                                         | 20/300 [34:55<7:41:31, 98.90s/it]"
     ]
    },
    {
     "name": "stdout",
     "output_type": "stream",
     "text": [
      "38[x]  no correction: 0.019949099824921972, correction:0.00022676958728825108\n",
      "38[y]  no correction: 0.018612228911552658, correction:0.0005514081269992813\n",
      "38[z]  no correction: 0.07625446584023948, correction:0.0012513526674146278\n",
      "38[Vx]  no correction: 0.017703700071642462, correction:0.0018871525377325401\n",
      "38[Vy]  no correction: 0.018102110149924546, correction:0.00029552101210654713\n",
      "38[Vz]  no correction: 0.027726872020022286, correction:0.00040965235467533195\n"
     ]
    },
    {
     "name": "stderr",
     "output_type": "stream",
     "text": [
      "\r",
      "  7%|█████▍                                                                       | 21/300 [39:01<11:05:46, 143.18s/it]"
     ]
    },
    {
     "name": "stdout",
     "output_type": "stream",
     "text": [
      "39[x]  no correction: 0.012110189689464451, correction:0.000851227792821279\n",
      "39[y]  no correction: 0.0099526523068365, correction:0.0016719877157084825\n",
      "39[z]  no correction: 0.012232956193122433, correction:0.0013564010305417299\n",
      "39[Vx]  no correction: 0.001950776344309367, correction:0.0012619086538069473\n",
      "39[Vy]  no correction: 0.007979482876230157, correction:0.02266539238314872\n",
      "39 Vy does not work\n",
      "39[Vz]  no correction: 0.004235990570736489, correction:0.0008506200395561202\n"
     ]
    },
    {
     "name": "stderr",
     "output_type": "stream",
     "text": [
      "\r",
      "  7%|█████▋                                                                       | 22/300 [40:53<10:19:57, 133.81s/it]"
     ]
    },
    {
     "name": "stdout",
     "output_type": "stream",
     "text": [
      "40[x]  no correction: 0.004295171954349361, correction:0.00044401083388250124\n",
      "40[y]  no correction: 0.004192229912402951, correction:0.0003224272805363556\n",
      "40[z]  no correction: 0.00723916545013737, correction:0.000280469436228037\n",
      "40[Vx]  no correction: 0.0025542365642603738, correction:0.00022803018954167456\n",
      "40[Vy]  no correction: 0.0039715000104743195, correction:0.00022525322578587407\n",
      "40[Vz]  no correction: 0.004842600758733865, correction:0.00020039630864208548\n"
     ]
    },
    {
     "name": "stderr",
     "output_type": "stream",
     "text": [
      "\r",
      "  8%|█████▉                                                                       | 23/300 [47:27<16:18:02, 211.85s/it]"
     ]
    },
    {
     "name": "stdout",
     "output_type": "stream",
     "text": [
      "41[x]  no correction: 0.0049551573810161795, correction:0.001797450311747839\n",
      "41[y]  no correction: 0.01210737853428264, correction:0.005349910712992123\n",
      "41[z]  no correction: 0.008500531464573092, correction:0.002125067588931459\n",
      "41[Vx]  no correction: 0.0013150718947948614, correction:0.0007901840590494906\n",
      "41[Vy]  no correction: 0.0035358756815648345, correction:0.002923383417861462\n",
      "41[Vz]  no correction: 0.012677805658668433, correction:0.011190550348489939\n"
     ]
    },
    {
     "name": "stderr",
     "output_type": "stream",
     "text": [
      "\r",
      "  8%|██████▏                                                                      | 24/300 [48:57<13:26:23, 175.30s/it]"
     ]
    },
    {
     "name": "stdout",
     "output_type": "stream",
     "text": [
      "42[x]  no correction: 0.011280832746741253, correction:0.0003152561093007857\n",
      "42[y]  no correction: 0.0026595776684836536, correction:0.00023951849983216687\n",
      "42[z]  no correction: 0.004719985299234609, correction:0.0004569432971024692\n",
      "42[Vx]  no correction: 0.046747761268527796, correction:0.003884088662817472\n",
      "42[Vy]  no correction: 0.004649527901556442, correction:0.0003050864807654118\n",
      "42[Vz]  no correction: 0.001707111236951295, correction:0.0001517618672704456\n"
     ]
    },
    {
     "name": "stderr",
     "output_type": "stream",
     "text": [
      "\r",
      "  8%|██████▍                                                                      | 25/300 [50:59<12:10:21, 159.35s/it]"
     ]
    },
    {
     "name": "stdout",
     "output_type": "stream",
     "text": [
      "44[x]  no correction: 0.002507103126826166, correction:0.0012969222990751813\n",
      "44[y]  no correction: 0.006962596837720065, correction:0.0021529735287619234\n",
      "44[z]  no correction: 0.0031495312444380767, correction:0.0011613722527869241\n",
      "44[Vx]  no correction: 0.006661195550914472, correction:0.0088643195708671\n",
      "44 Vx does not work\n",
      "44[Vy]  no correction: 0.005551078325694253, correction:0.001514385005646775\n",
      "44[Vz]  no correction: 0.006861747693133307, correction:0.004628211252902855\n"
     ]
    },
    {
     "name": "stderr",
     "output_type": "stream",
     "text": [
      "\r",
      "  9%|██████▋                                                                      | 26/300 [52:29<10:31:30, 138.29s/it]"
     ]
    },
    {
     "name": "stdout",
     "output_type": "stream",
     "text": [
      "45[x]  no correction: 0.01595496336476263, correction:0.007437393578136634\n",
      "45[y]  no correction: 0.005255648349637002, correction:0.0040302847801460965\n",
      "45[z]  no correction: 0.009756284655601178, correction:0.004395173530266385\n",
      "45[Vx]  no correction: 0.02161893134361244, correction:0.00602630577140609\n",
      "45[Vy]  no correction: 0.029131244670475658, correction:0.022225584864308874\n",
      "45[Vz]  no correction: 0.0073043897580928364, correction:0.005970971354302968\n"
     ]
    },
    {
     "name": "stderr",
     "output_type": "stream",
     "text": [
      "\r",
      "  9%|███████                                                                       | 27/300 [53:32<8:46:56, 115.81s/it]"
     ]
    },
    {
     "name": "stdout",
     "output_type": "stream",
     "text": [
      "49[x]  no correction: 0.00951700988680815, correction:0.00221482035593504\n",
      "49[y]  no correction: 0.04399043907273866, correction:0.03666739585269092\n",
      "49[z]  no correction: 0.012027951042433368, correction:0.0003308253359219525\n",
      "49[Vx]  no correction: 0.009554761155258044, correction:0.0008775836087816923\n",
      "49[Vy]  no correction: 0.020210885727889434, correction:0.005149404409091595\n",
      "49[Vz]  no correction: 0.009210196417010263, correction:0.0022914112111083827\n"
     ]
    },
    {
     "name": "stderr",
     "output_type": "stream",
     "text": [
      "\r",
      "  9%|███████▏                                                                     | 28/300 [56:27<10:05:10, 133.49s/it]"
     ]
    },
    {
     "name": "stdout",
     "output_type": "stream",
     "text": [
      "51[x]  no correction: 0.05448730355861418, correction:0.003895330674732219\n",
      "51[y]  no correction: 0.008684040225388986, correction:0.0006145937541817547\n",
      "51[z]  no correction: 0.009073550414828126, correction:0.002076239538899922\n",
      "51[Vx]  no correction: 0.01914192778014079, correction:0.0015362905732717216\n",
      "51[Vy]  no correction: 0.014609565784140795, correction:0.0007609132052974064\n",
      "51[Vz]  no correction: 0.022025240989480138, correction:0.0019329380922379744\n"
     ]
    },
    {
     "name": "stderr",
     "output_type": "stream",
     "text": [
      "\r",
      " 10%|███████▎                                                                   | 29/300 [1:04:18<17:40:43, 234.85s/it]"
     ]
    },
    {
     "name": "stdout",
     "output_type": "stream",
     "text": [
      "52[x]  no correction: 0.11265408017254866, correction:0.07586301495405894\n",
      "52[y]  no correction: 0.12935712906777086, correction:0.05364130379137754\n",
      "52[z]  no correction: 0.09943494740262239, correction:0.0626971334499474\n"
     ]
    },
    {
     "name": "stderr",
     "output_type": "stream",
     "text": [
      "WARNING:fbprophet:Optimization terminated abnormally. Falling back to Newton.\n"
     ]
    },
    {
     "name": "stdout",
     "output_type": "stream",
     "text": [
      "52[Vx]  no correction: 0.12001338108230471, correction:0.03624609072226993\n",
      "52[Vy]  no correction: 0.1233178151632751, correction:0.080621083021896\n",
      "52[Vz]  no correction: 0.09319485476220658, correction:0.06283179017394783\n"
     ]
    },
    {
     "name": "stderr",
     "output_type": "stream",
     "text": [
      "\r",
      " 10%|███████▌                                                                   | 30/300 [1:06:39<15:30:42, 206.82s/it]"
     ]
    },
    {
     "name": "stdout",
     "output_type": "stream",
     "text": [
      "53[x]  no correction: 0.002331806467229659, correction:7.522555965129633e-05\n",
      "53[y]  no correction: 0.0012374164926614683, correction:8.968373095122132e-05\n",
      "53[z]  no correction: 0.001922141916141213, correction:0.0008793239328882047\n",
      "53[Vx]  no correction: 0.0006011072872423084, correction:6.945358807184087e-05\n",
      "53[Vy]  no correction: 0.0009658983400815792, correction:8.044133539521485e-05\n",
      "53[Vz]  no correction: 0.0010811237727928905, correction:0.00025154983316222156\n"
     ]
    },
    {
     "name": "stderr",
     "output_type": "stream",
     "text": [
      "\r",
      " 10%|███████▊                                                                   | 31/300 [1:11:18<17:03:48, 228.36s/it]"
     ]
    },
    {
     "name": "stdout",
     "output_type": "stream",
     "text": [
      "54[x]  no correction: 0.3414303250291586, correction:0.08407600537791209\n",
      "54[y]  no correction: 0.18991781788585801, correction:0.14865634525262436\n",
      "54[z]  no correction: 0.35788719007235276, correction:0.07255203136266809\n",
      "54[Vx]  no correction: 0.30684022018960594, correction:0.22593562570817272\n",
      "54[Vy]  no correction: 0.17937309261523485, correction:0.12776895076982378\n",
      "54[Vz]  no correction: 0.3259835538743893, correction:0.23195371211449475\n"
     ]
    },
    {
     "name": "stderr",
     "output_type": "stream",
     "text": [
      "\r",
      " 11%|████████                                                                   | 32/300 [1:12:43<13:47:46, 185.32s/it]"
     ]
    },
    {
     "name": "stdout",
     "output_type": "stream",
     "text": [
      "57[x]  no correction: 0.006588479784274033, correction:7.158191515627123e-05\n",
      "57[y]  no correction: 0.006831381009188526, correction:0.00013050098093209486\n",
      "57[z]  no correction: 0.01701886461964551, correction:0.0008169019151190897\n",
      "57[Vx]  no correction: 0.005921397018218285, correction:7.57926520807052e-05\n",
      "57[Vy]  no correction: 0.010682481285536869, correction:0.00015044139422637815\n",
      "57[Vz]  no correction: 0.007976319893855643, correction:0.0001730253042247186\n"
     ]
    },
    {
     "name": "stderr",
     "output_type": "stream",
     "text": [
      "\r",
      " 11%|████████▎                                                                  | 33/300 [1:20:18<19:44:17, 266.13s/it]"
     ]
    },
    {
     "name": "stdout",
     "output_type": "stream",
     "text": [
      "59[x]  no correction: 0.0008012863524988868, correction:0.0006863246111520994\n",
      "59[y]  no correction: 0.0009286536131244317, correction:0.00045804916494026856\n",
      "59[z]  no correction: 0.0010250820452177894, correction:7.763860104935679e-05\n",
      "59[Vx]  no correction: 0.0018296002553309645, correction:0.00035435105231136654\n",
      "59[Vy]  no correction: 0.0004617709844522232, correction:0.00021133177763186514\n",
      "59[Vz]  no correction: 0.002865495184726017, correction:0.0014849936143332488\n"
     ]
    },
    {
     "name": "stderr",
     "output_type": "stream",
     "text": [
      "\r",
      " 11%|████████▌                                                                  | 34/300 [1:22:28<16:39:02, 225.35s/it]"
     ]
    },
    {
     "name": "stdout",
     "output_type": "stream",
     "text": [
      "63[x]  no correction: 0.04141378774230778, correction:0.0023287158462144374\n",
      "63[y]  no correction: 0.024396841427026434, correction:0.00022505354667047285\n",
      "63[z]  no correction: 0.09491452235380919, correction:0.008632358229161613\n",
      "63[Vx]  no correction: 0.05262482322697751, correction:0.0010070627736776222\n",
      "63[Vy]  no correction: 0.021293036092388324, correction:0.0037318455082536385\n",
      "63[Vz]  no correction: 0.06178519872501411, correction:0.017018598438764947\n"
     ]
    },
    {
     "name": "stderr",
     "output_type": "stream",
     "text": [
      "\r",
      " 12%|████████▊                                                                  | 35/300 [1:27:47<18:39:07, 253.39s/it]"
     ]
    },
    {
     "name": "stdout",
     "output_type": "stream",
     "text": [
      "64[x]  no correction: 0.06443278231262352, correction:0.006824848177473202\n",
      "64[y]  no correction: 0.04135981093815877, correction:0.005680935050578618\n",
      "64[z]  no correction: 0.06628658248184714, correction:0.030703757400111355\n",
      "64[Vx]  no correction: 0.07635934604588164, correction:0.04633000033326767\n",
      "64[Vy]  no correction: 0.04233534810445916, correction:0.029599745288395405\n",
      "64[Vz]  no correction: 0.11034329446040116, correction:0.06342436256511934\n"
     ]
    },
    {
     "name": "stderr",
     "output_type": "stream",
     "text": [
      "\r",
      " 12%|█████████                                                                  | 36/300 [1:29:09<14:48:56, 202.03s/it]"
     ]
    },
    {
     "name": "stdout",
     "output_type": "stream",
     "text": [
      "68[x]  no correction: 0.0019617026091700127, correction:0.0005806775929173184\n",
      "68[y]  no correction: 0.001971226307110543, correction:9.924310943461951e-05\n",
      "68[z]  no correction: 0.0023172340153669218, correction:0.000892962648098367\n",
      "68[Vx]  no correction: 0.0020351950175296245, correction:0.0003570014720147135\n",
      "68[Vy]  no correction: 0.0013663239772692226, correction:7.483102981256645e-05\n",
      "68[Vz]  no correction: 0.004679815950600495, correction:0.0038894176425513832\n"
     ]
    },
    {
     "name": "stderr",
     "output_type": "stream",
     "text": [
      "\r",
      " 12%|█████████▎                                                                 | 37/300 [1:32:25<14:37:17, 200.14s/it]"
     ]
    },
    {
     "name": "stdout",
     "output_type": "stream",
     "text": [
      "70[x]  no correction: 0.0027492438887627584, correction:0.02792007203406488\n",
      "70 x does not work\n",
      "70[y]  no correction: 0.02190609920792408, correction:0.02506578805347424\n",
      "70 y does not work\n",
      "70[z]  no correction: 0.0033510050842513323, correction:0.008500532424554095\n",
      "70 z does not work\n",
      "70[Vx]  no correction: 0.6911956388340358, correction:0.7474028729166987\n",
      "70 Vx does not work\n",
      "70[Vy]  no correction: 0.009599941493432781, correction:0.012678029175991415\n",
      "70 Vy does not work\n",
      "70[Vz]  no correction: 0.6883809114247971, correction:0.8622695095409068\n",
      "70 Vz does not work\n"
     ]
    },
    {
     "name": "stderr",
     "output_type": "stream",
     "text": [
      "\r",
      " 13%|█████████▌                                                                 | 38/300 [1:32:54<10:50:24, 148.95s/it]"
     ]
    },
    {
     "name": "stdout",
     "output_type": "stream",
     "text": [
      "75[x]  no correction: 0.09938028123799976, correction:0.0006028518152813276\n",
      "75[y]  no correction: 0.16518004508536327, correction:0.007930426386892593\n",
      "75[z]  no correction: 0.16620979730009344, correction:0.00036606004898485434\n",
      "75[Vx]  no correction: 0.1086327085839466, correction:0.0009812936496667527\n",
      "75[Vy]  no correction: 0.17628223562991632, correction:0.0030223891506474024\n",
      "75[Vz]  no correction: 0.14479753397691136, correction:0.1241974318446435\n"
     ]
    },
    {
     "name": "stderr",
     "output_type": "stream",
     "text": [
      "\r",
      " 13%|█████████▊                                                                 | 39/300 [1:37:58<14:09:43, 195.34s/it]"
     ]
    },
    {
     "name": "stdout",
     "output_type": "stream",
     "text": [
      "82[x]  no correction: 0.25553188864654675, correction:0.0662585018890931\n",
      "82[y]  no correction: 0.29750529940622766, correction:0.1501829459869501\n",
      "82[z]  no correction: 0.3459493396250744, correction:0.022265447729273656\n",
      "82[Vx]  no correction: 0.1996725141630322, correction:0.19791736047077324\n",
      "82[Vy]  no correction: 0.227912655427312, correction:0.08386292464143055\n",
      "82[Vz]  no correction: 0.34012791548792937, correction:0.2146753714817067\n"
     ]
    },
    {
     "name": "stderr",
     "output_type": "stream",
     "text": [
      "\r",
      " 13%|██████████                                                                 | 40/300 [1:39:02<11:16:37, 156.14s/it]"
     ]
    },
    {
     "name": "stdout",
     "output_type": "stream",
     "text": [
      "84[x]  no correction: 0.0029399081259104975, correction:0.00023772454367289487\n",
      "84[y]  no correction: 0.004984549599200188, correction:0.0006290493800559746\n",
      "84[z]  no correction: 0.0029780672692571795, correction:0.00032630460209815803\n",
      "84[Vx]  no correction: 0.0013360090607351304, correction:0.0003687814273327249\n",
      "84[Vy]  no correction: 0.003938662191155529, correction:0.0008397703254209304\n",
      "84[Vz]  no correction: 0.002102885836953695, correction:0.0002414325020770531\n"
     ]
    },
    {
     "name": "stderr",
     "output_type": "stream",
     "text": [
      "\r",
      " 14%|██████████▎                                                                | 41/300 [1:43:18<13:22:43, 185.96s/it]"
     ]
    },
    {
     "name": "stdout",
     "output_type": "stream",
     "text": [
      "86[x]  no correction: 0.0027006716900702687, correction:0.001467630090809527\n",
      "86[y]  no correction: 0.002807137311196574, correction:0.0003423197595406551\n",
      "86[z]  no correction: 0.0042816555172726905, correction:0.0007143875857560448\n",
      "86[Vx]  no correction: 0.013396225810054955, correction:0.0010321894254651937\n",
      "86[Vy]  no correction: 0.020261914408332832, correction:0.02064488253702102\n",
      "86 Vy does not work\n",
      "86[Vz]  no correction: 0.05961396686372824, correction:0.008594632127533579\n"
     ]
    },
    {
     "name": "stderr",
     "output_type": "stream",
     "text": [
      "\r",
      " 14%|██████████▌                                                                | 42/300 [1:47:14<14:23:44, 200.87s/it]"
     ]
    },
    {
     "name": "stdout",
     "output_type": "stream",
     "text": [
      "89[x]  no correction: 0.04559986643436054, correction:0.004806130495595944\n",
      "89[y]  no correction: 0.009131425765869408, correction:0.0006966679932098487\n",
      "89[z]  no correction: 0.003970601441145426, correction:0.0011655720526190265\n",
      "89[Vx]  no correction: 0.003970387367373817, correction:0.017729104367542742\n",
      "89 Vx does not work\n",
      "89[Vy]  no correction: 0.003329210034905253, correction:0.00038215444833642045\n",
      "89[Vz]  no correction: 0.007220281442560047, correction:0.0009326332585045901\n"
     ]
    },
    {
     "name": "stderr",
     "output_type": "stream",
     "text": [
      "\r",
      " 14%|██████████▊                                                                | 43/300 [1:49:10<12:31:14, 175.39s/it]"
     ]
    },
    {
     "name": "stdout",
     "output_type": "stream",
     "text": [
      "90[x]  no correction: 0.12728541420212336, correction:0.016396698430688916\n",
      "90[y]  no correction: 0.06897707949444962, correction:0.039567366548377544\n",
      "90[z]  no correction: 0.03539205120685866, correction:0.020499692461428652\n",
      "90[Vx]  no correction: 0.13352763666151182, correction:0.09910757461591967\n",
      "90[Vy]  no correction: 0.06829315327013948, correction:0.04638674999410965\n",
      "90[Vz]  no correction: 0.06920621807981678, correction:0.026720245340482892\n"
     ]
    },
    {
     "name": "stderr",
     "output_type": "stream",
     "text": [
      "\r",
      " 15%|███████████                                                                | 44/300 [1:50:09<10:00:09, 140.66s/it]"
     ]
    },
    {
     "name": "stdout",
     "output_type": "stream",
     "text": [
      "91[x]  no correction: 0.16261584647019545, correction:0.011733715126586225\n",
      "91[y]  no correction: 0.10974817250202727, correction:0.007532360153544437\n",
      "91[z]  no correction: 0.1307709466868794, correction:0.007183567850428598\n",
      "91[Vx]  no correction: 0.13773403756030905, correction:0.0069639012565475954\n",
      "91[Vy]  no correction: 0.09658295736051714, correction:0.007097574965520507\n",
      "91[Vz]  no correction: 0.118173889594105, correction:0.005117591532932608\n"
     ]
    },
    {
     "name": "stderr",
     "output_type": "stream",
     "text": [
      "\r",
      " 15%|███████████▎                                                               | 45/300 [1:54:26<12:25:38, 175.44s/it]"
     ]
    },
    {
     "name": "stdout",
     "output_type": "stream",
     "text": [
      "92[x]  no correction: 0.15764959488475094, correction:0.017682085683915574\n",
      "92[y]  no correction: 0.094616401061126, correction:0.0038097763627262865\n",
      "92[z]  no correction: 0.11028118452469005, correction:0.018014512823186175\n",
      "92[Vx]  no correction: 0.10982478304037938, correction:0.07966831726101621\n",
      "92[Vy]  no correction: 0.11859600709053432, correction:0.043109653151969726\n",
      "92[Vz]  no correction: 0.16598904857312435, correction:0.01743689919290162\n"
     ]
    },
    {
     "name": "stderr",
     "output_type": "stream",
     "text": [
      "\r",
      " 15%|███████████▌                                                               | 46/300 [1:55:39<10:13:04, 144.82s/it]"
     ]
    },
    {
     "name": "stdout",
     "output_type": "stream",
     "text": [
      "93[x]  no correction: 0.02526396742670525, correction:0.0005156493060321245\n",
      "93[y]  no correction: 0.010299180053075313, correction:0.00035183668409134136\n",
      "93[z]  no correction: 0.025464955857812645, correction:9.848681762201595e-05\n",
      "93[Vx]  no correction: 0.024047170414158638, correction:0.00011912999941299591\n",
      "93[Vy]  no correction: 0.010772286626787685, correction:0.00040776723815464744\n",
      "93[Vz]  no correction: 0.022405756165873137, correction:0.00043084051831872365\n"
     ]
    },
    {
     "name": "stderr",
     "output_type": "stream",
     "text": [
      "\r",
      " 16%|███████████▊                                                               | 47/300 [2:02:39<15:59:15, 227.49s/it]"
     ]
    },
    {
     "name": "stdout",
     "output_type": "stream",
     "text": [
      "96[x]  no correction: 0.004750192078988467, correction:0.0007724847206284219\n",
      "96[y]  no correction: 0.012304959440753887, correction:0.0019311161670084558\n",
      "96[z]  no correction: 0.005728675970367315, correction:0.002119663758734366\n",
      "96[Vx]  no correction: 0.006417236247010161, correction:0.004880438109061443\n",
      "96[Vy]  no correction: 0.02270614917924937, correction:0.011830729941913129\n",
      "96[Vz]  no correction: 0.0025071287785029374, correction:0.0026424719200575197\n",
      "96 Vz does not work\n"
     ]
    },
    {
     "name": "stderr",
     "output_type": "stream",
     "text": [
      "\r",
      " 16%|████████████                                                               | 48/300 [2:03:51<12:38:17, 180.55s/it]"
     ]
    },
    {
     "name": "stdout",
     "output_type": "stream",
     "text": [
      "98[x]  no correction: 0.01776561824040598, correction:0.0006755607555176403\n",
      "98[y]  no correction: 0.007346213868489351, correction:0.0008519126984481033\n",
      "98[z]  no correction: 0.008067950281207428, correction:0.0009576161688351442\n",
      "98[Vx]  no correction: 0.00737536782372952, correction:0.0018122970398063438\n",
      "98[Vy]  no correction: 0.008833786524738717, correction:0.0025325900143579796\n",
      "98[Vz]  no correction: 0.005054044572009745, correction:0.0006918640867147813\n"
     ]
    },
    {
     "name": "stderr",
     "output_type": "stream",
     "text": [
      "\r",
      " 16%|████████████▎                                                              | 49/300 [2:05:44<11:10:46, 160.35s/it]"
     ]
    },
    {
     "name": "stdout",
     "output_type": "stream",
     "text": [
      "100[x]  no correction: 0.07814740281986324, correction:0.03776387426978876\n",
      "100[y]  no correction: 0.03479819581763917, correction:0.0037488023566235587\n",
      "100[z]  no correction: 0.12560809655051738, correction:0.002551701004287671\n",
      "100[Vx]  no correction: 0.09339968898850272, correction:0.0015869616943744603\n",
      "100[Vy]  no correction: 0.03825117690684282, correction:0.01035525828483113\n",
      "100[Vz]  no correction: 0.08444370278180789, correction:0.02702202455811258\n"
     ]
    },
    {
     "name": "stderr",
     "output_type": "stream",
     "text": [
      "\r",
      " 17%|████████████▋                                                               | 50/300 [2:07:20<9:48:05, 141.14s/it]"
     ]
    },
    {
     "name": "stdout",
     "output_type": "stream",
     "text": [
      "101[x]  no correction: 0.10946453049240475, correction:0.0017334950181406969\n",
      "101[y]  no correction: 0.030474428295075778, correction:0.0007245837598396732\n",
      "101[z]  no correction: 0.10086049594895606, correction:0.0005469355745672361\n",
      "101[Vx]  no correction: 0.0652570204600443, correction:0.0020838209618556677\n",
      "101[Vy]  no correction: 0.057839468884919164, correction:0.0073197692894694764\n",
      "101[Vz]  no correction: 0.08480706146475812, correction:0.0025163132414817374\n"
     ]
    },
    {
     "name": "stderr",
     "output_type": "stream",
     "text": [
      "\r",
      " 17%|████████████▊                                                              | 51/300 [2:10:51<11:13:12, 162.22s/it]"
     ]
    },
    {
     "name": "stdout",
     "output_type": "stream",
     "text": [
      "102[x]  no correction: 0.03094158360350322, correction:0.03271369459595957\n",
      "102 x does not work\n",
      "102[y]  no correction: 0.02808125361290358, correction:0.014442452068360407\n",
      "102[z]  no correction: 0.021278284230417093, correction:0.001247913968676693\n",
      "102[Vx]  no correction: 0.07739783923676696, correction:0.011531041474769245\n",
      "102[Vy]  no correction: 0.06327230780973096, correction:0.005186807202363513\n",
      "102[Vz]  no correction: 0.04572734268772913, correction:0.04238886920977966\n"
     ]
    },
    {
     "name": "stderr",
     "output_type": "stream",
     "text": [
      "\r",
      " 17%|█████████████▏                                                              | 52/300 [2:12:22<9:41:34, 140.70s/it]"
     ]
    },
    {
     "name": "stdout",
     "output_type": "stream",
     "text": [
      "105[x]  no correction: 0.007460279095269066, correction:0.0015108924261956539\n",
      "105[y]  no correction: 0.013196289512951914, correction:0.0003885758050015504\n",
      "105[z]  no correction: 0.005543491795240562, correction:0.0010105021491733006\n",
      "105[Vx]  no correction: 0.0036666982458720978, correction:0.0004996126180127234\n",
      "105[Vy]  no correction: 0.008116345528506944, correction:0.0004598721033069809\n",
      "105[Vz]  no correction: 0.002792572873398992, correction:0.0010713281938037461\n"
     ]
    },
    {
     "name": "stderr",
     "output_type": "stream",
     "text": [
      "\r",
      " 18%|█████████████▍                                                              | 53/300 [2:14:38<9:33:10, 139.23s/it]"
     ]
    },
    {
     "name": "stdout",
     "output_type": "stream",
     "text": [
      "106[x]  no correction: 0.10506411795785221, correction:0.07310327015391915\n",
      "106[y]  no correction: 0.06712871209266738, correction:0.025386643500057877\n",
      "106[z]  no correction: 0.16283518065030134, correction:0.041386445006897005\n",
      "106[Vx]  no correction: 0.10635842425578025, correction:0.11562590303067949\n",
      "106 Vx does not work\n",
      "106[Vy]  no correction: 0.08607312186890445, correction:0.0931205284340184\n",
      "106 Vy does not work\n",
      "106[Vz]  no correction: 0.18196294221081744, correction:0.09530433061163847\n"
     ]
    },
    {
     "name": "stderr",
     "output_type": "stream",
     "text": [
      "\r",
      " 18%|█████████████▋                                                              | 54/300 [2:15:18<7:29:11, 109.56s/it]"
     ]
    },
    {
     "name": "stdout",
     "output_type": "stream",
     "text": [
      "109[x]  no correction: 0.11278282117846741, correction:0.0007675098834476564\n",
      "109[y]  no correction: 0.05444610112629224, correction:0.0035103927077532807\n",
      "109[z]  no correction: 0.14884859534499786, correction:0.03519102624798704\n",
      "109[Vx]  no correction: 0.11710671536803302, correction:0.010063214761615267\n",
      "109[Vy]  no correction: 0.03978302257074019, correction:0.001873952799809931\n",
      "109[Vz]  no correction: 0.18061727475134484, correction:0.06437707694124413\n"
     ]
    },
    {
     "name": "stderr",
     "output_type": "stream",
     "text": [
      "\r",
      " 18%|█████████████▉                                                              | 55/300 [2:17:33<7:57:56, 117.05s/it]"
     ]
    },
    {
     "name": "stdout",
     "output_type": "stream",
     "text": [
      "110[x]  no correction: 0.03140392629499835, correction:0.021593258059563407\n",
      "110[y]  no correction: 0.013262670859129072, correction:0.004650294758518139\n",
      "110[z]  no correction: 0.013785924044123335, correction:0.004698328365619366\n",
      "110[Vx]  no correction: 0.011736375126952034, correction:0.006187272026451254\n",
      "110[Vy]  no correction: 0.00931447693209984, correction:0.005419950714204344\n",
      "110[Vz]  no correction: 0.014588510489912327, correction:0.004488378865750489\n"
     ]
    },
    {
     "name": "stderr",
     "output_type": "stream",
     "text": [
      "\r",
      " 19%|██████████████▏                                                             | 56/300 [2:18:40<6:54:50, 102.01s/it]"
     ]
    },
    {
     "name": "stdout",
     "output_type": "stream",
     "text": [
      "112[x]  no correction: 0.012316087196521034, correction:0.009717859956695307\n",
      "112[y]  no correction: 0.006932382876136404, correction:0.000528395372720977\n",
      "112[z]  no correction: 0.005765013721726518, correction:0.0004786904256381362\n",
      "112[Vx]  no correction: 0.013412300660806807, correction:0.0017308148538065465\n",
      "112[Vy]  no correction: 0.0266324585900519, correction:0.015998831261918457\n",
      "112[Vz]  no correction: 0.06621651372713015, correction:0.005000032922316811\n"
     ]
    },
    {
     "name": "stderr",
     "output_type": "stream",
     "text": [
      "\r",
      " 19%|██████████████▍                                                             | 57/300 [2:22:30<9:28:55, 140.48s/it]"
     ]
    },
    {
     "name": "stdout",
     "output_type": "stream",
     "text": [
      "113[x]  no correction: 0.2667678142403007, correction:0.10731130326228788\n",
      "113[y]  no correction: 0.1614338549046993, correction:0.10447580508031329\n",
      "113[z]  no correction: 0.15689686086288887, correction:0.010087009005506464\n",
      "113[Vx]  no correction: 0.2418380813868197, correction:0.16334679017403117\n",
      "113[Vy]  no correction: 0.1375366383482117, correction:0.0890948821134177\n",
      "113[Vz]  no correction: 0.20555199598377608, correction:0.14322144888376043\n"
     ]
    },
    {
     "name": "stderr",
     "output_type": "stream",
     "text": [
      "\r",
      " 19%|██████████████▋                                                             | 58/300 [2:23:28<7:47:10, 115.83s/it]"
     ]
    },
    {
     "name": "stdout",
     "output_type": "stream",
     "text": [
      "114[x]  no correction: 0.21142700650672566, correction:0.04330315678381041\n",
      "114[y]  no correction: 0.12290847175479656, correction:0.07560599207489271\n",
      "114[z]  no correction: 0.12614560302637676, correction:0.10000395868014793\n",
      "114[Vx]  no correction: 0.18127215939758903, correction:0.11577209155492196\n",
      "114[Vy]  no correction: 0.12043564565862834, correction:0.08014496440002442\n",
      "114[Vz]  no correction: 0.10835283154741078, correction:0.08083249202630376\n"
     ]
    },
    {
     "name": "stderr",
     "output_type": "stream",
     "text": [
      "\r",
      " 20%|███████████████▏                                                             | 59/300 [2:24:19<6:26:59, 96.35s/it]"
     ]
    },
    {
     "name": "stdout",
     "output_type": "stream",
     "text": [
      "117[x]  no correction: 0.008546721302910587, correction:0.011111520920459476\n",
      "117 x does not work\n",
      "117[y]  no correction: 0.00614804839083623, correction:0.0035733887705325772\n",
      "117[z]  no correction: 0.017648659846590944, correction:0.010771395371322504\n",
      "117[Vx]  no correction: 0.007804413818456066, correction:0.004441216039652129\n",
      "117[Vy]  no correction: 0.6537712055785948, correction:0.845172626524889\n",
      "117 Vy does not work\n",
      "117[Vz]  no correction: 0.009468254661180503, correction:0.0038510156897382177\n"
     ]
    },
    {
     "name": "stderr",
     "output_type": "stream",
     "text": [
      "\r",
      " 20%|███████████████▍                                                             | 60/300 [2:25:10<5:31:09, 82.79s/it]"
     ]
    },
    {
     "name": "stdout",
     "output_type": "stream",
     "text": [
      "118[x]  no correction: 0.021135408716479592, correction:0.0010062426635472767\n",
      "118[y]  no correction: 0.08392517455389964, correction:0.0023744883178541645\n",
      "118[z]  no correction: 0.03757121505106327, correction:0.007789626650252277\n",
      "118[Vx]  no correction: 0.7279449961921324, correction:0.789355211068119\n",
      "118 Vx does not work\n",
      "118[Vy]  no correction: 0.03162086305315651, correction:0.0015415302039974348\n",
      "118[Vz]  no correction: 0.07364241356995777, correction:0.004715886859494205\n"
     ]
    },
    {
     "name": "stderr",
     "output_type": "stream",
     "text": [
      "\r",
      " 20%|███████████████▋                                                             | 61/300 [2:27:00<6:01:48, 90.83s/it]"
     ]
    },
    {
     "name": "stdout",
     "output_type": "stream",
     "text": [
      "120[x]  no correction: 0.01104666685006465, correction:0.003831268550017545\n",
      "120[y]  no correction: 0.021894431908583815, correction:0.0055919036294778185\n",
      "120[z]  no correction: 0.024748282226322374, correction:0.00957196875503152\n",
      "120[Vx]  no correction: 0.016058698265322174, correction:0.013571030135693479\n",
      "120[Vy]  no correction: 0.011443143996619089, correction:0.012381983688471255\n",
      "120 Vy does not work\n",
      "120[Vz]  no correction: 0.018347241634400182, correction:0.0032800507134813054\n"
     ]
    },
    {
     "name": "stderr",
     "output_type": "stream",
     "text": [
      "\r",
      " 21%|███████████████▉                                                             | 62/300 [2:28:08<5:32:57, 83.94s/it]"
     ]
    },
    {
     "name": "stdout",
     "output_type": "stream",
     "text": [
      "121[x]  no correction: 0.013811512773837445, correction:0.0001935080319027958\n",
      "121[y]  no correction: 0.02072406843505009, correction:0.0006680706058980409\n",
      "121[z]  no correction: 0.004993238774620391, correction:0.00026896197922354124\n",
      "121[Vx]  no correction: 0.014595871081580072, correction:0.0005461345466360221\n",
      "121[Vy]  no correction: 0.006240540243091783, correction:0.00012444595988358802\n",
      "121[Vz]  no correction: 0.0044182660419508695, correction:0.00010268614931932277\n"
     ]
    },
    {
     "name": "stderr",
     "output_type": "stream",
     "text": [
      "\r",
      " 21%|███████████████▊                                                           | 63/300 [2:33:24<10:06:51, 153.63s/it]"
     ]
    },
    {
     "name": "stdout",
     "output_type": "stream",
     "text": [
      "123[x]  no correction: 0.002783845541622793, correction:0.00015345503202439167\n",
      "123[y]  no correction: 0.0032280772377960456, correction:0.000487835362490502\n",
      "123[z]  no correction: 0.0014383885901407942, correction:0.0001144402417754738\n",
      "123[Vx]  no correction: 0.006477156900031174, correction:0.0023203351534947458\n",
      "123[Vy]  no correction: 0.0014345959843431572, correction:0.00025464585885261843\n",
      "123[Vz]  no correction: 0.006783856975322417, correction:0.0006540671565094752\n"
     ]
    },
    {
     "name": "stderr",
     "output_type": "stream",
     "text": [
      "\r",
      " 21%|████████████████                                                           | 64/300 [2:38:57<13:36:34, 207.60s/it]"
     ]
    },
    {
     "name": "stdout",
     "output_type": "stream",
     "text": [
      "124[x]  no correction: 0.002617938754118908, correction:0.00014788184491327437\n",
      "124[y]  no correction: 0.0033096199080959424, correction:0.0002307910054312879\n",
      "124[z]  no correction: 0.001714799335906867, correction:5.3889857196717333e-05\n",
      "124[Vx]  no correction: 0.002809040396266271, correction:0.00014930479667208248\n",
      "124[Vy]  no correction: 0.012045918777283634, correction:5.440966589095798e-05\n",
      "124[Vz]  no correction: 0.002266977573631573, correction:0.0001942511890288277\n"
     ]
    },
    {
     "name": "stderr",
     "output_type": "stream",
     "text": [
      "\r",
      " 22%|████████████████▎                                                          | 65/300 [2:49:46<22:11:32, 339.97s/it]"
     ]
    },
    {
     "name": "stdout",
     "output_type": "stream",
     "text": [
      "125[x]  no correction: 0.03516537761475196, correction:0.00025475064496583745\n",
      "125[y]  no correction: 0.022951477994959488, correction:0.0011049357570587094\n",
      "125[z]  no correction: 0.014495080221486732, correction:0.00018209873675049612\n",
      "125[Vx]  no correction: 0.06686307184359688, correction:0.0021008381699343707\n",
      "125[Vy]  no correction: 0.022431569786802726, correction:0.00042040109220686637\n",
      "125[Vz]  no correction: 0.0242817568984867, correction:0.0003194501338883177\n"
     ]
    },
    {
     "name": "stderr",
     "output_type": "stream",
     "text": [
      "\r",
      " 22%|████████████████▌                                                          | 66/300 [2:55:39<22:21:15, 343.91s/it]"
     ]
    },
    {
     "name": "stdout",
     "output_type": "stream",
     "text": [
      "126[x]  no correction: 0.04476465061470189, correction:0.0019282140277055897\n",
      "126[y]  no correction: 0.002122242827292344, correction:0.0004003512334538463\n",
      "126[z]  no correction: 0.01344794074604566, correction:0.0011079999735389078\n",
      "126[Vx]  no correction: 0.010640433463927648, correction:0.0006590649467372352\n",
      "126[Vy]  no correction: 0.004545919240029814, correction:0.00044359015327539216\n",
      "126[Vz]  no correction: 0.002953958134554036, correction:0.0002136664518635447\n"
     ]
    },
    {
     "name": "stderr",
     "output_type": "stream",
     "text": [
      "\r",
      " 22%|████████████████▊                                                          | 67/300 [2:59:15<19:46:15, 305.47s/it]"
     ]
    },
    {
     "name": "stdout",
     "output_type": "stream",
     "text": [
      "127[x]  no correction: 0.19506779523130127, correction:0.09617608668135275\n",
      "127[y]  no correction: 0.11908454087688794, correction:0.1286936932353819\n",
      "127 y does not work\n",
      "127[z]  no correction: 0.17890909526450832, correction:0.0863211032695765\n",
      "127[Vx]  no correction: 0.20366486726076702, correction:0.1316131174828869\n",
      "127[Vy]  no correction: 0.1685088820552749, correction:0.16720565348901803\n",
      "127[Vz]  no correction: 0.17850834209672717, correction:0.1449428205496591\n"
     ]
    },
    {
     "name": "stderr",
     "output_type": "stream",
     "text": [
      "\r",
      " 23%|█████████████████                                                          | 68/300 [3:00:23<15:05:15, 234.12s/it]"
     ]
    },
    {
     "name": "stdout",
     "output_type": "stream",
     "text": [
      "128[x]  no correction: 0.05071319455485125, correction:0.003422870543577626\n",
      "128[y]  no correction: 0.0458018165875982, correction:0.0053015986418228755\n",
      "128[z]  no correction: 0.09738901603082556, correction:0.010546389193942561\n",
      "128[Vx]  no correction: 0.0634478436024753, correction:0.008407170668949446\n",
      "128[Vy]  no correction: 0.0333101071374112, correction:0.00858914175987935\n",
      "128[Vz]  no correction: 0.08582134419884607, correction:0.009532241394901057\n"
     ]
    },
    {
     "name": "stderr",
     "output_type": "stream",
     "text": [
      "\r",
      " 23%|█████████████████▎                                                         | 69/300 [3:02:27<12:54:44, 201.23s/it]"
     ]
    },
    {
     "name": "stdout",
     "output_type": "stream",
     "text": [
      "130[x]  no correction: 0.0071431226735522374, correction:0.0006006414539423885\n",
      "130[y]  no correction: 0.007685982593618506, correction:0.001869851297156044\n",
      "130[z]  no correction: 0.04227698976405318, correction:0.012844992878250066\n",
      "130[Vx]  no correction: 0.005339074677926773, correction:0.0018063614616592718\n",
      "130[Vy]  no correction: 0.005002602750731184, correction:0.000763445050622113\n",
      "130[Vz]  no correction: 0.02276095766337684, correction:0.0013542155777771599\n"
     ]
    },
    {
     "name": "stderr",
     "output_type": "stream",
     "text": [
      "\r",
      " 23%|█████████████████▌                                                         | 70/300 [3:05:26<12:25:23, 194.45s/it]"
     ]
    },
    {
     "name": "stdout",
     "output_type": "stream",
     "text": [
      "132[x]  no correction: 0.06799038923122822, correction:0.0007472232679406617\n",
      "132[y]  no correction: 0.061615063718041055, correction:0.00024814893695657196\n",
      "132[z]  no correction: 0.0306658622816819, correction:0.0004014998034912584\n",
      "132[Vx]  no correction: 0.05566953287121514, correction:0.002088293917197039\n",
      "132[Vy]  no correction: 0.023819300819599837, correction:0.0003892410268097801\n",
      "132[Vz]  no correction: 0.02539295857193905, correction:0.0004280842589964072\n"
     ]
    },
    {
     "name": "stderr",
     "output_type": "stream",
     "text": [
      "\r",
      " 24%|█████████████████▊                                                         | 71/300 [3:08:29<12:09:39, 191.18s/it]"
     ]
    },
    {
     "name": "stdout",
     "output_type": "stream",
     "text": [
      "133[x]  no correction: 0.0037493804437228866, correction:0.0011417705000075658\n",
      "133[y]  no correction: 0.004533949923176807, correction:0.0013011788595420708\n",
      "133[z]  no correction: 0.0029595484444138167, correction:0.0001748742728124489\n",
      "133[Vx]  no correction: 0.003219612266046261, correction:0.0009642678922658948\n",
      "133[Vy]  no correction: 0.0031444524210287594, correction:0.0009021894076133602\n",
      "133[Vz]  no correction: 0.004112003669572682, correction:0.000635844435811442\n"
     ]
    },
    {
     "name": "stderr",
     "output_type": "stream",
     "text": [
      "\r",
      " 24%|██████████████████                                                         | 72/300 [3:10:06<10:18:56, 162.88s/it]"
     ]
    },
    {
     "name": "stdout",
     "output_type": "stream",
     "text": [
      "135[x]  no correction: 0.00857563437808003, correction:0.0038070987732595693\n",
      "135[y]  no correction: 0.020396337912379724, correction:0.0001376017520381537\n",
      "135[z]  no correction: 0.016462362429049394, correction:0.002811100349946901\n",
      "135[Vx]  no correction: 0.00768673034974112, correction:0.003920470227174639\n",
      "135[Vy]  no correction: 0.019844708351435012, correction:0.00383270021252782\n",
      "135[Vz]  no correction: 0.010557337299764541, correction:0.007692403171857542\n"
     ]
    },
    {
     "name": "stderr",
     "output_type": "stream",
     "text": [
      "\r",
      " 24%|██████████████████▎                                                        | 73/300 [3:14:07<11:44:37, 186.25s/it]"
     ]
    },
    {
     "name": "stdout",
     "output_type": "stream",
     "text": [
      "138[x]  no correction: 0.04371518514060723, correction:5.499115459816742e-05\n",
      "138[y]  no correction: 0.018741487079132105, correction:0.0003891169348976595\n",
      "138[z]  no correction: 0.020673379210068996, correction:7.782186348096337e-05\n",
      "138[Vx]  no correction: 0.03459176450917362, correction:0.00040318480637506357\n",
      "138[Vy]  no correction: 0.016547985172170935, correction:2.485943911570689e-05\n",
      "138[Vz]  no correction: 0.021905067885234168, correction:0.00024602907364049283\n"
     ]
    },
    {
     "name": "stderr",
     "output_type": "stream",
     "text": [
      "\r",
      " 25%|██████████████████▌                                                        | 74/300 [3:27:02<22:46:40, 362.84s/it]"
     ]
    },
    {
     "name": "stdout",
     "output_type": "stream",
     "text": [
      "142[x]  no correction: 0.08909833709282905, correction:0.00436131755139568\n",
      "142[y]  no correction: 0.05556488169310339, correction:0.0022689952447399993\n",
      "142[z]  no correction: 0.06795251130894213, correction:0.009572857633036069\n",
      "142[Vx]  no correction: 0.06398036917157449, correction:0.020005169941571355\n",
      "142[Vy]  no correction: 0.04121650444000683, correction:0.0030740685119571014\n",
      "142[Vz]  no correction: 0.06545243919808769, correction:0.023812932164407396\n"
     ]
    },
    {
     "name": "stderr",
     "output_type": "stream",
     "text": [
      "\r",
      " 25%|██████████████████▊                                                        | 75/300 [3:31:10<20:32:08, 328.57s/it]"
     ]
    },
    {
     "name": "stdout",
     "output_type": "stream",
     "text": [
      "143[x]  no correction: 0.004840196099815736, correction:0.0020997703481585397\n",
      "143[y]  no correction: 0.0022963897693753996, correction:0.00030585924551425006\n",
      "143[z]  no correction: 0.0022166088559429343, correction:0.0011190707960513058\n",
      "143[Vx]  no correction: 0.0037638624084477515, correction:0.0009104136707479648\n",
      "143[Vy]  no correction: 0.0016163344904162396, correction:0.0013532639404416512\n",
      "143[Vz]  no correction: 0.0017838933228801405, correction:0.0006748595338800302\n"
     ]
    },
    {
     "name": "stderr",
     "output_type": "stream",
     "text": [
      "\r",
      " 25%|███████████████████                                                        | 76/300 [3:34:08<17:37:34, 283.28s/it]"
     ]
    },
    {
     "name": "stdout",
     "output_type": "stream",
     "text": [
      "144[x]  no correction: 0.017457609463399384, correction:0.0027638717460472173\n",
      "144[y]  no correction: 0.006142019959181242, correction:0.009375067511441031\n",
      "144 y does not work\n",
      "144[z]  no correction: 0.0018294852945892558, correction:0.0004389114146065593\n",
      "144[Vx]  no correction: 0.003447058766963333, correction:0.000648717333794315\n",
      "144[Vy]  no correction: 0.0033519352376071686, correction:0.0009858865149622296\n",
      "144[Vz]  no correction: 0.007022456867542582, correction:0.006011218876920636\n"
     ]
    },
    {
     "name": "stderr",
     "output_type": "stream",
     "text": [
      "\r",
      " 26%|███████████████████▎                                                       | 77/300 [3:36:27<14:51:22, 239.83s/it]"
     ]
    },
    {
     "name": "stdout",
     "output_type": "stream",
     "text": [
      "145[x]  no correction: 0.0022140017061914813, correction:0.0004447702783069763\n",
      "145[y]  no correction: 0.0020508603512846644, correction:0.00038960469792757537\n",
      "145[z]  no correction: 0.004798109517109349, correction:0.001037678073407412\n",
      "145[Vx]  no correction: 0.039896964549436545, correction:0.031305873235378076\n",
      "145[Vy]  no correction: 0.005275535325154453, correction:0.001984371673761641\n",
      "145[Vz]  no correction: 0.0021052095562780534, correction:0.00039900411550441447\n"
     ]
    },
    {
     "name": "stderr",
     "output_type": "stream",
     "text": [
      "\r",
      " 26%|███████████████████▌                                                       | 78/300 [3:42:02<16:33:50, 268.61s/it]"
     ]
    },
    {
     "name": "stdout",
     "output_type": "stream",
     "text": [
      "149[x]  no correction: 0.011680645715154793, correction:0.001287158199205674\n",
      "149[y]  no correction: 0.028811916699428283, correction:0.00680032923531692\n",
      "149[z]  no correction: 0.003104803864775771, correction:0.0007296724105673864\n",
      "149[Vx]  no correction: 0.003801277279153291, correction:0.0015227358539804208\n",
      "149[Vy]  no correction: 0.005360895225116381, correction:0.0032149656797348233\n",
      "149[Vz]  no correction: 0.011222486157088301, correction:0.0006908468735044332\n"
     ]
    },
    {
     "name": "stderr",
     "output_type": "stream",
     "text": [
      "\r",
      " 26%|███████████████████▋                                                       | 79/300 [3:45:29<15:20:42, 249.97s/it]"
     ]
    },
    {
     "name": "stdout",
     "output_type": "stream",
     "text": [
      "151[x]  no correction: 0.016963903382219037, correction:0.003014353134957604\n",
      "151[y]  no correction: 0.0042916019538177174, correction:0.002029432422020494\n",
      "151[z]  no correction: 0.05155408515430256, correction:0.005719298725736923\n",
      "151[Vx]  no correction: 0.03901229928026276, correction:0.01639028847488827\n",
      "151[Vy]  no correction: 0.005879013579865128, correction:0.0012128072969101885\n",
      "151[Vz]  no correction: 0.046607768075641105, correction:0.012174140998333161\n"
     ]
    },
    {
     "name": "stderr",
     "output_type": "stream",
     "text": [
      "\r",
      " 27%|████████████████████                                                       | 80/300 [3:49:20<14:56:19, 244.45s/it]"
     ]
    },
    {
     "name": "stdout",
     "output_type": "stream",
     "text": [
      "152[x]  no correction: 0.0073833236199042085, correction:0.0008180656390715906\n",
      "152[y]  no correction: 0.0014759690690252637, correction:0.0009104386329034175\n",
      "152[z]  no correction: 0.002330840560188782, correction:0.0002539760938391831\n",
      "152[Vx]  no correction: 0.004162745061495462, correction:0.0002465633957351583\n",
      "152[Vy]  no correction: 0.0027816315406066295, correction:0.0004291162802255978\n",
      "152[Vz]  no correction: 0.004057543937435848, correction:0.0002748375262244347\n"
     ]
    },
    {
     "name": "stderr",
     "output_type": "stream",
     "text": [
      "\r",
      " 27%|████████████████████▎                                                      | 81/300 [3:53:59<15:29:12, 254.58s/it]"
     ]
    },
    {
     "name": "stdout",
     "output_type": "stream",
     "text": [
      "153[x]  no correction: 0.14297014475359873, correction:0.1760186381174445\n",
      "153 x does not work\n",
      "153[y]  no correction: 0.13952705485754552, correction:0.06174264233670365\n",
      "153[z]  no correction: 0.04456024158962694, correction:0.03413983784558615\n",
      "153[Vx]  no correction: 0.33351082393114045, correction:0.7068495837200566\n",
      "153 Vx does not work\n",
      "153[Vy]  no correction: 0.49364602782572115, correction:0.3885514930358468\n",
      "153[Vz]  no correction: 0.11119204812390333, correction:0.5188834812419267\n",
      "153 Vz does not work\n"
     ]
    },
    {
     "name": "stderr",
     "output_type": "stream",
     "text": [
      "\r",
      " 27%|████████████████████▌                                                      | 82/300 [3:54:48<11:41:46, 193.15s/it]"
     ]
    },
    {
     "name": "stdout",
     "output_type": "stream",
     "text": [
      "155[x]  no correction: 0.014024469799402224, correction:0.0006077074075447924\n",
      "155[y]  no correction: 0.0264539991129995, correction:0.0010395499910427007\n",
      "155[z]  no correction: 0.02675306303022942, correction:0.0009908317325766237\n",
      "155[Vx]  no correction: 0.014743741172410164, correction:0.0007240668895799256\n",
      "155[Vy]  no correction: 0.0279848756228479, correction:0.0005975203969347717\n",
      "155[Vz]  no correction: 0.03316741140982264, correction:0.0007663847282977175\n"
     ]
    },
    {
     "name": "stderr",
     "output_type": "stream",
     "text": [
      "\r",
      " 28%|████████████████████▊                                                      | 83/300 [3:57:05<10:37:47, 176.35s/it]"
     ]
    },
    {
     "name": "stdout",
     "output_type": "stream",
     "text": [
      "156[x]  no correction: 0.0006941209623766812, correction:0.0013726358632039199\n",
      "156 x does not work\n",
      "156[y]  no correction: 0.001593406227065218, correction:0.0003234353240817915\n",
      "156[z]  no correction: 0.0007877623405946063, correction:0.001452963034406111\n",
      "156 z does not work\n",
      "156[Vx]  no correction: 0.0011095977296487346, correction:0.000731416392553982\n",
      "156[Vy]  no correction: 0.0037876131958439374, correction:0.002119772421632227\n",
      "156[Vz]  no correction: 0.0036765043892855046, correction:0.0012537919257019628\n"
     ]
    },
    {
     "name": "stderr",
     "output_type": "stream",
     "text": [
      "\r",
      " 28%|█████████████████████▎                                                      | 84/300 [3:58:18<8:42:39, 145.18s/it]"
     ]
    },
    {
     "name": "stdout",
     "output_type": "stream",
     "text": [
      "158[x]  no correction: 0.005041870613849695, correction:0.0021644844586331856\n",
      "158[y]  no correction: 0.015767968217699598, correction:0.0015776161800305176\n",
      "158[z]  no correction: 0.012605613596475603, correction:0.0010723765298931859\n",
      "158[Vx]  no correction: 0.00965973779116802, correction:0.0005722697383269025\n",
      "158[Vy]  no correction: 0.033191865982104496, correction:0.019049372437537435\n",
      "158[Vz]  no correction: 0.036355264620819686, correction:0.0006033093271656832\n"
     ]
    },
    {
     "name": "stderr",
     "output_type": "stream",
     "text": [
      "\r",
      " 28%|█████████████████████▌                                                      | 85/300 [3:59:48<7:41:29, 128.79s/it]"
     ]
    },
    {
     "name": "stdout",
     "output_type": "stream",
     "text": [
      "159[x]  no correction: 0.015988871333497617, correction:0.00672135939830874\n",
      "159[y]  no correction: 0.003892702136782974, correction:0.002992483054430134\n",
      "159[z]  no correction: 0.0073710355054880635, correction:0.0034120400169771817\n",
      "159[Vx]  no correction: 0.02372274364566341, correction:0.008721106377782834\n",
      "159[Vy]  no correction: 0.010275087179764643, correction:0.01401025506182532\n",
      "159 Vy does not work\n",
      "159[Vz]  no correction: 0.0032937337908054776, correction:0.0018810037845376907\n"
     ]
    },
    {
     "name": "stderr",
     "output_type": "stream",
     "text": [
      "\r",
      " 29%|█████████████████████▊                                                      | 86/300 [4:00:59<6:36:28, 111.16s/it]"
     ]
    },
    {
     "name": "stdout",
     "output_type": "stream",
     "text": [
      "160[x]  no correction: 0.0010401841307007796, correction:0.00033996688624464986\n",
      "160[y]  no correction: 0.010141152363760357, correction:0.0006335841410379075\n",
      "160[z]  no correction: 0.0039790496230668795, correction:0.0001869200990721958\n",
      "160[Vx]  no correction: 0.0014070005162827594, correction:0.00023438119260648735\n",
      "160[Vy]  no correction: 0.027584391713521308, correction:0.0019796306459805854\n",
      "160[Vz]  no correction: 0.0029165975567258884, correction:0.00022945952647057596\n"
     ]
    },
    {
     "name": "stderr",
     "output_type": "stream",
     "text": [
      "\r",
      " 29%|██████████████████████                                                      | 87/300 [4:04:51<8:43:18, 147.41s/it]"
     ]
    },
    {
     "name": "stdout",
     "output_type": "stream",
     "text": [
      "162[x]  no correction: 0.522918863408933, correction:0.1766789792704336\n",
      "162[y]  no correction: 0.3767609240077814, correction:0.1759505304777067\n",
      "162[z]  no correction: 0.5371039633356524, correction:0.1310374865501313\n",
      "162[Vx]  no correction: 0.4827920676355852, correction:0.25092944286887253\n",
      "162[Vy]  no correction: 0.4425916767831659, correction:0.3137541769684693\n",
      "162[Vz]  no correction: 0.4221868750981765, correction:0.15666906466538078\n"
     ]
    },
    {
     "name": "stderr",
     "output_type": "stream",
     "text": [
      "\r",
      " 29%|██████████████████████▎                                                     | 88/300 [4:05:25<6:41:18, 113.58s/it]"
     ]
    },
    {
     "name": "stdout",
     "output_type": "stream",
     "text": [
      "164[x]  no correction: 0.037428551915490896, correction:0.012531169143635308\n",
      "164[y]  no correction: 0.1896554565649211, correction:0.05583906368361914\n",
      "164[z]  no correction: 0.07140034795341643, correction:0.03723799371579432\n",
      "164[Vx]  no correction: 0.04747393900107133, correction:0.05384911328158101\n",
      "164 Vx does not work\n",
      "164[Vy]  no correction: 0.15880862983425262, correction:0.03648142320379973\n",
      "164[Vz]  no correction: 0.044399182005662986, correction:0.02227844305499646\n"
     ]
    },
    {
     "name": "stderr",
     "output_type": "stream",
     "text": [
      "\r",
      " 30%|██████████████████████▊                                                      | 89/300 [4:06:25<5:42:58, 97.53s/it]"
     ]
    },
    {
     "name": "stdout",
     "output_type": "stream",
     "text": [
      "165[x]  no correction: 0.029135764663155296, correction:0.007895575561253405\n",
      "165[y]  no correction: 0.0028811430765678402, correction:0.0018318958896455153\n",
      "165[z]  no correction: 0.0018419261037659238, correction:0.0012015333999104419\n",
      "165[Vx]  no correction: 0.024151751218805667, correction:0.004446334657229178\n",
      "165[Vy]  no correction: 0.0008411525409440492, correction:0.0017993901243803113\n",
      "165 Vy does not work\n",
      "165[Vz]  no correction: 0.00417983206887676, correction:0.002690469986357631\n"
     ]
    },
    {
     "name": "stderr",
     "output_type": "stream",
     "text": [
      "\r",
      " 30%|███████████████████████                                                      | 90/300 [4:07:21<4:57:06, 84.89s/it]"
     ]
    },
    {
     "name": "stdout",
     "output_type": "stream",
     "text": [
      "166[x]  no correction: 0.0024279422548185805, correction:0.003585157985604114\n",
      "166 x does not work\n",
      "166[y]  no correction: 0.007298979164220437, correction:0.001820247296532102\n",
      "166[z]  no correction: 0.0015640780131771532, correction:0.0019383170138183767\n",
      "166 z does not work\n",
      "166[Vx]  no correction: 0.00815565325350551, correction:0.0033019005136001585\n",
      "166[Vy]  no correction: 0.009064454684653184, correction:0.002736286071449229\n",
      "166[Vz]  no correction: 0.0042724489461484355, correction:0.00395743172534965\n"
     ]
    },
    {
     "name": "stderr",
     "output_type": "stream",
     "text": [
      "\r",
      " 30%|███████████████████████▎                                                     | 91/300 [4:08:44<4:54:31, 84.55s/it]"
     ]
    },
    {
     "name": "stdout",
     "output_type": "stream",
     "text": [
      "169[x]  no correction: 0.034840621641974164, correction:0.019029697791652263\n",
      "169[y]  no correction: 0.012528353078966487, correction:0.022145989363422713\n",
      "169 y does not work\n",
      "169[z]  no correction: 0.05046618917949863, correction:0.05567184309402338\n",
      "169 z does not work\n",
      "169[Vx]  no correction: 0.05462117823566026, correction:0.03310742399705286\n",
      "169[Vy]  no correction: 0.011256011143358844, correction:0.05164538387566453\n",
      "169 Vy does not work\n",
      "169[Vz]  no correction: 0.006551406992613074, correction:0.008286586333909895\n",
      "169 Vz does not work\n"
     ]
    },
    {
     "name": "stderr",
     "output_type": "stream",
     "text": [
      "\r",
      " 31%|███████████████████████▌                                                     | 92/300 [4:09:29<4:12:00, 72.69s/it]"
     ]
    },
    {
     "name": "stdout",
     "output_type": "stream",
     "text": [
      "170[x]  no correction: 0.1931860611782701, correction:0.06826855427992864\n",
      "170[y]  no correction: 0.1948533705064003, correction:0.052190955187497896\n",
      "170[z]  no correction: 0.11440816288922641, correction:0.10899254458441589\n",
      "170[Vx]  no correction: 0.19553151873742522, correction:0.052409092276953194\n",
      "170[Vy]  no correction: 0.16734698595071668, correction:0.11587336829694424\n",
      "170[Vz]  no correction: 0.10569698930571544, correction:0.09087279669153174\n"
     ]
    },
    {
     "name": "stderr",
     "output_type": "stream",
     "text": [
      "\r",
      " 31%|███████████████████████▊                                                     | 93/300 [4:10:39<4:07:25, 71.72s/it]"
     ]
    },
    {
     "name": "stdout",
     "output_type": "stream",
     "text": [
      "172[x]  no correction: 0.13571083921863902, correction:0.008283022308128845\n",
      "172[y]  no correction: 0.055240216914579233, correction:0.013960381919219049\n",
      "172[z]  no correction: 0.08968354228432648, correction:0.02774891495551953\n",
      "172[Vx]  no correction: 0.11995590239223017, correction:0.06469421578782253\n",
      "172[Vy]  no correction: 0.07590757235121788, correction:0.016768245200000264\n",
      "172[Vz]  no correction: 0.07682611872221934, correction:0.004281984769250669\n"
     ]
    },
    {
     "name": "stderr",
     "output_type": "stream",
     "text": [
      "\r",
      " 31%|████████████████████████▏                                                    | 94/300 [4:12:02<4:17:29, 75.00s/it]"
     ]
    },
    {
     "name": "stdout",
     "output_type": "stream",
     "text": [
      "173[x]  no correction: 0.06489720387525143, correction:0.00034046246181614076\n",
      "173[y]  no correction: 0.0945095015180663, correction:0.0066218883372854\n",
      "173[z]  no correction: 0.12159596699662212, correction:0.0004119034296054107\n",
      "173[Vx]  no correction: 0.054973419119705026, correction:0.0012099593109522618\n",
      "173[Vy]  no correction: 0.08779116698817663, correction:0.00043842999687710636\n",
      "173[Vz]  no correction: 0.10693743012352067, correction:0.02015620560146015\n"
     ]
    },
    {
     "name": "stderr",
     "output_type": "stream",
     "text": [
      "\r",
      " 32%|████████████████████████                                                    | 95/300 [4:17:21<8:26:58, 148.38s/it]"
     ]
    },
    {
     "name": "stdout",
     "output_type": "stream",
     "text": [
      "177[x]  no correction: 0.01159215855750238, correction:0.0013061701425059753\n",
      "177[y]  no correction: 0.014683074361109124, correction:0.0014045803709986462\n",
      "177[z]  no correction: 0.00337644652979358, correction:0.0003552106347721724\n",
      "177[Vx]  no correction: 0.008657632831616718, correction:0.0031480680694889844\n",
      "177[Vy]  no correction: 0.011948916751952079, correction:0.0023120528703732953\n",
      "177[Vz]  no correction: 0.005107389485045658, correction:0.0011150464802029243\n"
     ]
    },
    {
     "name": "stderr",
     "output_type": "stream",
     "text": [
      "\r",
      " 32%|████████████████████████▎                                                   | 96/300 [4:18:23<6:55:56, 122.34s/it]"
     ]
    },
    {
     "name": "stdout",
     "output_type": "stream",
     "text": [
      "178[x]  no correction: 0.008480889013890483, correction:0.002307637554386832\n",
      "178[y]  no correction: 0.00533596142419292, correction:0.0019079595262551036\n",
      "178[z]  no correction: 0.005483025487745814, correction:0.002438485436260082\n",
      "178[Vx]  no correction: 0.004760420085168936, correction:0.0008098206844771308\n",
      "178[Vy]  no correction: 0.00885216065315916, correction:0.0056793035018545745\n",
      "178[Vz]  no correction: 0.008254766137386392, correction:0.0019483788504430818\n"
     ]
    },
    {
     "name": "stderr",
     "output_type": "stream",
     "text": [
      "\r",
      " 32%|████████████████████████▌                                                   | 97/300 [4:19:42<6:10:03, 109.38s/it]"
     ]
    },
    {
     "name": "stdout",
     "output_type": "stream",
     "text": [
      "183[x]  no correction: 0.08587220668561178, correction:0.0006140388925733991\n",
      "183[y]  no correction: 0.04051940063711795, correction:0.0018385750078723148\n",
      "183[z]  no correction: 0.09183464423422565, correction:0.002058598300570847\n",
      "183[Vx]  no correction: 0.09156097457500088, correction:0.00011928522073240769\n",
      "183[Vy]  no correction: 0.038019698503986545, correction:0.0003235027669411276\n",
      "183[Vz]  no correction: 0.07339041703486682, correction:0.00066827555850391\n"
     ]
    },
    {
     "name": "stderr",
     "output_type": "stream",
     "text": [
      "\r",
      " 33%|████████████████████████▌                                                  | 98/300 [4:26:27<11:06:48, 198.06s/it]"
     ]
    },
    {
     "name": "stdout",
     "output_type": "stream",
     "text": [
      "186[x]  no correction: 0.003104695238376807, correction:0.0012545252864543672\n",
      "186[y]  no correction: 0.0030298844646139684, correction:0.001904760970258246\n",
      "186[z]  no correction: 0.0041388327521325735, correction:0.00021287219747184784\n",
      "186[Vx]  no correction: 0.010822984881498006, correction:0.010644410370070204\n",
      "186[Vy]  no correction: 0.014347533786968075, correction:0.013292966046730432\n",
      "186[Vz]  no correction: 0.006067737654236678, correction:0.0006510312153206054\n"
     ]
    },
    {
     "name": "stderr",
     "output_type": "stream",
     "text": [
      "\r",
      " 33%|████████████████████████▊                                                  | 99/300 [4:37:13<18:33:53, 332.51s/it]"
     ]
    },
    {
     "name": "stdout",
     "output_type": "stream",
     "text": [
      "187[x]  no correction: 0.007860620920143842, correction:0.00469672437845162\n",
      "187[y]  no correction: 0.010261601255385501, correction:0.008807395687983208\n",
      "187[z]  no correction: 0.013609602076723066, correction:0.002706806372675132\n",
      "187[Vx]  no correction: 0.024965629744126114, correction:0.019709363476995416\n",
      "187[Vy]  no correction: 0.007541109059165553, correction:0.00624826640712988\n",
      "187[Vz]  no correction: 0.023766222401782864, correction:0.01148106739085762\n"
     ]
    },
    {
     "name": "stderr",
     "output_type": "stream",
     "text": [
      "\r",
      " 33%|████████████████████████▋                                                 | 100/300 [4:38:22<14:05:11, 253.56s/it]"
     ]
    },
    {
     "name": "stdout",
     "output_type": "stream",
     "text": [
      "188[x]  no correction: 0.004387831250611039, correction:0.002378134030883327\n",
      "188[y]  no correction: 0.008675907718290236, correction:0.001312735419209434\n",
      "188[z]  no correction: 0.021162380208075104, correction:0.0050490880661223335\n",
      "188[Vx]  no correction: 0.004629194363243516, correction:0.0021258940746303255\n",
      "188[Vy]  no correction: 0.003479231617468933, correction:0.0035877471161858826\n",
      "188 Vy does not work\n",
      "188[Vz]  no correction: 0.006261385718447481, correction:0.002690127777124541\n"
     ]
    },
    {
     "name": "stderr",
     "output_type": "stream",
     "text": [
      "\r",
      " 34%|████████████████████████▉                                                 | 101/300 [4:39:38<11:03:33, 200.07s/it]"
     ]
    },
    {
     "name": "stdout",
     "output_type": "stream",
     "text": [
      "191[x]  no correction: 0.005838230286380879, correction:0.0010325612315317653\n",
      "191[y]  no correction: 0.004394134727154946, correction:0.003347859797045735\n",
      "191[z]  no correction: 0.003337789931488293, correction:0.000407079100772956\n",
      "191[Vx]  no correction: 0.007301591460284521, correction:0.003345284623856294\n",
      "191[Vy]  no correction: 0.005969401109022765, correction:0.005408700470015998\n",
      "191[Vz]  no correction: 0.0036053040481330246, correction:0.0010800597173313243\n"
     ]
    },
    {
     "name": "stderr",
     "output_type": "stream",
     "text": [
      "\r",
      " 34%|█████████████████████████▌                                                 | 102/300 [4:40:49<8:53:12, 161.58s/it]"
     ]
    },
    {
     "name": "stdout",
     "output_type": "stream",
     "text": [
      "193[x]  no correction: 0.00360732027625328, correction:0.0010291728825153152\n",
      "193[y]  no correction: 0.015124046695786176, correction:0.016049347241683172\n",
      "193 y does not work\n",
      "193[z]  no correction: 0.003144004059203907, correction:0.000996186011641435\n",
      "193[Vx]  no correction: 0.0036339333140567006, correction:0.0006113806384671329\n",
      "193[Vy]  no correction: 0.011010903793507946, correction:0.0009728260497565762\n",
      "193[Vz]  no correction: 0.018891694094861963, correction:0.02799840970794647\n",
      "193 Vz does not work\n"
     ]
    },
    {
     "name": "stderr",
     "output_type": "stream",
     "text": [
      "\r",
      " 34%|█████████████████████████▊                                                 | 103/300 [4:42:07<7:27:56, 136.43s/it]"
     ]
    },
    {
     "name": "stdout",
     "output_type": "stream",
     "text": [
      "194[x]  no correction: 0.21020660248175996, correction:0.09277395116193451\n",
      "194[y]  no correction: 0.24336145548042837, correction:0.4731918356883411\n",
      "194 y does not work\n",
      "194[z]  no correction: 0.14649148017327354, correction:0.03352770358016819\n",
      "194[Vx]  no correction: 0.11747558492715093, correction:0.039833821467000895\n",
      "194[Vy]  no correction: 0.545492518805908, correction:0.6868657677236909\n",
      "194 Vy does not work\n",
      "194[Vz]  no correction: 0.21325160578656627, correction:0.2900143026458829\n",
      "194 Vz does not work\n"
     ]
    },
    {
     "name": "stderr",
     "output_type": "stream",
     "text": [
      "\r",
      " 35%|██████████████████████████                                                 | 104/300 [4:42:50<5:53:58, 108.36s/it]"
     ]
    },
    {
     "name": "stdout",
     "output_type": "stream",
     "text": [
      "195[x]  no correction: 0.07637079014592188, correction:0.04099983838680549\n",
      "195[y]  no correction: 0.07008841151267987, correction:0.054528430690127305\n",
      "195[z]  no correction: 0.055042240012711796, correction:0.03992572969963094\n",
      "195[Vx]  no correction: 0.026191486468692383, correction:0.034188205855528654\n",
      "195 Vx does not work\n",
      "195[Vy]  no correction: 0.05551687900013809, correction:0.015794752471307363\n",
      "195[Vz]  no correction: 0.03622270542819655, correction:0.08657462057852039\n",
      "195 Vz does not work\n"
     ]
    },
    {
     "name": "stderr",
     "output_type": "stream",
     "text": [
      "\r",
      " 35%|██████████████████████████▌                                                 | 105/300 [4:44:02<5:16:23, 97.35s/it]"
     ]
    },
    {
     "name": "stdout",
     "output_type": "stream",
     "text": [
      "197[x]  no correction: 0.01858304571431805, correction:0.02500582237216755\n",
      "197 x does not work\n",
      "197[y]  no correction: 0.016677601662993296, correction:0.00525793332667053\n",
      "197[z]  no correction: 0.025446898725586965, correction:0.02039056698863623\n",
      "197[Vx]  no correction: 0.006139890637245315, correction:0.002727588090264775\n",
      "197[Vy]  no correction: 0.010116381874825322, correction:0.0023804436798734578\n",
      "197[Vz]  no correction: 0.006720347943230464, correction:0.03171668603764624\n",
      "197 Vz does not work\n"
     ]
    },
    {
     "name": "stderr",
     "output_type": "stream",
     "text": [
      "\r",
      " 35%|██████████████████████████▊                                                 | 106/300 [4:45:06<4:42:59, 87.52s/it]"
     ]
    },
    {
     "name": "stdout",
     "output_type": "stream",
     "text": [
      "203[x]  no correction: 0.003411581705926921, correction:0.0008190738844187704\n",
      "203[y]  no correction: 0.00484386158797948, correction:0.0012097108506842278\n",
      "203[z]  no correction: 0.0063692922690494645, correction:0.0005754775077238489\n",
      "203[Vx]  no correction: 0.03811302966186219, correction:0.0034969909943853863\n",
      "203[Vy]  no correction: 0.0034571281206960103, correction:0.0008134117216184674\n",
      "203[Vz]  no correction: 0.004552485163449256, correction:0.006306517665696646\n",
      "203 Vz does not work\n"
     ]
    },
    {
     "name": "stderr",
     "output_type": "stream",
     "text": [
      "\r",
      " 36%|███████████████████████████                                                 | 107/300 [4:47:10<5:16:11, 98.30s/it]"
     ]
    },
    {
     "name": "stdout",
     "output_type": "stream",
     "text": [
      "205[x]  no correction: 0.04000357831472917, correction:0.03589628640176853\n",
      "205[y]  no correction: 0.02465669298281449, correction:0.008828224268718125\n",
      "205[z]  no correction: 0.0031831616436025553, correction:0.0016970104616558634\n",
      "205[Vx]  no correction: 0.004974793818664255, correction:0.001720550240525063\n",
      "205[Vy]  no correction: 0.0025252768552507204, correction:0.0019610455264072613\n",
      "205[Vz]  no correction: 0.0023296497582204166, correction:0.0010040738669272245\n"
     ]
    },
    {
     "name": "stderr",
     "output_type": "stream",
     "text": [
      "\r",
      " 36%|███████████████████████████▎                                                | 108/300 [4:48:07<4:34:58, 85.93s/it]"
     ]
    },
    {
     "name": "stdout",
     "output_type": "stream",
     "text": [
      "206[x]  no correction: 0.02573833435392927, correction:0.005073645612744792\n",
      "206[y]  no correction: 0.0063784710456140795, correction:0.004264500711462532\n",
      "206[z]  no correction: 0.011529024369150485, correction:0.0052453097290663\n",
      "206[Vx]  no correction: 0.01073071032757983, correction:0.01051962123306092\n",
      "206[Vy]  no correction: 0.011684134795927526, correction:0.01026633378971209\n",
      "206[Vz]  no correction: 0.012138718609922819, correction:0.008442154791478149\n"
     ]
    },
    {
     "name": "stderr",
     "output_type": "stream",
     "text": [
      "\r",
      " 36%|███████████████████████████▌                                                | 109/300 [4:49:34<4:34:21, 86.19s/it]"
     ]
    },
    {
     "name": "stdout",
     "output_type": "stream",
     "text": [
      "207[x]  no correction: 0.022660440033151513, correction:0.003270365946661638\n",
      "207[y]  no correction: 0.01120408034913611, correction:0.000315220985878648\n",
      "207[z]  no correction: 0.029873470923477308, correction:0.002648394787278739\n",
      "207[Vx]  no correction: 0.03426023883785262, correction:0.0006095595940538286\n",
      "207[Vy]  no correction: 0.013850972113888643, correction:0.0018616486824737663\n",
      "207[Vz]  no correction: 0.03346916897022204, correction:0.01544228904989458\n"
     ]
    },
    {
     "name": "stderr",
     "output_type": "stream",
     "text": [
      "\r",
      " 37%|███████████████████████████▍                                               | 110/300 [4:56:12<9:29:14, 179.76s/it]"
     ]
    },
    {
     "name": "stdout",
     "output_type": "stream",
     "text": [
      "208[x]  no correction: 0.1576725696370661, correction:0.027677554072789996\n",
      "208[y]  no correction: 0.0686867428794858, correction:0.05283996188027375\n",
      "208[z]  no correction: 0.08219196740658713, correction:0.03146936698214421\n",
      "208[Vx]  no correction: 0.11412610546606443, correction:0.07636125306128765\n",
      "208[Vy]  no correction: 0.09311894564797346, correction:0.01395966931390271\n",
      "208[Vz]  no correction: 0.07295552795558544, correction:0.016725505363611413\n"
     ]
    },
    {
     "name": "stderr",
     "output_type": "stream",
     "text": [
      "\r",
      " 37%|███████████████████████████▊                                               | 111/300 [4:57:02<7:23:47, 140.89s/it]"
     ]
    },
    {
     "name": "stdout",
     "output_type": "stream",
     "text": [
      "209[x]  no correction: 0.007058470723555609, correction:0.0030167095373145715\n",
      "209[y]  no correction: 0.005361163813661973, correction:0.003591880896481765\n",
      "209[z]  no correction: 0.40047699469458264, correction:0.3148901799277085\n",
      "209[Vx]  no correction: 0.007603175630632572, correction:0.00407085293515872\n",
      "209[Vy]  no correction: 0.0037165507114552128, correction:0.0028606273800541584\n",
      "209[Vz]  no correction: 0.40243746785121587, correction:0.2668073025028536\n"
     ]
    },
    {
     "name": "stderr",
     "output_type": "stream",
     "text": [
      "\r",
      " 37%|████████████████████████████                                               | 112/300 [4:59:12<7:11:40, 137.77s/it]"
     ]
    },
    {
     "name": "stdout",
     "output_type": "stream",
     "text": [
      "210[x]  no correction: 0.03450808671004886, correction:0.010221216711897773\n",
      "210[y]  no correction: 0.014987942894305217, correction:0.0021353781831619225\n",
      "210[z]  no correction: 0.0008754454079239969, correction:0.0008793540520891231\n",
      "210 z does not work\n",
      "210[Vx]  no correction: 0.015829552206746145, correction:0.011975424043233304\n",
      "210[Vy]  no correction: 0.004750513732552646, correction:0.0009411665926496057\n",
      "210[Vz]  no correction: 0.006148838762538747, correction:0.0009573061963471334\n"
     ]
    },
    {
     "name": "stderr",
     "output_type": "stream",
     "text": [
      "\r",
      " 38%|████████████████████████████▎                                              | 113/300 [5:01:13<6:53:39, 132.72s/it]"
     ]
    },
    {
     "name": "stdout",
     "output_type": "stream",
     "text": [
      "211[x]  no correction: 0.0021099845992628577, correction:0.00010269297620289044\n",
      "211[y]  no correction: 0.0033307812301411237, correction:0.0001180430085692308\n",
      "211[z]  no correction: 0.0020308643491110693, correction:0.0003740138609640518\n",
      "211[Vx]  no correction: 0.000921266951032075, correction:0.00017477025720617572\n",
      "211[Vy]  no correction: 0.005950265108335538, correction:0.00010423808609104585\n",
      "211[Vz]  no correction: 0.002812371583701012, correction:0.0002580556647903756\n"
     ]
    },
    {
     "name": "stderr",
     "output_type": "stream",
     "text": [
      "\r",
      " 38%|████████████████████████████                                              | 114/300 [5:07:14<10:23:43, 201.20s/it]"
     ]
    },
    {
     "name": "stdout",
     "output_type": "stream",
     "text": [
      "213[x]  no correction: 0.009830258178030429, correction:0.0008048711977298073\n",
      "213[y]  no correction: 0.008088207558426836, correction:0.0011180227844454459\n",
      "213[z]  no correction: 0.006329992015275257, correction:0.0012523965407191038\n",
      "213[Vx]  no correction: 0.004763017789172998, correction:0.0009612100071449256\n",
      "213[Vy]  no correction: 0.008242142147852837, correction:0.0013856176446088485\n",
      "213[Vz]  no correction: 0.004069006424793755, correction:0.0011290204280772255\n"
     ]
    },
    {
     "name": "stderr",
     "output_type": "stream",
     "text": [
      "\r",
      " 38%|████████████████████████████▊                                              | 115/300 [5:09:09<9:00:45, 175.38s/it]"
     ]
    },
    {
     "name": "stdout",
     "output_type": "stream",
     "text": [
      "219[x]  no correction: 0.025070221540558855, correction:0.007430843851034561\n",
      "219[y]  no correction: 0.05855491210517014, correction:0.018661729160705163\n",
      "219[z]  no correction: 0.014862515463884538, correction:0.0036268079329499704\n",
      "219[Vx]  no correction: 0.040317855201890525, correction:0.0063642093887198775\n",
      "219[Vy]  no correction: 0.013319234436313524, correction:0.002679676954299489\n",
      "219[Vz]  no correction: 0.012599746537450605, correction:0.0023334356415263295\n"
     ]
    },
    {
     "name": "stderr",
     "output_type": "stream",
     "text": [
      "\r",
      " 39%|█████████████████████████████                                              | 116/300 [5:10:22<7:23:38, 144.67s/it]"
     ]
    },
    {
     "name": "stdout",
     "output_type": "stream",
     "text": [
      "220[x]  no correction: 0.0043918344401289435, correction:0.0006098676529085362\n",
      "220[y]  no correction: 0.003444386130322988, correction:0.00042761613630615887\n",
      "220[z]  no correction: 0.004325886442733112, correction:0.001639884260298125\n",
      "220[Vx]  no correction: 0.008658337799628508, correction:0.006349994197332333\n",
      "220[Vy]  no correction: 0.05458149880090257, correction:0.0014352481968762634\n",
      "220[Vz]  no correction: 0.04359155462477063, correction:0.005280620233286529\n"
     ]
    },
    {
     "name": "stderr",
     "output_type": "stream",
     "text": [
      "\r",
      " 39%|█████████████████████████████▎                                             | 117/300 [5:12:29<7:04:22, 139.14s/it]"
     ]
    },
    {
     "name": "stdout",
     "output_type": "stream",
     "text": [
      "222[x]  no correction: 0.0060621119122528, correction:0.009892066980078058\n",
      "222 x does not work\n",
      "222[y]  no correction: 0.014089176548627382, correction:0.002367687388212813\n",
      "222[z]  no correction: 0.01687771107837167, correction:0.0008579949855200335\n",
      "222[Vx]  no correction: 0.01647219653289634, correction:0.00429608046945494\n",
      "222[Vy]  no correction: 0.0128773851672167, correction:0.010931070727418663\n",
      "222[Vz]  no correction: 0.006709962289388448, correction:0.003897380688146183\n"
     ]
    },
    {
     "name": "stderr",
     "output_type": "stream",
     "text": [
      "\r",
      " 39%|█████████████████████████████▌                                             | 118/300 [5:13:35<5:56:07, 117.40s/it]"
     ]
    },
    {
     "name": "stdout",
     "output_type": "stream",
     "text": [
      "223[x]  no correction: 0.0017632315629376105, correction:0.0001673251284183848\n",
      "223[y]  no correction: 0.009035414872916418, correction:0.0002950377113662128\n",
      "223[z]  no correction: 0.007921633753534394, correction:0.0022453062871114725\n",
      "223[Vx]  no correction: 0.0015518241741539537, correction:5.5879047841167346e-05\n",
      "223[Vy]  no correction: 0.0015527119180252162, correction:0.0001113752772580017\n",
      "223[Vz]  no correction: 0.001711517553216003, correction:0.00018446947792874247\n"
     ]
    },
    {
     "name": "stderr",
     "output_type": "stream",
     "text": [
      "\r",
      " 40%|█████████████████████████████▊                                             | 119/300 [5:15:52<6:11:45, 123.23s/it]"
     ]
    },
    {
     "name": "stdout",
     "output_type": "stream",
     "text": [
      "225[x]  no correction: 0.32439402203157813, correction:0.06057955805109484\n",
      "225[y]  no correction: 0.1689835908140065, correction:0.12082295394264925\n",
      "225[z]  no correction: 0.30007674721034355, correction:0.0902373868566493\n",
      "225[Vx]  no correction: 0.2857623125100257, correction:0.19499629449848296\n",
      "225[Vy]  no correction: 0.1645467795223968, correction:0.1349906724284496\n",
      "225[Vz]  no correction: 0.2683985719126101, correction:0.0449697769604764\n"
     ]
    },
    {
     "name": "stderr",
     "output_type": "stream",
     "text": [
      "\r",
      " 40%|██████████████████████████████                                             | 120/300 [5:16:57<5:17:12, 105.74s/it]"
     ]
    },
    {
     "name": "stdout",
     "output_type": "stream",
     "text": [
      "227[x]  no correction: 0.011557799323659784, correction:0.0005906780813933036\n",
      "227[y]  no correction: 0.010205594635883502, correction:0.0012685175696411776\n",
      "227[z]  no correction: 0.02518747323395862, correction:0.0010018383086794489\n",
      "227[Vx]  no correction: 0.019878853524806395, correction:0.0008771707414453211\n",
      "227[Vy]  no correction: 0.011021049708873337, correction:0.0003571777414763411\n",
      "227[Vz]  no correction: 0.015877044179889006, correction:0.00026255007676856596\n"
     ]
    },
    {
     "name": "stderr",
     "output_type": "stream",
     "text": [
      "\r",
      " 40%|██████████████████████████████▎                                            | 121/300 [5:19:26<5:53:39, 118.54s/it]"
     ]
    },
    {
     "name": "stdout",
     "output_type": "stream",
     "text": [
      "228[x]  no correction: 0.01704956499115368, correction:0.10341892893417771\n",
      "228 x does not work\n",
      "228[y]  no correction: 0.021862487931872485, correction:0.03568149080368559\n",
      "228 y does not work\n",
      "228[z]  no correction: 0.08778617533227119, correction:0.329932744746241\n",
      "228 z does not work\n",
      "228[Vx]  no correction: 0.021690438995877873, correction:0.08301766320452093\n",
      "228 Vx does not work\n",
      "228[Vy]  no correction: 0.012971421180930613, correction:0.06023811904191382\n",
      "228 Vy does not work\n",
      "228[Vz]  no correction: 0.05494566974957467, correction:0.2897069018049298\n",
      "228 Vz does not work\n"
     ]
    },
    {
     "name": "stderr",
     "output_type": "stream",
     "text": [
      "\r",
      " 41%|██████████████████████████████▉                                             | 122/300 [5:19:49<4:26:50, 89.94s/it]"
     ]
    },
    {
     "name": "stdout",
     "output_type": "stream",
     "text": [
      "229[x]  no correction: 0.0204672015345995, correction:0.005348075183968223\n",
      "229[y]  no correction: 0.0030291747402341764, correction:0.007317375777487537\n",
      "229 y does not work\n",
      "229[z]  no correction: 0.0023309271791949913, correction:0.0013363857357999694\n",
      "229[Vx]  no correction: 0.020643705434262465, correction:0.0045265756135607635\n",
      "229[Vy]  no correction: 0.0011562622376786473, correction:0.0016855579382397345\n",
      "229 Vy does not work\n",
      "229[Vz]  no correction: 0.0027394260012805504, correction:0.0023494384730844125\n"
     ]
    },
    {
     "name": "stderr",
     "output_type": "stream",
     "text": [
      "\r",
      " 41%|███████████████████████████████▏                                            | 123/300 [5:20:37<3:48:32, 77.47s/it]"
     ]
    },
    {
     "name": "stdout",
     "output_type": "stream",
     "text": [
      "230[x]  no correction: 0.005445206343132619, correction:0.001834149852851242\n",
      "230[y]  no correction: 0.00316769113920771, correction:0.0009144624131664915\n",
      "230[z]  no correction: 0.007893482549068182, correction:0.0011841743640283345\n",
      "230[Vx]  no correction: 0.0022836180673933538, correction:0.0007468103767458325\n",
      "230[Vy]  no correction: 0.0031883635070435274, correction:0.0009388781188162602\n",
      "230[Vz]  no correction: 0.02574685776201305, correction:0.005936461426139248\n"
     ]
    },
    {
     "name": "stderr",
     "output_type": "stream",
     "text": [
      "\r",
      " 41%|███████████████████████████████▍                                            | 124/300 [5:22:44<4:30:29, 92.21s/it]"
     ]
    },
    {
     "name": "stdout",
     "output_type": "stream",
     "text": [
      "233[x]  no correction: 0.0005914660580093664, correction:0.0002042182368217357\n",
      "233[y]  no correction: 0.004283097201082331, correction:0.000594240846356838\n",
      "233[z]  no correction: 0.002751064130165825, correction:0.00022323970822254346\n",
      "233[Vx]  no correction: 0.001625415097409547, correction:0.00020832423437540105\n",
      "233[Vy]  no correction: 0.00260866254225844, correction:0.0005478989780981346\n",
      "233[Vz]  no correction: 0.0015211540618813644, correction:0.00022624848183564944\n"
     ]
    },
    {
     "name": "stderr",
     "output_type": "stream",
     "text": [
      "\r",
      " 42%|███████████████████████████████▎                                           | 125/300 [5:26:09<6:07:31, 126.01s/it]"
     ]
    },
    {
     "name": "stdout",
     "output_type": "stream",
     "text": [
      "236[x]  no correction: 0.03827937832693226, correction:0.00021998259058789464\n",
      "236[y]  no correction: 0.022072914796242637, correction:0.00016692217556485276\n",
      "236[z]  no correction: 0.07417932173097425, correction:0.001174868030997031\n",
      "236[Vx]  no correction: 0.06666925616501393, correction:0.004086368572823433\n",
      "236[Vy]  no correction: 0.02445296365431266, correction:0.000482417900909239\n",
      "236[Vz]  no correction: 0.05297585452993912, correction:0.001026761569571106\n"
     ]
    },
    {
     "name": "stderr",
     "output_type": "stream",
     "text": [
      "\r",
      " 42%|███████████████████████████████▌                                           | 126/300 [5:29:10<6:53:19, 142.53s/it]"
     ]
    },
    {
     "name": "stdout",
     "output_type": "stream",
     "text": [
      "239[x]  no correction: 0.001286206089134905, correction:0.0003374421046744257\n",
      "239[y]  no correction: 0.002091812037288944, correction:0.00018781487335332126\n",
      "239[z]  no correction: 0.003665870659745875, correction:0.0006023158439732287\n",
      "239[Vx]  no correction: 0.007211151215838488, correction:0.0033303900638477113\n",
      "239[Vy]  no correction: 0.0016446249937709853, correction:0.00014237753470596647\n",
      "239[Vz]  no correction: 0.0011685303674166246, correction:0.0005782612491167364\n"
     ]
    },
    {
     "name": "stderr",
     "output_type": "stream",
     "text": [
      "\r",
      " 42%|███████████████████████████████▊                                           | 127/300 [5:32:08<7:21:35, 153.15s/it]"
     ]
    },
    {
     "name": "stdout",
     "output_type": "stream",
     "text": [
      "240[x]  no correction: 0.07171114086253526, correction:0.001816602232938107\n",
      "240[y]  no correction: 0.03472738603240943, correction:0.0008115593830010235\n",
      "240[z]  no correction: 0.027958180317371035, correction:0.00039798677651601145\n",
      "240[Vx]  no correction: 0.0524082325465019, correction:0.0009076002000226056\n",
      "240[Vy]  no correction: 0.027376826556650184, correction:0.0006775647689229255\n",
      "240[Vz]  no correction: 0.022463480153861598, correction:0.0002593343420977694\n"
     ]
    },
    {
     "name": "stderr",
     "output_type": "stream",
     "text": [
      "\r",
      " 43%|████████████████████████████████                                           | 128/300 [5:35:29<8:00:54, 167.76s/it]"
     ]
    },
    {
     "name": "stdout",
     "output_type": "stream",
     "text": [
      "241[x]  no correction: 0.0010190781890350065, correction:0.0007629470610891159\n",
      "241[y]  no correction: 0.000992298380073068, correction:0.0012443265733320526\n",
      "241 y does not work\n",
      "241[z]  no correction: 0.0015881184412559223, correction:0.00035390537258025073\n",
      "241[Vx]  no correction: 0.007919426343967851, correction:0.0006714269248539069\n",
      "241[Vy]  no correction: 0.012075742474824179, correction:0.0017731483283392176\n",
      "241[Vz]  no correction: 0.005658660097073831, correction:0.0048959290655475095\n"
     ]
    },
    {
     "name": "stderr",
     "output_type": "stream",
     "text": [
      "\r",
      " 43%|████████████████████████████████▎                                          | 129/300 [5:37:25<7:13:44, 152.19s/it]"
     ]
    },
    {
     "name": "stdout",
     "output_type": "stream",
     "text": [
      "242[x]  no correction: 0.03829375374154279, correction:0.0006711373203357113\n",
      "242[y]  no correction: 0.01965257441031904, correction:0.0003224330891706614\n",
      "242[z]  no correction: 0.05670284148772441, correction:0.0007928088021606622\n",
      "242[Vx]  no correction: 0.027623432914496905, correction:0.0003986980823165463\n",
      "242[Vy]  no correction: 0.01610127355801758, correction:0.0004463324181139309\n",
      "242[Vz]  no correction: 0.0320998633584793, correction:0.0007113646912054424\n"
     ]
    },
    {
     "name": "stderr",
     "output_type": "stream",
     "text": [
      "\r",
      " 43%|████████████████████████████████▌                                          | 130/300 [5:41:53<8:49:03, 186.72s/it]"
     ]
    },
    {
     "name": "stdout",
     "output_type": "stream",
     "text": [
      "243[x]  no correction: 0.003358904950138174, correction:0.0004050291035908216\n",
      "243[y]  no correction: 0.0034808114748945142, correction:0.0007915565788060971\n",
      "243[z]  no correction: 0.011694582475520821, correction:0.0015152247802316318\n",
      "243[Vx]  no correction: 0.002530019201949229, correction:0.0002962766155426124\n",
      "243[Vy]  no correction: 0.0071697557148857555, correction:0.0006127270349195577\n",
      "243[Vz]  no correction: 0.0009138197812661857, correction:0.00012136853480213496\n"
     ]
    },
    {
     "name": "stderr",
     "output_type": "stream",
     "text": [
      "\r",
      " 44%|████████████████████████████████▊                                          | 131/300 [5:44:53<8:40:42, 184.87s/it]"
     ]
    },
    {
     "name": "stdout",
     "output_type": "stream",
     "text": [
      "244[x]  no correction: 0.49972794219814676, correction:0.16302245134553528\n",
      "244[y]  no correction: 0.2911194027731892, correction:0.1593718826663947\n",
      "244[z]  no correction: 0.3412791954535003, correction:0.14972303452722902\n",
      "244[Vx]  no correction: 0.42849181562275895, correction:0.3055319322538032\n",
      "244[Vy]  no correction: 0.28226830981333195, correction:0.197093678929125\n",
      "244[Vz]  no correction: 0.3086608333437989, correction:0.16228773007930591\n"
     ]
    },
    {
     "name": "stderr",
     "output_type": "stream",
     "text": [
      "\r",
      " 44%|█████████████████████████████████                                          | 132/300 [5:45:40<6:41:31, 143.40s/it]"
     ]
    },
    {
     "name": "stdout",
     "output_type": "stream",
     "text": [
      "245[x]  no correction: 0.04226250764131834, correction:0.006943430667505311\n",
      "245[y]  no correction: 0.006854409998708362, correction:0.0021663887642416266\n",
      "245[z]  no correction: 0.025340532078429994, correction:0.004133961689958599\n",
      "245[Vx]  no correction: 0.0034587804460769456, correction:0.0033698593444980085\n",
      "245[Vy]  no correction: 0.00487183435768263, correction:0.0025989881063623985\n",
      "245[Vz]  no correction: 0.028930705027306432, correction:0.013801034019117517\n"
     ]
    },
    {
     "name": "stderr",
     "output_type": "stream",
     "text": [
      "\r",
      " 44%|█████████████████████████████████▎                                         | 133/300 [5:47:11<5:55:32, 127.74s/it]"
     ]
    },
    {
     "name": "stdout",
     "output_type": "stream",
     "text": [
      "247[x]  no correction: 0.0019716288936628954, correction:0.000717794310746122\n",
      "247[y]  no correction: 0.0018639907469265794, correction:0.0006112357890283461\n",
      "247[z]  no correction: 0.0234627566170668, correction:0.013229944756017657\n",
      "247[Vx]  no correction: 0.0006367496062131868, correction:0.0005088112815706785\n",
      "247[Vy]  no correction: 0.0016721425920502141, correction:0.0006681593765041187\n",
      "247[Vz]  no correction: 0.0023155112763641127, correction:0.00042982079820470115\n"
     ]
    },
    {
     "name": "stderr",
     "output_type": "stream",
     "text": [
      "\r",
      " 45%|█████████████████████████████████▌                                         | 134/300 [5:48:31<5:13:58, 113.48s/it]"
     ]
    },
    {
     "name": "stdout",
     "output_type": "stream",
     "text": [
      "248[x]  no correction: 0.045094957400509034, correction:0.004342163059681315\n",
      "248[y]  no correction: 0.004715746169506884, correction:0.002823417004680485\n",
      "248[z]  no correction: 0.4082329037160908, correction:0.12256859383587357\n",
      "248[Vx]  no correction: 0.012462013223072001, correction:0.0019166007928948818\n",
      "248[Vy]  no correction: 0.011653049189272128, correction:0.0025970371590557277\n",
      "248[Vz]  no correction: 0.38853852677187434, correction:0.16297080723900953\n"
     ]
    },
    {
     "name": "stderr",
     "output_type": "stream",
     "text": [
      "\r",
      " 45%|██████████████████████████████████▏                                         | 135/300 [5:49:29<4:26:09, 96.79s/it]"
     ]
    },
    {
     "name": "stdout",
     "output_type": "stream",
     "text": [
      "251[x]  no correction: 0.0038457816093438336, correction:0.00031411980812162774\n",
      "251[y]  no correction: 0.0020923284749846103, correction:0.0005372309774565153\n",
      "251[z]  no correction: 0.0051580080864461345, correction:0.0010998471780162213\n",
      "251[Vx]  no correction: 0.0028516171900141926, correction:0.0015078936670292272\n",
      "251[Vy]  no correction: 0.0020807148478155266, correction:0.0005880189565564478\n",
      "251[Vz]  no correction: 0.003459102370128013, correction:0.0005398593617968124\n"
     ]
    },
    {
     "name": "stderr",
     "output_type": "stream",
     "text": [
      "\r",
      " 45%|██████████████████████████████████                                         | 136/300 [5:52:52<5:51:32, 128.61s/it]"
     ]
    },
    {
     "name": "stdout",
     "output_type": "stream",
     "text": [
      "252[x]  no correction: 0.5548137876470914, correction:0.44995215427281765\n",
      "252[y]  no correction: 0.10320802405758052, correction:0.628357216345168\n",
      "252 y does not work\n",
      "252[z]  no correction: 0.3521931056677067, correction:0.9688486602564217\n",
      "252 z does not work\n",
      "252[Vx]  no correction: 0.29966256917224643, correction:0.958420440982272\n",
      "252 Vx does not work\n",
      "252[Vy]  no correction: 0.2801201220946014, correction:0.876427503699267\n",
      "252 Vy does not work\n",
      "252[Vz]  no correction: 0.6176617046528058, correction:0.970865278748997\n",
      "252 Vz does not work\n"
     ]
    },
    {
     "name": "stderr",
     "output_type": "stream",
     "text": [
      "\r",
      " 46%|█████████████████████████████████▎                                       | 137/300 [7:37:26<89:17:53, 1972.23s/it]"
     ]
    },
    {
     "name": "stdout",
     "output_type": "stream",
     "text": [
      "253[x]  no correction: 0.3856733507722818, correction:0.26605777292418625\n",
      "253[y]  no correction: 0.3516802553996467, correction:0.25326512873487794\n",
      "253[z]  no correction: 0.359524977272749, correction:0.26513780752491695\n",
      "253[Vx]  no correction: 0.385679615051267, correction:0.27742851908098753\n",
      "253[Vy]  no correction: 0.42485113153314524, correction:0.2226449354723452\n",
      "253[Vz]  no correction: 0.41945082937511047, correction:0.2289620303784968\n"
     ]
    },
    {
     "name": "stderr",
     "output_type": "stream",
     "text": [
      "\r",
      " 46%|█████████████████████████████████▌                                       | 138/300 [7:38:59<63:22:38, 1408.39s/it]"
     ]
    },
    {
     "name": "stdout",
     "output_type": "stream",
     "text": [
      "254[x]  no correction: 0.10726001094725174, correction:0.019345008704971932\n",
      "254[y]  no correction: 0.07136850183897236, correction:0.002262637937027103\n",
      "254[z]  no correction: 0.13488967099844612, correction:0.0025425881136405077\n",
      "254[Vx]  no correction: 0.09612760370541333, correction:0.0011058720821680264\n",
      "254[Vy]  no correction: 0.06961043595194136, correction:0.007121663179009073\n",
      "254[Vz]  no correction: 0.11641131553228738, correction:0.008119201779307368\n"
     ]
    },
    {
     "name": "stderr",
     "output_type": "stream",
     "text": [
      "\r",
      " 46%|█████████████████████████████████▊                                       | 139/300 [7:42:47<47:09:03, 1054.31s/it]"
     ]
    },
    {
     "name": "stdout",
     "output_type": "stream",
     "text": [
      "261[x]  no correction: 0.01639828848018293, correction:0.0030574580763001974\n",
      "261[y]  no correction: 0.0194092281831925, correction:0.0011472945350771606\n",
      "261[z]  no correction: 0.00693277479508679, correction:0.0020365255748225437\n",
      "261[Vx]  no correction: 0.031949030583235824, correction:0.0022614048495586407\n",
      "261[Vy]  no correction: 0.007618780146121007, correction:0.001175355005055205\n",
      "261[Vz]  no correction: 0.009444102976215939, correction:0.0018835018360039463\n"
     ]
    },
    {
     "name": "stderr",
     "output_type": "stream",
     "text": [
      "\r",
      " 47%|██████████████████████████████████▌                                       | 140/300 [7:44:24<34:06:11, 767.32s/it]"
     ]
    },
    {
     "name": "stdout",
     "output_type": "stream",
     "text": [
      "263[x]  no correction: 0.004105625072330466, correction:8.899318290136745e-05\n",
      "263[y]  no correction: 0.0013666225128294324, correction:0.00010032637475707227\n",
      "263[z]  no correction: 0.03703599357605754, correction:0.0037730643833218808\n",
      "263[Vx]  no correction: 0.0027151025965291608, correction:0.0001880414083678805\n",
      "263[Vy]  no correction: 0.005987076532774217, correction:0.0001632273120653198\n",
      "263[Vz]  no correction: 0.003333795278759242, correction:0.00042942606521489534\n"
     ]
    },
    {
     "name": "stderr",
     "output_type": "stream",
     "text": [
      "\r",
      " 47%|██████████████████████████████████▊                                       | 141/300 [7:49:23<27:41:01, 626.80s/it]"
     ]
    },
    {
     "name": "stdout",
     "output_type": "stream",
     "text": [
      "264[x]  no correction: 0.01811689127216389, correction:0.05371907570980625\n",
      "264 x does not work\n",
      "264[y]  no correction: 0.019994910924971767, correction:0.018245890760364498\n",
      "264[z]  no correction: 0.015096776110574327, correction:0.011469884582568398\n",
      "264[Vx]  no correction: 0.018037994002373242, correction:0.018897274715176212\n",
      "264 Vx does not work\n",
      "264[Vy]  no correction: 0.013659556792111638, correction:0.02604611020007378\n",
      "264 Vy does not work\n",
      "264[Vz]  no correction: 0.030640087214551616, correction:0.09215398908691062\n",
      "264 Vz does not work\n"
     ]
    },
    {
     "name": "stderr",
     "output_type": "stream",
     "text": [
      "\r",
      " 47%|███████████████████████████████████                                       | 142/300 [7:49:46<19:33:04, 445.47s/it]"
     ]
    },
    {
     "name": "stdout",
     "output_type": "stream",
     "text": [
      "265[x]  no correction: 0.015433549554340871, correction:0.015609420413596626\n",
      "265 x does not work\n",
      "265[y]  no correction: 0.03683278842555872, correction:0.014788083880396314\n",
      "265[z]  no correction: 0.012744305425918204, correction:0.2348822814469903\n",
      "265 z does not work\n",
      "265[Vx]  no correction: 0.037457629867510736, correction:0.038899315182140314\n",
      "265 Vx does not work\n",
      "265[Vy]  no correction: 0.07192011306164318, correction:0.7344968492281142\n",
      "265 Vy does not work\n",
      "265[Vz]  no correction: 0.017726258039133864, correction:0.06382543315988841\n",
      "265 Vz does not work\n"
     ]
    },
    {
     "name": "stderr",
     "output_type": "stream",
     "text": [
      "\r",
      " 48%|█████████████████████████████████▊                                     | 143/300 [10:54:18<158:27:32, 3633.46s/it]"
     ]
    },
    {
     "name": "stdout",
     "output_type": "stream",
     "text": [
      "268[x]  no correction: 0.11214799740216788, correction:0.01629890407423832\n",
      "268[y]  no correction: 0.09871363288977736, correction:0.02928308611609618\n",
      "268[z]  no correction: 0.04938359129264439, correction:0.03507985076081342\n",
      "268[Vx]  no correction: 0.045128463580285175, correction:0.10146786070952321\n",
      "268 Vx does not work\n",
      "268[Vy]  no correction: 0.14325198342473916, correction:0.04465114154008678\n",
      "268[Vz]  no correction: 0.3457283000188165, correction:0.7260308475972359\n",
      "268 Vz does not work\n"
     ]
    },
    {
     "name": "stderr",
     "output_type": "stream",
     "text": [
      "\r",
      " 48%|██████████████████████████████████                                     | 144/300 [10:54:58<110:44:25, 2555.55s/it]"
     ]
    },
    {
     "name": "stdout",
     "output_type": "stream",
     "text": [
      "270[x]  no correction: 0.1721486282526967, correction:0.0014769128976638917\n",
      "270[y]  no correction: 0.16941306961464786, correction:0.0015899089385050602\n",
      "270[z]  no correction: 0.10493285836638373, correction:0.003071305973188114\n",
      "270[Vx]  no correction: 0.1432395025410847, correction:0.02290684904474262\n",
      "270[Vy]  no correction: 0.12638998169980206, correction:0.010029016589874864\n",
      "270[Vz]  no correction: 0.1218127027457508, correction:0.0041294203103731855\n"
     ]
    },
    {
     "name": "stderr",
     "output_type": "stream",
     "text": [
      "\r",
      " 48%|██████████████████████████████████▊                                     | 145/300 [10:58:27<79:42:46, 1851.40s/it]"
     ]
    },
    {
     "name": "stdout",
     "output_type": "stream",
     "text": [
      "275[x]  no correction: 0.16019825558426132, correction:0.06145884447142027\n",
      "275[y]  no correction: 0.09079806091010237, correction:0.04140169250152732\n",
      "275[z]  no correction: 0.14853788892215433, correction:0.04712048480872054\n",
      "275[Vx]  no correction: 0.1584231645334258, correction:0.08245346478965178\n",
      "275[Vy]  no correction: 0.07744255198948391, correction:0.05737708818797104\n",
      "275[Vz]  no correction: 0.1547541219429131, correction:0.0786588395448976\n"
     ]
    },
    {
     "name": "stderr",
     "output_type": "stream",
     "text": [
      "\r",
      " 49%|███████████████████████████████████                                     | 146/300 [10:59:31<56:15:40, 1315.20s/it]"
     ]
    },
    {
     "name": "stdout",
     "output_type": "stream",
     "text": [
      "277[x]  no correction: 0.41289898713106904, correction:0.2804835448991587\n",
      "277[y]  no correction: 0.3562780430489638, correction:0.18470265221675278\n",
      "277[z]  no correction: 0.4478210748535235, correction:0.6272833250174836\n",
      "277 z does not work\n",
      "277[Vx]  no correction: 0.3472018897483105, correction:0.7995501738635814\n",
      "277 Vx does not work\n",
      "277[Vy]  no correction: 0.3615686326802352, correction:0.7616144147151911\n",
      "277 Vy does not work\n",
      "277[Vz]  no correction: 0.395320630967312, correction:0.3429390135936282\n"
     ]
    },
    {
     "name": "stderr",
     "output_type": "stream",
     "text": [
      "\r",
      " 49%|███████████████████████████████████▊                                     | 147/300 [11:00:40<40:00:33, 941.40s/it]"
     ]
    },
    {
     "name": "stdout",
     "output_type": "stream",
     "text": [
      "278[x]  no correction: 0.007542079636373992, correction:0.00031920694644780635\n",
      "278[y]  no correction: 0.002718216932701853, correction:0.00024822988343674616\n",
      "278[z]  no correction: 0.0054092930310757825, correction:0.00024226382289880766\n",
      "278[Vx]  no correction: 0.002883303970353421, correction:0.0016160560685902828\n",
      "278[Vy]  no correction: 0.002348651613459415, correction:0.0009909525163021428\n",
      "278[Vz]  no correction: 0.00469545628960785, correction:0.0006085713892264266\n"
     ]
    },
    {
     "name": "stderr",
     "output_type": "stream",
     "text": [
      "\r",
      " 49%|████████████████████████████████████                                     | 148/300 [11:03:46<30:11:11, 714.94s/it]"
     ]
    },
    {
     "name": "stdout",
     "output_type": "stream",
     "text": [
      "281[x]  no correction: 0.0249664320402224, correction:0.0017886471275368417\n",
      "281[y]  no correction: 0.03391750751923404, correction:0.0009413895918601479\n",
      "281[z]  no correction: 0.06201364124524545, correction:0.0008718623200907514\n",
      "281[Vx]  no correction: 0.023760740171213632, correction:0.0006799087260258156\n",
      "281[Vy]  no correction: 0.024405507902231487, correction:0.006515597876749687\n",
      "281[Vz]  no correction: 0.03293976752785854, correction:0.0031536257937599082\n"
     ]
    },
    {
     "name": "stderr",
     "output_type": "stream",
     "text": [
      "\r",
      " 50%|████████████████████████████████████▎                                    | 149/300 [11:05:44<22:28:17, 535.74s/it]"
     ]
    },
    {
     "name": "stdout",
     "output_type": "stream",
     "text": [
      "284[x]  no correction: 0.006036873594907802, correction:0.002430022774217476\n",
      "284[y]  no correction: 0.00604938471118997, correction:0.004173736901999359\n",
      "284[z]  no correction: 0.004903280436422771, correction:0.003117880337384649\n",
      "284[Vx]  no correction: 0.0014188216061570742, correction:0.0006942537121359329\n",
      "284[Vy]  no correction: 0.0008048176240080667, correction:0.0010253202040660478\n",
      "284 Vy does not work\n",
      "284[Vz]  no correction: 0.0045886942883064975, correction:0.0018806034454602791\n"
     ]
    },
    {
     "name": "stderr",
     "output_type": "stream",
     "text": [
      "\r",
      " 50%|████████████████████████████████████▌                                    | 150/300 [11:06:56<16:31:19, 396.53s/it]"
     ]
    },
    {
     "name": "stdout",
     "output_type": "stream",
     "text": [
      "288[x]  no correction: 0.007212203690067943, correction:0.0022190273456475485\n",
      "288[y]  no correction: 0.007361309850602021, correction:0.0014113215413434962\n",
      "288[z]  no correction: 0.008759434406977263, correction:0.0021240556153394054\n",
      "288[Vx]  no correction: 0.005664306334726407, correction:0.006147201264284321\n",
      "288 Vx does not work\n",
      "288[Vy]  no correction: 0.34564677248990977, correction:0.7329752677045481\n",
      "288 Vy does not work\n",
      "288[Vz]  no correction: 0.04095748415850487, correction:0.006129964121131493\n"
     ]
    },
    {
     "name": "stderr",
     "output_type": "stream",
     "text": [
      "\r",
      " 50%|████████████████████████████████████▋                                    | 151/300 [11:07:58<12:15:52, 296.33s/it]"
     ]
    },
    {
     "name": "stdout",
     "output_type": "stream",
     "text": [
      "292[x]  no correction: 0.00423408658964113, correction:0.002373259069737209\n",
      "292[y]  no correction: 0.0042332289329964174, correction:0.0014795947408788312\n",
      "292[z]  no correction: 0.008922628030548347, correction:0.0029569445063739827\n",
      "292[Vx]  no correction: 0.06923214028952494, correction:0.0488057465752547\n",
      "292[Vy]  no correction: 0.014618776719253615, correction:0.034666803278151026\n",
      "292 Vy does not work\n",
      "292[Vz]  no correction: 0.3530702533105153, correction:0.9131382804395495\n",
      "292 Vz does not work\n"
     ]
    },
    {
     "name": "stderr",
     "output_type": "stream",
     "text": [
      "\r",
      " 51%|█████████████████████████████████████▍                                    | 152/300 [11:09:01<9:17:55, 226.19s/it]"
     ]
    },
    {
     "name": "stdout",
     "output_type": "stream",
     "text": [
      "293[x]  no correction: 0.00785279679644206, correction:0.0005699710493775942\n",
      "293[y]  no correction: 0.022596355784856154, correction:0.00036183593697396626\n",
      "293[z]  no correction: 0.03899032639491072, correction:0.011796275263904652\n",
      "293[Vx]  no correction: 0.022433674162363443, correction:0.0009317183894935034\n",
      "293[Vy]  no correction: 0.051652390141783605, correction:0.005176332900285488\n",
      "293[Vz]  no correction: 0.041069256191119216, correction:0.018067226999334274\n"
     ]
    },
    {
     "name": "stderr",
     "output_type": "stream",
     "text": [
      "\r",
      " 51%|█████████████████████████████████████▋                                    | 153/300 [11:11:36<8:22:07, 204.95s/it]"
     ]
    },
    {
     "name": "stdout",
     "output_type": "stream",
     "text": [
      "294[x]  no correction: 0.011242792602919728, correction:0.00731836054084689\n",
      "294[y]  no correction: 0.025028484190199513, correction:0.006500783413866753\n",
      "294[z]  no correction: 0.023673809809216604, correction:0.001736634479051593\n",
      "294[Vx]  no correction: 0.05497042142407096, correction:0.00046688617141438666\n",
      "294[Vy]  no correction: 0.06335466980392893, correction:0.012504876639615768\n",
      "294[Vz]  no correction: 0.6150682540872925, correction:0.7358162840388318\n",
      "294 Vz does not work\n"
     ]
    },
    {
     "name": "stderr",
     "output_type": "stream",
     "text": [
      "\r",
      " 51%|█████████████████████████████████████▉                                    | 154/300 [11:14:11<7:42:03, 189.89s/it]"
     ]
    },
    {
     "name": "stdout",
     "output_type": "stream",
     "text": [
      "298[x]  no correction: 0.01104798623029811, correction:0.00014199043753297\n",
      "298[y]  no correction: 0.006773022397221344, correction:0.00016815656015208174\n",
      "298[z]  no correction: 0.007095397655641718, correction:0.00027290061329933603\n",
      "298[Vx]  no correction: 0.008285716829236022, correction:0.00018853091726397236\n",
      "298[Vy]  no correction: 0.0074757604681271825, correction:0.0002905885472796735\n",
      "298[Vz]  no correction: 0.0070575224858165754, correction:8.562679573385333e-05\n"
     ]
    },
    {
     "name": "stderr",
     "output_type": "stream",
     "text": [
      "\r",
      " 52%|██████████████████████████████████████▏                                   | 155/300 [11:16:49<7:15:55, 180.38s/it]"
     ]
    },
    {
     "name": "stdout",
     "output_type": "stream",
     "text": [
      "299[x]  no correction: 0.0019307382120815966, correction:0.0015207956148281991\n",
      "299[y]  no correction: 0.001970651549212773, correction:0.00011043166528373129\n",
      "299[z]  no correction: 0.0023063805039629827, correction:0.00011006595439433468\n",
      "299[Vx]  no correction: 0.0006999660307545231, correction:6.807438608665937e-05\n",
      "299[Vy]  no correction: 0.001042853574303439, correction:4.5760451308685765e-05\n",
      "299[Vz]  no correction: 0.000650365276527449, correction:4.574990573623963e-05\n"
     ]
    },
    {
     "name": "stderr",
     "output_type": "stream",
     "text": [
      "\r",
      " 52%|██████████████████████████████████████▍                                   | 156/300 [11:23:17<9:42:14, 242.60s/it]"
     ]
    },
    {
     "name": "stdout",
     "output_type": "stream",
     "text": [
      "301[x]  no correction: 0.18321338153666722, correction:0.31443470415054775\n",
      "301 x does not work\n",
      "301[y]  no correction: 0.1690106673179808, correction:0.1747624545015327\n",
      "301 y does not work\n",
      "301[z]  no correction: 0.1907505032127225, correction:0.3888188308778487\n",
      "301 z does not work\n",
      "301[Vx]  no correction: 0.07265461126499423, correction:0.6931255056529027\n",
      "301 Vx does not work\n",
      "301[Vy]  no correction: 0.17394398101510342, correction:0.11837884503972998\n",
      "phophet failed for satellite 301:\tIndexError index 2 is out of bounds for axis 0 with size 2\n"
     ]
    },
    {
     "name": "stderr",
     "output_type": "stream",
     "text": [
      "\r",
      " 52%|█████████████████████████████████████▋                                  | 157/300 [13:16:59<88:02:43, 2216.53s/it]"
     ]
    },
    {
     "name": "stdout",
     "output_type": "stream",
     "text": [
      "304[x]  no correction: 0.008484972135254683, correction:0.0014132890134344511\n",
      "304[y]  no correction: 0.005544633170704985, correction:0.0037440340490454273\n",
      "304[z]  no correction: 0.015604332589025632, correction:0.001450320988716969\n",
      "304[Vx]  no correction: 0.010785284674914096, correction:0.0026607888494813896\n",
      "304[Vy]  no correction: 0.04297475637173444, correction:0.005661333791507325\n",
      "304[Vz]  no correction: 0.004553740072556369, correction:0.0013842689964923246\n"
     ]
    },
    {
     "name": "stderr",
     "output_type": "stream",
     "text": [
      "\r",
      " 53%|█████████████████████████████████████▉                                  | 158/300 [13:18:27<62:14:20, 1577.89s/it]"
     ]
    },
    {
     "name": "stdout",
     "output_type": "stream",
     "text": [
      "306[x]  no correction: 0.004905082651285961, correction:0.0005909613203070954\n",
      "306[y]  no correction: 0.019694954252849253, correction:0.0013940489311223736\n",
      "306[z]  no correction: 0.0390055455880735, correction:0.0012156670972090183\n",
      "306[Vx]  no correction: 0.009510173426708112, correction:0.0021849414074351986\n",
      "306[Vy]  no correction: 0.0076892357245581435, correction:0.0006411709176195409\n",
      "306[Vz]  no correction: 0.0039044170613735103, correction:0.0008168721861594648\n"
     ]
    },
    {
     "name": "stderr",
     "output_type": "stream",
     "text": [
      "\r",
      " 53%|██████████████████████████████████████▏                                 | 159/300 [13:22:11<45:53:21, 1171.64s/it]"
     ]
    },
    {
     "name": "stdout",
     "output_type": "stream",
     "text": [
      "309[x]  no correction: 0.31543022605845233, correction:0.11799482917208043\n",
      "309[y]  no correction: 0.17928624254708803, correction:0.10204842768020647\n",
      "309[z]  no correction: 0.23102678462655643, correction:0.16801152575237382\n",
      "309[Vx]  no correction: 0.2818308458995017, correction:0.17797028326481545\n",
      "309[Vy]  no correction: 0.17520773250406738, correction:0.13085960385675968\n",
      "309[Vz]  no correction: 0.2364438652838642, correction:0.13969976913649745\n"
     ]
    },
    {
     "name": "stderr",
     "output_type": "stream",
     "text": [
      "\r",
      " 53%|██████████████████████████████████████▉                                  | 160/300 [13:22:55<32:24:44, 833.46s/it]"
     ]
    },
    {
     "name": "stdout",
     "output_type": "stream",
     "text": [
      "310[x]  no correction: 0.8686635118814453, correction:0.8168020648588984\n",
      "310[y]  no correction: 0.07081976225554752, correction:0.025955783805791423\n",
      "310[z]  no correction: 0.16127988202091859, correction:0.17337866295607646\n",
      "310 z does not work\n",
      "310[Vx]  no correction: 0.9255044554818456, correction:0.8641639470231136\n",
      "310[Vy]  no correction: 0.05571844869572245, correction:0.04066967031356249\n",
      "310[Vz]  no correction: 0.11480415642472676, correction:0.06385239461028291\n"
     ]
    },
    {
     "name": "stderr",
     "output_type": "stream",
     "text": [
      "\r",
      " 54%|███████████████████████████████████████▏                                 | 161/300 [13:23:23<22:51:01, 591.81s/it]"
     ]
    },
    {
     "name": "stdout",
     "output_type": "stream",
     "text": [
      "312[x]  no correction: 0.001021181070395905, correction:0.00022764529578154805\n",
      "312[y]  no correction: 0.0031361434394499175, correction:0.0007770608755871155\n",
      "312[z]  no correction: 0.0034818264290870566, correction:0.0022842579774803987\n",
      "312[Vx]  no correction: 0.0023722285644872765, correction:0.0004801315121189595\n",
      "312[Vy]  no correction: 0.0060633951179380145, correction:0.003818003627163247\n",
      "312[Vz]  no correction: 0.0019375353914929327, correction:0.0010639818696533269\n"
     ]
    },
    {
     "name": "stderr",
     "output_type": "stream",
     "text": [
      "\r",
      " 54%|███████████████████████████████████████▍                                 | 162/300 [13:25:21<17:14:31, 449.79s/it]"
     ]
    },
    {
     "name": "stdout",
     "output_type": "stream",
     "text": [
      "314[x]  no correction: 0.013556525805863629, correction:0.0010085383015346555\n",
      "314[y]  no correction: 0.0015260045435470367, correction:0.0001876999858407948\n",
      "314[z]  no correction: 0.011438267111181098, correction:0.0002744918099129372\n",
      "314[Vx]  no correction: 0.03798282448128283, correction:0.015745620603359482\n",
      "314[Vy]  no correction: 0.0403578243722095, correction:0.0013100826710813918\n",
      "314[Vz]  no correction: 0.7118574514298994, correction:0.7264313913931632\n",
      "314 Vz does not work\n"
     ]
    },
    {
     "name": "stderr",
     "output_type": "stream",
     "text": [
      "\r",
      " 54%|███████████████████████████████████████▋                                 | 163/300 [13:27:26<13:24:18, 352.25s/it]"
     ]
    },
    {
     "name": "stdout",
     "output_type": "stream",
     "text": [
      "316[x]  no correction: 0.06503345415036885, correction:0.03829257250101537\n",
      "316[y]  no correction: 0.046002146654447365, correction:0.012674970921980831\n",
      "316[z]  no correction: 0.09342866949461386, correction:0.04418975474712808\n",
      "316[Vx]  no correction: 0.09187048352079985, correction:0.10014461363468907\n",
      "316 Vx does not work\n",
      "316[Vy]  no correction: 0.673293651149443, correction:0.6862601860346055\n",
      "316 Vy does not work\n",
      "316[Vz]  no correction: 0.13256725655637974, correction:0.08245555081301255\n"
     ]
    },
    {
     "name": "stderr",
     "output_type": "stream",
     "text": [
      "\r",
      " 55%|████████████████████████████████████████▍                                 | 164/300 [13:28:01<9:42:37, 257.04s/it]"
     ]
    },
    {
     "name": "stdout",
     "output_type": "stream",
     "text": [
      "319[x]  no correction: 0.008463078215211787, correction:0.000866312852693765\n",
      "319[y]  no correction: 0.0042690413773733464, correction:0.0019562249433112515\n",
      "319[z]  no correction: 0.0037398288306396145, correction:0.003197047326361844\n",
      "319[Vx]  no correction: 0.02975130973304878, correction:0.0017266655490708824\n",
      "319[Vy]  no correction: 0.004823189465182726, correction:0.0006059262247007744\n",
      "319[Vz]  no correction: 0.7544398012131578, correction:0.4993688015247608\n"
     ]
    },
    {
     "name": "stderr",
     "output_type": "stream",
     "text": [
      "\r",
      " 55%|████████████████████████████████████████▋                                 | 165/300 [13:29:28<7:43:14, 205.88s/it]"
     ]
    },
    {
     "name": "stdout",
     "output_type": "stream",
     "text": [
      "324[x]  no correction: 0.007818207139314385, correction:0.0013469393844096757\n",
      "324[y]  no correction: 0.010533797354008905, correction:0.0011716658251000756\n",
      "324[z]  no correction: 0.05511675233317304, correction:0.003513306826330714\n",
      "324[Vx]  no correction: 0.01683652112578552, correction:0.0019869250220216567\n",
      "324[Vy]  no correction: 0.004308641458174809, correction:0.0012256767155400861\n",
      "324[Vz]  no correction: 0.010075891752403025, correction:0.002723647349794451\n"
     ]
    },
    {
     "name": "stderr",
     "output_type": "stream",
     "text": [
      "\r",
      " 55%|████████████████████████████████████████▉                                 | 166/300 [13:31:08<6:29:28, 174.39s/it]"
     ]
    },
    {
     "name": "stdout",
     "output_type": "stream",
     "text": [
      "326[x]  no correction: 0.08036643452665843, correction:0.0019604147088903364\n",
      "326[y]  no correction: 0.03523644610287602, correction:0.010793494896654269\n",
      "326[z]  no correction: 0.06806581136166778, correction:0.0036604885844498955\n",
      "326[Vx]  no correction: 0.0519498319194565, correction:0.03350283928882465\n",
      "326[Vy]  no correction: 0.05303454102011913, correction:0.006564967809274762\n",
      "326[Vz]  no correction: 0.7243764137697262, correction:0.7351772705302858\n",
      "326 Vz does not work\n"
     ]
    },
    {
     "name": "stderr",
     "output_type": "stream",
     "text": [
      "\r",
      " 56%|█████████████████████████████████████████▏                                | 167/300 [13:32:26<5:22:20, 145.42s/it]"
     ]
    },
    {
     "name": "stdout",
     "output_type": "stream",
     "text": [
      "332[x]  no correction: 0.004893313707520512, correction:0.0003037470232313545\n",
      "332[y]  no correction: 0.0046634102203569, correction:0.0004211146826730958\n",
      "332[z]  no correction: 0.06127454965741585, correction:0.005053981575821387\n",
      "332[Vx]  no correction: 0.005149966860799985, correction:0.0008262976556523042\n",
      "332[Vy]  no correction: 0.0035188579236609344, correction:0.00030154639374953117\n",
      "332[Vz]  no correction: 0.003399619445987171, correction:0.0005600323758660295\n"
     ]
    },
    {
     "name": "stderr",
     "output_type": "stream",
     "text": [
      "\r",
      " 56%|█████████████████████████████████████████▍                                | 168/300 [13:33:42<4:33:43, 124.42s/it]"
     ]
    },
    {
     "name": "stdout",
     "output_type": "stream",
     "text": [
      "333[x]  no correction: 0.38147113855366926, correction:0.11512365299721157\n",
      "333[y]  no correction: 0.18719902909405073, correction:0.1157607575753172\n",
      "333[z]  no correction: 0.35750760333789017, correction:0.14188852776847005\n",
      "333[Vx]  no correction: 0.30999005991730605, correction:0.22749947210378915\n",
      "333[Vy]  no correction: 0.21896063814802985, correction:0.15634509222921425\n",
      "333[Vz]  no correction: 0.2537894394412357, correction:0.17082501132800645\n"
     ]
    },
    {
     "name": "stderr",
     "output_type": "stream",
     "text": [
      "\r",
      " 56%|██████████████████████████████████████████▎                                | 169/300 [13:34:23<3:37:18, 99.53s/it]"
     ]
    },
    {
     "name": "stdout",
     "output_type": "stream",
     "text": [
      "342[x]  no correction: 0.004184734794447222, correction:0.0004090276858504036\n",
      "342[y]  no correction: 0.0009316608333354064, correction:0.00013446884781714586\n",
      "342[z]  no correction: 0.0018984880600053016, correction:7.576992098512749e-05\n",
      "342[Vx]  no correction: 0.000708420870419569, correction:0.00022823990999248437\n",
      "342[Vy]  no correction: 0.00040317270072809136, correction:9.533846007681771e-05\n",
      "342[Vz]  no correction: 0.006147684842170432, correction:0.00015964655850421344\n"
     ]
    },
    {
     "name": "stderr",
     "output_type": "stream",
     "text": [
      "\r",
      " 57%|█████████████████████████████████████████▉                                | 170/300 [13:43:14<8:16:04, 228.96s/it]"
     ]
    },
    {
     "name": "stdout",
     "output_type": "stream",
     "text": [
      "343[x]  no correction: 0.0054163975594100746, correction:0.0002307621542870382\n",
      "343[y]  no correction: 0.004944297698527198, correction:0.0003799362837771891\n",
      "343[z]  no correction: 0.0045427478303922296, correction:0.00019308149671502719\n",
      "343[Vx]  no correction: 0.005487675538297534, correction:0.0001635944041378852\n",
      "343[Vy]  no correction: 0.007274039145137841, correction:0.0007515147569122719\n",
      "343[Vz]  no correction: 0.010511204241643257, correction:0.000448407732025361\n"
     ]
    },
    {
     "name": "stderr",
     "output_type": "stream",
     "text": [
      "\r",
      " 57%|██████████████████████████████████████████▏                               | 171/300 [13:46:29<7:50:36, 218.88s/it]"
     ]
    },
    {
     "name": "stdout",
     "output_type": "stream",
     "text": [
      "344[x]  no correction: 0.08724894764090405, correction:0.0002398300168550518\n",
      "344[y]  no correction: 0.028981033340828813, correction:0.0006305761001155732\n",
      "344[z]  no correction: 0.06443811248684286, correction:0.00026690583742466006\n",
      "344[Vx]  no correction: 0.06694747104717613, correction:0.0002046379299228421\n",
      "344[Vy]  no correction: 0.09267571621198288, correction:0.0006674908659397543\n",
      "344[Vz]  no correction: 0.05867194155781602, correction:0.0001610601009372067\n"
     ]
    },
    {
     "name": "stderr",
     "output_type": "stream",
     "text": [
      "\r",
      " 57%|█████████████████████████████████████████▊                               | 172/300 [14:00:10<14:11:46, 399.27s/it]"
     ]
    },
    {
     "name": "stdout",
     "output_type": "stream",
     "text": [
      "347[x]  no correction: 0.09893272451240835, correction:0.005872589017085915\n",
      "347[y]  no correction: 0.14962486304495243, correction:0.0541826905431745\n",
      "347[z]  no correction: 0.16293860205997784, correction:0.006246219257736774\n",
      "347[Vx]  no correction: 0.07729325277781995, correction:0.009887087393135647\n",
      "347[Vy]  no correction: 0.16237415044886988, correction:0.13531199019232681\n",
      "347[Vz]  no correction: 0.16983964499063034, correction:0.1433974898169013\n"
     ]
    },
    {
     "name": "stderr",
     "output_type": "stream",
     "text": [
      "\r",
      " 58%|██████████████████████████████████████████                               | 173/300 [14:01:20<10:36:08, 300.54s/it]"
     ]
    },
    {
     "name": "stdout",
     "output_type": "stream",
     "text": [
      "348[x]  no correction: 0.011751490354157594, correction:0.0009117064431330936\n",
      "348[y]  no correction: 0.01726985445705847, correction:0.0002796616924193564\n",
      "348[z]  no correction: 0.07590551572973067, correction:0.07559228835361595\n",
      "348[Vx]  no correction: 0.021074256318995815, correction:0.000662635840013575\n",
      "348[Vy]  no correction: 0.02044520753549766, correction:0.0007066175170180952\n",
      "348[Vz]  no correction: 0.03638499166396566, correction:0.008668916565179012\n"
     ]
    },
    {
     "name": "stderr",
     "output_type": "stream",
     "text": [
      "\r",
      " 58%|██████████████████████████████████████████▉                               | 174/300 [14:04:03<9:04:51, 259.46s/it]"
     ]
    },
    {
     "name": "stdout",
     "output_type": "stream",
     "text": [
      "349[x]  no correction: 0.0004970710417780403, correction:0.0009229958310119821\n",
      "349 x does not work\n",
      "349[y]  no correction: 0.010472621576273844, correction:0.002009503001012804\n",
      "349[z]  no correction: 0.004103755287885169, correction:0.0012676821049691592\n",
      "349[Vx]  no correction: 0.004754368471704334, correction:0.0004470589186535155\n",
      "349[Vy]  no correction: 0.002906514144296909, correction:0.0006913655472209051\n",
      "349[Vz]  no correction: 0.0058718977292361385, correction:0.003208555569214176\n"
     ]
    },
    {
     "name": "stderr",
     "output_type": "stream",
     "text": [
      "\r",
      " 58%|███████████████████████████████████████████▏                              | 175/300 [14:05:05<6:56:39, 199.99s/it]"
     ]
    },
    {
     "name": "stdout",
     "output_type": "stream",
     "text": [
      "356[x]  no correction: 0.2549896523998222, correction:0.005022869493470065\n",
      "356[y]  no correction: 0.13780275526679361, correction:0.06566681588608915\n",
      "356[z]  no correction: 0.1799618671895777, correction:0.03539777466323552\n",
      "356[Vx]  no correction: 0.2289327669108038, correction:0.11519299196056469\n",
      "356[Vy]  no correction: 0.1434046325205847, correction:0.08171014712067695\n",
      "356[Vz]  no correction: 0.11089935468815686, correction:0.030250953286085586\n"
     ]
    },
    {
     "name": "stderr",
     "output_type": "stream",
     "text": [
      "\r",
      " 59%|███████████████████████████████████████████▍                              | 176/300 [14:07:03<6:02:45, 175.53s/it]"
     ]
    },
    {
     "name": "stdout",
     "output_type": "stream",
     "text": [
      "357[x]  no correction: 0.014515108817773842, correction:0.003505942015150743\n",
      "357[y]  no correction: 0.008736721868417001, correction:0.0026181809384336926\n",
      "357[z]  no correction: 0.023083649584122824, correction:0.008890755453485546\n",
      "357[Vx]  no correction: 0.005336789213149296, correction:0.007762262966904416\n",
      "357 Vx does not work\n",
      "357[Vy]  no correction: 0.01653960930370506, correction:0.007124748905930567\n",
      "357[Vz]  no correction: 0.026637045899602398, correction:0.008842127745848503\n"
     ]
    },
    {
     "name": "stderr",
     "output_type": "stream",
     "text": [
      "\r",
      " 59%|███████████████████████████████████████████▋                              | 177/300 [14:08:08<4:51:59, 142.43s/it]"
     ]
    },
    {
     "name": "stdout",
     "output_type": "stream",
     "text": [
      "358[x]  no correction: 0.0015516002593713549, correction:0.00034482180955113857\n",
      "358[y]  no correction: 0.0036189587953854067, correction:0.004937801074825634\n",
      "358 y does not work\n",
      "358[z]  no correction: 0.008296862620230477, correction:0.002775051739917466\n",
      "358[Vx]  no correction: 0.0019753754308386145, correction:0.0016044512172329174\n",
      "358[Vy]  no correction: 0.0060952738748245115, correction:0.005734050706734054\n",
      "358[Vz]  no correction: 0.008985353286180059, correction:0.0048254034383007115\n"
     ]
    },
    {
     "name": "stderr",
     "output_type": "stream",
     "text": [
      "\r",
      " 59%|███████████████████████████████████████████▉                              | 178/300 [14:09:23<4:08:00, 121.97s/it]"
     ]
    },
    {
     "name": "stdout",
     "output_type": "stream",
     "text": [
      "359[x]  no correction: 0.006111599389651999, correction:0.002789328640921254\n",
      "359[y]  no correction: 0.04593125031117343, correction:0.007218143266520369\n",
      "359[z]  no correction: 0.004306451855777038, correction:0.005321513244584167\n",
      "359 z does not work\n",
      "359[Vx]  no correction: 0.00798680045505394, correction:0.007400238780744774\n",
      "359[Vy]  no correction: 0.010621584754297135, correction:0.005586100802628186\n",
      "359[Vz]  no correction: 0.0069715757549904875, correction:0.003818432318165518\n"
     ]
    },
    {
     "name": "stderr",
     "output_type": "stream",
     "text": [
      "\r",
      " 60%|████████████████████████████████████████████▏                             | 179/300 [14:10:18<3:25:27, 101.88s/it]"
     ]
    },
    {
     "name": "stdout",
     "output_type": "stream",
     "text": [
      "362[x]  no correction: 0.36057852837302284, correction:0.24861956455126497\n",
      "362[y]  no correction: 0.3146075833494714, correction:0.18157048131079873\n",
      "362[z]  no correction: 0.5473903437327542, correction:0.14050668875587663\n",
      "362[Vx]  no correction: 0.3633301811888552, correction:0.24836604478563873\n",
      "362[Vy]  no correction: 0.315161028157444, correction:0.25076141202946955\n",
      "362[Vz]  no correction: 0.43268107053658705, correction:0.30031216945018374\n"
     ]
    },
    {
     "name": "stderr",
     "output_type": "stream",
     "text": [
      "\r",
      " 60%|█████████████████████████████████████████████                              | 180/300 [14:10:50<2:42:06, 81.06s/it]"
     ]
    },
    {
     "name": "stdout",
     "output_type": "stream",
     "text": [
      "363[x]  no correction: 0.03924447325306411, correction:0.03242271561872443\n",
      "363[y]  no correction: 0.006452463749955319, correction:0.0017040799051345316\n",
      "363[z]  no correction: 0.010672251304973363, correction:0.012285026986452594\n",
      "363 z does not work\n",
      "363[Vx]  no correction: 0.05863195042006902, correction:0.07366102870522773\n",
      "363 Vx does not work\n",
      "363[Vy]  no correction: 0.09542364067446125, correction:0.004323747706378721\n",
      "363[Vz]  no correction: 0.648897515742719, correction:0.8433063202087174\n",
      "363 Vz does not work\n"
     ]
    },
    {
     "name": "stderr",
     "output_type": "stream",
     "text": [
      "\r",
      " 60%|█████████████████████████████████████████████▎                             | 181/300 [14:11:43<2:23:54, 72.56s/it]"
     ]
    },
    {
     "name": "stdout",
     "output_type": "stream",
     "text": [
      "372[x]  no correction: 0.38333944066519254, correction:0.37512687603553607\n",
      "372[y]  no correction: 0.4152854863498548, correction:0.40467483107525576\n",
      "372[z]  no correction: 0.4052952325688138, correction:0.35743755768597524\n",
      "372[Vx]  no correction: 0.44593984861090413, correction:0.3638268936358616\n",
      "372[Vy]  no correction: 0.38631552639410754, correction:0.39202160431060407\n",
      "372 Vy does not work\n",
      "372[Vz]  no correction: 0.4203715343938598, correction:0.40983320160378583\n"
     ]
    },
    {
     "name": "stderr",
     "output_type": "stream",
     "text": [
      "\r",
      " 61%|█████████████████████████████████████████████▌                             | 182/300 [14:13:48<2:53:48, 88.38s/it]"
     ]
    },
    {
     "name": "stdout",
     "output_type": "stream",
     "text": [
      "373[x]  no correction: 0.04539732567248402, correction:0.011856480978294894\n",
      "373[y]  no correction: 0.010556144650318434, correction:0.005957757894631274\n",
      "373[z]  no correction: 0.1301973290759964, correction:0.004296959171675203\n",
      "373[Vx]  no correction: 0.011453980838930376, correction:0.008905696908519481\n",
      "373[Vy]  no correction: 0.01982738319486828, correction:0.010427108983455476\n",
      "373[Vz]  no correction: 0.0884341514680549, correction:0.042903336865553296\n"
     ]
    },
    {
     "name": "stderr",
     "output_type": "stream",
     "text": [
      "\r",
      " 61%|█████████████████████████████████████████████▊                             | 183/300 [14:15:08<2:47:12, 85.75s/it]"
     ]
    },
    {
     "name": "stdout",
     "output_type": "stream",
     "text": [
      "375[x]  no correction: 0.008580310042044199, correction:0.0032977461647001544\n",
      "375[y]  no correction: 0.034296401378697446, correction:0.016322727930720222\n",
      "375[z]  no correction: 0.01599749676790804, correction:0.007163368659764643\n",
      "375[Vx]  no correction: 0.007808635335515498, correction:0.0031314841280196634\n",
      "375[Vy]  no correction: 0.005663117439696063, correction:0.003820854807355312\n",
      "375[Vz]  no correction: 0.01868486368081324, correction:0.0064150453736511355\n"
     ]
    },
    {
     "name": "stderr",
     "output_type": "stream",
     "text": [
      "\r",
      " 61%|██████████████████████████████████████████████                             | 184/300 [14:16:14<2:34:31, 79.93s/it]"
     ]
    },
    {
     "name": "stdout",
     "output_type": "stream",
     "text": [
      "377[x]  no correction: 0.13676169726553136, correction:0.0030258972184321695\n",
      "377[y]  no correction: 0.06707974561160115, correction:0.0029014074366189827\n",
      "377[z]  no correction: 0.12708036448604554, correction:0.044245352849211925\n",
      "377[Vx]  no correction: 0.12311126242170592, correction:0.0021272205831616283\n",
      "377[Vy]  no correction: 0.07540384279244434, correction:0.0023098505715512087\n",
      "377[Vz]  no correction: 0.11511357536011822, correction:0.04014228365347994\n"
     ]
    },
    {
     "name": "stderr",
     "output_type": "stream",
     "text": [
      "\r",
      " 62%|██████████████████████████████████████████████▎                            | 185/300 [14:18:08<2:52:52, 90.19s/it]"
     ]
    },
    {
     "name": "stdout",
     "output_type": "stream",
     "text": [
      "380[x]  no correction: 0.0900555178069596, correction:0.004606066822035029\n",
      "380[y]  no correction: 0.07693235139907677, correction:0.053791617245885465\n",
      "380[z]  no correction: 0.18218359186798538, correction:0.006887055410191231\n",
      "380[Vx]  no correction: 0.10491143937933015, correction:0.07766424708234959\n",
      "380[Vy]  no correction: 0.10845628181694851, correction:0.049477418644137156\n",
      "380[Vz]  no correction: 0.1471682292865651, correction:0.12323968490774398\n"
     ]
    },
    {
     "name": "stderr",
     "output_type": "stream",
     "text": [
      "\r",
      " 62%|██████████████████████████████████████████████▌                            | 186/300 [14:19:25<2:43:39, 86.14s/it]"
     ]
    },
    {
     "name": "stdout",
     "output_type": "stream",
     "text": [
      "382[x]  no correction: 0.0010586247285251007, correction:0.0003048860878449502\n",
      "382[y]  no correction: 0.0007546064196387442, correction:0.0002458355673243394\n",
      "382[z]  no correction: 0.0024815331368858063, correction:0.0003146547614812461\n",
      "382[Vx]  no correction: 0.0010131939390565121, correction:0.0004763866205233069\n",
      "382[Vy]  no correction: 0.0026093079588419806, correction:0.00023392700996892598\n",
      "382[Vz]  no correction: 0.000651310058956446, correction:0.00010053596547371112\n"
     ]
    },
    {
     "name": "stderr",
     "output_type": "stream",
     "text": [
      "\r",
      " 62%|██████████████████████████████████████████████▏                           | 187/300 [14:23:59<4:28:17, 142.46s/it]"
     ]
    },
    {
     "name": "stdout",
     "output_type": "stream",
     "text": [
      "384[x]  no correction: 0.09470595019041192, correction:0.01339476445946047\n",
      "384[y]  no correction: 0.024607328728130998, correction:0.0022152106948033936\n",
      "384[z]  no correction: 0.0985302181755798, correction:0.0038101582113879194\n",
      "384[Vx]  no correction: 0.07216439864256027, correction:0.0037309149708952007\n",
      "384[Vy]  no correction: 0.040108143288671114, correction:0.009613600015974591\n",
      "384[Vz]  no correction: 0.10803179972172497, correction:0.006552766357371099\n"
     ]
    },
    {
     "name": "stderr",
     "output_type": "stream",
     "text": [
      "\r",
      " 63%|██████████████████████████████████████████████▎                           | 188/300 [14:27:11<4:53:53, 157.44s/it]"
     ]
    },
    {
     "name": "stdout",
     "output_type": "stream",
     "text": [
      "385[x]  no correction: 0.0017476090313218932, correction:0.00027987146591909666\n",
      "385[y]  no correction: 0.0035569858436853927, correction:0.00018273315196526047\n",
      "385[z]  no correction: 0.010552121087839443, correction:0.0007371636279906726\n",
      "385[Vx]  no correction: 0.002226223131011635, correction:0.0004079578164071021\n",
      "385[Vy]  no correction: 0.0014023582009740705, correction:0.0004026024143310996\n",
      "385[Vz]  no correction: 0.006210237112432644, correction:0.0005252163510435453\n"
     ]
    },
    {
     "name": "stderr",
     "output_type": "stream",
     "text": [
      "\r",
      " 63%|██████████████████████████████████████████████▌                           | 189/300 [14:31:05<5:33:39, 180.36s/it]"
     ]
    },
    {
     "name": "stdout",
     "output_type": "stream",
     "text": [
      "387[x]  no correction: 0.002500504258441959, correction:0.0007174996585438444\n",
      "387[y]  no correction: 0.0012903367577999595, correction:8.197454749879811e-05\n",
      "387[z]  no correction: 0.004695883626084184, correction:0.0006267539349558043\n",
      "387[Vx]  no correction: 0.0027489434786700274, correction:0.00011462659377129474\n",
      "387[Vy]  no correction: 0.0018349884266890433, correction:8.122030142456613e-05\n",
      "387[Vz]  no correction: 0.0005372924791159313, correction:0.00010816536597192942\n"
     ]
    },
    {
     "name": "stderr",
     "output_type": "stream",
     "text": [
      "\r",
      " 63%|██████████████████████████████████████████████▊                           | 190/300 [14:34:16<5:36:34, 183.59s/it]"
     ]
    },
    {
     "name": "stdout",
     "output_type": "stream",
     "text": [
      "389[x]  no correction: 0.02512320315566303, correction:0.006534175375081408\n",
      "389[y]  no correction: 0.012098331998928317, correction:0.0030176927167137033\n",
      "389[z]  no correction: 0.013875780284548325, correction:0.0010792645880496581\n",
      "389[Vx]  no correction: 0.01534152451672962, correction:0.002532622308933274\n",
      "389[Vy]  no correction: 0.04909658072910833, correction:0.05308932921849034\n",
      "389 Vy does not work\n",
      "389[Vz]  no correction: 0.008180657280537074, correction:0.0011734405444652812\n"
     ]
    },
    {
     "name": "stderr",
     "output_type": "stream",
     "text": [
      "\r",
      " 64%|███████████████████████████████████████████████                           | 191/300 [14:36:05<4:52:36, 161.07s/it]"
     ]
    },
    {
     "name": "stdout",
     "output_type": "stream",
     "text": [
      "390[x]  no correction: 0.18136033446858643, correction:0.09227859673892458\n",
      "390[y]  no correction: 0.09988780543492666, correction:0.06556975840453311\n",
      "390[z]  no correction: 0.2527986444339568, correction:0.06305400360807845\n",
      "390[Vx]  no correction: 0.16842080671489845, correction:0.07341180227771836\n",
      "390[Vy]  no correction: 0.14064350115329255, correction:0.07767927873141713\n",
      "390[Vz]  no correction: 0.20929436122408374, correction:0.15008082996093985\n"
     ]
    },
    {
     "name": "stderr",
     "output_type": "stream",
     "text": [
      "\r",
      " 64%|███████████████████████████████████████████████▎                          | 192/300 [14:36:57<3:51:18, 128.50s/it]"
     ]
    },
    {
     "name": "stdout",
     "output_type": "stream",
     "text": [
      "391[x]  no correction: 0.2813962036708781, correction:0.44248867548172305\n",
      "391 x does not work\n",
      "391[y]  no correction: 0.08199476981165897, correction:0.01171336439308992\n",
      "391[z]  no correction: 0.4992866754021793, correction:0.15665396015913258\n",
      "391[Vx]  no correction: 0.7220470067448748, correction:0.8710492052090563\n",
      "391 Vx does not work\n",
      "391[Vy]  no correction: 0.14670142606245476, correction:0.20091557000725535\n",
      "391 Vy does not work\n",
      "391[Vz]  no correction: 0.3040774799952256, correction:0.29777670327127626\n"
     ]
    },
    {
     "name": "stderr",
     "output_type": "stream",
     "text": [
      "\r",
      " 64%|███████████████████████████████████████████████▌                          | 193/300 [14:37:38<3:02:19, 102.24s/it]"
     ]
    },
    {
     "name": "stdout",
     "output_type": "stream",
     "text": [
      "392[x]  no correction: 0.005740720877462216, correction:9.900243845247112e-05\n",
      "392[y]  no correction: 0.017671555744619757, correction:0.0006273956320872731\n",
      "392[z]  no correction: 0.01089485170882982, correction:0.0006430428559004468\n",
      "392[Vx]  no correction: 0.02088507420042161, correction:0.0007703533262028252\n",
      "392[Vy]  no correction: 0.0060622150251524376, correction:0.00039914048881651274\n",
      "392[Vz]  no correction: 0.003481046376848254, correction:0.0006721640321457517\n"
     ]
    },
    {
     "name": "stderr",
     "output_type": "stream",
     "text": [
      "\r",
      " 65%|███████████████████████████████████████████████▊                          | 194/300 [14:42:58<4:55:48, 167.44s/it]"
     ]
    },
    {
     "name": "stdout",
     "output_type": "stream",
     "text": [
      "393[x]  no correction: 0.0026076302736513417, correction:0.00033907956505065654\n",
      "393[y]  no correction: 0.003489859081916864, correction:0.0007239972912963147\n",
      "393[z]  no correction: 0.004488438976632072, correction:0.00032727956238340567\n",
      "393[Vx]  no correction: 0.0017517802022998076, correction:0.00030103001181185676\n",
      "393[Vy]  no correction: 0.0014603870971984427, correction:0.00035376381714266136\n",
      "393[Vz]  no correction: 0.0011429136978098012, correction:0.0002987691791037183\n"
     ]
    },
    {
     "name": "stderr",
     "output_type": "stream",
     "text": [
      "\r",
      " 65%|████████████████████████████████████████████████                          | 195/300 [14:46:52<5:27:59, 187.43s/it]"
     ]
    },
    {
     "name": "stdout",
     "output_type": "stream",
     "text": [
      "395[x]  no correction: 0.02901574801792272, correction:0.002940700170989537\n",
      "395[y]  no correction: 0.007334191261471247, correction:0.002343889868464011\n",
      "395[z]  no correction: 0.0018684848419741964, correction:0.0006251285502504502\n",
      "395[Vx]  no correction: 0.005695699653122839, correction:0.0017642449253426754\n",
      "395[Vy]  no correction: 0.005889740407511758, correction:0.0027595834274591435\n",
      "395[Vz]  no correction: 0.015134664688197528, correction:0.02491558854542462\n",
      "395 Vz does not work\n"
     ]
    },
    {
     "name": "stderr",
     "output_type": "stream",
     "text": [
      "\r",
      " 65%|████████████████████████████████████████████████▎                         | 196/300 [14:47:58<4:22:06, 151.21s/it]"
     ]
    },
    {
     "name": "stdout",
     "output_type": "stream",
     "text": [
      "396[x]  no correction: 0.3384485766871255, correction:0.05583365915888489\n",
      "396[y]  no correction: 0.23027269354871782, correction:0.21368497451202145\n",
      "396[z]  no correction: 0.3915165241083826, correction:0.30916095879018574\n",
      "396[Vx]  no correction: 0.3284552594917161, correction:0.10908363633841257\n",
      "396[Vy]  no correction: 0.24378618661843185, correction:0.17259221237847613\n",
      "396[Vz]  no correction: 0.3931511889895105, correction:0.29158116886184055\n"
     ]
    },
    {
     "name": "stderr",
     "output_type": "stream",
     "text": [
      "\r",
      " 66%|████████████████████████████████████████████████▌                         | 197/300 [14:48:35<3:20:41, 116.91s/it]"
     ]
    },
    {
     "name": "stdout",
     "output_type": "stream",
     "text": [
      "399[x]  no correction: 0.04065673721568335, correction:0.005544108386611558\n",
      "399[y]  no correction: 0.01692608140762487, correction:0.002256416443718126\n",
      "399[z]  no correction: 0.04911830103822434, correction:0.0015076705131171297\n",
      "399[Vx]  no correction: 0.06253611678286095, correction:0.013708383804779496\n",
      "399[Vy]  no correction: 0.06897099411635972, correction:0.03742200360721459\n",
      "399[Vz]  no correction: 0.07297937018768358, correction:0.010273423342272416\n"
     ]
    },
    {
     "name": "stderr",
     "output_type": "stream",
     "text": [
      "\r",
      " 66%|████████████████████████████████████████████████▊                         | 198/300 [14:49:43<2:53:49, 102.25s/it]"
     ]
    },
    {
     "name": "stdout",
     "output_type": "stream",
     "text": [
      "400[x]  no correction: 0.0012848171793515648, correction:0.0004675747190624901\n",
      "400[y]  no correction: 0.0028291344403350563, correction:0.0020842249930250927\n",
      "400[z]  no correction: 0.0014227175083689318, correction:0.0003348340216423856\n",
      "400[Vx]  no correction: 0.001303899211807484, correction:0.0009377099649576191\n",
      "400[Vy]  no correction: 0.0007554666069053495, correction:0.000988345485432062\n",
      "400 Vy does not work\n",
      "400[Vz]  no correction: 0.0009894702933883085, correction:0.001273119226515156\n",
      "400 Vz does not work\n"
     ]
    },
    {
     "name": "stderr",
     "output_type": "stream",
     "text": [
      "\r",
      " 66%|█████████████████████████████████████████████████▊                         | 199/300 [14:50:55<2:36:54, 93.22s/it]"
     ]
    },
    {
     "name": "stdout",
     "output_type": "stream",
     "text": [
      "407[x]  no correction: 0.0032168633270490076, correction:0.00018584986373857028\n",
      "407[y]  no correction: 0.002063883347584896, correction:9.290323566090396e-05\n",
      "407[z]  no correction: 0.00331680293481585, correction:0.001064436380251782\n",
      "407[Vx]  no correction: 0.005613202028110399, correction:0.0003131316412705357\n",
      "407[Vy]  no correction: 0.0005998996234056225, correction:5.632969730467757e-05\n",
      "407[Vz]  no correction: 0.0006476562650400623, correction:8.964227078002964e-05\n"
     ]
    },
    {
     "name": "stderr",
     "output_type": "stream",
     "text": [
      "\r",
      " 67%|█████████████████████████████████████████████████▎                        | 200/300 [14:58:58<5:50:03, 210.03s/it]"
     ]
    },
    {
     "name": "stdout",
     "output_type": "stream",
     "text": [
      "409[x]  no correction: 0.010941483528247553, correction:0.00028040339000085776\n",
      "409[y]  no correction: 0.01169326527205602, correction:0.00036652777810589423\n",
      "409[z]  no correction: 0.029886973511009877, correction:0.0007977217138609785\n",
      "409[Vx]  no correction: 0.010705148118499512, correction:0.0004845653377526722\n",
      "409[Vy]  no correction: 0.013922984334155323, correction:0.0005549264536912809\n",
      "409[Vz]  no correction: 0.018425386659938234, correction:0.0006291482203397009\n"
     ]
    },
    {
     "name": "stderr",
     "output_type": "stream",
     "text": [
      "\r",
      " 67%|█████████████████████████████████████████████████▌                        | 201/300 [15:02:27<5:45:59, 209.69s/it]"
     ]
    },
    {
     "name": "stdout",
     "output_type": "stream",
     "text": [
      "411[x]  no correction: 0.03700791298711481, correction:0.01258217735638395\n",
      "411[y]  no correction: 0.0180379351391425, correction:0.0022574978982897393\n",
      "411[z]  no correction: 0.019204236601963957, correction:0.0036060996788831795\n",
      "411[Vx]  no correction: 0.025439356982449878, correction:0.01391566006757299\n",
      "411[Vy]  no correction: 0.012295113619725129, correction:0.004560439462685319\n",
      "411[Vz]  no correction: 0.01744512354718017, correction:0.006407632202669285\n"
     ]
    },
    {
     "name": "stderr",
     "output_type": "stream",
     "text": [
      "\r",
      " 67%|█████████████████████████████████████████████████▊                        | 202/300 [15:03:51<4:41:09, 172.14s/it]"
     ]
    },
    {
     "name": "stdout",
     "output_type": "stream",
     "text": [
      "412[x]  no correction: 0.0025254049154981666, correction:5.8774783420856436e-05\n",
      "412[y]  no correction: 0.0015788991651249583, correction:6.955931144031626e-05\n",
      "412[z]  no correction: 0.001444942737959569, correction:0.00036298137147552695\n",
      "412[Vx]  no correction: 0.003250010703310442, correction:0.0003735631247990659\n",
      "412[Vy]  no correction: 0.002235346516516262, correction:6.953461794579594e-05\n",
      "412[Vz]  no correction: 0.0029600606971233344, correction:0.001220098589400413\n"
     ]
    },
    {
     "name": "stderr",
     "output_type": "stream",
     "text": [
      "\r",
      " 68%|██████████████████████████████████████████████████                        | 203/300 [15:08:16<5:23:20, 200.00s/it]"
     ]
    },
    {
     "name": "stdout",
     "output_type": "stream",
     "text": [
      "415[x]  no correction: 0.00604761504912872, correction:0.0020536802791852266\n",
      "415[y]  no correction: 0.008918079126349187, correction:0.0007400420183561621\n",
      "415[z]  no correction: 0.007555195636257086, correction:0.00047496877706991534\n",
      "415[Vx]  no correction: 0.007831476975269654, correction:0.0028135239181843763\n",
      "415[Vy]  no correction: 0.02977969064596161, correction:0.0036847106837129013\n",
      "415[Vz]  no correction: 0.008296755873143678, correction:0.004291902186113131\n"
     ]
    },
    {
     "name": "stderr",
     "output_type": "stream",
     "text": [
      "\r",
      " 68%|██████████████████████████████████████████████████▎                       | 204/300 [15:09:56<4:31:58, 169.99s/it]"
     ]
    },
    {
     "name": "stdout",
     "output_type": "stream",
     "text": [
      "416[x]  no correction: 0.011199030752540098, correction:0.00035044021870566164\n",
      "416[y]  no correction: 0.0075495192259466565, correction:0.0008546828394079003\n",
      "416[z]  no correction: 0.02077275432112551, correction:0.00115394333218877\n",
      "416[Vx]  no correction: 0.0057633563582560575, correction:0.0009875350793099808\n",
      "416[Vy]  no correction: 0.007673448929959257, correction:0.00021381732329022097\n",
      "416[Vz]  no correction: 0.005206163357547901, correction:0.00047873924908383613\n"
     ]
    },
    {
     "name": "stderr",
     "output_type": "stream",
     "text": [
      "\r",
      " 68%|██████████████████████████████████████████████████▌                       | 205/300 [15:13:15<4:42:48, 178.62s/it]"
     ]
    },
    {
     "name": "stdout",
     "output_type": "stream",
     "text": [
      "417[x]  no correction: 0.008354440223755885, correction:0.0005693481653700941\n",
      "417[y]  no correction: 0.0013213918856217553, correction:0.00015149031396100886\n",
      "417[z]  no correction: 0.051846222558480926, correction:0.004346091296932973\n",
      "417[Vx]  no correction: 0.0024085324928892933, correction:0.000238787029132293\n",
      "417[Vy]  no correction: 0.003132490328595617, correction:0.00022713429795559486\n",
      "417[Vz]  no correction: 0.002477219539615139, correction:0.0006803919844262767\n"
     ]
    },
    {
     "name": "stderr",
     "output_type": "stream",
     "text": [
      "\r",
      " 69%|██████████████████████████████████████████████████▊                       | 206/300 [15:14:24<3:48:26, 145.82s/it]"
     ]
    },
    {
     "name": "stdout",
     "output_type": "stream",
     "text": [
      "418[x]  no correction: 0.13865193144372234, correction:0.003504456377858973\n",
      "418[y]  no correction: 0.05965576035288449, correction:0.011179556675587132\n",
      "418[z]  no correction: 0.08754283883931288, correction:0.007037807934550144\n",
      "418[Vx]  no correction: 0.10032806666865177, correction:0.03396861810540908\n",
      "418[Vy]  no correction: 0.07083002934078023, correction:0.010165391406692426\n",
      "418[Vz]  no correction: 0.10185471553172726, correction:0.04583339300277142\n"
     ]
    },
    {
     "name": "stderr",
     "output_type": "stream",
     "text": [
      "\r",
      " 69%|███████████████████████████████████████████████████                       | 207/300 [15:16:13<3:28:48, 134.72s/it]"
     ]
    },
    {
     "name": "stdout",
     "output_type": "stream",
     "text": [
      "419[x]  no correction: 0.0025281367065079787, correction:0.0001916664698599073\n",
      "419[y]  no correction: 0.0012768388671689892, correction:6.774311819980665e-05\n",
      "419[z]  no correction: 0.0025861575368532363, correction:6.204997410156303e-05\n",
      "419[Vx]  no correction: 0.002047705105872971, correction:0.00011451904361711583\n",
      "419[Vy]  no correction: 0.0015790383544969744, correction:6.938624303140467e-05\n",
      "419[Vz]  no correction: 0.002845481292012151, correction:5.6665278114236556e-05\n"
     ]
    },
    {
     "name": "stderr",
     "output_type": "stream",
     "text": [
      "\r",
      " 69%|███████████████████████████████████████████████████▎                      | 208/300 [15:22:28<5:16:45, 206.58s/it]"
     ]
    },
    {
     "name": "stdout",
     "output_type": "stream",
     "text": [
      "422[x]  no correction: 0.003969105089895592, correction:0.0003562683486817968\n",
      "422[y]  no correction: 0.010578207912719505, correction:0.0039002633380872506\n",
      "422[z]  no correction: 0.0028510143218223546, correction:0.0008774483608485146\n",
      "422[Vx]  no correction: 0.04861737206431168, correction:0.04084994119601184\n",
      "422[Vy]  no correction: 0.007201558550171119, correction:0.0005362581227407973\n",
      "422[Vz]  no correction: 0.0032590447806191843, correction:0.00045865929418644684\n"
     ]
    },
    {
     "name": "stderr",
     "output_type": "stream",
     "text": [
      "\r",
      " 70%|███████████████████████████████████████████████████▌                      | 209/300 [15:24:50<4:44:10, 187.37s/it]"
     ]
    },
    {
     "name": "stdout",
     "output_type": "stream",
     "text": [
      "423[x]  no correction: 0.0027065332110775497, correction:0.00014832665890552533\n",
      "423[y]  no correction: 0.028169987101364372, correction:0.004239405100933482\n",
      "423[z]  no correction: 0.0005716045227330661, correction:0.00011847374481671503\n",
      "423[Vx]  no correction: 0.0020046275930798406, correction:0.0003954433970649601\n",
      "423[Vy]  no correction: 0.0003939182793075569, correction:0.00021746076675236605\n",
      "423[Vz]  no correction: 0.0009442182677968413, correction:9.947197582268042e-05\n"
     ]
    },
    {
     "name": "stderr",
     "output_type": "stream",
     "text": [
      "\r",
      " 70%|███████████████████████████████████████████████████▊                      | 210/300 [15:30:31<5:50:02, 233.36s/it]"
     ]
    },
    {
     "name": "stdout",
     "output_type": "stream",
     "text": [
      "424[x]  no correction: 0.004504806613400741, correction:0.0005165387127507228\n",
      "424[y]  no correction: 0.004985983686766407, correction:0.0009250823104578807\n",
      "424[z]  no correction: 0.004683112730288018, correction:0.0007308082914640201\n",
      "424[Vx]  no correction: 0.002505399191093011, correction:0.001253132913079083\n",
      "424[Vy]  no correction: 0.0051718806748191765, correction:0.0013883867575884366\n",
      "424[Vz]  no correction: 0.009456637935078881, correction:0.007930777617278123\n"
     ]
    },
    {
     "name": "stderr",
     "output_type": "stream",
     "text": [
      "\r",
      " 70%|████████████████████████████████████████████████████                      | 211/300 [15:31:57<4:40:31, 189.12s/it]"
     ]
    },
    {
     "name": "stdout",
     "output_type": "stream",
     "text": [
      "426[x]  no correction: 0.015723826441294934, correction:0.0034809225634807443\n",
      "426[y]  no correction: 0.006611984544601816, correction:0.0008188712024537074\n",
      "426[z]  no correction: 0.007823929195737175, correction:0.0007871930115558713\n",
      "426[Vx]  no correction: 0.009197299436889066, correction:0.0013519046473512934\n",
      "426[Vy]  no correction: 0.005508851194212146, correction:0.0029732982759596046\n",
      "426[Vz]  no correction: 0.0063944738409865585, correction:0.001411202936478911\n"
     ]
    },
    {
     "name": "stderr",
     "output_type": "stream",
     "text": [
      "\r",
      " 71%|████████████████████████████████████████████████████▎                     | 212/300 [15:33:36<3:57:45, 162.11s/it]"
     ]
    },
    {
     "name": "stdout",
     "output_type": "stream",
     "text": [
      "428[x]  no correction: 0.0018033660075051877, correction:0.000629018077370145\n",
      "428[y]  no correction: 0.0002843407317790026, correction:0.0005408428705383444\n",
      "428 y does not work\n",
      "428[z]  no correction: 0.0011088394229264364, correction:0.0004205554021208545\n",
      "428[Vx]  no correction: 0.0012907101984977424, correction:0.0008092271944560413\n",
      "428[Vy]  no correction: 0.0004808712589260696, correction:0.0005044133460272735\n",
      "428 Vy does not work\n",
      "428[Vz]  no correction: 0.0008513249288923294, correction:0.00047181526108298677\n"
     ]
    },
    {
     "name": "stderr",
     "output_type": "stream",
     "text": [
      "\r",
      " 71%|████████████████████████████████████████████████████▌                     | 213/300 [15:34:38<3:11:48, 132.28s/it]"
     ]
    },
    {
     "name": "stdout",
     "output_type": "stream",
     "text": [
      "435[x]  no correction: 0.2402589616296119, correction:0.1026840999137583\n",
      "435[y]  no correction: 0.11456278933352969, correction:0.051294447890371526\n",
      "435[z]  no correction: 0.23523150565182238, correction:0.11477968753680738\n",
      "435[Vx]  no correction: 0.20705383278272005, correction:0.1363914736742413\n",
      "435[Vy]  no correction: 0.12748906488260042, correction:0.12458383689814465\n",
      "435[Vz]  no correction: 0.2313863032806416, correction:0.11603057827966964\n"
     ]
    },
    {
     "name": "stderr",
     "output_type": "stream",
     "text": [
      "\r",
      " 71%|████████████████████████████████████████████████████▊                     | 214/300 [15:35:22<2:31:26, 105.66s/it]"
     ]
    },
    {
     "name": "stdout",
     "output_type": "stream",
     "text": [
      "436[x]  no correction: 0.0007685028657417192, correction:0.00021823525138795424\n",
      "436[y]  no correction: 0.0014918496893413277, correction:7.516169839323512e-05\n",
      "436[z]  no correction: 0.0017428034908710443, correction:0.00014778447985740742\n",
      "436[Vx]  no correction: 0.001347205348475824, correction:9.614514178502809e-05\n",
      "436[Vy]  no correction: 0.004397278345752555, correction:0.0003309369790389866\n",
      "436[Vz]  no correction: 0.001209659906601604, correction:6.45233153889056e-05\n"
     ]
    },
    {
     "name": "stderr",
     "output_type": "stream",
     "text": [
      "\r",
      " 72%|█████████████████████████████████████████████████████                     | 215/300 [15:38:24<3:01:59, 128.47s/it]"
     ]
    },
    {
     "name": "stdout",
     "output_type": "stream",
     "text": [
      "437[x]  no correction: 0.006098676497318098, correction:0.00018644527308799065\n",
      "437[y]  no correction: 0.012280545682444924, correction:0.00034279488427887473\n",
      "437[z]  no correction: 0.030779311137437215, correction:0.0006347031341975729\n",
      "437[Vx]  no correction: 0.014405528521111688, correction:0.00019730990398327545\n",
      "437[Vy]  no correction: 0.011557114359047094, correction:0.00014359867421763738\n",
      "437[Vz]  no correction: 0.01823672068729205, correction:0.0005855389408352999\n"
     ]
    },
    {
     "name": "stderr",
     "output_type": "stream",
     "text": [
      "\r",
      " 72%|█████████████████████████████████████████████████████▎                    | 216/300 [15:43:44<4:20:21, 185.97s/it]"
     ]
    },
    {
     "name": "stdout",
     "output_type": "stream",
     "text": [
      "438[x]  no correction: 0.1373081566124866, correction:0.013234422501287584\n",
      "438[y]  no correction: 0.19650981027071357, correction:0.7379645435775685\n",
      "438 y does not work\n",
      "438[z]  no correction: 0.37360039873858397, correction:0.12734614851526577\n",
      "438[Vx]  no correction: 0.20241312443974016, correction:0.02896849194808232\n",
      "438[Vy]  no correction: 0.20022539180479906, correction:0.2615442759212483\n",
      "438 Vy does not work\n",
      "438[Vz]  no correction: 0.30159034908347004, correction:0.2662054892778912\n"
     ]
    },
    {
     "name": "stderr",
     "output_type": "stream",
     "text": [
      "\r",
      " 72%|█████████████████████████████████████████████████████▌                    | 217/300 [15:44:17<3:13:55, 140.19s/it]"
     ]
    },
    {
     "name": "stdout",
     "output_type": "stream",
     "text": [
      "440[x]  no correction: 0.044913808716071445, correction:0.00627114927626744\n",
      "440[y]  no correction: 0.030413438020312836, correction:0.00303572913180621\n",
      "440[z]  no correction: 0.015202087793817527, correction:0.002350310571656993\n",
      "440[Vx]  no correction: 0.006117040310088733, correction:0.007029071542453838\n",
      "440 Vx does not work\n",
      "440[Vy]  no correction: 0.007333926059844754, correction:0.003028116728361325\n",
      "440[Vz]  no correction: 0.007420787524992038, correction:0.002691112239157358\n"
     ]
    },
    {
     "name": "stderr",
     "output_type": "stream",
     "text": [
      "\r",
      " 73%|█████████████████████████████████████████████████████▊                    | 218/300 [15:45:28<2:43:03, 119.30s/it]"
     ]
    },
    {
     "name": "stdout",
     "output_type": "stream",
     "text": [
      "443[x]  no correction: 0.2917942342793943, correction:0.10531293051700934\n",
      "443[y]  no correction: 0.23939028069066673, correction:0.12073765161365163\n",
      "443[z]  no correction: 0.23645970697068852, correction:0.1126056281189624\n",
      "443[Vx]  no correction: 0.31864181652659196, correction:0.18423854633726855\n",
      "443[Vy]  no correction: 0.24625737295601827, correction:0.1465209859393148\n",
      "443[Vz]  no correction: 0.36236019017009746, correction:0.17582848604071238\n"
     ]
    },
    {
     "name": "stderr",
     "output_type": "stream",
     "text": [
      "\r",
      " 73%|██████████████████████████████████████████████████████▊                    | 219/300 [15:46:08<2:09:09, 95.67s/it]"
     ]
    },
    {
     "name": "stdout",
     "output_type": "stream",
     "text": [
      "446[x]  no correction: 0.003793263763932752, correction:0.0002164958494562837\n",
      "446[y]  no correction: 0.0016146328306946703, correction:0.0002115078443719896\n",
      "446[z]  no correction: 0.006195001423743548, correction:0.0005094930203331784\n",
      "446[Vx]  no correction: 0.0012621516429037036, correction:0.0006577903447211155\n",
      "446[Vy]  no correction: 0.0016449615859837885, correction:0.00013799461592719548\n",
      "446[Vz]  no correction: 0.005549723517069859, correction:0.0018143715222505468\n"
     ]
    },
    {
     "name": "stderr",
     "output_type": "stream",
     "text": [
      "\r",
      " 73%|██████████████████████████████████████████████████████▎                   | 220/300 [15:48:16<2:20:14, 105.18s/it]"
     ]
    },
    {
     "name": "stdout",
     "output_type": "stream",
     "text": [
      "448[x]  no correction: 0.22754025542424605, correction:0.09001330760206215\n",
      "448[y]  no correction: 0.042603790926331105, correction:0.02452684598167476\n",
      "448[z]  no correction: 0.18970279387186026, correction:0.05853420005537164\n",
      "448[Vx]  no correction: 0.17142857681338078, correction:0.12489172299504582\n",
      "448[Vy]  no correction: 0.05799791149703753, correction:0.07375977923962274\n",
      "448 Vy does not work\n",
      "448[Vz]  no correction: 0.19374854685769644, correction:0.08349153104563918\n"
     ]
    },
    {
     "name": "stderr",
     "output_type": "stream",
     "text": [
      "\r",
      " 74%|███████████████████████████████████████████████████████▎                   | 221/300 [15:48:44<1:48:14, 82.20s/it]"
     ]
    },
    {
     "name": "stdout",
     "output_type": "stream",
     "text": [
      "449[x]  no correction: 0.010591365075160205, correction:0.0012965478527035895\n",
      "449[y]  no correction: 0.0074057213563748035, correction:0.0017509443099754923\n",
      "449[z]  no correction: 0.008887209638371744, correction:0.0011878794007752543\n",
      "449[Vx]  no correction: 0.004485923662229983, correction:0.0009021732740710306\n",
      "449[Vy]  no correction: 0.003174131989400254, correction:0.0010917568279337315\n",
      "449[Vz]  no correction: 0.0037360513701866563, correction:0.000894173159100186\n"
     ]
    },
    {
     "name": "stderr",
     "output_type": "stream",
     "text": [
      "\r",
      " 74%|██████████████████████████████████████████████████████▊                   | 222/300 [15:51:09<2:11:13, 100.94s/it]"
     ]
    },
    {
     "name": "stdout",
     "output_type": "stream",
     "text": [
      "450[x]  no correction: 0.002998363208025234, correction:8.501992908104465e-05\n",
      "450[y]  no correction: 0.0013754157692281372, correction:0.00010151076869979674\n",
      "450[z]  no correction: 0.0038540241815680477, correction:8.448828275222968e-05\n",
      "450[Vx]  no correction: 0.003383295142013168, correction:7.453898150402871e-05\n",
      "450[Vy]  no correction: 0.0022588586997439636, correction:0.00018743164569536304\n",
      "450[Vz]  no correction: 0.003924570234754875, correction:0.0001795274532361792\n"
     ]
    },
    {
     "name": "stderr",
     "output_type": "stream",
     "text": [
      "\r",
      " 74%|███████████████████████████████████████████████████████                   | 223/300 [16:02:11<5:45:34, 269.28s/it]"
     ]
    },
    {
     "name": "stdout",
     "output_type": "stream",
     "text": [
      "452[x]  no correction: 0.21649457832455818, correction:0.08352672400426289\n",
      "452[y]  no correction: 0.14092102243310342, correction:0.041747969298505834\n",
      "452[z]  no correction: 0.12193509503270325, correction:0.1422201445798303\n",
      "452 z does not work\n",
      "452[Vx]  no correction: 0.21648594649864922, correction:0.16841788852231837\n",
      "452[Vy]  no correction: 0.14509217363307256, correction:0.02186318980103721\n",
      "452[Vz]  no correction: 0.12938940171777705, correction:0.09311691444898332\n"
     ]
    },
    {
     "name": "stderr",
     "output_type": "stream",
     "text": [
      "\r",
      " 75%|███████████████████████████████████████████████████████▎                  | 224/300 [16:03:51<4:36:44, 218.48s/it]"
     ]
    },
    {
     "name": "stdout",
     "output_type": "stream",
     "text": [
      "454[x]  no correction: 0.02306185987649367, correction:0.05847366382941128\n",
      "454 x does not work\n",
      "454[y]  no correction: 0.02627892422339524, correction:0.020706710010519106\n",
      "454[z]  no correction: 0.03761271254456956, correction:0.021930936504592508\n",
      "454[Vx]  no correction: 0.026360409376726165, correction:0.042026690244924\n",
      "454 Vx does not work\n",
      "454[Vy]  no correction: 0.08467882443460908, correction:0.12331109214330177\n",
      "454 Vy does not work\n",
      "454[Vz]  no correction: 0.4795469620610731, correction:0.8160968570786248\n",
      "454 Vz does not work\n"
     ]
    },
    {
     "name": "stderr",
     "output_type": "stream",
     "text": [
      "\r",
      " 75%|███████████████████████████████████████████████████████▌                  | 225/300 [16:04:30<3:25:42, 164.57s/it]"
     ]
    },
    {
     "name": "stdout",
     "output_type": "stream",
     "text": [
      "455[x]  no correction: 0.007596066431514357, correction:0.0008019456488857766\n",
      "455[y]  no correction: 0.015204896411706532, correction:0.0017440969859177063\n",
      "455[z]  no correction: 0.15883275373482048, correction:0.09700496569915114\n",
      "455[Vx]  no correction: 0.011996747707399637, correction:0.0013698665613377159\n",
      "455[Vy]  no correction: 0.006586883083535773, correction:0.00047589348382815497\n",
      "455[Vz]  no correction: 0.09903903436879252, correction:0.03254316945087027\n"
     ]
    },
    {
     "name": "stderr",
     "output_type": "stream",
     "text": [
      "\r",
      " 75%|███████████████████████████████████████████████████████▋                  | 226/300 [16:05:57<2:54:17, 141.32s/it]"
     ]
    },
    {
     "name": "stdout",
     "output_type": "stream",
     "text": [
      "456[x]  no correction: 0.30007948755949293, correction:0.008507443326279299\n",
      "456[y]  no correction: 0.168803292650611, correction:0.13708189067110646\n",
      "456[z]  no correction: 0.3044856114390721, correction:0.055867765989116185\n",
      "456[Vx]  no correction: 0.26161014780376635, correction:0.18216853352938372\n",
      "456[Vy]  no correction: 0.17084570669166488, correction:0.14447524674518622\n",
      "456[Vz]  no correction: 0.26130398503336977, correction:0.17660500659273626\n"
     ]
    },
    {
     "name": "stderr",
     "output_type": "stream",
     "text": [
      "\r",
      " 76%|███████████████████████████████████████████████████████▉                  | 227/300 [16:07:34<2:35:50, 128.09s/it]"
     ]
    },
    {
     "name": "stdout",
     "output_type": "stream",
     "text": [
      "457[x]  no correction: 0.018010908206868088, correction:0.007890880091230224\n",
      "457[y]  no correction: 0.002982796452932487, correction:0.0050782692961750435\n",
      "457 y does not work\n",
      "457[z]  no correction: 0.0258976298535684, correction:0.03794593140430507\n",
      "457 z does not work\n",
      "457[Vx]  no correction: 0.04069695434704247, correction:0.03177411101778077\n",
      "457[Vy]  no correction: 0.0026382414246110012, correction:0.005244749616083963\n",
      "457 Vy does not work\n",
      "457[Vz]  no correction: 0.5549022828509355, correction:0.8527413290393583\n",
      "457 Vz does not work\n"
     ]
    },
    {
     "name": "stderr",
     "output_type": "stream",
     "text": [
      "\r",
      " 76%|████████████████████████████████████████████████████████▏                 | 228/300 [16:08:18<2:03:22, 102.81s/it]"
     ]
    },
    {
     "name": "stdout",
     "output_type": "stream",
     "text": [
      "460[x]  no correction: 0.27394934017157696, correction:0.07189623335592231\n",
      "460[y]  no correction: 0.17869251416434764, correction:0.005584759175343692\n",
      "460[z]  no correction: 0.3158352656111033, correction:0.12550980226400285\n",
      "460[Vx]  no correction: 0.2873609902709596, correction:0.07766748778256842\n",
      "460[Vy]  no correction: 0.14096139545265002, correction:0.06022925084525779\n",
      "460[Vz]  no correction: 0.2533683283939171, correction:0.22088412606137173\n"
     ]
    },
    {
     "name": "stderr",
     "output_type": "stream",
     "text": [
      "\r",
      " 76%|████████████████████████████████████████████████████████▍                 | 229/300 [16:11:29<2:32:53, 129.21s/it]"
     ]
    },
    {
     "name": "stdout",
     "output_type": "stream",
     "text": [
      "462[x]  no correction: 0.0008192935822235382, correction:3.090624047723055e-05\n",
      "462[y]  no correction: 0.008339351036904566, correction:0.00014400661055834267\n",
      "462[z]  no correction: 0.0017511664988793573, correction:4.1998629430012594e-05\n",
      "462[Vx]  no correction: 0.0013308367998603441, correction:7.57625391583449e-05\n",
      "462[Vy]  no correction: 0.0006580097115464798, correction:5.561816691870088e-05\n",
      "462[Vz]  no correction: 0.002941177386916844, correction:0.00011373203959433733\n"
     ]
    },
    {
     "name": "stderr",
     "output_type": "stream",
     "text": [
      "\r",
      " 77%|████████████████████████████████████████████████████████▋                 | 230/300 [16:19:18<4:29:57, 231.39s/it]"
     ]
    },
    {
     "name": "stdout",
     "output_type": "stream",
     "text": [
      "464[x]  no correction: 0.05288416424374922, correction:0.0028764019603196903\n",
      "464[y]  no correction: 0.0685258472769348, correction:0.0659493669183855\n",
      "464[z]  no correction: 0.07022522126597121, correction:0.020373476290204875\n",
      "464[Vx]  no correction: 0.12580378669986161, correction:0.012227699867341959\n",
      "464[Vy]  no correction: 0.04433879017077258, correction:0.008152729044123386\n",
      "464[Vz]  no correction: 0.038689130053510185, correction:0.08480463192368899\n",
      "464 Vz does not work\n"
     ]
    },
    {
     "name": "stderr",
     "output_type": "stream",
     "text": [
      "\r",
      " 77%|████████████████████████████████████████████████████████▉                 | 231/300 [16:24:00<4:43:16, 246.32s/it]"
     ]
    },
    {
     "name": "stdout",
     "output_type": "stream",
     "text": [
      "465[x]  no correction: 0.0020682579835995295, correction:0.00011893898067972366\n",
      "465[y]  no correction: 0.0015943684924260237, correction:9.043655111870133e-05\n",
      "465[z]  no correction: 0.0059475421254353575, correction:0.00025851282678126527\n",
      "465[Vx]  no correction: 0.0013155413189943092, correction:8.127124854232576e-05\n",
      "465[Vy]  no correction: 0.0019013503619427336, correction:8.503630071223817e-05\n",
      "465[Vz]  no correction: 0.01299932768776366, correction:0.00023679439460043894\n"
     ]
    },
    {
     "name": "stderr",
     "output_type": "stream",
     "text": [
      "\r",
      " 77%|█████████████████████████████████████████████████████████▏                | 232/300 [16:30:34<5:29:40, 290.90s/it]"
     ]
    },
    {
     "name": "stdout",
     "output_type": "stream",
     "text": [
      "466[x]  no correction: 0.034898328003081326, correction:0.01659307630770531\n",
      "466[y]  no correction: 0.1851883898549075, correction:0.050734814679187897\n",
      "466[z]  no correction: 0.04129102681004324, correction:0.07229267741597259\n",
      "466 z does not work\n",
      "466[Vx]  no correction: 0.5512903444676452, correction:0.7337810754520824\n",
      "466 Vx does not work\n",
      "466[Vy]  no correction: 0.1556680231150525, correction:0.2442100114067278\n",
      "466 Vy does not work\n",
      "466[Vz]  no correction: 0.5650064931761988, correction:0.7021497314331563\n",
      "466 Vz does not work\n"
     ]
    },
    {
     "name": "stderr",
     "output_type": "stream",
     "text": [
      "\r",
      " 78%|█████████████████████████████████████████████████████████▍                | 233/300 [16:31:11<3:59:44, 214.69s/it]"
     ]
    },
    {
     "name": "stdout",
     "output_type": "stream",
     "text": [
      "467[x]  no correction: 0.09170202303228216, correction:0.012371465567343688\n",
      "467[y]  no correction: 0.025540548895841564, correction:0.012097481907615486\n",
      "467[z]  no correction: 0.020512728165113743, correction:0.0069458695501962995\n",
      "467[Vx]  no correction: 0.04550000987316953, correction:0.004120506419868139\n",
      "467[Vy]  no correction: 0.06730903769201535, correction:0.02959441933743844\n",
      "467[Vz]  no correction: 0.4847037979249101, correction:0.35497995090448736\n"
     ]
    },
    {
     "name": "stderr",
     "output_type": "stream",
     "text": [
      "\r",
      " 78%|█████████████████████████████████████████████████████████▋                | 234/300 [16:31:59<3:01:03, 164.60s/it]"
     ]
    },
    {
     "name": "stdout",
     "output_type": "stream",
     "text": [
      "468[x]  no correction: 0.0011240496245973558, correction:0.00011607478575786315\n",
      "468[y]  no correction: 0.0011804267163730874, correction:8.424817563774275e-05\n",
      "468[z]  no correction: 0.0033938859446180918, correction:0.0005582066417503186\n",
      "468[Vx]  no correction: 0.001254995295192048, correction:0.00035192263009112593\n",
      "468[Vy]  no correction: 0.0016897533777491362, correction:0.00014265248467615574\n",
      "468[Vz]  no correction: 0.0034575445992560436, correction:0.0007015550925077702\n"
     ]
    },
    {
     "name": "stderr",
     "output_type": "stream",
     "text": [
      "\r",
      " 78%|█████████████████████████████████████████████████████████▉                | 235/300 [16:35:51<3:20:05, 184.70s/it]"
     ]
    },
    {
     "name": "stdout",
     "output_type": "stream",
     "text": [
      "470[x]  no correction: 0.13665207376379998, correction:0.10403202134704286\n",
      "470[y]  no correction: 0.11443181594708061, correction:0.11845990434176205\n",
      "470 y does not work\n",
      "470[z]  no correction: 0.11792577859702325, correction:0.07555275433610499\n",
      "470[Vx]  no correction: 0.15363028675898066, correction:0.07031333190474016\n",
      "470[Vy]  no correction: 0.15222300154944485, correction:0.0780168609127408\n",
      "470[Vz]  no correction: 0.12955161849212246, correction:0.08117009325998928\n"
     ]
    },
    {
     "name": "stderr",
     "output_type": "stream",
     "text": [
      "\r",
      " 79%|██████████████████████████████████████████████████████████▏               | 236/300 [16:37:50<2:56:05, 165.09s/it]"
     ]
    },
    {
     "name": "stdout",
     "output_type": "stream",
     "text": [
      "471[x]  no correction: 0.35903316136624225, correction:0.16188951944625862\n",
      "471[y]  no correction: 0.2737719928759346, correction:0.186641162177944\n",
      "471[z]  no correction: 0.3521060984397046, correction:0.15248958302213458\n",
      "471[Vx]  no correction: 0.3254884105082518, correction:0.2822927699554885\n",
      "471[Vy]  no correction: 0.2782105019616716, correction:0.18730457271076037\n",
      "471[Vz]  no correction: 0.3256177934861786, correction:0.1996822755493433\n"
     ]
    },
    {
     "name": "stderr",
     "output_type": "stream",
     "text": [
      "\r",
      " 79%|██████████████████████████████████████████████████████████▍               | 237/300 [16:38:27<2:12:59, 126.66s/it]"
     ]
    },
    {
     "name": "stdout",
     "output_type": "stream",
     "text": [
      "473[x]  no correction: 0.42089521582718664, correction:0.29421771345713327\n",
      "473[y]  no correction: 0.4479868103792845, correction:0.26516225144258454\n",
      "473[z]  no correction: 0.403523964432627, correction:0.2875882312177558\n",
      "473[Vx]  no correction: 0.48766690632756843, correction:0.27701417593844707\n",
      "473[Vy]  no correction: 0.4007779591691519, correction:0.300790052012418\n",
      "473[Vz]  no correction: 0.5107037136786515, correction:0.2636529532777499\n"
     ]
    },
    {
     "name": "stderr",
     "output_type": "stream",
     "text": [
      "\r",
      " 79%|██████████████████████████████████████████████████████████▋               | 238/300 [16:39:48<1:56:40, 112.91s/it]"
     ]
    },
    {
     "name": "stdout",
     "output_type": "stream",
     "text": [
      "474[x]  no correction: 0.09400587793845676, correction:0.017312399428627116\n",
      "474[y]  no correction: 0.06251775696453632, correction:0.04445061585605713\n",
      "474[z]  no correction: 0.04307156027876507, correction:0.023749540302682653\n",
      "474[Vx]  no correction: 0.07560451240783601, correction:0.04900519696110572\n",
      "474[Vy]  no correction: 0.052956505782719036, correction:0.04541071233807329\n",
      "474[Vz]  no correction: 0.055075762961793735, correction:0.045311801469008366\n"
     ]
    },
    {
     "name": "stderr",
     "output_type": "stream",
     "text": [
      "\r",
      " 80%|██████████████████████████████████████████████████████████▉               | 239/300 [16:41:03<1:43:20, 101.66s/it]"
     ]
    },
    {
     "name": "stdout",
     "output_type": "stream",
     "text": [
      "475[x]  no correction: 0.00594445259813242, correction:0.0026864445858519872\n",
      "475[y]  no correction: 0.05632819667594663, correction:0.005599891505776301\n",
      "475[z]  no correction: 0.00928434287055344, correction:0.006721292916911979\n",
      "475[Vx]  no correction: 0.010356860388011202, correction:0.004089290305873474\n",
      "475[Vy]  no correction: 0.010136508578865956, correction:0.007950561158797966\n",
      "475[Vz]  no correction: 0.014220606837627027, correction:0.010476283012695127\n"
     ]
    },
    {
     "name": "stderr",
     "output_type": "stream",
     "text": [
      "\r",
      " 80%|████████████████████████████████████████████████████████████               | 240/300 [16:42:16<1:33:05, 93.09s/it]"
     ]
    },
    {
     "name": "stdout",
     "output_type": "stream",
     "text": [
      "476[x]  no correction: 0.019075762784178427, correction:0.0020143781365058637\n",
      "476[y]  no correction: 0.015929513375684642, correction:0.010670199076299097\n",
      "476[z]  no correction: 0.018324094116586198, correction:0.004979715430983584\n",
      "476[Vx]  no correction: 0.016257151374966007, correction:0.013182351594113234\n",
      "476[Vy]  no correction: 0.005347872064804651, correction:0.0035523476342212306\n",
      "476[Vz]  no correction: 0.0157323073384198, correction:0.011151505624895227\n"
     ]
    },
    {
     "name": "stderr",
     "output_type": "stream",
     "text": [
      "\r",
      " 80%|████████████████████████████████████████████████████████████▎              | 241/300 [16:43:42<1:29:24, 90.92s/it]"
     ]
    },
    {
     "name": "stdout",
     "output_type": "stream",
     "text": [
      "477[x]  no correction: 0.06405256754308387, correction:0.0007289448399904986\n",
      "477[y]  no correction: 0.0829195933319461, correction:0.0029201981368931307\n",
      "477[z]  no correction: 0.1171540157288079, correction:0.0007231350070360267\n",
      "477[Vx]  no correction: 0.0645144189729085, correction:0.0009026868933126667\n",
      "477[Vy]  no correction: 0.08033992174040888, correction:0.0014866787759017308\n",
      "477[Vz]  no correction: 0.11744956809430422, correction:0.0036840167866487613\n"
     ]
    },
    {
     "name": "stderr",
     "output_type": "stream",
     "text": [
      "\r",
      " 81%|███████████████████████████████████████████████████████████▋              | 242/300 [16:46:54<1:57:08, 121.19s/it]"
     ]
    },
    {
     "name": "stdout",
     "output_type": "stream",
     "text": [
      "479[x]  no correction: 0.0090887206292312, correction:0.00102746555240752\n",
      "479[y]  no correction: 0.024086760225144204, correction:0.0038982919151069753\n",
      "479[z]  no correction: 0.018843535323281795, correction:0.0022654469169679906\n",
      "479[Vx]  no correction: 0.011662961761500744, correction:0.004027204157076215\n",
      "479[Vy]  no correction: 0.007409357452216396, correction:0.0009723505958731763\n",
      "479[Vz]  no correction: 0.017940049778772654, correction:0.0008702032613329257\n"
     ]
    },
    {
     "name": "stderr",
     "output_type": "stream",
     "text": [
      "\r",
      " 81%|███████████████████████████████████████████████████████████▉              | 243/300 [16:51:20<2:36:15, 164.49s/it]"
     ]
    },
    {
     "name": "stdout",
     "output_type": "stream",
     "text": [
      "480[x]  no correction: 0.006919277211947547, correction:0.0023355858429728667\n",
      "480[y]  no correction: 0.003618175038882608, correction:0.00028348926356524807\n",
      "480[z]  no correction: 0.006417250374908709, correction:0.0006943992273915943\n",
      "480[Vx]  no correction: 0.0030167177650508876, correction:0.0005534669437918769\n",
      "480[Vy]  no correction: 0.002483988349208987, correction:0.0015498319998581663\n",
      "480[Vz]  no correction: 0.006063111762345263, correction:0.001887426205554734\n"
     ]
    },
    {
     "name": "stderr",
     "output_type": "stream",
     "text": [
      "\r",
      " 81%|████████████████████████████████████████████████████████████▏             | 244/300 [16:52:41<2:10:23, 139.70s/it]"
     ]
    },
    {
     "name": "stdout",
     "output_type": "stream",
     "text": [
      "481[x]  no correction: 0.5886882859290382, correction:0.5518262426999401\n",
      "481[y]  no correction: 0.4529974458450178, correction:0.3105032341234368\n",
      "481[z]  no correction: 0.9135627351997707, correction:0.7738933531822582\n",
      "481[Vx]  no correction: 0.5883782877359913, correction:0.5950226091827578\n",
      "481 Vx does not work\n",
      "481[Vy]  no correction: 0.634617486909573, correction:0.7530789689099735\n",
      "481 Vy does not work\n",
      "481[Vz]  no correction: 0.8657773832345916, correction:0.7521331197803423\n"
     ]
    },
    {
     "name": "stderr",
     "output_type": "stream",
     "text": [
      "\r",
      " 82%|████████████████████████████████████████████████████████████▍             | 245/300 [16:53:05<1:36:05, 104.83s/it]"
     ]
    },
    {
     "name": "stdout",
     "output_type": "stream",
     "text": [
      "482[x]  no correction: 0.009026813997360005, correction:0.00806125304822036\n",
      "482[y]  no correction: 0.02223903261414772, correction:0.00813945634766676\n",
      "482[z]  no correction: 0.004333938103441444, correction:0.004246879198616291\n",
      "482[Vx]  no correction: 0.698342044187864, correction:0.8628144528176838\n",
      "482 Vx does not work\n",
      "482[Vy]  no correction: 0.030253251075555158, correction:0.02383782886119625\n",
      "482[Vz]  no correction: 0.018488438439443686, correction:0.005985613309041823\n"
     ]
    },
    {
     "name": "stderr",
     "output_type": "stream",
     "text": [
      "\r",
      " 82%|█████████████████████████████████████████████████████████████▍             | 246/300 [16:54:03<1:21:51, 90.96s/it]"
     ]
    },
    {
     "name": "stdout",
     "output_type": "stream",
     "text": [
      "483[x]  no correction: 0.011798313376916622, correction:0.00336495796659353\n",
      "483[y]  no correction: 0.009165108511566043, correction:0.001770622736217058\n",
      "483[z]  no correction: 0.009822082560917655, correction:0.001709904148369165\n",
      "483[Vx]  no correction: 0.06253773273116658, correction:0.01196592703246224\n",
      "483[Vy]  no correction: 0.007426098283598929, correction:0.0017570865416742588\n",
      "483[Vz]  no correction: 0.0073995483638384, correction:0.00354159991832228\n"
     ]
    },
    {
     "name": "stderr",
     "output_type": "stream",
     "text": [
      "\r",
      " 82%|█████████████████████████████████████████████████████████████▊             | 247/300 [16:55:13<1:14:47, 84.67s/it]"
     ]
    },
    {
     "name": "stdout",
     "output_type": "stream",
     "text": [
      "486[x]  no correction: 0.17003145973805286, correction:0.08595586518773088\n",
      "486[y]  no correction: 0.12804273941354957, correction:0.035022537354291006\n",
      "486[z]  no correction: 0.12512769713802877, correction:0.03862329523439535\n",
      "486[Vx]  no correction: 0.1893264029777076, correction:0.0742772319939211\n",
      "486[Vy]  no correction: 0.12207303573403289, correction:0.060692659459652146\n",
      "486[Vz]  no correction: 0.09698238338916178, correction:0.06385520535409141\n"
     ]
    },
    {
     "name": "stderr",
     "output_type": "stream",
     "text": [
      "\r",
      " 83%|██████████████████████████████████████████████████████████████             | 248/300 [16:56:28<1:10:38, 81.51s/it]"
     ]
    },
    {
     "name": "stdout",
     "output_type": "stream",
     "text": [
      "488[x]  no correction: 0.01742001182394662, correction:3.138286146325642e-05\n",
      "488[y]  no correction: 0.035039867011845124, correction:0.00033940303274722345\n",
      "488[z]  no correction: 0.059498413851467244, correction:0.00017367610564757643\n",
      "488[Vx]  no correction: 0.02071154546743096, correction:0.0001615549066563696\n",
      "488[Vy]  no correction: 0.022968645306261772, correction:7.817859158440075e-05\n",
      "488[Vz]  no correction: 0.035290850185835616, correction:9.287887130702742e-05\n"
     ]
    },
    {
     "name": "stderr",
     "output_type": "stream",
     "text": [
      "\r",
      " 83%|█████████████████████████████████████████████████████████████▍            | 249/300 [17:04:26<2:50:28, 200.56s/it]"
     ]
    },
    {
     "name": "stdout",
     "output_type": "stream",
     "text": [
      "489[x]  no correction: 0.007352241550957625, correction:0.0015127485614332878\n",
      "489[y]  no correction: 0.030399265501207366, correction:0.016152118760108303\n",
      "489[z]  no correction: 0.016465194467826717, correction:0.007669689723924431\n",
      "489[Vx]  no correction: 0.014862552048764278, correction:0.0256685131917935\n",
      "489 Vx does not work\n",
      "489[Vy]  no correction: 0.004417839696716156, correction:0.008592653806365869\n",
      "489 Vy does not work\n",
      "489[Vz]  no correction: 0.0028882967914035736, correction:0.004811636283199777\n",
      "489 Vz does not work\n"
     ]
    },
    {
     "name": "stderr",
     "output_type": "stream",
     "text": [
      "\r",
      " 83%|█████████████████████████████████████████████████████████████▋            | 250/300 [17:06:08<2:22:31, 171.03s/it]"
     ]
    },
    {
     "name": "stdout",
     "output_type": "stream",
     "text": [
      "491[x]  no correction: 0.007156306099061379, correction:0.005573625177878036\n",
      "491[y]  no correction: 0.0015619311310667188, correction:0.0009498903165139612\n",
      "491[z]  no correction: 0.003913068609894794, correction:0.0014019922040931635\n",
      "491[Vx]  no correction: 0.009636167163472792, correction:0.0069531056024075\n",
      "491[Vy]  no correction: 0.001583729737304588, correction:0.0011149717717245844\n",
      "491[Vz]  no correction: 0.00990931003603327, correction:0.002373561394607401\n"
     ]
    },
    {
     "name": "stderr",
     "output_type": "stream",
     "text": [
      "\r",
      " 84%|█████████████████████████████████████████████████████████████▉            | 251/300 [17:07:35<1:58:59, 145.69s/it]"
     ]
    },
    {
     "name": "stdout",
     "output_type": "stream",
     "text": [
      "495[x]  no correction: 0.004293566156683503, correction:4.319889402333987e-05\n",
      "495[y]  no correction: 0.006320876066120568, correction:0.000715752950767092\n",
      "495[z]  no correction: 0.007748754138109779, correction:0.005043194937220501\n",
      "495[Vx]  no correction: 0.006769728664577451, correction:0.003317489306312233\n",
      "495[Vy]  no correction: 0.005608929419676996, correction:0.0005501468002750342\n",
      "495[Vz]  no correction: 0.0060423125268533944, correction:0.00018267166745071145\n"
     ]
    },
    {
     "name": "stderr",
     "output_type": "stream",
     "text": [
      "\r",
      " 84%|██████████████████████████████████████████████████████████████▏           | 252/300 [17:11:16<2:14:40, 168.34s/it]"
     ]
    },
    {
     "name": "stdout",
     "output_type": "stream",
     "text": [
      "498[x]  no correction: 0.004684874141030146, correction:0.014347877385721861\n",
      "498 x does not work\n",
      "498[y]  no correction: 0.03002966099837686, correction:0.011031556010905547\n",
      "498[z]  no correction: 0.008671661543622347, correction:0.007761403352531143\n",
      "498[Vx]  no correction: 0.006669115203105149, correction:0.012789160068225105\n",
      "498 Vx does not work\n",
      "498[Vy]  no correction: 0.02371722561862136, correction:0.039513062634083065\n",
      "498 Vy does not work\n",
      "498[Vz]  no correction: 0.5854907871998314, correction:0.831353011725966\n",
      "498 Vz does not work\n"
     ]
    },
    {
     "name": "stderr",
     "output_type": "stream",
     "text": [
      "\r",
      " 84%|██████████████████████████████████████████████████████████████▍           | 253/300 [17:12:02<1:43:16, 131.84s/it]"
     ]
    },
    {
     "name": "stdout",
     "output_type": "stream",
     "text": [
      "499[x]  no correction: 0.05456516591317939, correction:0.0003305662613053224\n",
      "499[y]  no correction: 0.01309936345965851, correction:0.0006242119890106874\n",
      "499[z]  no correction: 0.024268239143585925, correction:0.0004810305115454907\n",
      "499[Vx]  no correction: 0.015252308798658692, correction:0.010193305355309242\n",
      "499[Vy]  no correction: 0.023549027265966735, correction:0.001226702506469833\n",
      "499[Vz]  no correction: 0.025323636656671023, correction:0.0011473567036241832\n"
     ]
    },
    {
     "name": "stderr",
     "output_type": "stream",
     "text": [
      "\r",
      " 85%|██████████████████████████████████████████████████████████████▋           | 254/300 [17:14:48<1:48:52, 142.00s/it]"
     ]
    },
    {
     "name": "stdout",
     "output_type": "stream",
     "text": [
      "502[x]  no correction: 0.3496252273978325, correction:0.10299373141057441\n",
      "502[y]  no correction: 0.272229460102733, correction:0.10950584494970211\n",
      "502[z]  no correction: 0.3147455047485605, correction:0.15181695010708912\n",
      "502[Vx]  no correction: 0.3340995987366915, correction:0.2997674832390601\n",
      "502[Vy]  no correction: 0.23236085359645653, correction:0.17136825941915626\n",
      "502[Vz]  no correction: 0.2909393158389664, correction:0.20033673247440995\n"
     ]
    },
    {
     "name": "stderr",
     "output_type": "stream",
     "text": [
      "\r",
      " 85%|██████████████████████████████████████████████████████████████▉           | 255/300 [17:15:27<1:23:12, 110.93s/it]"
     ]
    },
    {
     "name": "stdout",
     "output_type": "stream",
     "text": [
      "504[x]  no correction: 0.03734240578182442, correction:0.02845245222131038\n",
      "504[y]  no correction: 0.02090842230450955, correction:0.0023477965456252347\n",
      "504[z]  no correction: 0.02275793648824715, correction:0.01445306379498014\n",
      "504[Vx]  no correction: 0.042863409427121295, correction:0.08014342926240366\n",
      "504 Vx does not work\n",
      "504[Vy]  no correction: 0.0069556672243217006, correction:0.00970033711852111\n",
      "504 Vy does not work\n",
      "504[Vz]  no correction: 0.006801160218035053, correction:0.007732672319013233\n",
      "504 Vz does not work\n"
     ]
    },
    {
     "name": "stderr",
     "output_type": "stream",
     "text": [
      "\r",
      " 85%|████████████████████████████████████████████████████████████████           | 256/300 [17:16:32<1:11:19, 97.25s/it]"
     ]
    },
    {
     "name": "stdout",
     "output_type": "stream",
     "text": [
      "505[x]  no correction: 0.025789612766369957, correction:0.00015950946695667993\n",
      "505[y]  no correction: 0.016373655125478524, correction:0.00012846921211125264\n",
      "505[z]  no correction: 0.027033974162574644, correction:0.00016762088949009434\n",
      "505[Vx]  no correction: 0.052103162343490744, correction:0.0002846138003676044\n",
      "505[Vy]  no correction: 0.015080869297641625, correction:0.0003603228821719226\n",
      "505[Vz]  no correction: 0.04124131800072643, correction:0.0009364354648043374\n"
     ]
    },
    {
     "name": "stderr",
     "output_type": "stream",
     "text": [
      "\r",
      " 86%|███████████████████████████████████████████████████████████████▍          | 257/300 [17:21:28<1:52:32, 157.03s/it]"
     ]
    },
    {
     "name": "stdout",
     "output_type": "stream",
     "text": [
      "506[x]  no correction: 0.0018877744483686981, correction:0.0018939408952764944\n",
      "506 x does not work\n",
      "506[y]  no correction: 0.006117748212684956, correction:0.0021537408461769383\n",
      "506[z]  no correction: 0.002590324164781975, correction:0.0006281869279920245\n",
      "506[Vx]  no correction: 0.005089013215990166, correction:0.002080114321004542\n",
      "506[Vy]  no correction: 0.0029483815238614164, correction:0.000924794437782436\n",
      "506[Vz]  no correction: 0.001424481077666845, correction:0.0012719813415117086\n"
     ]
    },
    {
     "name": "stderr",
     "output_type": "stream",
     "text": [
      "\r",
      " 86%|███████████████████████████████████████████████████████████████▋          | 258/300 [17:22:48<1:33:39, 133.79s/it]"
     ]
    },
    {
     "name": "stdout",
     "output_type": "stream",
     "text": [
      "508[x]  no correction: 0.10020091729506861, correction:0.033410626974867526\n",
      "508[y]  no correction: 0.08225175556744846, correction:0.0091876545064339\n",
      "508[z]  no correction: 0.13287902701455823, correction:0.0052291013086069515\n",
      "508[Vx]  no correction: 0.08637597642890041, correction:0.03039081200613084\n",
      "508[Vy]  no correction: 0.0832797121413323, correction:0.012057091621200064\n",
      "508[Vz]  no correction: 0.14601914082643508, correction:0.011439799817600823\n"
     ]
    },
    {
     "name": "stderr",
     "output_type": "stream",
     "text": [
      "\r",
      " 86%|███████████████████████████████████████████████████████████████▉          | 259/300 [17:24:09<1:20:30, 117.83s/it]"
     ]
    },
    {
     "name": "stdout",
     "output_type": "stream",
     "text": [
      "509[x]  no correction: 0.002996135498708478, correction:0.0002584253812690685\n",
      "509[y]  no correction: 0.009353702854447216, correction:0.0050430121914002675\n",
      "509[z]  no correction: 0.0024902586375670248, correction:0.00014650481376999032\n",
      "509[Vx]  no correction: 0.003052950733460859, correction:0.00018088407869432704\n",
      "509[Vy]  no correction: 0.0025295712867704255, correction:0.00029464226212486214\n",
      "509[Vz]  no correction: 0.002160003571742016, correction:7.429096395580736e-05\n"
     ]
    },
    {
     "name": "stderr",
     "output_type": "stream",
     "text": [
      "\r",
      " 87%|████████████████████████████████████████████████████████████████▏         | 260/300 [17:34:10<2:55:19, 262.99s/it]"
     ]
    },
    {
     "name": "stdout",
     "output_type": "stream",
     "text": [
      "510[x]  no correction: 0.16725887594400962, correction:0.07165763969793328\n",
      "510[y]  no correction: 0.24755724454111872, correction:0.0034168898620505306\n",
      "510[z]  no correction: 0.2907973311858856, correction:0.06346623058411027\n",
      "510[Vx]  no correction: 0.171737968104362, correction:0.09159451800746142\n",
      "510[Vy]  no correction: 0.20046065700294308, correction:0.14993768052446307\n",
      "510[Vz]  no correction: 0.2708485224547194, correction:0.20410833856934915\n"
     ]
    },
    {
     "name": "stderr",
     "output_type": "stream",
     "text": [
      "\r",
      " 87%|████████████████████████████████████████████████████████████████▍         | 261/300 [17:35:32<2:15:40, 208.73s/it]"
     ]
    },
    {
     "name": "stdout",
     "output_type": "stream",
     "text": [
      "511[x]  no correction: 0.1333285254109401, correction:0.03579919728905183\n",
      "511[y]  no correction: 0.2864528577544799, correction:0.17852407183244812\n",
      "511[z]  no correction: 0.15354328510130164, correction:0.08361192495538863\n",
      "511[Vx]  no correction: 0.14801148007298373, correction:0.06075804252979402\n",
      "511[Vy]  no correction: 0.2725384952813169, correction:0.2045321104681418\n",
      "511[Vz]  no correction: 0.18676483713729372, correction:0.0888021442330625\n"
     ]
    },
    {
     "name": "stderr",
     "output_type": "stream",
     "text": [
      "\r",
      " 87%|████████████████████████████████████████████████████████████████▋         | 262/300 [17:36:40<1:45:21, 166.37s/it]"
     ]
    },
    {
     "name": "stdout",
     "output_type": "stream",
     "text": [
      "514[x]  no correction: 0.4008405226593565, correction:0.2604237585214235\n",
      "514[y]  no correction: 0.3872158420219513, correction:0.26172852759715454\n",
      "514[z]  no correction: 0.35007463084400464, correction:0.23083995697629114\n",
      "514[Vx]  no correction: 0.6597099855525308, correction:0.8892838641588402\n",
      "514 Vx does not work\n",
      "514[Vy]  no correction: 0.402353434250083, correction:0.2805040529615755\n",
      "514[Vz]  no correction: 0.3979099077896861, correction:0.341907263364391\n"
     ]
    },
    {
     "name": "stderr",
     "output_type": "stream",
     "text": [
      "\r",
      " 88%|████████████████████████████████████████████████████████████████▊         | 263/300 [17:37:36<1:22:11, 133.29s/it]"
     ]
    },
    {
     "name": "stdout",
     "output_type": "stream",
     "text": [
      "515[x]  no correction: 0.4848770548835819, correction:0.9322191069332354\n",
      "515 x does not work\n",
      "515[y]  no correction: 0.3928640426979384, correction:0.9322402818610619\n",
      "515 y does not work\n",
      "515[z]  no correction: 0.4248384574511384, correction:0.6884371562954362\n",
      "515 z does not work\n",
      "515[Vx]  no correction: 0.5688777412334418, correction:0.9483280498726223\n",
      "515 Vx does not work\n",
      "515[Vy]  no correction: 0.6155715760459155, correction:0.9640670873106203\n",
      "515 Vy does not work\n",
      "515[Vz]  no correction: 0.3689956638196717, correction:0.8500325801453094\n",
      "515 Vz does not work\n"
     ]
    },
    {
     "name": "stderr",
     "output_type": "stream",
     "text": [
      "\r",
      " 88%|███████████████████████████████████████████████████████████████▎        | 264/300 [19:24:58<20:15:29, 2025.82s/it]"
     ]
    },
    {
     "name": "stdout",
     "output_type": "stream",
     "text": [
      "516[x]  no correction: 0.2932698551115733, correction:0.003094012188787698\n",
      "516[y]  no correction: 0.30024244776085623, correction:0.1322819553537994\n",
      "516[z]  no correction: 0.1510881586452297, correction:0.001788385521242886\n",
      "516[Vx]  no correction: 0.2508482621180072, correction:0.1703666505973575\n",
      "516[Vy]  no correction: 0.2556720786221392, correction:0.0013749671049157368\n",
      "516[Vz]  no correction: 0.18517078294638692, correction:0.042435004678081534\n"
     ]
    },
    {
     "name": "stderr",
     "output_type": "stream",
     "text": [
      "\r",
      " 88%|███████████████████████████████████████████████████████████████▌        | 265/300 [19:27:04<14:09:15, 1455.86s/it]"
     ]
    },
    {
     "name": "stdout",
     "output_type": "stream",
     "text": [
      "517[x]  no correction: 0.3776406419973746, correction:0.019535700542777805\n",
      "517[y]  no correction: 0.3267896620582303, correction:0.17625012536603035\n",
      "517[z]  no correction: 0.31958685295383266, correction:0.00468708323625309\n",
      "517[Vx]  no correction: 0.3595078455307031, correction:0.019138284526876763\n",
      "517[Vy]  no correction: 0.32294626704067475, correction:0.0485851426460897\n",
      "517[Vz]  no correction: 0.3011692352015216, correction:0.2177206495111374\n"
     ]
    },
    {
     "name": "stderr",
     "output_type": "stream",
     "text": [
      "\r",
      " 89%|████████████████████████████████████████████████████████████████▋        | 266/300 [19:29:01<9:57:29, 1054.40s/it]"
     ]
    },
    {
     "name": "stdout",
     "output_type": "stream",
     "text": [
      "519[x]  no correction: 0.006709455998038328, correction:0.0009939493765846298\n",
      "519[y]  no correction: 0.003300997580843286, correction:0.0018958728923207263\n",
      "519[z]  no correction: 0.013267262415667006, correction:0.0020849717344430256\n",
      "519[Vx]  no correction: 0.012512274386741119, correction:0.01691427088931284\n",
      "519 Vx does not work\n",
      "519[Vy]  no correction: 0.003767024607415239, correction:0.0012813652733013846\n",
      "519[Vz]  no correction: 0.0056488569430655266, correction:0.001823797594337367\n"
     ]
    },
    {
     "name": "stderr",
     "output_type": "stream",
     "text": [
      "\r",
      " 89%|█████████████████████████████████████████████████████████████████▊        | 267/300 [19:30:05<6:56:21, 757.01s/it]"
     ]
    },
    {
     "name": "stdout",
     "output_type": "stream",
     "text": [
      "522[x]  no correction: 0.12769552196546136, correction:0.06087637935004979\n",
      "522[y]  no correction: 0.20766854585643565, correction:0.05438831176621626\n",
      "522[z]  no correction: 0.23997178470313663, correction:0.002336371892652934\n",
      "522[Vx]  no correction: 0.12349418717283815, correction:0.013027624870851255\n",
      "522[Vy]  no correction: 0.19361187091272708, correction:0.0038622707323452904\n",
      "522[Vz]  no correction: 0.23628850853297304, correction:0.18981971165972766\n"
     ]
    },
    {
     "name": "stderr",
     "output_type": "stream",
     "text": [
      "\r",
      " 89%|██████████████████████████████████████████████████████████████████        | 268/300 [19:31:58<5:00:45, 563.93s/it]"
     ]
    },
    {
     "name": "stdout",
     "output_type": "stream",
     "text": [
      "523[x]  no correction: 0.506828521768017, correction:0.48700866445337465\n",
      "523[y]  no correction: 0.5275252746434327, correction:0.4970268037175962\n",
      "523[z]  no correction: 0.5051122890471778, correction:0.46705459122821363\n",
      "523[Vx]  no correction: 0.5699025490837644, correction:0.490823723141445\n",
      "523[Vy]  no correction: 0.5265602671917049, correction:0.5106653606724251\n",
      "523[Vz]  no correction: 0.5758208360803707, correction:0.5950976391317095\n",
      "523 Vz does not work\n"
     ]
    },
    {
     "name": "stderr",
     "output_type": "stream",
     "text": [
      "\r",
      " 90%|██████████████████████████████████████████████████████████████████▎       | 269/300 [19:33:28<3:37:51, 421.66s/it]"
     ]
    },
    {
     "name": "stdout",
     "output_type": "stream",
     "text": [
      "524[x]  no correction: 0.01586825455145314, correction:0.3906643560417187\n",
      "524 x does not work\n",
      "524[y]  no correction: 0.011918289852931148, correction:0.02867115606453627\n",
      "524 y does not work\n",
      "524[z]  no correction: 0.0064824966701819454, correction:0.4543350442561822\n",
      "524 z does not work\n"
     ]
    }
   ],
   "source": [
    "fail_list = []\n",
    "satellites_list = transf_df['sat_id'].unique()\n",
    "res = pd.DataFrame([])\n",
    "for sat_id in tqdm(satellites_list):\n",
    "    \n",
    "    \n",
    "    \n",
    "    sat_data = transf_df[transf_df.sat_id == sat_id]\n",
    "    \n",
    "    n_train = 4* len(sat_data) // 10\n",
    "    n_first = len(sat_data[~pd.isna(sat_data.x)])\n",
    "\n",
    "    pred = pd.DataFrame(index = sat_data.iloc[n_first:].index)\n",
    "    pred['epoch'] = sat_data['epoch'].iloc[n_first:].values\n",
    "    pred['t'] = sat_data['t'].iloc[n_first:].values\n",
    "    pred['sat_id'] = sat_id\n",
    "\n",
    "    if sat_id in [26]:\n",
    "        for feature_name in features_list:\n",
    "            sat_data[f'{feature_name}_sim'].values\n",
    "    else:\n",
    "        try:\n",
    "\n",
    "            for feature_name in features_list:\n",
    "\n",
    "                q = InterpolatedUnivariateSpline(sat_data['t'][:n_train], sat_data[f'{feature_name}_sim'][:n_train]).roots()\n",
    "                T = (q[2]-q[0])\n",
    "\n",
    "                # create a DataFrame for prophet model()\n",
    "                ts = pd.DataFrame([])\n",
    "                ts['ds'] = pd.to_datetime(sat_data ['epoch']).values\n",
    "                ts['y'] = sat_data [feature_name].values-sat_data [f'{feature_name}_sim'].values\n",
    "\n",
    "                # define the time frame for the first forecast \n",
    "                future =ts[n_train:n_first] [['ds']]\n",
    "\n",
    "                # define the model\n",
    "                m = Prophet(changepoint_prior_scale = T/20,\n",
    "                weekly_seasonality = False,\n",
    "                yearly_seasonality = False).add_seasonality(name='grid', period = T, fourier_order=50)\n",
    "\n",
    "                #fit the model and make the forecast\n",
    "                m.fit(ts[:n_train])\n",
    "                forecast = m.predict(future)\n",
    "\n",
    "                new_values = sat_data.loc[:,f'{feature_name}_sim'].iloc[n_train:n_first].values+forecast.loc[:, 'yhat'].values\n",
    "\n",
    "                option1 = sat_data[f'{feature_name}_sim'].values\n",
    "\n",
    "\n",
    "                option2 = np.concatenate((sat_data[f'{feature_name}_sim'].values[:n_train], new_values), axis=None)\n",
    "\n",
    "\n",
    "                print('{}[{}]  no correction: {}, correction:{}'.format(sat_id,\n",
    "                                                                    feature_name,\n",
    "                                                                    utils.smape(option1[n_train:n_first],sat_data[feature_name].iloc[n_train:n_first].values),\n",
    "                                                                    utils.smape(option2[n_train:n_first],sat_data[feature_name].iloc[n_train:n_first].values)))\n",
    "\n",
    "                if utils.smape(option1[n_train:n_first],sat_data[feature_name].iloc[n_train:n_first].values) < utils.smape(option2[n_train:n_first],sat_data[feature_name].iloc[n_train:n_first].values):\n",
    "                    pred[feature_name] = option1[n_first:]\n",
    "                    print(sat_id, feature_name, 'does not work')\n",
    "                    fail_list.append((sat_id, feature_name))\n",
    "                else:\n",
    "                    # fit a new model on the whole training range\n",
    "\n",
    "                    # define the time frame for the first forecast \n",
    "                    future =ts[n_first:] [['ds']]\n",
    "\n",
    "                    # define the model\n",
    "                    m = Prophet(changepoint_prior_scale = T/20,\n",
    "                    weekly_seasonality = False,\n",
    "                    yearly_seasonality = False).add_seasonality(name='grid', period = T, fourier_order=50)\n",
    "\n",
    "                    #fit the model and make the forecast\n",
    "                    m.fit(ts[:n_first])\n",
    "                    forecast = m.predict(future)\n",
    "\n",
    "                    pred[feature_name]  = sat_data.loc[:,f'{feature_name}_sim'].iloc[n_first:].values+forecast.loc[:, 'yhat'].values\n",
    "\n",
    "\n",
    "\n",
    "\n",
    "\n",
    "        except Exception as e:\n",
    "            print(f'phophet failed for satellite {sat_id}:\\t{type(e).__name__} {e}')\n",
    "            continue\n",
    "        \n",
    "#     sat_sim_smape = utils.smape(sat_data.loc[n_train:, [f'{f}_sim' for f in features_list]].values,\n",
    "#                                 sat_data.loc[n_train:, features_list].values)\n",
    "#     sat_new_smape = utils.smape(pred.loc[n_train:, features_list].values,\n",
    "#                                 sat_data.loc[n_train:, features_list].values)\n",
    "#     result_df.append([sat_id, sat_sim_smape, sat_new_smape])\n",
    "    res = transf_df.append(pred, sort=False)"
   ]
  },
  {
   "cell_type": "code",
   "execution_count": null,
   "metadata": {
    "colab": {},
    "colab_type": "code",
    "id": "YcSViye3JE8U"
   },
   "outputs": [],
   "source": []
  }
 ],
 "metadata": {
  "accelerator": "GPU",
  "colab": {
   "name": "prophet_model_exploration-Copy1.ipynb",
   "provenance": [],
   "toc_visible": true
  },
  "kernelspec": {
   "display_name": "Python 3",
   "language": "python",
   "name": "python3"
  },
  "language_info": {
   "codemirror_mode": {
    "name": "ipython",
    "version": 3
   },
   "file_extension": ".py",
   "mimetype": "text/x-python",
   "name": "python",
   "nbconvert_exporter": "python",
   "pygments_lexer": "ipython3",
   "version": "3.7.3"
  }
 },
 "nbformat": 4,
 "nbformat_minor": 1
}
