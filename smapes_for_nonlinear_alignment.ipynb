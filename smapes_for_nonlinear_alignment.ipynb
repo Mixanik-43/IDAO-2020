{
 "cells": [
  {
   "cell_type": "code",
   "execution_count": 1,
   "metadata": {},
   "outputs": [],
   "source": [
    "import numpy as np\n",
    "import pandas as pd"
   ]
  },
  {
   "cell_type": "code",
   "execution_count": 2,
   "metadata": {},
   "outputs": [],
   "source": [
    "np.random.seed(50)\n",
    "coord_cols = ['x', 'y', 'z']\n",
    "speed_cols = ['Vx', 'Vy', 'Vz']\n",
    "state_cols = coord_cols + speed_cols\n",
    "state_cols_sim = [s+'_sim' for s in state_cols]\n",
    "# anchor_cols = state_cols + ['distance', 'abs_speed']"
   ]
  },
  {
   "cell_type": "code",
   "execution_count": 3,
   "metadata": {},
   "outputs": [],
   "source": [
    "def get_satellite_data(data, sat_id):\n",
    "    '''\n",
    "    returns all data for particular satellite by id\n",
    "    '''\n",
    "    return data[data['sat_id'] == sat_id]\n",
    "\n",
    "def smape(satellite_predicted_values, satellite_true_values):\n",
    "    # the division, addition and subtraction are pointwise\n",
    "    return np.mean(np.abs((satellite_predicted_values - satellite_true_values)/\n",
    "                (np.abs(satellite_predicted_values) + np.abs(satellite_true_values))))"
   ]
  },
  {
   "cell_type": "code",
   "execution_count": 4,
   "metadata": {},
   "outputs": [],
   "source": [
    "train_nla = pd.read_csv('train_transformed.csv')\n",
    "train = pd.read_csv('data/train.csv')\n",
    "train_t1 = train.loc[train['sat_id'].isin(train_nla['sat_id'].unique())]"
   ]
  },
  {
   "cell_type": "code",
   "execution_count": 5,
   "metadata": {},
   "outputs": [],
   "source": [
    "sat_t1 = train_t1['sat_id'].unique()"
   ]
  },
  {
   "cell_type": "code",
   "execution_count": 6,
   "metadata": {},
   "outputs": [
    {
     "data": {
      "text/plain": [
       "Index(['id', 'x_sim', 'y_sim', 'z_sim', 'Vx_sim', 'Vy_sim', 'Vz_sim', 'sat_id',\n",
       "       'epoch'],\n",
       "      dtype='object')"
      ]
     },
     "execution_count": 6,
     "metadata": {},
     "output_type": "execute_result"
    }
   ],
   "source": [
    "train_nla.columns"
   ]
  },
  {
   "cell_type": "code",
   "execution_count": 7,
   "metadata": {},
   "outputs": [
    {
     "data": {
      "text/plain": [
       "Index(['id', 'epoch', 'sat_id', 'x', 'y', 'z', 'Vx', 'Vy', 'Vz', 'x_sim',\n",
       "       'y_sim', 'z_sim', 'Vx_sim', 'Vy_sim', 'Vz_sim'],\n",
       "      dtype='object')"
      ]
     },
     "execution_count": 7,
     "metadata": {},
     "output_type": "execute_result"
    }
   ],
   "source": [
    "train_t1.columns"
   ]
  },
  {
   "cell_type": "code",
   "execution_count": 9,
   "metadata": {},
   "outputs": [],
   "source": [
    "smapes_nla = {}\n",
    "for sat in sat_t1:\n",
    "    d = get_satellite_data(train_t1,sat)[state_cols]\n",
    "    d.rename(columns = {s:s+\"_sim\" for s in state_cols},inplace=True)\n",
    "    d_nla = get_satellite_data(train_nla,sat)\n",
    "    \n",
    "    smapes_nla[sat] = smape(d.to_numpy(),d_nla[state_cols_sim].to_numpy())"
   ]
  },
  {
   "cell_type": "code",
   "execution_count": 10,
   "metadata": {},
   "outputs": [],
   "source": [
    "from collections import OrderedDict"
   ]
  },
  {
   "cell_type": "code",
   "execution_count": 11,
   "metadata": {},
   "outputs": [],
   "source": [
    "smapes_nla_sorted = OrderedDict(sorted(smapes_nla.items(), \n",
    "                                  key=lambda kv: kv[1], reverse=True))"
   ]
  },
  {
   "cell_type": "code",
   "execution_count": 12,
   "metadata": {},
   "outputs": [],
   "source": [
    "smapes = {}\n",
    "for sat in sat_t1:\n",
    "    d = get_satellite_data(train_t1,sat)#[state_cols]\n",
    "   \n",
    "    smapes[sat] = smape(d[state_cols].to_numpy(),d[state_cols_sim].to_numpy())"
   ]
  },
  {
   "cell_type": "code",
   "execution_count": 13,
   "metadata": {},
   "outputs": [],
   "source": [
    "smapes_sorted = OrderedDict(sorted(smapes.items(), \n",
    "                                  key=lambda kv: kv[1], reverse=True))\n",
    "#smapes_sorted"
   ]
  },
  {
   "cell_type": "code",
   "execution_count": 15,
   "metadata": {},
   "outputs": [],
   "source": [
    "smapes_df = pd.DataFrame([smapes_nla_sorted,smapes]).T\n",
    "smapes_df.columns = ['nla','original']\n",
    "smapes_df['original minus nla'] = smapes_df['original']-smapes_df['nla']\n",
    "smapes_df['original minus nla normed'] = smapes_df['original minus nla']/smapes_df['original']\n",
    "#smapes_df.sort_values('original',ascending=False).head(50)"
   ]
  },
  {
   "cell_type": "code",
   "execution_count": 16,
   "metadata": {},
   "outputs": [
    {
     "data": {
      "image/png": "[encoded data removed]",
      "text/plain": [
       "<Figure size 432x288 with 1 Axes>"
      ]
     },
     "metadata": {
      "needs_background": "light"
     },
     "output_type": "display_data"
    }
   ],
   "source": [
    "smapes_df['original minus nla normed'].hist();"
   ]
  },
  {
   "cell_type": "code",
   "execution_count": 17,
   "metadata": {},
   "outputs": [],
   "source": [
    "smapes_df.to_csv('smapes_df.csv')"
   ]
  },
  {
   "cell_type": "code",
   "execution_count": null,
   "metadata": {},
   "outputs": [],
   "source": []
  }
 ],
 "metadata": {
  "kernelspec": {
   "display_name": "Python 3",
   "language": "python",
   "name": "python3"
  },
  "language_info": {
   "codemirror_mode": {
    "name": "ipython",
    "version": 3
   },
   "file_extension": ".py",
   "mimetype": "text/x-python",
   "name": "python",
   "nbconvert_exporter": "python",
   "pygments_lexer": "ipython3",
   "version": "3.7.3"
  }
 },
 "nbformat": 4,
 "nbformat_minor": 4
}
