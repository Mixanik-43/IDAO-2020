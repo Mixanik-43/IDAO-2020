{
  "nbformat": 4,
  "nbformat_minor": 0,
  "metadata": {
    "kernelspec": {
      "name": "python3",
      "display_name": "Python 3"
    },
    "language_info": {
      "codemirror_mode": {
        "name": "ipython",
        "version": 3
      },
      "file_extension": ".py",
      "mimetype": "text/x-python",
      "name": "python",
      "nbconvert_exporter": "python",
      "pygments_lexer": "ipython3",
      "version": "3.7.3"
    },
    "colab": {
      "name": "prophet_model_exploration-Copy1.ipynb",
      "provenance": [],
      "toc_visible": true
    },
    "accelerator": "GPU"
  },
  "cells": [
    {
      "cell_type": "code",
      "metadata": {
        "id": "VXyqz1FjJE6W",
        "colab_type": "code",
        "colab": {}
      },
      "source": [
        "from tqdm import tqdm\n",
        "import numpy as np\n",
        "import pandas as pd\n",
        "from scipy.interpolate import splrep, splev\n",
        "import datetime as dt\n",
        "import matplotlib.pyplot as plt\n",
        "from fbprophet import Prophet\n",
        "from scipy.interpolate import InterpolatedUnivariateSpline\n",
        "%matplotlib inline\n",
        "plt.rcParams.update({'font.size': 18})"
      ],
      "execution_count": 0,
      "outputs": []
    },
    {
      "cell_type": "code",
      "metadata": {
        "id": "NWYkckHCJE6l",
        "colab_type": "code",
        "colab": {}
      },
      "source": [
        "def smape(satellite_predicted_values, satellite_true_values):\n",
        "    # the division, addition and subtraction are pointwise\n",
        "    return np.mean(np.abs((satellite_predicted_values - satellite_true_values)/\n",
        "                (np.abs(satellite_predicted_values) + np.abs(satellite_true_values))))\n",
        "\n",
        "\n",
        "def drop_close(t, x, eps=10**9):\n",
        "    '''\n",
        "    t = time array, x = data array, eps is in nanoseconds\n",
        "    Returns entries in t,x with corresponding consecutive times > eps\n",
        "    \n",
        "    '''\n",
        "    t = np.array(t) #if not already np array, convert\n",
        "    x = np.array(x) #if t or x are pandas Series, will have dimension mismatch\n",
        "    far = np.concatenate([(t[1:] - t[:-1]) > eps, [True]])\n",
        "    return t[far], x[far]\n",
        "\n",
        "\n",
        "def resample(t, x, step=10 * 10**9, t_new=None, return_t=False):\n",
        "    '''\n",
        "    t: time array (or series); \n",
        "    x: data array (or series); \n",
        "    t_new: new time scale from start to end of t with step size step;\n",
        "    step: = 10 seconds by default; \n",
        "    return_t: by default, do not return resampled times\n",
        "    \n",
        "    resample time series or array by 10 (default) sec intervals and \n",
        "    return new time series (if t_new=True) and spline approximation series for data\n",
        "    \n",
        "    \n",
        "    '''\n",
        "    t, x = drop_close(t, x)\n",
        "    if t_new is None:\n",
        "        t_new = np.arange(t[0], t[-1], step)\n",
        "    try:\n",
        "        spl = splrep(t, x)\n",
        "        x_new = splev(t_new, spl)\n",
        "    except:\n",
        "        raise ValueError(f'interpolation error, x length = {len(x)}, \\\n",
        "        t_new length = {len(t_new)}')\n",
        "\n",
        "    return (t_new, x_new) if return_t else x_new\n",
        "\n",
        "\n",
        "def get_peaks(array):\n",
        "    '''\n",
        "    returns index of \"sharp\" peaks, excluding first and last values of array\n",
        "    \n",
        "    index of \"smooth peaks\", e.g. 1 2 3 9 9 3 2 1, is not returned\n",
        "    '''\n",
        "    return np.where((array[1:-1] > array[2:]) & (array[1:-1] > array[:-2]))[0] + 1\n",
        "\n",
        "\n",
        "def get_satellite_data(data, sat_id):\n",
        "    '''\n",
        "    returns all data for particular satellite by id\n",
        "    '''\n",
        "    return data[data['sat_id'] == sat_id].reset_index(drop=True)\n",
        "\n",
        "\n",
        "def remove_time_jumps(satellite_data, features_list=('x_sim', 'y_sim', 'z_sim', 'Vx_sim', 'Vy_sim', 'Vz_sim'),\n",
        "                      suffix='_jumps_removed',time_threshold = 0.00003):\n",
        "    #time_threshold 0.00003 sufficient for test and train\n",
        "    #time_threshold 0.00002 will throw errors\n",
        "    '''\n",
        "    removes time jumps in the simulation for a single satellite\n",
        "    for train and test data, sufficient to set time_threshold at default\n",
        "    '''\n",
        "    satellite_data['t'] = ((pd.to_datetime(satellite_data['epoch']) - pd.to_datetime(satellite_data['epoch'])[0]) /\n",
        "                           np.timedelta64(1, 'D')).astype(float)\n",
        "    satellite_data['dt'] = satellite_data['t'].diff()\n",
        "    # the most frequent time interval\n",
        "    t_standard = satellite_data['dt'].value_counts().index[0]\n",
        "\n",
        "    # time steps used for simulations\n",
        "    satellite_data['t_sim'] = satellite_data.index.values * t_standard\n",
        "\n",
        "    n = satellite_data.shape[0]\n",
        "    corrected_features = []\n",
        "    for feature_name in features_list:\n",
        "        corrected_feature = [0] * n\n",
        "        corrected_feature[0] = satellite_data[feature_name][0]\n",
        "\n",
        "        feature = satellite_data[feature_name]\n",
        "\n",
        "        for j in range(1, n - 1):\n",
        "            if satellite_data.t[j] < satellite_data.t_sim[j] - time_threshold:\n",
        "                # approximate by the left side\n",
        "    \n",
        "                # look for the interval\n",
        "                step = 0\n",
        "                while satellite_data.t[j] < satellite_data.t_sim[j - step] - time_threshold:\n",
        "                    step += 1\n",
        "                #             print(step)\n",
        "                corrected_feature[j] = feature[j - step] - (satellite_data.t_sim[j - step] - satellite_data.t[j]) / (\n",
        "                            satellite_data.t_sim[j - step] - satellite_data.t_sim[j - step - 1]) * (\n",
        "                                              feature[j - step] - feature[j - step - 1])\n",
        "            elif satellite_data.t[j] > satellite_data.t_sim[j] + time_threshold:\n",
        "                # approximate by the right side\n",
        "    \n",
        "                # look for the interval\n",
        "                step = 0\n",
        "                while satellite_data.t[j] > satellite_data.t_sim[j + step] + time_threshold:\n",
        "                    step += 1\n",
        "    \n",
        "                corrected_feature[j] = feature[j + step + 1] - (satellite_data.t_sim[j + step + 1] - satellite_data.t[j]) / (\n",
        "                            satellite_data.t_sim[j + step + 1] - satellite_data.t_sim[j + step]) * (\n",
        "                                              feature[j + step + 1] - feature[j + step])\n",
        "            else:\n",
        "                corrected_feature[j] = feature[j]\n",
        "    \n",
        "        corrected_feature[n - 1] = feature[n - 1] + corrected_feature[n - 2] - feature[n - 2]\n",
        "        corrected_features.append(corrected_feature)\n",
        "    return pd.DataFrame(corrected_features, index=[f + suffix for f in features_list]).T"
      ],
      "execution_count": 0,
      "outputs": []
    },
    {
      "cell_type": "code",
      "metadata": {
        "id": "-TN9lNVPJE6s",
        "colab_type": "code",
        "colab": {}
      },
      "source": [
        "def insert_previous_and_shift(df,col_name,ind):\n",
        "    '''\n",
        "    input a data frame (df), column name (col_name), and index (ind)\n",
        "    insert previous value of df[col_name] at index and shift the rest \n",
        "    of df[col_name] from ind by +1;\n",
        "    This is used for remove_time_jumps_fast\n",
        "    '''\n",
        "    shifted_series = df[col_name].shift(1)\n",
        "    df[col_name].iloc[ind] = df[col_name].iloc[ind-1]\n",
        "    df[col_name].iloc[ind+1:] = shifted_series.iloc[ind+1:]\n",
        "    return df"
      ],
      "execution_count": 0,
      "outputs": []
    },
    {
      "cell_type": "code",
      "metadata": {
        "id": "ilY6WzcOJE60",
        "colab_type": "code",
        "colab": {}
      },
      "source": [
        "def remove_time_jumps_fast(data, features_list=\n",
        "                           ('x_sim', 'y_sim', 'z_sim', 'Vx_sim', 'Vy_sim', 'Vz_sim'),\n",
        "                           threshold = 0.000001):\n",
        "    #time_threshold 0.00003 sufficient for test and train\n",
        "    #time_threshold 0.00002 will throw errors\n",
        "    '''\n",
        "    removes time jumps in the simulation for a single satellite\n",
        "    for train and test data, sufficient to set time_threshold at default\n",
        "    s_data = satellite data\n",
        "    the features are replaced by the correction\n",
        "    note that threshold here is not the same as in remove_time_jumps\n",
        "    '''\n",
        "    data['t'] = ((pd.to_datetime(data['epoch']) - pd.to_datetime(data['epoch'])[0]) /\n",
        "                               np.timedelta64(1, 'D')).astype(float)\n",
        "    data['dt'] = data['t'].diff(1)\n",
        "\n",
        "    index_for_correction = data[data['dt'] < threshold].index \n",
        "    #print(index_for_correction)\n",
        "    if list(index_for_correction): #if non empty\n",
        "        for feature in features_list:\n",
        "            for i in index_for_correction:\n",
        "                data = insert_previous_and_shift(data,feature,i)\n",
        "    return data"
      ],
      "execution_count": 0,
      "outputs": []
    },
    {
      "cell_type": "markdown",
      "metadata": {
        "id": "hMW8narvJE67",
        "colab_type": "text"
      },
      "source": [
        "## Transforming all the data"
      ]
    },
    {
      "cell_type": "code",
      "metadata": {
        "id": "-sqU97s-JE69",
        "colab_type": "code",
        "colab": {}
      },
      "source": [
        "import utils\n",
        "from LinearAlignment import LinearAlignment"
      ],
      "execution_count": 0,
      "outputs": []
    },
    {
      "cell_type": "code",
      "metadata": {
        "id": "ZfYLPtbZJE7E",
        "colab_type": "code",
        "colab": {}
      },
      "source": [
        "features_list=['x', 'y', 'z', 'Vx', 'Vy', 'Vz']"
      ],
      "execution_count": 0,
      "outputs": []
    },
    {
      "cell_type": "code",
      "metadata": {
        "id": "iFtkEKxZJE7O",
        "colab_type": "code",
        "colab": {
          "base_uri": "https://localhost:8080/",
          "height": 299
        },
        "outputId": "670fafeb-efc8-4614-c723-d96bdeae1c5d"
      },
      "source": [
        "data = pd.read_csv('train.csv')\n",
        "data['time'] = data['epoch']\n",
        "data['epoch'] = pd.to_datetime(data['epoch']).values.astype(float)\n",
        "data.head()"
      ],
      "execution_count": 10,
      "outputs": [
        {
          "output_type": "execute_result",
          "data": {
            "text/html": [
              "<div>\n",
              "<style scoped>\n",
              "    .dataframe tbody tr th:only-of-type {\n",
              "        vertical-align: middle;\n",
              "    }\n",
              "\n",
              "    .dataframe tbody tr th {\n",
              "        vertical-align: top;\n",
              "    }\n",
              "\n",
              "    .dataframe thead th {\n",
              "        text-align: right;\n",
              "    }\n",
              "</style>\n",
              "<table border=\"1\" class=\"dataframe\">\n",
              "  <thead>\n",
              "    <tr style=\"text-align: right;\">\n",
              "      <th></th>\n",
              "      <th>id</th>\n",
              "      <th>epoch</th>\n",
              "      <th>sat_id</th>\n",
              "      <th>x</th>\n",
              "      <th>y</th>\n",
              "      <th>z</th>\n",
              "      <th>Vx</th>\n",
              "      <th>Vy</th>\n",
              "      <th>Vz</th>\n",
              "      <th>x_sim</th>\n",
              "      <th>y_sim</th>\n",
              "      <th>z_sim</th>\n",
              "      <th>Vx_sim</th>\n",
              "      <th>Vy_sim</th>\n",
              "      <th>Vz_sim</th>\n",
              "      <th>time</th>\n",
              "    </tr>\n",
              "  </thead>\n",
              "  <tbody>\n",
              "    <tr>\n",
              "      <th>0</th>\n",
              "      <td>0</td>\n",
              "      <td>1.388534e+18</td>\n",
              "      <td>0</td>\n",
              "      <td>-8855.823863</td>\n",
              "      <td>13117.780146</td>\n",
              "      <td>-20728.353233</td>\n",
              "      <td>-0.908303</td>\n",
              "      <td>-3.808436</td>\n",
              "      <td>-2.022083</td>\n",
              "      <td>-8843.131454</td>\n",
              "      <td>13138.221690</td>\n",
              "      <td>-20741.615306</td>\n",
              "      <td>-0.907527</td>\n",
              "      <td>-3.804930</td>\n",
              "      <td>-2.024133</td>\n",
              "      <td>2014-01-01T00:00:00.000</td>\n",
              "    </tr>\n",
              "    <tr>\n",
              "      <th>1</th>\n",
              "      <td>1</td>\n",
              "      <td>1.388537e+18</td>\n",
              "      <td>0</td>\n",
              "      <td>-10567.672384</td>\n",
              "      <td>1619.746066</td>\n",
              "      <td>-24451.813271</td>\n",
              "      <td>-0.302590</td>\n",
              "      <td>-4.272617</td>\n",
              "      <td>-0.612796</td>\n",
              "      <td>-10555.500066</td>\n",
              "      <td>1649.289367</td>\n",
              "      <td>-24473.089556</td>\n",
              "      <td>-0.303704</td>\n",
              "      <td>-4.269816</td>\n",
              "      <td>-0.616468</td>\n",
              "      <td>2014-01-01T00:46:43.000</td>\n",
              "    </tr>\n",
              "    <tr>\n",
              "      <th>2</th>\n",
              "      <td>2</td>\n",
              "      <td>1.388540e+18</td>\n",
              "      <td>0</td>\n",
              "      <td>-10578.684043</td>\n",
              "      <td>-10180.467460</td>\n",
              "      <td>-24238.280949</td>\n",
              "      <td>0.277435</td>\n",
              "      <td>-4.047522</td>\n",
              "      <td>0.723155</td>\n",
              "      <td>-10571.858472</td>\n",
              "      <td>-10145.939908</td>\n",
              "      <td>-24271.169776</td>\n",
              "      <td>0.274880</td>\n",
              "      <td>-4.046788</td>\n",
              "      <td>0.718768</td>\n",
              "      <td>2014-01-01T01:33:26.001</td>\n",
              "    </tr>\n",
              "    <tr>\n",
              "      <th>3</th>\n",
              "      <td>3</td>\n",
              "      <td>1.388543e+18</td>\n",
              "      <td>0</td>\n",
              "      <td>-9148.251857</td>\n",
              "      <td>-20651.437460</td>\n",
              "      <td>-20720.381279</td>\n",
              "      <td>0.715600</td>\n",
              "      <td>-3.373762</td>\n",
              "      <td>1.722115</td>\n",
              "      <td>-9149.620794</td>\n",
              "      <td>-20618.200201</td>\n",
              "      <td>-20765.019094</td>\n",
              "      <td>0.712437</td>\n",
              "      <td>-3.375202</td>\n",
              "      <td>1.718306</td>\n",
              "      <td>2014-01-01T02:20:09.001</td>\n",
              "    </tr>\n",
              "    <tr>\n",
              "      <th>4</th>\n",
              "      <td>4</td>\n",
              "      <td>1.388546e+18</td>\n",
              "      <td>0</td>\n",
              "      <td>-6719.092336</td>\n",
              "      <td>-28929.061629</td>\n",
              "      <td>-14938.907967</td>\n",
              "      <td>0.992507</td>\n",
              "      <td>-2.519732</td>\n",
              "      <td>2.344703</td>\n",
              "      <td>-6729.358857</td>\n",
              "      <td>-28902.271436</td>\n",
              "      <td>-14992.399986</td>\n",
              "      <td>0.989382</td>\n",
              "      <td>-2.522618</td>\n",
              "      <td>2.342237</td>\n",
              "      <td>2014-01-01T03:06:52.002</td>\n",
              "    </tr>\n",
              "  </tbody>\n",
              "</table>\n",
              "</div>"
            ],
            "text/plain": [
              "   id         epoch  sat_id  ...    Vy_sim    Vz_sim                     time\n",
              "0   0  1.388534e+18       0  ... -3.804930 -2.024133  2014-01-01T00:00:00.000\n",
              "1   1  1.388537e+18       0  ... -4.269816 -0.616468  2014-01-01T00:46:43.000\n",
              "2   2  1.388540e+18       0  ... -4.046788  0.718768  2014-01-01T01:33:26.001\n",
              "3   3  1.388543e+18       0  ... -3.375202  1.718306  2014-01-01T02:20:09.001\n",
              "4   4  1.388546e+18       0  ... -2.522618  2.342237  2014-01-01T03:06:52.002\n",
              "\n",
              "[5 rows x 16 columns]"
            ]
          },
          "metadata": {
            "tags": []
          },
          "execution_count": 10
        }
      ]
    },
    {
      "cell_type": "code",
      "metadata": {
        "id": "McB3F4RvJE7U",
        "colab_type": "code",
        "colab": {
          "base_uri": "https://localhost:8080/",
          "height": 151
        },
        "outputId": "c435e3f6-bb60-49e6-cbf5-c517076b1c32"
      },
      "source": [
        "result_df = []\n",
        "alignment_model = LinearAlignment()\n",
        "\n",
        "satellites_list = data['sat_id'].unique()\n",
        "\n",
        "transf_df = pd.DataFrame([])\n",
        "for sat_id in tqdm(satellites_list):\n",
        "    \n",
        "#     sat_data = utils.get_satellite_data(data, sat_id)\n",
        "    try:\n",
        "        sat_data = remove_time_jumps_fast(get_satellite_data(data, sat_id))\n",
        "#         sat_data = get_satellite_data(data, sat_id) # run to check the smape score before any transformations\n",
        "    except KeyError as e:\n",
        "        print(f'jump removal failed for satellite {sat_id}:\\t{type(e).__name__} {e}')\n",
        "        continue\n",
        "\n",
        "    n_train = 2*len(sat_data) // 3\n",
        "    train_sat_data = sat_data[:n_train]\n",
        "    \n",
        "    pred = pd.DataFrame(index = sat_data.index)\n",
        "    pred['epoch'] = sat_data['epoch'].values\n",
        "    pred['t'] = sat_data['t'].values\n",
        "    pred['sat_id'] = sat_id\n",
        "    \n",
        "    try:\n",
        "\n",
        "        for feature_name in features_list:\n",
        "            alignment_model.fit(t=train_sat_data['epoch'].values,\n",
        "                                x=-train_sat_data[f'{feature_name}_sim'].values,\n",
        "                                gt=-train_sat_data[feature_name].values)\n",
        "            option1 = alignment_model.predict(t=sat_data['epoch'].values,\n",
        "                                                         x=sat_data[f'{feature_name}_sim'].values)\n",
        "            alignment_model.fit(t=train_sat_data['epoch'].values,\n",
        "                                x= train_sat_data[f'{feature_name}_sim'].values,\n",
        "                                gt= train_sat_data[feature_name].values)\n",
        "            \n",
        "            option2 = alignment_model.predict(t=sat_data['epoch'].values,\n",
        "                                                         x=sat_data[f'{feature_name}_sim'].values)\n",
        "            \n",
        "            if utils.smape(option1,sat_data[feature_name].values) < utils.smape(option2,sat_data[feature_name].values):\n",
        "                pred[f'{feature_name}_sim']  = option1\n",
        "            else:\n",
        "                pred[f'{feature_name}_sim']  = option2\n",
        "                \n",
        "            pred[feature_name]=sat_data[feature_name].values\n",
        "        \n",
        "                  \n",
        "            \n",
        "    except Exception as e:\n",
        "        print(f'linear alignment failed for satellite {sat_id}:\\t{type(e).__name__} {e}')\n",
        "        continue\n",
        "    \n",
        "    transf_df = transf_df.append(pred)"
      ],
      "execution_count": 11,
      "outputs": [
        {
          "output_type": "stream",
          "text": [
            "\r  0%|          | 0/600 [00:00<?, ?it/s]/usr/local/lib/python3.6/dist-packages/pandas/core/indexing.py:205: SettingWithCopyWarning:\n",
            "\n",
            "\n",
            "A value is trying to be set on a copy of a slice from a DataFrame\n",
            "\n",
            "See the caveats in the documentation: http://pandas.pydata.org/pandas-docs/stable/user_guide/indexing.html#returning-a-view-versus-a-copy\n",
            "\n",
            "100%|██████████| 600/600 [03:06<00:00,  2.89it/s]\n"
          ],
          "name": "stderr"
        }
      ]
    },
    {
      "cell_type": "code",
      "metadata": {
        "id": "Ib6hxF4DJE7Z",
        "colab_type": "code",
        "colab": {
          "base_uri": "https://localhost:8080/",
          "height": 215
        },
        "outputId": "9a25df2f-7175-44c1-e736-db90421081b3"
      },
      "source": [
        "transf_df.head()"
      ],
      "execution_count": 14,
      "outputs": [
        {
          "output_type": "execute_result",
          "data": {
            "text/html": [
              "<div>\n",
              "<style scoped>\n",
              "    .dataframe tbody tr th:only-of-type {\n",
              "        vertical-align: middle;\n",
              "    }\n",
              "\n",
              "    .dataframe tbody tr th {\n",
              "        vertical-align: top;\n",
              "    }\n",
              "\n",
              "    .dataframe thead th {\n",
              "        text-align: right;\n",
              "    }\n",
              "</style>\n",
              "<table border=\"1\" class=\"dataframe\">\n",
              "  <thead>\n",
              "    <tr style=\"text-align: right;\">\n",
              "      <th></th>\n",
              "      <th>epoch</th>\n",
              "      <th>t</th>\n",
              "      <th>sat_id</th>\n",
              "      <th>x_sim</th>\n",
              "      <th>x</th>\n",
              "      <th>y_sim</th>\n",
              "      <th>y</th>\n",
              "      <th>z_sim</th>\n",
              "      <th>z</th>\n",
              "      <th>Vx_sim</th>\n",
              "      <th>Vx</th>\n",
              "      <th>Vy_sim</th>\n",
              "      <th>Vy</th>\n",
              "      <th>Vz_sim</th>\n",
              "      <th>Vz</th>\n",
              "    </tr>\n",
              "  </thead>\n",
              "  <tbody>\n",
              "    <tr>\n",
              "      <th>0</th>\n",
              "      <td>1.388534e+18</td>\n",
              "      <td>0.000000</td>\n",
              "      <td>0</td>\n",
              "      <td>-8843.131454</td>\n",
              "      <td>-8855.823863</td>\n",
              "      <td>13138.221690</td>\n",
              "      <td>13117.780146</td>\n",
              "      <td>-20741.615306</td>\n",
              "      <td>-20728.353233</td>\n",
              "      <td>-0.907527</td>\n",
              "      <td>-0.908303</td>\n",
              "      <td>-3.804930</td>\n",
              "      <td>-3.808436</td>\n",
              "      <td>-2.024133</td>\n",
              "      <td>-2.022083</td>\n",
              "    </tr>\n",
              "    <tr>\n",
              "      <th>1</th>\n",
              "      <td>1.388537e+18</td>\n",
              "      <td>0.032442</td>\n",
              "      <td>0</td>\n",
              "      <td>-10555.386608</td>\n",
              "      <td>-10567.672384</td>\n",
              "      <td>1650.859396</td>\n",
              "      <td>1619.746066</td>\n",
              "      <td>-24472.868840</td>\n",
              "      <td>-24451.813271</td>\n",
              "      <td>-0.303784</td>\n",
              "      <td>-0.302590</td>\n",
              "      <td>-4.269805</td>\n",
              "      <td>-4.272617</td>\n",
              "      <td>-0.616663</td>\n",
              "      <td>-0.612796</td>\n",
              "    </tr>\n",
              "    <tr>\n",
              "      <th>2</th>\n",
              "      <td>1.388540e+18</td>\n",
              "      <td>0.064884</td>\n",
              "      <td>0</td>\n",
              "      <td>-10572.066874</td>\n",
              "      <td>-10578.684043</td>\n",
              "      <td>-10142.955312</td>\n",
              "      <td>-10180.467460</td>\n",
              "      <td>-24271.694509</td>\n",
              "      <td>-24238.280949</td>\n",
              "      <td>0.274744</td>\n",
              "      <td>0.277435</td>\n",
              "      <td>-4.046917</td>\n",
              "      <td>-4.047522</td>\n",
              "      <td>0.718442</td>\n",
              "      <td>0.723155</td>\n",
              "    </tr>\n",
              "    <tr>\n",
              "      <th>3</th>\n",
              "      <td>1.388543e+18</td>\n",
              "      <td>0.097326</td>\n",
              "      <td>0</td>\n",
              "      <td>-9150.440291</td>\n",
              "      <td>-9148.251857</td>\n",
              "      <td>-20614.468040</td>\n",
              "      <td>-20651.437460</td>\n",
              "      <td>-20766.919757</td>\n",
              "      <td>-20720.381279</td>\n",
              "      <td>0.712297</td>\n",
              "      <td>0.715600</td>\n",
              "      <td>-3.375518</td>\n",
              "      <td>-3.373762</td>\n",
              "      <td>1.717976</td>\n",
              "      <td>1.722115</td>\n",
              "    </tr>\n",
              "    <tr>\n",
              "      <th>4</th>\n",
              "      <td>1.388546e+18</td>\n",
              "      <td>0.129769</td>\n",
              "      <td>0</td>\n",
              "      <td>-6730.875258</td>\n",
              "      <td>-6719.092336</td>\n",
              "      <td>-28898.551349</td>\n",
              "      <td>-28929.061629</td>\n",
              "      <td>-14995.852194</td>\n",
              "      <td>-14938.907967</td>\n",
              "      <td>0.989275</td>\n",
              "      <td>0.992507</td>\n",
              "      <td>-2.523080</td>\n",
              "      <td>-2.519732</td>\n",
              "      <td>2.341988</td>\n",
              "      <td>2.344703</td>\n",
              "    </tr>\n",
              "  </tbody>\n",
              "</table>\n",
              "</div>"
            ],
            "text/plain": [
              "          epoch         t  sat_id  ...        Vy    Vz_sim        Vz\n",
              "0  1.388534e+18  0.000000       0  ... -3.808436 -2.024133 -2.022083\n",
              "1  1.388537e+18  0.032442       0  ... -4.272617 -0.616663 -0.612796\n",
              "2  1.388540e+18  0.064884       0  ... -4.047522  0.718442  0.723155\n",
              "3  1.388543e+18  0.097326       0  ... -3.373762  1.717976  1.722115\n",
              "4  1.388546e+18  0.129769       0  ... -2.519732  2.341988  2.344703\n",
              "\n",
              "[5 rows x 15 columns]"
            ]
          },
          "metadata": {
            "tags": []
          },
          "execution_count": 14
        }
      ]
    },
    {
      "cell_type": "code",
      "metadata": {
        "id": "8N-TF9nlJE7f",
        "colab_type": "code",
        "colab": {
          "base_uri": "https://localhost:8080/",
          "height": 34
        },
        "outputId": "208f83c4-82c6-4b0e-ba1c-71b2160d89b6"
      },
      "source": [
        "transf_df.shape"
      ],
      "execution_count": 15,
      "outputs": [
        {
          "output_type": "execute_result",
          "data": {
            "text/plain": [
              "(649912, 15)"
            ]
          },
          "metadata": {
            "tags": []
          },
          "execution_count": 15
        }
      ]
    },
    {
      "cell_type": "code",
      "metadata": {
        "id": "9_zL6fpcJE7m",
        "colab_type": "code",
        "colab": {},
        "outputId": "3f0b0bf9-1373-4604-f8fb-c5b52155f8d6"
      },
      "source": [
        "# # for now, simply append non-transformed values fot the satellites 252\n",
        "# transf_df = transf_df.append(remove_time_jumps_fast(get_satellite_data(data, 252))[transf_df.columns])\n",
        "# transf_df = transf_df.append(remove_time_jumps_fast(get_satellite_data(data, 301))[transf_df.columns])\n",
        "# transf_df.shape"
      ],
      "execution_count": 0,
      "outputs": [
        {
          "output_type": "execute_result",
          "data": {
            "text/plain": [
              "(650105, 15)"
            ]
          },
          "metadata": {
            "tags": []
          },
          "execution_count": 31
        }
      ]
    },
    {
      "cell_type": "code",
      "metadata": {
        "id": "qEFuNAr0JE7r",
        "colab_type": "code",
        "colab": {
          "base_uri": "https://localhost:8080/",
          "height": 1000
        },
        "outputId": "69bd429c-4a8c-4d0a-b14e-ba90aa0316ba"
      },
      "source": [
        "fail_list = []\n",
        "satellites_list = transf_df['sat_id'].unique()\n",
        "\n",
        "for sat_id in tqdm(satellites_list):\n",
        "    pred = pd.DataFrame([])\n",
        "    sat_data = transf_df[transf_df.sat_id == sat_id]\n",
        "\n",
        "    n_train = 2* len(sat_data) // 3\n",
        "   \n",
        "    \n",
        "    try:\n",
        "\n",
        "        for feature_name in features_list:\n",
        "            \n",
        "            q = InterpolatedUnivariateSpline(sat_data ['t'], sat_data ['Vx']).roots()\n",
        "            T = (q[2]-q[0])\n",
        "            \n",
        "            # create a DataFrame for prophet model()\n",
        "            ts = pd.DataFrame([])\n",
        "            ts['ds'] = pd.to_datetime(sat_data ['epoch']).values\n",
        "            ts['y'] = sat_data [feature_name].values-sat_data [f'{feature_name}_sim'].values\n",
        "            \n",
        "            # define the time frame for the forecast \n",
        "            future =ts[n_train:] [['ds']]\n",
        "            \n",
        "            # define the model\n",
        "            m = Prophet(changepoint_prior_scale = 0.01,\n",
        "            weekly_seasonality = False,\n",
        "            yearly_seasonality = False).add_seasonality(name='grid', period = T, fourier_order=50)\n",
        "            \n",
        "            #fit the model and make the forecast\n",
        "            m.fit(ts[:n_train])\n",
        "            forecast = m.predict(future)\n",
        "            \n",
        "            new_values = sat_data.loc[n_train:,f'{feature_name}_sim'].values+forecast.loc[:, 'yhat'].values\n",
        "\n",
        "            option1 = sat_data[f'{feature_name}_sim'].values\n",
        "\n",
        "\n",
        "            option2 = np.concatenate((sat_data[f'{feature_name}_sim'].values[:n_train], new_values), axis=None)\n",
        "\n",
        "\n",
        "            print('{}[{}]  no correction: {}, correction:{}'.format(sat_id,\n",
        "                                                                feature_name,\n",
        "                                                                utils.smape(option1[n_train:],sat_data[feature_name][n_train:].values),\n",
        "                                                                utils.smape(option2[n_train:],sat_data[feature_name][n_train:].values)))\n",
        "\n",
        "            if utils.smape(option1[n_train:],sat_data[feature_name][n_train:].values) < utils.smape(option2[n_train:],sat_data[feature_name][n_train:].values):\n",
        "                pred[feature_name] = option1\n",
        "                print(sat_id, feature_name, 'does not work')\n",
        "                fail_list.append((sat_id, feature_name))\n",
        "            else:\n",
        "                pred[feature_name] = option2     \n",
        " \n",
        "            \n",
        "    except Exception as e:\n",
        "        print(f'phophet failed for satellite {sat_id}:\\t{type(e).__name__} {e}')\n",
        "        continue\n",
        "        \n",
        "    sat_sim_smape = utils.smape(sat_data.loc[n_train:, [f'{f}_sim' for f in features_list]].values,\n",
        "                                sat_data.loc[n_train:, features_list].values)\n",
        "    sat_new_smape = utils.smape(pred.loc[n_train:, features_list].values,\n",
        "                                sat_data.loc[n_train:, features_list].values)\n",
        "    result_df.append([sat_id, sat_sim_smape, sat_new_smape])"
      ],
      "execution_count": 16,
      "outputs": [
        {
          "output_type": "stream",
          "text": [
            "\r  0%|          | 0/600 [00:00<?, ?it/s]INFO:numexpr.utils:NumExpr defaulting to 2 threads.\n"
          ],
          "name": "stderr"
        },
        {
          "output_type": "stream",
          "text": [
            "0[x]  no correction: 0.002019949873584064, correction:0.000175179872617657\n",
            "0[y]  no correction: 0.0004479225491172193, correction:0.00037944603603242463\n",
            "0[z]  no correction: 0.0017280662374283356, correction:0.00022093656705430794\n",
            "0[Vx]  no correction: 0.0009027952464898022, correction:0.00015864039532040636\n",
            "0[Vy]  no correction: 0.0012632326676549502, correction:0.0005183769236656172\n"
          ],
          "name": "stdout"
        },
        {
          "output_type": "stream",
          "text": [
            "\r  0%|          | 1/600 [00:31<5:12:31, 31.30s/it]"
          ],
          "name": "stderr"
        },
        {
          "output_type": "stream",
          "text": [
            "0[Vz]  no correction: 0.001026267099375352, correction:0.0001905033667833676\n",
            "1[x]  no correction: 0.19789230218414136, correction:0.026488975700141366\n",
            "1[y]  no correction: 0.17379991709944773, correction:0.0861664769647062\n",
            "1[z]  no correction: 0.15211767651014504, correction:0.11543476227761627\n",
            "1[Vx]  no correction: 0.1866958779440588, correction:0.16553311144892083\n",
            "1[Vy]  no correction: 0.15872449315519707, correction:0.10989095690687375\n"
          ],
          "name": "stdout"
        },
        {
          "output_type": "stream",
          "text": [
            "\r  0%|          | 2/600 [00:56<4:54:49, 29.58s/it]"
          ],
          "name": "stderr"
        },
        {
          "output_type": "stream",
          "text": [
            "1[Vz]  no correction: 0.1527931186815064, correction:0.11083275830249971\n",
            "2[x]  no correction: 0.006831628265958696, correction:0.003134926582162182\n",
            "2[y]  no correction: 0.014486183231356259, correction:0.0098057041236803\n",
            "2[z]  no correction: 0.013740337241424407, correction:0.006999499648732501\n",
            "2[Vx]  no correction: 0.0052801361614420155, correction:0.003146664486918086\n",
            "2[Vy]  no correction: 0.0034801582687186377, correction:0.0033930432061423637\n"
          ],
          "name": "stdout"
        },
        {
          "output_type": "stream",
          "text": [
            "\r  0%|          | 3/600 [01:19<4:32:21, 27.37s/it]"
          ],
          "name": "stderr"
        },
        {
          "output_type": "stream",
          "text": [
            "2[Vz]  no correction: 0.005305657707651197, correction:0.0029269720954119517\n",
            "3[x]  no correction: 0.006042744979714416, correction:0.003516140742180783\n",
            "3[y]  no correction: 0.008444692834013966, correction:0.003531228332075882\n",
            "3[z]  no correction: 0.06294194113219709, correction:0.015365345252197923\n",
            "3[Vx]  no correction: 0.00566202150756282, correction:0.003164416816404807\n",
            "3[Vy]  no correction: 0.005531362182074871, correction:0.00302884619864345\n"
          ],
          "name": "stdout"
        },
        {
          "output_type": "stream",
          "text": [
            "\r  1%|          | 4/600 [01:37<4:05:47, 24.74s/it]"
          ],
          "name": "stderr"
        },
        {
          "output_type": "stream",
          "text": [
            "3[Vz]  no correction: 0.03602083793947985, correction:0.012455911518097633\n",
            "4[x]  no correction: 0.002804515512293963, correction:0.00019815675438566662\n",
            "4[y]  no correction: 0.005382163302543501, correction:0.0006688402242891131\n",
            "4[z]  no correction: 0.0013810737364457334, correction:9.428767733998983e-05\n",
            "4[Vx]  no correction: 0.001108941955367948, correction:0.00013746767197725339\n",
            "4[Vy]  no correction: 0.001268796853998633, correction:0.00018347462169886317\n"
          ],
          "name": "stdout"
        },
        {
          "output_type": "stream",
          "text": [
            "\r  1%|          | 5/600 [02:17<4:49:47, 29.22s/it]"
          ],
          "name": "stderr"
        },
        {
          "output_type": "stream",
          "text": [
            "4[Vz]  no correction: 0.0009560783110669585, correction:0.00011051381440864622\n",
            "5[x]  no correction: 0.002748611291940033, correction:0.00023590325432948876\n",
            "5[y]  no correction: 0.0003287371352047416, correction:0.00014682865613812704\n",
            "5[z]  no correction: 0.003211336937419437, correction:0.002863947692332014\n",
            "5[Vx]  no correction: 0.0003941236628613481, correction:0.0001446858600065564\n",
            "5[Vy]  no correction: 0.0009283196197869395, correction:0.00012764180607003793\n"
          ],
          "name": "stdout"
        },
        {
          "output_type": "stream",
          "text": [
            "\r  1%|          | 6/600 [02:49<4:58:45, 30.18s/it]"
          ],
          "name": "stderr"
        },
        {
          "output_type": "stream",
          "text": [
            "5[Vz]  no correction: 0.002602664648923957, correction:0.002616165911172226\n",
            "5 Vz does not work\n",
            "6[x]  no correction: 0.42641369643453003, correction:0.07943305536436436\n",
            "6[y]  no correction: 0.20043361933597656, correction:0.1864431767629884\n",
            "6[z]  no correction: 0.3291172839570742, correction:0.10766182590889838\n",
            "6[Vx]  no correction: 0.34954406975308383, correction:0.28129104310381664\n",
            "6[Vy]  no correction: 0.23402892971800046, correction:0.17295882486968636\n"
          ],
          "name": "stdout"
        },
        {
          "output_type": "stream",
          "text": [
            "\r  1%|          | 7/600 [03:07<4:21:27, 26.45s/it]"
          ],
          "name": "stderr"
        },
        {
          "output_type": "stream",
          "text": [
            "6[Vz]  no correction: 0.2392956246706033, correction:0.15966699308673793\n",
            "7[x]  no correction: 0.015073541128282249, correction:0.0315564752289842\n",
            "7 x does not work\n",
            "7[y]  no correction: 0.031543159303322826, correction:0.0272632895232024\n",
            "7[z]  no correction: 0.019012972043139755, correction:0.023039216993909158\n",
            "7 z does not work\n",
            "7[Vx]  no correction: 0.03214408446859192, correction:0.09417288344984405\n",
            "7 Vx does not work\n",
            "7[Vy]  no correction: 0.06692071515901103, correction:0.11477549970418664\n",
            "7 Vy does not work\n"
          ],
          "name": "stdout"
        },
        {
          "output_type": "stream",
          "text": [
            "\r  1%|▏         | 8/600 [03:19<3:38:56, 22.19s/it]"
          ],
          "name": "stderr"
        },
        {
          "output_type": "stream",
          "text": [
            "7[Vz]  no correction: 0.03454367707853033, correction:0.11683396201775569\n",
            "7 Vz does not work\n",
            "8[x]  no correction: 0.035569721516328756, correction:0.00017979566067167168\n",
            "8[y]  no correction: 0.061375613032869404, correction:0.0007285451322488196\n",
            "8[z]  no correction: 0.0971984433423835, correction:0.0010022582453814836\n",
            "8[Vx]  no correction: 0.07034148229212532, correction:0.0007749869047188313\n",
            "8[Vy]  no correction: 0.030512481770238752, correction:0.0003941332567278076\n"
          ],
          "name": "stdout"
        },
        {
          "output_type": "stream",
          "text": [
            "\r  2%|▏         | 9/600 [05:24<8:40:09, 52.81s/it]"
          ],
          "name": "stderr"
        },
        {
          "output_type": "stream",
          "text": [
            "8[Vz]  no correction: 0.04852333834855964, correction:0.0003445968125187667\n",
            "9[x]  no correction: 0.07035945711419962, correction:0.0033976000005064904\n",
            "9[y]  no correction: 0.07154642357356851, correction:0.013935801759168717\n",
            "9[z]  no correction: 0.08965738431595427, correction:0.020500119254600116\n",
            "9[Vx]  no correction: 0.09899988392963151, correction:0.019408204408068022\n",
            "9[Vy]  no correction: 0.030310759708830123, correction:0.006081962254017417\n"
          ],
          "name": "stdout"
        },
        {
          "output_type": "stream",
          "text": [
            "\r  2%|▏         | 10/600 [05:45<7:07:00, 43.42s/it]"
          ],
          "name": "stderr"
        },
        {
          "output_type": "stream",
          "text": [
            "9[Vz]  no correction: 0.07162089644617552, correction:0.015243793864561343\n",
            "10[x]  no correction: 0.007688189935980414, correction:0.0017634726269817656\n",
            "10[y]  no correction: 0.00295435555156082, correction:0.0006187748757712584\n",
            "10[z]  no correction: 0.002596802707602965, correction:0.0007669062360092921\n",
            "10[Vx]  no correction: 0.0027345611902084782, correction:0.0003421227738351281\n",
            "10[Vy]  no correction: 0.0032848327813939245, correction:0.00038472884919923283\n"
          ],
          "name": "stdout"
        },
        {
          "output_type": "stream",
          "text": [
            "\r  2%|▏         | 11/600 [06:33<7:20:02, 44.83s/it]"
          ],
          "name": "stderr"
        },
        {
          "output_type": "stream",
          "text": [
            "10[Vz]  no correction: 0.0018315017940827203, correction:0.0004862041090254555\n",
            "11[x]  no correction: 0.3955298846712038, correction:0.3075682464099149\n",
            "11[y]  no correction: 0.29877449508569226, correction:0.33220983788961117\n",
            "11 y does not work\n",
            "11[z]  no correction: 0.2819623042106356, correction:0.32448763837001277\n",
            "11 z does not work\n",
            "11[Vx]  no correction: 0.4398793780637433, correction:0.4242946630469298\n",
            "11[Vy]  no correction: 0.22970794524565172, correction:0.29566223485522614\n",
            "11 Vy does not work\n"
          ],
          "name": "stdout"
        },
        {
          "output_type": "stream",
          "text": [
            "\r  2%|▏         | 12/600 [06:58<6:20:07, 38.79s/it]"
          ],
          "name": "stderr"
        },
        {
          "output_type": "stream",
          "text": [
            "11[Vz]  no correction: 0.2672973075429962, correction:0.32214289143772346\n",
            "11 Vz does not work\n",
            "12[x]  no correction: 0.004214688565613107, correction:0.0014307344991027558\n",
            "12[y]  no correction: 0.003718368767615762, correction:0.001878074934421941\n",
            "12[z]  no correction: 0.0034747640384872867, correction:0.0018645393489150005\n",
            "12[Vx]  no correction: 0.011982955475740355, correction:0.002001580764967772\n",
            "12[Vy]  no correction: 0.0032342250762420442, correction:0.0016860804398732769\n"
          ],
          "name": "stdout"
        },
        {
          "output_type": "stream",
          "text": [
            "\r  2%|▏         | 13/600 [07:15<5:16:43, 32.37s/it]"
          ],
          "name": "stderr"
        },
        {
          "output_type": "stream",
          "text": [
            "12[Vz]  no correction: 0.0036418879405086015, correction:0.0015575760257103754\n",
            "13[x]  no correction: 0.00255170106370611, correction:0.00021525980222688906\n",
            "13[y]  no correction: 0.009256885267482468, correction:0.0021694115130165277\n",
            "13[z]  no correction: 0.0045388393689079955, correction:0.0005694378026052015\n",
            "13[Vx]  no correction: 0.0020134088770664693, correction:0.000463729287691818\n",
            "13[Vy]  no correction: 0.0032859865573718035, correction:0.0005598828294392787\n"
          ],
          "name": "stdout"
        },
        {
          "output_type": "stream",
          "text": [
            "\r  2%|▏         | 14/600 [07:44<5:06:33, 31.39s/it]"
          ],
          "name": "stderr"
        },
        {
          "output_type": "stream",
          "text": [
            "13[Vz]  no correction: 0.003990270992787141, correction:0.0020018282721293566\n",
            "14[x]  no correction: 0.061064429810258176, correction:0.04277744688963689\n",
            "14[y]  no correction: 0.019142540744356836, correction:0.008419876447570036\n",
            "14[z]  no correction: 0.07066626864321726, correction:0.03673371195556929\n",
            "14[Vx]  no correction: 0.027314135256765775, correction:0.01535854200817197\n",
            "14[Vy]  no correction: 0.031229671208253262, correction:0.022464088850669427\n"
          ],
          "name": "stdout"
        },
        {
          "output_type": "stream",
          "text": [
            "\r  2%|▎         | 15/600 [08:05<4:33:10, 28.02s/it]"
          ],
          "name": "stderr"
        },
        {
          "output_type": "stream",
          "text": [
            "14[Vz]  no correction: 0.052124368444151976, correction:0.028594457906721868\n",
            "15[x]  no correction: 0.02442503444913969, correction:0.016055168496784525\n",
            "15[y]  no correction: 0.010486616681330177, correction:0.015701491483415285\n",
            "15 y does not work\n",
            "15[z]  no correction: 0.021812384562674984, correction:0.017093186765573972\n",
            "15[Vx]  no correction: 0.01196039310998516, correction:0.016866754622563488\n",
            "15 Vx does not work\n",
            "15[Vy]  no correction: 0.009121751463542185, correction:0.016498578546905382\n",
            "15 Vy does not work\n"
          ],
          "name": "stdout"
        },
        {
          "output_type": "stream",
          "text": [
            "\r  3%|▎         | 16/600 [08:33<4:34:38, 28.22s/it]"
          ],
          "name": "stderr"
        },
        {
          "output_type": "stream",
          "text": [
            "15[Vz]  no correction: 0.026242134831735816, correction:0.033840180742338806\n",
            "15 Vz does not work\n",
            "16[x]  no correction: 0.05982249589893266, correction:0.01343563466869235\n",
            "16[y]  no correction: 0.02793605812639504, correction:0.06425828838130897\n",
            "16 y does not work\n",
            "16[z]  no correction: 0.023947722524687524, correction:0.02023737257705941\n",
            "16[Vx]  no correction: 0.014758198209773818, correction:0.02921735441594756\n",
            "16 Vx does not work\n",
            "16[Vy]  no correction: 0.036352134774715765, correction:0.021448989833644964\n"
          ],
          "name": "stdout"
        },
        {
          "output_type": "stream",
          "text": [
            "\r  3%|▎         | 17/600 [08:45<3:45:22, 23.19s/it]"
          ],
          "name": "stderr"
        },
        {
          "output_type": "stream",
          "text": [
            "16[Vz]  no correction: 0.02092923216598935, correction:0.01802639574254697\n",
            "17[x]  no correction: 0.003915764597934331, correction:0.0016953638734883922\n",
            "17[y]  no correction: 0.0023090777020684625, correction:0.0018438316077531564\n",
            "17[z]  no correction: 0.0015703742585646595, correction:0.0009384483471686908\n",
            "17[Vx]  no correction: 0.05792888127814252, correction:0.00906844469936372\n",
            "17[Vy]  no correction: 0.0024020534315415706, correction:0.0013456395624519178\n"
          ],
          "name": "stdout"
        },
        {
          "output_type": "stream",
          "text": [
            "\r  3%|▎         | 18/600 [09:18<4:15:44, 26.37s/it]"
          ],
          "name": "stderr"
        },
        {
          "output_type": "stream",
          "text": [
            "17[Vz]  no correction: 0.00607249685319445, correction:0.0020800679646882326\n",
            "18[x]  no correction: 0.0014211168216752012, correction:0.0013831456698564437\n",
            "18[y]  no correction: 0.018900055730492797, correction:0.004492274051769774\n",
            "18[z]  no correction: 0.002496845245995635, correction:0.0033862149497242613\n",
            "18 z does not work\n",
            "18[Vx]  no correction: 0.002254328143720483, correction:0.0020905121243017357\n",
            "18[Vy]  no correction: 0.0007489363860214922, correction:0.0028484582578770503\n",
            "18 Vy does not work\n"
          ],
          "name": "stdout"
        },
        {
          "output_type": "stream",
          "text": [
            "\r  3%|▎         | 19/600 [10:00<5:00:09, 31.00s/it]"
          ],
          "name": "stderr"
        },
        {
          "output_type": "stream",
          "text": [
            "18[Vz]  no correction: 0.0017463363867886402, correction:0.007386190869829122\n",
            "18 Vz does not work\n",
            "19[x]  no correction: 0.0029066778190300754, correction:0.00044103734052798827\n",
            "19[y]  no correction: 0.011189667557916819, correction:0.00046988896089543517\n",
            "19[z]  no correction: 0.0014909620879096312, correction:0.0005557651418221462\n",
            "19[Vx]  no correction: 0.001972925026762013, correction:0.0003089810375786805\n",
            "19[Vy]  no correction: 0.011396936765944768, correction:0.0007848348105759119\n"
          ],
          "name": "stdout"
        },
        {
          "output_type": "stream",
          "text": [
            "\r  3%|▎         | 20/600 [10:20<4:25:59, 27.52s/it]WARNING:fbprophet:Optimization terminated abnormally. Falling back to Newton.\n"
          ],
          "name": "stderr"
        },
        {
          "output_type": "stream",
          "text": [
            "19[Vz]  no correction: 0.0027610343832613444, correction:0.00041900172932655315\n",
            "20[x]  no correction: 0.1189836256485341, correction:0.10755134624582259\n",
            "20[y]  no correction: 0.11471827764211531, correction:0.049975951021977424\n",
            "20[z]  no correction: 0.20040828780809788, correction:0.15512583393612545\n"
          ],
          "name": "stdout"
        },
        {
          "output_type": "stream",
          "text": [
            "WARNING:fbprophet:Optimization terminated abnormally. Falling back to Newton.\n"
          ],
          "name": "stderr"
        },
        {
          "output_type": "stream",
          "text": [
            "20[Vx]  no correction: 0.10453551560478687, correction:0.23664673984024254\n",
            "20 Vx does not work\n",
            "20[Vy]  no correction: 0.6512199751981743, correction:0.5909337238410969\n"
          ],
          "name": "stdout"
        },
        {
          "output_type": "stream",
          "text": [
            "\r  4%|▎         | 21/600 [10:37<3:57:26, 24.61s/it]"
          ],
          "name": "stderr"
        },
        {
          "output_type": "stream",
          "text": [
            "20[Vz]  no correction: 0.5582220062156765, correction:0.5580986113377661\n",
            "21[x]  no correction: 0.06123258196328543, correction:0.014537305312428396\n",
            "21[y]  no correction: 0.05367661449101752, correction:0.029892392860002278\n",
            "21[z]  no correction: 0.13067958265987833, correction:0.03207929731145877\n",
            "21[Vx]  no correction: 0.07454123936158984, correction:0.06162044312110779\n",
            "21[Vy]  no correction: 0.0414711834241359, correction:0.03099135160542734\n"
          ],
          "name": "stdout"
        },
        {
          "output_type": "stream",
          "text": [
            "\r  4%|▎         | 22/600 [11:00<3:51:15, 24.01s/it]"
          ],
          "name": "stderr"
        },
        {
          "output_type": "stream",
          "text": [
            "21[Vz]  no correction: 0.13312665585487937, correction:0.03576629553371297\n"
          ],
          "name": "stdout"
        },
        {
          "output_type": "stream",
          "text": [
            "WARNING:fbprophet:Optimization terminated abnormally. Falling back to Newton.\n"
          ],
          "name": "stderr"
        },
        {
          "output_type": "stream",
          "text": [
            "22[x]  no correction: 0.2814366513743946, correction:0.12763438928287296\n",
            "22[y]  no correction: 0.09101449476493166, correction:0.07010748073250142\n"
          ],
          "name": "stdout"
        },
        {
          "output_type": "stream",
          "text": [
            "WARNING:fbprophet:Optimization terminated abnormally. Falling back to Newton.\n"
          ],
          "name": "stderr"
        },
        {
          "output_type": "stream",
          "text": [
            "22[z]  no correction: 0.30860285585476155, correction:0.09279357687300745\n",
            "22[Vx]  no correction: 0.263520869117027, correction:0.19464947505873234\n",
            "22[Vy]  no correction: 0.12377806947737068, correction:0.09215892015020428\n"
          ],
          "name": "stdout"
        },
        {
          "output_type": "stream",
          "text": [
            "\r  4%|▍         | 23/600 [11:28<4:01:13, 25.08s/it]"
          ],
          "name": "stderr"
        },
        {
          "output_type": "stream",
          "text": [
            "22[Vz]  no correction: 0.2984176878276573, correction:0.25160157780944065\n",
            "23[x]  no correction: 0.026645427524430505, correction:0.004051984092667422\n",
            "23[y]  no correction: 0.013226703898685223, correction:0.004571150342665075\n",
            "23[z]  no correction: 0.0329474208231554, correction:0.005527200980021603\n",
            "23[Vx]  no correction: 0.007821541822019768, correction:0.0029930663523871194\n",
            "23[Vy]  no correction: 0.010027267366239859, correction:0.002988232905474989\n"
          ],
          "name": "stdout"
        },
        {
          "output_type": "stream",
          "text": [
            "\r  4%|▍         | 24/600 [11:40<3:24:04, 21.26s/it]"
          ],
          "name": "stderr"
        },
        {
          "output_type": "stream",
          "text": [
            "23[Vz]  no correction: 0.014314362241620788, correction:0.0021722771398396544\n",
            "24[x]  no correction: 0.00119998546540475, correction:0.002756124922212847\n",
            "24 x does not work\n",
            "24[y]  no correction: 0.002519921631214658, correction:0.0016950445218862813\n",
            "24[z]  no correction: 0.02149930696043329, correction:0.015057127761608027\n",
            "24[Vx]  no correction: 0.03408170918539628, correction:0.005306716268626885\n",
            "24[Vy]  no correction: 0.022896943885360954, correction:0.009793946199345501\n"
          ],
          "name": "stdout"
        },
        {
          "output_type": "stream",
          "text": [
            "\r  4%|▍         | 25/600 [12:00<3:21:23, 21.02s/it]"
          ],
          "name": "stderr"
        },
        {
          "output_type": "stream",
          "text": [
            "24[Vz]  no correction: 0.0014780637341829058, correction:0.003184274388680741\n",
            "24 Vz does not work\n",
            "25[x]  no correction: 0.0012054883665223943, correction:0.0017202560720541893\n",
            "25 x does not work\n",
            "25[y]  no correction: 0.0016768959036729412, correction:0.0017187955293610604\n",
            "25 y does not work\n",
            "25[z]  no correction: 0.0029556706616563227, correction:0.0013401320208663269\n",
            "25[Vx]  no correction: 0.002081548814271426, correction:0.001762544928631624\n",
            "25[Vy]  no correction: 0.002439334856632743, correction:0.0016541594697409207\n"
          ],
          "name": "stdout"
        },
        {
          "output_type": "stream",
          "text": [
            "\r  4%|▍         | 26/600 [12:25<3:32:13, 22.18s/it]"
          ],
          "name": "stderr"
        },
        {
          "output_type": "stream",
          "text": [
            "25[Vz]  no correction: 0.0021921274617650896, correction:0.002028813680266633\n",
            "26[x]  no correction: 0.47069386064513064, correction:0.7651931050178257\n",
            "26 x does not work\n",
            "26[y]  no correction: 0.3332421990504919, correction:0.8188407677175675\n",
            "26 y does not work\n",
            "26[z]  no correction: 0.4302076226189574, correction:0.8484320660059113\n",
            "26 z does not work\n",
            "26[Vx]  no correction: 0.3307855838835005, correction:0.9621938059131862\n",
            "26 Vx does not work\n",
            "26[Vy]  no correction: 0.3362499732043359, correction:0.8854603075252228\n",
            "26 Vy does not work\n"
          ],
          "name": "stdout"
        },
        {
          "output_type": "stream",
          "text": [
            "\r  4%|▍         | 27/600 [14:52<9:29:25, 59.63s/it]"
          ],
          "name": "stderr"
        },
        {
          "output_type": "stream",
          "text": [
            "26[Vz]  no correction: 0.285022649514767, correction:0.9332014229505482\n",
            "26 Vz does not work\n",
            "27[x]  no correction: 0.010419931945129567, correction:0.0010909453566196167\n",
            "27[y]  no correction: 0.0056612018635412, correction:0.000474993919984334\n",
            "27[z]  no correction: 0.003616121464933688, correction:0.0008793602501475415\n",
            "27[Vx]  no correction: 0.03569652755228486, correction:0.01531994992148791\n",
            "27[Vy]  no correction: 0.03994691976298024, correction:0.005372972487424386\n"
          ],
          "name": "stdout"
        },
        {
          "output_type": "stream",
          "text": [
            "\r  5%|▍         | 28/600 [15:36<8:41:59, 54.75s/it]"
          ],
          "name": "stderr"
        },
        {
          "output_type": "stream",
          "text": [
            "27[Vz]  no correction: 0.040599352447829924, correction:0.005572659212937413\n",
            "28[x]  no correction: 0.32161013202763017, correction:0.129071637915262\n",
            "28[y]  no correction: 0.14330652978212885, correction:0.0795096827858001\n",
            "28[z]  no correction: 0.36690490208481197, correction:0.2545313385099637\n",
            "28[Vx]  no correction: 0.25338032288877166, correction:0.18928131880658555\n",
            "28[Vy]  no correction: 0.16192591015892188, correction:0.11191265742261469\n"
          ],
          "name": "stdout"
        },
        {
          "output_type": "stream",
          "text": [
            "\r  5%|▍         | 29/600 [15:54<6:56:50, 43.80s/it]"
          ],
          "name": "stderr"
        },
        {
          "output_type": "stream",
          "text": [
            "28[Vz]  no correction: 0.368505226130695, correction:0.1967232449050441\n",
            "29[x]  no correction: 0.016125508006037192, correction:0.0011641965978635988\n",
            "29[y]  no correction: 0.02495079938919443, correction:0.0011123514674761827\n",
            "29[z]  no correction: 0.016703729986084836, correction:0.0032194825510976723\n",
            "29[Vx]  no correction: 0.6699312966306789, correction:0.6108574846297915\n",
            "29[Vy]  no correction: 0.03563329870954734, correction:0.006662653997009123\n"
          ],
          "name": "stdout"
        },
        {
          "output_type": "stream",
          "text": [
            "\r  5%|▌         | 30/600 [16:14<5:47:32, 36.58s/it]"
          ],
          "name": "stderr"
        },
        {
          "output_type": "stream",
          "text": [
            "29[Vz]  no correction: 0.016659658041920055, correction:0.0036762967003831446\n",
            "30[x]  no correction: 0.0004894532167627696, correction:0.0006711254714062806\n",
            "30 x does not work\n",
            "30[y]  no correction: 0.0006618917546040985, correction:0.0006270138550952786\n",
            "30[z]  no correction: 0.003268639222697476, correction:0.000813515253348569\n",
            "30[Vx]  no correction: 0.0002034941059285771, correction:0.000540596251055612\n",
            "30 Vx does not work\n",
            "30[Vy]  no correction: 0.00031370087520737, correction:0.0006012461708855714\n",
            "30 Vy does not work\n"
          ],
          "name": "stdout"
        },
        {
          "output_type": "stream",
          "text": [
            "\r  5%|▌         | 31/600 [16:46<5:34:00, 35.22s/it]"
          ],
          "name": "stderr"
        },
        {
          "output_type": "stream",
          "text": [
            "30[Vz]  no correction: 0.002463344885112638, correction:0.00024808471721090685\n",
            "31[x]  no correction: 0.2087327833139838, correction:0.12695151411663855\n",
            "31[y]  no correction: 0.11418861386430669, correction:0.05604904361037922\n",
            "31[z]  no correction: 0.24688984227051136, correction:0.07072306663901055\n",
            "31[Vx]  no correction: 0.19925440490923751, correction:0.13956792722180367\n"
          ],
          "name": "stdout"
        },
        {
          "output_type": "stream",
          "text": [
            "WARNING:fbprophet:Optimization terminated abnormally. Falling back to Newton.\n"
          ],
          "name": "stderr"
        },
        {
          "output_type": "stream",
          "text": [
            "31[Vy]  no correction: 0.11644038809349586, correction:0.10477146906270757\n"
          ],
          "name": "stdout"
        },
        {
          "output_type": "stream",
          "text": [
            "\r  5%|▌         | 32/600 [17:07<4:54:26, 31.10s/it]"
          ],
          "name": "stderr"
        },
        {
          "output_type": "stream",
          "text": [
            "31[Vz]  no correction: 0.20680565873122217, correction:0.15057497321181992\n",
            "32[x]  no correction: 0.04365616144386877, correction:0.005162385564628327\n",
            "32[y]  no correction: 0.01341406034469544, correction:0.0050150377070929475\n",
            "32[z]  no correction: 0.05676765782828476, correction:0.008320005246927168\n",
            "32[Vx]  no correction: 0.05998557688579679, correction:0.008602811788023482\n",
            "32[Vy]  no correction: 0.021370212291164235, correction:0.006708316998636306\n"
          ],
          "name": "stdout"
        },
        {
          "output_type": "stream",
          "text": [
            "\r  6%|▌         | 33/600 [17:26<4:17:55, 27.29s/it]"
          ],
          "name": "stderr"
        },
        {
          "output_type": "stream",
          "text": [
            "32[Vz]  no correction: 0.06953906893434277, correction:0.01452220554860846\n",
            "33[x]  no correction: 0.0008058165438415596, correction:0.00011453195695538003\n",
            "33[y]  no correction: 0.024944763244943508, correction:0.011005122959385601\n",
            "33[z]  no correction: 0.00845158887190029, correction:0.0008600477143443137\n",
            "33[Vx]  no correction: 0.0005467439393229331, correction:0.0002607094518025647\n",
            "33[Vy]  no correction: 0.04831350063812432, correction:0.027061983349567886\n"
          ],
          "name": "stdout"
        },
        {
          "output_type": "stream",
          "text": [
            "\r  6%|▌         | 34/600 [17:52<4:14:13, 26.95s/it]"
          ],
          "name": "stderr"
        },
        {
          "output_type": "stream",
          "text": [
            "33[Vz]  no correction: 0.0014392256218970691, correction:0.00020497146955069116\n",
            "34[x]  no correction: 0.03755076216429738, correction:0.0018922571840438163\n",
            "34[y]  no correction: 0.0041492202815028205, correction:0.002093495228743986\n",
            "34[z]  no correction: 0.010316410713762138, correction:0.0009018596085069635\n",
            "34[Vx]  no correction: 0.004855567275729759, correction:0.00038732468781537115\n",
            "34[Vy]  no correction: 0.0032959992060798077, correction:0.001689332967794348\n"
          ],
          "name": "stdout"
        },
        {
          "output_type": "stream",
          "text": [
            "\r  6%|▌         | 35/600 [18:23<4:25:01, 28.14s/it]"
          ],
          "name": "stderr"
        },
        {
          "output_type": "stream",
          "text": [
            "34[Vz]  no correction: 0.003396333117610209, correction:0.0017724657459608703\n",
            "35[x]  no correction: 0.6820345912451603, correction:0.16124112882283115\n",
            "35[y]  no correction: 0.3829694092558852, correction:0.23751177591386785\n"
          ],
          "name": "stdout"
        },
        {
          "output_type": "stream",
          "text": [
            "WARNING:fbprophet:Optimization terminated abnormally. Falling back to Newton.\n"
          ],
          "name": "stderr"
        },
        {
          "output_type": "stream",
          "text": [
            "35[z]  no correction: 0.6014605142676458, correction:0.24663248806795576\n",
            "35[Vx]  no correction: 0.5860597326433518, correction:0.42034632307637515\n"
          ],
          "name": "stdout"
        },
        {
          "output_type": "stream",
          "text": [
            "WARNING:fbprophet:Optimization terminated abnormally. Falling back to Newton.\n"
          ],
          "name": "stderr"
        },
        {
          "output_type": "stream",
          "text": [
            "35[Vy]  no correction: 0.33594711202124083, correction:0.31274160656432\n"
          ],
          "name": "stdout"
        },
        {
          "output_type": "stream",
          "text": [
            "\r  6%|▌         | 36/600 [18:50<4:22:41, 27.95s/it]"
          ],
          "name": "stderr"
        },
        {
          "output_type": "stream",
          "text": [
            "35[Vz]  no correction: 0.5635243577594116, correction:0.37548199358133555\n",
            "36[x]  no correction: 0.0035120303613746483, correction:0.0034166998121153945\n",
            "36[y]  no correction: 0.006441616265642247, correction:0.004584024527379627\n",
            "36[z]  no correction: 0.0035443896287145954, correction:0.0011544838733458746\n",
            "36[Vx]  no correction: 0.0018016853350318982, correction:0.001109481972460422\n",
            "36[Vy]  no correction: 0.0052537269133601525, correction:0.0025464227639043924\n"
          ],
          "name": "stdout"
        },
        {
          "output_type": "stream",
          "text": [
            "\r  6%|▌         | 37/600 [19:23<4:34:58, 29.31s/it]"
          ],
          "name": "stderr"
        },
        {
          "output_type": "stream",
          "text": [
            "36[Vz]  no correction: 0.0006804609811341797, correction:0.0002893229417115461\n",
            "37[x]  no correction: 0.40913244950370414, correction:0.4509867479617124\n",
            "37 x does not work\n",
            "37[y]  no correction: 0.3443911242686668, correction:0.4030422746285078\n",
            "37 y does not work\n",
            "37[z]  no correction: 0.41648224239550236, correction:0.4472785381934638\n",
            "37 z does not work\n",
            "37[Vx]  no correction: 0.3368070376237556, correction:0.4660812746991575\n",
            "37 Vx does not work\n",
            "37[Vy]  no correction: 0.4048637678405158, correction:0.5202398892388311\n",
            "37 Vy does not work\n"
          ],
          "name": "stdout"
        },
        {
          "output_type": "stream",
          "text": [
            "\r  6%|▋         | 38/600 [19:48<4:23:55, 28.18s/it]"
          ],
          "name": "stderr"
        },
        {
          "output_type": "stream",
          "text": [
            "37[Vz]  no correction: 0.3554960069198919, correction:0.45233186010330284\n",
            "37 Vz does not work\n",
            "38[x]  no correction: 0.022759674796291034, correction:0.00048224469277546037\n",
            "38[y]  no correction: 0.018163392632066764, correction:0.0005311186697808441\n",
            "38[z]  no correction: 0.0745550499462444, correction:0.0012921255569667439\n",
            "38[Vx]  no correction: 0.017178693223347082, correction:0.0002691117286733625\n",
            "38[Vy]  no correction: 0.017337340878646273, correction:0.00013605114098649677\n"
          ],
          "name": "stdout"
        },
        {
          "output_type": "stream",
          "text": [
            "\r  6%|▋         | 39/600 [20:36<5:18:35, 34.07s/it]"
          ],
          "name": "stderr"
        },
        {
          "output_type": "stream",
          "text": [
            "38[Vz]  no correction: 0.02998890070736662, correction:0.0005941944777930967\n",
            "39[x]  no correction: 0.01159966573964488, correction:0.0005596001378138152\n",
            "39[y]  no correction: 0.012796663897351544, correction:0.001421309462302253\n",
            "39[z]  no correction: 0.011748255391193767, correction:0.0008218212610298846\n",
            "39[Vx]  no correction: 0.0027720474819309723, correction:0.0015425144913974716\n",
            "39[Vy]  no correction: 0.009486919917131966, correction:0.004074963872577867\n"
          ],
          "name": "stdout"
        },
        {
          "output_type": "stream",
          "text": [
            "\r  7%|▋         | 40/600 [20:59<4:47:38, 30.82s/it]"
          ],
          "name": "stderr"
        },
        {
          "output_type": "stream",
          "text": [
            "39[Vz]  no correction: 0.004079326941959353, correction:0.0006797522396182818\n",
            "40[x]  no correction: 0.00375535417099563, correction:0.0004454852625566042\n",
            "40[y]  no correction: 0.004121223771740581, correction:0.0004498049348178517\n",
            "40[z]  no correction: 0.0068090247339903966, correction:0.0004506595418423264\n",
            "40[Vx]  no correction: 0.0023373607387029596, correction:0.000398136353644077\n",
            "40[Vy]  no correction: 0.002090123043331676, correction:0.0005007956838070645\n"
          ],
          "name": "stdout"
        },
        {
          "output_type": "stream",
          "text": [
            "\r  7%|▋         | 41/600 [21:25<4:32:30, 29.25s/it]"
          ],
          "name": "stderr"
        },
        {
          "output_type": "stream",
          "text": [
            "40[Vz]  no correction: 0.0036322044281832744, correction:0.00024255846205830856\n",
            "41[x]  no correction: 0.0049852860493539534, correction:0.001183819045522102\n",
            "41[y]  no correction: 0.009774812171374785, correction:0.006336422178464029\n",
            "41[z]  no correction: 0.013405674037704176, correction:0.00986470183810557\n",
            "41[Vx]  no correction: 0.0012482902041964007, correction:0.000788876955386217\n",
            "41[Vy]  no correction: 0.005808581938151293, correction:0.004222862012114387\n"
          ],
          "name": "stdout"
        },
        {
          "output_type": "stream",
          "text": [
            "\r  7%|▋         | 42/600 [21:50<4:21:30, 28.12s/it]"
          ],
          "name": "stderr"
        },
        {
          "output_type": "stream",
          "text": [
            "41[Vz]  no correction: 0.007893612219830492, correction:0.005481425706643379\n",
            "42[x]  no correction: 0.010586873070438438, correction:0.0007833678672014809\n",
            "42[y]  no correction: 0.0029515714892272152, correction:0.000987709137899002\n",
            "42[z]  no correction: 0.003352098435306211, correction:0.0019745889180734152\n",
            "42[Vx]  no correction: 0.04621750076536505, correction:0.009983012113025935\n",
            "42[Vy]  no correction: 0.0028894014333704456, correction:0.0012756214815086036\n"
          ],
          "name": "stdout"
        },
        {
          "output_type": "stream",
          "text": [
            "\r  7%|▋         | 43/600 [22:15<4:11:17, 27.07s/it]"
          ],
          "name": "stderr"
        },
        {
          "output_type": "stream",
          "text": [
            "42[Vz]  no correction: 0.0017725540948968646, correction:0.0005761686514387218\n",
            "43[x]  no correction: 0.007107270901747631, correction:0.001067126086445774\n",
            "43[y]  no correction: 0.005613856965315755, correction:0.001458229330714732\n",
            "43[z]  no correction: 0.004555760903122312, correction:0.0015643655692697796\n",
            "43[Vx]  no correction: 0.009395354031889121, correction:0.0014478089045530473\n",
            "43[Vy]  no correction: 0.004907981581312931, correction:0.0017226926811494396\n"
          ],
          "name": "stdout"
        },
        {
          "output_type": "stream",
          "text": [
            "\r  7%|▋         | 44/600 [22:35<3:50:24, 24.86s/it]"
          ],
          "name": "stderr"
        },
        {
          "output_type": "stream",
          "text": [
            "43[Vz]  no correction: 0.002375384809469935, correction:0.0018027429037898383\n",
            "44[x]  no correction: 0.0031704116679681965, correction:0.0025247472491712894\n",
            "44[y]  no correction: 0.006078659327891744, correction:0.005262347411357393\n",
            "44[z]  no correction: 0.003619004234357256, correction:0.002982794138054409\n",
            "44[Vx]  no correction: 0.00950071052383218, correction:0.008750621395361431\n",
            "44[Vy]  no correction: 0.006890696315284716, correction:0.006400182340042883\n"
          ],
          "name": "stdout"
        },
        {
          "output_type": "stream",
          "text": [
            "\r  8%|▊         | 45/600 [23:09<4:15:56, 27.67s/it]"
          ],
          "name": "stderr"
        },
        {
          "output_type": "stream",
          "text": [
            "44[Vz]  no correction: 0.013291962478042764, correction:0.010915092064812058\n",
            "45[x]  no correction: 0.016224054717284275, correction:0.006217790944484544\n",
            "45[y]  no correction: 0.0058601182519619184, correction:0.006481741894481483\n",
            "45 y does not work\n",
            "45[z]  no correction: 0.00935032142942741, correction:0.004366057654703128\n",
            "45[Vx]  no correction: 0.01979531802006216, correction:0.007585812858480828\n",
            "45[Vy]  no correction: 0.019798610695177084, correction:0.023427706481303854\n",
            "45 Vy does not work\n"
          ],
          "name": "stdout"
        },
        {
          "output_type": "stream",
          "text": [
            "\r  8%|▊         | 46/600 [23:27<3:49:39, 24.87s/it]"
          ],
          "name": "stderr"
        },
        {
          "output_type": "stream",
          "text": [
            "45[Vz]  no correction: 0.006971431749737425, correction:0.0036625602724210653\n",
            "46[x]  no correction: 0.10898103937223004, correction:0.015218963885301346\n",
            "46[y]  no correction: 0.026826849427729664, correction:0.00602164041534012\n",
            "46[z]  no correction: 0.0516624065253591, correction:0.00720790476872002\n",
            "46[Vx]  no correction: 0.07272587341175325, correction:0.0064637116785781455\n",
            "46[Vy]  no correction: 0.04657736122459182, correction:0.012137842458006427\n"
          ],
          "name": "stdout"
        },
        {
          "output_type": "stream",
          "text": [
            "\r  8%|▊         | 47/600 [23:48<3:37:35, 23.61s/it]"
          ],
          "name": "stderr"
        },
        {
          "output_type": "stream",
          "text": [
            "46[Vz]  no correction: 0.051878710566370285, correction:0.015669920070383966\n",
            "47[x]  no correction: 0.0013317726698188468, correction:0.000368184707160822\n",
            "47[y]  no correction: 0.00605559152777768, correction:0.0010161621774904207\n",
            "47[z]  no correction: 0.0040861580353942165, correction:0.001189364519055503\n",
            "47[Vx]  no correction: 0.0037315988275237917, correction:0.0016692672643260533\n",
            "47[Vy]  no correction: 0.007844469595328628, correction:0.0011376562947664859\n"
          ],
          "name": "stdout"
        },
        {
          "output_type": "stream",
          "text": [
            "\r  8%|▊         | 48/600 [24:19<3:58:12, 25.89s/it]"
          ],
          "name": "stderr"
        },
        {
          "output_type": "stream",
          "text": [
            "47[Vz]  no correction: 0.0025210844766620005, correction:0.003969495619764965\n",
            "47 Vz does not work\n",
            "48[x]  no correction: 0.0013526904902134863, correction:0.0004048886878438319\n",
            "48[y]  no correction: 0.024617073916020162, correction:0.0008450511166477525\n",
            "48[z]  no correction: 0.00115861933498175, correction:0.0004904580843658169\n",
            "48[Vx]  no correction: 0.01126250042104698, correction:0.000995328934489873\n",
            "48[Vy]  no correction: 0.007229476549582672, correction:0.00043315376058727744\n"
          ],
          "name": "stdout"
        },
        {
          "output_type": "stream",
          "text": [
            "\r  8%|▊         | 49/600 [24:47<4:04:18, 26.60s/it]"
          ],
          "name": "stderr"
        },
        {
          "output_type": "stream",
          "text": [
            "48[Vz]  no correction: 0.0012015128718622164, correction:0.0005089951653123356\n",
            "49[x]  no correction: 0.007525074597067742, correction:0.00045528498424564335\n",
            "49[y]  no correction: 0.049283802998715806, correction:0.0029169186332302305\n",
            "49[z]  no correction: 0.010873078068945118, correction:0.004909015605900366\n",
            "49[Vx]  no correction: 0.005280757808893325, correction:0.001155981100167308\n",
            "49[Vy]  no correction: 0.01991462865830454, correction:0.0005411464824727914\n"
          ],
          "name": "stdout"
        },
        {
          "output_type": "stream",
          "text": [
            "\r  8%|▊         | 50/600 [25:44<5:26:37, 35.63s/it]"
          ],
          "name": "stderr"
        },
        {
          "output_type": "stream",
          "text": [
            "49[Vz]  no correction: 0.00819205415626603, correction:0.0005497097851796929\n",
            "50[x]  no correction: 0.0078239353585964, correction:0.007462635824905893\n",
            "50[y]  no correction: 0.01732456545719881, correction:0.011313404808684825\n",
            "50[z]  no correction: 0.014940941603634699, correction:0.012224800427759783\n",
            "50[Vx]  no correction: 0.053556347005187924, correction:0.036632651535931045\n",
            "50[Vy]  no correction: 0.025180505720126596, correction:0.016789496704184732\n"
          ],
          "name": "stdout"
        },
        {
          "output_type": "stream",
          "text": [
            "\r  8%|▊         | 51/600 [26:06<4:49:00, 31.59s/it]"
          ],
          "name": "stderr"
        },
        {
          "output_type": "stream",
          "text": [
            "50[Vz]  no correction: 0.007938279623042582, correction:0.008012141477320047\n",
            "50 Vz does not work\n",
            "51[x]  no correction: 0.05181252189081561, correction:0.0020829974162232543\n",
            "51[y]  no correction: 0.006323592626258773, correction:0.0007787884604075123\n",
            "51[z]  no correction: 0.007605081370037166, correction:0.0005911011197582343\n",
            "51[Vx]  no correction: 0.014238074960360022, correction:0.0008405930853093419\n",
            "51[Vy]  no correction: 0.009601865970582227, correction:0.0010663362671555713\n"
          ],
          "name": "stdout"
        },
        {
          "output_type": "stream",
          "text": [
            "\r  9%|▊         | 52/600 [27:04<6:00:29, 39.47s/it]"
          ],
          "name": "stderr"
        },
        {
          "output_type": "stream",
          "text": [
            "51[Vz]  no correction: 0.014709186372303208, correction:0.002002937802135974\n",
            "52[x]  no correction: 0.11578922923979672, correction:0.09654250799864558\n",
            "52[y]  no correction: 0.13756937204852301, correction:0.054968949715410095\n",
            "52[z]  no correction: 0.10075302780785063, correction:0.052563572830409605\n",
            "52[Vx]  no correction: 0.10887487958326507, correction:0.08181254179757451\n",
            "52[Vy]  no correction: 0.11851338815833051, correction:0.08797485719021757\n"
          ],
          "name": "stdout"
        },
        {
          "output_type": "stream",
          "text": [
            "\r  9%|▉         | 53/600 [27:22<4:59:51, 32.89s/it]"
          ],
          "name": "stderr"
        },
        {
          "output_type": "stream",
          "text": [
            "52[Vz]  no correction: 0.13141700978174303, correction:0.09765541030921598\n",
            "53[x]  no correction: 0.0015992613072388809, correction:0.00010514616064676645\n",
            "53[y]  no correction: 0.0012766549948038221, correction:0.00012518432676371185\n",
            "53[z]  no correction: 0.005191381812445572, correction:0.00029312933788653894\n",
            "53[Vx]  no correction: 0.0009608718500957902, correction:0.00016405247289479486\n",
            "53[Vy]  no correction: 0.003749180678067929, correction:0.0002703572646909354\n"
          ],
          "name": "stdout"
        },
        {
          "output_type": "stream",
          "text": [
            "\r  9%|▉         | 54/600 [28:06<5:30:11, 36.28s/it]"
          ],
          "name": "stderr"
        },
        {
          "output_type": "stream",
          "text": [
            "53[Vz]  no correction: 0.0007200809070854498, correction:0.0002455557623102257\n",
            "54[x]  no correction: 0.32871123760192217, correction:0.07851855337532793\n",
            "54[y]  no correction: 0.18215345804200947, correction:0.1546375081835157\n",
            "54[z]  no correction: 0.3474492015923219, correction:0.08407457506606265\n",
            "54[Vx]  no correction: 0.30144081954993635, correction:0.23079953252852142\n",
            "54[Vy]  no correction: 0.17288589969665524, correction:0.12213831030803322\n"
          ],
          "name": "stdout"
        },
        {
          "output_type": "stream",
          "text": [
            "\r  9%|▉         | 55/600 [28:33<5:03:44, 33.44s/it]"
          ],
          "name": "stderr"
        },
        {
          "output_type": "stream",
          "text": [
            "54[Vz]  no correction: 0.3134834437138852, correction:0.22908546143028385\n",
            "55[x]  no correction: 0.06299071956539325, correction:0.0036679451053436675\n",
            "55[y]  no correction: 0.016506071538287145, correction:0.0009949863909861569\n",
            "55[z]  no correction: 0.026969190938011978, correction:0.0005562532295138009\n",
            "55[Vx]  no correction: 0.0429010034168573, correction:0.0008922716429476927\n",
            "55[Vy]  no correction: 0.018561502718602255, correction:0.0008124206034095537\n"
          ],
          "name": "stdout"
        },
        {
          "output_type": "stream",
          "text": [
            "\r  9%|▉         | 56/600 [29:19<5:37:41, 37.25s/it]"
          ],
          "name": "stderr"
        },
        {
          "output_type": "stream",
          "text": [
            "55[Vz]  no correction: 0.02602131870250959, correction:0.0006110912245666571\n",
            "56[x]  no correction: 0.27606274705784073, correction:0.033715998870204315\n",
            "56[y]  no correction: 0.23402118018347104, correction:0.07755071192552512\n",
            "56[z]  no correction: 0.12499597026836805, correction:0.025612205297814675\n",
            "56[Vx]  no correction: 0.21263183351265166, correction:0.08010005119821204\n",
            "56[Vy]  no correction: 0.21455150313324822, correction:0.055387648225144206\n"
          ],
          "name": "stdout"
        },
        {
          "output_type": "stream",
          "text": [
            "\r 10%|▉         | 57/600 [29:39<4:50:13, 32.07s/it]"
          ],
          "name": "stderr"
        },
        {
          "output_type": "stream",
          "text": [
            "56[Vz]  no correction: 0.16889165690776414, correction:0.06694035494257221\n",
            "57[x]  no correction: 0.006313271474353764, correction:0.00011810066626967052\n",
            "57[y]  no correction: 0.005597393465782489, correction:0.0002247538172407651\n",
            "57[z]  no correction: 0.014484831176289707, correction:0.0014766407242181112\n",
            "57[Vx]  no correction: 0.006159273375336404, correction:9.981492864559809e-05\n",
            "57[Vy]  no correction: 0.00837782078868868, correction:0.0003474973033836192\n"
          ],
          "name": "stdout"
        },
        {
          "output_type": "stream",
          "text": [
            "\r 10%|▉         | 58/600 [30:44<6:20:26, 42.12s/it]"
          ],
          "name": "stderr"
        },
        {
          "output_type": "stream",
          "text": [
            "57[Vz]  no correction: 0.007615076190657549, correction:0.0003208071429402382\n",
            "58[x]  no correction: 0.011245782930556574, correction:0.004181308683296111\n",
            "58[y]  no correction: 0.001571326850373413, correction:0.0006684815903159073\n",
            "58[z]  no correction: 0.0030226100198220735, correction:0.0013964780084855684\n",
            "58[Vx]  no correction: 0.0035120570068511406, correction:0.0015469703437764111\n",
            "58[Vy]  no correction: 0.001048021712422089, correction:0.0008068312771671072\n"
          ],
          "name": "stdout"
        },
        {
          "output_type": "stream",
          "text": [
            "\r 10%|▉         | 59/600 [31:03<5:16:07, 35.06s/it]"
          ],
          "name": "stderr"
        },
        {
          "output_type": "stream",
          "text": [
            "58[Vz]  no correction: 0.0012453382373175407, correction:0.0007623764267243828\n",
            "59[x]  no correction: 0.0010077668999520877, correction:0.0006840645325960061\n",
            "59[y]  no correction: 0.0002190124385933922, correction:0.0011328152312117207\n",
            "59 y does not work\n",
            "59[z]  no correction: 0.000948258128172371, correction:0.0004543787728323114\n",
            "59[Vx]  no correction: 0.001174509340153045, correction:0.0018350552920591335\n",
            "59 Vx does not work\n",
            "59[Vy]  no correction: 0.0004773215385236319, correction:0.00042386058705288625\n"
          ],
          "name": "stdout"
        },
        {
          "output_type": "stream",
          "text": [
            "\r 10%|█         | 60/600 [31:36<5:11:25, 34.60s/it]"
          ],
          "name": "stderr"
        },
        {
          "output_type": "stream",
          "text": [
            "59[Vz]  no correction: 0.0004040085295803874, correction:0.00045314155547812417\n",
            "59 Vz does not work\n",
            "60[x]  no correction: 0.040317174523180344, correction:0.02487162247483949\n",
            "60[y]  no correction: 0.07282809373181713, correction:0.0274607682721018\n",
            "60[z]  no correction: 0.06506017037341211, correction:0.02158955979582746\n",
            "60[Vx]  no correction: 0.04068829925940756, correction:0.0351025524353225\n",
            "60[Vy]  no correction: 0.03713557446009807, correction:0.029510035038493213\n"
          ],
          "name": "stdout"
        },
        {
          "output_type": "stream",
          "text": [
            "\r 10%|█         | 61/600 [32:11<5:10:50, 34.60s/it]"
          ],
          "name": "stderr"
        },
        {
          "output_type": "stream",
          "text": [
            "60[Vz]  no correction: 0.0408884884867725, correction:0.031771072664107225\n",
            "61[x]  no correction: 0.026232048482306657, correction:0.002515195100898624\n",
            "61[y]  no correction: 0.06389993803908119, correction:0.005953124129374483\n"
          ],
          "name": "stdout"
        },
        {
          "output_type": "stream",
          "text": [
            "WARNING:fbprophet:Optimization terminated abnormally. Falling back to Newton.\n"
          ],
          "name": "stderr"
        },
        {
          "output_type": "stream",
          "text": [
            "61[z]  no correction: 0.05543723136530814, correction:0.004244180995531612\n",
            "61[Vx]  no correction: 0.020660109999548575, correction:0.02101674826279422\n",
            "61 Vx does not work\n"
          ],
          "name": "stdout"
        },
        {
          "output_type": "stream",
          "text": [
            "WARNING:fbprophet:Optimization terminated abnormally. Falling back to Newton.\n"
          ],
          "name": "stderr"
        },
        {
          "output_type": "stream",
          "text": [
            "61[Vy]  no correction: 0.018302254317244207, correction:0.0031756305571424897\n"
          ],
          "name": "stdout"
        },
        {
          "output_type": "stream",
          "text": [
            "\r 10%|█         | 62/600 [32:43<5:02:36, 33.75s/it]"
          ],
          "name": "stderr"
        },
        {
          "output_type": "stream",
          "text": [
            "61[Vz]  no correction: 0.050147066782355296, correction:0.013774367331056903\n",
            "62[x]  no correction: 0.0024911559890927874, correction:0.0005317728653997286\n",
            "62[y]  no correction: 0.002206136081712355, correction:0.0006374310485975097\n",
            "62[z]  no correction: 0.004261479925015503, correction:0.0005638938587033915\n",
            "62[Vx]  no correction: 0.004302117624049026, correction:0.0021863380498466996\n",
            "62[Vy]  no correction: 0.002815182566167369, correction:0.0004399946079548978\n"
          ],
          "name": "stdout"
        },
        {
          "output_type": "stream",
          "text": [
            "\r 10%|█         | 63/600 [33:01<4:20:18, 29.08s/it]"
          ],
          "name": "stderr"
        },
        {
          "output_type": "stream",
          "text": [
            "62[Vz]  no correction: 0.0054090697570389305, correction:0.0008163674449384623\n",
            "63[x]  no correction: 0.03988042615609896, correction:0.0007778671886117441\n",
            "63[y]  no correction: 0.025426360658851267, correction:0.0012276817890636352\n",
            "63[z]  no correction: 0.08867605818396769, correction:0.014312810160087132\n",
            "63[Vx]  no correction: 0.060486560074020854, correction:0.004456840158230268\n",
            "63[Vy]  no correction: 0.021205598056318692, correction:0.0011584953953215915\n"
          ],
          "name": "stdout"
        },
        {
          "output_type": "stream",
          "text": [
            "\r 11%|█         | 64/600 [34:20<6:34:11, 44.13s/it]"
          ],
          "name": "stderr"
        },
        {
          "output_type": "stream",
          "text": [
            "63[Vz]  no correction: 0.054219943041849496, correction:0.005689949970932044\n",
            "64[x]  no correction: 0.06309730813137135, correction:0.027655011558350057\n",
            "64[y]  no correction: 0.0409863844071582, correction:0.015596160448207531\n",
            "64[z]  no correction: 0.06653670713205324, correction:0.01564752671464891\n",
            "64[Vx]  no correction: 0.062058024417880636, correction:0.028194014569466925\n",
            "64[Vy]  no correction: 0.03984425297236457, correction:0.04704086007561101\n",
            "64 Vy does not work\n"
          ],
          "name": "stdout"
        },
        {
          "output_type": "stream",
          "text": [
            "\r 11%|█         | 65/600 [34:32<5:06:29, 34.37s/it]"
          ],
          "name": "stderr"
        },
        {
          "output_type": "stream",
          "text": [
            "64[Vz]  no correction: 0.10604505236929002, correction:0.052819535126365016\n",
            "65[x]  no correction: 0.003667901993840539, correction:0.00042002472752065826\n",
            "65[y]  no correction: 0.003758267100221287, correction:0.0005491046151306264\n",
            "65[z]  no correction: 0.004168105546039889, correction:0.0003317275172445804\n",
            "65[Vx]  no correction: 0.014293230073794447, correction:0.006439639220650421\n",
            "65[Vy]  no correction: 0.0019364619186254771, correction:0.00040301055400600365\n"
          ],
          "name": "stdout"
        },
        {
          "output_type": "stream",
          "text": [
            "\r 11%|█         | 66/600 [34:53<4:30:56, 30.44s/it]"
          ],
          "name": "stderr"
        },
        {
          "output_type": "stream",
          "text": [
            "65[Vz]  no correction: 0.0029429345741377065, correction:0.000725161984954859\n",
            "66[x]  no correction: 0.003473054078557022, correction:0.002786863259737925\n",
            "66[y]  no correction: 0.009172613815848848, correction:0.003777062940689612\n",
            "66[z]  no correction: 0.06250410591513382, correction:0.03821804460874898\n",
            "66[Vx]  no correction: 0.017231181552515955, correction:0.009905691394302326\n",
            "66[Vy]  no correction: 0.01902820532347406, correction:0.0207783134631657\n",
            "66 Vy does not work\n"
          ],
          "name": "stdout"
        },
        {
          "output_type": "stream",
          "text": [
            "\r 11%|█         | 67/600 [35:04<3:38:15, 24.57s/it]"
          ],
          "name": "stderr"
        },
        {
          "output_type": "stream",
          "text": [
            "66[Vz]  no correction: 0.02115652440058865, correction:0.020726704818928812\n",
            "67[x]  no correction: 0.0005944676442561432, correction:0.00015254112616845962\n",
            "67[y]  no correction: 0.0010903498058986712, correction:0.00013692406922923345\n",
            "67[z]  no correction: 0.0027610840101876095, correction:0.00015957266663248584\n",
            "67[Vx]  no correction: 0.0014002881639375822, correction:0.0001452588929175732\n",
            "67[Vy]  no correction: 0.0003567490219013122, correction:0.0002993449886713465\n"
          ],
          "name": "stdout"
        },
        {
          "output_type": "stream",
          "text": [
            "\r 11%|█▏        | 68/600 [35:24<3:25:51, 23.22s/it]"
          ],
          "name": "stderr"
        },
        {
          "output_type": "stream",
          "text": [
            "67[Vz]  no correction: 0.0016835179088207817, correction:0.00010616056512025739\n",
            "68[x]  no correction: 0.004794135155221277, correction:0.0006681011096992002\n",
            "68[y]  no correction: 0.004454797741360577, correction:0.0008947269611383709\n",
            "68[z]  no correction: 0.0023977524720054785, correction:0.00014081523087298436\n",
            "68[Vx]  no correction: 0.0039965450794976634, correction:0.00039592775134107824\n",
            "68[Vy]  no correction: 0.0016717143945065918, correction:0.00045381584233470274\n"
          ],
          "name": "stdout"
        },
        {
          "output_type": "stream",
          "text": [
            "\r 12%|█▏        | 69/600 [36:15<4:38:25, 31.46s/it]"
          ],
          "name": "stderr"
        },
        {
          "output_type": "stream",
          "text": [
            "68[Vz]  no correction: 0.007657513622554303, correction:0.0034553978307173593\n",
            "69[x]  no correction: 0.03709967038334985, correction:0.0008810414145330601\n",
            "69[y]  no correction: 0.04158365330374307, correction:0.0016244182102768932\n",
            "69[z]  no correction: 0.09993517987488856, correction:0.001746454326538095\n",
            "69[Vx]  no correction: 0.04650609429523715, correction:0.002913613388441707\n",
            "69[Vy]  no correction: 0.06153446787357517, correction:0.006262247808257722\n"
          ],
          "name": "stdout"
        },
        {
          "output_type": "stream",
          "text": [
            "\r 12%|█▏        | 70/600 [36:46<4:38:05, 31.48s/it]"
          ],
          "name": "stderr"
        },
        {
          "output_type": "stream",
          "text": [
            "69[Vz]  no correction: 0.06706791287933894, correction:0.0045205530155384855\n",
            "70[x]  no correction: 0.007053074090447823, correction:0.004405618438346932\n",
            "70[y]  no correction: 0.03021870495094283, correction:0.03002342678050276\n",
            "70[z]  no correction: 0.0038650717113918446, correction:0.005059340169848911\n",
            "70 z does not work\n",
            "70[Vx]  no correction: 0.8035706260633959, correction:0.8330323791828934\n",
            "70 Vx does not work\n",
            "70[Vy]  no correction: 0.010396804544965556, correction:0.007986027025078519\n"
          ],
          "name": "stdout"
        },
        {
          "output_type": "stream",
          "text": [
            "\r 12%|█▏        | 71/600 [36:57<3:43:13, 25.32s/it]"
          ],
          "name": "stderr"
        },
        {
          "output_type": "stream",
          "text": [
            "70[Vz]  no correction: 0.7696774222948665, correction:0.801612111727453\n",
            "70 Vz does not work\n",
            "71[x]  no correction: 0.03454484949901887, correction:0.04936972147890819\n",
            "71 x does not work\n",
            "71[y]  no correction: 0.049467725914732634, correction:0.03127552119504071\n",
            "71[z]  no correction: 0.054083914436673354, correction:0.034487054643099535\n",
            "71[Vx]  no correction: 0.04565521768482123, correction:0.03314566601881707\n",
            "71[Vy]  no correction: 0.06958556987487192, correction:0.0643226552596973\n"
          ],
          "name": "stdout"
        },
        {
          "output_type": "stream",
          "text": [
            "\r 12%|█▏        | 72/600 [37:20<3:36:36, 24.61s/it]"
          ],
          "name": "stderr"
        },
        {
          "output_type": "stream",
          "text": [
            "71[Vz]  no correction: 0.07375181882580416, correction:0.07727898615861269\n",
            "71 Vz does not work\n",
            "72[x]  no correction: 0.22810711851296242, correction:0.03031885392295862\n",
            "72[y]  no correction: 0.18535089744312083, correction:0.03648245032379432\n",
            "72[z]  no correction: 0.2555504873235416, correction:0.030822792907913076\n",
            "72[Vx]  no correction: 0.1523312974572417, correction:0.036697557803793024\n",
            "72[Vy]  no correction: 0.17603420657332294, correction:0.0398036686292798\n"
          ],
          "name": "stdout"
        },
        {
          "output_type": "stream",
          "text": [
            "\r 12%|█▏        | 73/600 [38:00<4:15:44, 29.12s/it]"
          ],
          "name": "stderr"
        },
        {
          "output_type": "stream",
          "text": [
            "72[Vz]  no correction: 0.259884983206886, correction:0.03396792551485174\n",
            "73[x]  no correction: 0.17929175094031344, correction:0.00840199524606418\n",
            "73[y]  no correction: 0.12128595312417616, correction:0.02075761073736078\n",
            "73[z]  no correction: 0.1261909631366643, correction:0.007042342693557525\n",
            "73[Vx]  no correction: 0.1793952867566375, correction:0.01609996438474077\n",
            "73[Vy]  no correction: 0.1047036629170884, correction:0.013407668798430026\n"
          ],
          "name": "stdout"
        },
        {
          "output_type": "stream",
          "text": [
            "\r 12%|█▏        | 74/600 [38:37<4:35:21, 31.41s/it]"
          ],
          "name": "stderr"
        },
        {
          "output_type": "stream",
          "text": [
            "73[Vz]  no correction: 0.10817479678794832, correction:0.01020301777885241\n",
            "74[x]  no correction: 0.004284120171497864, correction:0.0019951014598470914\n",
            "74[y]  no correction: 0.017577964562233265, correction:0.00933937440803236\n",
            "74[z]  no correction: 0.06619145282815027, correction:0.008128419754264456\n",
            "74[Vx]  no correction: 0.011900977952781215, correction:0.0037684464441074066\n",
            "74[Vy]  no correction: 0.011153645588655834, correction:0.0062920785021139064\n"
          ],
          "name": "stdout"
        },
        {
          "output_type": "stream",
          "text": [
            "\r 12%|█▎        | 75/600 [39:05<4:25:46, 30.37s/it]"
          ],
          "name": "stderr"
        },
        {
          "output_type": "stream",
          "text": [
            "74[Vz]  no correction: 0.06751536406149558, correction:0.021999864576011274\n",
            "75[x]  no correction: 0.11448509826438887, correction:0.011965889378229233\n",
            "75[y]  no correction: 0.17140215067974424, correction:0.013453206068635915\n",
            "75[z]  no correction: 0.15974625600179307, correction:0.012745873352775033\n",
            "75[Vx]  no correction: 0.10259313122706, correction:0.00742877428703267\n",
            "75[Vy]  no correction: 0.17519816201374627, correction:0.024920089877238902\n"
          ],
          "name": "stdout"
        },
        {
          "output_type": "stream",
          "text": [
            "\r 13%|█▎        | 76/600 [39:49<5:01:51, 34.56s/it]"
          ],
          "name": "stderr"
        },
        {
          "output_type": "stream",
          "text": [
            "75[Vz]  no correction: 0.16626843199874097, correction:0.026655327435119096\n",
            "76[x]  no correction: 0.11867278838099199, correction:0.00533313577763694\n",
            "76[y]  no correction: 0.09843167699998523, correction:0.00985203890818664\n",
            "76[z]  no correction: 0.09220025927659657, correction:0.0018307261563910986\n",
            "76[Vx]  no correction: 0.07516329974129474, correction:0.0015535712628427295\n",
            "76[Vy]  no correction: 0.07105496741780709, correction:0.0010954626621273536\n"
          ],
          "name": "stdout"
        },
        {
          "output_type": "stream",
          "text": [
            "\r 13%|█▎        | 77/600 [40:20<4:52:52, 33.60s/it]"
          ],
          "name": "stderr"
        },
        {
          "output_type": "stream",
          "text": [
            "76[Vz]  no correction: 0.09129092511873761, correction:0.001540358979382188\n",
            "77[x]  no correction: 0.011413891503970526, correction:0.013302346720521259\n",
            "77 x does not work\n",
            "77[y]  no correction: 0.012460973312570844, correction:0.004434013480590759\n",
            "77[z]  no correction: 0.007276701873729868, correction:0.008684827195161796\n",
            "77 z does not work\n",
            "77[Vx]  no correction: 0.01073057016533049, correction:0.012544007133815753\n",
            "77 Vx does not work\n",
            "77[Vy]  no correction: 0.016494817270645567, correction:0.0513625113738204\n",
            "77 Vy does not work\n"
          ],
          "name": "stdout"
        },
        {
          "output_type": "stream",
          "text": [
            "\r 13%|█▎        | 78/600 [40:40<4:15:10, 29.33s/it]"
          ],
          "name": "stderr"
        },
        {
          "output_type": "stream",
          "text": [
            "77[Vz]  no correction: 0.008078756488453895, correction:0.009053016260511191\n",
            "77 Vz does not work\n",
            "78[x]  no correction: 0.03614539816778312, correction:0.005378145959873019\n",
            "78[y]  no correction: 0.002799213491478882, correction:0.0021144187332411825\n",
            "78[z]  no correction: 0.007237069184988725, correction:0.0013028170377003202\n",
            "78[Vx]  no correction: 0.01595348970506949, correction:0.007103745507278756\n",
            "78[Vy]  no correction: 0.008823049966899388, correction:0.0025055092583855815\n"
          ],
          "name": "stdout"
        },
        {
          "output_type": "stream",
          "text": [
            "\r 13%|█▎        | 79/600 [40:57<3:44:55, 25.90s/it]"
          ],
          "name": "stderr"
        },
        {
          "output_type": "stream",
          "text": [
            "78[Vz]  no correction: 0.006414911785400048, correction:0.0020125874417505083\n",
            "79[x]  no correction: 0.0022905818049631034, correction:0.0002984020617819374\n",
            "79[y]  no correction: 0.0029545796956213675, correction:0.00045682800218688636\n",
            "79[z]  no correction: 0.0016987868872637346, correction:0.0004053245795265811\n",
            "79[Vx]  no correction: 0.0023811894309347693, correction:0.0003682789817489679\n",
            "79[Vy]  no correction: 0.002193419985898616, correction:0.0005605438940471556\n"
          ],
          "name": "stdout"
        },
        {
          "output_type": "stream",
          "text": [
            "\r 13%|█▎        | 80/600 [41:17<3:27:49, 23.98s/it]"
          ],
          "name": "stderr"
        },
        {
          "output_type": "stream",
          "text": [
            "79[Vz]  no correction: 0.0014269624507514535, correction:0.0003892125794433818\n",
            "80[x]  no correction: 0.013093993463515528, correction:0.00614992833468976\n",
            "80[y]  no correction: 0.011444217764638966, correction:0.004318111590331219\n",
            "80[z]  no correction: 0.009059290775706028, correction:0.003985912781681453\n",
            "80[Vx]  no correction: 0.014917428739798061, correction:0.007535759900723771\n",
            "80[Vy]  no correction: 0.01686183737262913, correction:0.011073705523237058\n"
          ],
          "name": "stdout"
        },
        {
          "output_type": "stream",
          "text": [
            "\r 14%|█▎        | 81/600 [41:45<3:38:48, 25.30s/it]"
          ],
          "name": "stderr"
        },
        {
          "output_type": "stream",
          "text": [
            "80[Vz]  no correction: 0.01295645828987694, correction:0.0142427608392981\n",
            "80 Vz does not work\n",
            "81[x]  no correction: 0.007441789719134236, correction:0.0043198660091523546\n",
            "81[y]  no correction: 0.008461234176859163, correction:0.006462568603560445\n",
            "81[z]  no correction: 0.0020368732293911435, correction:0.0008503412439013285\n",
            "81[Vx]  no correction: 0.001445806890291985, correction:0.0009794174490703924\n",
            "81[Vy]  no correction: 0.0014803541356467472, correction:0.0009038903277533469\n"
          ],
          "name": "stdout"
        },
        {
          "output_type": "stream",
          "text": [
            "\r 14%|█▎        | 82/600 [42:16<3:51:44, 26.84s/it]"
          ],
          "name": "stderr"
        },
        {
          "output_type": "stream",
          "text": [
            "81[Vz]  no correction: 0.0047719961499391225, correction:0.004998063920462132\n",
            "81 Vz does not work\n",
            "82[x]  no correction: 0.25186071464984167, correction:0.007626386653447422\n",
            "82[y]  no correction: 0.27624572243434153, correction:0.022028405238688216\n",
            "82[z]  no correction: 0.3345001471657483, correction:0.019581824331344592\n",
            "82[Vx]  no correction: 0.19544213502064284, correction:0.008562692577228435\n",
            "82[Vy]  no correction: 0.20926705213655575, correction:0.015909950239254705\n"
          ],
          "name": "stdout"
        },
        {
          "output_type": "stream",
          "text": [
            "\r 14%|█▍        | 83/600 [42:45<3:57:16, 27.54s/it]"
          ],
          "name": "stderr"
        },
        {
          "output_type": "stream",
          "text": [
            "82[Vz]  no correction: 0.32717587539486903, correction:0.01526108286086684\n",
            "83[x]  no correction: 0.006870680360246957, correction:0.0010768471157351367\n",
            "83[y]  no correction: 0.0029176073038795804, correction:0.0005797209737501601\n",
            "83[z]  no correction: 0.01437314586134936, correction:0.0010055461340792236\n",
            "83[Vx]  no correction: 0.028397461745152515, correction:0.006795582175625071\n",
            "83[Vy]  no correction: 0.005796648342414748, correction:0.0004883387472800777\n"
          ],
          "name": "stdout"
        },
        {
          "output_type": "stream",
          "text": [
            "\r 14%|█▍        | 84/600 [43:06<3:40:50, 25.68s/it]"
          ],
          "name": "stderr"
        },
        {
          "output_type": "stream",
          "text": [
            "83[Vz]  no correction: 0.006620204409267742, correction:0.0005830921885022675\n",
            "84[x]  no correction: 0.0029562187564873515, correction:0.000781321107437677\n",
            "84[y]  no correction: 0.0041313986796487675, correction:0.0024191613914201987\n",
            "84[z]  no correction: 0.0031106512759264382, correction:0.0004845987505299484\n",
            "84[Vx]  no correction: 0.0013724668563673422, correction:0.0010438846586497004\n",
            "84[Vy]  no correction: 0.0025487650719340517, correction:0.0014756400174323794\n"
          ],
          "name": "stdout"
        },
        {
          "output_type": "stream",
          "text": [
            "\r 14%|█▍        | 85/600 [43:27<3:27:34, 24.18s/it]"
          ],
          "name": "stderr"
        },
        {
          "output_type": "stream",
          "text": [
            "84[Vz]  no correction: 0.002223827657820004, correction:0.0003425445416296806\n",
            "85[x]  no correction: 0.021954128145922073, correction:0.0023858472488955543\n",
            "85[y]  no correction: 0.018556971605149863, correction:0.0032243526303429152\n",
            "85[z]  no correction: 0.054853874171918234, correction:0.007260817186652073\n",
            "85[Vx]  no correction: 0.03881161363448692, correction:0.008091761685159965\n",
            "85[Vy]  no correction: 0.0323853236205803, correction:0.0076007780370179415\n"
          ],
          "name": "stdout"
        },
        {
          "output_type": "stream",
          "text": [
            "\r 14%|█▍        | 86/600 [44:08<4:09:42, 29.15s/it]"
          ],
          "name": "stderr"
        },
        {
          "output_type": "stream",
          "text": [
            "85[Vz]  no correction: 0.010090385163458391, correction:0.003944775351627425\n",
            "86[x]  no correction: 0.0029506712486230937, correction:0.0002849077806326851\n",
            "86[y]  no correction: 0.002952595499153669, correction:0.00030764748148710553\n",
            "86[z]  no correction: 0.0035722456773289867, correction:0.0005558702503987751\n",
            "86[Vx]  no correction: 0.005445806323879632, correction:0.0017505233411592193\n",
            "86[Vy]  no correction: 0.021551270869878753, correction:0.001169325378057601\n"
          ],
          "name": "stdout"
        },
        {
          "output_type": "stream",
          "text": [
            "\r 14%|█▍        | 87/600 [44:55<4:55:08, 34.52s/it]"
          ],
          "name": "stderr"
        },
        {
          "output_type": "stream",
          "text": [
            "86[Vz]  no correction: 0.05660417955466764, correction:0.007178705624134664\n",
            "87[x]  no correction: 0.012593157332749547, correction:0.004265562695692792\n",
            "87[y]  no correction: 0.0051084293144009795, correction:0.003035484994820894\n",
            "87[z]  no correction: 0.01458415563410974, correction:0.004113939439015771\n",
            "87[Vx]  no correction: 0.005652564382200543, correction:0.005621668656650592\n",
            "87[Vy]  no correction: 0.007085433480364415, correction:0.0038302658168572114\n"
          ],
          "name": "stdout"
        },
        {
          "output_type": "stream",
          "text": [
            "\r 15%|█▍        | 88/600 [45:14<4:15:46, 29.97s/it]"
          ],
          "name": "stderr"
        },
        {
          "output_type": "stream",
          "text": [
            "87[Vz]  no correction: 0.0030619000654723374, correction:0.0026121541908854214\n",
            "88[x]  no correction: 0.033328921520403974, correction:0.0016690820000905958\n",
            "88[y]  no correction: 0.02167718565758929, correction:0.0009590094103889349\n",
            "88[z]  no correction: 0.07994466720300715, correction:0.003607582522373599\n",
            "88[Vx]  no correction: 0.020544345551142786, correction:0.00157105581702946\n",
            "88[Vy]  no correction: 0.021287458924498338, correction:0.0016730040420572818\n"
          ],
          "name": "stdout"
        },
        {
          "output_type": "stream",
          "text": [
            "\r 15%|█▍        | 89/600 [45:36<3:55:42, 27.68s/it]"
          ],
          "name": "stderr"
        },
        {
          "output_type": "stream",
          "text": [
            "88[Vz]  no correction: 0.03800464798665739, correction:0.0032134054317030946\n",
            "89[x]  no correction: 0.046196771278771066, correction:0.006604268944235432\n",
            "89[y]  no correction: 0.009306415015913358, correction:0.0016418381651995195\n",
            "89[z]  no correction: 0.0038505526953840317, correction:0.0018659927376408582\n",
            "89[Vx]  no correction: 0.005849123265632521, correction:0.010140160374132538\n",
            "89 Vx does not work\n",
            "89[Vy]  no correction: 0.0032445818903756615, correction:0.002232866815679669\n"
          ],
          "name": "stdout"
        },
        {
          "output_type": "stream",
          "text": [
            "\r 15%|█▌        | 90/600 [45:59<3:41:01, 26.00s/it]"
          ],
          "name": "stderr"
        },
        {
          "output_type": "stream",
          "text": [
            "89[Vz]  no correction: 0.007422827916698127, correction:0.0022927060386596916\n",
            "90[x]  no correction: 0.13863045134861474, correction:0.013470994004002666\n",
            "90[y]  no correction: 0.06968607197707158, correction:0.03173684152917139\n",
            "90[z]  no correction: 0.037406847798194934, correction:0.007705918878238612\n",
            "90[Vx]  no correction: 0.10166905421291171, correction:0.027199513580759126\n",
            "90[Vy]  no correction: 0.05226929148802829, correction:0.014637610669266717\n"
          ],
          "name": "stdout"
        },
        {
          "output_type": "stream",
          "text": [
            "\r 15%|█▌        | 91/600 [46:22<3:35:06, 25.36s/it]"
          ],
          "name": "stderr"
        },
        {
          "output_type": "stream",
          "text": [
            "90[Vz]  no correction: 0.05492148656934621, correction:0.030086074604952853\n",
            "91[x]  no correction: 0.15494385348276873, correction:0.01094471247336831\n",
            "91[y]  no correction: 0.11546225796958559, correction:0.005449197524587355\n",
            "91[z]  no correction: 0.14794074597394302, correction:0.008590691659796585\n",
            "91[Vx]  no correction: 0.1326635884557219, correction:0.0032929733266665517\n",
            "91[Vy]  no correction: 0.09653875714572072, correction:0.006262714787883432\n"
          ],
          "name": "stdout"
        },
        {
          "output_type": "stream",
          "text": [
            "\r 15%|█▌        | 92/600 [47:08<4:25:50, 31.40s/it]"
          ],
          "name": "stderr"
        },
        {
          "output_type": "stream",
          "text": [
            "91[Vz]  no correction: 0.11450364747372009, correction:0.006277698102349015\n",
            "92[x]  no correction: 0.16173836056534058, correction:0.03371403882584947\n",
            "92[y]  no correction: 0.1015222876804184, correction:0.06375363849789834\n",
            "92[z]  no correction: 0.1095833291462582, correction:0.019656176826457008\n",
            "92[Vx]  no correction: 0.12162231765769634, correction:0.06188628916267722\n",
            "92[Vy]  no correction: 0.11837697582026882, correction:0.07865695376979283\n"
          ],
          "name": "stdout"
        },
        {
          "output_type": "stream",
          "text": [
            "\r 16%|█▌        | 93/600 [47:21<3:39:08, 25.93s/it]"
          ],
          "name": "stderr"
        },
        {
          "output_type": "stream",
          "text": [
            "92[Vz]  no correction: 0.13552006211325116, correction:0.10529783054181263\n",
            "93[x]  no correction: 0.023913224652160555, correction:0.000672510686297048\n",
            "93[y]  no correction: 0.00974099498795568, correction:0.0005167476057040995\n",
            "93[z]  no correction: 0.024151156567923618, correction:0.0005832655750097437\n",
            "93[Vx]  no correction: 0.023947020131833738, correction:0.0006816556137663601\n",
            "93[Vy]  no correction: 0.010013571255625226, correction:0.0005504324855291695\n"
          ],
          "name": "stdout"
        },
        {
          "output_type": "stream",
          "text": [
            "\r 16%|█▌        | 94/600 [48:28<5:22:02, 38.19s/it]"
          ],
          "name": "stderr"
        },
        {
          "output_type": "stream",
          "text": [
            "93[Vz]  no correction: 0.021396798777207043, correction:0.0005248691218002766\n",
            "94[x]  no correction: 0.0021222266571296073, correction:0.0005206802700322106\n",
            "94[y]  no correction: 0.0024757458412738085, correction:0.00038172753187993186\n",
            "94[z]  no correction: 0.0018667643370012714, correction:0.00043139629362606754\n",
            "94[Vx]  no correction: 0.0013118925350512436, correction:0.0003611022713984751\n",
            "94[Vy]  no correction: 0.0017889963352067226, correction:0.00021213832667941603\n"
          ],
          "name": "stdout"
        },
        {
          "output_type": "stream",
          "text": [
            "\r 16%|█▌        | 95/600 [48:56<4:55:03, 35.06s/it]"
          ],
          "name": "stderr"
        },
        {
          "output_type": "stream",
          "text": [
            "94[Vz]  no correction: 0.0013134556830845, correction:0.00022240383769082315\n",
            "95[x]  no correction: 0.006977913087628366, correction:0.0019173661439312948\n",
            "95[y]  no correction: 0.006819086411709261, correction:0.0023873973250196513\n",
            "95[z]  no correction: 0.02003426120865771, correction:0.00941449465371893\n",
            "95[Vx]  no correction: 0.010964374771889034, correction:0.0024812216785792666\n",
            "95[Vy]  no correction: 0.007305101509730403, correction:0.0030004419342942994\n"
          ],
          "name": "stdout"
        },
        {
          "output_type": "stream",
          "text": [
            "\r 16%|█▌        | 96/600 [49:16<4:17:59, 30.71s/it]"
          ],
          "name": "stderr"
        },
        {
          "output_type": "stream",
          "text": [
            "95[Vz]  no correction: 0.004318009118943268, correction:0.0018004785918595712\n",
            "96[x]  no correction: 0.004881842444313237, correction:0.002258262120811907\n",
            "96[y]  no correction: 0.008698304670438717, correction:0.001971719748801139\n",
            "96[z]  no correction: 0.004694223393711017, correction:0.0028479170335461513\n",
            "96[Vx]  no correction: 0.0026969743856444903, correction:0.018316456644713028\n",
            "96 Vx does not work\n",
            "96[Vy]  no correction: 0.018082875533421312, correction:0.009040380883671916\n"
          ],
          "name": "stdout"
        },
        {
          "output_type": "stream",
          "text": [
            "\r 16%|█▌        | 97/600 [49:36<3:51:15, 27.58s/it]"
          ],
          "name": "stderr"
        },
        {
          "output_type": "stream",
          "text": [
            "96[Vz]  no correction: 0.001383368948197058, correction:0.005305540770748762\n",
            "96 Vz does not work\n",
            "97[x]  no correction: 0.0045299465248347616, correction:0.000190899993772057\n",
            "97[y]  no correction: 0.001254095298544542, correction:0.00044268824027516576\n",
            "97[z]  no correction: 0.01120072351105045, correction:0.0005932966049892745\n",
            "97[Vx]  no correction: 0.004920885471321052, correction:0.00016190478897880586\n",
            "97[Vy]  no correction: 0.034970486879673635, correction:0.009540913231431178\n"
          ],
          "name": "stdout"
        },
        {
          "output_type": "stream",
          "text": [
            "\r 16%|█▋        | 98/600 [50:32<5:00:10, 35.88s/it]"
          ],
          "name": "stderr"
        },
        {
          "output_type": "stream",
          "text": [
            "97[Vz]  no correction: 0.004970475985067496, correction:0.0004219938989103946\n",
            "98[x]  no correction: 0.017678154177518734, correction:0.0011603010783643097\n",
            "98[y]  no correction: 0.006979789892929, correction:0.0008289502653088521\n",
            "98[z]  no correction: 0.00807960662299937, correction:0.0030476558905520473\n",
            "98[Vx]  no correction: 0.006495847743891364, correction:0.0008125001561640829\n",
            "98[Vy]  no correction: 0.006657463092226907, correction:0.0010051470272993716\n"
          ],
          "name": "stdout"
        },
        {
          "output_type": "stream",
          "text": [
            "\r 16%|█▋        | 99/600 [50:52<4:20:30, 31.20s/it]"
          ],
          "name": "stderr"
        },
        {
          "output_type": "stream",
          "text": [
            "98[Vz]  no correction: 0.0041610427678991655, correction:0.0011300713231629552\n",
            "99[x]  no correction: 0.008274164540547519, correction:0.0022334014155927346\n",
            "99[y]  no correction: 0.006777819153128534, correction:0.0034604533751762035\n",
            "99[z]  no correction: 0.0107736401420446, correction:0.00472318313203212\n",
            "99[Vx]  no correction: 0.06968861404751713, correction:0.010993308736125246\n",
            "99[Vy]  no correction: 0.03212148290922779, correction:0.015642151880179443\n"
          ],
          "name": "stdout"
        },
        {
          "output_type": "stream",
          "text": [
            "\r 17%|█▋        | 100/600 [51:25<4:24:20, 31.72s/it]"
          ],
          "name": "stderr"
        },
        {
          "output_type": "stream",
          "text": [
            "99[Vz]  no correction: 0.007660803537516538, correction:0.007749331094990293\n",
            "99 Vz does not work\n",
            "100[x]  no correction: 0.07472347292925019, correction:0.004907739484852097\n",
            "100[y]  no correction: 0.041926567122862336, correction:0.00582373820940314\n",
            "100[z]  no correction: 0.1225847549524029, correction:0.01715189230911356\n",
            "100[Vx]  no correction: 0.0900950640323468, correction:0.004864373210497715\n",
            "100[Vy]  no correction: 0.04035452423982413, correction:0.002596534641490077\n"
          ],
          "name": "stdout"
        },
        {
          "output_type": "stream",
          "text": [
            "\r 17%|█▋        | 101/600 [51:54<4:18:20, 31.06s/it]"
          ],
          "name": "stderr"
        },
        {
          "output_type": "stream",
          "text": [
            "100[Vz]  no correction: 0.08229727272182263, correction:0.002523965535451279\n",
            "101[x]  no correction: 0.1081356203727281, correction:0.008310104357140751\n",
            "101[y]  no correction: 0.030070971332940465, correction:0.0011466628479050024\n",
            "101[z]  no correction: 0.09841954810935653, correction:0.0016986703194696836\n",
            "101[Vx]  no correction: 0.06490203172296433, correction:0.002093690835794589\n",
            "101[Vy]  no correction: 0.05967052699537961, correction:0.015457332973955908\n"
          ],
          "name": "stdout"
        },
        {
          "output_type": "stream",
          "text": [
            "\r 17%|█▋        | 102/600 [52:34<4:38:44, 33.58s/it]"
          ],
          "name": "stderr"
        },
        {
          "output_type": "stream",
          "text": [
            "101[Vz]  no correction: 0.0822675257958077, correction:0.0016851673176051592\n",
            "102[x]  no correction: 0.03224318271338196, correction:0.0037019764660853253\n",
            "102[y]  no correction: 0.020846154161157423, correction:0.00868755990942124\n",
            "102[z]  no correction: 0.02070674016862711, correction:0.0010673904789313606\n",
            "102[Vx]  no correction: 0.07013724073135268, correction:0.06898872343790365\n",
            "102[Vy]  no correction: 0.04202473671218129, correction:0.010447231140905554\n"
          ],
          "name": "stdout"
        },
        {
          "output_type": "stream",
          "text": [
            "\r 17%|█▋        | 103/600 [53:04<4:30:16, 32.63s/it]"
          ],
          "name": "stderr"
        },
        {
          "output_type": "stream",
          "text": [
            "102[Vz]  no correction: 0.09458836387238075, correction:0.048296811226810205\n",
            "103[x]  no correction: 0.005169163217246808, correction:0.0004733893424957037\n",
            "103[y]  no correction: 0.004249835943928452, correction:0.00023297607675925737\n",
            "103[z]  no correction: 0.008177035859077883, correction:0.00039168307712683143\n",
            "103[Vx]  no correction: 0.003345695648848887, correction:0.000282323835705771\n",
            "103[Vy]  no correction: 0.004672129969366105, correction:0.0005516143905114114\n"
          ],
          "name": "stdout"
        },
        {
          "output_type": "stream",
          "text": [
            "\r 17%|█▋        | 104/600 [53:25<3:59:19, 28.95s/it]"
          ],
          "name": "stderr"
        },
        {
          "output_type": "stream",
          "text": [
            "103[Vz]  no correction: 0.004439950596645876, correction:0.0003063539052151707\n",
            "104[x]  no correction: 0.05006697670493984, correction:0.03203993533284089\n",
            "104[y]  no correction: 0.0198325386393049, correction:0.010449780564285477\n",
            "104[z]  no correction: 0.48361322270977797, correction:0.22374182954639238\n",
            "104[Vx]  no correction: 0.017196830769782838, correction:0.014831673963048932\n",
            "104[Vy]  no correction: 0.028564236415610917, correction:0.019015456204668085\n"
          ],
          "name": "stdout"
        },
        {
          "output_type": "stream",
          "text": [
            "\r 18%|█▊        | 105/600 [53:55<4:02:04, 29.34s/it]"
          ],
          "name": "stderr"
        },
        {
          "output_type": "stream",
          "text": [
            "104[Vz]  no correction: 0.5041146344633958, correction:0.23861053681878364\n",
            "105[x]  no correction: 0.007134974688068295, correction:0.00041351864095734225\n",
            "105[y]  no correction: 0.012097703770604117, correction:0.0010618012745001481\n",
            "105[z]  no correction: 0.005560345952808853, correction:0.0009479748389377784\n",
            "105[Vx]  no correction: 0.003018023515682838, correction:0.0013807559629983566\n",
            "105[Vy]  no correction: 0.004604072545186719, correction:0.0005431370542878399\n"
          ],
          "name": "stdout"
        },
        {
          "output_type": "stream",
          "text": [
            "\r 18%|█▊        | 106/600 [54:15<3:38:35, 26.55s/it]"
          ],
          "name": "stderr"
        },
        {
          "output_type": "stream",
          "text": [
            "105[Vz]  no correction: 0.002548905029538117, correction:0.0004813066585089075\n"
          ],
          "name": "stdout"
        },
        {
          "output_type": "stream",
          "text": [
            "WARNING:fbprophet:Optimization terminated abnormally. Falling back to Newton.\n"
          ],
          "name": "stderr"
        },
        {
          "output_type": "stream",
          "text": [
            "106[x]  no correction: 0.1079219103534054, correction:0.05226475181337746\n",
            "106[y]  no correction: 0.06367097269926159, correction:0.032511772811269136\n",
            "106[z]  no correction: 0.1591715523503252, correction:0.053232967512633296\n",
            "106[Vx]  no correction: 0.11769203496378648, correction:0.14395700260736885\n",
            "106 Vx does not work\n",
            "106[Vy]  no correction: 0.09835601277683796, correction:0.06985893950414951\n"
          ],
          "name": "stdout"
        },
        {
          "output_type": "stream",
          "text": [
            "\r 18%|█▊        | 107/600 [54:32<3:13:55, 23.60s/it]"
          ],
          "name": "stderr"
        },
        {
          "output_type": "stream",
          "text": [
            "106[Vz]  no correction: 0.21724504946347892, correction:0.20397123609861362\n",
            "107[x]  no correction: 0.01585963534714527, correction:0.001726344215755261\n",
            "107[y]  no correction: 0.007886408285856888, correction:0.0031560173480215804\n",
            "107[z]  no correction: 0.007541199371204374, correction:0.0019948806572487017\n",
            "107[Vx]  no correction: 0.03249523741196086, correction:0.003232879217442948\n",
            "107[Vy]  no correction: 0.016866501319368586, correction:0.002251044670266889\n"
          ],
          "name": "stdout"
        },
        {
          "output_type": "stream",
          "text": [
            "\r 18%|█▊        | 108/600 [54:51<3:01:59, 22.19s/it]"
          ],
          "name": "stderr"
        },
        {
          "output_type": "stream",
          "text": [
            "107[Vz]  no correction: 0.030380467113605973, correction:0.0030851890643112043\n",
            "108[x]  no correction: 0.0008598157356153204, correction:0.0001008750830030665\n",
            "108[y]  no correction: 0.001470264779789421, correction:7.282886832070186e-05\n",
            "108[z]  no correction: 0.001091455243285847, correction:8.138834311046941e-05\n",
            "108[Vx]  no correction: 0.0018877246466663291, correction:6.72068372746551e-05\n",
            "108[Vy]  no correction: 0.0008890142806334252, correction:7.942574616996113e-05\n"
          ],
          "name": "stdout"
        },
        {
          "output_type": "stream",
          "text": [
            "\r 18%|█▊        | 109/600 [56:00<4:56:44, 36.26s/it]"
          ],
          "name": "stderr"
        },
        {
          "output_type": "stream",
          "text": [
            "108[Vz]  no correction: 0.0010072382737376063, correction:4.614796433729107e-05\n",
            "109[x]  no correction: 0.12212574868650078, correction:0.0014605212666709822\n",
            "109[y]  no correction: 0.05245720575016055, correction:0.0015705449719874752\n",
            "109[z]  no correction: 0.1502633600129198, correction:0.005524423846867504\n",
            "109[Vx]  no correction: 0.11513007326269109, correction:0.01917024213401839\n",
            "109[Vy]  no correction: 0.04444648118756337, correction:0.0011405979455992319\n"
          ],
          "name": "stdout"
        },
        {
          "output_type": "stream",
          "text": [
            "\r 18%|█▊        | 110/600 [56:41<5:07:55, 37.70s/it]"
          ],
          "name": "stderr"
        },
        {
          "output_type": "stream",
          "text": [
            "109[Vz]  no correction: 0.17956274434124223, correction:0.008629501099491912\n",
            "110[x]  no correction: 0.02066624412246781, correction:0.016311680985812517\n",
            "110[y]  no correction: 0.012410821369651999, correction:0.006693908654769313\n",
            "110[z]  no correction: 0.011087858502898656, correction:0.0051477977582662275\n",
            "110[Vx]  no correction: 0.01060487104826827, correction:0.024107637493620295\n",
            "110 Vx does not work\n",
            "110[Vy]  no correction: 0.008834539026198136, correction:0.0067067319998280065\n"
          ],
          "name": "stdout"
        },
        {
          "output_type": "stream",
          "text": [
            "\r 18%|█▊        | 111/600 [56:58<4:17:53, 31.64s/it]"
          ],
          "name": "stderr"
        },
        {
          "output_type": "stream",
          "text": [
            "110[Vz]  no correction: 0.010377272101602535, correction:0.004951202659482671\n",
            "111[x]  no correction: 0.07660621023603263, correction:0.007753986008428108\n",
            "111[y]  no correction: 0.03269878054287949, correction:0.004754011212972626\n",
            "111[z]  no correction: 0.059054707150462404, correction:0.012381075716894889\n",
            "111[Vx]  no correction: 0.05793833080527482, correction:0.010206442965165027\n",
            "111[Vy]  no correction: 0.06916904521112524, correction:0.022137106073846807\n"
          ],
          "name": "stdout"
        },
        {
          "output_type": "stream",
          "text": [
            "\r 19%|█▊        | 112/600 [58:19<6:17:37, 46.43s/it]"
          ],
          "name": "stderr"
        },
        {
          "output_type": "stream",
          "text": [
            "111[Vz]  no correction: 0.03483507557962436, correction:0.004654840528276603\n",
            "112[x]  no correction: 0.007242446689785125, correction:0.0005091252470994287\n",
            "112[y]  no correction: 0.006566184640324279, correction:0.0011759142355759638\n",
            "112[z]  no correction: 0.0055712939098948, correction:0.0010119198123645639\n",
            "112[Vx]  no correction: 0.013790283563122452, correction:0.0022898197410444097\n",
            "112[Vy]  no correction: 0.028315198912702094, correction:0.0023381678444719146\n"
          ],
          "name": "stdout"
        },
        {
          "output_type": "stream",
          "text": [
            "\r 19%|█▉        | 113/600 [59:19<6:50:36, 50.59s/it]"
          ],
          "name": "stderr"
        },
        {
          "output_type": "stream",
          "text": [
            "112[Vz]  no correction: 0.056571560344265484, correction:0.004246648853889787\n",
            "113[x]  no correction: 0.2676370980407455, correction:0.10965658199589787\n",
            "113[y]  no correction: 0.15196256604881492, correction:0.10036293586988226\n",
            "113[z]  no correction: 0.1548881387595013, correction:0.0914070850963724\n",
            "113[Vx]  no correction: 0.24214911894566854, correction:0.1750506260183386\n",
            "113[Vy]  no correction: 0.1466723044530965, correction:0.12738987458981096\n"
          ],
          "name": "stdout"
        },
        {
          "output_type": "stream",
          "text": [
            "\r 19%|█▉        | 114/600 [59:37<5:29:16, 40.65s/it]"
          ],
          "name": "stderr"
        },
        {
          "output_type": "stream",
          "text": [
            "113[Vz]  no correction: 0.17158176730300212, correction:0.15332446481548873\n",
            "114[x]  no correction: 0.2047633101595607, correction:0.05796390702353522\n",
            "114[y]  no correction: 0.11705410105363033, correction:0.0888148446641875\n",
            "114[z]  no correction: 0.1202388888907262, correction:0.09287966775119545\n",
            "114[Vx]  no correction: 0.17549051044365074, correction:0.14274463372179985\n",
            "114[Vy]  no correction: 0.10517688791673009, correction:0.11464115378115657\n",
            "114 Vy does not work\n"
          ],
          "name": "stdout"
        },
        {
          "output_type": "stream",
          "text": [
            "\r 19%|█▉        | 115/600 [59:57<4:39:20, 34.56s/it]"
          ],
          "name": "stderr"
        },
        {
          "output_type": "stream",
          "text": [
            "114[Vz]  no correction: 0.11269713137664998, correction:0.10614113705077664\n",
            "115[x]  no correction: 0.33883547511268086, correction:0.12961197491935406\n",
            "115[y]  no correction: 0.11497183913125204, correction:0.06737854952824465\n",
            "115[z]  no correction: 0.2500439614056847, correction:0.09585498940212445\n",
            "115[Vx]  no correction: 0.29657479170263207, correction:0.19425685461360898\n",
            "115[Vy]  no correction: 0.15585969695368077, correction:0.10506084449924899\n"
          ],
          "name": "stdout"
        },
        {
          "output_type": "stream",
          "text": [
            "\r 19%|█▉        | 116/600 [1:00:17<4:03:21, 30.17s/it]"
          ],
          "name": "stderr"
        },
        {
          "output_type": "stream",
          "text": [
            "115[Vz]  no correction: 0.22210388364397599, correction:0.1561208584281284\n",
            "116[x]  no correction: 0.02888031379162372, correction:0.0010364039876141623\n",
            "116[y]  no correction: 0.005585302204672938, correction:0.001247165492932253\n",
            "116[z]  no correction: 0.017418526121215472, correction:0.00057301797978946\n",
            "116[Vx]  no correction: 0.01079740578276693, correction:0.0004629053972598882\n",
            "116[Vy]  no correction: 0.0363311801624784, correction:0.000593189076211385\n"
          ],
          "name": "stdout"
        },
        {
          "output_type": "stream",
          "text": [
            "\r 20%|█▉        | 117/600 [1:00:41<3:46:39, 28.16s/it]"
          ],
          "name": "stderr"
        },
        {
          "output_type": "stream",
          "text": [
            "116[Vz]  no correction: 0.013325140578163974, correction:0.0003914081050796867\n",
            "117[x]  no correction: 0.007306935715652446, correction:0.0015433906260954677\n",
            "117[y]  no correction: 0.008595193093064708, correction:0.0019955337364352763\n",
            "117[z]  no correction: 0.021005907156275514, correction:0.007058919312388717\n",
            "117[Vx]  no correction: 0.01466632255209552, correction:0.005775690840961117\n",
            "117[Vy]  no correction: 0.9999809673678854, correction:0.9999787062440777\n"
          ],
          "name": "stdout"
        },
        {
          "output_type": "stream",
          "text": [
            "\r 20%|█▉        | 118/600 [1:00:58<3:19:10, 24.79s/it]"
          ],
          "name": "stderr"
        },
        {
          "output_type": "stream",
          "text": [
            "117[Vz]  no correction: 0.011091410717380082, correction:0.006712683128886835\n",
            "118[x]  no correction: 0.01716279185118852, correction:0.014448099414090814\n",
            "118[y]  no correction: 0.0857282478731155, correction:0.0443164531805478\n",
            "118[z]  no correction: 0.03511992524086658, correction:0.009335823984492508\n",
            "118[Vx]  no correction: 0.9999872404362252, correction:0.999980907246061\n",
            "118[Vy]  no correction: 0.03357375270567235, correction:0.030961434926928263\n"
          ],
          "name": "stdout"
        },
        {
          "output_type": "stream",
          "text": [
            "\r 20%|█▉        | 119/600 [1:01:18<3:07:10, 23.35s/it]"
          ],
          "name": "stderr"
        },
        {
          "output_type": "stream",
          "text": [
            "118[Vz]  no correction: 0.08755016478270312, correction:0.06288844117547435\n",
            "119[x]  no correction: 0.030147912330259485, correction:0.0009827827423942528\n",
            "119[y]  no correction: 0.0108125209083356, correction:0.0003135132620720573\n",
            "119[z]  no correction: 0.00903840047972866, correction:0.00023478999134911527\n",
            "119[Vx]  no correction: 0.01690370847575457, correction:0.0011611232523087067\n",
            "119[Vy]  no correction: 0.014235216365591968, correction:0.001289092404916964\n"
          ],
          "name": "stdout"
        },
        {
          "output_type": "stream",
          "text": [
            "\r 20%|██        | 120/600 [1:01:55<3:40:00, 27.50s/it]"
          ],
          "name": "stderr"
        },
        {
          "output_type": "stream",
          "text": [
            "119[Vz]  no correction: 0.0073712556113205326, correction:0.0005380593350179839\n",
            "120[x]  no correction: 0.009356817218997802, correction:0.009313530475163038\n",
            "120[y]  no correction: 0.029885838171709853, correction:0.011473370737030562\n",
            "120[z]  no correction: 0.03999222541262713, correction:0.01853533716388502\n",
            "120[Vx]  no correction: 0.016715801201992078, correction:0.010611446726969512\n",
            "120[Vy]  no correction: 0.008630046715741167, correction:0.021110542474648896\n",
            "120 Vy does not work\n"
          ],
          "name": "stdout"
        },
        {
          "output_type": "stream",
          "text": [
            "\r 20%|██        | 121/600 [1:02:07<3:02:00, 22.80s/it]"
          ],
          "name": "stderr"
        },
        {
          "output_type": "stream",
          "text": [
            "120[Vz]  no correction: 0.0115033354059269, correction:0.011359552781728103\n",
            "121[x]  no correction: 0.012148125654715878, correction:0.00035189508112779455\n",
            "121[y]  no correction: 0.012941595044208576, correction:0.0007834633873234902\n",
            "121[z]  no correction: 0.006630179405792015, correction:0.00044816141570957563\n",
            "121[Vx]  no correction: 0.012068186894643708, correction:0.0006418403043016339\n",
            "121[Vy]  no correction: 0.005040660281665208, correction:0.00017779692607749735\n"
          ],
          "name": "stdout"
        },
        {
          "output_type": "stream",
          "text": [
            "\r 20%|██        | 122/600 [1:03:18<4:56:59, 37.28s/it]"
          ],
          "name": "stderr"
        },
        {
          "output_type": "stream",
          "text": [
            "121[Vz]  no correction: 0.0047471427359433264, correction:0.0003398420335049183\n",
            "122[x]  no correction: 0.43352763310358783, correction:0.07761402717255389\n",
            "122[y]  no correction: 0.2844489739349896, correction:0.17308445663253147\n",
            "122[z]  no correction: 0.22849968217350772, correction:0.19310865304288113\n",
            "122[Vx]  no correction: 0.39115547267375395, correction:0.2921045462238072\n",
            "122[Vy]  no correction: 0.251600269269074, correction:0.19342957776129552\n"
          ],
          "name": "stdout"
        },
        {
          "output_type": "stream",
          "text": [
            "\r 20%|██        | 123/600 [1:03:36<4:11:46, 31.67s/it]"
          ],
          "name": "stderr"
        },
        {
          "output_type": "stream",
          "text": [
            "122[Vz]  no correction: 0.24018249303599404, correction:0.18137226787101274\n",
            "123[x]  no correction: 0.006364497652382591, correction:0.00045072027524799377\n",
            "123[y]  no correction: 0.004851951717486183, correction:0.0004994169352889757\n",
            "123[z]  no correction: 0.0011404336041079739, correction:0.00020132203726680966\n",
            "123[Vx]  no correction: 0.006361288843410733, correction:0.003807609764518915\n",
            "123[Vy]  no correction: 0.0012167471699437045, correction:0.0006887441913740927\n"
          ],
          "name": "stdout"
        },
        {
          "output_type": "stream",
          "text": [
            "\r 21%|██        | 124/600 [1:04:36<5:18:20, 40.13s/it]"
          ],
          "name": "stderr"
        },
        {
          "output_type": "stream",
          "text": [
            "123[Vz]  no correction: 0.005015639225130369, correction:0.0006668865568064856\n",
            "124[x]  no correction: 0.002454510707659467, correction:0.00020409588202362474\n",
            "124[y]  no correction: 0.004839767919958586, correction:0.00037444385447520323\n",
            "124[z]  no correction: 0.0015452609678019604, correction:0.0002699688436276052\n",
            "124[Vx]  no correction: 0.0014264588553997797, correction:0.00018440019248089072\n",
            "124[Vy]  no correction: 0.0014660776409656127, correction:0.0004281359420274556\n"
          ],
          "name": "stdout"
        },
        {
          "output_type": "stream",
          "text": [
            "\r 21%|██        | 125/600 [1:05:25<5:39:08, 42.84s/it]"
          ],
          "name": "stderr"
        },
        {
          "output_type": "stream",
          "text": [
            "124[Vz]  no correction: 0.002611360312323194, correction:0.0002589755984781423\n",
            "125[x]  no correction: 0.03669022637065206, correction:0.0004186755239692009\n",
            "125[y]  no correction: 0.032425840761874505, correction:0.0007365184438955314\n",
            "125[z]  no correction: 0.01375527202326903, correction:0.00019601310873732615\n",
            "125[Vx]  no correction: 0.05949315458363055, correction:0.0010718231889089104\n",
            "125[Vy]  no correction: 0.024584995320622926, correction:0.0006813242522523442\n"
          ],
          "name": "stdout"
        },
        {
          "output_type": "stream",
          "text": [
            "\r 21%|██        | 126/600 [1:06:21<6:09:05, 46.72s/it]"
          ],
          "name": "stderr"
        },
        {
          "output_type": "stream",
          "text": [
            "125[Vz]  no correction: 0.036272942540232604, correction:0.0005930889913520844\n",
            "126[x]  no correction: 0.050216638685134804, correction:0.0033839638728489626\n",
            "126[y]  no correction: 0.0023920853488150987, correction:0.0021067170612205526\n",
            "126[z]  no correction: 0.013648939659378745, correction:0.001233696039766752\n",
            "126[Vx]  no correction: 0.012510945802234575, correction:0.0031971165184618627\n",
            "126[Vy]  no correction: 0.005001156855890485, correction:0.0013380640886920434\n"
          ],
          "name": "stdout"
        },
        {
          "output_type": "stream",
          "text": [
            "\r 21%|██        | 127/600 [1:06:42<5:07:49, 39.05s/it]"
          ],
          "name": "stderr"
        },
        {
          "output_type": "stream",
          "text": [
            "126[Vz]  no correction: 0.0034321238606083264, correction:0.0007590449737968154\n",
            "127[x]  no correction: 0.16502462192729253, correction:0.20678013418541158\n",
            "127 x does not work\n",
            "127[y]  no correction: 0.12886095293112856, correction:0.1781360870791177\n",
            "127 y does not work\n",
            "127[z]  no correction: 0.15697098953259, correction:0.2093262082760752\n",
            "127 z does not work\n",
            "127[Vx]  no correction: 0.12634158200668139, correction:0.18050655230800186\n",
            "127 Vx does not work\n",
            "127[Vy]  no correction: 0.16472331036852328, correction:0.20287193698181638\n",
            "127 Vy does not work\n"
          ],
          "name": "stdout"
        },
        {
          "output_type": "stream",
          "text": [
            "\r 21%|██▏       | 128/600 [1:07:07<4:34:17, 34.87s/it]"
          ],
          "name": "stderr"
        },
        {
          "output_type": "stream",
          "text": [
            "127[Vz]  no correction: 0.13475311208356916, correction:0.18981884712871366\n",
            "127 Vz does not work\n",
            "128[x]  no correction: 0.04712212631200074, correction:0.005357797077680866\n",
            "128[y]  no correction: 0.041318498720281566, correction:0.007464777335064727\n",
            "128[z]  no correction: 0.09909823623222644, correction:0.010509723633666052\n",
            "128[Vx]  no correction: 0.08838553698481227, correction:0.024276407752944353\n",
            "128[Vy]  no correction: 0.04086273149068836, correction:0.007321908890750651\n"
          ],
          "name": "stdout"
        },
        {
          "output_type": "stream",
          "text": [
            "\r 22%|██▏       | 129/600 [1:07:28<4:01:04, 30.71s/it]"
          ],
          "name": "stderr"
        },
        {
          "output_type": "stream",
          "text": [
            "128[Vz]  no correction: 0.08940038967027862, correction:0.08882129031837321\n",
            "129[x]  no correction: 0.16217464870272016, correction:0.07558283412547077\n",
            "129[y]  no correction: 0.12086590935016983, correction:0.08940543134024381\n",
            "129[z]  no correction: 0.16602480943348655, correction:0.08203537197125316\n",
            "129[Vx]  no correction: 0.15688385040925804, correction:0.14296656062781996\n",
            "129[Vy]  no correction: 0.10774285343466997, correction:0.11567531593418796\n",
            "129 Vy does not work\n"
          ],
          "name": "stdout"
        },
        {
          "output_type": "stream",
          "text": [
            "\r 22%|██▏       | 130/600 [1:07:46<3:29:57, 26.80s/it]"
          ],
          "name": "stderr"
        },
        {
          "output_type": "stream",
          "text": [
            "129[Vz]  no correction: 0.17013139179345585, correction:0.15667475115184432\n",
            "130[x]  no correction: 0.006878155669946046, correction:0.0008343850718192581\n",
            "130[y]  no correction: 0.007563276309930303, correction:0.0020191224204627314\n",
            "130[z]  no correction: 0.042383445656932736, correction:0.020666399829470612\n",
            "130[Vx]  no correction: 0.004840953165673779, correction:0.0024683661329784556\n",
            "130[Vy]  no correction: 0.004292403787097054, correction:0.0010103063682465265\n"
          ],
          "name": "stdout"
        },
        {
          "output_type": "stream",
          "text": [
            "\r 22%|██▏       | 131/600 [1:08:07<3:16:15, 25.11s/it]"
          ],
          "name": "stderr"
        },
        {
          "output_type": "stream",
          "text": [
            "130[Vz]  no correction: 0.018868211602970933, correction:0.005662199956008677\n",
            "131[x]  no correction: 0.4657424819482334, correction:0.07841584605071289\n",
            "131[y]  no correction: 0.3589980828697854, correction:0.1273409429041858\n",
            "131[z]  no correction: 0.2096903129521052, correction:0.16849740985085926\n",
            "131[Vx]  no correction: 0.4212051113810767, correction:0.3567288347465643\n",
            "131[Vy]  no correction: 0.32997319164672934, correction:0.21782189047501319\n"
          ],
          "name": "stdout"
        },
        {
          "output_type": "stream",
          "text": [
            "\r 22%|██▏       | 132/600 [1:08:25<2:59:17, 22.99s/it]"
          ],
          "name": "stderr"
        },
        {
          "output_type": "stream",
          "text": [
            "131[Vz]  no correction: 0.2911790323432767, correction:0.23077872377160175\n",
            "132[x]  no correction: 0.06742747211932078, correction:0.0008284904602769595\n",
            "132[y]  no correction: 0.06092662665497639, correction:0.0016285852017520295\n",
            "132[z]  no correction: 0.03063358110066041, correction:0.0011835052515281473\n",
            "132[Vx]  no correction: 0.05414803573840764, correction:0.0008197017179316081\n",
            "132[Vy]  no correction: 0.01964436603039058, correction:0.00045845510492443495\n"
          ],
          "name": "stdout"
        },
        {
          "output_type": "stream",
          "text": [
            "\r 22%|██▏       | 133/600 [1:09:02<3:30:36, 27.06s/it]"
          ],
          "name": "stderr"
        },
        {
          "output_type": "stream",
          "text": [
            "132[Vz]  no correction: 0.02495360535782803, correction:0.0005611414135224774\n",
            "133[x]  no correction: 0.0018997613957952375, correction:0.0002866047106767037\n",
            "133[y]  no correction: 0.004959324873026719, correction:0.00026645698215257567\n",
            "133[z]  no correction: 0.0034616154887436826, correction:0.00021035144002836848\n",
            "133[Vx]  no correction: 0.0029183240981227134, correction:0.00024940106806876954\n",
            "133[Vy]  no correction: 0.0027759461242998365, correction:0.0001965663226116956\n"
          ],
          "name": "stdout"
        },
        {
          "output_type": "stream",
          "text": [
            "\r 22%|██▏       | 134/600 [1:09:22<3:13:07, 24.87s/it]"
          ],
          "name": "stderr"
        },
        {
          "output_type": "stream",
          "text": [
            "133[Vz]  no correction: 0.0032090397938941, correction:0.00026866287535150387\n",
            "134[x]  no correction: 0.07357608108002216, correction:0.0023947304960832993\n",
            "134[y]  no correction: 0.023227764036545716, correction:0.00100924217548427\n",
            "134[z]  no correction: 0.04547595610481494, correction:0.00846959352850397\n",
            "134[Vx]  no correction: 0.037880216909003214, correction:0.0015146980736894405\n",
            "134[Vy]  no correction: 0.02430620654567587, correction:0.0015092638561307067\n"
          ],
          "name": "stdout"
        },
        {
          "output_type": "stream",
          "text": [
            "\r 22%|██▎       | 135/600 [1:09:52<3:25:12, 26.48s/it]"
          ],
          "name": "stderr"
        },
        {
          "output_type": "stream",
          "text": [
            "134[Vz]  no correction: 0.023133957198640982, correction:0.0013830218149293314\n",
            "135[x]  no correction: 0.008773751499331793, correction:0.0014073027986097118\n",
            "135[y]  no correction: 0.01952600381601303, correction:0.0088580320462778\n",
            "135[z]  no correction: 0.010053678255070595, correction:0.008198047756439987\n",
            "135[Vx]  no correction: 0.006625059182333406, correction:0.003903969696055079\n",
            "135[Vy]  no correction: 0.01765074186473302, correction:0.012225653110510605\n"
          ],
          "name": "stdout"
        },
        {
          "output_type": "stream",
          "text": [
            "\r 23%|██▎       | 136/600 [1:10:27<3:44:26, 29.02s/it]"
          ],
          "name": "stderr"
        },
        {
          "output_type": "stream",
          "text": [
            "135[Vz]  no correction: 0.0053384187466078885, correction:0.0034106842020398247\n",
            "136[x]  no correction: 0.02142267608276801, correction:0.030372356487076983\n",
            "136 x does not work\n",
            "136[y]  no correction: 0.014745205045916802, correction:0.024895375581273624\n",
            "136 y does not work\n",
            "136[z]  no correction: 0.01441829972572378, correction:0.025227767773815028\n",
            "136 z does not work\n",
            "136[Vx]  no correction: 0.02657649122314374, correction:0.0329133292588965\n",
            "136 Vx does not work\n",
            "136[Vy]  no correction: 0.010225451077727923, correction:0.02224998676097551\n",
            "136 Vy does not work\n"
          ],
          "name": "stdout"
        },
        {
          "output_type": "stream",
          "text": [
            "\r 23%|██▎       | 137/600 [1:10:57<3:47:24, 29.47s/it]"
          ],
          "name": "stderr"
        },
        {
          "output_type": "stream",
          "text": [
            "136[Vz]  no correction: 0.016991464274401454, correction:0.029196504045913986\n",
            "136 Vz does not work\n",
            "137[x]  no correction: 0.023242729187634214, correction:0.00029285155440187717\n",
            "137[y]  no correction: 0.023357185507377136, correction:0.00040323733198641484\n",
            "137[z]  no correction: 0.023685154321575804, correction:0.00024733369866811406\n",
            "137[Vx]  no correction: 0.030264952742919612, correction:0.00039756034867280404\n",
            "137[Vy]  no correction: 0.009264773317548198, correction:0.0002492881100352596\n"
          ],
          "name": "stdout"
        },
        {
          "output_type": "stream",
          "text": [
            "\r 23%|██▎       | 138/600 [1:11:29<3:52:53, 30.25s/it]"
          ],
          "name": "stderr"
        },
        {
          "output_type": "stream",
          "text": [
            "137[Vz]  no correction: 0.020954917174983895, correction:0.0003699942678065911\n",
            "138[x]  no correction: 0.050540123892200375, correction:0.00014070904927627212\n",
            "138[y]  no correction: 0.01827350925175247, correction:0.00018842750009550924\n",
            "138[z]  no correction: 0.019137841046195272, correction:0.00015610169264482216\n",
            "138[Vx]  no correction: 0.03649209174654674, correction:0.0002968344770553441\n",
            "138[Vy]  no correction: 0.015592084046904434, correction:0.0001592875584843231\n"
          ],
          "name": "stdout"
        },
        {
          "output_type": "stream",
          "text": [
            "\r 23%|██▎       | 139/600 [1:13:10<6:35:28, 51.47s/it]"
          ],
          "name": "stderr"
        },
        {
          "output_type": "stream",
          "text": [
            "138[Vz]  no correction: 0.017307431758123437, correction:0.0002042856325707763\n",
            "139[x]  no correction: 0.0016081177510080956, correction:0.0002893679326520303\n",
            "139[y]  no correction: 0.0007050325972752135, correction:0.0002495203892787882\n",
            "139[z]  no correction: 0.0009003290357776504, correction:0.0005138674370760498\n",
            "139[Vx]  no correction: 0.0011022998511020297, correction:0.00013380310096453574\n",
            "139[Vy]  no correction: 0.001648025036416853, correction:0.00038757711301917134\n"
          ],
          "name": "stdout"
        },
        {
          "output_type": "stream",
          "text": [
            "\r 23%|██▎       | 140/600 [1:13:36<5:35:10, 43.72s/it]"
          ],
          "name": "stderr"
        },
        {
          "output_type": "stream",
          "text": [
            "139[Vz]  no correction: 0.0023546498092003295, correction:0.000539231969950846\n",
            "140[x]  no correction: 0.3726385389906222, correction:0.06244232969633637\n",
            "140[y]  no correction: 0.35485538676743417, correction:0.10076172803058439\n",
            "140[z]  no correction: 0.5015092959982362, correction:0.03369658320904989\n",
            "140[Vx]  no correction: 0.43541878020233554, correction:0.3269497677709413\n",
            "140[Vy]  no correction: 0.3242621439306857, correction:0.21654880313711228\n"
          ],
          "name": "stdout"
        },
        {
          "output_type": "stream",
          "text": [
            "\r 24%|██▎       | 141/600 [1:13:54<4:35:53, 36.06s/it]"
          ],
          "name": "stderr"
        },
        {
          "output_type": "stream",
          "text": [
            "140[Vz]  no correction: 0.3757649261720385, correction:0.15170159887784954\n",
            "141[x]  no correction: 0.011272321868589182, correction:0.0024564252561023645\n",
            "141[y]  no correction: 0.0031238290977019874, correction:0.00019166487183689527\n",
            "141[z]  no correction: 0.004599515676711926, correction:0.0002281876384573829\n",
            "141[Vx]  no correction: 0.007306023229517354, correction:0.00024613763948574344\n",
            "141[Vy]  no correction: 0.012625424189722505, correction:0.0016495733487744435\n"
          ],
          "name": "stdout"
        },
        {
          "output_type": "stream",
          "text": [
            "\r 24%|██▎       | 142/600 [1:15:05<5:55:07, 46.52s/it]"
          ],
          "name": "stderr"
        },
        {
          "output_type": "stream",
          "text": [
            "141[Vz]  no correction: 0.02604045229333032, correction:0.00040423636816996016\n",
            "142[x]  no correction: 0.08847719284987621, correction:0.0022847003137955774\n",
            "142[y]  no correction: 0.04897542385165455, correction:0.005519483284333194\n",
            "142[z]  no correction: 0.061678839183312205, correction:0.0037431536595973433\n",
            "142[Vx]  no correction: 0.06298615223956062, correction:0.006496277029209477\n",
            "142[Vy]  no correction: 0.037573878429333706, correction:0.0061542078504307094\n"
          ],
          "name": "stdout"
        },
        {
          "output_type": "stream",
          "text": [
            "\r 24%|██▍       | 143/600 [1:16:12<6:39:56, 52.51s/it]"
          ],
          "name": "stderr"
        },
        {
          "output_type": "stream",
          "text": [
            "142[Vz]  no correction: 0.056159372980517694, correction:0.018390531179874593\n",
            "143[x]  no correction: 0.004711006340108775, correction:0.0006201233426264005\n",
            "143[y]  no correction: 0.002226223218446903, correction:0.000637806592487472\n",
            "143[z]  no correction: 0.0021315280220263223, correction:0.0006648648064954138\n",
            "143[Vx]  no correction: 0.0039549528236742515, correction:0.0010644426245864677\n",
            "143[Vy]  no correction: 0.001558796037356646, correction:0.0013248912912591508\n"
          ],
          "name": "stdout"
        },
        {
          "output_type": "stream",
          "text": [
            "\r 24%|██▍       | 144/600 [1:16:32<5:26:03, 42.90s/it]"
          ],
          "name": "stderr"
        },
        {
          "output_type": "stream",
          "text": [
            "143[Vz]  no correction: 0.0014153835582029085, correction:0.0016066025506230356\n",
            "143 Vz does not work\n",
            "144[x]  no correction: 0.019609383772709002, correction:0.00200938883829962\n",
            "144[y]  no correction: 0.0072079636317958305, correction:0.004116322944604919\n",
            "144[z]  no correction: 0.00208358229158348, correction:0.0004730314473815532\n",
            "144[Vx]  no correction: 0.0038868118229104256, correction:0.0007449519425371909\n",
            "144[Vy]  no correction: 0.0034340430188609774, correction:0.0006503758002624309\n"
          ],
          "name": "stdout"
        },
        {
          "output_type": "stream",
          "text": [
            "\r 24%|██▍       | 145/600 [1:16:51<4:30:52, 35.72s/it]"
          ],
          "name": "stderr"
        },
        {
          "output_type": "stream",
          "text": [
            "144[Vz]  no correction: 0.006855620547097431, correction:0.0028373444688404715\n",
            "145[x]  no correction: 0.002051848811780695, correction:0.0012411462167557575\n",
            "145[y]  no correction: 0.0016718327652585302, correction:0.0011393705900463724\n",
            "145[z]  no correction: 0.0045401740464609385, correction:0.0010427833277151398\n",
            "145[Vx]  no correction: 0.029496910826532743, correction:0.0270581079208884\n",
            "145[Vy]  no correction: 0.008398605781711942, correction:0.0061931290654249635\n"
          ],
          "name": "stdout"
        },
        {
          "output_type": "stream",
          "text": [
            "\r 24%|██▍       | 146/600 [1:17:22<4:19:37, 34.31s/it]"
          ],
          "name": "stderr"
        },
        {
          "output_type": "stream",
          "text": [
            "145[Vz]  no correction: 0.004146631466021099, correction:0.0010992831288283574\n",
            "146[x]  no correction: 0.01586954363650975, correction:0.0018084521739835054\n",
            "146[y]  no correction: 0.012649591148697424, correction:0.001434514369963506\n",
            "146[z]  no correction: 0.01607896597220244, correction:0.0009408995384282356\n",
            "146[Vx]  no correction: 0.010361983566415328, correction:0.0007975497125869876\n",
            "146[Vy]  no correction: 0.013013500034759666, correction:0.001822378901850789\n"
          ],
          "name": "stdout"
        },
        {
          "output_type": "stream",
          "text": [
            "\r 24%|██▍       | 147/600 [1:17:48<4:00:50, 31.90s/it]"
          ],
          "name": "stderr"
        },
        {
          "output_type": "stream",
          "text": [
            "146[Vz]  no correction: 0.04938661392242218, correction:0.02230439919592072\n",
            "147[x]  no correction: 0.0025626825607307745, correction:0.002237049738029523\n",
            "147[y]  no correction: 0.005390225844206509, correction:0.001555235710842343\n",
            "147[z]  no correction: 0.006755894439525573, correction:0.0002309947588176858\n",
            "147[Vx]  no correction: 0.0036233500125395757, correction:0.002981329480629995\n",
            "147[Vy]  no correction: 0.003698322759207528, correction:0.0035517420711107016\n"
          ],
          "name": "stdout"
        },
        {
          "output_type": "stream",
          "text": [
            "\r 25%|██▍       | 148/600 [1:18:09<3:34:22, 28.46s/it]"
          ],
          "name": "stderr"
        },
        {
          "output_type": "stream",
          "text": [
            "147[Vz]  no correction: 0.006187563365390559, correction:0.003949904581961764\n",
            "148[x]  no correction: 0.0798699079609099, correction:0.09731292984500126\n",
            "148 x does not work\n",
            "148[y]  no correction: 0.08472318330629684, correction:0.06089829469831498\n",
            "148[z]  no correction: 0.11423351660288734, correction:0.02843067408739837\n",
            "148[Vx]  no correction: 0.07608557825494873, correction:0.058468898669066925\n",
            "148[Vy]  no correction: 0.0882803240686166, correction:0.09702317105352871\n",
            "148 Vy does not work\n"
          ],
          "name": "stdout"
        },
        {
          "output_type": "stream",
          "text": [
            "\r 25%|██▍       | 149/600 [1:18:36<3:31:46, 28.17s/it]"
          ],
          "name": "stderr"
        },
        {
          "output_type": "stream",
          "text": [
            "148[Vz]  no correction: 0.12591506849474138, correction:0.12680385159407376\n",
            "148 Vz does not work\n",
            "149[x]  no correction: 0.01079163234827959, correction:0.0022461478838655736\n",
            "149[y]  no correction: 0.020366793588241568, correction:0.004020081317189918\n",
            "149[z]  no correction: 0.009212164822898111, correction:0.0010721375424579268\n",
            "149[Vx]  no correction: 0.012841017248950546, correction:0.0023398340353141247\n",
            "149[Vy]  no correction: 0.00509829459731136, correction:0.0017777396972894636\n"
          ],
          "name": "stdout"
        },
        {
          "output_type": "stream",
          "text": [
            "\r 25%|██▌       | 150/600 [1:19:13<3:50:37, 30.75s/it]"
          ],
          "name": "stderr"
        },
        {
          "output_type": "stream",
          "text": [
            "149[Vz]  no correction: 0.006288755334733162, correction:0.0015856753634021935\n",
            "150[x]  no correction: 0.11073945199118147, correction:0.095497079827662\n",
            "150[y]  no correction: 0.052188806362160084, correction:0.026283092895422595\n",
            "150[z]  no correction: 0.06936360319037649, correction:0.05096661231157107\n",
            "150[Vx]  no correction: 0.0882030406842689, correction:0.07261105131912168\n",
            "150[Vy]  no correction: 0.697063358973874, correction:0.6562620762585053\n"
          ],
          "name": "stdout"
        },
        {
          "output_type": "stream",
          "text": [
            "\r 25%|██▌       | 151/600 [1:19:32<3:23:04, 27.14s/it]"
          ],
          "name": "stderr"
        },
        {
          "output_type": "stream",
          "text": [
            "150[Vz]  no correction: 0.1466164529162239, correction:0.10090525003331718\n",
            "151[x]  no correction: 0.015664999625309452, correction:0.0030139070062091375\n",
            "151[y]  no correction: 0.006117907016955022, correction:0.002289063390407752\n",
            "151[z]  no correction: 0.030476939973476867, correction:0.01664537203765907\n",
            "151[Vx]  no correction: 0.03485832779444429, correction:0.012488067186676308\n",
            "151[Vy]  no correction: 0.007823319547294066, correction:0.002421330791199799\n"
          ],
          "name": "stdout"
        },
        {
          "output_type": "stream",
          "text": [
            "\r 25%|██▌       | 152/600 [1:19:53<3:09:59, 25.45s/it]"
          ],
          "name": "stderr"
        },
        {
          "output_type": "stream",
          "text": [
            "151[Vz]  no correction: 0.02563960096270425, correction:0.016895349268099328\n",
            "152[x]  no correction: 0.006954473767439143, correction:0.001154683055066272\n",
            "152[y]  no correction: 0.0013355584296332885, correction:0.0010905068061256983\n",
            "152[z]  no correction: 0.004483249834600097, correction:0.0012600412604741723\n",
            "152[Vx]  no correction: 0.0045820902078438685, correction:0.0010747198017113638\n",
            "152[Vy]  no correction: 0.0026264380378474197, correction:0.0012015467509164188\n"
          ],
          "name": "stdout"
        },
        {
          "output_type": "stream",
          "text": [
            "\r 26%|██▌       | 153/600 [1:20:17<3:05:21, 24.88s/it]"
          ],
          "name": "stderr"
        },
        {
          "output_type": "stream",
          "text": [
            "152[Vz]  no correction: 0.003508287048837059, correction:0.0011074527476380483\n"
          ],
          "name": "stdout"
        },
        {
          "output_type": "stream",
          "text": [
            "WARNING:fbprophet:Optimization terminated abnormally. Falling back to Newton.\n"
          ],
          "name": "stderr"
        },
        {
          "output_type": "stream",
          "text": [
            "153[x]  no correction: 0.10981906097969249, correction:0.018605185648516303\n"
          ],
          "name": "stdout"
        },
        {
          "output_type": "stream",
          "text": [
            "WARNING:fbprophet:Optimization terminated abnormally. Falling back to Newton.\n"
          ],
          "name": "stderr"
        },
        {
          "output_type": "stream",
          "text": [
            "153[y]  no correction: 0.11900197097093546, correction:0.1078293326232797\n",
            "153[z]  no correction: 0.054932901215051365, correction:0.0723861239126259\n",
            "153 z does not work\n"
          ],
          "name": "stdout"
        },
        {
          "output_type": "stream",
          "text": [
            "WARNING:fbprophet:Optimization terminated abnormally. Falling back to Newton.\n"
          ],
          "name": "stderr"
        },
        {
          "output_type": "stream",
          "text": [
            "153[Vx]  no correction: 0.13725675323517872, correction:0.063859611602662\n",
            "153[Vy]  no correction: 0.6014654940845146, correction:0.9459363915827569\n",
            "153 Vy does not work\n"
          ],
          "name": "stdout"
        },
        {
          "output_type": "stream",
          "text": [
            "\r 26%|██▌       | 154/600 [1:22:46<7:43:01, 62.29s/it]"
          ],
          "name": "stderr"
        },
        {
          "output_type": "stream",
          "text": [
            "153[Vz]  no correction: 0.08730669970650108, correction:0.02254842101099324\n",
            "154[x]  no correction: 0.21450302840347915, correction:0.11811171144803091\n",
            "154[y]  no correction: 0.12294515210859096, correction:0.08396515474424605\n",
            "154[z]  no correction: 0.13294497239902797, correction:0.1082694581239388\n"
          ],
          "name": "stdout"
        },
        {
          "output_type": "stream",
          "text": [
            "WARNING:fbprophet:Optimization terminated abnormally. Falling back to Newton.\n"
          ],
          "name": "stderr"
        },
        {
          "output_type": "stream",
          "text": [
            "154[Vx]  no correction: 0.22522496918531992, correction:0.17529085594973576\n",
            "154[Vy]  no correction: 0.11746863283444824, correction:0.12302789123870228\n",
            "154 Vy does not work\n"
          ],
          "name": "stdout"
        },
        {
          "output_type": "stream",
          "text": [
            "\r 26%|██▌       | 155/600 [1:23:08<6:10:42, 49.98s/it]"
          ],
          "name": "stderr"
        },
        {
          "output_type": "stream",
          "text": [
            "154[Vz]  no correction: 0.1697457550331398, correction:0.10084626345355427\n",
            "155[x]  no correction: 0.013150634671775253, correction:0.009592153024828597\n",
            "155[y]  no correction: 0.023402887153450732, correction:0.007188983383889563\n",
            "155[z]  no correction: 0.024812739628240956, correction:0.000675090058335319\n",
            "155[Vx]  no correction: 0.013811135174210036, correction:0.006875348367762936\n",
            "155[Vy]  no correction: 0.030642515859293926, correction:0.017241108865305697\n"
          ],
          "name": "stdout"
        },
        {
          "output_type": "stream",
          "text": [
            "\r 26%|██▌       | 156/600 [1:23:25<4:58:26, 40.33s/it]"
          ],
          "name": "stderr"
        },
        {
          "output_type": "stream",
          "text": [
            "155[Vz]  no correction: 0.02923528293975081, correction:0.05694634924834308\n",
            "155 Vz does not work\n",
            "156[x]  no correction: 0.0029059446049388704, correction:0.0005886482191917381\n",
            "156[y]  no correction: 0.0020035823055416613, correction:0.0009900121204537173\n",
            "156[z]  no correction: 0.0007079576602992855, correction:0.0016487911544950063\n",
            "156 z does not work\n",
            "156[Vx]  no correction: 0.004020254908775917, correction:0.0018294828028372623\n",
            "156[Vy]  no correction: 0.001482868475322439, correction:0.00039765825800371383\n"
          ],
          "name": "stdout"
        },
        {
          "output_type": "stream",
          "text": [
            "\r 26%|██▌       | 157/600 [1:23:55<4:33:15, 37.01s/it]"
          ],
          "name": "stderr"
        },
        {
          "output_type": "stream",
          "text": [
            "156[Vz]  no correction: 0.0018535912811801995, correction:0.002742024987877021\n",
            "156 Vz does not work\n",
            "157[x]  no correction: 0.007812141303660551, correction:0.00025718288552550525\n",
            "157[y]  no correction: 0.03000833001326492, correction:0.005684302992929276\n",
            "157[z]  no correction: 0.004357896898864797, correction:0.000613842081927644\n",
            "157[Vx]  no correction: 0.021105001314476752, correction:0.0021900255474476995\n",
            "157[Vy]  no correction: 0.007253051071765698, correction:0.0014447774677763044\n"
          ],
          "name": "stdout"
        },
        {
          "output_type": "stream",
          "text": [
            "\r 26%|██▋       | 158/600 [1:24:34<4:37:32, 37.67s/it]"
          ],
          "name": "stderr"
        },
        {
          "output_type": "stream",
          "text": [
            "157[Vz]  no correction: 0.006454226795007735, correction:0.002030148067883678\n",
            "158[x]  no correction: 0.0048966303905567075, correction:0.0008708008872326565\n",
            "158[y]  no correction: 0.014534145335340887, correction:0.0018598632480320452\n",
            "158[z]  no correction: 0.011225807092862233, correction:0.0016527299494454933\n",
            "158[Vx]  no correction: 0.00762735963325629, correction:0.0010696696929289099\n",
            "158[Vy]  no correction: 0.025158055115396996, correction:0.011226458233218356\n"
          ],
          "name": "stdout"
        },
        {
          "output_type": "stream",
          "text": [
            "\r 26%|██▋       | 159/600 [1:24:52<3:54:28, 31.90s/it]"
          ],
          "name": "stderr"
        },
        {
          "output_type": "stream",
          "text": [
            "158[Vz]  no correction: 0.007064591281367387, correction:0.00235131825767241\n",
            "159[x]  no correction: 0.016354759110266542, correction:0.0038349386024561266\n",
            "159[y]  no correction: 0.0075146660238706465, correction:0.0059112308909446305\n",
            "159[z]  no correction: 0.007390533407560725, correction:0.008754773231590445\n",
            "159 z does not work\n",
            "159[Vx]  no correction: 0.05241681583749749, correction:0.04771831490918649\n",
            "159[Vy]  no correction: 0.05889650735956363, correction:0.04202581465400101\n"
          ],
          "name": "stdout"
        },
        {
          "output_type": "stream",
          "text": [
            "\r 27%|██▋       | 160/600 [1:25:19<3:41:49, 30.25s/it]"
          ],
          "name": "stderr"
        },
        {
          "output_type": "stream",
          "text": [
            "159[Vz]  no correction: 0.00262946250386451, correction:0.003688564213437318\n",
            "159 Vz does not work\n",
            "160[x]  no correction: 0.0019305355499548808, correction:0.0006614019848151358\n",
            "160[y]  no correction: 0.009598763169286924, correction:0.0004190539834940291\n",
            "160[z]  no correction: 0.003675867176907145, correction:0.00018100564724866756\n",
            "160[Vx]  no correction: 0.0015539586206126884, correction:0.0005571039272724324\n",
            "160[Vy]  no correction: 0.030815357555316225, correction:0.006332929821582137\n"
          ],
          "name": "stdout"
        },
        {
          "output_type": "stream",
          "text": [
            "\r 27%|██▋       | 161/600 [1:25:47<3:37:28, 29.72s/it]"
          ],
          "name": "stderr"
        },
        {
          "output_type": "stream",
          "text": [
            "160[Vz]  no correction: 0.00230126974470273, correction:0.0005662956039222187\n",
            "161[x]  no correction: 0.05147976859857739, correction:0.008158255242340215\n",
            "161[y]  no correction: 0.1557035853989539, correction:0.03384767465282138\n",
            "161[z]  no correction: 0.061890811106509125, correction:0.0060274521263013435\n",
            "161[Vx]  no correction: 0.07732765714850823, correction:0.01603035886702677\n",
            "161[Vy]  no correction: 0.16782454789022774, correction:0.016180914395302212\n"
          ],
          "name": "stdout"
        },
        {
          "output_type": "stream",
          "text": [
            "\r 27%|██▋       | 162/600 [1:26:11<3:24:57, 28.08s/it]"
          ],
          "name": "stderr"
        },
        {
          "output_type": "stream",
          "text": [
            "161[Vz]  no correction: 0.05432574164904908, correction:0.007946234439394522\n",
            "162[x]  no correction: 0.4819517220307513, correction:0.13716641482047748\n",
            "162[y]  no correction: 0.38431779508508745, correction:0.24636245737779922\n",
            "162[z]  no correction: 0.499923936965304, correction:0.10928315459138195\n",
            "162[Vx]  no correction: 0.4609104917524695, correction:0.32664374681375874\n",
            "162[Vy]  no correction: 0.38585215591947175, correction:0.3229467577948663\n"
          ],
          "name": "stdout"
        },
        {
          "output_type": "stream",
          "text": [
            "\r 27%|██▋       | 163/600 [1:26:29<3:00:57, 24.85s/it]"
          ],
          "name": "stderr"
        },
        {
          "output_type": "stream",
          "text": [
            "162[Vz]  no correction: 0.43784183308829727, correction:0.3385417992595149\n",
            "163[x]  no correction: 0.03467335705671178, correction:0.003150468278569581\n",
            "163[y]  no correction: 0.035749519029886455, correction:0.020474162258632158\n",
            "163[z]  no correction: 0.006044743324537377, correction:0.0032969860259097687\n",
            "163[Vx]  no correction: 0.012733544891159108, correction:0.005986503625319898\n",
            "163[Vy]  no correction: 0.009893255061264069, correction:0.0018088775856886289\n"
          ],
          "name": "stdout"
        },
        {
          "output_type": "stream",
          "text": [
            "\r 27%|██▋       | 164/600 [1:26:46<2:44:40, 22.66s/it]"
          ],
          "name": "stderr"
        },
        {
          "output_type": "stream",
          "text": [
            "163[Vz]  no correction: 0.017735898960755246, correction:0.0019185004734573398\n"
          ],
          "name": "stdout"
        },
        {
          "output_type": "stream",
          "text": [
            "WARNING:fbprophet:Optimization terminated abnormally. Falling back to Newton.\n"
          ],
          "name": "stderr"
        },
        {
          "output_type": "stream",
          "text": [
            "164[x]  no correction: 0.0328074462776755, correction:0.010609698340142366\n",
            "164[y]  no correction: 0.16888939771699732, correction:0.1833788395020675\n",
            "164 y does not work\n",
            "164[z]  no correction: 0.06571326987853088, correction:0.04727696202184204\n",
            "164[Vx]  no correction: 0.03768612361959858, correction:0.12999597911154956\n",
            "164 Vx does not work\n",
            "164[Vy]  no correction: 0.15713829226568357, correction:0.10780588006295636\n"
          ],
          "name": "stdout"
        },
        {
          "output_type": "stream",
          "text": [
            "\r 28%|██▊       | 165/600 [1:27:04<2:34:25, 21.30s/it]"
          ],
          "name": "stderr"
        },
        {
          "output_type": "stream",
          "text": [
            "164[Vz]  no correction: 0.044873066454681323, correction:0.08453188882942363\n",
            "164 Vz does not work\n",
            "165[x]  no correction: 0.02812332832672607, correction:0.005419766718388501\n",
            "165[y]  no correction: 0.0027143234758782385, correction:0.0016474099509566074\n",
            "165[z]  no correction: 0.0011840556719181718, correction:0.0006379053165996045\n",
            "165[Vx]  no correction: 0.017746401324773595, correction:0.009460400946801653\n",
            "165[Vy]  no correction: 0.001210140265796289, correction:0.004415706331366676\n",
            "165 Vy does not work\n"
          ],
          "name": "stdout"
        },
        {
          "output_type": "stream",
          "text": [
            "\r 28%|██▊       | 166/600 [1:27:23<2:27:06, 20.34s/it]"
          ],
          "name": "stderr"
        },
        {
          "output_type": "stream",
          "text": [
            "165[Vz]  no correction: 0.0034150150041317453, correction:0.008474059918677041\n",
            "165 Vz does not work\n",
            "166[x]  no correction: 0.00969630744474925, correction:0.004644674878568142\n",
            "166[y]  no correction: 0.002581757303602882, correction:0.003659910916985886\n",
            "166 y does not work\n",
            "166[z]  no correction: 0.001617474564020812, correction:0.0018200036664664757\n",
            "166 z does not work\n",
            "166[Vx]  no correction: 0.00182766986491807, correction:0.002626623894424739\n",
            "166 Vx does not work\n",
            "166[Vy]  no correction: 0.002515036555934226, correction:0.0038327713405346205\n",
            "166 Vy does not work\n"
          ],
          "name": "stdout"
        },
        {
          "output_type": "stream",
          "text": [
            "\r 28%|██▊       | 167/600 [1:27:55<2:53:47, 24.08s/it]"
          ],
          "name": "stderr"
        },
        {
          "output_type": "stream",
          "text": [
            "166[Vz]  no correction: 0.00393863741312831, correction:0.0018309206217430763\n",
            "167[x]  no correction: 0.024151000389913163, correction:0.0024684457514626153\n",
            "167[y]  no correction: 0.01701684217583587, correction:0.0028540733596586804\n",
            "167[z]  no correction: 0.02038840041944054, correction:0.002544135789830762\n",
            "167[Vx]  no correction: 0.017410701424994807, correction:0.001243476835342852\n",
            "167[Vy]  no correction: 0.006072269906105449, correction:0.001976402065351869\n"
          ],
          "name": "stdout"
        },
        {
          "output_type": "stream",
          "text": [
            "\r 28%|██▊       | 168/600 [1:28:16<2:46:28, 23.12s/it]"
          ],
          "name": "stderr"
        },
        {
          "output_type": "stream",
          "text": [
            "167[Vz]  no correction: 0.012320321129774025, correction:0.002855374738714886\n",
            "168[x]  no correction: 0.019777013781237394, correction:0.00814120206563272\n",
            "168[y]  no correction: 0.03446318566332641, correction:0.012346816043141055\n",
            "168[z]  no correction: 0.019788910244975734, correction:0.007570802355745585\n",
            "168[Vx]  no correction: 0.05504781604690351, correction:0.04889906203584325\n",
            "168[Vy]  no correction: 0.0635628699077071, correction:0.03284427156218186\n"
          ],
          "name": "stdout"
        },
        {
          "output_type": "stream",
          "text": [
            "\r 28%|██▊       | 169/600 [1:28:34<2:35:09, 21.60s/it]"
          ],
          "name": "stderr"
        },
        {
          "output_type": "stream",
          "text": [
            "168[Vz]  no correction: 0.03655218959344892, correction:0.030821730217786402\n",
            "169[x]  no correction: 0.03916274918678485, correction:0.006758534822336574\n",
            "169[y]  no correction: 0.016076627330626196, correction:0.04030415989365545\n",
            "169 y does not work\n",
            "169[z]  no correction: 0.05385014059924677, correction:0.0195049628935407\n"
          ],
          "name": "stdout"
        },
        {
          "output_type": "stream",
          "text": [
            "WARNING:fbprophet:Optimization terminated abnormally. Falling back to Newton.\n"
          ],
          "name": "stderr"
        },
        {
          "output_type": "stream",
          "text": [
            "169[Vx]  no correction: 0.04207600127301817, correction:0.019148103411668373\n",
            "169[Vy]  no correction: 0.008832509622558484, correction:0.057262594502399164\n",
            "169 Vy does not work\n"
          ],
          "name": "stdout"
        },
        {
          "output_type": "stream",
          "text": [
            "\r 28%|██▊       | 170/600 [1:28:52<2:27:25, 20.57s/it]"
          ],
          "name": "stderr"
        },
        {
          "output_type": "stream",
          "text": [
            "169[Vz]  no correction: 0.0066718651465234105, correction:0.011390727148378056\n",
            "169 Vz does not work\n",
            "170[x]  no correction: 0.18546863708862985, correction:0.07892062956701953\n",
            "170[y]  no correction: 0.19305321003633344, correction:0.04715309862477727\n",
            "170[z]  no correction: 0.11120962451380265, correction:0.08486701823049815\n",
            "170[Vx]  no correction: 0.1809645456139396, correction:0.12805643850720483\n",
            "170[Vy]  no correction: 0.177760665749524, correction:0.13079473079032825\n"
          ],
          "name": "stdout"
        },
        {
          "output_type": "stream",
          "text": [
            "\r 28%|██▊       | 171/600 [1:29:17<2:35:46, 21.79s/it]"
          ],
          "name": "stderr"
        },
        {
          "output_type": "stream",
          "text": [
            "170[Vz]  no correction: 0.1468191765688825, correction:0.10185769882703821\n",
            "171[x]  no correction: 0.38844706042338667, correction:0.07310356640630317\n",
            "171[y]  no correction: 0.34530425323539504, correction:0.13566269182699447\n",
            "171[z]  no correction: 0.19236241448388366, correction:0.1378883399265139\n",
            "171[Vx]  no correction: 0.33117987945329064, correction:0.2430233336939083\n",
            "171[Vy]  no correction: 0.30256272681696034, correction:0.19776280597808577\n"
          ],
          "name": "stdout"
        },
        {
          "output_type": "stream",
          "text": [
            "\r 29%|██▊       | 172/600 [1:29:37<2:30:22, 21.08s/it]"
          ],
          "name": "stderr"
        },
        {
          "output_type": "stream",
          "text": [
            "171[Vz]  no correction: 0.2119345174742571, correction:0.15067099602453113\n",
            "172[x]  no correction: 0.14997074901444693, correction:0.007546840910612128\n",
            "172[y]  no correction: 0.05337546333319447, correction:0.0039986931707279676\n",
            "172[z]  no correction: 0.08797664077646772, correction:0.0072153831916356714\n",
            "172[Vx]  no correction: 0.11831290745538349, correction:0.012299017934892352\n",
            "172[Vy]  no correction: 0.07441878841670761, correction:0.012238133348748854\n"
          ],
          "name": "stdout"
        },
        {
          "output_type": "stream",
          "text": [
            "\r 29%|██▉       | 173/600 [1:30:06<2:48:18, 23.65s/it]"
          ],
          "name": "stderr"
        },
        {
          "output_type": "stream",
          "text": [
            "172[Vz]  no correction: 0.07224102126531956, correction:0.03544447282882193\n",
            "173[x]  no correction: 0.061001633694954996, correction:0.000369806736392747\n",
            "173[y]  no correction: 0.08850327650177463, correction:0.0009731372687467328\n",
            "173[z]  no correction: 0.1151490150648322, correction:0.0007249413795998559\n",
            "173[Vx]  no correction: 0.057211541155862154, correction:0.0005200511264804659\n",
            "173[Vy]  no correction: 0.07428423015756903, correction:0.0005579459986542914\n"
          ],
          "name": "stdout"
        },
        {
          "output_type": "stream",
          "text": [
            "\r 29%|██▉       | 174/600 [1:31:08<4:09:51, 35.19s/it]"
          ],
          "name": "stderr"
        },
        {
          "output_type": "stream",
          "text": [
            "173[Vz]  no correction: 0.0963938476807226, correction:0.0012582631644708923\n",
            "174[x]  no correction: 0.18981727107882493, correction:0.03555113659538576\n",
            "174[y]  no correction: 0.14132175138509423, correction:0.08011124746156055\n",
            "174[z]  no correction: 0.14101442608161313, correction:0.0626761250393858\n",
            "174[Vx]  no correction: 0.15108210424416446, correction:0.09960287442561823\n",
            "174[Vy]  no correction: 0.1308015619315349, correction:0.08625271632999149\n"
          ],
          "name": "stdout"
        },
        {
          "output_type": "stream",
          "text": [
            "\r 29%|██▉       | 175/600 [1:31:30<3:39:54, 31.04s/it]WARNING:fbprophet:Optimization terminated abnormally. Falling back to Newton.\n"
          ],
          "name": "stderr"
        },
        {
          "output_type": "stream",
          "text": [
            "174[Vz]  no correction: 0.14093912090334884, correction:0.10248441557921226\n",
            "175[x]  no correction: 0.022933930597486656, correction:0.024781315755336444\n",
            "175 x does not work\n"
          ],
          "name": "stdout"
        },
        {
          "output_type": "stream",
          "text": [
            "WARNING:fbprophet:Optimization terminated abnormally. Falling back to Newton.\n"
          ],
          "name": "stderr"
        },
        {
          "output_type": "stream",
          "text": [
            "175[y]  no correction: 0.021420309840550957, correction:0.012713730470028922\n"
          ],
          "name": "stdout"
        },
        {
          "output_type": "stream",
          "text": [
            "WARNING:fbprophet:Optimization terminated abnormally. Falling back to Newton.\n"
          ],
          "name": "stderr"
        },
        {
          "output_type": "stream",
          "text": [
            "175[z]  no correction: 0.037845910976251486, correction:0.037183769181334425\n",
            "175[Vx]  no correction: 0.033142866229437316, correction:0.19638609391717557\n",
            "175 Vx does not work\n"
          ],
          "name": "stdout"
        },
        {
          "output_type": "stream",
          "text": [
            "WARNING:fbprophet:Optimization terminated abnormally. Falling back to Newton.\n"
          ],
          "name": "stderr"
        },
        {
          "output_type": "stream",
          "text": [
            "175[Vy]  no correction: 0.08292653551255721, correction:0.16513942591632488\n",
            "175 Vy does not work\n"
          ],
          "name": "stdout"
        },
        {
          "output_type": "stream",
          "text": [
            "\r 29%|██▉       | 176/600 [1:32:00<3:36:55, 30.70s/it]"
          ],
          "name": "stderr"
        },
        {
          "output_type": "stream",
          "text": [
            "175[Vz]  no correction: 0.048546794977418616, correction:0.33326922932189945\n",
            "175 Vz does not work\n",
            "176[x]  no correction: 0.005239055695424584, correction:0.0030410480959682357\n",
            "176[y]  no correction: 0.005309446448851742, correction:0.0013633037455968117\n",
            "176[z]  no correction: 0.01501736134753179, correction:0.005072721002833242\n",
            "176[Vx]  no correction: 0.0876522692610503, correction:0.044953758444092794\n",
            "176[Vy]  no correction: 0.108729788896007, correction:0.04598030535637439\n"
          ],
          "name": "stdout"
        },
        {
          "output_type": "stream",
          "text": [
            "\r 30%|██▉       | 177/600 [1:32:22<3:18:00, 28.09s/it]"
          ],
          "name": "stderr"
        },
        {
          "output_type": "stream",
          "text": [
            "176[Vz]  no correction: 0.05099567154778657, correction:0.03143616393350371\n",
            "177[x]  no correction: 0.010465815004925317, correction:0.007731190857571982\n",
            "177[y]  no correction: 0.019617675915703472, correction:0.013997403120328352\n",
            "177[z]  no correction: 0.003551139564239775, correction:0.007422283142372754\n",
            "177 z does not work\n",
            "177[Vx]  no correction: 0.010179112083127554, correction:0.00580085110701968\n",
            "177[Vy]  no correction: 0.01784292184247628, correction:0.011461927896583091\n"
          ],
          "name": "stdout"
        },
        {
          "output_type": "stream",
          "text": [
            "\r 30%|██▉       | 178/600 [1:32:39<2:54:23, 24.80s/it]"
          ],
          "name": "stderr"
        },
        {
          "output_type": "stream",
          "text": [
            "177[Vz]  no correction: 0.00620403035282914, correction:0.01045380145290525\n",
            "177 Vz does not work\n",
            "178[x]  no correction: 0.008418264519557869, correction:0.001692507065694966\n",
            "178[y]  no correction: 0.0051639053214519795, correction:0.0017052706755524688\n",
            "178[z]  no correction: 0.005444557607438333, correction:0.0029877555394356077\n",
            "178[Vx]  no correction: 0.004891256633601358, correction:0.0007919196466004806\n",
            "178[Vy]  no correction: 0.007870759778889767, correction:0.0038499496525367127\n"
          ],
          "name": "stdout"
        },
        {
          "output_type": "stream",
          "text": [
            "\r 30%|██▉       | 179/600 [1:32:56<2:39:19, 22.71s/it]"
          ],
          "name": "stderr"
        },
        {
          "output_type": "stream",
          "text": [
            "178[Vz]  no correction: 0.008709313434917432, correction:0.00247379176245193\n",
            "179[x]  no correction: 0.41186302639832545, correction:0.13600928531104123\n",
            "179[y]  no correction: 0.30975974770970127, correction:0.21539796624855448\n",
            "179[z]  no correction: 0.4400738286315918, correction:0.3279551202448417\n",
            "179[Vx]  no correction: 0.3941150466433128, correction:0.28662753191660423\n"
          ],
          "name": "stdout"
        },
        {
          "output_type": "stream",
          "text": [
            "WARNING:fbprophet:Optimization terminated abnormally. Falling back to Newton.\n"
          ],
          "name": "stderr"
        },
        {
          "output_type": "stream",
          "text": [
            "179[Vy]  no correction: 0.2917175147194441, correction:0.24723111226285593\n"
          ],
          "name": "stdout"
        },
        {
          "output_type": "stream",
          "text": [
            "\r 30%|███       | 180/600 [1:33:20<2:41:33, 23.08s/it]"
          ],
          "name": "stderr"
        },
        {
          "output_type": "stream",
          "text": [
            "179[Vz]  no correction: 0.548285826250763, correction:0.5062206447426223\n",
            "180[x]  no correction: 0.0024171295691266374, correction:0.0002488604911410425\n",
            "180[y]  no correction: 0.003810087435333725, correction:0.0004659365388803199\n",
            "180[z]  no correction: 0.004518689059371821, correction:0.0013176456162063339\n",
            "180[Vx]  no correction: 0.0018342189905915282, correction:0.000601819085367293\n",
            "180[Vy]  no correction: 0.0020103429524552584, correction:0.0012618224763395161\n"
          ],
          "name": "stdout"
        },
        {
          "output_type": "stream",
          "text": [
            "\r 30%|███       | 181/600 [1:33:50<2:54:44, 25.02s/it]"
          ],
          "name": "stderr"
        },
        {
          "output_type": "stream",
          "text": [
            "180[Vz]  no correction: 0.003595810434816321, correction:0.0011518191268072363\n",
            "181[x]  no correction: 0.009306852242772935, correction:0.003126108959591189\n",
            "181[y]  no correction: 0.02356168665700661, correction:0.0052804008423304565\n",
            "181[z]  no correction: 0.03338343753959494, correction:0.023427038956647616\n",
            "181[Vx]  no correction: 0.007783872312599752, correction:0.0034136789072793023\n",
            "181[Vy]  no correction: 0.017119505451403595, correction:0.004646416615015464\n"
          ],
          "name": "stdout"
        },
        {
          "output_type": "stream",
          "text": [
            "\r 30%|███       | 182/600 [1:34:01<2:25:38, 20.91s/it]"
          ],
          "name": "stderr"
        },
        {
          "output_type": "stream",
          "text": [
            "181[Vz]  no correction: 0.015475412311633399, correction:0.0071522107017056346\n",
            "182[x]  no correction: 0.0034927902577752087, correction:0.0004572694707073387\n",
            "182[y]  no correction: 0.0023767158289106447, correction:0.0004744085223685906\n",
            "182[z]  no correction: 0.043441456687353296, correction:0.0014166158384768541\n",
            "182[Vx]  no correction: 0.0022473147239278424, correction:0.0006067366244431856\n",
            "182[Vy]  no correction: 0.0017204848387992896, correction:0.0003048116143010808\n"
          ],
          "name": "stdout"
        },
        {
          "output_type": "stream",
          "text": [
            "\r 30%|███       | 183/600 [1:34:19<2:19:07, 20.02s/it]"
          ],
          "name": "stderr"
        },
        {
          "output_type": "stream",
          "text": [
            "182[Vz]  no correction: 0.0035756521106988354, correction:0.0005918867794465302\n",
            "183[x]  no correction: 0.08220387637296829, correction:0.0003008884037374476\n",
            "183[y]  no correction: 0.036979317367070344, correction:0.00017196160799038781\n",
            "183[z]  no correction: 0.09132903301945844, correction:0.00039224248361645233\n",
            "183[Vx]  no correction: 0.09182469012722025, correction:0.000340145316355266\n",
            "183[Vy]  no correction: 0.03378913625980961, correction:0.0004812336603982102\n"
          ],
          "name": "stdout"
        },
        {
          "output_type": "stream",
          "text": [
            "\r 31%|███       | 184/600 [1:35:48<4:42:02, 40.68s/it]"
          ],
          "name": "stderr"
        },
        {
          "output_type": "stream",
          "text": [
            "183[Vz]  no correction: 0.0713727970345307, correction:0.001864499611803942\n",
            "184[x]  no correction: 0.018416490772763888, correction:0.030036393723105913\n",
            "184 x does not work\n",
            "184[y]  no correction: 0.020523063365985056, correction:0.031052527646321867\n",
            "184 y does not work\n",
            "184[z]  no correction: 0.02525214410995668, correction:0.0340401555297589\n",
            "184 z does not work\n",
            "184[Vx]  no correction: 0.024036728780999467, correction:0.035364074849367454\n",
            "184 Vx does not work\n",
            "184[Vy]  no correction: 0.021239882821684014, correction:0.03193291635084408\n",
            "184 Vy does not work\n"
          ],
          "name": "stdout"
        },
        {
          "output_type": "stream",
          "text": [
            "\r 31%|███       | 185/600 [1:36:23<4:29:39, 38.99s/it]"
          ],
          "name": "stderr"
        },
        {
          "output_type": "stream",
          "text": [
            "184[Vz]  no correction: 0.034428693760521815, correction:0.04085643677859028\n",
            "184 Vz does not work\n",
            "185[x]  no correction: 0.0036472335163394544, correction:0.001418890418670693\n",
            "185[y]  no correction: 0.010159054286202637, correction:0.003784018980402742\n",
            "185[z]  no correction: 0.009253671286653003, correction:0.001299794079924359\n",
            "185[Vx]  no correction: 0.013603045881675076, correction:0.01592850573334823\n",
            "185 Vx does not work\n",
            "185[Vy]  no correction: 0.0041893691467361225, correction:0.001424215624580348\n"
          ],
          "name": "stdout"
        },
        {
          "output_type": "stream",
          "text": [
            "\r 31%|███       | 186/600 [1:36:41<3:44:56, 32.60s/it]"
          ],
          "name": "stderr"
        },
        {
          "output_type": "stream",
          "text": [
            "185[Vz]  no correction: 0.010580559207436047, correction:0.0030270317197890573\n",
            "186[x]  no correction: 0.006196045225267545, correction:0.00530628689915424\n",
            "186[y]  no correction: 0.0032126887892439293, correction:0.003234340269905041\n",
            "186 y does not work\n",
            "186[z]  no correction: 0.0038628850250965437, correction:0.003598009039472323\n",
            "186[Vx]  no correction: 0.008448526911042892, correction:0.007871878505572735\n",
            "186[Vy]  no correction: 0.011740838530621684, correction:0.012679102961163022\n",
            "186 Vy does not work\n"
          ],
          "name": "stdout"
        },
        {
          "output_type": "stream",
          "text": [
            "\r 31%|███       | 187/600 [1:37:23<4:04:23, 35.50s/it]"
          ],
          "name": "stderr"
        },
        {
          "output_type": "stream",
          "text": [
            "186[Vz]  no correction: 0.010125215582049372, correction:0.010249702364763573\n",
            "186 Vz does not work\n",
            "187[x]  no correction: 0.014490900641231451, correction:0.010347594809830758\n",
            "187[y]  no correction: 0.004837035546637317, correction:0.003971797066317037\n",
            "187[z]  no correction: 0.011012649153303638, correction:0.0033203731764035573\n",
            "187[Vx]  no correction: 0.013783778607964408, correction:0.012490630030041635\n",
            "187[Vy]  no correction: 0.008883156887093126, correction:0.008649641423832555\n"
          ],
          "name": "stdout"
        },
        {
          "output_type": "stream",
          "text": [
            "\r 31%|███▏      | 188/600 [1:37:48<3:40:59, 32.18s/it]"
          ],
          "name": "stderr"
        },
        {
          "output_type": "stream",
          "text": [
            "187[Vz]  no correction: 0.010872602121415968, correction:0.00497920544090052\n",
            "188[x]  no correction: 0.004687285426978288, correction:0.0018545982897180732\n",
            "188[y]  no correction: 0.0093998934332447, correction:0.0030646574335098224\n",
            "188[z]  no correction: 0.01006752485410389, correction:0.007190246692148117\n",
            "188[Vx]  no correction: 0.004578258606431172, correction:0.002145234444135834\n",
            "188[Vy]  no correction: 0.003554682701613107, correction:0.0033367355737275\n"
          ],
          "name": "stdout"
        },
        {
          "output_type": "stream",
          "text": [
            "\r 32%|███▏      | 189/600 [1:38:06<3:12:39, 28.13s/it]"
          ],
          "name": "stderr"
        },
        {
          "output_type": "stream",
          "text": [
            "188[Vz]  no correction: 0.004311044499284867, correction:0.0031831709904283838\n",
            "189[x]  no correction: 0.018733983928681905, correction:0.014136135916326481\n",
            "189[y]  no correction: 0.011874601826717167, correction:0.031066528303324365\n",
            "189 y does not work\n",
            "189[z]  no correction: 0.006318712363501937, correction:0.005317825197134071\n",
            "189[Vx]  no correction: 0.006849001350577596, correction:0.007125833891850244\n",
            "189 Vx does not work\n",
            "189[Vy]  no correction: 0.00648574138568031, correction:0.004854288238246368\n"
          ],
          "name": "stdout"
        },
        {
          "output_type": "stream",
          "text": [
            "\r 32%|███▏      | 190/600 [1:38:17<2:37:29, 23.05s/it]"
          ],
          "name": "stderr"
        },
        {
          "output_type": "stream",
          "text": [
            "189[Vz]  no correction: 0.005272134750723259, correction:0.005981670036278561\n",
            "189 Vz does not work\n",
            "190[x]  no correction: 0.001978686710082782, correction:0.0006006444810036459\n",
            "190[y]  no correction: 0.006352759692500293, correction:0.002319078481417511\n",
            "190[z]  no correction: 0.003100199468814868, correction:0.0005885039636484082\n",
            "190[Vx]  no correction: 0.00606676094941392, correction:0.0024654675440044073\n"
          ],
          "name": "stdout"
        },
        {
          "output_type": "stream",
          "text": [
            "WARNING:fbprophet:Optimization terminated abnormally. Falling back to Newton.\n"
          ],
          "name": "stderr"
        },
        {
          "output_type": "stream",
          "text": [
            "190[Vy]  no correction: 0.002894545350614452, correction:0.0015950379256599514\n"
          ],
          "name": "stdout"
        },
        {
          "output_type": "stream",
          "text": [
            "\r 32%|███▏      | 191/600 [1:38:47<2:50:44, 25.05s/it]"
          ],
          "name": "stderr"
        },
        {
          "output_type": "stream",
          "text": [
            "190[Vz]  no correction: 0.040997213270685444, correction:0.015270063111447917\n",
            "191[x]  no correction: 0.0058015015836749735, correction:0.00173166311020995\n",
            "191[y]  no correction: 0.00361258615704722, correction:0.0010352629552631892\n",
            "191[z]  no correction: 0.004627630927896989, correction:0.0012994194014365181\n",
            "191[Vx]  no correction: 0.00952838432112566, correction:0.007432778112676823\n",
            "191[Vy]  no correction: 0.003972815205811435, correction:0.003435684685671191\n"
          ],
          "name": "stdout"
        },
        {
          "output_type": "stream",
          "text": [
            "\r 32%|███▏      | 192/600 [1:39:11<2:48:01, 24.71s/it]"
          ],
          "name": "stderr"
        },
        {
          "output_type": "stream",
          "text": [
            "191[Vz]  no correction: 0.11490679298075264, correction:0.11328244918547027\n",
            "192[x]  no correction: 0.02328474039107543, correction:0.002143880747203292\n",
            "192[y]  no correction: 0.007405260156291674, correction:0.0009369339998662151\n",
            "192[z]  no correction: 0.0028882917518600814, correction:0.0009155925255032695\n",
            "192[Vx]  no correction: 0.014534996204888528, correction:0.0014450242548863452\n",
            "192[Vy]  no correction: 0.003505775247984316, correction:0.0010374572501585446\n"
          ],
          "name": "stdout"
        },
        {
          "output_type": "stream",
          "text": [
            "\r 32%|███▏      | 193/600 [1:39:30<2:36:46, 23.11s/it]"
          ],
          "name": "stderr"
        },
        {
          "output_type": "stream",
          "text": [
            "192[Vz]  no correction: 0.004031851188024233, correction:0.001289019284030799\n",
            "193[x]  no correction: 0.0023748627060985856, correction:0.0005231375403743268\n",
            "193[y]  no correction: 0.011406557299825645, correction:0.002075990163708142\n",
            "193[z]  no correction: 0.00368637863321504, correction:0.0021884474940474046\n",
            "193[Vx]  no correction: 0.003528341121078602, correction:0.0019577415813101964\n",
            "193[Vy]  no correction: 0.004084016510113251, correction:0.0016401460742548493\n"
          ],
          "name": "stdout"
        },
        {
          "output_type": "stream",
          "text": [
            "\r 32%|███▏      | 194/600 [1:40:03<2:55:12, 25.89s/it]"
          ],
          "name": "stderr"
        },
        {
          "output_type": "stream",
          "text": [
            "193[Vz]  no correction: 0.04763569925436623, correction:0.00427137788826078\n",
            "194[x]  no correction: 0.17497500683221623, correction:0.05471856484882269\n",
            "194[y]  no correction: 0.22025232340077744, correction:0.020442825069329325\n",
            "194[z]  no correction: 0.14016553949387073, correction:0.022140476414235055\n",
            "194[Vx]  no correction: 0.10593474950760964, correction:0.053706383094555374\n",
            "194[Vy]  no correction: 0.22837335714859747, correction:0.11310549381222333\n"
          ],
          "name": "stdout"
        },
        {
          "output_type": "stream",
          "text": [
            "\r 32%|███▎      | 195/600 [1:40:18<2:33:34, 22.75s/it]"
          ],
          "name": "stderr"
        },
        {
          "output_type": "stream",
          "text": [
            "194[Vz]  no correction: 0.1805552236701783, correction:0.12333731066797378\n",
            "195[x]  no correction: 0.07396084239202544, correction:0.014045866439370835\n",
            "195[y]  no correction: 0.06286237350109221, correction:0.0072232697636104804\n",
            "195[z]  no correction: 0.05137380584117727, correction:0.004585333937670406\n",
            "195[Vx]  no correction: 0.03306183539422735, correction:0.006055132136964074\n",
            "195[Vy]  no correction: 0.04545916442946782, correction:0.00693515309990796\n"
          ],
          "name": "stdout"
        },
        {
          "output_type": "stream",
          "text": [
            "\r 33%|███▎      | 196/600 [1:40:30<2:11:41, 19.56s/it]"
          ],
          "name": "stderr"
        },
        {
          "output_type": "stream",
          "text": [
            "195[Vz]  no correction: 0.0377295875717181, correction:0.018302536004673485\n",
            "196[x]  no correction: 0.027993174362904247, correction:0.009137029547684443\n",
            "196[y]  no correction: 0.004627220886071566, correction:0.004606273855578135\n",
            "196[z]  no correction: 0.03434242106309407, correction:0.016608040879656265\n",
            "196[Vx]  no correction: 0.09942676864712569, correction:0.13893991690091972\n",
            "196 Vx does not work\n",
            "196[Vy]  no correction: 0.06911100704167661, correction:0.11333466766028223\n",
            "196 Vy does not work\n"
          ],
          "name": "stdout"
        },
        {
          "output_type": "stream",
          "text": [
            "\r 33%|███▎      | 197/600 [1:40:48<2:08:08, 19.08s/it]"
          ],
          "name": "stderr"
        },
        {
          "output_type": "stream",
          "text": [
            "196[Vz]  no correction: 0.6224469014921485, correction:0.8213077156332989\n",
            "196 Vz does not work\n",
            "197[x]  no correction: 0.024544854935567174, correction:0.007469624369052421\n",
            "197[y]  no correction: 0.016699697409067515, correction:0.005622642492333394\n",
            "197[z]  no correction: 0.03718380787083085, correction:0.010395703211001552\n",
            "197[Vx]  no correction: 0.008171062981766803, correction:0.0035704599739788227\n",
            "197[Vy]  no correction: 0.009023356072222157, correction:0.0021482241953341406\n"
          ],
          "name": "stdout"
        },
        {
          "output_type": "stream",
          "text": [
            "\r 33%|███▎      | 198/600 [1:41:06<2:05:30, 18.73s/it]"
          ],
          "name": "stderr"
        },
        {
          "output_type": "stream",
          "text": [
            "197[Vz]  no correction: 0.04073429235818482, correction:0.013191280569796621\n",
            "198[x]  no correction: 0.015544928703734832, correction:0.0007791192763063104\n",
            "198[y]  no correction: 0.022573770854400734, correction:0.004559216079774227\n",
            "198[z]  no correction: 0.019098373983636955, correction:0.002081985471029098\n",
            "198[Vx]  no correction: 0.02511408116355613, correction:0.0036497652277702334\n",
            "198[Vy]  no correction: 0.021690456576926684, correction:0.005392168922959937\n"
          ],
          "name": "stdout"
        },
        {
          "output_type": "stream",
          "text": [
            "\r 33%|███▎      | 199/600 [1:41:40<2:34:40, 23.14s/it]"
          ],
          "name": "stderr"
        },
        {
          "output_type": "stream",
          "text": [
            "198[Vz]  no correction: 0.026253598305834194, correction:0.0026706454359129825\n",
            "199[x]  no correction: 0.06062227307253263, correction:0.05712052138590293\n",
            "199[y]  no correction: 0.05172016771312656, correction:0.019548373511350917\n",
            "199[z]  no correction: 0.0478586454120682, correction:0.05335033895047729\n",
            "199 z does not work\n",
            "199[Vx]  no correction: 0.8379622923333236, correction:0.8976265058880036\n",
            "199 Vx does not work\n",
            "199[Vy]  no correction: 0.018398391102100793, correction:0.23632375130580777\n",
            "199 Vy does not work\n"
          ],
          "name": "stdout"
        },
        {
          "output_type": "stream",
          "text": [
            "\r 33%|███▎      | 200/600 [1:49:08<16:45:19, 150.80s/it]"
          ],
          "name": "stderr"
        },
        {
          "output_type": "stream",
          "text": [
            "199[Vz]  no correction: 0.04493006920513107, correction:0.1925062042213349\n",
            "199 Vz does not work\n",
            "200[x]  no correction: 0.005372843673924384, correction:0.004547147045041047\n",
            "200[y]  no correction: 0.02484373504657413, correction:0.005717810573784617\n",
            "200[z]  no correction: 0.025876655873816417, correction:0.01598026059637427\n",
            "200[Vx]  no correction: 0.05352185606467985, correction:0.02485467328184456\n",
            "200[Vy]  no correction: 0.7652963067644108, correction:0.7719167547182908\n",
            "200 Vy does not work\n"
          ],
          "name": "stdout"
        },
        {
          "output_type": "stream",
          "text": [
            "\r 34%|███▎      | 201/600 [1:49:28<12:21:14, 111.46s/it]"
          ],
          "name": "stderr"
        },
        {
          "output_type": "stream",
          "text": [
            "200[Vz]  no correction: 0.021561715692569473, correction:0.006848839511071618\n",
            "201[x]  no correction: 0.011326649171561284, correction:0.0014977348624396038\n",
            "201[y]  no correction: 0.006733037347328553, correction:0.0011338461461574629\n",
            "201[z]  no correction: 0.04514387141605205, correction:0.0014688941310291952\n",
            "201[Vx]  no correction: 0.034383308049636185, correction:0.011014824606986691\n",
            "201[Vy]  no correction: 0.007169290756786144, correction:0.0026968435198100912\n"
          ],
          "name": "stdout"
        },
        {
          "output_type": "stream",
          "text": [
            "\r 34%|███▎      | 202/600 [1:49:46<9:13:38, 83.46s/it]  "
          ],
          "name": "stderr"
        },
        {
          "output_type": "stream",
          "text": [
            "201[Vz]  no correction: 0.006506759661066884, correction:0.001495014760099923\n",
            "202[x]  no correction: 0.006064075354022487, correction:0.0014897732181438754\n",
            "202[y]  no correction: 0.023160812974746883, correction:0.003748519442585095\n",
            "202[z]  no correction: 0.0024752601948541063, correction:0.0025097069158552237\n",
            "202 z does not work\n",
            "202[Vx]  no correction: 0.006493840440134446, correction:0.001926140871173662\n",
            "202[Vy]  no correction: 0.0076615400323282535, correction:0.001772595778449918\n"
          ],
          "name": "stdout"
        },
        {
          "output_type": "stream",
          "text": [
            "\r 34%|███▍      | 203/600 [1:50:04<7:02:22, 63.84s/it]"
          ],
          "name": "stderr"
        },
        {
          "output_type": "stream",
          "text": [
            "202[Vz]  no correction: 0.008490334255044892, correction:0.003140105317563064\n",
            "203[x]  no correction: 0.004194234016196426, correction:0.001975070339096707\n",
            "203[y]  no correction: 0.003516417341559887, correction:0.0019448301717742873\n",
            "203[z]  no correction: 0.006306842748736329, correction:0.0013643135357493189\n",
            "203[Vx]  no correction: 0.02694983559008546, correction:0.007618958080712956\n",
            "203[Vy]  no correction: 0.003929177840527983, correction:0.001297598659812362\n"
          ],
          "name": "stdout"
        },
        {
          "output_type": "stream",
          "text": [
            "\r 34%|███▍      | 204/600 [1:50:33<5:52:28, 53.41s/it]"
          ],
          "name": "stderr"
        },
        {
          "output_type": "stream",
          "text": [
            "203[Vz]  no correction: 0.0041206119718039304, correction:0.002323933485163093\n",
            "204[x]  no correction: 0.12621880036431732, correction:0.07667153521453264\n",
            "204[y]  no correction: 0.1245654626767361, correction:0.10497299860490396\n",
            "204[z]  no correction: 0.15211135837223483, correction:0.12654485146990224\n",
            "204[Vx]  no correction: 0.10719573357422653, correction:0.09989907617177278\n",
            "204[Vy]  no correction: 0.10420865043177088, correction:0.09492045570983691\n"
          ],
          "name": "stdout"
        },
        {
          "output_type": "stream",
          "text": [
            "\r 34%|███▍      | 205/600 [1:50:51<4:41:28, 42.76s/it]"
          ],
          "name": "stderr"
        },
        {
          "output_type": "stream",
          "text": [
            "204[Vz]  no correction: 0.1186728340650475, correction:0.10757078166195748\n",
            "205[x]  no correction: 0.04099367698189015, correction:0.03023225180261675\n",
            "205[y]  no correction: 0.025483623840087035, correction:0.017416781688113798\n",
            "205[z]  no correction: 0.002792203572964874, correction:0.0009655773109216338\n",
            "205[Vx]  no correction: 0.004873864008203742, correction:0.0030011055045090695\n",
            "205[Vy]  no correction: 0.0017070275150656497, correction:0.0026379380323573454\n",
            "205 Vy does not work\n"
          ],
          "name": "stdout"
        },
        {
          "output_type": "stream",
          "text": [
            "\r 34%|███▍      | 206/600 [1:51:10<3:52:53, 35.47s/it]"
          ],
          "name": "stderr"
        },
        {
          "output_type": "stream",
          "text": [
            "205[Vz]  no correction: 0.0022197342319246654, correction:0.001212799869070123\n",
            "206[x]  no correction: 0.023696588100344265, correction:0.011100720833294195\n",
            "206[y]  no correction: 0.011148167139462213, correction:0.00723931843769531\n",
            "206[z]  no correction: 0.01141766849659559, correction:0.009862344904130599\n",
            "206[Vx]  no correction: 0.009518371523632677, correction:0.007981342292456377\n",
            "206[Vy]  no correction: 0.00748509122461683, correction:0.006372697070570831\n"
          ],
          "name": "stdout"
        },
        {
          "output_type": "stream",
          "text": [
            "\r 34%|███▍      | 207/600 [1:51:47<3:56:32, 36.11s/it]"
          ],
          "name": "stderr"
        },
        {
          "output_type": "stream",
          "text": [
            "206[Vz]  no correction: 0.009206399625095826, correction:0.008304120665542083\n",
            "207[x]  no correction: 0.028902186416137184, correction:0.0009479164212262376\n",
            "207[y]  no correction: 0.010334200386996853, correction:0.00043159874028376804\n",
            "207[z]  no correction: 0.028190476616654043, correction:0.0032122949088511225\n",
            "207[Vx]  no correction: 0.026606643587081178, correction:0.00424804721032664\n",
            "207[Vy]  no correction: 0.00965236737267325, correction:0.0006020391722321756\n"
          ],
          "name": "stdout"
        },
        {
          "output_type": "stream",
          "text": [
            "\r 35%|███▍      | 208/600 [1:54:18<7:41:11, 70.59s/it]"
          ],
          "name": "stderr"
        },
        {
          "output_type": "stream",
          "text": [
            "207[Vz]  no correction: 0.02851540650857413, correction:0.002245029821888566\n",
            "208[x]  no correction: 0.15028452778820114, correction:0.028359217636467135\n",
            "208[y]  no correction: 0.065059096510067, correction:0.019915284189032764\n",
            "208[z]  no correction: 0.08255459539801692, correction:0.013197333530015625\n",
            "208[Vx]  no correction: 0.09341401838446704, correction:0.01609936262492907\n",
            "208[Vy]  no correction: 0.08169095349424596, correction:0.027761392999406213\n"
          ],
          "name": "stdout"
        },
        {
          "output_type": "stream",
          "text": [
            "\r 35%|███▍      | 209/600 [1:54:40<6:05:22, 56.07s/it]"
          ],
          "name": "stderr"
        },
        {
          "output_type": "stream",
          "text": [
            "208[Vz]  no correction: 0.08229646726787616, correction:0.013879819499708904\n",
            "209[x]  no correction: 0.004488929451037535, correction:0.002260829855053332\n",
            "209[y]  no correction: 0.011102420385729166, correction:0.007445137597867801\n",
            "209[z]  no correction: 0.3727012249291625, correction:0.3032420163434275\n",
            "209[Vx]  no correction: 0.0035289716235089486, correction:0.0020701818598775346\n",
            "209[Vy]  no correction: 0.00682712989172439, correction:0.005118783565451738\n"
          ],
          "name": "stdout"
        },
        {
          "output_type": "stream",
          "text": [
            "\r 35%|███▌      | 210/600 [1:55:17<5:25:47, 50.12s/it]"
          ],
          "name": "stderr"
        },
        {
          "output_type": "stream",
          "text": [
            "209[Vz]  no correction: 0.36783008148832885, correction:0.27611073361359006\n",
            "210[x]  no correction: 0.029889329581393696, correction:0.008877861932882765\n",
            "210[y]  no correction: 0.0144874002309658, correction:0.002731490979326781\n",
            "210[z]  no correction: 0.0015598999676704683, correction:0.0008552262770052273\n",
            "210[Vx]  no correction: 0.010293444700033641, correction:0.017992978512962245\n",
            "210 Vx does not work\n",
            "210[Vy]  no correction: 0.003813829082600764, correction:0.004155249218397932\n",
            "210 Vy does not work\n"
          ],
          "name": "stdout"
        },
        {
          "output_type": "stream",
          "text": [
            "\r 35%|███▌      | 211/600 [1:55:37<4:27:18, 41.23s/it]"
          ],
          "name": "stderr"
        },
        {
          "output_type": "stream",
          "text": [
            "210[Vz]  no correction: 0.0026880275887356865, correction:0.002170391356171894\n",
            "211[x]  no correction: 0.0022366134583036794, correction:0.00033370544468777944\n",
            "211[y]  no correction: 0.0054098345772231795, correction:0.0002314818417978728\n",
            "211[z]  no correction: 0.001918770954994203, correction:0.0002484946138816355\n",
            "211[Vx]  no correction: 0.00093298247942571, correction:0.0001717966049481163\n",
            "211[Vy]  no correction: 0.004277098011371444, correction:0.0001240929108446149\n"
          ],
          "name": "stdout"
        },
        {
          "output_type": "stream",
          "text": [
            "\r 35%|███▌      | 212/600 [1:56:15<4:20:54, 40.35s/it]"
          ],
          "name": "stderr"
        },
        {
          "output_type": "stream",
          "text": [
            "211[Vz]  no correction: 0.0032007127699835735, correction:0.0006126451306253672\n",
            "212[x]  no correction: 0.044686332326003206, correction:0.014355637706337685\n",
            "212[y]  no correction: 0.03562901453863264, correction:0.02229203264832252\n",
            "212[z]  no correction: 0.05126467700265711, correction:0.02010052573872397\n",
            "212[Vx]  no correction: 0.04289980393704569, correction:0.029817013518756524\n",
            "212[Vy]  no correction: 0.03943673389680257, correction:0.02553495108066161\n"
          ],
          "name": "stdout"
        },
        {
          "output_type": "stream",
          "text": [
            "\r 36%|███▌      | 213/600 [1:56:48<4:05:34, 38.07s/it]"
          ],
          "name": "stderr"
        },
        {
          "output_type": "stream",
          "text": [
            "212[Vz]  no correction: 0.04096848686641989, correction:0.028590187105771186\n",
            "213[x]  no correction: 0.009793365681036866, correction:0.0015804619853405245\n",
            "213[y]  no correction: 0.0070109746150125675, correction:0.0010986058134677405\n",
            "213[z]  no correction: 0.006176778575786411, correction:0.0006044959520953732\n",
            "213[Vx]  no correction: 0.004672749043233024, correction:0.0029401020542494036\n",
            "213[Vy]  no correction: 0.0076358116344341365, correction:0.0019144473287051613\n"
          ],
          "name": "stdout"
        },
        {
          "output_type": "stream",
          "text": [
            "\r 36%|███▌      | 214/600 [1:57:09<3:31:38, 32.90s/it]"
          ],
          "name": "stderr"
        },
        {
          "output_type": "stream",
          "text": [
            "213[Vz]  no correction: 0.005019873693832821, correction:0.0018400829279231604\n",
            "214[x]  no correction: 0.0870054518637251, correction:0.006083366455918761\n",
            "214[y]  no correction: 0.029887030703299476, correction:0.002992641153378113\n",
            "214[z]  no correction: 0.02492557915638569, correction:0.00988401811156681\n",
            "214[Vx]  no correction: 0.05633740774622976, correction:0.004939784224530106\n",
            "214[Vy]  no correction: 0.0315687052938792, correction:0.0034302794470144177\n"
          ],
          "name": "stdout"
        },
        {
          "output_type": "stream",
          "text": [
            "\r 36%|███▌      | 215/600 [1:57:27<3:02:14, 28.40s/it]"
          ],
          "name": "stderr"
        },
        {
          "output_type": "stream",
          "text": [
            "214[Vz]  no correction: 0.04664726585746036, correction:0.008378151383070681\n",
            "215[x]  no correction: 0.0015656021621176493, correction:3.4467563677445635e-05\n",
            "215[y]  no correction: 0.0009520395949836243, correction:7.884403953366883e-05\n",
            "215[z]  no correction: 0.0022253975431281445, correction:0.0001194660609956703\n",
            "215[Vx]  no correction: 0.0012076068032996006, correction:9.914809112012794e-05\n",
            "215[Vy]  no correction: 0.0014051325491316862, correction:0.00011625057371668654\n"
          ],
          "name": "stdout"
        },
        {
          "output_type": "stream",
          "text": [
            "\r 36%|███▌      | 216/600 [1:58:52<4:51:00, 45.47s/it]"
          ],
          "name": "stderr"
        },
        {
          "output_type": "stream",
          "text": [
            "215[Vz]  no correction: 0.005153149358692667, correction:0.00022241539870781704\n",
            "216[x]  no correction: 0.021701692487096032, correction:0.01224356785512539\n",
            "216[y]  no correction: 0.007121469608788626, correction:0.003052003551464952\n",
            "216[z]  no correction: 0.022035268223340294, correction:0.00997403354203068\n",
            "216[Vx]  no correction: 0.010753946537682791, correction:0.0041492381097988544\n",
            "216[Vy]  no correction: 0.01116590687452049, correction:0.03534953607368326\n",
            "216 Vy does not work\n"
          ],
          "name": "stdout"
        },
        {
          "output_type": "stream",
          "text": [
            "\r 36%|███▌      | 217/600 [1:59:11<3:58:28, 37.36s/it]"
          ],
          "name": "stderr"
        },
        {
          "output_type": "stream",
          "text": [
            "216[Vz]  no correction: 0.0029316093453107326, correction:0.02570315181097418\n",
            "216 Vz does not work\n",
            "217[x]  no correction: 0.04673516986204755, correction:0.000514006621795799\n",
            "217[y]  no correction: 0.03569198648760758, correction:0.0008359107086139756\n",
            "217[z]  no correction: 0.07086425420540057, correction:0.0016905875633826152\n",
            "217[Vx]  no correction: 0.024616431293284932, correction:0.0007259465089485063\n",
            "217[Vy]  no correction: 0.0475097311337232, correction:0.0016887798947982343\n"
          ],
          "name": "stdout"
        },
        {
          "output_type": "stream",
          "text": [
            "\r 36%|███▋      | 218/600 [1:59:58<4:16:36, 40.30s/it]"
          ],
          "name": "stderr"
        },
        {
          "output_type": "stream",
          "text": [
            "217[Vz]  no correction: 0.05447504336505882, correction:0.00089955808675747\n",
            "218[x]  no correction: 0.006405031542971614, correction:0.0005991204074608904\n",
            "218[y]  no correction: 0.002803923586318112, correction:0.0007060996570572024\n",
            "218[z]  no correction: 0.00407524219697203, correction:0.0005854013672999251\n",
            "218[Vx]  no correction: 0.031944447115886274, correction:0.002918442865131602\n",
            "218[Vy]  no correction: 0.018327008390144638, correction:0.002848286120526233\n"
          ],
          "name": "stdout"
        },
        {
          "output_type": "stream",
          "text": [
            "\r 36%|███▋      | 219/600 [2:00:36<4:11:16, 39.57s/it]"
          ],
          "name": "stderr"
        },
        {
          "output_type": "stream",
          "text": [
            "218[Vz]  no correction: 0.01074960762391872, correction:0.002183440088830797\n",
            "219[x]  no correction: 0.024215411557498026, correction:0.004521028303514858\n",
            "219[y]  no correction: 0.05637245612927489, correction:0.022514231382064123\n",
            "219[z]  no correction: 0.015407976935390876, correction:0.002866929669183487\n",
            "219[Vx]  no correction: 0.03965226717714827, correction:0.005296789909094899\n",
            "219[Vy]  no correction: 0.012767200455775526, correction:0.0034040756068211774\n"
          ],
          "name": "stdout"
        },
        {
          "output_type": "stream",
          "text": [
            "\r 37%|███▋      | 220/600 [2:00:53<3:29:07, 33.02s/it]"
          ],
          "name": "stderr"
        },
        {
          "output_type": "stream",
          "text": [
            "219[Vz]  no correction: 0.011773390510430439, correction:0.00556257483647216\n",
            "220[x]  no correction: 0.004320375057080855, correction:0.002583950567598759\n",
            "220[y]  no correction: 0.005390611592729444, correction:0.0018298522407343798\n",
            "220[z]  no correction: 0.00430054802519277, correction:0.0019393761352445454\n",
            "220[Vx]  no correction: 0.007708851903771292, correction:0.008696814473179363\n",
            "220 Vx does not work\n",
            "220[Vy]  no correction: 0.014124147763979147, correction:0.026137994523738384\n",
            "220 Vy does not work\n"
          ],
          "name": "stdout"
        },
        {
          "output_type": "stream",
          "text": [
            "\r 37%|███▋      | 221/600 [2:01:13<3:02:17, 28.86s/it]"
          ],
          "name": "stderr"
        },
        {
          "output_type": "stream",
          "text": [
            "220[Vz]  no correction: 0.006393059761477228, correction:0.012144986414513947\n",
            "220 Vz does not work\n",
            "221[x]  no correction: 0.045564242427856776, correction:0.0007648307963501131\n",
            "221[y]  no correction: 0.028047864475574905, correction:0.0007229722349740037\n",
            "221[z]  no correction: 0.053047653061272175, correction:0.0011482446585855876\n",
            "221[Vx]  no correction: 0.06704236799325843, correction:0.0017751890407793622\n",
            "221[Vy]  no correction: 0.01858586009696537, correction:0.0009544244684140915\n"
          ],
          "name": "stdout"
        },
        {
          "output_type": "stream",
          "text": [
            "\r 37%|███▋      | 222/600 [2:01:47<3:12:48, 30.60s/it]"
          ],
          "name": "stderr"
        },
        {
          "output_type": "stream",
          "text": [
            "221[Vz]  no correction: 0.0598414156603559, correction:0.002182590396025271\n",
            "222[x]  no correction: 0.0063766227292518214, correction:0.0022084669129545445\n",
            "222[y]  no correction: 0.013705031376616572, correction:0.001683711192088371\n",
            "222[z]  no correction: 0.01816283550413714, correction:0.001389419805985937\n",
            "222[Vx]  no correction: 0.016063633290628137, correction:0.003969890534119857\n",
            "222[Vy]  no correction: 0.015943349690263318, correction:0.006506500879938204\n"
          ],
          "name": "stdout"
        },
        {
          "output_type": "stream",
          "text": [
            "\r 37%|███▋      | 223/600 [2:02:05<2:47:25, 26.65s/it]"
          ],
          "name": "stderr"
        },
        {
          "output_type": "stream",
          "text": [
            "222[Vz]  no correction: 0.007465851019525987, correction:0.002254973697429032\n",
            "223[x]  no correction: 0.005477971539905987, correction:0.0002687131341670522\n",
            "223[y]  no correction: 0.014729293177524848, correction:0.00015141853655524027\n",
            "223[z]  no correction: 0.001304768720486238, correction:0.002109236253578468\n",
            "223 z does not work\n",
            "223[Vx]  no correction: 0.0006723011507389516, correction:0.00014578758594157922\n",
            "223[Vy]  no correction: 0.001924707226105378, correction:8.864000176471879e-05\n"
          ],
          "name": "stdout"
        },
        {
          "output_type": "stream",
          "text": [
            "\r 37%|███▋      | 224/600 [2:02:37<2:58:16, 28.45s/it]"
          ],
          "name": "stderr"
        },
        {
          "output_type": "stream",
          "text": [
            "223[Vz]  no correction: 0.0008164234758009088, correction:0.00013657505230792204\n",
            "224[x]  no correction: 0.1977803692012063, correction:0.1415422608450151\n",
            "224[y]  no correction: 0.39886563651352136, correction:0.16648098665351008\n",
            "224[z]  no correction: 0.495710464432603, correction:0.19178292155345475\n"
          ],
          "name": "stdout"
        },
        {
          "output_type": "stream",
          "text": [
            "WARNING:fbprophet:Optimization terminated abnormally. Falling back to Newton.\n"
          ],
          "name": "stderr"
        },
        {
          "output_type": "stream",
          "text": [
            "224[Vx]  no correction: 0.24764165473715033, correction:0.20533857994025626\n"
          ],
          "name": "stdout"
        },
        {
          "output_type": "stream",
          "text": [
            "WARNING:fbprophet:Optimization terminated abnormally. Falling back to Newton.\n"
          ],
          "name": "stderr"
        },
        {
          "output_type": "stream",
          "text": [
            "224[Vy]  no correction: 0.3312437810195952, correction:0.27819663725555643\n"
          ],
          "name": "stdout"
        },
        {
          "output_type": "stream",
          "text": [
            "\r 38%|███▊      | 225/600 [2:03:02<2:51:32, 27.45s/it]"
          ],
          "name": "stderr"
        },
        {
          "output_type": "stream",
          "text": [
            "224[Vz]  no correction: 0.3900106288747626, correction:0.2710709874162796\n",
            "225[x]  no correction: 0.31416780716636616, correction:0.06505633526169424\n",
            "225[y]  no correction: 0.17707703859005905, correction:0.11405660003887241\n",
            "225[z]  no correction: 0.28988189528094194, correction:0.0605384794368087\n",
            "225[Vx]  no correction: 0.28540044625805744, correction:0.20304417903670297\n",
            "225[Vy]  no correction: 0.16616295352813115, correction:0.11093700601969782\n"
          ],
          "name": "stdout"
        },
        {
          "output_type": "stream",
          "text": [
            "\r 38%|███▊      | 226/600 [2:03:24<2:39:45, 25.63s/it]"
          ],
          "name": "stderr"
        },
        {
          "output_type": "stream",
          "text": [
            "225[Vz]  no correction: 0.2776771383850733, correction:0.19978678739159372\n",
            "226[x]  no correction: 0.0017458581504502524, correction:0.00023298952255127578\n",
            "226[y]  no correction: 0.0020477862717165327, correction:0.00021701738426063\n",
            "226[z]  no correction: 0.0030249841425516073, correction:0.00016491586007045237\n",
            "226[Vx]  no correction: 0.002449639873458225, correction:0.0003124913753859409\n",
            "226[Vy]  no correction: 0.0035760610267718696, correction:0.0008740783149708125\n"
          ],
          "name": "stdout"
        },
        {
          "output_type": "stream",
          "text": [
            "\r 38%|███▊      | 227/600 [2:03:49<2:38:20, 25.47s/it]"
          ],
          "name": "stderr"
        },
        {
          "output_type": "stream",
          "text": [
            "226[Vz]  no correction: 0.005568516355380695, correction:0.002911629308812247\n",
            "227[x]  no correction: 0.011089906298333951, correction:0.0008208240291625922\n",
            "227[y]  no correction: 0.01123194812384236, correction:0.002111241030888524\n",
            "227[z]  no correction: 0.023726250121189955, correction:0.0011713936520164633\n",
            "227[Vx]  no correction: 0.019545205047953085, correction:0.005119084739002577\n",
            "227[Vy]  no correction: 0.009250603304067708, correction:0.001866499696379765\n"
          ],
          "name": "stdout"
        },
        {
          "output_type": "stream",
          "text": [
            "\r 38%|███▊      | 228/600 [2:04:13<2:35:16, 25.04s/it]"
          ],
          "name": "stderr"
        },
        {
          "output_type": "stream",
          "text": [
            "227[Vz]  no correction: 0.02091724486552858, correction:0.0009840987703705433\n",
            "228[x]  no correction: 0.013814966474398997, correction:0.03936847900481304\n",
            "228 x does not work\n"
          ],
          "name": "stdout"
        },
        {
          "output_type": "stream",
          "text": [
            "WARNING:fbprophet:Optimization terminated abnormally. Falling back to Newton.\n"
          ],
          "name": "stderr"
        },
        {
          "output_type": "stream",
          "text": [
            "228[y]  no correction: 0.047777201419410165, correction:0.1253207513952956\n",
            "228 y does not work\n",
            "228[z]  no correction: 0.04300682105326962, correction:0.20810505335198665\n",
            "228 z does not work\n",
            "228[Vx]  no correction: 0.02133376493200261, correction:0.05358003701145012\n",
            "228 Vx does not work\n",
            "228[Vy]  no correction: 0.013706698517669102, correction:0.09149445278617162\n",
            "228 Vy does not work\n"
          ],
          "name": "stdout"
        },
        {
          "output_type": "stream",
          "text": [
            "\r 38%|███▊      | 229/600 [2:05:08<3:29:41, 33.91s/it]"
          ],
          "name": "stderr"
        },
        {
          "output_type": "stream",
          "text": [
            "228[Vz]  no correction: 0.10109141522831991, correction:0.33869743749044146\n",
            "228 Vz does not work\n",
            "229[x]  no correction: 0.020508897778845805, correction:0.005753305175314727\n",
            "229[y]  no correction: 0.004289492762447673, correction:0.002682531331490841\n",
            "229[z]  no correction: 0.0019976363278978596, correction:0.0009308778790155551\n",
            "229[Vx]  no correction: 0.020641643590176992, correction:0.0070327902569787696\n",
            "229[Vy]  no correction: 0.0013234611848399421, correction:0.0011374621759783832\n"
          ],
          "name": "stdout"
        },
        {
          "output_type": "stream",
          "text": [
            "\r 38%|███▊      | 230/600 [2:05:25<2:58:45, 28.99s/it]"
          ],
          "name": "stderr"
        },
        {
          "output_type": "stream",
          "text": [
            "229[Vz]  no correction: 0.0016862634257958612, correction:0.0019482610014710038\n",
            "229 Vz does not work\n",
            "230[x]  no correction: 0.005089845397370955, correction:0.0009169205411730906\n",
            "230[y]  no correction: 0.0032240240629054172, correction:0.000775456901024447\n",
            "230[z]  no correction: 0.007352699024037422, correction:0.001129488907494295\n",
            "230[Vx]  no correction: 0.0017180623474046693, correction:0.0007602262372084468\n",
            "230[Vy]  no correction: 0.0031648088942408314, correction:0.0008617456975677998\n"
          ],
          "name": "stdout"
        },
        {
          "output_type": "stream",
          "text": [
            "\r 38%|███▊      | 231/600 [2:05:45<2:42:09, 26.37s/it]"
          ],
          "name": "stderr"
        },
        {
          "output_type": "stream",
          "text": [
            "230[Vz]  no correction: 0.03105583672517248, correction:0.011754172060378687\n",
            "231[x]  no correction: 0.06823751496226195, correction:0.01932718734120918\n",
            "231[y]  no correction: 0.06214714260769923, correction:0.0287215367955554\n",
            "231[z]  no correction: 0.045677403233628414, correction:0.03330051941576523\n",
            "231[Vx]  no correction: 0.07185936436247707, correction:0.04559730291788335\n",
            "231[Vy]  no correction: 0.05653097563877222, correction:0.03633032644552796\n"
          ],
          "name": "stdout"
        },
        {
          "output_type": "stream",
          "text": [
            "\r 39%|███▊      | 232/600 [2:06:12<2:41:21, 26.31s/it]"
          ],
          "name": "stderr"
        },
        {
          "output_type": "stream",
          "text": [
            "231[Vz]  no correction: 0.04490106621893234, correction:0.03020064685810468\n",
            "232[x]  no correction: 0.006305817209768415, correction:0.0018074937479755741\n",
            "232[y]  no correction: 0.015207418054257465, correction:0.006962126974346307\n",
            "232[z]  no correction: 0.01042492849808784, correction:0.0046891836229318185\n",
            "232[Vx]  no correction: 0.01399894347052222, correction:0.006372338532845509\n",
            "232[Vy]  no correction: 0.013857680623702084, correction:0.005875311427957409\n"
          ],
          "name": "stdout"
        },
        {
          "output_type": "stream",
          "text": [
            "\r 39%|███▉      | 233/600 [2:06:42<2:48:37, 27.57s/it]"
          ],
          "name": "stderr"
        },
        {
          "output_type": "stream",
          "text": [
            "232[Vz]  no correction: 0.03895009450630421, correction:0.020918098153715352\n",
            "233[x]  no correction: 0.0008991532995545649, correction:5.703057187077439e-05\n",
            "233[y]  no correction: 0.003739921417177509, correction:0.0001890677730074465\n",
            "233[z]  no correction: 0.002567306472963191, correction:6.691132857485273e-05\n",
            "233[Vx]  no correction: 0.0024371706157816637, correction:7.924471960836828e-05\n",
            "233[Vy]  no correction: 0.002444470735079742, correction:0.0001887640273800269\n"
          ],
          "name": "stdout"
        },
        {
          "output_type": "stream",
          "text": [
            "\r 39%|███▉      | 234/600 [2:07:05<2:39:27, 26.14s/it]"
          ],
          "name": "stderr"
        },
        {
          "output_type": "stream",
          "text": [
            "233[Vz]  no correction: 0.001909217756171546, correction:7.064441492265664e-05\n",
            "234[x]  no correction: 0.002605697400710509, correction:0.003187867269027584\n",
            "234 x does not work\n",
            "234[y]  no correction: 0.0020679297495745227, correction:0.003205940180441951\n",
            "234 y does not work\n",
            "234[z]  no correction: 0.0011060771643792548, correction:0.0004219544862126967\n",
            "234[Vx]  no correction: 0.001390997637837482, correction:0.0015605550628965419\n",
            "234 Vx does not work\n",
            "234[Vy]  no correction: 0.004071057304835923, correction:0.001377013445660759\n"
          ],
          "name": "stdout"
        },
        {
          "output_type": "stream",
          "text": [
            "\r 39%|███▉      | 235/600 [2:07:31<2:38:46, 26.10s/it]"
          ],
          "name": "stderr"
        },
        {
          "output_type": "stream",
          "text": [
            "234[Vz]  no correction: 0.0032755836604124802, correction:0.0009061990570932623\n",
            "235[x]  no correction: 0.010806882599842998, correction:0.0016309523442838666\n",
            "235[y]  no correction: 0.014727808978444086, correction:0.002069206891173774\n",
            "235[z]  no correction: 0.010249701913646206, correction:0.0025133257775443708\n",
            "235[Vx]  no correction: 0.01935064342436628, correction:0.0029214309965531725\n",
            "235[Vy]  no correction: 0.04055118675946686, correction:0.027487294733916548\n"
          ],
          "name": "stdout"
        },
        {
          "output_type": "stream",
          "text": [
            "\r 39%|███▉      | 236/600 [2:07:49<2:23:30, 23.66s/it]"
          ],
          "name": "stderr"
        },
        {
          "output_type": "stream",
          "text": [
            "235[Vz]  no correction: 0.00555604115920654, correction:0.002867907252408591\n",
            "236[x]  no correction: 0.035743093255199, correction:0.00043607806404891624\n",
            "236[y]  no correction: 0.022081657530834308, correction:0.0009855709539775236\n",
            "236[z]  no correction: 0.07804550596711475, correction:0.0016042164424384087\n",
            "236[Vx]  no correction: 0.06560227999755822, correction:0.0069951666267084435\n",
            "236[Vy]  no correction: 0.022030511917661852, correction:0.0006406114194678744\n"
          ],
          "name": "stdout"
        },
        {
          "output_type": "stream",
          "text": [
            "\r 40%|███▉      | 237/600 [2:08:25<2:45:30, 27.36s/it]"
          ],
          "name": "stderr"
        },
        {
          "output_type": "stream",
          "text": [
            "236[Vz]  no correction: 0.04789205752127425, correction:0.0016339496761960846\n",
            "237[x]  no correction: 0.002295046330645442, correction:0.000348043827881376\n",
            "237[y]  no correction: 0.0018111297015921232, correction:0.0003055805676171474\n",
            "237[z]  no correction: 0.0009688386239269855, correction:0.0001341812479909666\n",
            "237[Vx]  no correction: 0.001679613316473822, correction:0.000264205338636801\n",
            "237[Vy]  no correction: 0.0016762253775145627, correction:0.0003259398028898078\n"
          ],
          "name": "stdout"
        },
        {
          "output_type": "stream",
          "text": [
            "\r 40%|███▉      | 238/600 [2:09:21<3:36:27, 35.88s/it]"
          ],
          "name": "stderr"
        },
        {
          "output_type": "stream",
          "text": [
            "237[Vz]  no correction: 0.0018340780596735125, correction:0.00023931596810258826\n",
            "238[x]  no correction: 0.01883513512652248, correction:0.001193608990007294\n",
            "238[y]  no correction: 0.0034292334044899783, correction:0.002342871476574245\n",
            "238[z]  no correction: 0.007884468302679696, correction:0.0006250586261457225\n",
            "238[Vx]  no correction: 0.015984516635892357, correction:0.0028913408701015685\n",
            "238[Vy]  no correction: 0.012532630115752815, correction:0.0020719676529650254\n"
          ],
          "name": "stdout"
        },
        {
          "output_type": "stream",
          "text": [
            "\r 40%|███▉      | 239/600 [2:09:38<3:02:54, 30.40s/it]"
          ],
          "name": "stderr"
        },
        {
          "output_type": "stream",
          "text": [
            "238[Vz]  no correction: 0.013671388096147223, correction:0.002217996088769243\n",
            "239[x]  no correction: 0.000499093154397522, correction:0.00010674209019846492\n",
            "239[y]  no correction: 0.0022338064678173006, correction:0.00040691114524524577\n",
            "239[z]  no correction: 0.002349814030773234, correction:0.0006320200793069419\n",
            "239[Vx]  no correction: 0.0031794790753154403, correction:0.0008086042780130939\n",
            "239[Vy]  no correction: 0.009823222917291208, correction:0.0016046003649317464\n"
          ],
          "name": "stdout"
        },
        {
          "output_type": "stream",
          "text": [
            "\r 40%|████      | 240/600 [2:10:29<3:39:45, 36.63s/it]"
          ],
          "name": "stderr"
        },
        {
          "output_type": "stream",
          "text": [
            "239[Vz]  no correction: 0.000619087340598602, correction:0.00010871276184282739\n",
            "240[x]  no correction: 0.06810950652641856, correction:0.002815485839293827\n",
            "240[y]  no correction: 0.034560350004995265, correction:0.019490663992487556\n",
            "240[z]  no correction: 0.02552997893162782, correction:0.014072235033791815\n",
            "240[Vx]  no correction: 0.05167960054971642, correction:0.03706041780910703\n",
            "240[Vy]  no correction: 0.025506290177362452, correction:0.01790678036801356\n"
          ],
          "name": "stdout"
        },
        {
          "output_type": "stream",
          "text": [
            "\r 40%|████      | 241/600 [2:10:48<3:06:12, 31.12s/it]"
          ],
          "name": "stderr"
        },
        {
          "output_type": "stream",
          "text": [
            "240[Vz]  no correction: 0.019056287248598848, correction:0.011320835411543297\n",
            "241[x]  no correction: 0.0009884401628017846, correction:0.0006248140449492465\n",
            "241[y]  no correction: 0.000953411850136266, correction:0.00042357869502000203\n",
            "241[z]  no correction: 0.0014562440867378317, correction:0.000276642500011653\n",
            "241[Vx]  no correction: 0.007990138950365249, correction:0.0009247061121347201\n",
            "241[Vy]  no correction: 0.012653915015486114, correction:0.0012831979394090694\n"
          ],
          "name": "stdout"
        },
        {
          "output_type": "stream",
          "text": [
            "\r 40%|████      | 242/600 [2:11:30<3:25:05, 34.37s/it]"
          ],
          "name": "stderr"
        },
        {
          "output_type": "stream",
          "text": [
            "241[Vz]  no correction: 0.0026819936739208173, correction:0.0003535990585092555\n",
            "242[x]  no correction: 0.03917926410686216, correction:0.0008634604505496037\n",
            "242[y]  no correction: 0.01937150029389717, correction:0.001615765715232207\n",
            "242[z]  no correction: 0.05064583215978811, correction:0.0024004829394333334\n",
            "242[Vx]  no correction: 0.025869848904171266, correction:0.0008846899674036529\n",
            "242[Vy]  no correction: 0.013404436939396427, correction:0.0006178452071973059\n"
          ],
          "name": "stdout"
        },
        {
          "output_type": "stream",
          "text": [
            "\r 40%|████      | 243/600 [2:11:55<3:07:57, 31.59s/it]"
          ],
          "name": "stderr"
        },
        {
          "output_type": "stream",
          "text": [
            "242[Vz]  no correction: 0.0334294657140595, correction:0.000765529725175634\n",
            "243[x]  no correction: 0.0027284134633202774, correction:0.00023938786341494526\n",
            "243[y]  no correction: 0.003038167686959255, correction:0.0014452350777687695\n",
            "243[z]  no correction: 0.002248891547184807, correction:0.0007671250336186684\n",
            "243[Vx]  no correction: 0.0025288534878441177, correction:0.0004468285566669972\n",
            "243[Vy]  no correction: 0.0012929699367653796, correction:0.00039056866335284736\n"
          ],
          "name": "stdout"
        },
        {
          "output_type": "stream",
          "text": [
            "\r 41%|████      | 244/600 [2:12:40<3:32:14, 35.77s/it]"
          ],
          "name": "stderr"
        },
        {
          "output_type": "stream",
          "text": [
            "243[Vz]  no correction: 0.001145903148972134, correction:0.00020018617021528909\n",
            "244[x]  no correction: 0.48296093195455214, correction:0.13320105689479084\n",
            "244[y]  no correction: 0.280590400122011, correction:0.1702686639090291\n",
            "244[z]  no correction: 0.32710830326205026, correction:0.13957008815039348\n",
            "244[Vx]  no correction: 0.4290678229065642, correction:0.32449295345154094\n",
            "244[Vy]  no correction: 0.2716218374183463, correction:0.19141224913945148\n"
          ],
          "name": "stdout"
        },
        {
          "output_type": "stream",
          "text": [
            "\r 41%|████      | 245/600 [2:13:00<3:04:06, 31.12s/it]"
          ],
          "name": "stderr"
        },
        {
          "output_type": "stream",
          "text": [
            "244[Vz]  no correction: 0.3106798877942673, correction:0.1504203482829001\n",
            "245[x]  no correction: 0.045408037063746354, correction:0.005353353091624567\n",
            "245[y]  no correction: 0.007030770237841329, correction:0.005289605240975711\n",
            "245[z]  no correction: 0.02524935805338824, correction:0.0071391950949696885\n",
            "245[Vx]  no correction: 0.004295045695816379, correction:0.002801506350982387\n",
            "245[Vy]  no correction: 0.0051861027532390065, correction:0.002846875237330555\n"
          ],
          "name": "stdout"
        },
        {
          "output_type": "stream",
          "text": [
            "\r 41%|████      | 246/600 [2:13:20<2:42:35, 27.56s/it]"
          ],
          "name": "stderr"
        },
        {
          "output_type": "stream",
          "text": [
            "245[Vz]  no correction: 0.024301211818615064, correction:0.035341496310121574\n",
            "245 Vz does not work\n",
            "246[x]  no correction: 0.007242883231192284, correction:0.0007278432179576392\n",
            "246[y]  no correction: 0.013428806532378981, correction:0.0031940418021375156\n",
            "246[z]  no correction: 0.007930586791334862, correction:0.0019529969155139032\n",
            "246[Vx]  no correction: 0.00978937252167574, correction:0.002037974722341683\n",
            "246[Vy]  no correction: 0.0030282322446470366, correction:0.0008893298369846903\n"
          ],
          "name": "stdout"
        },
        {
          "output_type": "stream",
          "text": [
            "\r 41%|████      | 247/600 [2:13:37<2:24:53, 24.63s/it]"
          ],
          "name": "stderr"
        },
        {
          "output_type": "stream",
          "text": [
            "246[Vz]  no correction: 0.0020406086054472806, correction:0.0005024202650614492\n",
            "247[x]  no correction: 0.001953489379521438, correction:0.0002538527486779023\n",
            "247[y]  no correction: 0.0012957422672547389, correction:0.0002048256816020359\n",
            "247[z]  no correction: 0.01521339099972678, correction:0.00891068831849404\n",
            "247[Vx]  no correction: 0.0006870856841847572, correction:0.0001353850599344069\n",
            "247[Vy]  no correction: 0.0015647635637815879, correction:0.0007302358171609154\n"
          ],
          "name": "stdout"
        },
        {
          "output_type": "stream",
          "text": [
            "\r 41%|████▏     | 248/600 [2:13:56<2:14:04, 22.85s/it]"
          ],
          "name": "stderr"
        },
        {
          "output_type": "stream",
          "text": [
            "247[Vz]  no correction: 0.0019921389087243914, correction:0.0006640089429964028\n",
            "248[x]  no correction: 0.041545338345443675, correction:0.0031373572189475818\n",
            "248[y]  no correction: 0.004298929296745557, correction:0.0034794259792894065\n",
            "248[z]  no correction: 0.3877461981106712, correction:0.12684038321843674\n",
            "248[Vx]  no correction: 0.01529866188295009, correction:0.005335795361542325\n",
            "248[Vy]  no correction: 0.011147563120682052, correction:0.0015546181697124802\n"
          ],
          "name": "stdout"
        },
        {
          "output_type": "stream",
          "text": [
            "\r 42%|████▏     | 249/600 [2:14:14<2:05:22, 21.43s/it]"
          ],
          "name": "stderr"
        },
        {
          "output_type": "stream",
          "text": [
            "248[Vz]  no correction: 0.38771751787251507, correction:0.10070503675684518\n",
            "249[x]  no correction: 0.4852704904273472, correction:0.479434360160687\n",
            "249[y]  no correction: 0.545229881875529, correction:0.5192967255621371\n",
            "249[z]  no correction: 0.4901697419810762, correction:0.4759349909682405\n",
            "249[Vx]  no correction: 0.6523840557167362, correction:0.5912954618696203\n",
            "249[Vy]  no correction: 0.44719657385370126, correction:0.4623152875276681\n",
            "249 Vy does not work\n"
          ],
          "name": "stdout"
        },
        {
          "output_type": "stream",
          "text": [
            "\r 42%|████▏     | 250/600 [2:14:38<2:09:28, 22.19s/it]"
          ],
          "name": "stderr"
        },
        {
          "output_type": "stream",
          "text": [
            "249[Vz]  no correction: 0.6252651297312631, correction:0.5612073628898322\n",
            "250[x]  no correction: 0.0004745870774297033, correction:0.000605733147823215\n",
            "250 x does not work\n",
            "250[y]  no correction: 0.0005885000776230272, correction:0.00021446465019517354\n",
            "250[z]  no correction: 0.0004852894057315589, correction:0.0004120521820132519\n",
            "250[Vx]  no correction: 0.00031516621999068704, correction:0.00011493678325809671\n",
            "250[Vy]  no correction: 0.0008105851842113297, correction:0.000496807132852267\n"
          ],
          "name": "stdout"
        },
        {
          "output_type": "stream",
          "text": [
            "\r 42%|████▏     | 251/600 [2:15:00<2:09:03, 22.19s/it]"
          ],
          "name": "stderr"
        },
        {
          "output_type": "stream",
          "text": [
            "250[Vz]  no correction: 0.0010252639590404985, correction:0.0004669558331844889\n",
            "251[x]  no correction: 0.0038912282190370143, correction:0.0010592846710077925\n",
            "251[y]  no correction: 0.001906895320747833, correction:0.0012306600507942412\n",
            "251[z]  no correction: 0.006729184000244644, correction:0.0020519703920860665\n",
            "251[Vx]  no correction: 0.003479811251062137, correction:0.005524826526454155\n",
            "251 Vx does not work\n",
            "251[Vy]  no correction: 0.002141563402436503, correction:0.0012286316806004222\n"
          ],
          "name": "stdout"
        },
        {
          "output_type": "stream",
          "text": [
            "\r 42%|████▏     | 252/600 [2:15:21<2:05:18, 21.60s/it]"
          ],
          "name": "stderr"
        },
        {
          "output_type": "stream",
          "text": [
            "251[Vz]  no correction: 0.003621217961636715, correction:0.0008734512948497698\n",
            "252[x]  no correction: 0.5558957523832178, correction:0.8978465670191823\n",
            "252 x does not work\n",
            "252[y]  no correction: 0.1939408961814192, correction:0.7781698963477517\n",
            "252 y does not work\n",
            "252[z]  no correction: 0.39576389968637343, correction:0.889297631107901\n",
            "252 z does not work\n",
            "252[Vx]  no correction: 0.327228457989727, correction:0.9858696530535409\n",
            "252 Vx does not work\n",
            "252[Vy]  no correction: 0.23642490173134473, correction:0.9226227462996128\n",
            "252 Vy does not work\n"
          ],
          "name": "stdout"
        },
        {
          "output_type": "stream",
          "text": [
            "\r 42%|████▏     | 253/600 [2:16:41<3:45:59, 39.08s/it]"
          ],
          "name": "stderr"
        },
        {
          "output_type": "stream",
          "text": [
            "252[Vz]  no correction: 0.25932940442727964, correction:0.9721965185973341\n",
            "252 Vz does not work\n",
            "253[x]  no correction: 0.41743511917962106, correction:0.41008270631877214\n",
            "253[y]  no correction: 0.4451517019344843, correction:0.40925831601691803\n",
            "253[z]  no correction: 0.4052210697236832, correction:0.3904860673903329\n",
            "253[Vx]  no correction: 0.47367033454142504, correction:0.42947483174300555\n",
            "253[Vy]  no correction: 0.4541825362940724, correction:0.42849799274280653\n"
          ],
          "name": "stdout"
        },
        {
          "output_type": "stream",
          "text": [
            "\r 42%|████▏     | 254/600 [2:17:16<3:38:52, 37.95s/it]"
          ],
          "name": "stderr"
        },
        {
          "output_type": "stream",
          "text": [
            "253[Vz]  no correction: 0.4873438315353187, correction:0.45403492479964663\n",
            "254[x]  no correction: 0.11031733230683136, correction:0.005402043246207414\n",
            "254[y]  no correction: 0.07828769316614356, correction:0.0017271841046738595\n",
            "254[z]  no correction: 0.12067224791422503, correction:0.00405398587236257\n",
            "254[Vx]  no correction: 0.11037539423776234, correction:0.0037962411083551735\n",
            "254[Vy]  no correction: 0.06337032512024982, correction:0.005075160663976018\n"
          ],
          "name": "stdout"
        },
        {
          "output_type": "stream",
          "text": [
            "\r 42%|████▎     | 255/600 [2:18:14<4:13:39, 44.11s/it]"
          ],
          "name": "stderr"
        },
        {
          "output_type": "stream",
          "text": [
            "254[Vz]  no correction: 0.1239640831792701, correction:0.00847911203005871\n",
            "255[x]  no correction: 0.07788457502306893, correction:0.015194223919910333\n",
            "255[y]  no correction: 0.0374364012198294, correction:0.022729576784577443\n",
            "255[z]  no correction: 0.05730954161369622, correction:0.0491913963696408\n",
            "255[Vx]  no correction: 0.07462075146357802, correction:0.03804879003103047\n",
            "255[Vy]  no correction: 0.08747457466513892, correction:0.05552931946952174\n"
          ],
          "name": "stdout"
        },
        {
          "output_type": "stream",
          "text": [
            "\r 43%|████▎     | 256/600 [2:18:35<3:32:04, 36.99s/it]"
          ],
          "name": "stderr"
        },
        {
          "output_type": "stream",
          "text": [
            "255[Vz]  no correction: 0.056985390144631214, correction:0.04808030911826146\n",
            "256[x]  no correction: 0.015405578248842098, correction:0.0008143687905081474\n",
            "256[y]  no correction: 0.017428312920467478, correction:0.0015911785189911616\n",
            "256[z]  no correction: 0.006681931946084316, correction:0.0006472032003776553\n",
            "256[Vx]  no correction: 0.02953141277931264, correction:0.0016309166771228437\n",
            "256[Vy]  no correction: 0.005556232126202496, correction:0.0006961999128753556\n"
          ],
          "name": "stdout"
        },
        {
          "output_type": "stream",
          "text": [
            "\r 43%|████▎     | 257/600 [2:19:48<4:33:03, 47.77s/it]"
          ],
          "name": "stderr"
        },
        {
          "output_type": "stream",
          "text": [
            "256[Vz]  no correction: 0.006991520358805132, correction:0.0008966766064857314\n",
            "257[x]  no correction: 0.009718086405593138, correction:0.000842174662091109\n",
            "257[y]  no correction: 0.003992121743122228, correction:0.0007074765481428084\n",
            "257[z]  no correction: 0.010508775037512706, correction:0.000815038905926358\n",
            "257[Vx]  no correction: 0.004793738333434556, correction:0.0009078380564753913\n",
            "257[Vy]  no correction: 0.0029461613872768275, correction:0.0006491026378083109\n"
          ],
          "name": "stdout"
        },
        {
          "output_type": "stream",
          "text": [
            "\r 43%|████▎     | 258/600 [2:20:07<3:43:14, 39.17s/it]"
          ],
          "name": "stderr"
        },
        {
          "output_type": "stream",
          "text": [
            "257[Vz]  no correction: 0.002902775984213926, correction:0.0004733145655560518\n",
            "258[x]  no correction: 0.19067194782510508, correction:0.05870477749615817\n",
            "258[y]  no correction: 0.08347584991513775, correction:0.049845031484201226\n",
            "258[z]  no correction: 0.14134926088174116, correction:0.0336394269731241\n",
            "258[Vx]  no correction: 0.12939049503654104, correction:0.09373151446019147\n",
            "258[Vy]  no correction: 0.08451497641510675, correction:0.08412935587826054\n"
          ],
          "name": "stdout"
        },
        {
          "output_type": "stream",
          "text": [
            "\r 43%|████▎     | 259/600 [2:20:25<3:06:47, 32.87s/it]"
          ],
          "name": "stderr"
        },
        {
          "output_type": "stream",
          "text": [
            "258[Vz]  no correction: 0.11079138921730387, correction:0.0945632722994191\n",
            "259[x]  no correction: 0.01567715368849965, correction:0.08348021936286146\n",
            "259 x does not work\n",
            "259[y]  no correction: 0.021553064646877822, correction:0.02435713175826492\n",
            "259 y does not work\n",
            "259[z]  no correction: 0.036448703390950216, correction:0.04865938575972574\n",
            "259 z does not work\n",
            "259[Vx]  no correction: 0.04897430481914696, correction:0.2157291220803058\n",
            "259 Vx does not work\n"
          ],
          "name": "stdout"
        },
        {
          "output_type": "stream",
          "text": [
            "WARNING:fbprophet:Optimization terminated abnormally. Falling back to Newton.\n"
          ],
          "name": "stderr"
        },
        {
          "output_type": "stream",
          "text": [
            "259[Vy]  no correction: 0.016033164941169988, correction:0.30609497847830724\n",
            "259 Vy does not work\n"
          ],
          "name": "stdout"
        },
        {
          "output_type": "stream",
          "text": [
            "\r 43%|████▎     | 260/600 [2:20:51<2:54:55, 30.87s/it]"
          ],
          "name": "stderr"
        },
        {
          "output_type": "stream",
          "text": [
            "259[Vz]  no correction: 0.06785250085778574, correction:0.2671250830765073\n",
            "259 Vz does not work\n",
            "260[x]  no correction: 0.4621139768975653, correction:0.21722310768598044\n"
          ],
          "name": "stdout"
        },
        {
          "output_type": "stream",
          "text": [
            "WARNING:fbprophet:Optimization terminated abnormally. Falling back to Newton.\n"
          ],
          "name": "stderr"
        },
        {
          "output_type": "stream",
          "text": [
            "260[y]  no correction: 0.14251330516248656, correction:0.05347240185305681\n",
            "260[z]  no correction: 0.21249411889336559, correction:0.16054591080505684\n",
            "260[Vx]  no correction: 0.7352316734695584, correction:0.7535939545099547\n",
            "260 Vx does not work\n",
            "260[Vy]  no correction: 0.150147288415196, correction:0.20146146853536331\n",
            "260 Vy does not work\n"
          ],
          "name": "stdout"
        },
        {
          "output_type": "stream",
          "text": [
            "\r 44%|████▎     | 261/600 [2:21:14<2:41:10, 28.53s/it]"
          ],
          "name": "stderr"
        },
        {
          "output_type": "stream",
          "text": [
            "260[Vz]  no correction: 0.724279071296235, correction:0.5951725975783914\n",
            "261[x]  no correction: 0.015845875504465198, correction:0.001040985602157534\n",
            "261[y]  no correction: 0.018012279192791785, correction:0.0015705317448684098\n",
            "261[z]  no correction: 0.006098704551741928, correction:0.0011601458094227133\n",
            "261[Vx]  no correction: 0.030220807826569194, correction:0.0019365667731683085\n",
            "261[Vy]  no correction: 0.006800947375566365, correction:0.0011123377577674264\n"
          ],
          "name": "stdout"
        },
        {
          "output_type": "stream",
          "text": [
            "\r 44%|████▎     | 262/600 [2:21:33<2:24:40, 25.68s/it]"
          ],
          "name": "stderr"
        },
        {
          "output_type": "stream",
          "text": [
            "261[Vz]  no correction: 0.0098205160457955, correction:0.0011238837601431327\n",
            "262[x]  no correction: 0.2651836007889021, correction:0.0029621646117307067\n",
            "262[y]  no correction: 0.1913204664085536, correction:0.0016680645828276357\n",
            "262[z]  no correction: 0.18122661112364727, correction:0.01025483955051802\n",
            "262[Vx]  no correction: 0.21890980991900127, correction:0.005682202122131528\n",
            "262[Vy]  no correction: 0.1477869751748147, correction:0.002180587443279931\n"
          ],
          "name": "stdout"
        },
        {
          "output_type": "stream",
          "text": [
            "\r 44%|████▍     | 263/600 [2:22:41<3:34:43, 38.23s/it]"
          ],
          "name": "stderr"
        },
        {
          "output_type": "stream",
          "text": [
            "262[Vz]  no correction: 0.17555308052113577, correction:0.0077755230570990385\n",
            "263[x]  no correction: 0.0040373275612078825, correction:0.0004987993976579255\n",
            "263[y]  no correction: 0.001388722437353505, correction:0.0004781116438651669\n",
            "263[z]  no correction: 0.04222314149974048, correction:0.008855331362039956\n",
            "263[Vx]  no correction: 0.0036700209100448845, correction:0.0005650635826880298\n",
            "263[Vy]  no correction: 0.006149077200604272, correction:0.0011236236056089792\n"
          ],
          "name": "stdout"
        },
        {
          "output_type": "stream",
          "text": [
            "\r 44%|████▍     | 264/600 [2:23:06<3:12:16, 34.33s/it]"
          ],
          "name": "stderr"
        },
        {
          "output_type": "stream",
          "text": [
            "263[Vz]  no correction: 0.0032483221288787346, correction:0.0007127833274540956\n",
            "264[x]  no correction: 0.019489367482330426, correction:0.010544901229390707\n",
            "264[y]  no correction: 0.0208650695117477, correction:0.010545631679911223\n",
            "264[z]  no correction: 0.011485747347405234, correction:0.005483710697000043\n",
            "264[Vx]  no correction: 0.039303871395432, correction:0.01813265262464595\n",
            "264[Vy]  no correction: 0.013497344881299368, correction:0.005946937290346629\n"
          ],
          "name": "stdout"
        },
        {
          "output_type": "stream",
          "text": [
            "\r 44%|████▍     | 265/600 [2:23:17<2:32:58, 27.40s/it]"
          ],
          "name": "stderr"
        },
        {
          "output_type": "stream",
          "text": [
            "264[Vz]  no correction: 0.03390874883879505, correction:0.009859438542425443\n",
            "265[x]  no correction: 0.021301446354671977, correction:0.03636647423751989\n",
            "265 x does not work\n",
            "265[y]  no correction: 0.027444934349508263, correction:0.039456737319441\n",
            "265 y does not work\n",
            "265[z]  no correction: 0.015671687071289988, correction:0.0098630040720752\n",
            "265[Vx]  no correction: 0.018244507880503646, correction:0.09332895985271272\n",
            "265 Vx does not work\n",
            "265[Vy]  no correction: 0.03710491721637827, correction:0.12017422191999824\n",
            "265 Vy does not work\n"
          ],
          "name": "stdout"
        },
        {
          "output_type": "stream",
          "text": [
            "\r 44%|████▍     | 266/600 [2:29:06<11:29:33, 123.87s/it]"
          ],
          "name": "stderr"
        },
        {
          "output_type": "stream",
          "text": [
            "265[Vz]  no correction: 0.02181971043694186, correction:0.06629366428198773\n",
            "265 Vz does not work\n",
            "266[x]  no correction: 0.12393754019396613, correction:0.0027894399940645797\n",
            "266[y]  no correction: 0.09238307630938856, correction:0.005566477926904919\n",
            "266[z]  no correction: 0.14231054425198503, correction:0.0141324231844366\n",
            "266[Vx]  no correction: 0.13048219711249764, correction:0.022746333988298357\n",
            "266[Vy]  no correction: 0.07960582474992099, correction:0.0072545917333239444\n"
          ],
          "name": "stdout"
        },
        {
          "output_type": "stream",
          "text": [
            "\r 44%|████▍     | 267/600 [2:29:49<9:11:49, 99.43s/it]  "
          ],
          "name": "stderr"
        },
        {
          "output_type": "stream",
          "text": [
            "266[Vz]  no correction: 0.11667939300862706, correction:0.00602090355149029\n",
            "267[x]  no correction: 0.013444856564309013, correction:0.027815434994661756\n",
            "267 x does not work\n",
            "267[y]  no correction: 0.01851416025824188, correction:0.02305415366038226\n",
            "267 y does not work\n",
            "267[z]  no correction: 0.020743205510391736, correction:0.0176461066240993\n",
            "267[Vx]  no correction: 0.06405714164077399, correction:0.08255345692055592\n",
            "267 Vx does not work\n",
            "267[Vy]  no correction: 0.020079881400191565, correction:0.08318198786561035\n",
            "267 Vy does not work\n"
          ],
          "name": "stdout"
        },
        {
          "output_type": "stream",
          "text": [
            "\r 45%|████▍     | 268/600 [2:30:00<6:44:33, 73.11s/it]"
          ],
          "name": "stderr"
        },
        {
          "output_type": "stream",
          "text": [
            "267[Vz]  no correction: 0.05580913037286069, correction:0.08956038613850101\n",
            "267 Vz does not work\n",
            "268[x]  no correction: 0.10267458578580327, correction:0.06100486971488177\n"
          ],
          "name": "stdout"
        },
        {
          "output_type": "stream",
          "text": [
            "WARNING:fbprophet:Optimization terminated abnormally. Falling back to Newton.\n"
          ],
          "name": "stderr"
        },
        {
          "output_type": "stream",
          "text": [
            "268[y]  no correction: 0.10221141431289822, correction:0.04349941884426195\n",
            "268[z]  no correction: 0.046878621290687095, correction:0.018452696034499755\n",
            "268[Vx]  no correction: 0.08248420599157841, correction:0.12211241059267412\n",
            "268 Vx does not work\n",
            "268[Vy]  no correction: 0.11727202142536793, correction:0.14313196054947985\n",
            "268 Vy does not work\n"
          ],
          "name": "stdout"
        },
        {
          "output_type": "stream",
          "text": [
            "\r 45%|████▍     | 269/600 [2:30:24<5:22:05, 58.39s/it]"
          ],
          "name": "stderr"
        },
        {
          "output_type": "stream",
          "text": [
            "268[Vz]  no correction: 0.08314924084044414, correction:0.13531656899552688\n",
            "268 Vz does not work\n",
            "269[x]  no correction: 0.0050254086154942765, correction:0.00042288834590942736\n",
            "269[y]  no correction: 0.009951104896357331, correction:0.0006229676191596038\n",
            "269[z]  no correction: 0.04458456356646809, correction:0.010950548414122525\n",
            "269[Vx]  no correction: 0.0036666622779279226, correction:0.00040697689498721593\n",
            "269[Vy]  no correction: 0.0070931607510708785, correction:0.0006941004202277877\n"
          ],
          "name": "stdout"
        },
        {
          "output_type": "stream",
          "text": [
            "\r 45%|████▌     | 270/600 [2:30:43<4:14:57, 46.36s/it]"
          ],
          "name": "stderr"
        },
        {
          "output_type": "stream",
          "text": [
            "269[Vz]  no correction: 0.036647738918400306, correction:0.005594245807573581\n",
            "270[x]  no correction: 0.16990704310639143, correction:0.003270360600734758\n",
            "270[y]  no correction: 0.15935131283803444, correction:0.0008021350745898092\n",
            "270[z]  no correction: 0.10722617196606779, correction:0.0024109239965478383\n",
            "270[Vx]  no correction: 0.16173832781587644, correction:0.005639178375482966\n",
            "270[Vy]  no correction: 0.1099443768468838, correction:0.0015431476262865022\n"
          ],
          "name": "stdout"
        },
        {
          "output_type": "stream",
          "text": [
            "\r 45%|████▌     | 271/600 [2:31:27<4:10:58, 45.77s/it]"
          ],
          "name": "stderr"
        },
        {
          "output_type": "stream",
          "text": [
            "270[Vz]  no correction: 0.11434798125618019, correction:0.0016587884643698536\n"
          ],
          "name": "stdout"
        },
        {
          "output_type": "stream",
          "text": [
            "WARNING:fbprophet:Optimization terminated abnormally. Falling back to Newton.\n"
          ],
          "name": "stderr"
        },
        {
          "output_type": "stream",
          "text": [
            "271[x]  no correction: 0.13678402517313412, correction:0.08763107492057336\n",
            "271[y]  no correction: 0.12318179033997204, correction:0.08643590725508948\n",
            "271[z]  no correction: 0.2844010771977094, correction:0.1292314858713523\n",
            "271[Vx]  no correction: 0.7738133486307723, correction:0.674276772984524\n",
            "271[Vy]  no correction: 0.1492073036401419, correction:0.14048955826675316\n"
          ],
          "name": "stdout"
        },
        {
          "output_type": "stream",
          "text": [
            "\r 45%|████▌     | 272/600 [2:31:49<3:30:26, 38.50s/it]"
          ],
          "name": "stderr"
        },
        {
          "output_type": "stream",
          "text": [
            "271[Vz]  no correction: 0.3078212700404398, correction:0.25156395684350596\n",
            "272[x]  no correction: 0.14048319825142513, correction:0.09441017970785047\n",
            "272[y]  no correction: 0.09412926309963636, correction:0.11772030825013112\n",
            "272 y does not work\n",
            "272[z]  no correction: 0.09872124969767347, correction:0.11249313930723759\n",
            "272 z does not work\n",
            "272[Vx]  no correction: 0.14591610541450795, correction:0.14326352390171454\n",
            "272[Vy]  no correction: 0.06644394095078669, correction:0.082535721739916\n",
            "272 Vy does not work\n"
          ],
          "name": "stdout"
        },
        {
          "output_type": "stream",
          "text": [
            "\r 46%|████▌     | 273/600 [2:32:26<3:27:37, 38.09s/it]"
          ],
          "name": "stderr"
        },
        {
          "output_type": "stream",
          "text": [
            "272[Vz]  no correction: 0.07392558302616326, correction:0.0770084172681403\n",
            "272 Vz does not work\n",
            "273[x]  no correction: 0.009461001209702889, correction:0.010644485801357378\n",
            "273 x does not work\n",
            "273[y]  no correction: 0.008816447245516064, correction:0.013206997629078697\n",
            "273 y does not work\n",
            "273[z]  no correction: 0.017628903292603366, correction:0.01399629303054499\n",
            "273[Vx]  no correction: 0.08736578796114315, correction:0.08700129452499833\n",
            "273[Vy]  no correction: 0.024847649333307194, correction:0.03294356925954263\n",
            "273 Vy does not work\n"
          ],
          "name": "stdout"
        },
        {
          "output_type": "stream",
          "text": [
            "\r 46%|████▌     | 274/600 [2:32:47<2:59:46, 33.09s/it]"
          ],
          "name": "stderr"
        },
        {
          "output_type": "stream",
          "text": [
            "273[Vz]  no correction: 0.02802425281599181, correction:0.03239077761557423\n",
            "273 Vz does not work\n",
            "274[x]  no correction: 0.007286157364096513, correction:0.0004607330710241356\n",
            "274[y]  no correction: 0.0033824622619169223, correction:0.0004996535567462777\n",
            "274[z]  no correction: 0.014931664261342991, correction:0.0006681034928755674\n",
            "274[Vx]  no correction: 0.044799887765893324, correction:0.0013491101467352805\n",
            "274[Vy]  no correction: 0.0021966154824449575, correction:0.00028445874552111865\n"
          ],
          "name": "stdout"
        },
        {
          "output_type": "stream",
          "text": [
            "\r 46%|████▌     | 275/600 [2:33:06<2:36:16, 28.85s/it]"
          ],
          "name": "stderr"
        },
        {
          "output_type": "stream",
          "text": [
            "274[Vz]  no correction: 0.003959414969678652, correction:0.004239902045978576\n",
            "274 Vz does not work\n",
            "275[x]  no correction: 0.1540605579051971, correction:0.08813944832787064\n",
            "275[y]  no correction: 0.06922286025707712, correction:0.037733150716594464\n",
            "275[z]  no correction: 0.12421061147848009, correction:0.09043354964726087\n",
            "275[Vx]  no correction: 0.10401263951697319, correction:0.054126960451627244\n",
            "275[Vy]  no correction: 0.08169281226328044, correction:0.06745505474709039\n"
          ],
          "name": "stdout"
        },
        {
          "output_type": "stream",
          "text": [
            "\r 46%|████▌     | 276/600 [2:33:31<2:29:41, 27.72s/it]"
          ],
          "name": "stderr"
        },
        {
          "output_type": "stream",
          "text": [
            "275[Vz]  no correction: 0.09528265795318143, correction:0.051072655069047374\n",
            "276[x]  no correction: 0.0007309628861067845, correction:0.0002736389339094905\n",
            "276[y]  no correction: 0.0027990828448765416, correction:0.00017461683987191005\n",
            "276[z]  no correction: 0.005027522912706491, correction:0.0008212666540221993\n",
            "276[Vx]  no correction: 0.003943106687047481, correction:0.0003098853129828942\n",
            "276[Vy]  no correction: 0.0026756932070212845, correction:0.0002287468639630702\n"
          ],
          "name": "stdout"
        },
        {
          "output_type": "stream",
          "text": [
            "\r 46%|████▌     | 277/600 [2:34:29<3:18:25, 36.86s/it]"
          ],
          "name": "stderr"
        },
        {
          "output_type": "stream",
          "text": [
            "276[Vz]  no correction: 0.0004701190561937325, correction:5.803329293570264e-05\n",
            "277[x]  no correction: 0.3920870583016046, correction:0.7663563596454199\n",
            "277 x does not work\n",
            "277[y]  no correction: 0.2797655855686995, correction:0.7670533871130465\n",
            "277 y does not work\n",
            "277[z]  no correction: 0.4765146012952263, correction:0.7882673210174714\n",
            "277 z does not work\n",
            "277[Vx]  no correction: 0.274049654463932, correction:0.8050068992429925\n",
            "277 Vx does not work\n",
            "277[Vy]  no correction: 0.36756624718964287, correction:0.7886185812084112\n",
            "277 Vy does not work\n"
          ],
          "name": "stdout"
        },
        {
          "output_type": "stream",
          "text": [
            "\r 46%|████▋     | 278/600 [3:00:29<44:09:24, 493.68s/it]"
          ],
          "name": "stderr"
        },
        {
          "output_type": "stream",
          "text": [
            "277[Vz]  no correction: 0.33645694451911384, correction:0.8071971195793496\n",
            "277 Vz does not work\n",
            "278[x]  no correction: 0.007408637758774442, correction:0.0018971264338584447\n",
            "278[y]  no correction: 0.002641245428798624, correction:0.0016845351316410488\n",
            "278[z]  no correction: 0.004567982842502149, correction:0.0018651465242165938\n",
            "278[Vx]  no correction: 0.002297481768254923, correction:0.0041740642537619185\n",
            "278 Vx does not work\n",
            "278[Vy]  no correction: 0.0022505647738487594, correction:0.0010769638837780705\n"
          ],
          "name": "stdout"
        },
        {
          "output_type": "stream",
          "text": [
            "\r 46%|████▋     | 279/600 [3:00:49<31:21:06, 351.61s/it]"
          ],
          "name": "stderr"
        },
        {
          "output_type": "stream",
          "text": [
            "278[Vz]  no correction: 0.0033093381472262522, correction:0.002087002858175842\n",
            "279[x]  no correction: 0.004469573111651684, correction:0.0008295124315325736\n",
            "279[y]  no correction: 0.015147639453419367, correction:0.0007790737907067073\n",
            "279[z]  no correction: 0.02727824388181368, correction:0.002126126655217716\n",
            "279[Vx]  no correction: 0.008028528192510818, correction:0.0007265784864299022\n",
            "279[Vy]  no correction: 0.004987275637294675, correction:0.0004281878062511244\n"
          ],
          "name": "stdout"
        },
        {
          "output_type": "stream",
          "text": [
            "\r 47%|████▋     | 280/600 [3:01:11<22:28:00, 252.75s/it]"
          ],
          "name": "stderr"
        },
        {
          "output_type": "stream",
          "text": [
            "279[Vz]  no correction: 0.007822037459438004, correction:0.0005053018770649574\n",
            "280[x]  no correction: 0.1074209068544712, correction:0.0007198190662914785\n",
            "280[y]  no correction: 0.07417806727469922, correction:0.0037123334896355478\n",
            "280[z]  no correction: 0.07122993813511469, correction:0.001643595510524378\n",
            "280[Vx]  no correction: 0.06370237052604794, correction:0.0010146953505350493\n",
            "280[Vy]  no correction: 0.02989396147353768, correction:0.0007439609738657409\n"
          ],
          "name": "stdout"
        },
        {
          "output_type": "stream",
          "text": [
            "\r 47%|████▋     | 281/600 [3:01:55<16:50:56, 190.14s/it]"
          ],
          "name": "stderr"
        },
        {
          "output_type": "stream",
          "text": [
            "280[Vz]  no correction: 0.04782306883324217, correction:0.001390051792509939\n",
            "281[x]  no correction: 0.02808140112688528, correction:0.00044225985619372033\n",
            "281[y]  no correction: 0.03364978631329068, correction:0.000854800078598122\n",
            "281[z]  no correction: 0.0633919736498463, correction:0.0013645162778576625\n",
            "281[Vx]  no correction: 0.022434228102606726, correction:0.0006695944265371537\n",
            "281[Vy]  no correction: 0.0348376409237896, correction:0.0006685961341631059\n"
          ],
          "name": "stdout"
        },
        {
          "output_type": "stream",
          "text": [
            "\r 47%|████▋     | 282/600 [3:02:41<12:58:43, 146.93s/it]"
          ],
          "name": "stderr"
        },
        {
          "output_type": "stream",
          "text": [
            "281[Vz]  no correction: 0.051888593299741784, correction:0.0008659124407748792\n",
            "282[x]  no correction: 0.003974902286200774, correction:0.0017930705545565612\n",
            "282[y]  no correction: 0.028447285596541305, correction:0.007325409917432076\n",
            "282[z]  no correction: 0.005872537878178422, correction:0.0007155855568026485\n",
            "282[Vx]  no correction: 0.004201408921983658, correction:0.0013022694011506032\n",
            "282[Vy]  no correction: 0.0038112847730012492, correction:0.001299369250253954\n"
          ],
          "name": "stdout"
        },
        {
          "output_type": "stream",
          "text": [
            "\r 47%|████▋     | 283/600 [3:03:00<9:32:30, 108.36s/it] "
          ],
          "name": "stderr"
        },
        {
          "output_type": "stream",
          "text": [
            "282[Vz]  no correction: 0.003499522594960691, correction:0.0012517771348292842\n",
            "283[x]  no correction: 0.0050752222344830214, correction:0.0002756876148171076\n",
            "283[y]  no correction: 0.0069722129511124034, correction:0.0001294317473039732\n",
            "283[z]  no correction: 0.0033629107534860255, correction:0.00016962153098072543\n",
            "283[Vx]  no correction: 0.013215388244130733, correction:0.00014744136071117333\n",
            "283[Vy]  no correction: 0.0024841678015940466, correction:0.0004153891662258348\n"
          ],
          "name": "stdout"
        },
        {
          "output_type": "stream",
          "text": [
            "\r 47%|████▋     | 284/600 [3:04:34<9:09:09, 104.27s/it]"
          ],
          "name": "stderr"
        },
        {
          "output_type": "stream",
          "text": [
            "283[Vz]  no correction: 0.003965100368031975, correction:0.0002944569736311911\n",
            "284[x]  no correction: 0.0006898444312535389, correction:0.0004137362504443795\n",
            "284[y]  no correction: 0.0010098051222904069, correction:0.001745703477988624\n",
            "284 y does not work\n",
            "284[z]  no correction: 0.003543983543763825, correction:0.002559112516773425\n",
            "284[Vx]  no correction: 0.0003201418863906427, correction:0.0006599994253420365\n",
            "284 Vx does not work\n",
            "284[Vy]  no correction: 0.00762683829897657, correction:0.004919888315712402\n"
          ],
          "name": "stdout"
        },
        {
          "output_type": "stream",
          "text": [
            "\r 48%|████▊     | 285/600 [3:05:04<7:09:15, 81.76s/it] "
          ],
          "name": "stderr"
        },
        {
          "output_type": "stream",
          "text": [
            "284[Vz]  no correction: 0.0015358284031758496, correction:0.0013345218178152263\n",
            "285[x]  no correction: 0.007682706795774641, correction:0.0003654373187190512\n",
            "285[y]  no correction: 0.002410434230871383, correction:0.00024956690904786617\n",
            "285[z]  no correction: 0.011731070387058623, correction:0.0006183940179127034\n",
            "285[Vx]  no correction: 0.0035718416431220106, correction:0.00032534261498373636\n",
            "285[Vy]  no correction: 0.0026325776669506354, correction:0.00028636618663255227\n"
          ],
          "name": "stdout"
        },
        {
          "output_type": "stream",
          "text": [
            "\r 48%|████▊     | 286/600 [3:05:36<5:50:56, 67.06s/it]"
          ],
          "name": "stderr"
        },
        {
          "output_type": "stream",
          "text": [
            "285[Vz]  no correction: 0.030301936364400577, correction:0.009353477258469488\n",
            "286[x]  no correction: 0.0015899636972243583, correction:7.908173192779852e-05\n",
            "286[y]  no correction: 0.002483610024333468, correction:0.00015148040558415023\n",
            "286[z]  no correction: 0.0010405625672973296, correction:9.34684747675881e-05\n",
            "286[Vx]  no correction: 0.0005872061971202656, correction:7.793629864981304e-05\n",
            "286[Vy]  no correction: 0.0032575656806166286, correction:0.00015022978935703228\n"
          ],
          "name": "stdout"
        },
        {
          "output_type": "stream",
          "text": [
            "\r 48%|████▊     | 287/600 [3:05:57<4:37:33, 53.21s/it]"
          ],
          "name": "stderr"
        },
        {
          "output_type": "stream",
          "text": [
            "286[Vz]  no correction: 0.0011693555247409928, correction:9.807296216825104e-05\n",
            "287[x]  no correction: 0.004964564533638164, correction:0.005140693094640228\n",
            "287 x does not work\n",
            "287[y]  no correction: 0.008323056574845732, correction:0.0028892659883458585\n",
            "287[z]  no correction: 0.0038568670973213215, correction:0.0009446506183854187\n",
            "287[Vx]  no correction: 0.003599972662354056, correction:0.0015171811562846274\n",
            "287[Vy]  no correction: 0.0012528003624671109, correction:0.0026505087813209565\n",
            "287 Vy does not work\n"
          ],
          "name": "stdout"
        },
        {
          "output_type": "stream",
          "text": [
            "\r 48%|████▊     | 288/600 [3:06:23<3:54:22, 45.07s/it]"
          ],
          "name": "stderr"
        },
        {
          "output_type": "stream",
          "text": [
            "287[Vz]  no correction: 0.010596598543907284, correction:0.007486581407516545\n",
            "288[x]  no correction: 0.006651250910686309, correction:0.002050403324638838\n",
            "288[y]  no correction: 0.005891306216621236, correction:0.004557062518702209\n",
            "288[z]  no correction: 0.009400906193831078, correction:0.003790369402024343\n",
            "288[Vx]  no correction: 0.0041724143043519206, correction:0.01300514272486003\n",
            "288 Vx does not work\n",
            "288[Vy]  no correction: 0.0033733837067709584, correction:0.016341214821377348\n",
            "288 Vy does not work\n"
          ],
          "name": "stdout"
        },
        {
          "output_type": "stream",
          "text": [
            "\r 48%|████▊     | 289/600 [3:06:41<3:10:57, 36.84s/it]"
          ],
          "name": "stderr"
        },
        {
          "output_type": "stream",
          "text": [
            "288[Vz]  no correction: 0.03345101328573209, correction:0.048577725935196554\n",
            "288 Vz does not work\n",
            "289[x]  no correction: 0.3723574852212852, correction:0.08923640101146199\n",
            "289[y]  no correction: 0.27666309367042774, correction:0.22804855349490252\n",
            "289[z]  no correction: 0.36371470472267936, correction:0.09881393508414252\n",
            "289[Vx]  no correction: 0.38512428671051696, correction:0.2960660917061454\n",
            "289[Vy]  no correction: 0.30378366782065047, correction:0.24100944015898712\n"
          ],
          "name": "stdout"
        },
        {
          "output_type": "stream",
          "text": [
            "\r 48%|████▊     | 290/600 [3:07:04<2:48:26, 32.60s/it]"
          ],
          "name": "stderr"
        },
        {
          "output_type": "stream",
          "text": [
            "289[Vz]  no correction: 0.39047802495440725, correction:0.3055610113342584\n",
            "290[x]  no correction: 0.08226950635043044, correction:0.005669407059678915\n",
            "290[y]  no correction: 0.02375949142276974, correction:0.0009325783092747469\n",
            "290[z]  no correction: 0.09456885702379317, correction:0.0018025989826773632\n",
            "290[Vx]  no correction: 0.09897796142283302, correction:0.005969748397762633\n",
            "290[Vy]  no correction: 0.046220995456669085, correction:0.0033104098170969685\n"
          ],
          "name": "stdout"
        },
        {
          "output_type": "stream",
          "text": [
            "\r 48%|████▊     | 291/600 [3:07:50<3:09:39, 36.83s/it]"
          ],
          "name": "stderr"
        },
        {
          "output_type": "stream",
          "text": [
            "290[Vz]  no correction: 0.05579463465421394, correction:0.0016711175905041347\n",
            "291[x]  no correction: 0.0021959296805276547, correction:0.0015429849254337694\n",
            "291[y]  no correction: 0.007897256964668715, correction:0.006749724084635746\n",
            "291[z]  no correction: 0.006072003623449942, correction:0.0031867861687369667\n",
            "291[Vx]  no correction: 0.005607319723409944, correction:0.0030387352953244414\n",
            "291[Vy]  no correction: 0.004398408356401734, correction:0.0029873452613309506\n"
          ],
          "name": "stdout"
        },
        {
          "output_type": "stream",
          "text": [
            "\r 49%|████▊     | 292/600 [3:08:22<3:01:39, 35.39s/it]"
          ],
          "name": "stderr"
        },
        {
          "output_type": "stream",
          "text": [
            "291[Vz]  no correction: 0.011582189744863075, correction:0.007510505127569122\n",
            "292[x]  no correction: 0.004458739294995521, correction:0.0021952086446156787\n",
            "292[y]  no correction: 0.0037883861290604706, correction:0.0017625145080655809\n",
            "292[z]  no correction: 0.005990049609765072, correction:0.00423183364369262\n",
            "292[Vx]  no correction: 0.0506450909423926, correction:0.013309144082398324\n",
            "292[Vy]  no correction: 0.012137278862399795, correction:0.007867494123213255\n"
          ],
          "name": "stdout"
        },
        {
          "output_type": "stream",
          "text": [
            "\r 49%|████▉     | 293/600 [3:08:41<2:36:01, 30.49s/it]"
          ],
          "name": "stderr"
        },
        {
          "output_type": "stream",
          "text": [
            "292[Vz]  no correction: 0.717957592445969, correction:0.8523945025649706\n",
            "292 Vz does not work\n",
            "293[x]  no correction: 0.0066527441258079495, correction:0.001124396550718833\n",
            "293[y]  no correction: 0.021145463263166065, correction:0.0009241501432200483\n",
            "293[z]  no correction: 0.032368476184079585, correction:0.011768406959503458\n",
            "293[Vx]  no correction: 0.017726576987313402, correction:0.010495475124299372\n",
            "293[Vy]  no correction: 0.04550355334762481, correction:0.006810832023438755\n"
          ],
          "name": "stdout"
        },
        {
          "output_type": "stream",
          "text": [
            "\r 49%|████▉     | 294/600 [3:09:03<2:21:54, 27.83s/it]"
          ],
          "name": "stderr"
        },
        {
          "output_type": "stream",
          "text": [
            "293[Vz]  no correction: 0.0371360250322267, correction:0.012242106090519855\n",
            "294[x]  no correction: 0.008005711465580377, correction:0.0006697645022196823\n",
            "294[y]  no correction: 0.024287149889925086, correction:0.001071138346464198\n",
            "294[z]  no correction: 0.02190989522136558, correction:0.0015796244750806332\n",
            "294[Vx]  no correction: 0.05205282980193701, correction:0.0027006096205630927\n",
            "294[Vy]  no correction: 0.0617834630982087, correction:0.018631201788127195\n"
          ],
          "name": "stdout"
        },
        {
          "output_type": "stream",
          "text": [
            "\r 49%|████▉     | 295/600 [3:09:43<2:40:18, 31.53s/it]"
          ],
          "name": "stderr"
        },
        {
          "output_type": "stream",
          "text": [
            "294[Vz]  no correction: 0.9314143617715577, correction:0.9103841284468687\n",
            "295[x]  no correction: 0.03284127539109984, correction:0.0008852598163255599\n",
            "295[y]  no correction: 0.016630129946648177, correction:0.0007846754701849817\n",
            "295[z]  no correction: 0.04950943988886049, correction:0.0034023778261751264\n",
            "295[Vx]  no correction: 0.03372763312888715, correction:0.0007714897463046168\n",
            "295[Vy]  no correction: 0.04714267401429938, correction:0.0053131284125708935\n"
          ],
          "name": "stdout"
        },
        {
          "output_type": "stream",
          "text": [
            "\r 49%|████▉     | 296/600 [3:12:47<6:31:49, 77.33s/it]"
          ],
          "name": "stderr"
        },
        {
          "output_type": "stream",
          "text": [
            "295[Vz]  no correction: 0.048992932072279276, correction:0.0029401515189527647\n",
            "296[x]  no correction: 0.14977073091720855, correction:0.029767549755748305\n",
            "296[y]  no correction: 0.0458403636117181, correction:0.035266273886098966\n",
            "296[z]  no correction: 0.097978491765183, correction:0.0361852238420837\n",
            "296[Vx]  no correction: 0.12988570107618472, correction:0.09264967966392035\n",
            "296[Vy]  no correction: 0.059871072279580474, correction:0.043122856858160315\n"
          ],
          "name": "stdout"
        },
        {
          "output_type": "stream",
          "text": [
            "\r 50%|████▉     | 297/600 [3:13:13<5:11:57, 61.77s/it]"
          ],
          "name": "stderr"
        },
        {
          "output_type": "stream",
          "text": [
            "296[Vz]  no correction: 0.08296868292746247, correction:0.057954083304877564\n",
            "297[x]  no correction: 0.01665855406732923, correction:0.00010489882956568336\n",
            "297[y]  no correction: 0.0026704691159564536, correction:8.196823280248101e-05\n",
            "297[z]  no correction: 0.00496769439782875, correction:5.753251129580266e-05\n",
            "297[Vx]  no correction: 0.015140041601163228, correction:0.00017738898608667667\n",
            "297[Vy]  no correction: 0.0070100569658932835, correction:0.0001582688317077764\n"
          ],
          "name": "stdout"
        },
        {
          "output_type": "stream",
          "text": [
            "\r 50%|████▉     | 298/600 [3:15:32<7:08:24, 85.11s/it]"
          ],
          "name": "stderr"
        },
        {
          "output_type": "stream",
          "text": [
            "297[Vz]  no correction: 0.018723356776778326, correction:0.0004076572156826122\n",
            "298[x]  no correction: 0.011195067721464749, correction:0.00042530588246090595\n",
            "298[y]  no correction: 0.00663673068905173, correction:0.0006044761695309311\n",
            "298[z]  no correction: 0.007207334219734976, correction:0.0008632334946239836\n",
            "298[Vx]  no correction: 0.008113362342869954, correction:0.00044179756856068807\n",
            "298[Vy]  no correction: 0.007174130943802175, correction:0.00070971225593546\n"
          ],
          "name": "stdout"
        },
        {
          "output_type": "stream",
          "text": [
            "\r 50%|████▉     | 299/600 [3:15:54<5:30:57, 65.97s/it]"
          ],
          "name": "stderr"
        },
        {
          "output_type": "stream",
          "text": [
            "298[Vz]  no correction: 0.004225382318406012, correction:0.0003671418588194646\n",
            "299[x]  no correction: 0.008148096103643334, correction:0.0001477885307786107\n",
            "299[y]  no correction: 0.004782230323930965, correction:0.0002113493011615337\n",
            "299[z]  no correction: 0.005350558343482785, correction:0.00011187894854704132\n",
            "299[Vx]  no correction: 0.0026409768959137526, correction:6.97007205667758e-05\n",
            "299[Vy]  no correction: 0.00409348746569051, correction:0.0003676106604730368\n"
          ],
          "name": "stdout"
        },
        {
          "output_type": "stream",
          "text": [
            "\r 50%|█████     | 300/600 [3:17:18<5:57:25, 71.49s/it]"
          ],
          "name": "stderr"
        },
        {
          "output_type": "stream",
          "text": [
            "299[Vz]  no correction: 0.0037511410736361154, correction:8.991406266035155e-05\n",
            "300[x]  no correction: 0.15912729480784946, correction:0.003477360157114929\n",
            "300[y]  no correction: 0.11078693726065328, correction:0.0033938636817842423\n",
            "300[z]  no correction: 0.14653827456600557, correction:0.008842308077680995\n",
            "300[Vx]  no correction: 0.10781572958668796, correction:0.00975313861350499\n",
            "300[Vy]  no correction: 0.08957411676560172, correction:0.007408609672797349\n"
          ],
          "name": "stdout"
        },
        {
          "output_type": "stream",
          "text": [
            "\r 50%|█████     | 301/600 [3:17:52<4:59:26, 60.09s/it]"
          ],
          "name": "stderr"
        },
        {
          "output_type": "stream",
          "text": [
            "300[Vz]  no correction: 0.10146354892672302, correction:0.0051332861590349275\n",
            "301[x]  no correction: 0.1686183274607256, correction:0.47716781689888255\n",
            "301 x does not work\n",
            "301[y]  no correction: 0.16656928812521435, correction:0.8268183560932777\n",
            "301 y does not work\n",
            "301[z]  no correction: 0.23073212106622148, correction:0.9460401590435781\n",
            "301 z does not work\n",
            "301[Vx]  no correction: 0.07026562770914693, correction:0.5210786051123152\n",
            "301 Vx does not work\n",
            "301[Vy]  no correction: 0.1866401045104138, correction:0.8710596862745521\n",
            "301 Vy does not work\n"
          ],
          "name": "stdout"
        },
        {
          "output_type": "stream",
          "text": [
            "\r 50%|█████     | 302/600 [3:19:44<6:15:54, 75.69s/it]"
          ],
          "name": "stderr"
        },
        {
          "output_type": "stream",
          "text": [
            "301[Vz]  no correction: 0.501024322016896, correction:0.891450501288208\n",
            "301 Vz does not work\n",
            "302[x]  no correction: 0.003881652174267877, correction:0.00033057530960153966\n",
            "302[y]  no correction: 0.0041538650424872885, correction:8.90289930434374e-05\n",
            "302[z]  no correction: 0.03053017416175392, correction:0.0004027892487574569\n",
            "302[Vx]  no correction: 0.016316008979880857, correction:0.0004241610616667355\n",
            "302[Vy]  no correction: 0.007701707613184408, correction:0.00013736645709694397\n"
          ],
          "name": "stdout"
        },
        {
          "output_type": "stream",
          "text": [
            "\r 50%|█████     | 303/600 [3:20:15<5:08:21, 62.29s/it]"
          ],
          "name": "stderr"
        },
        {
          "output_type": "stream",
          "text": [
            "302[Vz]  no correction: 0.005295506431588327, correction:0.00012295740644138663\n",
            "303[x]  no correction: 0.027127770442060273, correction:0.0013096577772819206\n",
            "303[y]  no correction: 0.013191676458980865, correction:0.0008176644817618414\n",
            "303[z]  no correction: 0.0616357822748969, correction:0.0036826879950440255\n",
            "303[Vx]  no correction: 0.021122285739798893, correction:0.00110739502313364\n",
            "303[Vy]  no correction: 0.033803841246112416, correction:0.006511023814679262\n"
          ],
          "name": "stdout"
        },
        {
          "output_type": "stream",
          "text": [
            "\r 51%|█████     | 304/600 [3:20:52<4:30:39, 54.86s/it]"
          ],
          "name": "stderr"
        },
        {
          "output_type": "stream",
          "text": [
            "303[Vz]  no correction: 0.020846910936119966, correction:0.0009379888123450765\n",
            "304[x]  no correction: 0.00907722815887027, correction:0.000756657650953574\n",
            "304[y]  no correction: 0.006189690673494157, correction:0.0006640975207258812\n",
            "304[z]  no correction: 0.01604315067091378, correction:0.0005886586031860402\n",
            "304[Vx]  no correction: 0.012374002872477453, correction:0.002136725928587422\n",
            "304[Vy]  no correction: 0.05068474617136691, correction:0.003026567163217884\n"
          ],
          "name": "stdout"
        },
        {
          "output_type": "stream",
          "text": [
            "\r 51%|█████     | 305/600 [3:21:11<3:36:02, 43.94s/it]"
          ],
          "name": "stderr"
        },
        {
          "output_type": "stream",
          "text": [
            "304[Vz]  no correction: 0.004459488433309694, correction:0.0008390893082854399\n",
            "305[x]  no correction: 0.023852443092605407, correction:0.0004850602858559965\n",
            "305[y]  no correction: 0.013369109638817885, correction:0.0005364593092305853\n",
            "305[z]  no correction: 0.023508798089025305, correction:0.00232950827007932\n",
            "305[Vx]  no correction: 0.02183324104272653, correction:0.0007558327660138333\n",
            "305[Vy]  no correction: 0.03057052804137615, correction:0.005544876212653686\n"
          ],
          "name": "stdout"
        },
        {
          "output_type": "stream",
          "text": [
            "\r 51%|█████     | 306/600 [3:21:56<3:36:52, 44.26s/it]"
          ],
          "name": "stderr"
        },
        {
          "output_type": "stream",
          "text": [
            "305[Vz]  no correction: 0.02945340489707975, correction:0.00134083288887703\n",
            "306[x]  no correction: 0.006997170751737698, correction:0.0019391134321796227\n",
            "306[y]  no correction: 0.013243742815947084, correction:0.004881614986777789\n",
            "306[z]  no correction: 0.005893681735712043, correction:0.003660098303376591\n",
            "306[Vx]  no correction: 0.015149478699764268, correction:0.002646614764289353\n",
            "306[Vy]  no correction: 0.01445018566417799, correction:0.0016119337845411628\n"
          ],
          "name": "stdout"
        },
        {
          "output_type": "stream",
          "text": [
            "\r 51%|█████     | 307/600 [3:22:30<3:21:04, 41.18s/it]"
          ],
          "name": "stderr"
        },
        {
          "output_type": "stream",
          "text": [
            "306[Vz]  no correction: 0.008293409273938197, correction:0.0009044661625980378\n",
            "307[x]  no correction: 0.00451713542301677, correction:0.007492902953219496\n",
            "307 x does not work\n",
            "307[y]  no correction: 0.010252915984740464, correction:0.013081577637873409\n",
            "307 y does not work\n",
            "307[z]  no correction: 0.01008098683212637, correction:0.011438612082549692\n",
            "307 z does not work\n",
            "307[Vx]  no correction: 0.01004705312621343, correction:0.012930995709392821\n",
            "307 Vx does not work\n",
            "307[Vy]  no correction: 0.009970939234474513, correction:0.012921919109271778\n",
            "307 Vy does not work\n"
          ],
          "name": "stdout"
        },
        {
          "output_type": "stream",
          "text": [
            "\r 51%|█████▏    | 308/600 [3:23:01<3:05:29, 38.11s/it]"
          ],
          "name": "stderr"
        },
        {
          "output_type": "stream",
          "text": [
            "307[Vz]  no correction: 0.012946546824341864, correction:0.013751156649361499\n",
            "307 Vz does not work\n",
            "308[x]  no correction: 0.29480510440095054, correction:0.1902857039267606\n",
            "308[y]  no correction: 0.20908477750599824, correction:0.19866628578912546\n",
            "308[z]  no correction: 0.2941022142350185, correction:0.18182176853622273\n",
            "308[Vx]  no correction: 0.3386878091746226, correction:0.2862468555188854\n",
            "308[Vy]  no correction: 0.17996904464438573, correction:0.1769122206796919\n"
          ],
          "name": "stdout"
        },
        {
          "output_type": "stream",
          "text": [
            "\r 52%|█████▏    | 309/600 [3:23:24<2:43:18, 33.67s/it]"
          ],
          "name": "stderr"
        },
        {
          "output_type": "stream",
          "text": [
            "308[Vz]  no correction: 0.31854881405998786, correction:0.26179046840699705\n",
            "309[x]  no correction: 0.30453730616914476, correction:0.08496377652472058\n",
            "309[y]  no correction: 0.18400671057390894, correction:0.14733262104971087\n",
            "309[z]  no correction: 0.21830693516456073, correction:0.1484549110270115\n",
            "309[Vx]  no correction: 0.30512659128594277, correction:0.24975611251056698\n",
            "309[Vy]  no correction: 0.16752863755193856, correction:0.1275508637133252\n"
          ],
          "name": "stdout"
        },
        {
          "output_type": "stream",
          "text": [
            "\r 52%|█████▏    | 310/600 [3:23:45<2:24:44, 29.95s/it]WARNING:fbprophet:Optimization terminated abnormally. Falling back to Newton.\n"
          ],
          "name": "stderr"
        },
        {
          "output_type": "stream",
          "text": [
            "309[Vz]  no correction: 0.233513839660333, correction:0.18095518657302073\n"
          ],
          "name": "stdout"
        },
        {
          "output_type": "stream",
          "text": [
            "WARNING:fbprophet:Optimization terminated abnormally. Falling back to Newton.\n"
          ],
          "name": "stderr"
        },
        {
          "output_type": "stream",
          "text": [
            "310[x]  no correction: 0.8140953881343929, correction:0.7685509165712239\n",
            "310[y]  no correction: 0.07270223988323955, correction:0.03470708730436967\n",
            "310[z]  no correction: 0.15193000086535668, correction:0.06561227265467312\n",
            "310[Vx]  no correction: 0.8401587138665157, correction:0.8004866015360734\n"
          ],
          "name": "stdout"
        },
        {
          "output_type": "stream",
          "text": [
            "WARNING:fbprophet:Optimization terminated abnormally. Falling back to Newton.\n"
          ],
          "name": "stderr"
        },
        {
          "output_type": "stream",
          "text": [
            "310[Vy]  no correction: 0.06047523093586509, correction:0.0538038149383405\n"
          ],
          "name": "stdout"
        },
        {
          "output_type": "stream",
          "text": [
            "\r 52%|█████▏    | 311/600 [3:24:08<2:13:17, 27.67s/it]"
          ],
          "name": "stderr"
        },
        {
          "output_type": "stream",
          "text": [
            "310[Vz]  no correction: 0.14272349562554054, correction:0.10460844804327243\n",
            "311[x]  no correction: 0.10133186347917254, correction:0.12755069207392297\n",
            "311 x does not work\n",
            "311[y]  no correction: 0.05798427702175949, correction:0.09703408768670398\n",
            "311 y does not work\n",
            "311[z]  no correction: 0.05176192625760688, correction:0.09650269819409917\n",
            "311 z does not work\n",
            "311[Vx]  no correction: 0.05267869298990088, correction:0.07479287702883426\n",
            "311 Vx does not work\n",
            "311[Vy]  no correction: 0.06805143260164576, correction:0.10243260623320025\n",
            "311 Vy does not work\n"
          ],
          "name": "stdout"
        },
        {
          "output_type": "stream",
          "text": [
            "\r 52%|█████▏    | 312/600 [3:24:40<2:19:10, 29.00s/it]"
          ],
          "name": "stderr"
        },
        {
          "output_type": "stream",
          "text": [
            "311[Vz]  no correction: 0.07668333067080342, correction:0.10934893822539425\n",
            "311 Vz does not work\n",
            "312[x]  no correction: 0.007873592602660726, correction:0.005123121116196606\n",
            "312[y]  no correction: 0.004624661692184357, correction:0.0026429858170314937\n",
            "312[z]  no correction: 0.006631883217948511, correction:0.004456869572278365\n",
            "312[Vx]  no correction: 0.0077159033736026485, correction:0.0051735995596793455\n",
            "312[Vy]  no correction: 0.007157764855549557, correction:0.004670489424365526\n"
          ],
          "name": "stdout"
        },
        {
          "output_type": "stream",
          "text": [
            "\r 52%|█████▏    | 313/600 [3:25:14<2:26:00, 30.52s/it]"
          ],
          "name": "stderr"
        },
        {
          "output_type": "stream",
          "text": [
            "312[Vz]  no correction: 0.006040482310618099, correction:0.004382444922621112\n",
            "313[x]  no correction: 0.0908172270165796, correction:0.06791115032410597\n",
            "313[y]  no correction: 0.062336743799116495, correction:0.0529062904862783\n",
            "313[z]  no correction: 0.0793605906424447, correction:0.03708195462921931\n",
            "313[Vx]  no correction: 0.03519318398951262, correction:0.03372659923627699\n",
            "313[Vy]  no correction: 0.05885514192823839, correction:0.06350464351883796\n",
            "313 Vy does not work\n"
          ],
          "name": "stdout"
        },
        {
          "output_type": "stream",
          "text": [
            "\r 52%|█████▏    | 314/600 [3:25:35<2:11:30, 27.59s/it]"
          ],
          "name": "stderr"
        },
        {
          "output_type": "stream",
          "text": [
            "313[Vz]  no correction: 0.11089984796895548, correction:0.0966562627089494\n",
            "314[x]  no correction: 0.01325220354147965, correction:0.001906763598568921\n",
            "314[y]  no correction: 0.001366807973381123, correction:0.000492726092077017\n",
            "314[z]  no correction: 0.012206108957751595, correction:0.002182246719638805\n",
            "314[Vx]  no correction: 0.0405406146515116, correction:0.008349838319667771\n",
            "314[Vy]  no correction: 0.01713915678527051, correction:0.009169059226809854\n"
          ],
          "name": "stdout"
        },
        {
          "output_type": "stream",
          "text": [
            "\r 52%|█████▎    | 315/600 [3:25:57<2:03:14, 25.95s/it]"
          ],
          "name": "stderr"
        },
        {
          "output_type": "stream",
          "text": [
            "314[Vz]  no correction: 0.7365671045676926, correction:0.7739610804168937\n",
            "314 Vz does not work\n",
            "315[x]  no correction: 0.04693300895257071, correction:0.007365032193470579\n",
            "315[y]  no correction: 0.030431611474849327, correction:0.01114260451198193\n",
            "315[z]  no correction: 0.07474890497173145, correction:0.004723808081527247\n",
            "315[Vx]  no correction: 0.05158187617199112, correction:0.01443515157461014\n",
            "315[Vy]  no correction: 0.05643992148049411, correction:0.03304247984114015\n"
          ],
          "name": "stdout"
        },
        {
          "output_type": "stream",
          "text": [
            "\r 53%|█████▎    | 316/600 [3:26:19<1:57:34, 24.84s/it]"
          ],
          "name": "stderr"
        },
        {
          "output_type": "stream",
          "text": [
            "315[Vz]  no correction: 0.12869059358468382, correction:0.0195857391046465\n",
            "316[x]  no correction: 0.07560955744079378, correction:0.059031576377277115\n",
            "316[y]  no correction: 0.03529851057663094, correction:0.03123850833340038\n",
            "316[z]  no correction: 0.08828186513284579, correction:0.053142059698008955\n",
            "316[Vx]  no correction: 0.07018555587214288, correction:0.06688272464308238\n",
            "316[Vy]  no correction: 0.6611585474963335, correction:0.6691181856881919\n",
            "316 Vy does not work\n"
          ],
          "name": "stdout"
        },
        {
          "output_type": "stream",
          "text": [
            "\r 53%|█████▎    | 317/600 [3:26:39<1:50:48, 23.49s/it]"
          ],
          "name": "stderr"
        },
        {
          "output_type": "stream",
          "text": [
            "316[Vz]  no correction: 0.10703600980733442, correction:0.09760612843736982\n",
            "317[x]  no correction: 0.0018780131214347873, correction:0.00014709124211804658\n",
            "317[y]  no correction: 0.009449160070451369, correction:0.0005467197982198242\n",
            "317[z]  no correction: 0.0017974074358865773, correction:0.00017694667408208725\n",
            "317[Vx]  no correction: 0.0023897920558978744, correction:0.00019346766797755075\n",
            "317[Vy]  no correction: 0.01684670677189348, correction:0.00045125995961603634\n"
          ],
          "name": "stdout"
        },
        {
          "output_type": "stream",
          "text": [
            "\r 53%|█████▎    | 318/600 [3:26:57<1:42:40, 21.85s/it]"
          ],
          "name": "stderr"
        },
        {
          "output_type": "stream",
          "text": [
            "317[Vz]  no correction: 0.0024251464520008174, correction:0.00021239612684509707\n",
            "318[x]  no correction: 0.0053017087277205666, correction:0.0025816676741257107\n",
            "318[y]  no correction: 0.04046312891020787, correction:0.02899522605317225\n",
            "318[z]  no correction: 0.017661199512906622, correction:0.004741188936083394\n",
            "318[Vx]  no correction: 0.655312744781877, correction:0.8424602407906381\n",
            "318 Vx does not work\n",
            "318[Vy]  no correction: 0.01947409189674628, correction:0.019244903473153187\n"
          ],
          "name": "stdout"
        },
        {
          "output_type": "stream",
          "text": [
            "\r 53%|█████▎    | 319/600 [3:27:16<1:38:15, 20.98s/it]"
          ],
          "name": "stderr"
        },
        {
          "output_type": "stream",
          "text": [
            "318[Vz]  no correction: 0.06334011551722438, correction:0.05195787452076442\n",
            "319[x]  no correction: 0.009037690364112137, correction:0.0036765934755219197\n",
            "319[y]  no correction: 0.00449728203433845, correction:0.0007377469035822705\n",
            "319[z]  no correction: 0.003666527835833127, correction:0.0036196158656066307\n",
            "319[Vx]  no correction: 0.012665740061845652, correction:0.004012336883209782\n",
            "319[Vy]  no correction: 0.0020190717103836194, correction:0.002910236461875458\n",
            "319 Vy does not work\n"
          ],
          "name": "stdout"
        },
        {
          "output_type": "stream",
          "text": [
            "\r 53%|█████▎    | 320/600 [3:27:34<1:33:56, 20.13s/it]"
          ],
          "name": "stderr"
        },
        {
          "output_type": "stream",
          "text": [
            "319[Vz]  no correction: 0.661458122400808, correction:0.6617904687054517\n",
            "319 Vz does not work\n",
            "320[x]  no correction: 0.030365124064635925, correction:0.00029955176829338806\n",
            "320[y]  no correction: 0.11568396484152342, correction:0.0003827031866868008\n",
            "320[z]  no correction: 0.07456798872604457, correction:0.000552272350901894\n",
            "320[Vx]  no correction: 0.03441911118085793, correction:0.0003773202086890051\n",
            "320[Vy]  no correction: 0.11255476360573874, correction:0.021857666403868794\n"
          ],
          "name": "stdout"
        },
        {
          "output_type": "stream",
          "text": [
            "\r 54%|█████▎    | 321/600 [3:28:18<2:05:57, 27.09s/it]"
          ],
          "name": "stderr"
        },
        {
          "output_type": "stream",
          "text": [
            "320[Vz]  no correction: 0.05580844468326881, correction:0.0009770129892269865\n",
            "321[x]  no correction: 0.019545003094679075, correction:0.029099373304322673\n",
            "321 x does not work\n",
            "321[y]  no correction: 0.016632059020481895, correction:0.026791522220649004\n",
            "321 y does not work\n",
            "321[z]  no correction: 0.018037494722477045, correction:0.028419969697184258\n",
            "321 z does not work\n",
            "321[Vx]  no correction: 0.015335088998485194, correction:0.027071933286465403\n",
            "321 Vx does not work\n",
            "321[Vy]  no correction: 0.011388171570890844, correction:0.024871558072240625\n",
            "321 Vy does not work\n"
          ],
          "name": "stdout"
        },
        {
          "output_type": "stream",
          "text": [
            "\r 54%|█████▎    | 322/600 [3:28:56<2:21:17, 30.49s/it]"
          ],
          "name": "stderr"
        },
        {
          "output_type": "stream",
          "text": [
            "321[Vz]  no correction: 0.018224598576505005, correction:0.028012553169979512\n",
            "321 Vz does not work\n",
            "322[x]  no correction: 0.310951086374038, correction:0.07790687763511456\n",
            "322[y]  no correction: 0.16068647301188327, correction:0.11291924300749902\n",
            "322[z]  no correction: 0.406788144335372, correction:0.34562666258864577\n",
            "322[Vx]  no correction: 0.25778700392545667, correction:0.21637719637871405\n",
            "322[Vy]  no correction: 0.1570174066501136, correction:0.11396045551476336\n"
          ],
          "name": "stdout"
        },
        {
          "output_type": "stream",
          "text": [
            "\r 54%|█████▍    | 323/600 [3:29:15<2:04:42, 27.01s/it]"
          ],
          "name": "stderr"
        },
        {
          "output_type": "stream",
          "text": [
            "322[Vz]  no correction: 0.4463792139589041, correction:0.46884516089330575\n",
            "322 Vz does not work\n",
            "323[x]  no correction: 0.018137600237853047, correction:0.01455640871775162\n",
            "323[y]  no correction: 0.019668086709579553, correction:0.008259412667338482\n",
            "323[z]  no correction: 0.02531520580719032, correction:0.008653397634559364\n",
            "323[Vx]  no correction: 0.021739798879706614, correction:0.013575897556038155\n",
            "323[Vy]  no correction: 0.019537846175674032, correction:0.01395772819224578\n"
          ],
          "name": "stdout"
        },
        {
          "output_type": "stream",
          "text": [
            "\r 54%|█████▍    | 324/600 [3:29:55<2:22:04, 30.89s/it]"
          ],
          "name": "stderr"
        },
        {
          "output_type": "stream",
          "text": [
            "323[Vz]  no correction: 0.02620774258069774, correction:0.017439259487989647\n",
            "324[x]  no correction: 0.009751285039096077, correction:0.0032315639013329933\n",
            "324[y]  no correction: 0.010437750237524784, correction:0.0019243239542227923\n",
            "324[z]  no correction: 0.05185706328563317, correction:0.0053726541892235346\n",
            "324[Vx]  no correction: 0.01594739868094568, correction:0.011402457981139768\n",
            "324[Vy]  no correction: 0.0044781742060838615, correction:0.003278694128118557\n"
          ],
          "name": "stdout"
        },
        {
          "output_type": "stream",
          "text": [
            "\r 54%|█████▍    | 325/600 [3:30:13<2:04:14, 27.11s/it]"
          ],
          "name": "stderr"
        },
        {
          "output_type": "stream",
          "text": [
            "324[Vz]  no correction: 0.010620135943784836, correction:0.007280072328584048\n",
            "325[x]  no correction: 0.33632099234760515, correction:0.06273993441676266\n",
            "325[y]  no correction: 0.25572705372939747, correction:0.076269581692277\n",
            "325[z]  no correction: 0.2835509141053879, correction:0.09550887650886078\n",
            "325[Vx]  no correction: 0.30912418578194867, correction:0.12694636968847114\n",
            "325[Vy]  no correction: 0.24098650853188816, correction:0.13442333158922073\n"
          ],
          "name": "stdout"
        },
        {
          "output_type": "stream",
          "text": [
            "\r 54%|█████▍    | 326/600 [3:30:40<2:02:40, 26.86s/it]"
          ],
          "name": "stderr"
        },
        {
          "output_type": "stream",
          "text": [
            "325[Vz]  no correction: 0.29066341645145277, correction:0.13863375777231793\n",
            "326[x]  no correction: 0.07669071658700367, correction:0.02051492849879775\n",
            "326[y]  no correction: 0.03975776132689946, correction:0.0134561555833812\n",
            "326[z]  no correction: 0.06177015545762019, correction:0.020141645152924752\n",
            "326[Vx]  no correction: 0.07640123897119054, correction:0.042072821085311116\n",
            "326[Vy]  no correction: 0.09974940756429874, correction:0.03029729764273311\n"
          ],
          "name": "stdout"
        },
        {
          "output_type": "stream",
          "text": [
            "\r 55%|█████▍    | 327/600 [3:31:01<1:55:19, 25.35s/it]"
          ],
          "name": "stderr"
        },
        {
          "output_type": "stream",
          "text": [
            "326[Vz]  no correction: 0.6837503668749781, correction:0.6215448218544399\n",
            "327[x]  no correction: 0.04006038056133883, correction:0.028029473741953435\n",
            "327[y]  no correction: 0.024975383051547083, correction:0.011115421658791647\n",
            "327[z]  no correction: 0.06356506228094291, correction:0.06127404616514941\n",
            "327[Vx]  no correction: 0.024900499936364787, correction:0.06893620398939765\n",
            "327 Vx does not work\n",
            "327[Vy]  no correction: 0.05665071953402584, correction:0.04129031681769625\n"
          ],
          "name": "stdout"
        },
        {
          "output_type": "stream",
          "text": [
            "\r 55%|█████▍    | 328/600 [3:31:14<1:37:22, 21.48s/it]"
          ],
          "name": "stderr"
        },
        {
          "output_type": "stream",
          "text": [
            "327[Vz]  no correction: 0.025625814868549826, correction:0.06276512131800427\n",
            "327 Vz does not work\n",
            "328[x]  no correction: 0.09189957658404364, correction:0.0015991386659286854\n",
            "328[y]  no correction: 0.04513149564715633, correction:0.0022846854804266267\n",
            "328[z]  no correction: 0.12471671509657876, correction:0.04105440108867603\n",
            "328[Vx]  no correction: 0.07719517953113159, correction:0.0034458883040841036\n",
            "328[Vy]  no correction: 0.04861610979641602, correction:0.0063056886128683865\n"
          ],
          "name": "stdout"
        },
        {
          "output_type": "stream",
          "text": [
            "\r 55%|█████▍    | 329/600 [3:32:00<2:10:44, 28.94s/it]"
          ],
          "name": "stderr"
        },
        {
          "output_type": "stream",
          "text": [
            "328[Vz]  no correction: 0.09116749647141903, correction:0.009075480964831541\n",
            "329[x]  no correction: 0.0008757704208144922, correction:0.00022358546817432303\n",
            "329[y]  no correction: 0.0022786499481079188, correction:0.00024186246655715147\n",
            "329[z]  no correction: 0.000646725024989592, correction:0.00012348034671325284\n",
            "329[Vx]  no correction: 0.0011460101535004138, correction:0.0003731814986250228\n",
            "329[Vy]  no correction: 0.0004324246152101093, correction:0.00015428573546380175\n"
          ],
          "name": "stdout"
        },
        {
          "output_type": "stream",
          "text": [
            "\r 55%|█████▌    | 330/600 [3:33:22<3:21:40, 44.82s/it]"
          ],
          "name": "stderr"
        },
        {
          "output_type": "stream",
          "text": [
            "329[Vz]  no correction: 0.00027780031142005064, correction:0.0001325996658770199\n",
            "330[x]  no correction: 0.07157866940789852, correction:0.002794597017035426\n",
            "330[y]  no correction: 0.027720756708660713, correction:0.011983167685380216\n",
            "330[z]  no correction: 0.03486794093800965, correction:0.020638021358624133\n",
            "330[Vx]  no correction: 0.04255085611541901, correction:0.028339275844693715\n",
            "330[Vy]  no correction: 0.02281898069399458, correction:0.014065799962633805\n"
          ],
          "name": "stdout"
        },
        {
          "output_type": "stream",
          "text": [
            "\r 55%|█████▌    | 331/600 [3:33:40<2:45:09, 36.84s/it]"
          ],
          "name": "stderr"
        },
        {
          "output_type": "stream",
          "text": [
            "330[Vz]  no correction: 0.02050923565683808, correction:0.011078584177588197\n",
            "331[x]  no correction: 0.0014104824037665452, correction:0.000607809473918614\n",
            "331[y]  no correction: 0.0006452187582055977, correction:0.002007465278966304\n",
            "331 y does not work\n",
            "331[z]  no correction: 0.0032169706197120247, correction:0.0015898193531710372\n",
            "331[Vx]  no correction: 0.011739902196827379, correction:0.009252326188831195\n",
            "331[Vy]  no correction: 0.004172301335860314, correction:0.002629349951479794\n"
          ],
          "name": "stdout"
        },
        {
          "output_type": "stream",
          "text": [
            "\r 55%|█████▌    | 332/600 [3:34:13<2:38:44, 35.54s/it]"
          ],
          "name": "stderr"
        },
        {
          "output_type": "stream",
          "text": [
            "331[Vz]  no correction: 0.006007933944020612, correction:0.0035297626934121685\n",
            "332[x]  no correction: 0.004610805708658322, correction:0.0002930192247158422\n",
            "332[y]  no correction: 0.004803686012280518, correction:0.0004935759308078878\n",
            "332[z]  no correction: 0.03974312467990557, correction:0.01533805135642338\n",
            "332[Vx]  no correction: 0.004996726579294239, correction:0.0003252190491163778\n",
            "332[Vy]  no correction: 0.0021954065202001408, correction:0.00025672791648951877\n"
          ],
          "name": "stdout"
        },
        {
          "output_type": "stream",
          "text": [
            "\r 56%|█████▌    | 333/600 [3:34:31<2:15:14, 30.39s/it]"
          ],
          "name": "stderr"
        },
        {
          "output_type": "stream",
          "text": [
            "332[Vz]  no correction: 0.0032030452375961175, correction:0.0002324742643458964\n",
            "333[x]  no correction: 0.37004898124973307, correction:0.0746037725585128\n",
            "333[y]  no correction: 0.18044421659013035, correction:0.1837861345016244\n",
            "333 y does not work\n",
            "333[z]  no correction: 0.34855990951797344, correction:0.10329993979077165\n",
            "333[Vx]  no correction: 0.33491508023099753, correction:0.3078528752734165\n",
            "333[Vy]  no correction: 0.2105310863138893, correction:0.1443660792958287\n"
          ],
          "name": "stdout"
        },
        {
          "output_type": "stream",
          "text": [
            "\r 56%|█████▌    | 334/600 [3:34:51<2:00:32, 27.19s/it]"
          ],
          "name": "stderr"
        },
        {
          "output_type": "stream",
          "text": [
            "333[Vz]  no correction: 0.29848906838996364, correction:0.2684111280197498\n",
            "334[x]  no correction: 0.005614981551093909, correction:0.003445399518647951\n",
            "334[y]  no correction: 0.003805668194705255, correction:0.0034297697466274535\n",
            "334[z]  no correction: 0.005675849726532029, correction:0.002002162981706754\n",
            "334[Vx]  no correction: 0.007064568402457813, correction:0.003128608377991844\n",
            "334[Vy]  no correction: 0.004293219580151611, correction:0.003851970083092043\n"
          ],
          "name": "stdout"
        },
        {
          "output_type": "stream",
          "text": [
            "\r 56%|█████▌    | 335/600 [3:35:22<2:05:37, 28.44s/it]"
          ],
          "name": "stderr"
        },
        {
          "output_type": "stream",
          "text": [
            "334[Vz]  no correction: 0.004730695733667619, correction:0.0016725256171981114\n",
            "335[x]  no correction: 0.005089472783160027, correction:0.0020049569080486185\n",
            "335[y]  no correction: 0.006178341058729421, correction:0.0015147708818331518\n",
            "335[z]  no correction: 0.005449735954535346, correction:0.004819704192972903\n",
            "335[Vx]  no correction: 0.002746480226224148, correction:0.0009845937722186009\n",
            "335[Vy]  no correction: 0.055673675893941926, correction:0.03517673567650223\n"
          ],
          "name": "stdout"
        },
        {
          "output_type": "stream",
          "text": [
            "\r 56%|█████▌    | 336/600 [3:35:45<1:57:05, 26.61s/it]"
          ],
          "name": "stderr"
        },
        {
          "output_type": "stream",
          "text": [
            "335[Vz]  no correction: 0.03473225580927459, correction:0.01919292718654175\n",
            "336[x]  no correction: 0.02326005606234282, correction:0.033867830300076895\n",
            "336 x does not work\n",
            "336[y]  no correction: 0.013733344822095983, correction:0.03479367156335231\n",
            "336 y does not work\n",
            "336[z]  no correction: 0.008161353415156556, correction:0.019162103883206164\n",
            "336 z does not work\n",
            "336[Vx]  no correction: 0.025741797100453184, correction:0.04284428545019326\n",
            "336 Vx does not work\n",
            "336[Vy]  no correction: 0.026546681703870586, correction:0.044149827543690456\n",
            "336 Vy does not work\n"
          ],
          "name": "stdout"
        },
        {
          "output_type": "stream",
          "text": [
            "\r 56%|█████▌    | 337/600 [3:35:57<1:37:36, 22.27s/it]"
          ],
          "name": "stderr"
        },
        {
          "output_type": "stream",
          "text": [
            "336[Vz]  no correction: 0.03621646865316848, correction:0.08077870502657457\n",
            "336 Vz does not work\n",
            "337[x]  no correction: 0.002018055678210433, correction:0.0002638646683208231\n",
            "337[y]  no correction: 0.001411887743408141, correction:0.00031213102500315135\n",
            "337[z]  no correction: 0.002451448949283967, correction:0.0003705340665456186\n",
            "337[Vx]  no correction: 0.0012536507614532403, correction:0.00027677373619952795\n",
            "337[Vy]  no correction: 0.0013359900013781723, correction:0.0003192787494041733\n"
          ],
          "name": "stdout"
        },
        {
          "output_type": "stream",
          "text": [
            "\r 56%|█████▋    | 338/600 [3:36:39<2:03:20, 28.25s/it]"
          ],
          "name": "stderr"
        },
        {
          "output_type": "stream",
          "text": [
            "337[Vz]  no correction: 0.0022558832987036826, correction:0.00038662629006192846\n",
            "338[x]  no correction: 0.027668667686732012, correction:0.006672996403554887\n",
            "338[y]  no correction: 0.011941478018187941, correction:0.001767073546301307\n",
            "338[z]  no correction: 0.017688894930102308, correction:0.0028477392743990505\n",
            "338[Vx]  no correction: 0.008847820023854536, correction:0.001686295430224094\n",
            "338[Vy]  no correction: 0.015568785163985837, correction:0.0019652962730767787\n"
          ],
          "name": "stdout"
        },
        {
          "output_type": "stream",
          "text": [
            "\r 56%|█████▋    | 339/600 [3:36:56<1:48:04, 24.84s/it]"
          ],
          "name": "stderr"
        },
        {
          "output_type": "stream",
          "text": [
            "338[Vz]  no correction: 0.011882909962791288, correction:0.0018602360100907322\n",
            "339[x]  no correction: 0.4325064850930902, correction:0.29478598103561177\n",
            "339[y]  no correction: 0.22883324312809813, correction:0.15040360452167445\n",
            "339[z]  no correction: 0.5231807791036196, correction:0.2597531906917922\n",
            "339[Vx]  no correction: 0.5157089997284819, correction:0.4079156363864363\n",
            "339[Vy]  no correction: 0.3147537062449302, correction:0.23280843007919813\n"
          ],
          "name": "stdout"
        },
        {
          "output_type": "stream",
          "text": [
            "\r 57%|█████▋    | 340/600 [3:37:14<1:39:25, 22.94s/it]"
          ],
          "name": "stderr"
        },
        {
          "output_type": "stream",
          "text": [
            "339[Vz]  no correction: 0.38938431396587114, correction:0.2956998674636837\n",
            "340[x]  no correction: 0.07069646948752163, correction:0.0007850646624898706\n",
            "340[y]  no correction: 0.03276378342426798, correction:0.0021402340218022596\n",
            "340[z]  no correction: 0.05636146924686198, correction:0.0020144332568488737\n",
            "340[Vx]  no correction: 0.03512862226029039, correction:0.0009213388032187797\n",
            "340[Vy]  no correction: 0.018486521767776876, correction:0.0011210560453532893\n"
          ],
          "name": "stdout"
        },
        {
          "output_type": "stream",
          "text": [
            "\r 57%|█████▋    | 341/600 [3:37:51<1:56:18, 26.94s/it]"
          ],
          "name": "stderr"
        },
        {
          "output_type": "stream",
          "text": [
            "340[Vz]  no correction: 0.03627326631716668, correction:0.0015888761930446553\n",
            "341[x]  no correction: 0.035890247595600604, correction:0.0016569340611378913\n",
            "341[y]  no correction: 0.022021668080387042, correction:0.0015905494870426303\n",
            "341[z]  no correction: 0.04335311233804015, correction:0.011649712186393744\n",
            "341[Vx]  no correction: 0.029831184873090263, correction:0.002402046343585511\n",
            "341[Vy]  no correction: 0.020064584826686858, correction:0.0017712176749776385\n"
          ],
          "name": "stdout"
        },
        {
          "output_type": "stream",
          "text": [
            "\r 57%|█████▋    | 342/600 [3:38:11<1:47:03, 24.90s/it]"
          ],
          "name": "stderr"
        },
        {
          "output_type": "stream",
          "text": [
            "341[Vz]  no correction: 0.015521342128510626, correction:0.0029766682199888614\n",
            "342[x]  no correction: 0.0036897003094611236, correction:0.000475323202974667\n",
            "342[y]  no correction: 0.0020068361614649756, correction:0.00015973826623425215\n",
            "342[z]  no correction: 0.0018976996035683852, correction:8.473221142267093e-05\n",
            "342[Vx]  no correction: 0.0038067069555422052, correction:0.0003405675853743614\n",
            "342[Vy]  no correction: 0.0015394254615923519, correction:0.00012100062885539702\n"
          ],
          "name": "stdout"
        },
        {
          "output_type": "stream",
          "text": [
            "\r 57%|█████▋    | 343/600 [3:40:04<3:40:48, 51.55s/it]"
          ],
          "name": "stderr"
        },
        {
          "output_type": "stream",
          "text": [
            "342[Vz]  no correction: 0.008515813964527962, correction:0.001800160810885305\n",
            "343[x]  no correction: 0.005134675666960956, correction:0.00030553106765600027\n",
            "343[y]  no correction: 0.004492395103045428, correction:0.00044081960376585904\n",
            "343[z]  no correction: 0.004184860673313177, correction:0.00017633936560359012\n",
            "343[Vx]  no correction: 0.006127055093253572, correction:0.0004151628071143641\n",
            "343[Vy]  no correction: 0.005253620109847523, correction:0.0005861440941102263\n"
          ],
          "name": "stdout"
        },
        {
          "output_type": "stream",
          "text": [
            "\r 57%|█████▋    | 344/600 [3:40:43<3:23:17, 47.65s/it]"
          ],
          "name": "stderr"
        },
        {
          "output_type": "stream",
          "text": [
            "343[Vz]  no correction: 0.006897929653938175, correction:0.0003790108462294212\n",
            "344[x]  no correction: 0.08734053043532759, correction:0.002130808680050758\n",
            "344[y]  no correction: 0.0274703059522, correction:0.0010240880469466161\n",
            "344[z]  no correction: 0.06042115690753582, correction:0.0004098808289137571\n",
            "344[Vx]  no correction: 0.06471490169718859, correction:0.0002691766988369104\n",
            "344[Vy]  no correction: 0.09657241787302896, correction:0.0018350290247372244\n"
          ],
          "name": "stdout"
        },
        {
          "output_type": "stream",
          "text": [
            "\r 57%|█████▊    | 345/600 [3:42:15<4:19:36, 61.08s/it]"
          ],
          "name": "stderr"
        },
        {
          "output_type": "stream",
          "text": [
            "344[Vz]  no correction: 0.055207113640395274, correction:0.00017050572417062602\n",
            "345[x]  no correction: 0.09247643028722692, correction:0.036995441466215584\n",
            "345[y]  no correction: 0.12986484847925847, correction:0.05581799406081407\n",
            "345[z]  no correction: 0.2469354443217758, correction:0.07366274321579341\n",
            "345[Vx]  no correction: 0.12194467470011432, correction:0.09145253554216347\n",
            "345[Vy]  no correction: 0.08720091671553933, correction:0.0661283446477688\n"
          ],
          "name": "stdout"
        },
        {
          "output_type": "stream",
          "text": [
            "\r 58%|█████▊    | 346/600 [3:42:33<3:23:01, 47.96s/it]"
          ],
          "name": "stderr"
        },
        {
          "output_type": "stream",
          "text": [
            "345[Vz]  no correction: 0.18790532266446772, correction:0.13572932304469626\n",
            "346[x]  no correction: 0.016537085246882695, correction:0.0006616265366843062\n",
            "346[y]  no correction: 0.01202626348214835, correction:0.0013020723085050434\n",
            "346[z]  no correction: 0.018343907054648095, correction:0.0003508880981714298\n",
            "346[Vx]  no correction: 0.016518493275249936, correction:0.00040381960731542476\n",
            "346[Vy]  no correction: 0.012782212128977408, correction:0.0007928586058733687\n"
          ],
          "name": "stdout"
        },
        {
          "output_type": "stream",
          "text": [
            "\r 58%|█████▊    | 347/600 [3:43:53<4:02:42, 57.56s/it]"
          ],
          "name": "stderr"
        },
        {
          "output_type": "stream",
          "text": [
            "346[Vz]  no correction: 0.021711522562430488, correction:0.0006651479318182309\n",
            "347[x]  no correction: 0.09426672074112395, correction:0.022433776678341275\n",
            "347[y]  no correction: 0.1395094458455541, correction:0.003997489068796323\n",
            "347[z]  no correction: 0.15090565335187764, correction:0.008205880206634463\n",
            "347[Vx]  no correction: 0.08399607566256291, correction:0.011113706238428226\n",
            "347[Vy]  no correction: 0.1372251572344592, correction:0.023631085405382255\n"
          ],
          "name": "stdout"
        },
        {
          "output_type": "stream",
          "text": [
            "\r 58%|█████▊    | 348/600 [3:44:18<3:20:50, 47.82s/it]"
          ],
          "name": "stderr"
        },
        {
          "output_type": "stream",
          "text": [
            "347[Vz]  no correction: 0.14437425005147134, correction:0.02608073691121678\n",
            "348[x]  no correction: 0.011180622708330415, correction:0.0003089499265991675\n",
            "348[y]  no correction: 0.01919780399665074, correction:0.0018249044983036547\n",
            "348[z]  no correction: 0.08072840244599087, correction:0.010826099725467395\n",
            "348[Vx]  no correction: 0.029394410358771147, correction:0.006165802660687554\n",
            "348[Vy]  no correction: 0.019524652748100096, correction:0.0007758458038227503\n"
          ],
          "name": "stdout"
        },
        {
          "output_type": "stream",
          "text": [
            "\r 58%|█████▊    | 349/600 [3:44:58<3:10:14, 45.48s/it]"
          ],
          "name": "stderr"
        },
        {
          "output_type": "stream",
          "text": [
            "348[Vz]  no correction: 0.035267295922854866, correction:0.004018610384014462\n",
            "349[x]  no correction: 0.0003677279704543443, correction:0.0008429608302402584\n",
            "349 x does not work\n",
            "349[y]  no correction: 0.013723260361704853, correction:0.001675279866319814\n",
            "349[z]  no correction: 0.0043035520337379556, correction:0.0005024119259154067\n",
            "349[Vx]  no correction: 0.0055514415455333605, correction:0.005245813022713205\n",
            "349[Vy]  no correction: 0.0005371163877804776, correction:0.0017962281274466526\n",
            "349 Vy does not work\n"
          ],
          "name": "stdout"
        },
        {
          "output_type": "stream",
          "text": [
            "\r 58%|█████▊    | 350/600 [3:45:15<2:34:33, 37.10s/it]"
          ],
          "name": "stderr"
        },
        {
          "output_type": "stream",
          "text": [
            "349[Vz]  no correction: 0.007079862624536182, correction:0.010224835818814924\n",
            "349 Vz does not work\n",
            "350[x]  no correction: 0.012398584135077738, correction:0.0021564566854631716\n",
            "350[y]  no correction: 0.004946848197293733, correction:0.0010832172354566403\n",
            "350[z]  no correction: 0.001708042151834428, correction:0.00038871387208871554\n",
            "350[Vx]  no correction: 0.0016539053824405545, correction:0.0011839088442569233\n",
            "350[Vy]  no correction: 0.0039920429677067285, correction:0.002692660959427065\n"
          ],
          "name": "stdout"
        },
        {
          "output_type": "stream",
          "text": [
            "\r 58%|█████▊    | 351/600 [3:45:40<2:18:47, 33.44s/it]"
          ],
          "name": "stderr"
        },
        {
          "output_type": "stream",
          "text": [
            "350[Vz]  no correction: 0.0033424435337576124, correction:0.0017840697061150773\n",
            "351[x]  no correction: 0.004122346983781663, correction:0.0011832191074929025\n",
            "351[y]  no correction: 0.004902867723758293, correction:0.001348694676781048\n",
            "351[z]  no correction: 0.006107525223694866, correction:0.0014963022445905478\n",
            "351[Vx]  no correction: 0.005225931304277872, correction:0.00568102049077209\n",
            "351 Vx does not work\n",
            "351[Vy]  no correction: 0.0029287220126377493, correction:0.0012819750193171695\n"
          ],
          "name": "stdout"
        },
        {
          "output_type": "stream",
          "text": [
            "\r 59%|█████▊    | 352/600 [3:46:00<2:01:13, 29.33s/it]"
          ],
          "name": "stderr"
        },
        {
          "output_type": "stream",
          "text": [
            "351[Vz]  no correction: 0.004194980614710239, correction:0.0013558433760788322\n"
          ],
          "name": "stdout"
        },
        {
          "output_type": "stream",
          "text": [
            "WARNING:fbprophet:Optimization terminated abnormally. Falling back to Newton.\n"
          ],
          "name": "stderr"
        },
        {
          "output_type": "stream",
          "text": [
            "352[x]  no correction: 0.1457165092508137, correction:0.022330287998339225\n"
          ],
          "name": "stdout"
        },
        {
          "output_type": "stream",
          "text": [
            "WARNING:fbprophet:Optimization terminated abnormally. Falling back to Newton.\n"
          ],
          "name": "stderr"
        },
        {
          "output_type": "stream",
          "text": [
            "352[y]  no correction: 0.07074298348041497, correction:0.05254640172370492\n",
            "352[z]  no correction: 0.16662234161008227, correction:0.1530756197959002\n"
          ],
          "name": "stdout"
        },
        {
          "output_type": "stream",
          "text": [
            "WARNING:fbprophet:Optimization terminated abnormally. Falling back to Newton.\n"
          ],
          "name": "stderr"
        },
        {
          "output_type": "stream",
          "text": [
            "352[Vx]  no correction: 0.13570962054373922, correction:0.09066871494432469\n"
          ],
          "name": "stdout"
        },
        {
          "output_type": "stream",
          "text": [
            "WARNING:fbprophet:Optimization terminated abnormally. Falling back to Newton.\n"
          ],
          "name": "stderr"
        },
        {
          "output_type": "stream",
          "text": [
            "352[Vy]  no correction: 0.0734562265927587, correction:0.06890117101536644\n"
          ],
          "name": "stdout"
        },
        {
          "output_type": "stream",
          "text": [
            "\r 59%|█████▉    | 353/600 [3:46:27<1:57:58, 28.66s/it]"
          ],
          "name": "stderr"
        },
        {
          "output_type": "stream",
          "text": [
            "352[Vz]  no correction: 0.17106380586180903, correction:0.33704848886413463\n",
            "352 Vz does not work\n",
            "353[x]  no correction: 0.2697485007845024, correction:0.23576067328507616\n",
            "353[y]  no correction: 0.31375943461988187, correction:0.19557439371818713\n",
            "353[z]  no correction: 0.3485421875966155, correction:0.11711061897356835\n",
            "353[Vx]  no correction: 0.25876820206882484, correction:0.2803595093441326\n",
            "353 Vx does not work\n",
            "353[Vy]  no correction: 0.30981502561637214, correction:0.3057824660055322\n"
          ],
          "name": "stdout"
        },
        {
          "output_type": "stream",
          "text": [
            "\r 59%|█████▉    | 354/600 [3:46:45<1:44:13, 25.42s/it]"
          ],
          "name": "stderr"
        },
        {
          "output_type": "stream",
          "text": [
            "353[Vz]  no correction: 0.3341663173543765, correction:0.25755374993075747\n",
            "354[x]  no correction: 0.05148644871436305, correction:0.4844123047082631\n",
            "354 x does not work\n",
            "354[y]  no correction: 0.05186610095369828, correction:0.2698496093246744\n",
            "354 y does not work\n",
            "354[z]  no correction: 0.04355279965325426, correction:0.25230932058352906\n",
            "354 z does not work\n",
            "354[Vx]  no correction: 0.05037641498438459, correction:0.7666099058294605\n",
            "354 Vx does not work\n",
            "354[Vy]  no correction: 0.0797879788551602, correction:0.7212521565584749\n",
            "354 Vy does not work\n"
          ],
          "name": "stdout"
        },
        {
          "output_type": "stream",
          "text": [
            "\r 59%|█████▉    | 355/600 [3:49:45<4:52:38, 71.67s/it]"
          ],
          "name": "stderr"
        },
        {
          "output_type": "stream",
          "text": [
            "354[Vz]  no correction: 0.610002132093768, correction:0.9731531108694693\n",
            "354 Vz does not work\n",
            "355[x]  no correction: 0.12434239582475758, correction:0.1826637330554859\n",
            "355 x does not work\n",
            "355[y]  no correction: 0.11974848950143914, correction:0.17480777734938283\n",
            "355 y does not work\n",
            "355[z]  no correction: 0.12443325721591937, correction:0.17959146817113497\n",
            "355 z does not work\n",
            "355[Vx]  no correction: 0.1464952222954489, correction:0.19506936240335676\n",
            "355 Vx does not work\n",
            "355[Vy]  no correction: 0.11906345416360842, correction:0.17821804972930852\n",
            "355 Vy does not work\n"
          ],
          "name": "stdout"
        },
        {
          "output_type": "stream",
          "text": [
            "\r 59%|█████▉    | 356/600 [3:50:16<4:02:07, 59.54s/it]"
          ],
          "name": "stderr"
        },
        {
          "output_type": "stream",
          "text": [
            "355[Vz]  no correction: 0.10681928324162478, correction:0.17095022410757557\n",
            "355 Vz does not work\n",
            "356[x]  no correction: 0.23693396203533096, correction:0.005446382902096669\n",
            "356[y]  no correction: 0.13936881049355768, correction:0.002209101708910483\n",
            "356[z]  no correction: 0.17765975665327172, correction:0.017049895588500345\n",
            "356[Vx]  no correction: 0.22234442881183455, correction:0.0018733883921503945\n",
            "356[Vy]  no correction: 0.13188642582572266, correction:0.0011568787357531642\n"
          ],
          "name": "stdout"
        },
        {
          "output_type": "stream",
          "text": [
            "\r 60%|█████▉    | 357/600 [3:50:59<3:41:03, 54.58s/it]"
          ],
          "name": "stderr"
        },
        {
          "output_type": "stream",
          "text": [
            "356[Vz]  no correction: 0.13351767885263574, correction:0.0014166355303056643\n",
            "357[x]  no correction: 0.014483725508550056, correction:0.008376289498026608\n",
            "357[y]  no correction: 0.00879273391491147, correction:0.002696241384384304\n",
            "357[z]  no correction: 0.021289055807946593, correction:0.00389016090915715\n",
            "357[Vx]  no correction: 0.005322149999028991, correction:0.003341584467895355\n",
            "357[Vy]  no correction: 0.01735683026180997, correction:0.013838455821852775\n"
          ],
          "name": "stdout"
        },
        {
          "output_type": "stream",
          "text": [
            "\r 60%|█████▉    | 358/600 [3:51:19<2:58:16, 44.20s/it]"
          ],
          "name": "stderr"
        },
        {
          "output_type": "stream",
          "text": [
            "357[Vz]  no correction: 0.027366858318735095, correction:0.006143569158554482\n",
            "358[x]  no correction: 0.001809299025126415, correction:0.0015822116335488644\n",
            "358[y]  no correction: 0.005928697684358542, correction:0.005993040521145908\n",
            "358 y does not work\n",
            "358[z]  no correction: 0.00645208916267366, correction:0.00407973905749919\n",
            "358[Vx]  no correction: 0.0019624436301730556, correction:0.0017798534247542542\n",
            "358[Vy]  no correction: 0.005846481645245465, correction:0.006051598990806892\n",
            "358 Vy does not work\n"
          ],
          "name": "stdout"
        },
        {
          "output_type": "stream",
          "text": [
            "\r 60%|█████▉    | 359/600 [3:51:47<2:38:37, 39.49s/it]"
          ],
          "name": "stderr"
        },
        {
          "output_type": "stream",
          "text": [
            "358[Vz]  no correction: 0.005192127421237834, correction:0.002872505138542766\n",
            "359[x]  no correction: 0.006351646894450188, correction:0.004673036025381828\n",
            "359[y]  no correction: 0.04196733405689239, correction:0.01612453820042802\n",
            "359[z]  no correction: 0.004243922362940135, correction:0.008896479239384808\n",
            "359 z does not work\n",
            "359[Vx]  no correction: 0.00846574401267442, correction:0.008845243569827951\n",
            "359 Vx does not work\n",
            "359[Vy]  no correction: 0.009242404426944208, correction:0.0046904263473888696\n"
          ],
          "name": "stdout"
        },
        {
          "output_type": "stream",
          "text": [
            "\r 60%|██████    | 360/600 [3:52:05<2:11:29, 32.87s/it]"
          ],
          "name": "stderr"
        },
        {
          "output_type": "stream",
          "text": [
            "359[Vz]  no correction: 0.006535653141250903, correction:0.005492162501397754\n",
            "360[x]  no correction: 0.0013120188011638675, correction:0.00027230121168107574\n",
            "360[y]  no correction: 0.014267273842625596, correction:0.0011359881579779641\n",
            "360[z]  no correction: 0.004247975770777471, correction:0.00020205939257870206\n",
            "360[Vx]  no correction: 0.003229723109447945, correction:0.000398038957561754\n",
            "360[Vy]  no correction: 0.01949704469842731, correction:0.00031135199612085114\n"
          ],
          "name": "stdout"
        },
        {
          "output_type": "stream",
          "text": [
            "\r 60%|██████    | 361/600 [3:53:15<2:55:46, 44.13s/it]"
          ],
          "name": "stderr"
        },
        {
          "output_type": "stream",
          "text": [
            "360[Vz]  no correction: 0.0014717960913619434, correction:0.00034746504439718377\n",
            "361[x]  no correction: 0.13242734866451572, correction:0.09110868383829746\n",
            "361[y]  no correction: 0.08029032394695129, correction:0.07987924232192749\n",
            "361[z]  no correction: 0.11693387807998783, correction:0.08812957753407955\n",
            "361[Vx]  no correction: 0.14335679709458654, correction:0.12053851031670337\n",
            "361[Vy]  no correction: 0.08978729680114242, correction:0.08265525011802997\n"
          ],
          "name": "stdout"
        },
        {
          "output_type": "stream",
          "text": [
            "\r 60%|██████    | 362/600 [3:53:37<2:29:00, 37.57s/it]"
          ],
          "name": "stderr"
        },
        {
          "output_type": "stream",
          "text": [
            "361[Vz]  no correction: 0.08311316260630647, correction:0.07329516344201657\n",
            "362[x]  no correction: 0.34807428781155747, correction:0.20647088279835232\n",
            "362[y]  no correction: 0.2849213267796064, correction:0.1800887523813068\n",
            "362[z]  no correction: 0.5267249545118792, correction:0.1534103073354697\n",
            "362[Vx]  no correction: 0.3452981732968172, correction:0.24334872618891287\n",
            "362[Vy]  no correction: 0.24606872613820638, correction:0.1977806562348\n"
          ],
          "name": "stdout"
        },
        {
          "output_type": "stream",
          "text": [
            "\r 60%|██████    | 363/600 [3:53:55<2:04:41, 31.57s/it]"
          ],
          "name": "stderr"
        },
        {
          "output_type": "stream",
          "text": [
            "362[Vz]  no correction: 0.40933108509067984, correction:0.29450849789789163\n",
            "363[x]  no correction: 0.0370082291749858, correction:0.01527939341963448\n",
            "363[y]  no correction: 0.006241629290346915, correction:0.004230057028646502\n",
            "363[z]  no correction: 0.032052225471419594, correction:0.03201061245551576\n",
            "363[Vx]  no correction: 0.08436871286829815, correction:0.103307103706764\n",
            "363 Vx does not work\n",
            "363[Vy]  no correction: 0.09355721153491116, correction:0.11858800588023272\n",
            "363 Vy does not work\n"
          ],
          "name": "stdout"
        },
        {
          "output_type": "stream",
          "text": [
            "\r 61%|██████    | 364/600 [3:54:13<1:48:28, 27.58s/it]"
          ],
          "name": "stderr"
        },
        {
          "output_type": "stream",
          "text": [
            "363[Vz]  no correction: 0.04205105986304613, correction:0.05687707407444706\n",
            "363 Vz does not work\n",
            "364[x]  no correction: 0.0032741632417124886, correction:4.3943206885455533e-05\n",
            "364[y]  no correction: 0.0026175371372284986, correction:8.547950413278828e-05\n",
            "364[z]  no correction: 0.002309153582090135, correction:8.171882790908645e-05\n",
            "364[Vx]  no correction: 0.042679546561737655, correction:0.0007333222709075759\n",
            "364[Vy]  no correction: 0.0019202484942662205, correction:5.678028044384344e-05\n"
          ],
          "name": "stdout"
        },
        {
          "output_type": "stream",
          "text": [
            "\r 61%|██████    | 365/600 [3:56:35<4:02:08, 61.82s/it]"
          ],
          "name": "stderr"
        },
        {
          "output_type": "stream",
          "text": [
            "364[Vz]  no correction: 0.007246300907167399, correction:5.539871630243471e-05\n",
            "365[x]  no correction: 0.04052654051761468, correction:0.12277142186134589\n",
            "365 x does not work\n",
            "365[y]  no correction: 0.05729514999754064, correction:0.04851382315079182\n",
            "365[z]  no correction: 0.03878306055921943, correction:0.0357654637223651\n"
          ],
          "name": "stdout"
        },
        {
          "output_type": "stream",
          "text": [
            "WARNING:fbprophet:Optimization terminated abnormally. Falling back to Newton.\n"
          ],
          "name": "stderr"
        },
        {
          "output_type": "stream",
          "text": [
            "365[Vx]  no correction: 0.020253104096731492, correction:0.06591731884911539\n",
            "365 Vx does not work\n"
          ],
          "name": "stdout"
        },
        {
          "output_type": "stream",
          "text": [
            "WARNING:fbprophet:Optimization terminated abnormally. Falling back to Newton.\n"
          ],
          "name": "stderr"
        },
        {
          "output_type": "stream",
          "text": [
            "365[Vy]  no correction: 0.025248429408602294, correction:0.6380328043940502\n",
            "365 Vy does not work\n"
          ],
          "name": "stdout"
        },
        {
          "output_type": "stream",
          "text": [
            "\r 61%|██████    | 366/600 [3:58:11<4:41:12, 72.10s/it]"
          ],
          "name": "stderr"
        },
        {
          "output_type": "stream",
          "text": [
            "365[Vz]  no correction: 0.8552483116300951, correction:0.8749597189551463\n",
            "365 Vz does not work\n",
            "366[x]  no correction: 0.02142345333772847, correction:0.00027669811546773436\n",
            "366[y]  no correction: 0.01029241121122989, correction:0.00010798629474564202\n",
            "366[z]  no correction: 0.05311230398932273, correction:0.006473448629051955\n",
            "366[Vx]  no correction: 0.05039362217222493, correction:0.0014002866333263345\n",
            "366[Vy]  no correction: 0.00888047137974711, correction:0.0002595841679182559\n"
          ],
          "name": "stdout"
        },
        {
          "output_type": "stream",
          "text": [
            "\r 61%|██████    | 367/600 [3:59:12<4:27:08, 68.79s/it]"
          ],
          "name": "stderr"
        },
        {
          "output_type": "stream",
          "text": [
            "366[Vz]  no correction: 0.026578287421075254, correction:0.0005199822121154678\n",
            "367[x]  no correction: 0.019519301250543006, correction:0.02481967063622724\n",
            "367 x does not work\n",
            "367[y]  no correction: 0.01664644274257707, correction:0.006038375352516225\n",
            "367[z]  no correction: 0.021022621666373382, correction:0.008007110305019606\n",
            "367[Vx]  no correction: 0.023413445967628753, correction:0.01595265427096251\n",
            "367[Vy]  no correction: 0.0160439051673761, correction:0.07150095173138178\n",
            "367 Vy does not work\n"
          ],
          "name": "stdout"
        },
        {
          "output_type": "stream",
          "text": [
            "\r 61%|██████▏   | 368/600 [3:59:31<3:27:35, 53.69s/it]"
          ],
          "name": "stderr"
        },
        {
          "output_type": "stream",
          "text": [
            "367[Vz]  no correction: 0.03254311785278135, correction:0.05455162115241316\n",
            "367 Vz does not work\n",
            "368[x]  no correction: 0.022734897116758333, correction:0.0007793819275585188\n",
            "368[y]  no correction: 0.01524682134228774, correction:0.0007984384554600056\n",
            "368[z]  no correction: 0.012738532627338817, correction:0.0005824443348765867\n",
            "368[Vx]  no correction: 0.01650930150400136, correction:0.0007082144011087435\n",
            "368[Vy]  no correction: 0.043126637462770775, correction:0.009313317321999713\n"
          ],
          "name": "stdout"
        },
        {
          "output_type": "stream",
          "text": [
            "\r 62%|██████▏   | 369/600 [3:59:55<2:52:52, 44.90s/it]"
          ],
          "name": "stderr"
        },
        {
          "output_type": "stream",
          "text": [
            "368[Vz]  no correction: 0.020237075519949757, correction:0.0014250607145805997\n",
            "369[x]  no correction: 0.0017101675534140633, correction:0.0005802292658862114\n",
            "369[y]  no correction: 0.016886623441560767, correction:0.006393912969157721\n",
            "369[z]  no correction: 0.0016763182552885798, correction:0.0006286103400976726\n",
            "369[Vx]  no correction: 0.0015177203229499454, correction:0.0003392116451077657\n",
            "369[Vy]  no correction: 0.0015449463504309472, correction:0.00046023194001327703\n"
          ],
          "name": "stdout"
        },
        {
          "output_type": "stream",
          "text": [
            "\r 62%|██████▏   | 370/600 [4:00:22<2:32:07, 39.68s/it]"
          ],
          "name": "stderr"
        },
        {
          "output_type": "stream",
          "text": [
            "369[Vz]  no correction: 0.0014036433883762537, correction:0.000614212409243495\n",
            "370[x]  no correction: 0.06107049319886332, correction:0.006081619878829382\n",
            "370[y]  no correction: 0.19624808440847016, correction:0.004132557717837498\n",
            "370[z]  no correction: 0.18021362154419457, correction:0.002341431374619791\n",
            "370[Vx]  no correction: 0.09378838928763589, correction:0.008475059405347067\n",
            "370[Vy]  no correction: 0.17966447878245892, correction:0.0026254724531442394\n"
          ],
          "name": "stdout"
        },
        {
          "output_type": "stream",
          "text": [
            "\r 62%|██████▏   | 371/600 [4:01:00<2:28:30, 38.91s/it]"
          ],
          "name": "stderr"
        },
        {
          "output_type": "stream",
          "text": [
            "370[Vz]  no correction: 0.12551754324040454, correction:0.003883477618050157\n",
            "371[x]  no correction: 0.005713554380270373, correction:0.000584688574235813\n",
            "371[y]  no correction: 0.00755636715577317, correction:0.0005621092593746587\n",
            "371[z]  no correction: 0.00672221893745723, correction:0.002449214795175991\n",
            "371[Vx]  no correction: 0.002578352946024878, correction:0.0002314185078819848\n",
            "371[Vy]  no correction: 0.005371703075696796, correction:0.0006083420967387137\n"
          ],
          "name": "stdout"
        },
        {
          "output_type": "stream",
          "text": [
            "\r 62%|██████▏   | 372/600 [4:01:18<2:04:37, 32.80s/it]"
          ],
          "name": "stderr"
        },
        {
          "output_type": "stream",
          "text": [
            "371[Vz]  no correction: 0.0036158142991553595, correction:0.0005444344473374399\n",
            "372[x]  no correction: 0.494489496701672, correction:0.44508179830009303\n",
            "372[y]  no correction: 0.5135845812250235, correction:0.4458342353033003\n",
            "372[z]  no correction: 0.4981572530797095, correction:0.428950526947385\n",
            "372[Vx]  no correction: 0.5406838861370483, correction:0.4921627674215147\n",
            "372[Vy]  no correction: 0.4965889014381215, correction:0.43154153245537913\n"
          ],
          "name": "stdout"
        },
        {
          "output_type": "stream",
          "text": [
            "\r 62%|██████▏   | 373/600 [4:02:00<2:14:04, 35.44s/it]"
          ],
          "name": "stderr"
        },
        {
          "output_type": "stream",
          "text": [
            "372[Vz]  no correction: 0.5371824683852516, correction:0.4521435162555966\n",
            "373[x]  no correction: 0.04149917644028004, correction:0.013429204693149198\n",
            "373[y]  no correction: 0.010403990338333152, correction:0.004694057264600211\n",
            "373[z]  no correction: 0.12699180063703602, correction:0.08937976385101759\n",
            "373[Vx]  no correction: 0.03428472341332221, correction:0.021480832860173903\n",
            "373[Vy]  no correction: 0.013742542961563697, correction:0.012129805423712395\n"
          ],
          "name": "stdout"
        },
        {
          "output_type": "stream",
          "text": [
            "\r 62%|██████▏   | 374/600 [4:02:24<2:00:40, 32.04s/it]"
          ],
          "name": "stderr"
        },
        {
          "output_type": "stream",
          "text": [
            "373[Vz]  no correction: 0.09137976203621825, correction:0.0807008379379334\n",
            "374[x]  no correction: 0.0013624247471551911, correction:0.00011181627797452561\n",
            "374[y]  no correction: 0.002348968231662146, correction:0.00042073557320633135\n",
            "374[z]  no correction: 0.0007892562857952655, correction:8.660714478195312e-05\n",
            "374[Vx]  no correction: 0.001707100034784536, correction:9.902445234355316e-05\n",
            "374[Vy]  no correction: 0.0054508664281401565, correction:0.00013074634880845537\n"
          ],
          "name": "stdout"
        },
        {
          "output_type": "stream",
          "text": [
            "\r 62%|██████▎   | 375/600 [4:03:00<2:04:27, 33.19s/it]"
          ],
          "name": "stderr"
        },
        {
          "output_type": "stream",
          "text": [
            "374[Vz]  no correction: 0.0006624130719968526, correction:0.00010885455152229894\n",
            "375[x]  no correction: 0.007937887080764029, correction:0.0022373626027370756\n",
            "375[y]  no correction: 0.04286595011875771, correction:0.004076333761534614\n",
            "375[z]  no correction: 0.012766195012515877, correction:0.003234388782980783\n",
            "375[Vx]  no correction: 0.006461248635765508, correction:0.0018197450770542428\n",
            "375[Vy]  no correction: 0.0046350028925791, correction:0.0013930152863979087\n"
          ],
          "name": "stdout"
        },
        {
          "output_type": "stream",
          "text": [
            "\r 63%|██████▎   | 376/600 [4:03:18<1:46:51, 28.62s/it]"
          ],
          "name": "stderr"
        },
        {
          "output_type": "stream",
          "text": [
            "375[Vz]  no correction: 0.007858986462357788, correction:0.004099853269029123\n",
            "376[x]  no correction: 0.09634817465611871, correction:0.06698504858150886\n",
            "376[y]  no correction: 0.09637909476905068, correction:0.08428269946914953\n",
            "376[z]  no correction: 0.17338888679234005, correction:0.055254667405808304\n",
            "376[Vx]  no correction: 0.11802439310488029, correction:0.08243574296329813\n",
            "376[Vy]  no correction: 0.09591623785215979, correction:0.07860756222157188\n"
          ],
          "name": "stdout"
        },
        {
          "output_type": "stream",
          "text": [
            "\r 63%|██████▎   | 377/600 [4:03:39<1:37:51, 26.33s/it]"
          ],
          "name": "stderr"
        },
        {
          "output_type": "stream",
          "text": [
            "376[Vz]  no correction: 0.17943459669403114, correction:0.13430872733169724\n",
            "377[x]  no correction: 0.13189696655424038, correction:0.0017510876825145942\n",
            "377[y]  no correction: 0.06993632576843517, correction:0.0012564855532625643\n",
            "377[z]  no correction: 0.12787387178692042, correction:0.00908762878731521\n",
            "377[Vx]  no correction: 0.12434355304644998, correction:0.0021384094855194866\n",
            "377[Vy]  no correction: 0.06967260168967498, correction:0.0011005166196481693\n"
          ],
          "name": "stdout"
        },
        {
          "output_type": "stream",
          "text": [
            "\r 63%|██████▎   | 378/600 [4:04:15<1:48:12, 29.25s/it]"
          ],
          "name": "stderr"
        },
        {
          "output_type": "stream",
          "text": [
            "377[Vz]  no correction: 0.1048964495309487, correction:0.00927865493709111\n",
            "378[x]  no correction: 0.004520965056224952, correction:0.0002968577281928556\n",
            "378[y]  no correction: 0.010111212290976506, correction:0.0010818674216705206\n",
            "378[z]  no correction: 0.005626316222393867, correction:0.000626436338571454\n",
            "378[Vx]  no correction: 0.030492076049690998, correction:0.012001294177337599\n",
            "378[Vy]  no correction: 0.00414986055677556, correction:0.0015554512462450222\n"
          ],
          "name": "stdout"
        },
        {
          "output_type": "stream",
          "text": [
            "\r 63%|██████▎   | 379/600 [4:04:35<1:37:53, 26.58s/it]"
          ],
          "name": "stderr"
        },
        {
          "output_type": "stream",
          "text": [
            "378[Vz]  no correction: 0.005940874800483708, correction:0.0005538734519909385\n",
            "379[x]  no correction: 0.05002049907395669, correction:0.005473933661739161\n",
            "379[y]  no correction: 0.015239139693789112, correction:0.008101106797103609\n",
            "379[z]  no correction: 0.07153387766983424, correction:0.013484808649380134\n",
            "379[Vx]  no correction: 0.04788864452265681, correction:0.03039607191730716\n",
            "379[Vy]  no correction: 0.028443787958477233, correction:0.012637651040657522\n"
          ],
          "name": "stdout"
        },
        {
          "output_type": "stream",
          "text": [
            "\r 63%|██████▎   | 380/600 [4:05:12<1:48:35, 29.62s/it]"
          ],
          "name": "stderr"
        },
        {
          "output_type": "stream",
          "text": [
            "379[Vz]  no correction: 0.04395349013473399, correction:0.02377579801855435\n",
            "380[x]  no correction: 0.0883496043068182, correction:0.06880102825677793\n",
            "380[y]  no correction: 0.06909062374104984, correction:0.05515710983011437\n",
            "380[z]  no correction: 0.17280307421995597, correction:0.02923756297719587\n",
            "380[Vx]  no correction: 0.0977119716117346, correction:0.07839165199814137\n",
            "380[Vy]  no correction: 0.09722852786115084, correction:0.07981079657704834\n"
          ],
          "name": "stdout"
        },
        {
          "output_type": "stream",
          "text": [
            "\r 64%|██████▎   | 381/600 [4:05:31<1:36:49, 26.53s/it]"
          ],
          "name": "stderr"
        },
        {
          "output_type": "stream",
          "text": [
            "380[Vz]  no correction: 0.1504400143615894, correction:0.11401420382257743\n",
            "381[x]  no correction: 0.0011887848426670755, correction:0.0004340716413125499\n",
            "381[y]  no correction: 0.0033321713681778243, correction:0.0007682289663470768\n",
            "381[z]  no correction: 0.001294561567861908, correction:9.046947413840615e-05\n",
            "381[Vx]  no correction: 0.0009905909162164618, correction:0.0001096985634510245\n",
            "381[Vy]  no correction: 0.0009440751610238038, correction:0.00015088304764721353\n"
          ],
          "name": "stdout"
        },
        {
          "output_type": "stream",
          "text": [
            "\r 64%|██████▎   | 382/600 [4:05:52<1:30:34, 24.93s/it]"
          ],
          "name": "stderr"
        },
        {
          "output_type": "stream",
          "text": [
            "381[Vz]  no correction: 0.002612422019289534, correction:0.00014919487868160773\n",
            "382[x]  no correction: 0.0016000518668762864, correction:0.00034396752895135394\n",
            "382[y]  no correction: 0.0009311155931273969, correction:0.0002907999884472211\n",
            "382[z]  no correction: 0.003228900919581076, correction:0.0005301157706721053\n",
            "382[Vx]  no correction: 0.0009318930998584359, correction:0.00013055731167521694\n",
            "382[Vy]  no correction: 0.0008375542927195613, correction:0.00013507990729978944\n"
          ],
          "name": "stdout"
        },
        {
          "output_type": "stream",
          "text": [
            "\r 64%|██████▍   | 383/600 [4:06:25<1:38:42, 27.29s/it]"
          ],
          "name": "stderr"
        },
        {
          "output_type": "stream",
          "text": [
            "382[Vz]  no correction: 0.001513153542867043, correction:0.00033470235444362585\n",
            "383[x]  no correction: 0.002802106885301647, correction:0.0008881269876752397\n",
            "383[y]  no correction: 0.0013159762443861564, correction:0.0003923980309257128\n",
            "383[z]  no correction: 0.006669913054386458, correction:0.003552298499305839\n",
            "383[Vx]  no correction: 0.006801936310279198, correction:0.0029186567980304737\n",
            "383[Vy]  no correction: 0.0004421743568240443, correction:0.0001633197267367504\n"
          ],
          "name": "stdout"
        },
        {
          "output_type": "stream",
          "text": [
            "\r 64%|██████▍   | 384/600 [4:07:14<2:01:11, 33.67s/it]"
          ],
          "name": "stderr"
        },
        {
          "output_type": "stream",
          "text": [
            "383[Vz]  no correction: 0.0073445431695209045, correction:0.00461154551136123\n",
            "384[x]  no correction: 0.0978909166604496, correction:0.018628897705927433\n",
            "384[y]  no correction: 0.0293721079875703, correction:0.010062394383561261\n",
            "384[z]  no correction: 0.10002531448350144, correction:0.008490727033426695\n",
            "384[Vx]  no correction: 0.0784238987841963, correction:0.028996861311596595\n",
            "384[Vy]  no correction: 0.0385392429522306, correction:0.015392075240943751\n"
          ],
          "name": "stdout"
        },
        {
          "output_type": "stream",
          "text": [
            "\r 64%|██████▍   | 385/600 [4:07:37<1:50:10, 30.75s/it]"
          ],
          "name": "stderr"
        },
        {
          "output_type": "stream",
          "text": [
            "384[Vz]  no correction: 0.12435116067414953, correction:0.06645629835856834\n",
            "385[x]  no correction: 0.0016744613188805605, correction:0.0002465043985757764\n",
            "385[y]  no correction: 0.003154055778413686, correction:0.0006115022555505786\n",
            "385[z]  no correction: 0.010129795550527397, correction:0.0012176770166840245\n",
            "385[Vx]  no correction: 0.002056948219740947, correction:0.001458996433473513\n",
            "385[Vy]  no correction: 0.0013337606877485229, correction:0.0003922913032777771\n"
          ],
          "name": "stdout"
        },
        {
          "output_type": "stream",
          "text": [
            "\r 64%|██████▍   | 386/600 [4:08:33<2:16:19, 38.22s/it]"
          ],
          "name": "stderr"
        },
        {
          "output_type": "stream",
          "text": [
            "385[Vz]  no correction: 0.005454880513534469, correction:0.0006182907687486412\n",
            "386[x]  no correction: 0.020207165206115246, correction:0.004039958817447858\n",
            "386[y]  no correction: 0.003652311869318211, correction:0.0040228408303742405\n",
            "386 y does not work\n",
            "386[z]  no correction: 0.01367726529490182, correction:0.006188947005070022\n",
            "386[Vx]  no correction: 0.013430437399547225, correction:0.011758817736499665\n",
            "386[Vy]  no correction: 0.010906036012694024, correction:0.007406709442104179\n"
          ],
          "name": "stdout"
        },
        {
          "output_type": "stream",
          "text": [
            "\r 64%|██████▍   | 387/600 [4:09:01<2:05:05, 35.24s/it]"
          ],
          "name": "stderr"
        },
        {
          "output_type": "stream",
          "text": [
            "386[Vz]  no correction: 0.005255774898864546, correction:0.007328085014064477\n",
            "386 Vz does not work\n",
            "387[x]  no correction: 0.0026638191047635125, correction:0.0006674201005736873\n",
            "387[y]  no correction: 0.0022622695524283096, correction:0.0004044493546389252\n",
            "387[z]  no correction: 0.006106883498403363, correction:0.002161724714900481\n",
            "387[Vx]  no correction: 0.005591989916666057, correction:0.0030982883136620493\n",
            "387[Vy]  no correction: 0.0030549102586676933, correction:0.0006246823116135661\n"
          ],
          "name": "stdout"
        },
        {
          "output_type": "stream",
          "text": [
            "\r 65%|██████▍   | 388/600 [4:09:52<2:20:53, 39.88s/it]"
          ],
          "name": "stderr"
        },
        {
          "output_type": "stream",
          "text": [
            "387[Vz]  no correction: 0.004019068963467388, correction:0.0008225814607886467\n",
            "388[x]  no correction: 0.010807213599181974, correction:0.0009268267369569335\n",
            "388[y]  no correction: 0.006344471485049544, correction:0.0014785473738620463\n",
            "388[z]  no correction: 0.0104622736345835, correction:0.0016759684344817252\n",
            "388[Vx]  no correction: 0.013562133423830343, correction:0.0020227120215991633\n",
            "388[Vy]  no correction: 0.004571230021077353, correction:0.000936357688874526\n"
          ],
          "name": "stdout"
        },
        {
          "output_type": "stream",
          "text": [
            "\r 65%|██████▍   | 389/600 [4:10:22<2:09:37, 36.86s/it]"
          ],
          "name": "stderr"
        },
        {
          "output_type": "stream",
          "text": [
            "388[Vz]  no correction: 0.006596583879863395, correction:0.0005951973214813581\n",
            "389[x]  no correction: 0.021477752842701345, correction:0.007269204479828914\n",
            "389[y]  no correction: 0.0199354439009835, correction:0.0019929350470447153\n",
            "389[z]  no correction: 0.014174103640148105, correction:0.0010379064133131616\n",
            "389[Vx]  no correction: 0.016170900102483333, correction:0.004034895170632632\n",
            "389[Vy]  no correction: 0.043553798692660906, correction:0.003527046091268473\n"
          ],
          "name": "stdout"
        },
        {
          "output_type": "stream",
          "text": [
            "\r 65%|██████▌   | 390/600 [4:10:48<1:57:56, 33.70s/it]"
          ],
          "name": "stderr"
        },
        {
          "output_type": "stream",
          "text": [
            "389[Vz]  no correction: 0.010511968898599327, correction:0.0016570228558366042\n",
            "390[x]  no correction: 0.16241518717910816, correction:0.08270747926172344\n",
            "390[y]  no correction: 0.12657404279960313, correction:0.07610130746810503\n",
            "390[z]  no correction: 0.24871639332449957, correction:0.035565295979386395\n",
            "390[Vx]  no correction: 0.1438802401165131, correction:0.09494126026814385\n",
            "390[Vy]  no correction: 0.12982899027638847, correction:0.08117483573256394\n"
          ],
          "name": "stdout"
        },
        {
          "output_type": "stream",
          "text": [
            "\r 65%|██████▌   | 391/600 [4:11:15<1:49:42, 31.50s/it]"
          ],
          "name": "stderr"
        },
        {
          "output_type": "stream",
          "text": [
            "390[Vz]  no correction: 0.22516525354362785, correction:0.1399141108063052\n",
            "391[x]  no correction: 0.2582625755103432, correction:0.4033988072205879\n",
            "391 x does not work\n",
            "391[y]  no correction: 0.08345626437105674, correction:0.0688068663399248\n",
            "391[z]  no correction: 0.4372280989231756, correction:0.15209240936054041\n",
            "391[Vx]  no correction: 0.3536162158193519, correction:0.64613049481047\n",
            "391 Vx does not work\n",
            "391[Vy]  no correction: 0.1628613909322181, correction:0.15085037940827495\n"
          ],
          "name": "stdout"
        },
        {
          "output_type": "stream",
          "text": [
            "\r 65%|██████▌   | 392/600 [4:20:41<11:05:58, 192.11s/it]"
          ],
          "name": "stderr"
        },
        {
          "output_type": "stream",
          "text": [
            "391[Vz]  no correction: 0.42378350392568886, correction:0.4523383054455152\n",
            "391 Vz does not work\n",
            "392[x]  no correction: 0.005139855407143262, correction:0.00013208700111736363\n",
            "392[y]  no correction: 0.013139667956085432, correction:0.0009806766495551156\n",
            "392[z]  no correction: 0.00616377444826346, correction:0.0011871622707921325\n",
            "392[Vx]  no correction: 0.022242366332647194, correction:0.001142594180377469\n",
            "392[Vy]  no correction: 0.005049555653310948, correction:0.00026502632879524225\n"
          ],
          "name": "stdout"
        },
        {
          "output_type": "stream",
          "text": [
            "\r 66%|██████▌   | 393/600 [4:21:54<8:59:06, 156.26s/it] "
          ],
          "name": "stderr"
        },
        {
          "output_type": "stream",
          "text": [
            "392[Vz]  no correction: 0.002679374924605967, correction:0.0005407179020370499\n",
            "393[x]  no correction: 0.004614832776867307, correction:0.0004178496871344711\n",
            "393[y]  no correction: 0.00310849053523889, correction:0.0006820070421262231\n",
            "393[z]  no correction: 0.004047339749919617, correction:0.00038373368838808756\n",
            "393[Vx]  no correction: 0.0030073278173475436, correction:0.0002798680496384841\n",
            "393[Vy]  no correction: 0.0015716772481045237, correction:0.0003761751568122499\n"
          ],
          "name": "stdout"
        },
        {
          "output_type": "stream",
          "text": [
            "\r 66%|██████▌   | 394/600 [4:22:33<6:55:43, 121.09s/it]"
          ],
          "name": "stderr"
        },
        {
          "output_type": "stream",
          "text": [
            "393[Vz]  no correction: 0.001433054999767693, correction:0.0003209715173758336\n",
            "394[x]  no correction: 0.015807943012879997, correction:0.004072314614277053\n",
            "394[y]  no correction: 0.004527928607863374, correction:0.0024062348960265287\n",
            "394[z]  no correction: 0.00998848376912036, correction:0.009541257938981269\n",
            "394[Vx]  no correction: 0.013478708386989096, correction:0.014531489796091318\n",
            "394 Vx does not work\n",
            "394[Vy]  no correction: 0.003929869918707546, correction:0.003666423059627768\n"
          ],
          "name": "stdout"
        },
        {
          "output_type": "stream",
          "text": [
            "\r 66%|██████▌   | 395/600 [4:22:55<5:12:19, 91.41s/it] "
          ],
          "name": "stderr"
        },
        {
          "output_type": "stream",
          "text": [
            "394[Vz]  no correction: 0.043084082867653604, correction:0.03239702499290503\n",
            "395[x]  no correction: 0.043700109087800115, correction:0.029639152954999505\n",
            "395[y]  no correction: 0.007253422710220443, correction:0.0027426607593679956\n",
            "395[z]  no correction: 0.0018477287101496562, correction:0.0020304442674443776\n",
            "395 z does not work\n",
            "395[Vx]  no correction: 0.00528931946977123, correction:0.002414787569230333\n",
            "395[Vy]  no correction: 0.003497714163986194, correction:0.00361343287379753\n",
            "395 Vy does not work\n"
          ],
          "name": "stdout"
        },
        {
          "output_type": "stream",
          "text": [
            "\r 66%|██████▌   | 396/600 [4:23:14<3:56:57, 69.69s/it]"
          ],
          "name": "stderr"
        },
        {
          "output_type": "stream",
          "text": [
            "395[Vz]  no correction: 0.008545880176141593, correction:0.0026917199844857524\n",
            "396[x]  no correction: 0.32700739401248613, correction:0.11811437263732881\n",
            "396[y]  no correction: 0.25571889312186036, correction:0.16778006998903414\n",
            "396[z]  no correction: 0.3655407159835195, correction:0.2970095786307533\n",
            "396[Vx]  no correction: 0.3173850851825565, correction:0.23321704839513785\n",
            "396[Vy]  no correction: 0.23673755473315322, correction:0.1755511765503729\n"
          ],
          "name": "stdout"
        },
        {
          "output_type": "stream",
          "text": [
            "\r 66%|██████▌   | 397/600 [4:23:34<3:04:33, 54.55s/it]"
          ],
          "name": "stderr"
        },
        {
          "output_type": "stream",
          "text": [
            "396[Vz]  no correction: 0.3761111876140755, correction:0.27801134763064805\n",
            "397[x]  no correction: 0.38395432621968933, correction:0.052204458635468104\n",
            "397[y]  no correction: 0.2154498112274227, correction:0.13437290856112039\n",
            "397[z]  no correction: 0.2475922990987745, correction:0.12136531118755249\n"
          ],
          "name": "stdout"
        },
        {
          "output_type": "stream",
          "text": [
            "WARNING:fbprophet:Optimization terminated abnormally. Falling back to Newton.\n"
          ],
          "name": "stderr"
        },
        {
          "output_type": "stream",
          "text": [
            "397[Vx]  no correction: 0.2695258721185174, correction:0.17661277386244015\n"
          ],
          "name": "stdout"
        },
        {
          "output_type": "stream",
          "text": [
            "WARNING:fbprophet:Optimization terminated abnormally. Falling back to Newton.\n"
          ],
          "name": "stderr"
        },
        {
          "output_type": "stream",
          "text": [
            "397[Vy]  no correction: 0.1983370603192803, correction:0.12412804090718413\n"
          ],
          "name": "stdout"
        },
        {
          "output_type": "stream",
          "text": [
            "\r 66%|██████▋   | 398/600 [4:23:54<2:28:45, 44.18s/it]"
          ],
          "name": "stderr"
        },
        {
          "output_type": "stream",
          "text": [
            "397[Vz]  no correction: 0.17664196282126665, correction:0.11987721457167322\n",
            "398[x]  no correction: 0.16708906764216888, correction:0.10860843102570468\n",
            "398[y]  no correction: 0.12092652494569121, correction:0.07731501930894939\n",
            "398[z]  no correction: 0.1337304938898896, correction:0.11116603059848752\n",
            "398[Vx]  no correction: 0.1492708915807038, correction:0.10952266706653835\n",
            "398[Vy]  no correction: 0.13681314185197288, correction:0.10134478809533456\n"
          ],
          "name": "stdout"
        },
        {
          "output_type": "stream",
          "text": [
            "\r 66%|██████▋   | 399/600 [4:24:12<2:02:04, 36.44s/it]"
          ],
          "name": "stderr"
        },
        {
          "output_type": "stream",
          "text": [
            "398[Vz]  no correction: 0.14618029993126946, correction:0.07499371194526233\n",
            "399[x]  no correction: 0.039244833435445096, correction:0.004339519862540805\n",
            "399[y]  no correction: 0.015220507128462252, correction:0.0053839279797406265\n",
            "399[z]  no correction: 0.04972096789012018, correction:0.002748983125158722\n",
            "399[Vx]  no correction: 0.058441168528607895, correction:0.007917310642520374\n",
            "399[Vy]  no correction: 0.01891386691308897, correction:0.0062427380685455185\n"
          ],
          "name": "stdout"
        },
        {
          "output_type": "stream",
          "text": [
            "\r 67%|██████▋   | 400/600 [4:24:33<1:46:37, 31.99s/it]"
          ],
          "name": "stderr"
        },
        {
          "output_type": "stream",
          "text": [
            "399[Vz]  no correction: 0.0750875264971058, correction:0.009816284942293316\n",
            "400[x]  no correction: 0.0018121515919636787, correction:0.0006417728304721835\n",
            "400[y]  no correction: 0.0028344271902508845, correction:0.0022605502194506942\n",
            "400[z]  no correction: 0.0014485093504505156, correction:0.0011543699292041595\n",
            "400[Vx]  no correction: 0.0009471401003106085, correction:0.00023197913238057208\n",
            "400[Vy]  no correction: 0.0006715164606402644, correction:0.00030537216807648355\n"
          ],
          "name": "stdout"
        },
        {
          "output_type": "stream",
          "text": [
            "\r 67%|██████▋   | 401/600 [4:24:55<1:35:27, 28.78s/it]"
          ],
          "name": "stderr"
        },
        {
          "output_type": "stream",
          "text": [
            "400[Vz]  no correction: 0.0009580452605022924, correction:0.0003520317263621303\n",
            "401[x]  no correction: 0.024958961582039686, correction:0.0005218524342940945\n",
            "401[y]  no correction: 0.010667536315417035, correction:0.00034601946587686186\n",
            "401[z]  no correction: 0.015617932490268082, correction:0.0003651607518599683\n",
            "401[Vx]  no correction: 0.01557408169103646, correction:0.0006304165354349215\n",
            "401[Vy]  no correction: 0.01946451663816161, correction:0.0013220789297705266\n"
          ],
          "name": "stdout"
        },
        {
          "output_type": "stream",
          "text": [
            "\r 67%|██████▋   | 402/600 [4:25:34<1:45:17, 31.91s/it]"
          ],
          "name": "stderr"
        },
        {
          "output_type": "stream",
          "text": [
            "401[Vz]  no correction: 0.010898147136967089, correction:0.0005583138698741754\n",
            "402[x]  no correction: 0.04921442996119302, correction:0.3251748245842725\n",
            "402 x does not work\n",
            "402[y]  no correction: 0.08798679222676152, correction:0.23741366434278763\n",
            "402 y does not work\n",
            "402[z]  no correction: 0.03215237780380796, correction:0.49614497228686155\n",
            "402 z does not work\n",
            "402[Vx]  no correction: 0.04029729026391699, correction:0.7720530413178404\n",
            "402 Vx does not work\n",
            "402[Vy]  no correction: 0.973637158877397, correction:0.9817729058459607\n",
            "402 Vy does not work\n"
          ],
          "name": "stdout"
        },
        {
          "output_type": "stream",
          "text": [
            "\r 67%|██████▋   | 403/600 [4:29:04<4:39:43, 85.20s/it]"
          ],
          "name": "stderr"
        },
        {
          "output_type": "stream",
          "text": [
            "402[Vz]  no correction: 0.019761886971791397, correction:0.5481221912761713\n",
            "402 Vz does not work\n",
            "403[x]  no correction: 0.023856590788638648, correction:0.00034891777350957764\n",
            "403[y]  no correction: 0.03502967054189711, correction:0.0007677185193637862\n",
            "403[z]  no correction: 0.024178218363152565, correction:0.00034107839887138544\n",
            "403[Vx]  no correction: 0.04822913520770647, correction:0.0004196297628376125\n",
            "403[Vy]  no correction: 0.016619383691408706, correction:0.0004928601619277865\n"
          ],
          "name": "stdout"
        },
        {
          "output_type": "stream",
          "text": [
            "\r 67%|██████▋   | 404/600 [4:30:44<4:53:06, 89.73s/it]"
          ],
          "name": "stderr"
        },
        {
          "output_type": "stream",
          "text": [
            "403[Vz]  no correction: 0.017570978484710183, correction:0.000704852371211074\n",
            "404[x]  no correction: 0.3947969304706019, correction:0.09448094333968793\n",
            "404[y]  no correction: 0.2634557683178843, correction:0.14199864283489058\n",
            "404[z]  no correction: 0.22583102461662294, correction:0.18146833773489565\n",
            "404[Vx]  no correction: 0.34169983793984593, correction:0.24207717487024524\n",
            "404[Vy]  no correction: 0.22043168890129058, correction:0.17781495816357978\n"
          ],
          "name": "stdout"
        },
        {
          "output_type": "stream",
          "text": [
            "\r 68%|██████▊   | 405/600 [4:31:02<3:42:04, 68.33s/it]"
          ],
          "name": "stderr"
        },
        {
          "output_type": "stream",
          "text": [
            "404[Vz]  no correction: 0.28522601132916137, correction:0.191652670773256\n",
            "405[x]  no correction: 0.01739533045151067, correction:0.0033280645728864062\n",
            "405[y]  no correction: 0.007462430983552635, correction:0.005631207263772111\n",
            "405[z]  no correction: 0.008079303820454744, correction:0.00458869288194517\n",
            "405[Vx]  no correction: 0.01426413294211237, correction:0.008982808275829451\n",
            "405[Vy]  no correction: 0.011853118447672539, correction:0.016512063210092662\n",
            "405 Vy does not work\n"
          ],
          "name": "stdout"
        },
        {
          "output_type": "stream",
          "text": [
            "\r 68%|██████▊   | 406/600 [4:31:21<2:52:22, 53.31s/it]"
          ],
          "name": "stderr"
        },
        {
          "output_type": "stream",
          "text": [
            "405[Vz]  no correction: 0.02039032824524401, correction:0.010510444289810137\n",
            "406[x]  no correction: 0.0026318464122538246, correction:0.0003322321534909935\n",
            "406[y]  no correction: 0.029302967706318354, correction:0.0021920248215832926\n",
            "406[z]  no correction: 0.0009035010114880619, correction:0.00025184204824861225\n",
            "406[Vx]  no correction: 0.0027290181420323743, correction:0.0017618536260701648\n",
            "406[Vy]  no correction: 0.0014375102411269946, correction:0.0018755221694380063\n",
            "406 Vy does not work\n"
          ],
          "name": "stdout"
        },
        {
          "output_type": "stream",
          "text": [
            "\r 68%|██████▊   | 407/600 [4:31:46<2:24:18, 44.86s/it]"
          ],
          "name": "stderr"
        },
        {
          "output_type": "stream",
          "text": [
            "406[Vz]  no correction: 0.0008617370540171551, correction:0.0005743282486273517\n",
            "407[x]  no correction: 0.0017277113332213065, correction:0.00010551713038749179\n",
            "407[y]  no correction: 0.0020508550705099562, correction:0.0001656235815643372\n",
            "407[z]  no correction: 0.005702393220050422, correction:0.00025820459051107916\n",
            "407[Vx]  no correction: 0.0016611760534578283, correction:6.251602372446632e-05\n",
            "407[Vy]  no correction: 0.003074161770224489, correction:0.00017329311002592536\n"
          ],
          "name": "stdout"
        },
        {
          "output_type": "stream",
          "text": [
            "\r 68%|██████▊   | 408/600 [4:32:37<2:29:46, 46.81s/it]"
          ],
          "name": "stderr"
        },
        {
          "output_type": "stream",
          "text": [
            "407[Vz]  no correction: 0.0019878650876190337, correction:0.00018074706377995724\n",
            "408[x]  no correction: 0.004627574183193571, correction:0.0003483629627079062\n",
            "408[y]  no correction: 0.0014632250024185455, correction:0.00042836743398530627\n",
            "408[z]  no correction: 0.019103562095760373, correction:0.0023377814767102487\n",
            "408[Vx]  no correction: 0.0014530225920577088, correction:0.0009800933143331732\n",
            "408[Vy]  no correction: 0.0018083430457079643, correction:0.00053400726362474\n"
          ],
          "name": "stdout"
        },
        {
          "output_type": "stream",
          "text": [
            "\r 68%|██████▊   | 409/600 [4:33:06<2:11:34, 41.33s/it]"
          ],
          "name": "stderr"
        },
        {
          "output_type": "stream",
          "text": [
            "408[Vz]  no correction: 0.0018034508528977755, correction:0.0005583736280074221\n",
            "409[x]  no correction: 0.008340232785178198, correction:0.0008391834127629462\n",
            "409[y]  no correction: 0.009374709621413615, correction:0.0006858469054108138\n",
            "409[z]  no correction: 0.027333274162759217, correction:0.0016842758000213713\n",
            "409[Vx]  no correction: 0.009612053610432159, correction:0.0006473211329228221\n",
            "409[Vy]  no correction: 0.010918263935979387, correction:0.000673565013503552\n"
          ],
          "name": "stdout"
        },
        {
          "output_type": "stream",
          "text": [
            "\r 68%|██████▊   | 410/600 [4:34:09<2:31:39, 47.89s/it]"
          ],
          "name": "stderr"
        },
        {
          "output_type": "stream",
          "text": [
            "409[Vz]  no correction: 0.012419602042902444, correction:0.0005829500931653221\n",
            "410[x]  no correction: 0.11293159301645372, correction:0.0012437887894499804\n",
            "410[y]  no correction: 0.057765478491198056, correction:0.0017648840577777895\n",
            "410[z]  no correction: 0.03381890445656264, correction:0.0004745670739087053\n",
            "410[Vx]  no correction: 0.049230518791684164, correction:0.0008034716307283515\n",
            "410[Vy]  no correction: 0.07896967041479286, correction:0.007235489928180514\n"
          ],
          "name": "stdout"
        },
        {
          "output_type": "stream",
          "text": [
            "\r 68%|██████▊   | 411/600 [4:34:39<2:14:23, 42.66s/it]"
          ],
          "name": "stderr"
        },
        {
          "output_type": "stream",
          "text": [
            "410[Vz]  no correction: 0.029283605951479073, correction:0.00048124820240649986\n",
            "411[x]  no correction: 0.03472662177596824, correction:0.012052736502276255\n",
            "411[y]  no correction: 0.020992689215014404, correction:0.002483790776382252\n",
            "411[z]  no correction: 0.02450539212978432, correction:0.0043616764189271864\n",
            "411[Vx]  no correction: 0.030472934898837203, correction:0.005267486995557714\n",
            "411[Vy]  no correction: 0.011493848775899998, correction:0.006077281385610862\n"
          ],
          "name": "stdout"
        },
        {
          "output_type": "stream",
          "text": [
            "\r 69%|██████▊   | 412/600 [4:34:59<1:51:47, 35.68s/it]"
          ],
          "name": "stderr"
        },
        {
          "output_type": "stream",
          "text": [
            "411[Vz]  no correction: 0.016887101762927927, correction:0.00473965468573885\n",
            "412[x]  no correction: 0.005206909317886978, correction:0.0004129948829857487\n",
            "412[y]  no correction: 0.00370606191018862, correction:0.00030558138985960237\n",
            "412[z]  no correction: 0.003811302082677885, correction:0.0004264588201111858\n",
            "412[Vx]  no correction: 0.0007319118857412502, correction:0.00015207773991287747\n",
            "412[Vy]  no correction: 0.004552110100156571, correction:0.0002227880512314308\n"
          ],
          "name": "stdout"
        },
        {
          "output_type": "stream",
          "text": [
            "\r 69%|██████▉   | 413/600 [4:36:07<2:21:44, 45.48s/it]"
          ],
          "name": "stderr"
        },
        {
          "output_type": "stream",
          "text": [
            "412[Vz]  no correction: 0.0005206819681605233, correction:0.0001293900722981385\n",
            "413[x]  no correction: 0.008734008678326103, correction:0.0004994198748934791\n",
            "413[y]  no correction: 0.006418215904070761, correction:0.0006457357808797281\n",
            "413[z]  no correction: 0.007720527152233611, correction:0.0016285603069224892\n",
            "413[Vx]  no correction: 0.019039382659080277, correction:0.0006649470082932657\n",
            "413[Vy]  no correction: 0.006883575101804878, correction:0.0011468163016104013\n"
          ],
          "name": "stdout"
        },
        {
          "output_type": "stream",
          "text": [
            "\r 69%|██████▉   | 414/600 [4:36:30<2:00:12, 38.78s/it]"
          ],
          "name": "stderr"
        },
        {
          "output_type": "stream",
          "text": [
            "413[Vz]  no correction: 0.006451330897136258, correction:0.0007686664981604911\n",
            "414[x]  no correction: 0.04053451291305385, correction:0.0005748221614027293\n",
            "414[y]  no correction: 0.02716322349331, correction:0.0006768718281490772\n",
            "414[z]  no correction: 0.04236742318363328, correction:0.001337174263445417\n",
            "414[Vx]  no correction: 0.045311485912373876, correction:0.0014949611107350144\n",
            "414[Vy]  no correction: 0.03801169726139205, correction:0.0035339613372468827\n"
          ],
          "name": "stdout"
        },
        {
          "output_type": "stream",
          "text": [
            "\r 69%|██████▉   | 415/600 [4:37:20<2:09:43, 42.07s/it]"
          ],
          "name": "stderr"
        },
        {
          "output_type": "stream",
          "text": [
            "414[Vz]  no correction: 0.04632869654838013, correction:0.0011093501477466444\n",
            "415[x]  no correction: 0.0062236174512918735, correction:0.0011391708681124438\n",
            "415[y]  no correction: 0.008413908383641037, correction:0.0006602688025478347\n",
            "415[z]  no correction: 0.0071396698510018215, correction:0.00102935830290426\n",
            "415[Vx]  no correction: 0.007910174680532312, correction:0.0015351471749448426\n",
            "415[Vy]  no correction: 0.005654155274172647, correction:0.0023688127726110885\n"
          ],
          "name": "stdout"
        },
        {
          "output_type": "stream",
          "text": [
            "\r 69%|██████▉   | 416/600 [4:37:40<1:48:51, 35.49s/it]"
          ],
          "name": "stderr"
        },
        {
          "output_type": "stream",
          "text": [
            "415[Vz]  no correction: 0.005758434449988473, correction:0.0019084152694972966\n",
            "416[x]  no correction: 0.010649665961168606, correction:0.00039800693673958744\n",
            "416[y]  no correction: 0.006531745251085718, correction:0.0008844438817245357\n",
            "416[z]  no correction: 0.02694180185586503, correction:0.0059625613258283755\n",
            "416[Vx]  no correction: 0.0052673237843953585, correction:0.0016487929038335796\n",
            "416[Vy]  no correction: 0.007827318738226435, correction:0.0012823636640703381\n"
          ],
          "name": "stdout"
        },
        {
          "output_type": "stream",
          "text": [
            "\r 70%|██████▉   | 417/600 [4:38:08<1:41:45, 33.36s/it]"
          ],
          "name": "stderr"
        },
        {
          "output_type": "stream",
          "text": [
            "416[Vz]  no correction: 0.0054128451605110475, correction:0.0016954007027809967\n",
            "417[x]  no correction: 0.011708293344017184, correction:0.0005487932215083956\n",
            "417[y]  no correction: 0.0009734989027928243, correction:0.00149245225483048\n",
            "417 y does not work\n",
            "417[z]  no correction: 0.048716040377860294, correction:0.0013059430999276785\n",
            "417[Vx]  no correction: 0.00319480440010523, correction:0.0031194675205916318\n",
            "417[Vy]  no correction: 0.0027715507699355786, correction:0.00125749674752025\n"
          ],
          "name": "stdout"
        },
        {
          "output_type": "stream",
          "text": [
            "\r 70%|██████▉   | 418/600 [4:38:29<1:29:18, 29.44s/it]"
          ],
          "name": "stderr"
        },
        {
          "output_type": "stream",
          "text": [
            "417[Vz]  no correction: 0.0035701631578447307, correction:0.0039116053266724975\n",
            "417 Vz does not work\n",
            "418[x]  no correction: 0.13237581310903712, correction:0.006378677513907506\n",
            "418[y]  no correction: 0.041347158648927164, correction:0.003387481804543482\n",
            "418[z]  no correction: 0.07875727407501773, correction:0.009761781543619133\n",
            "418[Vx]  no correction: 0.08530150177108878, correction:0.0077742772136954125\n",
            "418[Vy]  no correction: 0.07146180382221443, correction:0.00913710304042418\n"
          ],
          "name": "stdout"
        },
        {
          "output_type": "stream",
          "text": [
            "\r 70%|██████▉   | 419/600 [4:39:14<1:42:45, 34.06s/it]"
          ],
          "name": "stderr"
        },
        {
          "output_type": "stream",
          "text": [
            "418[Vz]  no correction: 0.09564423681749656, correction:0.010916590624476393\n",
            "419[x]  no correction: 0.002440183056358338, correction:0.0002562800746772695\n",
            "419[y]  no correction: 0.0004015725556829426, correction:0.0005386672600827556\n",
            "419 y does not work\n",
            "419[z]  no correction: 0.0024070934658453557, correction:0.00036138180235099893\n",
            "419[Vx]  no correction: 0.0012381938682832169, correction:0.00038864886787992034\n",
            "419[Vy]  no correction: 0.0015513440249816078, correction:0.0007157974597242055\n"
          ],
          "name": "stdout"
        },
        {
          "output_type": "stream",
          "text": [
            "\r 70%|███████   | 420/600 [4:40:01<1:54:33, 38.18s/it]"
          ],
          "name": "stderr"
        },
        {
          "output_type": "stream",
          "text": [
            "419[Vz]  no correction: 0.0015946310279746317, correction:0.00038407204918998586\n",
            "420[x]  no correction: 0.016465191738365022, correction:0.004625266095070097\n",
            "420[y]  no correction: 0.021570315088985836, correction:0.03723017049577396\n",
            "420 y does not work\n",
            "420[z]  no correction: 0.3600412763397918, correction:0.1133430784231653\n",
            "420[Vx]  no correction: 0.018371316769907452, correction:0.010105917845244335\n",
            "420[Vy]  no correction: 0.012380090761644253, correction:0.006353882884653815\n"
          ],
          "name": "stdout"
        },
        {
          "output_type": "stream",
          "text": [
            "\r 70%|███████   | 421/600 [4:40:14<1:30:55, 30.48s/it]"
          ],
          "name": "stderr"
        },
        {
          "output_type": "stream",
          "text": [
            "420[Vz]  no correction: 0.33473809345642824, correction:0.1404641297171738\n",
            "421[x]  no correction: 0.008855901123437575, correction:0.0009981753853677148\n",
            "421[y]  no correction: 0.014132520379329024, correction:0.0025208399083413414\n",
            "421[z]  no correction: 0.005827269585399926, correction:0.002098357938317168\n",
            "421[Vx]  no correction: 0.002816826054964174, correction:0.0013917584310761792\n",
            "421[Vy]  no correction: 0.0202151745734174, correction:0.011020201810401625\n"
          ],
          "name": "stdout"
        },
        {
          "output_type": "stream",
          "text": [
            "\r 70%|███████   | 422/600 [4:40:35<1:22:31, 27.82s/it]"
          ],
          "name": "stderr"
        },
        {
          "output_type": "stream",
          "text": [
            "421[Vz]  no correction: 0.01011634212634776, correction:0.005324116151371531\n",
            "422[x]  no correction: 0.003175388431670696, correction:0.002108125819873897\n",
            "422[y]  no correction: 0.01695833557547933, correction:0.016712239746671412\n",
            "422[z]  no correction: 0.004007248930689822, correction:0.0013408453532989433\n",
            "422[Vx]  no correction: 0.035282996478017505, correction:0.028517806115445615\n",
            "422[Vy]  no correction: 0.007886795620877938, correction:0.009591285463656736\n",
            "422 Vy does not work\n"
          ],
          "name": "stdout"
        },
        {
          "output_type": "stream",
          "text": [
            "\r 70%|███████   | 423/600 [4:41:03<1:22:05, 27.83s/it]"
          ],
          "name": "stderr"
        },
        {
          "output_type": "stream",
          "text": [
            "422[Vz]  no correction: 0.004726217631083512, correction:0.0033790822005954255\n",
            "423[x]  no correction: 0.002178184688340512, correction:0.0004950890397011134\n",
            "423[y]  no correction: 0.017232577785127257, correction:0.005544403017473334\n",
            "423[z]  no correction: 0.0009984187869146218, correction:0.00020612609436789409\n",
            "423[Vx]  no correction: 0.0069647895551189385, correction:0.0014631986038824984\n",
            "423[Vy]  no correction: 0.0024622192107830467, correction:0.0004672878081689955\n"
          ],
          "name": "stdout"
        },
        {
          "output_type": "stream",
          "text": [
            "\r 71%|███████   | 424/600 [4:42:00<1:47:06, 36.51s/it]"
          ],
          "name": "stderr"
        },
        {
          "output_type": "stream",
          "text": [
            "423[Vz]  no correction: 0.0032288346123605536, correction:0.0004195963835980723\n",
            "424[x]  no correction: 0.004052481386249779, correction:0.001810001452102925\n",
            "424[y]  no correction: 0.004957790465742702, correction:0.000687454152679999\n",
            "424[z]  no correction: 0.004055559591311364, correction:0.0017674193917405323\n",
            "424[Vx]  no correction: 0.002281471877244205, correction:0.0015063108227323218\n",
            "424[Vy]  no correction: 0.00792264928569151, correction:0.007438008054358031\n"
          ],
          "name": "stdout"
        },
        {
          "output_type": "stream",
          "text": [
            "\r 71%|███████   | 425/600 [4:42:22<1:33:45, 32.15s/it]"
          ],
          "name": "stderr"
        },
        {
          "output_type": "stream",
          "text": [
            "424[Vz]  no correction: 0.0070528750051746456, correction:0.003965473678315885\n",
            "425[x]  no correction: 0.009236057574092162, correction:0.0005960304836751545\n",
            "425[y]  no correction: 0.010931098617710515, correction:0.0003371236756403474\n",
            "425[z]  no correction: 0.038377421002095555, correction:0.00302180777485623\n",
            "425[Vx]  no correction: 0.008131427492883168, correction:0.0006572792416948517\n",
            "425[Vy]  no correction: 0.009107770400861413, correction:0.00046717587495705463\n"
          ],
          "name": "stdout"
        },
        {
          "output_type": "stream",
          "text": [
            "\r 71%|███████   | 426/600 [4:42:45<1:25:30, 29.49s/it]"
          ],
          "name": "stderr"
        },
        {
          "output_type": "stream",
          "text": [
            "425[Vz]  no correction: 0.010636208641938615, correction:0.0006033550422022777\n",
            "426[x]  no correction: 0.015308893422921585, correction:0.0014430863792807818\n",
            "426[y]  no correction: 0.006393312265837443, correction:0.0006076564132600049\n",
            "426[z]  no correction: 0.007481810250623832, correction:0.0004962167530112684\n",
            "426[Vx]  no correction: 0.008951352645010766, correction:0.0052512991079829265\n",
            "426[Vy]  no correction: 0.0035659217946418793, correction:0.0022613464007727015\n"
          ],
          "name": "stdout"
        },
        {
          "output_type": "stream",
          "text": [
            "\r 71%|███████   | 427/600 [4:43:05<1:16:26, 26.51s/it]"
          ],
          "name": "stderr"
        },
        {
          "output_type": "stream",
          "text": [
            "426[Vz]  no correction: 0.004440648353223871, correction:0.002150976000188896\n",
            "427[x]  no correction: 0.036207739440024526, correction:0.004584988922204999\n",
            "427[y]  no correction: 0.014656112272618024, correction:0.005424785586990315\n",
            "427[z]  no correction: 0.010529383024928916, correction:0.006515047709648611\n",
            "427[Vx]  no correction: 0.03894955566947382, correction:0.03805153872028181\n"
          ],
          "name": "stdout"
        },
        {
          "output_type": "stream",
          "text": [
            "WARNING:fbprophet:Optimization terminated abnormally. Falling back to Newton.\n"
          ],
          "name": "stderr"
        },
        {
          "output_type": "stream",
          "text": [
            "427[Vy]  no correction: 0.006511193660012793, correction:0.024538090405647195\n",
            "427 Vy does not work\n"
          ],
          "name": "stdout"
        },
        {
          "output_type": "stream",
          "text": [
            "\r 71%|███████▏  | 428/600 [4:43:22<1:07:53, 23.68s/it]"
          ],
          "name": "stderr"
        },
        {
          "output_type": "stream",
          "text": [
            "427[Vz]  no correction: 0.02908852321714461, correction:0.026640207153033207\n",
            "428[x]  no correction: 0.001873092474283541, correction:0.0008472963551679653\n",
            "428[y]  no correction: 0.0004325968731071946, correction:0.0006596781993521499\n",
            "428 y does not work\n",
            "428[z]  no correction: 0.0010777192946619001, correction:0.0006260106372026381\n",
            "428[Vx]  no correction: 0.0012415571432686904, correction:0.0010384036992916337\n",
            "428[Vy]  no correction: 0.000574358743565257, correction:0.0002042784360530659\n"
          ],
          "name": "stdout"
        },
        {
          "output_type": "stream",
          "text": [
            "\r 72%|███████▏  | 429/600 [4:43:43<1:05:21, 22.94s/it]"
          ],
          "name": "stderr"
        },
        {
          "output_type": "stream",
          "text": [
            "428[Vz]  no correction: 0.0008682098393948092, correction:0.0005922662737544703\n",
            "429[x]  no correction: 0.1531875137503166, correction:0.05803698503813942\n",
            "429[y]  no correction: 0.12962341767573202, correction:0.10282506399801117\n",
            "429[z]  no correction: 0.21237074694729305, correction:0.03834492025634885\n",
            "429[Vx]  no correction: 0.11259715729411401, correction:0.0752369356097745\n",
            "429[Vy]  no correction: 0.1204967741883942, correction:0.0793858282459279\n"
          ],
          "name": "stdout"
        },
        {
          "output_type": "stream",
          "text": [
            "\r 72%|███████▏  | 430/600 [4:44:26<1:21:51, 28.89s/it]"
          ],
          "name": "stderr"
        },
        {
          "output_type": "stream",
          "text": [
            "429[Vz]  no correction: 0.19925709327827001, correction:0.13556361186574153\n",
            "430[x]  no correction: 0.01705775327999352, correction:0.004762918041289851\n",
            "430[y]  no correction: 0.008589757939894254, correction:0.006280714907144934\n",
            "430[z]  no correction: 0.00654840686258054, correction:0.019990938914617482\n",
            "430 z does not work\n",
            "430[Vx]  no correction: 0.00525432820566958, correction:0.004854869236372368\n",
            "430[Vy]  no correction: 0.006827775849165358, correction:0.004443716952232374\n"
          ],
          "name": "stdout"
        },
        {
          "output_type": "stream",
          "text": [
            "\r 72%|███████▏  | 431/600 [4:44:48<1:15:24, 26.77s/it]"
          ],
          "name": "stderr"
        },
        {
          "output_type": "stream",
          "text": [
            "430[Vz]  no correction: 0.05544601679773442, correction:0.03797789998393143\n",
            "431[x]  no correction: 0.008577735495961209, correction:0.0011864978849903706\n",
            "431[y]  no correction: 0.03189341125723563, correction:0.0025704479198332517\n",
            "431[z]  no correction: 0.014613155369973213, correction:0.0024258787245597956\n",
            "431[Vx]  no correction: 0.004926071297772698, correction:0.004138575359505747\n",
            "431[Vy]  no correction: 0.04797304062288739, correction:0.018982392888867092\n"
          ],
          "name": "stdout"
        },
        {
          "output_type": "stream",
          "text": [
            "\r 72%|███████▏  | 432/600 [4:45:08<1:09:25, 24.79s/it]"
          ],
          "name": "stderr"
        },
        {
          "output_type": "stream",
          "text": [
            "431[Vz]  no correction: 0.006000291587312616, correction:0.002893902274552408\n",
            "432[x]  no correction: 0.0006988734799861296, correction:0.0008274541545193466\n",
            "432 x does not work\n",
            "432[y]  no correction: 0.002872717790407151, correction:0.0013865278442161684\n",
            "432[z]  no correction: 0.0024000392303723103, correction:0.0006858876304532639\n",
            "432[Vx]  no correction: 0.0019020418076944262, correction:0.0008168551016222889\n",
            "432[Vy]  no correction: 0.0009947912049149956, correction:0.0006876967843461142\n"
          ],
          "name": "stdout"
        },
        {
          "output_type": "stream",
          "text": [
            "\r 72%|███████▏  | 433/600 [4:45:32<1:08:33, 24.63s/it]"
          ],
          "name": "stderr"
        },
        {
          "output_type": "stream",
          "text": [
            "432[Vz]  no correction: 0.022153364737681355, correction:0.01095552406198981\n",
            "433[x]  no correction: 0.02791039977409001, correction:0.00075039076238867\n",
            "433[y]  no correction: 0.0162083530676564, correction:0.0010228548387779012\n",
            "433[z]  no correction: 0.02255053673366615, correction:0.0007757393352234951\n",
            "433[Vx]  no correction: 0.0347240323331097, correction:0.0004486179273853254\n",
            "433[Vy]  no correction: 0.015169003947126062, correction:0.0008821193277689047\n"
          ],
          "name": "stdout"
        },
        {
          "output_type": "stream",
          "text": [
            "\r 72%|███████▏  | 434/600 [4:46:59<2:00:04, 43.40s/it]"
          ],
          "name": "stderr"
        },
        {
          "output_type": "stream",
          "text": [
            "433[Vz]  no correction: 0.024954259837988498, correction:0.0010810255607897113\n",
            "434[x]  no correction: 0.0039174655558306655, correction:0.000832124477241403\n",
            "434[y]  no correction: 0.008601649265774187, correction:0.0005188767449837735\n",
            "434[z]  no correction: 0.004355158559688583, correction:0.0003424566797095881\n",
            "434[Vx]  no correction: 0.003689128031913008, correction:0.0009213239024005632\n",
            "434[Vy]  no correction: 0.012061053220591316, correction:0.0006257946343172595\n"
          ],
          "name": "stdout"
        },
        {
          "output_type": "stream",
          "text": [
            "\r 72%|███████▎  | 435/600 [4:47:18<1:39:12, 36.08s/it]"
          ],
          "name": "stderr"
        },
        {
          "output_type": "stream",
          "text": [
            "434[Vz]  no correction: 0.017247426410754888, correction:0.0025275395971104345\n",
            "435[x]  no correction: 0.23592924152170958, correction:0.08147538628521168\n",
            "435[y]  no correction: 0.10505282802003246, correction:0.05858530237213308\n",
            "435[z]  no correction: 0.2265559448256602, correction:0.1569487870697007\n",
            "435[Vx]  no correction: 0.20573540025658665, correction:0.13071329706487173\n",
            "435[Vy]  no correction: 0.12756850390108498, correction:0.14276948171654183\n",
            "435 Vy does not work\n"
          ],
          "name": "stdout"
        },
        {
          "output_type": "stream",
          "text": [
            "\r 73%|███████▎  | 436/600 [4:47:40<1:26:21, 31.59s/it]"
          ],
          "name": "stderr"
        },
        {
          "output_type": "stream",
          "text": [
            "435[Vz]  no correction: 0.22313187116710587, correction:0.13877249305312164\n",
            "436[x]  no correction: 0.002498377912366208, correction:0.00011612253288528682\n",
            "436[y]  no correction: 0.0018278890429527536, correction:0.00024633506147854294\n",
            "436[z]  no correction: 0.001598322605417159, correction:0.0001253884753765423\n",
            "436[Vx]  no correction: 0.000716110752116472, correction:9.662785339556271e-05\n",
            "436[Vy]  no correction: 0.0008083446964067288, correction:0.0002203134360312115\n"
          ],
          "name": "stdout"
        },
        {
          "output_type": "stream",
          "text": [
            "\r 73%|███████▎  | 437/600 [4:48:17<1:30:28, 33.30s/it]"
          ],
          "name": "stderr"
        },
        {
          "output_type": "stream",
          "text": [
            "436[Vz]  no correction: 0.0042667980386147785, correction:0.0002491140530070872\n",
            "437[x]  no correction: 0.005641174603022109, correction:0.0002538317757006605\n",
            "437[y]  no correction: 0.01154842605558553, correction:0.000408208778622678\n",
            "437[z]  no correction: 0.02974282497052279, correction:0.0005781613977209828\n",
            "437[Vx]  no correction: 0.0122521452706477, correction:0.0003601252487216865\n",
            "437[Vy]  no correction: 0.00903742280462521, correction:0.0005365224494826473\n"
          ],
          "name": "stdout"
        },
        {
          "output_type": "stream",
          "text": [
            "\r 73%|███████▎  | 438/600 [4:49:01<1:38:43, 36.57s/it]WARNING:fbprophet:Optimization terminated abnormally. Falling back to Newton.\n"
          ],
          "name": "stderr"
        },
        {
          "output_type": "stream",
          "text": [
            "437[Vz]  no correction: 0.015832445923870574, correction:0.00038432991228359723\n",
            "438[x]  no correction: 0.12255943979619828, correction:0.18378736649865957\n",
            "438 x does not work\n",
            "438[y]  no correction: 0.17765002690262496, correction:0.2387694828822789\n",
            "438 y does not work\n",
            "438[z]  no correction: 0.35652164115981283, correction:0.13432909032628718\n",
            "438[Vx]  no correction: 0.20425824487727293, correction:0.25473725547210785\n",
            "438 Vx does not work\n"
          ],
          "name": "stdout"
        },
        {
          "output_type": "stream",
          "text": [
            "WARNING:fbprophet:Optimization terminated abnormally. Falling back to Newton.\n"
          ],
          "name": "stderr"
        },
        {
          "output_type": "stream",
          "text": [
            "438[Vy]  no correction: 0.17572871850856867, correction:0.24020026549641652\n",
            "438 Vy does not work\n"
          ],
          "name": "stdout"
        },
        {
          "output_type": "stream",
          "text": [
            "\r 73%|███████▎  | 439/600 [4:49:19<1:23:23, 31.08s/it]"
          ],
          "name": "stderr"
        },
        {
          "output_type": "stream",
          "text": [
            "438[Vz]  no correction: 0.2603422467351071, correction:0.4122098965574851\n",
            "438 Vz does not work\n",
            "439[x]  no correction: 0.032152404757750726, correction:0.0016425705091749003\n",
            "439[y]  no correction: 0.012629082350878432, correction:0.0016223745165554093\n",
            "439[z]  no correction: 0.02323144631402403, correction:0.0007640969717019297\n",
            "439[Vx]  no correction: 0.014659986496737516, correction:0.000977245495924871\n",
            "439[Vy]  no correction: 0.010580469480169117, correction:0.0010512450389725593\n"
          ],
          "name": "stdout"
        },
        {
          "output_type": "stream",
          "text": [
            "\r 73%|███████▎  | 440/600 [4:49:45<1:18:33, 29.46s/it]"
          ],
          "name": "stderr"
        },
        {
          "output_type": "stream",
          "text": [
            "439[Vz]  no correction: 0.04519723629932601, correction:0.006991984940542082\n",
            "440[x]  no correction: 0.03725389404863495, correction:0.01101917895020586\n",
            "440[y]  no correction: 0.03313319803123031, correction:0.020689910315686698\n",
            "440[z]  no correction: 0.015884333087189277, correction:0.003946235967356215\n",
            "440[Vx]  no correction: 0.005855021839382876, correction:0.006734416995013703\n",
            "440 Vx does not work\n",
            "440[Vy]  no correction: 0.007306527545667881, correction:0.004618146433675356\n"
          ],
          "name": "stdout"
        },
        {
          "output_type": "stream",
          "text": [
            "\r 74%|███████▎  | 441/600 [4:50:04<1:09:34, 26.25s/it]"
          ],
          "name": "stderr"
        },
        {
          "output_type": "stream",
          "text": [
            "440[Vz]  no correction: 0.007631460996160608, correction:0.003663739046241118\n",
            "441[x]  no correction: 0.026026636260444224, correction:0.1646365893697839\n",
            "441 x does not work\n",
            "441[y]  no correction: 0.036876954576674066, correction:0.34428400528356984\n",
            "441 y does not work\n",
            "441[z]  no correction: 0.0995916552201782, correction:0.3365511544727805\n",
            "441 z does not work\n",
            "441[Vx]  no correction: 0.06933991763698907, correction:0.36539397129480417\n",
            "441 Vx does not work\n",
            "441[Vy]  no correction: 0.06422821694833555, correction:0.24322890246269593\n",
            "441 Vy does not work\n"
          ],
          "name": "stdout"
        },
        {
          "output_type": "stream",
          "text": [
            "\r 74%|███████▎  | 442/600 [4:53:40<3:39:11, 83.24s/it]"
          ],
          "name": "stderr"
        },
        {
          "output_type": "stream",
          "text": [
            "441[Vz]  no correction: 0.040353932089349454, correction:0.44412026805659516\n",
            "441 Vz does not work\n",
            "442[x]  no correction: 0.4365823618339952, correction:0.039702043815508146\n",
            "442[y]  no correction: 0.2972057062519727, correction:0.05928741836920641\n",
            "442[z]  no correction: 0.4427920091789218, correction:0.04415289636545771\n",
            "442[Vx]  no correction: 0.3717360676442191, correction:0.08532064172813464\n",
            "442[Vy]  no correction: 0.3326391354402817, correction:0.07133395113821357\n"
          ],
          "name": "stdout"
        },
        {
          "output_type": "stream",
          "text": [
            "\r 74%|███████▍  | 443/600 [4:54:08<2:54:39, 66.75s/it]"
          ],
          "name": "stderr"
        },
        {
          "output_type": "stream",
          "text": [
            "442[Vz]  no correction: 0.38816386145678905, correction:0.18606664972470244\n",
            "443[x]  no correction: 0.2821093229094058, correction:0.13449225403877377\n",
            "443[y]  no correction: 0.2739664989523869, correction:0.19920149451056834\n",
            "443[z]  no correction: 0.2534303563362403, correction:0.07327114832373784\n",
            "443[Vx]  no correction: 0.18858404257474545, correction:0.10575259106922644\n",
            "443[Vy]  no correction: 0.21903100543589665, correction:0.16288946979416186\n"
          ],
          "name": "stdout"
        },
        {
          "output_type": "stream",
          "text": [
            "\r 74%|███████▍  | 444/600 [4:54:30<2:18:48, 53.39s/it]"
          ],
          "name": "stderr"
        },
        {
          "output_type": "stream",
          "text": [
            "443[Vz]  no correction: 0.27939996551945045, correction:0.2139051546252637\n",
            "444[x]  no correction: 0.005461818601516876, correction:0.0003660328167445067\n",
            "444[y]  no correction: 0.010351199294788782, correction:0.0011050365736616264\n",
            "444[z]  no correction: 0.0030801858025095307, correction:0.00028455081158963713\n",
            "444[Vx]  no correction: 0.008692822217006738, correction:0.0010845464721033272\n",
            "444[Vy]  no correction: 0.01447810282331071, correction:0.0005070455014170262\n"
          ],
          "name": "stdout"
        },
        {
          "output_type": "stream",
          "text": [
            "\r 74%|███████▍  | 445/600 [4:56:14<2:56:30, 68.33s/it]"
          ],
          "name": "stderr"
        },
        {
          "output_type": "stream",
          "text": [
            "444[Vz]  no correction: 0.01113177464812449, correction:0.0010382963555813558\n",
            "445[x]  no correction: 0.25043006668406564, correction:0.05715692148056183\n",
            "445[y]  no correction: 0.13061686570533673, correction:0.11778003527142705\n",
            "445[z]  no correction: 0.22886093230618004, correction:0.06844469422450213\n",
            "445[Vx]  no correction: 0.22198301648398389, correction:0.19250353515614507\n",
            "445[Vy]  no correction: 0.1390614351194765, correction:0.11647211225713762\n"
          ],
          "name": "stdout"
        },
        {
          "output_type": "stream",
          "text": [
            "\r 74%|███████▍  | 446/600 [4:56:35<2:19:35, 54.38s/it]"
          ],
          "name": "stderr"
        },
        {
          "output_type": "stream",
          "text": [
            "445[Vz]  no correction: 0.22245799935549726, correction:0.1982440551537519\n",
            "446[x]  no correction: 0.0037164962935606785, correction:0.0005931887437660119\n",
            "446[y]  no correction: 0.001616472616935282, correction:0.00026359732671055777\n",
            "446[z]  no correction: 0.006434675653405437, correction:0.0014688960278809306\n",
            "446[Vx]  no correction: 0.0011331334179813717, correction:0.0007222872549860201\n",
            "446[Vy]  no correction: 0.0016338555990163587, correction:0.0007603707791776379\n"
          ],
          "name": "stdout"
        },
        {
          "output_type": "stream",
          "text": [
            "\r 74%|███████▍  | 447/600 [4:57:02<1:57:08, 45.94s/it]"
          ],
          "name": "stderr"
        },
        {
          "output_type": "stream",
          "text": [
            "446[Vz]  no correction: 0.004470961613584351, correction:0.0008481108953818413\n",
            "447[x]  no correction: 0.5187318629159854, correction:0.10379406993783447\n",
            "447[y]  no correction: 0.3350303051798372, correction:0.21673494224394624\n",
            "447[z]  no correction: 0.29854422348187, correction:0.21243183752530445\n",
            "447[Vx]  no correction: 0.45730753637746774, correction:0.3563288813974033\n",
            "447[Vy]  no correction: 0.30388458638868915, correction:0.22782031533214575\n"
          ],
          "name": "stdout"
        },
        {
          "output_type": "stream",
          "text": [
            "\r 75%|███████▍  | 448/600 [4:57:24<1:38:45, 38.99s/it]"
          ],
          "name": "stderr"
        },
        {
          "output_type": "stream",
          "text": [
            "447[Vz]  no correction: 0.3128609813934323, correction:0.2341823367660692\n",
            "448[x]  no correction: 0.21344146408723705, correction:0.0919186400394893\n",
            "448[y]  no correction: 0.039657556399916194, correction:0.03352711928941436\n",
            "448[z]  no correction: 0.1707159627291045, correction:0.0655564302555509\n",
            "448[Vx]  no correction: 0.1893214118192725, correction:0.1314003435801731\n",
            "448[Vy]  no correction: 0.051358528483371774, correction:0.08458458736101553\n",
            "448 Vy does not work\n"
          ],
          "name": "stdout"
        },
        {
          "output_type": "stream",
          "text": [
            "\r 75%|███████▍  | 449/600 [4:57:43<1:22:39, 32.84s/it]"
          ],
          "name": "stderr"
        },
        {
          "output_type": "stream",
          "text": [
            "448[Vz]  no correction: 0.20027785291555486, correction:0.2365291876516247\n",
            "448 Vz does not work\n",
            "449[x]  no correction: 0.01018271887566826, correction:0.0007562986619494003\n",
            "449[y]  no correction: 0.0043290520309713, correction:0.002157324028346593\n",
            "449[z]  no correction: 0.0085586673880272, correction:0.0010117078800191944\n",
            "449[Vx]  no correction: 0.0044976169689415185, correction:0.0008743044017690254\n",
            "449[Vy]  no correction: 0.0032015010089194323, correction:0.0016964360263208274\n"
          ],
          "name": "stdout"
        },
        {
          "output_type": "stream",
          "text": [
            "\r 75%|███████▌  | 450/600 [4:58:09<1:16:54, 30.76s/it]"
          ],
          "name": "stderr"
        },
        {
          "output_type": "stream",
          "text": [
            "449[Vz]  no correction: 0.0034967102383263713, correction:0.0010788406464707764\n",
            "450[x]  no correction: 0.0012382797321601106, correction:0.00010482672351039751\n",
            "450[y]  no correction: 0.0037937779961177576, correction:8.961453980284813e-05\n",
            "450[z]  no correction: 0.001059395237359628, correction:0.00011414024924124142\n",
            "450[Vx]  no correction: 0.0025112115568903036, correction:9.28352117970844e-05\n",
            "450[Vy]  no correction: 0.005302470505815973, correction:0.0004468680163003706\n"
          ],
          "name": "stdout"
        },
        {
          "output_type": "stream",
          "text": [
            "\r 75%|███████▌  | 451/600 [5:00:08<2:21:55, 57.15s/it]"
          ],
          "name": "stderr"
        },
        {
          "output_type": "stream",
          "text": [
            "450[Vz]  no correction: 0.0024002916308102566, correction:9.818408659242216e-05\n",
            "451[x]  no correction: 0.00958894816298858, correction:0.003317688814697023\n",
            "451[y]  no correction: 0.010942527974662957, correction:0.00147973336077245\n",
            "451[z]  no correction: 0.010208701481094706, correction:0.0010267493846545306\n",
            "451[Vx]  no correction: 0.9737731706201418, correction:0.931247541445848\n",
            "451[Vy]  no correction: 0.015857539193476343, correction:0.001997181944584334\n"
          ],
          "name": "stdout"
        },
        {
          "output_type": "stream",
          "text": [
            "\r 75%|███████▌  | 452/600 [5:00:31<1:56:09, 47.09s/it]"
          ],
          "name": "stderr"
        },
        {
          "output_type": "stream",
          "text": [
            "451[Vz]  no correction: 0.019170286481640944, correction:0.0004520337564230508\n",
            "452[x]  no correction: 0.21306901983489845, correction:0.075795988639455\n",
            "452[y]  no correction: 0.12938477487444902, correction:0.04797162704705363\n",
            "452[z]  no correction: 0.12014208855399541, correction:0.12759865201663884\n",
            "452 z does not work\n",
            "452[Vx]  no correction: 0.21719490933150556, correction:0.18824724290470357\n",
            "452[Vy]  no correction: 0.08947986438321304, correction:0.10979641131964536\n",
            "452 Vy does not work\n"
          ],
          "name": "stdout"
        },
        {
          "output_type": "stream",
          "text": [
            "\r 76%|███████▌  | 453/600 [5:00:54<1:37:25, 39.77s/it]"
          ],
          "name": "stderr"
        },
        {
          "output_type": "stream",
          "text": [
            "452[Vz]  no correction: 0.1638500543867936, correction:0.1376688175656659\n",
            "453[x]  no correction: 0.03043115314445515, correction:0.02314186094517764\n",
            "453[y]  no correction: 0.011140612582760532, correction:0.0035071692970518467\n",
            "453[z]  no correction: 0.011971492271796206, correction:0.008459300726058213\n",
            "453[Vx]  no correction: 0.011030455096675329, correction:0.017647979655868156\n",
            "453 Vx does not work\n",
            "453[Vy]  no correction: 0.006385819030537381, correction:0.006454142362651798\n",
            "453 Vy does not work\n"
          ],
          "name": "stdout"
        },
        {
          "output_type": "stream",
          "text": [
            "\r 76%|███████▌  | 454/600 [5:01:06<1:16:36, 31.48s/it]"
          ],
          "name": "stderr"
        },
        {
          "output_type": "stream",
          "text": [
            "453[Vz]  no correction: 0.015554843586240529, correction:0.010922963587466805\n",
            "454[x]  no correction: 0.022477708271597546, correction:0.02470331445552677\n",
            "454 x does not work\n",
            "454[y]  no correction: 0.025081756867891027, correction:0.02046837479577975\n",
            "454[z]  no correction: 0.03992043161523653, correction:0.012045503125732469\n",
            "454[Vx]  no correction: 0.026565234606233203, correction:0.051803340426927615\n",
            "454 Vx does not work\n",
            "454[Vy]  no correction: 0.09281653811235349, correction:0.08545232362584702\n"
          ],
          "name": "stdout"
        },
        {
          "output_type": "stream",
          "text": [
            "\r 76%|███████▌  | 455/600 [5:01:24<1:06:24, 27.48s/it]"
          ],
          "name": "stderr"
        },
        {
          "output_type": "stream",
          "text": [
            "454[Vz]  no correction: 0.05162141963826052, correction:0.07340121969464729\n",
            "454 Vz does not work\n",
            "455[x]  no correction: 0.00707770088615028, correction:0.0011286210359465246\n",
            "455[y]  no correction: 0.014984708495909119, correction:0.0026185108491821496\n",
            "455[z]  no correction: 0.14935277280790835, correction:0.021882654717226616\n",
            "455[Vx]  no correction: 0.011859879357062767, correction:0.000987752673777159\n",
            "455[Vy]  no correction: 0.006133252497358623, correction:0.0014615862566595592\n"
          ],
          "name": "stdout"
        },
        {
          "output_type": "stream",
          "text": [
            "\r 76%|███████▌  | 456/600 [5:01:44<1:00:14, 25.10s/it]"
          ],
          "name": "stderr"
        },
        {
          "output_type": "stream",
          "text": [
            "455[Vz]  no correction: 0.0827567357285861, correction:0.012420538715745662\n",
            "456[x]  no correction: 0.28937418065766457, correction:0.024159541777081586\n",
            "456[y]  no correction: 0.1658327216255421, correction:0.02925253601016961\n",
            "456[z]  no correction: 0.2877691162859499, correction:0.017789658659014832\n",
            "456[Vx]  no correction: 0.2610773735621616, correction:0.0470208736785272\n",
            "456[Vy]  no correction: 0.1587604424633357, correction:0.042695109788259376\n"
          ],
          "name": "stdout"
        },
        {
          "output_type": "stream",
          "text": [
            "\r 76%|███████▌  | 457/600 [5:02:38<1:20:20, 33.71s/it]"
          ],
          "name": "stderr"
        },
        {
          "output_type": "stream",
          "text": [
            "456[Vz]  no correction: 0.24093924763080146, correction:0.0357879959169831\n"
          ],
          "name": "stdout"
        },
        {
          "output_type": "stream",
          "text": [
            "WARNING:fbprophet:Optimization terminated abnormally. Falling back to Newton.\n"
          ],
          "name": "stderr"
        },
        {
          "output_type": "stream",
          "text": [
            "457[x]  no correction: 0.019225870328286595, correction:0.005410255148087023\n",
            "457[y]  no correction: 0.003308373704385593, correction:0.006908604826420149\n",
            "457 y does not work\n",
            "457[z]  no correction: 0.01493186601848993, correction:0.02017089923246513\n",
            "457 z does not work\n",
            "457[Vx]  no correction: 0.0409223488052805, correction:0.030648983860611784\n",
            "457[Vy]  no correction: 0.0072432260635912045, correction:0.008547055536896645\n",
            "457 Vy does not work\n"
          ],
          "name": "stdout"
        },
        {
          "output_type": "stream",
          "text": [
            "\r 76%|███████▋  | 458/600 [5:02:56<1:08:51, 29.09s/it]"
          ],
          "name": "stderr"
        },
        {
          "output_type": "stream",
          "text": [
            "457[Vz]  no correction: 0.008738071476748486, correction:0.01184468376120711\n",
            "457 Vz does not work\n",
            "458[x]  no correction: 0.003764244678167149, correction:0.004504588490819159\n",
            "458 x does not work\n",
            "458[y]  no correction: 0.004282441279306164, correction:0.004411281867971191\n",
            "458 y does not work\n",
            "458[z]  no correction: 0.007205876265089639, correction:0.007092098753188864\n",
            "458[Vx]  no correction: 0.003451150192208182, correction:0.005183401252645965\n",
            "458 Vx does not work\n",
            "458[Vy]  no correction: 0.004595842160444573, correction:0.0005790009904995614\n"
          ],
          "name": "stdout"
        },
        {
          "output_type": "stream",
          "text": [
            "\r 76%|███████▋  | 459/600 [5:03:28<1:10:45, 30.11s/it]"
          ],
          "name": "stderr"
        },
        {
          "output_type": "stream",
          "text": [
            "458[Vz]  no correction: 0.0023820023567930624, correction:0.0026352516497540925\n",
            "458 Vz does not work\n",
            "459[x]  no correction: 0.4513975671871254, correction:0.36557017989866464\n",
            "459[y]  no correction: 0.36740931505794705, correction:0.4457060231415495\n",
            "459 y does not work\n",
            "459[z]  no correction: 0.4085528048603613, correction:0.44245068812542937\n",
            "459 z does not work\n",
            "459[Vx]  no correction: 0.5114663516649928, correction:0.5040216949697462\n",
            "459[Vy]  no correction: 0.46538659207723315, correction:0.50752726029124\n",
            "459 Vy does not work\n"
          ],
          "name": "stdout"
        },
        {
          "output_type": "stream",
          "text": [
            "\r 77%|███████▋  | 460/600 [5:03:51<1:04:47, 27.77s/it]"
          ],
          "name": "stderr"
        },
        {
          "output_type": "stream",
          "text": [
            "459[Vz]  no correction: 0.3797550065670063, correction:0.41064046271363713\n",
            "459 Vz does not work\n",
            "460[x]  no correction: 0.27247151003602593, correction:0.0586834812081399\n",
            "460[y]  no correction: 0.17006662726554014, correction:0.16398793468324777\n",
            "460[z]  no correction: 0.30201381560971946, correction:0.10354644512305779\n",
            "460[Vx]  no correction: 0.2708220534366436, correction:0.2355711656189082\n",
            "460[Vy]  no correction: 0.16593528842758873, correction:0.1614102218873672\n"
          ],
          "name": "stdout"
        },
        {
          "output_type": "stream",
          "text": [
            "\r 77%|███████▋  | 461/600 [5:04:17<1:03:12, 27.28s/it]"
          ],
          "name": "stderr"
        },
        {
          "output_type": "stream",
          "text": [
            "460[Vz]  no correction: 0.2713168121641388, correction:0.2332507699445987\n",
            "461[x]  no correction: 0.051537553743905784, correction:0.010546431149842569\n",
            "461[y]  no correction: 0.01813650714976344, correction:0.007475839098386633\n",
            "461[z]  no correction: 0.029611693697614485, correction:0.02004713934156908\n",
            "461[Vx]  no correction: 0.03382800887970743, correction:0.020810902323619093\n",
            "461[Vy]  no correction: 0.02177214084992598, correction:0.014675590958358738\n"
          ],
          "name": "stdout"
        },
        {
          "output_type": "stream",
          "text": [
            "\r 77%|███████▋  | 462/600 [5:04:44<1:03:02, 27.41s/it]"
          ],
          "name": "stderr"
        },
        {
          "output_type": "stream",
          "text": [
            "461[Vz]  no correction: 0.025194832040487867, correction:0.015153400559474933\n",
            "462[x]  no correction: 0.00043417996648601387, correction:8.727313957336082e-05\n",
            "462[y]  no correction: 0.0054558158581212, correction:0.00019078776556298046\n",
            "462[z]  no correction: 0.0005506641102106634, correction:3.072459996799619e-05\n",
            "462[Vx]  no correction: 0.0016197876341604999, correction:0.00014760258740237084\n",
            "462[Vy]  no correction: 0.0002823786523254363, correction:8.832584639195796e-05\n"
          ],
          "name": "stdout"
        },
        {
          "output_type": "stream",
          "text": [
            "\r 77%|███████▋  | 463/600 [5:05:58<1:34:06, 41.22s/it]"
          ],
          "name": "stderr"
        },
        {
          "output_type": "stream",
          "text": [
            "462[Vz]  no correction: 0.0030857628935252535, correction:7.921194235666487e-05\n",
            "463[x]  no correction: 0.10595677418621983, correction:0.016026022490155674\n",
            "463[y]  no correction: 0.163112709427178, correction:0.14504764501525644\n",
            "463[z]  no correction: 0.02191125349942751, correction:0.01880395731751619\n",
            "463[Vx]  no correction: 0.08103427750353494, correction:0.08504635983194386\n",
            "463 Vx does not work\n",
            "463[Vy]  no correction: 0.17130065829222477, correction:0.131698838126748\n"
          ],
          "name": "stdout"
        },
        {
          "output_type": "stream",
          "text": [
            "\r 77%|███████▋  | 464/600 [5:06:16<1:17:54, 34.37s/it]"
          ],
          "name": "stderr"
        },
        {
          "output_type": "stream",
          "text": [
            "463[Vz]  no correction: 0.06472352840432036, correction:0.04170900154984313\n",
            "464[x]  no correction: 0.09626756466201553, correction:0.10287657440862741\n",
            "464 x does not work\n",
            "464[y]  no correction: 0.06487802508813569, correction:0.07849795307520141\n",
            "464 y does not work\n",
            "464[z]  no correction: 0.07554308616702271, correction:0.06608383768045988\n",
            "464[Vx]  no correction: 0.04865281836254025, correction:0.05405638568265226\n",
            "464 Vx does not work\n",
            "464[Vy]  no correction: 0.08892344957580557, correction:0.0832316384544653\n"
          ],
          "name": "stdout"
        },
        {
          "output_type": "stream",
          "text": [
            "\r 78%|███████▊  | 465/600 [5:06:42<1:11:33, 31.80s/it]"
          ],
          "name": "stderr"
        },
        {
          "output_type": "stream",
          "text": [
            "464[Vz]  no correction: 0.04274732828979884, correction:0.07488343392249171\n",
            "464 Vz does not work\n",
            "465[x]  no correction: 0.0026710118184823982, correction:0.00019785234680648326\n",
            "465[y]  no correction: 0.0010502439652153059, correction:8.765986350165312e-05\n",
            "465[z]  no correction: 0.0064208064771779936, correction:0.0002359035007650164\n",
            "465[Vx]  no correction: 0.0017281127451992248, correction:0.0001308636880270326\n",
            "465[Vy]  no correction: 0.0025108329470381083, correction:0.00017325425533556163\n"
          ],
          "name": "stdout"
        },
        {
          "output_type": "stream",
          "text": [
            "\r 78%|███████▊  | 466/600 [5:07:34<1:24:22, 37.78s/it]"
          ],
          "name": "stderr"
        },
        {
          "output_type": "stream",
          "text": [
            "465[Vz]  no correction: 0.005664499820008974, correction:0.00022123402699408213\n"
          ],
          "name": "stdout"
        },
        {
          "output_type": "stream",
          "text": [
            "WARNING:fbprophet:Optimization terminated abnormally. Falling back to Newton.\n"
          ],
          "name": "stderr"
        },
        {
          "output_type": "stream",
          "text": [
            "466[x]  no correction: 0.03225450494489363, correction:0.036975874137010416\n",
            "466 x does not work\n"
          ],
          "name": "stdout"
        },
        {
          "output_type": "stream",
          "text": [
            "WARNING:fbprophet:Optimization terminated abnormally. Falling back to Newton.\n"
          ],
          "name": "stderr"
        },
        {
          "output_type": "stream",
          "text": [
            "466[y]  no correction: 0.15992524631249613, correction:0.24176563584520325\n",
            "466 y does not work\n",
            "466[z]  no correction: 0.03420276430997988, correction:0.183348514374172\n",
            "466 z does not work\n",
            "466[Vx]  no correction: 0.61226442345955, correction:0.7023571367173418\n",
            "466 Vx does not work\n",
            "466[Vy]  no correction: 0.2162644115044336, correction:0.0775893433291674\n"
          ],
          "name": "stdout"
        },
        {
          "output_type": "stream",
          "text": [
            "\r 78%|███████▊  | 467/600 [5:08:00<1:15:50, 34.21s/it]"
          ],
          "name": "stderr"
        },
        {
          "output_type": "stream",
          "text": [
            "466[Vz]  no correction: 0.7900328242594762, correction:0.8376386533168698\n",
            "466 Vz does not work\n",
            "467[x]  no correction: 0.08622386065361472, correction:0.019857527525875492\n",
            "467[y]  no correction: 0.0247440596521388, correction:0.005157823890060633\n",
            "467[z]  no correction: 0.02570502608987237, correction:0.002509217592206734\n",
            "467[Vx]  no correction: 0.0559465220611918, correction:0.004455354528415114\n",
            "467[Vy]  no correction: 0.08922317357028345, correction:0.015904754112169624\n"
          ],
          "name": "stdout"
        },
        {
          "output_type": "stream",
          "text": [
            "\r 78%|███████▊  | 468/600 [5:08:25<1:09:25, 31.56s/it]"
          ],
          "name": "stderr"
        },
        {
          "output_type": "stream",
          "text": [
            "467[Vz]  no correction: 0.06336835502856634, correction:0.005641330371517282\n",
            "468[x]  no correction: 0.0011261663789266603, correction:0.00021732255937964424\n",
            "468[y]  no correction: 0.0010795583449979547, correction:0.0002921783071651538\n",
            "468[z]  no correction: 0.007208509609273428, correction:0.00020814688949650844\n",
            "468[Vx]  no correction: 0.0007304004535813989, correction:0.00023431544419933134\n",
            "468[Vy]  no correction: 0.0009086546030598421, correction:0.0002921578202435167\n"
          ],
          "name": "stdout"
        },
        {
          "output_type": "stream",
          "text": [
            "\r 78%|███████▊  | 469/600 [5:09:03<1:12:55, 33.40s/it]"
          ],
          "name": "stderr"
        },
        {
          "output_type": "stream",
          "text": [
            "468[Vz]  no correction: 0.0037456346781546174, correction:0.0006343283815383958\n",
            "469[x]  no correction: 0.02359718733816261, correction:0.0006702898451362961\n",
            "469[y]  no correction: 0.02407998359367409, correction:0.001268582623985815\n",
            "469[z]  no correction: 0.05040622397934791, correction:0.0008951631378824892\n",
            "469[Vx]  no correction: 0.024886590066784505, correction:0.0007119193166741284\n",
            "469[Vy]  no correction: 0.01784684016753649, correction:0.00037430588824624\n"
          ],
          "name": "stdout"
        },
        {
          "output_type": "stream",
          "text": [
            "\r 78%|███████▊  | 470/600 [5:09:52<1:22:48, 38.22s/it]"
          ],
          "name": "stderr"
        },
        {
          "output_type": "stream",
          "text": [
            "469[Vz]  no correction: 0.030217097321808117, correction:0.0026539935399133774\n",
            "470[x]  no correction: 0.14941224385597335, correction:0.19216087414460156\n",
            "470 x does not work\n",
            "470[y]  no correction: 0.1579556663838459, correction:0.20150655570881293\n",
            "470 y does not work\n",
            "470[z]  no correction: 0.14342231039886794, correction:0.1963235889718433\n",
            "470 z does not work\n",
            "470[Vx]  no correction: 0.06098610270455124, correction:0.12656181280469872\n",
            "470 Vx does not work\n",
            "470[Vy]  no correction: 0.09396170342255857, correction:0.1612048443876453\n",
            "470 Vy does not work\n"
          ],
          "name": "stdout"
        },
        {
          "output_type": "stream",
          "text": [
            "\r 78%|███████▊  | 471/600 [5:10:31<1:22:47, 38.50s/it]"
          ],
          "name": "stderr"
        },
        {
          "output_type": "stream",
          "text": [
            "470[Vz]  no correction: 0.07436342546847848, correction:0.13625457667285348\n",
            "470 Vz does not work\n",
            "471[x]  no correction: 0.3577223875928303, correction:0.17012176727086367\n",
            "471[y]  no correction: 0.26240018122586084, correction:0.18273843440335957\n",
            "471[z]  no correction: 0.3292312216465442, correction:0.16715021831739768\n",
            "471[Vx]  no correction: 0.358846133957776, correction:0.2580706513663495\n",
            "471[Vy]  no correction: 0.24473491331906563, correction:0.2002546216389342\n"
          ],
          "name": "stdout"
        },
        {
          "output_type": "stream",
          "text": [
            "\r 79%|███████▊  | 472/600 [5:10:51<1:10:04, 32.85s/it]"
          ],
          "name": "stderr"
        },
        {
          "output_type": "stream",
          "text": [
            "471[Vz]  no correction: 0.30649111451405453, correction:0.21249605919881975\n",
            "472[x]  no correction: 0.008970819101637986, correction:0.010984386701552487\n",
            "472 x does not work\n",
            "472[y]  no correction: 0.009682062035909107, correction:0.017606384106005676\n",
            "472 y does not work\n",
            "472[z]  no correction: 0.011592209691689651, correction:0.005317567319843406\n",
            "472[Vx]  no correction: 0.008846188410018557, correction:0.02702321686087303\n",
            "472 Vx does not work\n",
            "472[Vy]  no correction: 0.015435947155218805, correction:0.03830523618662177\n",
            "472 Vy does not work\n"
          ],
          "name": "stdout"
        },
        {
          "output_type": "stream",
          "text": [
            "\r 79%|███████▉  | 473/600 [5:11:04<57:02, 26.95s/it]  "
          ],
          "name": "stderr"
        },
        {
          "output_type": "stream",
          "text": [
            "472[Vz]  no correction: 0.012208420233442265, correction:0.02514132583215884\n",
            "472 Vz does not work\n",
            "473[x]  no correction: 0.4848804390962448, correction:0.3101114811006358\n",
            "473[y]  no correction: 0.5024913436308971, correction:0.27979274118525227\n",
            "473[z]  no correction: 0.5103438914656836, correction:0.330672992179868\n",
            "473[Vx]  no correction: 0.5570866506820206, correction:0.3932200625211165\n",
            "473[Vy]  no correction: 0.4959949285948148, correction:0.3910099812497776\n"
          ],
          "name": "stdout"
        },
        {
          "output_type": "stream",
          "text": [
            "\r 79%|███████▉  | 474/600 [5:12:02<1:16:11, 36.29s/it]"
          ],
          "name": "stderr"
        },
        {
          "output_type": "stream",
          "text": [
            "473[Vz]  no correction: 0.546416776874253, correction:0.4010133443598614\n",
            "474[x]  no correction: 0.10008590145616239, correction:0.02536211373993177\n",
            "474[y]  no correction: 0.060737410441063795, correction:0.043532282120799834\n",
            "474[z]  no correction: 0.04548196282381005, correction:0.035921730752574564\n",
            "474[Vx]  no correction: 0.08241290119404737, correction:0.06651304494519407\n",
            "474[Vy]  no correction: 0.049253976134877704, correction:0.04000683103829412\n"
          ],
          "name": "stdout"
        },
        {
          "output_type": "stream",
          "text": [
            "\r 79%|███████▉  | 475/600 [5:12:30<1:10:14, 33.72s/it]"
          ],
          "name": "stderr"
        },
        {
          "output_type": "stream",
          "text": [
            "474[Vz]  no correction: 0.054998679882052565, correction:0.044784598745491344\n",
            "475[x]  no correction: 0.006384490935482957, correction:0.0049349635831514305\n",
            "475[y]  no correction: 0.06235826270141471, correction:0.019492499236163332\n",
            "475[z]  no correction: 0.018334516465085444, correction:0.047021821069947685\n",
            "475 z does not work\n",
            "475[Vx]  no correction: 0.009043410717988908, correction:0.006703992257316447\n",
            "475[Vy]  no correction: 0.017358702123456055, correction:0.04262999268694525\n",
            "475 Vy does not work\n"
          ],
          "name": "stdout"
        },
        {
          "output_type": "stream",
          "text": [
            "\r 79%|███████▉  | 476/600 [5:12:49<1:00:30, 29.28s/it]"
          ],
          "name": "stderr"
        },
        {
          "output_type": "stream",
          "text": [
            "475[Vz]  no correction: 0.013895452373368564, correction:0.012926381831778942\n",
            "476[x]  no correction: 0.01583302726140742, correction:0.0029447108056292943\n",
            "476[y]  no correction: 0.013367541807974314, correction:0.010957502045975884\n",
            "476[z]  no correction: 0.015892243692459073, correction:0.0043741066303853325\n",
            "476[Vx]  no correction: 0.010169978979386598, correction:0.007825951072701252\n",
            "476[Vy]  no correction: 0.004995334108911145, correction:0.003666516083847049\n"
          ],
          "name": "stdout"
        },
        {
          "output_type": "stream",
          "text": [
            "\r 80%|███████▉  | 477/600 [5:13:20<1:00:48, 29.66s/it]"
          ],
          "name": "stderr"
        },
        {
          "output_type": "stream",
          "text": [
            "476[Vz]  no correction: 0.010523165333677613, correction:0.007731467528468629\n",
            "477[x]  no correction: 0.0634298318982747, correction:0.0007267259677985479\n",
            "477[y]  no correction: 0.07569977582500055, correction:0.002348707008353244\n",
            "477[z]  no correction: 0.10678084652310352, correction:0.0009770392882224792\n",
            "477[Vx]  no correction: 0.06867138392098325, correction:0.0020437723668914613\n",
            "477[Vy]  no correction: 0.06370099007297782, correction:0.0036246274561240388\n"
          ],
          "name": "stdout"
        },
        {
          "output_type": "stream",
          "text": [
            "\r 80%|███████▉  | 478/600 [5:13:57<1:05:21, 32.14s/it]"
          ],
          "name": "stderr"
        },
        {
          "output_type": "stream",
          "text": [
            "477[Vz]  no correction: 0.1111927637887672, correction:0.004569933856960908\n",
            "478[x]  no correction: 0.35760429092807233, correction:0.39935405138053076\n",
            "478 x does not work\n",
            "478[y]  no correction: 0.4460097462327351, correction:0.5185509388456343\n",
            "478 y does not work\n",
            "478[z]  no correction: 0.4550059753633833, correction:0.45102925589155013\n",
            "478[Vx]  no correction: 0.5227788858061547, correction:0.554619956048588\n",
            "478 Vx does not work\n",
            "478[Vy]  no correction: 0.5239088494590921, correction:0.5609665109020945\n",
            "478 Vy does not work\n"
          ],
          "name": "stdout"
        },
        {
          "output_type": "stream",
          "text": [
            "\r 80%|███████▉  | 479/600 [5:14:21<59:40, 29.59s/it]  "
          ],
          "name": "stderr"
        },
        {
          "output_type": "stream",
          "text": [
            "478[Vz]  no correction: 0.5811552236910513, correction:0.6027410588251907\n",
            "478 Vz does not work\n",
            "479[x]  no correction: 0.008646369517935177, correction:0.001430742536048908\n",
            "479[y]  no correction: 0.023358986004930245, correction:0.007142564151245703\n",
            "479[z]  no correction: 0.014460920848006865, correction:0.006203578453805573\n",
            "479[Vx]  no correction: 0.009320534539042129, correction:0.0017575243024283628\n",
            "479[Vy]  no correction: 0.008797138558225785, correction:0.0020244426450119696\n"
          ],
          "name": "stdout"
        },
        {
          "output_type": "stream",
          "text": [
            "\r 80%|████████  | 480/600 [5:15:14<1:12:58, 36.48s/it]"
          ],
          "name": "stderr"
        },
        {
          "output_type": "stream",
          "text": [
            "479[Vz]  no correction: 0.00919370961916539, correction:0.005668672997652832\n",
            "480[x]  no correction: 0.006362345349550692, correction:0.001009857603728628\n",
            "480[y]  no correction: 0.0036424707918747586, correction:0.0004351794020850615\n",
            "480[z]  no correction: 0.006760061141951368, correction:0.0007894341963063737\n",
            "480[Vx]  no correction: 0.0035810420559430328, correction:0.0009239370719934634\n",
            "480[Vy]  no correction: 0.0024328363332445937, correction:0.0004045475713673311\n"
          ],
          "name": "stdout"
        },
        {
          "output_type": "stream",
          "text": [
            "\r 80%|████████  | 481/600 [5:15:32<1:01:32, 31.03s/it]"
          ],
          "name": "stderr"
        },
        {
          "output_type": "stream",
          "text": [
            "480[Vz]  no correction: 0.005964733151110499, correction:0.00047152309577575544\n"
          ],
          "name": "stdout"
        },
        {
          "output_type": "stream",
          "text": [
            "WARNING:fbprophet:Optimization terminated abnormally. Falling back to Newton.\n"
          ],
          "name": "stderr"
        },
        {
          "output_type": "stream",
          "text": [
            "481[x]  no correction: 0.6303310974133666, correction:0.615135758420063\n",
            "481[y]  no correction: 0.5288287730640315, correction:0.7966482292248909\n",
            "481 y does not work\n",
            "481[z]  no correction: 0.9376350731785854, correction:0.4031327059289357\n",
            "481[Vx]  no correction: 0.6229657735633423, correction:0.6487210340390415\n",
            "481 Vx does not work\n",
            "481[Vy]  no correction: 0.6741437997255664, correction:0.6250351501014652\n"
          ],
          "name": "stdout"
        },
        {
          "output_type": "stream",
          "text": [
            "\r 80%|████████  | 482/600 [5:15:53<55:04, 28.01s/it]  "
          ],
          "name": "stderr"
        },
        {
          "output_type": "stream",
          "text": [
            "481[Vz]  no correction: 0.906660829186156, correction:0.5161631085268229\n",
            "482[x]  no correction: 0.008798034712880145, correction:0.0030284010925447583\n",
            "482[y]  no correction: 0.020066430430630073, correction:0.006129662109487525\n",
            "482[z]  no correction: 0.006714169911691834, correction:0.00449247080816719\n",
            "482[Vx]  no correction: 0.6854331815973087, correction:0.6219650230150198\n",
            "482[Vy]  no correction: 0.012453314096763295, correction:0.00914413228701831\n"
          ],
          "name": "stdout"
        },
        {
          "output_type": "stream",
          "text": [
            "\r 80%|████████  | 483/600 [5:16:15<51:06, 26.21s/it]"
          ],
          "name": "stderr"
        },
        {
          "output_type": "stream",
          "text": [
            "482[Vz]  no correction: 0.0135038796098839, correction:0.010178115892374837\n",
            "483[x]  no correction: 0.013442656983810851, correction:0.003701890652171742\n",
            "483[y]  no correction: 0.008180460636782228, correction:0.0010485035618820688\n",
            "483[z]  no correction: 0.00866027071236654, correction:0.005398047917693754\n",
            "483[Vx]  no correction: 0.06990600798098137, correction:0.008675153037355646\n",
            "483[Vy]  no correction: 0.011957006811447044, correction:0.004167309992611998\n"
          ],
          "name": "stdout"
        },
        {
          "output_type": "stream",
          "text": [
            "\r 81%|████████  | 484/600 [5:16:34<46:38, 24.12s/it]"
          ],
          "name": "stderr"
        },
        {
          "output_type": "stream",
          "text": [
            "483[Vz]  no correction: 0.005993067514134374, correction:0.004876678774727433\n",
            "484[x]  no correction: 0.01384799011775604, correction:0.007865325622155491\n",
            "484[y]  no correction: 0.017674901847044143, correction:0.0031487332978539203\n",
            "484[z]  no correction: 0.07777382981811862, correction:0.009170875075738296\n",
            "484[Vx]  no correction: 0.00908088387890909, correction:0.004445456779866628\n",
            "484[Vy]  no correction: 0.027836433334287758, correction:0.00584785445806082\n"
          ],
          "name": "stdout"
        },
        {
          "output_type": "stream",
          "text": [
            "\r 81%|████████  | 485/600 [5:16:51<42:16, 22.06s/it]"
          ],
          "name": "stderr"
        },
        {
          "output_type": "stream",
          "text": [
            "484[Vz]  no correction: 0.05585663648470079, correction:0.005870163462547463\n",
            "485[x]  no correction: 0.04343861341837238, correction:0.07489777988335647\n",
            "485 x does not work\n",
            "485[y]  no correction: 0.05223429265779862, correction:0.34040631335330235\n",
            "485 y does not work\n",
            "485[z]  no correction: 0.04071460860374298, correction:0.20700282718739912\n",
            "485 z does not work\n",
            "485[Vx]  no correction: 0.031732829171412645, correction:0.21096047508740656\n",
            "485 Vx does not work\n",
            "485[Vy]  no correction: 0.5334566403406916, correction:0.8353830618204406\n",
            "485 Vy does not work\n"
          ],
          "name": "stdout"
        },
        {
          "output_type": "stream",
          "text": [
            "\r 81%|████████  | 486/600 [5:22:21<3:37:09, 114.30s/it]"
          ],
          "name": "stderr"
        },
        {
          "output_type": "stream",
          "text": [
            "485[Vz]  no correction: 0.035069012123145483, correction:0.28671394163200115\n",
            "485 Vz does not work\n",
            "486[x]  no correction: 0.15850882049423257, correction:0.130362499625657\n",
            "486[y]  no correction: 0.14166705787164977, correction:0.15870121254225725\n",
            "486 y does not work\n",
            "486[z]  no correction: 0.05617076314888624, correction:0.06539624202853402\n",
            "486 z does not work\n",
            "486[Vx]  no correction: 0.20286890043465822, correction:0.19498273342745373\n",
            "486[Vy]  no correction: 0.11908140787611414, correction:0.13477074464114844\n",
            "486 Vy does not work\n"
          ],
          "name": "stdout"
        },
        {
          "output_type": "stream",
          "text": [
            "\r 81%|████████  | 487/600 [5:22:48<2:45:49, 88.05s/it] "
          ],
          "name": "stderr"
        },
        {
          "output_type": "stream",
          "text": [
            "486[Vz]  no correction: 0.08840989150154055, correction:0.10869455327515674\n",
            "486 Vz does not work\n",
            "487[x]  no correction: 0.1619224405916849, correction:0.7550811272846633\n",
            "487 x does not work\n",
            "487[y]  no correction: 0.07049866620477274, correction:0.6225343891213926\n",
            "487 y does not work\n",
            "487[z]  no correction: 0.09789026665329031, correction:0.8460328844525098\n",
            "487 z does not work\n",
            "487[Vx]  no correction: 0.5592310563261594, correction:0.9774989049187484\n",
            "487 Vx does not work\n",
            "487[Vy]  no correction: 0.4996262832331541, correction:0.9803156108865033\n",
            "487 Vy does not work\n"
          ],
          "name": "stdout"
        },
        {
          "output_type": "stream",
          "text": [
            "\r 81%|████████▏ | 488/600 [5:25:40<3:31:36, 113.36s/it]"
          ],
          "name": "stderr"
        },
        {
          "output_type": "stream",
          "text": [
            "487[Vz]  no correction: 0.5634993360920835, correction:0.9931358562224114\n",
            "487 Vz does not work\n",
            "488[x]  no correction: 0.016546968244417367, correction:0.0001440011320818873\n",
            "488[y]  no correction: 0.04234894019100476, correction:0.00011109990715337728\n",
            "488[z]  no correction: 0.0613647444302619, correction:8.394901284795506e-05\n",
            "488[Vx]  no correction: 0.018830337519493978, correction:0.0001915481573856396\n",
            "488[Vy]  no correction: 0.020889517748638745, correction:7.342312301282515e-05\n"
          ],
          "name": "stdout"
        },
        {
          "output_type": "stream",
          "text": [
            "\r 82%|████████▏ | 489/600 [5:26:51<3:05:55, 100.50s/it]"
          ],
          "name": "stderr"
        },
        {
          "output_type": "stream",
          "text": [
            "488[Vz]  no correction: 0.030984854198575378, correction:0.00022222596875965165\n",
            "489[x]  no correction: 0.004073545644475311, correction:0.00032407685981712735\n",
            "489[y]  no correction: 0.014319741698955685, correction:0.0009732186177526128\n",
            "489[z]  no correction: 0.019949204563437208, correction:0.0009904050567534316\n",
            "489[Vx]  no correction: 0.011204009142578755, correction:0.0005367790472950535\n",
            "489[Vy]  no correction: 0.009048585738190083, correction:0.0016825902363509773\n"
          ],
          "name": "stdout"
        },
        {
          "output_type": "stream",
          "text": [
            "\r 82%|████████▏ | 490/600 [5:30:17<4:02:14, 132.13s/it]"
          ],
          "name": "stderr"
        },
        {
          "output_type": "stream",
          "text": [
            "489[Vz]  no correction: 0.003633722917417581, correction:0.000634191219761548\n",
            "490[x]  no correction: 0.31975941410475534, correction:0.13965793052218706\n",
            "490[y]  no correction: 0.2580849525992935, correction:0.23124209234038304\n",
            "490[z]  no correction: 0.2824654263244501, correction:0.0827224419169084\n",
            "490[Vx]  no correction: 0.9990959504484667, correction:0.9990816161515294\n",
            "490[Vy]  no correction: 0.9463998051017041, correction:0.936421399010954\n"
          ],
          "name": "stdout"
        },
        {
          "output_type": "stream",
          "text": [
            "\r 82%|████████▏ | 491/600 [5:30:36<2:58:31, 98.27s/it] "
          ],
          "name": "stderr"
        },
        {
          "output_type": "stream",
          "text": [
            "490[Vz]  no correction: 0.7488246198066774, correction:0.558597849230879\n",
            "491[x]  no correction: 0.002917166737587316, correction:0.00022435578598889414\n",
            "491[y]  no correction: 0.0002738156129392698, correction:0.00022146229746077467\n",
            "491[z]  no correction: 0.002734299537262527, correction:0.0014819141904695399\n",
            "491[Vx]  no correction: 0.00704462346189919, correction:0.00519519687500039\n",
            "491[Vy]  no correction: 0.003789035200962836, correction:0.0027688431408906433\n"
          ],
          "name": "stdout"
        },
        {
          "output_type": "stream",
          "text": [
            "\r 82%|████████▏ | 492/600 [5:31:04<2:18:49, 77.13s/it]"
          ],
          "name": "stderr"
        },
        {
          "output_type": "stream",
          "text": [
            "491[Vz]  no correction: 0.0035514971241451757, correction:0.0037079482797969096\n",
            "491 Vz does not work\n",
            "492[x]  no correction: 0.15849476397681694, correction:0.06075808894861275\n",
            "492[y]  no correction: 0.1347449850677392, correction:0.07664950334764668\n",
            "492[z]  no correction: 0.13965271213541008, correction:0.07276151757596883\n",
            "492[Vx]  no correction: 0.19428966600540568, correction:0.12456309784121648\n",
            "492[Vy]  no correction: 0.08946422547933065, correction:0.050736752997917786\n"
          ],
          "name": "stdout"
        },
        {
          "output_type": "stream",
          "text": [
            "\r 82%|████████▏ | 493/600 [5:31:35<1:53:10, 63.46s/it]"
          ],
          "name": "stderr"
        },
        {
          "output_type": "stream",
          "text": [
            "492[Vz]  no correction: 0.11849023115049255, correction:0.07144506766396165\n",
            "493[x]  no correction: 0.04149587210702017, correction:0.029576110074315813\n",
            "493[y]  no correction: 0.023937433355143232, correction:0.004589534653860418\n",
            "493[z]  no correction: 0.018227935087904802, correction:0.004029850872766692\n",
            "493[Vx]  no correction: 0.018392926795083465, correction:0.004730591852839283\n",
            "493[Vy]  no correction: 0.048247075810772144, correction:0.0172362433945009\n"
          ],
          "name": "stdout"
        },
        {
          "output_type": "stream",
          "text": [
            "\r 82%|████████▏ | 494/600 [5:31:53<1:27:52, 49.74s/it]"
          ],
          "name": "stderr"
        },
        {
          "output_type": "stream",
          "text": [
            "493[Vz]  no correction: 0.007464995393199368, correction:0.009557854174528674\n",
            "493 Vz does not work\n",
            "494[x]  no correction: 0.04495175772176604, correction:0.0015007115682047715\n",
            "494[y]  no correction: 0.03172886304982009, correction:0.002645712308231417\n",
            "494[z]  no correction: 0.054394323493060934, correction:0.001280642004841199\n",
            "494[Vx]  no correction: 0.0430277459661512, correction:0.0019747982069471667\n",
            "494[Vy]  no correction: 0.022295672408661885, correction:0.0012480788553705944\n"
          ],
          "name": "stdout"
        },
        {
          "output_type": "stream",
          "text": [
            "\r 82%|████████▎ | 495/600 [5:33:15<1:43:45, 59.29s/it]"
          ],
          "name": "stderr"
        },
        {
          "output_type": "stream",
          "text": [
            "494[Vz]  no correction: 0.045399089185253295, correction:0.0017927004002252697\n",
            "495[x]  no correction: 0.00350966181124073, correction:0.0008183781397995683\n",
            "495[y]  no correction: 0.005830974790497047, correction:0.0008537481735504261\n",
            "495[z]  no correction: 0.005802398002519722, correction:0.001931710178567314\n",
            "495[Vx]  no correction: 0.009098659463110963, correction:0.004079450529064437\n",
            "495[Vy]  no correction: 0.0015503634598864426, correction:0.0001643622024255642\n"
          ],
          "name": "stdout"
        },
        {
          "output_type": "stream",
          "text": [
            "\r 83%|████████▎ | 496/600 [5:34:08<1:39:43, 57.53s/it]"
          ],
          "name": "stderr"
        },
        {
          "output_type": "stream",
          "text": [
            "495[Vz]  no correction: 0.002698406283728186, correction:0.0007818868747725308\n",
            "496[x]  no correction: 0.2096075428569673, correction:0.1482931650493752\n",
            "496[y]  no correction: 0.1444749500592475, correction:0.1741419422179165\n",
            "496 y does not work\n",
            "496[z]  no correction: 0.19281223267391912, correction:0.14256485044325537\n",
            "496[Vx]  no correction: 0.2177659961654093, correction:0.2364910121486099\n",
            "496 Vx does not work\n",
            "496[Vy]  no correction: 0.13248468787389098, correction:0.17585640221043866\n",
            "496 Vy does not work\n"
          ],
          "name": "stdout"
        },
        {
          "output_type": "stream",
          "text": [
            "\r 83%|████████▎ | 497/600 [5:34:31<1:20:44, 47.04s/it]"
          ],
          "name": "stderr"
        },
        {
          "output_type": "stream",
          "text": [
            "496[Vz]  no correction: 0.27689547598084785, correction:0.26438638424765104\n",
            "497[x]  no correction: 0.02522978976941295, correction:0.01406843864982647\n",
            "497[y]  no correction: 0.01529484747714824, correction:0.02607833327797741\n",
            "497 y does not work\n",
            "497[z]  no correction: 0.006275109598756191, correction:0.004802217340516159\n",
            "497[Vx]  no correction: 0.004742056910665217, correction:0.006805137529942683\n",
            "497 Vx does not work\n",
            "497[Vy]  no correction: 0.005945311341313677, correction:0.007037495047996016\n",
            "497 Vy does not work\n"
          ],
          "name": "stdout"
        },
        {
          "output_type": "stream",
          "text": [
            "\r 83%|████████▎ | 498/600 [5:34:48<1:04:50, 38.14s/it]"
          ],
          "name": "stderr"
        },
        {
          "output_type": "stream",
          "text": [
            "497[Vz]  no correction: 0.011703962740838899, correction:0.00534874643523442\n",
            "498[x]  no correction: 0.0049775421281010555, correction:0.0037521124069932487\n",
            "498[y]  no correction: 0.030666760312548814, correction:0.0064271788066792585\n",
            "498[z]  no correction: 0.009619499204648541, correction:0.0025055954696931223\n",
            "498[Vx]  no correction: 0.006342748102418126, correction:0.01109436603831502\n",
            "498 Vx does not work\n",
            "498[Vy]  no correction: 0.01814202157658982, correction:0.006762430604039885\n"
          ],
          "name": "stdout"
        },
        {
          "output_type": "stream",
          "text": [
            "\r 83%|████████▎ | 499/600 [5:35:00<51:06, 30.36s/it]  "
          ],
          "name": "stderr"
        },
        {
          "output_type": "stream",
          "text": [
            "498[Vz]  no correction: 0.01983360674449798, correction:0.009421959902698243\n",
            "499[x]  no correction: 0.04530047612233411, correction:0.011091783277781783\n",
            "499[y]  no correction: 0.012643362438163549, correction:0.006980235740019554\n",
            "499[z]  no correction: 0.023453627272978297, correction:0.0031801077918226237\n",
            "499[Vx]  no correction: 0.014307690730212243, correction:0.014039893772627876\n",
            "499[Vy]  no correction: 0.020516364999279956, correction:0.021133993038680195\n",
            "499 Vy does not work\n"
          ],
          "name": "stdout"
        },
        {
          "output_type": "stream",
          "text": [
            "\r 83%|████████▎ | 500/600 [5:35:21<46:03, 27.64s/it]"
          ],
          "name": "stderr"
        },
        {
          "output_type": "stream",
          "text": [
            "499[Vz]  no correction: 0.02359822942146486, correction:0.01483436332483642\n",
            "500[x]  no correction: 0.019992317093052957, correction:0.003201040234699614\n",
            "500[y]  no correction: 0.0064085418417466075, correction:0.001097843110486368\n",
            "500[z]  no correction: 0.002179774218154654, correction:0.0019378253769400263\n",
            "500[Vx]  no correction: 0.00935655068097898, correction:0.011180365208795912\n",
            "500 Vx does not work\n",
            "500[Vy]  no correction: 0.012253127507856383, correction:0.0073859017074500285\n"
          ],
          "name": "stdout"
        },
        {
          "output_type": "stream",
          "text": [
            "\r 84%|████████▎ | 501/600 [5:35:54<48:04, 29.14s/it]"
          ],
          "name": "stderr"
        },
        {
          "output_type": "stream",
          "text": [
            "500[Vz]  no correction: 0.0037691236792654383, correction:0.006470733986578515\n",
            "500 Vz does not work\n",
            "501[x]  no correction: 0.1884861956957162, correction:0.0011296179283330015\n",
            "501[y]  no correction: 0.16153730780382702, correction:0.002959242953429642\n",
            "501[z]  no correction: 0.08479150395495097, correction:0.007190776885916041\n",
            "501[Vx]  no correction: 0.17183441513303394, correction:0.005503801199507662\n",
            "501[Vy]  no correction: 0.1840835289514857, correction:0.009012423073230654\n"
          ],
          "name": "stdout"
        },
        {
          "output_type": "stream",
          "text": [
            "\r 84%|████████▎ | 502/600 [5:37:54<1:31:52, 56.25s/it]"
          ],
          "name": "stderr"
        },
        {
          "output_type": "stream",
          "text": [
            "501[Vz]  no correction: 0.12557410918680093, correction:0.005228552304151913\n",
            "502[x]  no correction: 0.34387197102362077, correction:0.11664427717298563\n",
            "502[y]  no correction: 0.2570924797581143, correction:0.14875118306134347\n",
            "502[z]  no correction: 0.3047748511550778, correction:0.14316352149222572\n",
            "502[Vx]  no correction: 0.33037366886810227, correction:0.23900016065587146\n",
            "502[Vy]  no correction: 0.22058491937844696, correction:0.1493009156876385\n"
          ],
          "name": "stdout"
        },
        {
          "output_type": "stream",
          "text": [
            "\r 84%|████████▍ | 503/600 [5:38:13<1:12:53, 45.08s/it]"
          ],
          "name": "stderr"
        },
        {
          "output_type": "stream",
          "text": [
            "502[Vz]  no correction: 0.3237441268942505, correction:0.23611661471055082\n",
            "503[x]  no correction: 0.0075750015120463485, correction:0.0011686084638380925\n",
            "503[y]  no correction: 0.0026926994169881027, correction:0.0013269973650528732\n",
            "503[z]  no correction: 0.006104465230378972, correction:0.0011542159086275635\n",
            "503[Vx]  no correction: 0.006079639220947437, correction:0.0006531576994208841\n",
            "503[Vy]  no correction: 0.002541847854781067, correction:0.000988191922582633\n"
          ],
          "name": "stdout"
        },
        {
          "output_type": "stream",
          "text": [
            "\r 84%|████████▍ | 504/600 [5:38:43<1:05:06, 40.69s/it]"
          ],
          "name": "stderr"
        },
        {
          "output_type": "stream",
          "text": [
            "503[Vz]  no correction: 0.007607199154317885, correction:0.000768951549591921\n",
            "504[x]  no correction: 0.0420332272750356, correction:0.04130500064650358\n",
            "504[y]  no correction: 0.021233860552059926, correction:0.01006013319520853\n",
            "504[z]  no correction: 0.023212463823701283, correction:0.0651513065639841\n",
            "504 z does not work\n",
            "504[Vx]  no correction: 0.0515345533444179, correction:0.13343362191921732\n",
            "504 Vx does not work\n",
            "504[Vy]  no correction: 0.006891200128848427, correction:0.0625747155699797\n",
            "504 Vy does not work\n"
          ],
          "name": "stdout"
        },
        {
          "output_type": "stream",
          "text": [
            "\r 84%|████████▍ | 505/600 [5:38:55<50:46, 32.07s/it]  "
          ],
          "name": "stderr"
        },
        {
          "output_type": "stream",
          "text": [
            "504[Vz]  no correction: 0.007189883821945885, correction:0.027538467842447057\n",
            "504 Vz does not work\n",
            "505[x]  no correction: 0.024634981162856843, correction:0.00012542065572572925\n",
            "505[y]  no correction: 0.015362458472213281, correction:0.0002830510724119311\n",
            "505[z]  no correction: 0.02570498535835056, correction:0.00022143866062182094\n",
            "505[Vx]  no correction: 0.04998745388994845, correction:0.0014333849288040033\n",
            "505[Vy]  no correction: 0.01431226050294772, correction:0.0003331813806632755\n"
          ],
          "name": "stdout"
        },
        {
          "output_type": "stream",
          "text": [
            "\r 84%|████████▍ | 506/600 [5:39:46<58:56, 37.62s/it]"
          ],
          "name": "stderr"
        },
        {
          "output_type": "stream",
          "text": [
            "505[Vz]  no correction: 0.040029887910536445, correction:0.0012085213315858388\n",
            "506[x]  no correction: 0.002130984625381981, correction:0.0021378463044944254\n",
            "506 x does not work\n",
            "506[y]  no correction: 0.006495291871239957, correction:0.004872194655361148\n",
            "506[z]  no correction: 0.0026768089505143327, correction:0.000791223113502577\n",
            "506[Vx]  no correction: 0.0030466305417640085, correction:0.00213682838603981\n",
            "506[Vy]  no correction: 0.0009740506193907808, correction:0.0019084835570451248\n",
            "506 Vy does not work\n"
          ],
          "name": "stdout"
        },
        {
          "output_type": "stream",
          "text": [
            "\r 84%|████████▍ | 507/600 [5:40:05<49:46, 32.11s/it]"
          ],
          "name": "stderr"
        },
        {
          "output_type": "stream",
          "text": [
            "506[Vz]  no correction: 0.00142398259026453, correction:0.0011648958819847162\n",
            "507[x]  no correction: 0.1573914676859445, correction:0.03098118224769963\n",
            "507[y]  no correction: 0.03816358676068409, correction:0.013547157138954302\n",
            "507[z]  no correction: 0.08092320961137059, correction:0.045621101375304354\n",
            "507[Vx]  no correction: 0.16475761284294904, correction:0.10811823940027934\n",
            "507[Vy]  no correction: 0.059998555208774416, correction:0.08868192825948305\n",
            "507 Vy does not work\n"
          ],
          "name": "stdout"
        },
        {
          "output_type": "stream",
          "text": [
            "\r 85%|████████▍ | 508/600 [5:40:22<42:34, 27.76s/it]"
          ],
          "name": "stderr"
        },
        {
          "output_type": "stream",
          "text": [
            "507[Vz]  no correction: 0.16463518175932643, correction:0.09730796160774917\n",
            "508[x]  no correction: 0.09986385276070364, correction:0.03149672193141528\n",
            "508[y]  no correction: 0.08028065509774485, correction:0.0070717900240165514\n",
            "508[z]  no correction: 0.1262584906095527, correction:0.008044823605554493\n",
            "508[Vx]  no correction: 0.07459474243802384, correction:0.011879848047322722\n",
            "508[Vy]  no correction: 0.07336473349094716, correction:0.011868115568968373\n"
          ],
          "name": "stdout"
        },
        {
          "output_type": "stream",
          "text": [
            "\r 85%|████████▍ | 509/600 [5:40:47<40:33, 26.74s/it]"
          ],
          "name": "stderr"
        },
        {
          "output_type": "stream",
          "text": [
            "508[Vz]  no correction: 0.14576762251575465, correction:0.009947566022027647\n",
            "509[x]  no correction: 0.002604384063488843, correction:0.0001370081348645166\n",
            "509[y]  no correction: 0.011707979343838886, correction:0.0004805103353745452\n",
            "509[z]  no correction: 0.0031832811878957476, correction:0.0007815529310879786\n",
            "509[Vx]  no correction: 0.008316157324422969, correction:0.0002346591062559795\n",
            "509[Vy]  no correction: 0.00298784989497629, correction:0.00038583958451001224\n"
          ],
          "name": "stdout"
        },
        {
          "output_type": "stream",
          "text": [
            "\r 85%|████████▌ | 510/600 [5:42:09<1:05:08, 43.43s/it]"
          ],
          "name": "stderr"
        },
        {
          "output_type": "stream",
          "text": [
            "509[Vz]  no correction: 0.004041753858943999, correction:0.00039190508841279126\n",
            "510[x]  no correction: 0.17331410723211285, correction:0.008138592807765754\n",
            "510[y]  no correction: 0.2481787129684016, correction:0.009115008613186747\n",
            "510[z]  no correction: 0.2844934671195337, correction:0.005651187319294998\n",
            "510[Vx]  no correction: 0.15553293755713057, correction:0.025248084699020713\n",
            "510[Vy]  no correction: 0.19450133045607756, correction:0.01854031886865611\n"
          ],
          "name": "stdout"
        },
        {
          "output_type": "stream",
          "text": [
            "\r 85%|████████▌ | 511/600 [5:42:58<1:06:53, 45.10s/it]"
          ],
          "name": "stderr"
        },
        {
          "output_type": "stream",
          "text": [
            "510[Vz]  no correction: 0.2516000947952223, correction:0.028448635514784403\n",
            "511[x]  no correction: 0.13267528116559552, correction:0.0805381255769941\n",
            "511[y]  no correction: 0.2753094569597558, correction:0.1811139875653783\n",
            "511[z]  no correction: 0.12218150711071415, correction:0.11271161198852453\n",
            "511[Vx]  no correction: 0.10251512427401285, correction:0.058013249167361836\n",
            "511[Vy]  no correction: 0.220229369121355, correction:0.14509979627335923\n"
          ],
          "name": "stdout"
        },
        {
          "output_type": "stream",
          "text": [
            "\r 85%|████████▌ | 512/600 [5:43:25<57:58, 39.53s/it]  "
          ],
          "name": "stderr"
        },
        {
          "output_type": "stream",
          "text": [
            "511[Vz]  no correction: 0.12696868583577234, correction:0.0895403067153523\n",
            "512[x]  no correction: 0.010360707288267365, correction:0.00022199579550156423\n",
            "512[y]  no correction: 0.00560156312522769, correction:0.0001411564292119822\n",
            "512[z]  no correction: 0.03535940574585371, correction:0.004136780330747707\n",
            "512[Vx]  no correction: 0.024753188215903315, correction:0.0005161077420006447\n",
            "512[Vy]  no correction: 0.015475250452528927, correction:0.0009800785751119534\n"
          ],
          "name": "stdout"
        },
        {
          "output_type": "stream",
          "text": [
            "\r 86%|████████▌ | 513/600 [5:43:45<48:59, 33.78s/it]"
          ],
          "name": "stderr"
        },
        {
          "output_type": "stream",
          "text": [
            "512[Vz]  no correction: 0.019220076755381142, correction:0.0003831994011163432\n",
            "513[x]  no correction: 0.02811260327728803, correction:0.014902709357140477\n",
            "513[y]  no correction: 0.019124044355531306, correction:0.009179284246689215\n",
            "513[z]  no correction: 0.011618432789829058, correction:0.010738966595460976\n",
            "513[Vx]  no correction: 0.04300622579122716, correction:0.06549621538527839\n",
            "513 Vx does not work\n",
            "513[Vy]  no correction: 0.010725906454810709, correction:0.10908018773158168\n",
            "513 Vy does not work\n"
          ],
          "name": "stdout"
        },
        {
          "output_type": "stream",
          "text": [
            "\r 86%|████████▌ | 514/600 [5:43:57<39:00, 27.21s/it]"
          ],
          "name": "stderr"
        },
        {
          "output_type": "stream",
          "text": [
            "513[Vz]  no correction: 0.007586281419585288, correction:0.10240363886436614\n",
            "513 Vz does not work\n",
            "514[x]  no correction: 0.39637856031070295, correction:0.37319022759634\n",
            "514[y]  no correction: 0.43800242351155155, correction:0.3755103350302827\n",
            "514[z]  no correction: 0.4323178450917914, correction:0.3996465437644197\n",
            "514[Vx]  no correction: 0.5292459355115446, correction:0.5676010281472038\n",
            "514 Vx does not work\n",
            "514[Vy]  no correction: 0.4456321104321878, correction:0.4871421855669353\n",
            "514 Vy does not work\n"
          ],
          "name": "stdout"
        },
        {
          "output_type": "stream",
          "text": [
            "\r 86%|████████▌ | 515/600 [5:44:23<37:53, 26.75s/it]"
          ],
          "name": "stderr"
        },
        {
          "output_type": "stream",
          "text": [
            "514[Vz]  no correction: 0.4039998593963349, correction:0.490924881962676\n",
            "514 Vz does not work\n",
            "515[x]  no correction: 0.5299759902541847, correction:0.8812990313702513\n",
            "515 x does not work\n",
            "515[y]  no correction: 0.3357622645087396, correction:0.892181825471728\n",
            "515 y does not work\n",
            "515[z]  no correction: 0.4388886579778027, correction:0.9308388018422096\n",
            "515 z does not work\n",
            "515[Vx]  no correction: 0.9108143588350912, correction:0.9875736866129199\n",
            "515 Vx does not work\n",
            "515[Vy]  no correction: 0.6318454416082964, correction:0.9444257032620298\n",
            "515 Vy does not work\n"
          ],
          "name": "stdout"
        },
        {
          "output_type": "stream",
          "text": [
            "\r 86%|████████▌ | 516/600 [5:46:47<1:26:42, 61.93s/it]"
          ],
          "name": "stderr"
        },
        {
          "output_type": "stream",
          "text": [
            "515[Vz]  no correction: 0.459277027202395, correction:0.8853114452103938\n",
            "515 Vz does not work\n",
            "516[x]  no correction: 0.2774174942084229, correction:0.03155834017251369\n",
            "516[y]  no correction: 0.2746318033452296, correction:0.07171454839101596\n",
            "516[z]  no correction: 0.14570548353794663, correction:0.08433854086112931\n",
            "516[Vx]  no correction: 0.2525734386029604, correction:0.15844720596196912\n",
            "516[Vy]  no correction: 0.24951370510940488, correction:0.15310606242809846\n"
          ],
          "name": "stdout"
        },
        {
          "output_type": "stream",
          "text": [
            "\r 86%|████████▌ | 517/600 [5:47:07<1:08:36, 49.60s/it]"
          ],
          "name": "stderr"
        },
        {
          "output_type": "stream",
          "text": [
            "516[Vz]  no correction: 0.1557526093376504, correction:0.07410148127257012\n",
            "517[x]  no correction: 0.3746023005357289, correction:0.14407785118953148\n",
            "517[y]  no correction: 0.304949499567158, correction:0.21021637037603608\n",
            "517[z]  no correction: 0.2997097726871988, correction:0.19763999629406426\n",
            "517[Vx]  no correction: 0.3503753469659892, correction:0.3144312431358736\n",
            "517[Vy]  no correction: 0.29789902071105434, correction:0.3219264110075514\n",
            "517 Vy does not work\n"
          ],
          "name": "stdout"
        },
        {
          "output_type": "stream",
          "text": [
            "\r 86%|████████▋ | 518/600 [5:47:26<54:54, 40.18s/it]  "
          ],
          "name": "stderr"
        },
        {
          "output_type": "stream",
          "text": [
            "517[Vz]  no correction: 0.26861919491587216, correction:0.2438982175558476\n",
            "518[x]  no correction: 0.017491569376164483, correction:0.003727299876905674\n",
            "518[y]  no correction: 0.020260584265743405, correction:0.008022942387474492\n",
            "518[z]  no correction: 0.009466412235151385, correction:0.009935237963488996\n",
            "518 z does not work\n",
            "518[Vx]  no correction: 0.7300787148977416, correction:0.5974067172635151\n",
            "518[Vy]  no correction: 0.1022328109413778, correction:0.08131714371062423\n"
          ],
          "name": "stdout"
        },
        {
          "output_type": "stream",
          "text": [
            "\r 86%|████████▋ | 519/600 [5:47:47<46:39, 34.57s/it]"
          ],
          "name": "stderr"
        },
        {
          "output_type": "stream",
          "text": [
            "518[Vz]  no correction: 0.026468745291924122, correction:0.01077746142000708\n",
            "519[x]  no correction: 0.006536382406443028, correction:0.0010104393482863144\n",
            "519[y]  no correction: 0.0028411080335625756, correction:0.0015975203136437183\n",
            "519[z]  no correction: 0.012583041248209978, correction:0.00190576892443211\n",
            "519[Vx]  no correction: 0.014709611293348334, correction:0.018165722058554885\n",
            "519 Vx does not work\n",
            "519[Vy]  no correction: 0.0035091795762415686, correction:0.0012996080467096577\n"
          ],
          "name": "stdout"
        },
        {
          "output_type": "stream",
          "text": [
            "\r 87%|████████▋ | 520/600 [5:48:07<40:01, 30.02s/it]"
          ],
          "name": "stderr"
        },
        {
          "output_type": "stream",
          "text": [
            "519[Vz]  no correction: 0.006245393789282066, correction:0.0016550098031128213\n",
            "520[x]  no correction: 0.0022510870069185995, correction:0.0024095908057305397\n",
            "520 x does not work\n",
            "520[y]  no correction: 0.008732878999371212, correction:0.002141413723878796\n",
            "520[z]  no correction: 0.021975180100810843, correction:0.0035793949350412186\n",
            "520[Vx]  no correction: 0.005980113957126468, correction:0.0023297832226183775\n",
            "520[Vy]  no correction: 0.016090802681882507, correction:0.005422591632244689\n"
          ],
          "name": "stdout"
        },
        {
          "output_type": "stream",
          "text": [
            "\r 87%|████████▋ | 521/600 [5:48:29<36:21, 27.61s/it]"
          ],
          "name": "stderr"
        },
        {
          "output_type": "stream",
          "text": [
            "520[Vz]  no correction: 0.006417261701259383, correction:0.0019719269148018143\n",
            "521[x]  no correction: 0.014652224662657422, correction:0.001093630467321976\n",
            "521[y]  no correction: 0.004918805362249078, correction:0.0007286787192475222\n",
            "521[z]  no correction: 0.028858797252244398, correction:0.009452248854670556\n",
            "521[Vx]  no correction: 0.014726282186158964, correction:0.001572133297070529\n",
            "521[Vy]  no correction: 0.03202105543335048, correction:0.007656588297200769\n"
          ],
          "name": "stdout"
        },
        {
          "output_type": "stream",
          "text": [
            "\r 87%|████████▋ | 522/600 [5:48:50<33:22, 25.68s/it]"
          ],
          "name": "stderr"
        },
        {
          "output_type": "stream",
          "text": [
            "521[Vz]  no correction: 0.008368684874164527, correction:0.00045144199197174977\n",
            "522[x]  no correction: 0.11282909703170695, correction:0.0011959311801194728\n",
            "522[y]  no correction: 0.2055482803494288, correction:0.0010380818117055519\n",
            "522[z]  no correction: 0.2288224780029575, correction:0.0011349731718480142\n",
            "522[Vx]  no correction: 0.12099908372117643, correction:0.0018880153025846583\n",
            "522[Vy]  no correction: 0.17789723357344747, correction:0.002459259136344181\n"
          ],
          "name": "stdout"
        },
        {
          "output_type": "stream",
          "text": [
            "\r 87%|████████▋ | 523/600 [5:49:32<39:16, 30.61s/it]"
          ],
          "name": "stderr"
        },
        {
          "output_type": "stream",
          "text": [
            "522[Vz]  no correction: 0.20366564572436968, correction:0.009541896497059513\n",
            "523[x]  no correction: 0.6146223463140652, correction:0.6163918222836379\n",
            "523 x does not work\n",
            "523[y]  no correction: 0.6184121707239348, correction:0.6385979426411906\n",
            "523 y does not work\n",
            "523[z]  no correction: 0.573751168571326, correction:0.5992204628077988\n",
            "523 z does not work\n",
            "523[Vx]  no correction: 0.6641236417156895, correction:0.6863590383782219\n",
            "523 Vx does not work\n",
            "523[Vy]  no correction: 0.6329871798087192, correction:0.6343714621148886\n",
            "523 Vy does not work\n"
          ],
          "name": "stdout"
        },
        {
          "output_type": "stream",
          "text": [
            "\r 87%|████████▋ | 524/600 [5:50:06<40:12, 31.74s/it]"
          ],
          "name": "stderr"
        },
        {
          "output_type": "stream",
          "text": [
            "523[Vz]  no correction: 0.6865133945224879, correction:0.6875065967498756\n",
            "523 Vz does not work\n",
            "524[x]  no correction: 0.029458072507408246, correction:0.2368370183244726\n",
            "524 x does not work\n",
            "524[y]  no correction: 0.0072064854276439145, correction:0.03289616558965088\n",
            "524 y does not work\n",
            "524[z]  no correction: 0.018526105967200286, correction:0.07512918586975206\n",
            "524 z does not work\n",
            "524[Vx]  no correction: 0.05076850603465047, correction:0.5910712673043658\n",
            "524 Vx does not work\n",
            "524[Vy]  no correction: 0.11623192350055223, correction:0.7340127027923936\n",
            "524 Vy does not work\n"
          ],
          "name": "stdout"
        },
        {
          "output_type": "stream",
          "text": [
            "\r 88%|████████▊ | 525/600 [5:53:25<1:42:25, 81.94s/it]"
          ],
          "name": "stderr"
        },
        {
          "output_type": "stream",
          "text": [
            "524[Vz]  no correction: 0.01115092768864254, correction:0.4306377242866178\n",
            "524 Vz does not work\n",
            "525[x]  no correction: 0.011419555982015092, correction:0.005901592717045471\n",
            "525[y]  no correction: 0.005404966733959817, correction:0.004769919957161826\n",
            "525[z]  no correction: 0.007331826894318422, correction:0.005202969292919478\n",
            "525[Vx]  no correction: 0.028346744082071343, correction:0.04029143559937707\n",
            "525 Vx does not work\n",
            "525[Vy]  no correction: 0.0651906111449472, correction:0.0838769594057285\n",
            "525 Vy does not work\n"
          ],
          "name": "stdout"
        },
        {
          "output_type": "stream",
          "text": [
            "\r 88%|████████▊ | 526/600 [5:53:43<1:17:27, 62.81s/it]"
          ],
          "name": "stderr"
        },
        {
          "output_type": "stream",
          "text": [
            "525[Vz]  no correction: 0.08773376159483738, correction:0.08596319428453027\n",
            "526[x]  no correction: 0.01291542072403457, correction:0.01875218482039275\n",
            "526 x does not work\n",
            "526[y]  no correction: 0.007520282272563538, correction:0.010338582366021705\n",
            "526 y does not work\n",
            "526[z]  no correction: 0.01482252258326967, correction:0.02061093628461842\n",
            "526 z does not work\n",
            "526[Vx]  no correction: 0.005773349224734667, correction:0.013451973549302776\n",
            "526 Vx does not work\n",
            "526[Vy]  no correction: 0.010700996226169603, correction:0.015698309364632228\n",
            "526 Vy does not work\n"
          ],
          "name": "stdout"
        },
        {
          "output_type": "stream",
          "text": [
            "\r 88%|████████▊ | 527/600 [5:54:14<1:04:30, 53.01s/it]"
          ],
          "name": "stderr"
        },
        {
          "output_type": "stream",
          "text": [
            "526[Vz]  no correction: 0.008958762555746586, correction:0.013124800093830224\n",
            "526 Vz does not work\n",
            "527[x]  no correction: 0.002876623400632262, correction:0.0003121724835462197\n",
            "527[y]  no correction: 0.0022268293548689715, correction:0.0062313182912337875\n",
            "527 y does not work\n",
            "527[z]  no correction: 0.01249818768048659, correction:0.00870249234632091\n",
            "527[Vx]  no correction: 0.004102713187412727, correction:0.0009273825800726021\n",
            "527[Vy]  no correction: 0.007531636808030558, correction:0.0010245476959245433\n"
          ],
          "name": "stdout"
        },
        {
          "output_type": "stream",
          "text": [
            "\r 88%|████████▊ | 528/600 [5:54:42<54:38, 45.53s/it]  "
          ],
          "name": "stderr"
        },
        {
          "output_type": "stream",
          "text": [
            "527[Vz]  no correction: 0.007174155135514212, correction:0.006745836880933252\n",
            "528[x]  no correction: 0.2943991009569537, correction:0.09213698985033944\n",
            "528[y]  no correction: 0.15052112408141322, correction:0.14752065407674855\n",
            "528[z]  no correction: 0.15560096115294128, correction:0.15134793906883548\n",
            "528[Vx]  no correction: 0.4215183943202832, correction:0.3614239440615734\n",
            "528[Vy]  no correction: 0.12682511992254814, correction:0.09136188446691676\n"
          ],
          "name": "stdout"
        },
        {
          "output_type": "stream",
          "text": [
            "\r 88%|████████▊ | 529/600 [5:54:59<43:46, 37.00s/it]"
          ],
          "name": "stderr"
        },
        {
          "output_type": "stream",
          "text": [
            "528[Vz]  no correction: 0.16129466667146114, correction:0.14410102144424464\n",
            "529[x]  no correction: 0.012161073946426001, correction:0.00905692769882556\n",
            "529[y]  no correction: 0.0040852388360017745, correction:0.003725048452670252\n",
            "529[z]  no correction: 0.008144545636393778, correction:0.002853607489555736\n",
            "529[Vx]  no correction: 0.008378002549286776, correction:0.005436571643789399\n",
            "529[Vy]  no correction: 0.002105045606211719, correction:0.0021866986461456578\n",
            "529 Vy does not work\n"
          ],
          "name": "stdout"
        },
        {
          "output_type": "stream",
          "text": [
            "\r 88%|████████▊ | 530/600 [5:55:41<45:03, 38.61s/it]"
          ],
          "name": "stderr"
        },
        {
          "output_type": "stream",
          "text": [
            "529[Vz]  no correction: 0.005446122517825877, correction:0.005160272808258464\n",
            "530[x]  no correction: 0.3836020224447506, correction:0.09904505450241419\n",
            "530[y]  no correction: 0.27123737321080377, correction:0.1769071553879445\n",
            "530[z]  no correction: 0.3979519495510804, correction:0.3513815273496245\n",
            "530[Vx]  no correction: 0.7920302811359946, correction:0.7211097497479084\n",
            "530[Vy]  no correction: 0.7353866935595503, correction:0.5482455267404818\n"
          ],
          "name": "stdout"
        },
        {
          "output_type": "stream",
          "text": [
            "\r 88%|████████▊ | 531/600 [5:56:01<37:56, 32.99s/it]"
          ],
          "name": "stderr"
        },
        {
          "output_type": "stream",
          "text": [
            "530[Vz]  no correction: 0.41098347068070157, correction:0.4252198294941994\n",
            "530 Vz does not work\n",
            "531[x]  no correction: 0.006819225553503222, correction:0.009342875491457903\n",
            "531 x does not work\n",
            "531[y]  no correction: 0.0010689491663161824, correction:0.0010476366961566946\n",
            "531[z]  no correction: 0.008536480115673114, correction:0.0047055959469095\n",
            "531[Vx]  no correction: 0.0019347242515841338, correction:0.0002706553268059357\n",
            "531[Vy]  no correction: 0.000428303262430012, correction:0.00019900242459437405\n"
          ],
          "name": "stdout"
        },
        {
          "output_type": "stream",
          "text": [
            "\r 89%|████████▊ | 532/600 [5:56:20<32:34, 28.74s/it]"
          ],
          "name": "stderr"
        },
        {
          "output_type": "stream",
          "text": [
            "531[Vz]  no correction: 0.0018498693474726755, correction:0.001687718496453683\n",
            "532[x]  no correction: 0.133969954125438, correction:0.013449357687060941\n"
          ],
          "name": "stdout"
        },
        {
          "output_type": "stream",
          "text": [
            "WARNING:fbprophet:Optimization terminated abnormally. Falling back to Newton.\n"
          ],
          "name": "stderr"
        },
        {
          "output_type": "stream",
          "text": [
            "532[y]  no correction: 0.19850057749414635, correction:0.08830566036902825\n",
            "532[z]  no correction: 0.10160121787648813, correction:0.0308663049469678\n",
            "532[Vx]  no correction: 0.16694980647755633, correction:0.145494452736188\n",
            "532[Vy]  no correction: 0.19429241545863363, correction:0.08240707098670826\n"
          ],
          "name": "stdout"
        },
        {
          "output_type": "stream",
          "text": [
            "\r 89%|████████▉ | 533/600 [5:56:48<32:04, 28.72s/it]"
          ],
          "name": "stderr"
        },
        {
          "output_type": "stream",
          "text": [
            "532[Vz]  no correction: 0.10465723328731878, correction:0.0339634941189016\n",
            "533[x]  no correction: 0.01658664163977688, correction:0.0004903763254769528\n",
            "533[y]  no correction: 0.010070448354671984, correction:0.00040595494285750126\n",
            "533[z]  no correction: 0.012108081324535303, correction:0.0009524679556213931\n",
            "533[Vx]  no correction: 0.016163619733801746, correction:0.0012780178316175196\n",
            "533[Vy]  no correction: 0.014602673776662708, correction:0.0013536799045879694\n"
          ],
          "name": "stdout"
        },
        {
          "output_type": "stream",
          "text": [
            "\r 89%|████████▉ | 534/600 [5:58:18<51:36, 46.91s/it]"
          ],
          "name": "stderr"
        },
        {
          "output_type": "stream",
          "text": [
            "533[Vz]  no correction: 0.025382381189344137, correction:0.003827442069188603\n",
            "534[x]  no correction: 0.20498993970322796, correction:0.06315673503828922\n",
            "534[y]  no correction: 0.1448143731771793, correction:0.11653451827684704\n",
            "534[z]  no correction: 0.10918180653205073, correction:0.045044528690384736\n",
            "534[Vx]  no correction: 0.23274645755002746, correction:0.19916565227296684\n",
            "534[Vy]  no correction: 0.14942974201419806, correction:0.12102277857503257\n"
          ],
          "name": "stdout"
        },
        {
          "output_type": "stream",
          "text": [
            "\r 89%|████████▉ | 535/600 [5:58:45<44:15, 40.86s/it]"
          ],
          "name": "stderr"
        },
        {
          "output_type": "stream",
          "text": [
            "534[Vz]  no correction: 0.12849993396583118, correction:0.11007856337592523\n",
            "535[x]  no correction: 0.001263067301361019, correction:0.0003235134475605729\n",
            "535[y]  no correction: 0.006773738095445506, correction:0.000435703742601069\n",
            "535[z]  no correction: 0.0023655506139997205, correction:0.0005235751396915738\n",
            "535[Vx]  no correction: 0.0013823697890567432, correction:0.0003391649755525762\n",
            "535[Vy]  no correction: 0.0007048056987834785, correction:0.00023700767591660555\n"
          ],
          "name": "stdout"
        },
        {
          "output_type": "stream",
          "text": [
            "\r 89%|████████▉ | 536/600 [6:00:11<58:06, 54.47s/it]WARNING:fbprophet:Optimization terminated abnormally. Falling back to Newton.\n"
          ],
          "name": "stderr"
        },
        {
          "output_type": "stream",
          "text": [
            "535[Vz]  no correction: 0.0017263857287318255, correction:0.002234658703678011\n",
            "535 Vz does not work\n"
          ],
          "name": "stdout"
        },
        {
          "output_type": "stream",
          "text": [
            "WARNING:fbprophet:Optimization terminated abnormally. Falling back to Newton.\n"
          ],
          "name": "stderr"
        },
        {
          "output_type": "stream",
          "text": [
            "536[x]  no correction: 0.015190885700982242, correction:0.028273064467276007\n",
            "536 x does not work\n",
            "536[y]  no correction: 0.006135738717527121, correction:0.014165356058655067\n",
            "536 y does not work\n"
          ],
          "name": "stdout"
        },
        {
          "output_type": "stream",
          "text": [
            "WARNING:fbprophet:Optimization terminated abnormally. Falling back to Newton.\n"
          ],
          "name": "stderr"
        },
        {
          "output_type": "stream",
          "text": [
            "536[z]  no correction: 0.010840284710850193, correction:0.005009639081723021\n",
            "536[Vx]  no correction: 0.040151924142875065, correction:0.0716519772314098\n",
            "536 Vx does not work\n"
          ],
          "name": "stdout"
        },
        {
          "output_type": "stream",
          "text": [
            "WARNING:fbprophet:Optimization terminated abnormally. Falling back to Newton.\n"
          ],
          "name": "stderr"
        },
        {
          "output_type": "stream",
          "text": [
            "536[Vy]  no correction: 0.0038953419143317133, correction:0.0122997143742413\n",
            "536 Vy does not work\n"
          ],
          "name": "stdout"
        },
        {
          "output_type": "stream",
          "text": [
            "\r 90%|████████▉ | 537/600 [6:00:40<49:07, 46.78s/it]"
          ],
          "name": "stderr"
        },
        {
          "output_type": "stream",
          "text": [
            "536[Vz]  no correction: 0.0058601345054542986, correction:0.03999428721202695\n",
            "536 Vz does not work\n",
            "537[x]  no correction: 0.007144063780783845, correction:0.001074409987232938\n",
            "537[y]  no correction: 0.004851054635182835, correction:0.0012086451911328196\n",
            "537[z]  no correction: 0.006071059521382897, correction:0.0009754683650456274\n",
            "537[Vx]  no correction: 0.005632717018844552, correction:0.0009358109118084604\n",
            "537[Vy]  no correction: 0.013504954539290048, correction:0.003600557021732597\n"
          ],
          "name": "stdout"
        },
        {
          "output_type": "stream",
          "text": [
            "\r 90%|████████▉ | 538/600 [6:01:00<40:17, 38.99s/it]"
          ],
          "name": "stderr"
        },
        {
          "output_type": "stream",
          "text": [
            "537[Vz]  no correction: 0.005195795047904344, correction:0.0021746791855621487\n",
            "538[x]  no correction: 0.009318092463739781, correction:0.0017222928612542641\n",
            "538[y]  no correction: 0.0042099558302138036, correction:0.0010306745725451485\n",
            "538[z]  no correction: 0.03475185846249951, correction:0.001306806143169673\n",
            "538[Vx]  no correction: 0.010196429846242857, correction:0.0030283957299176746\n",
            "538[Vy]  no correction: 0.022679072759450022, correction:0.0031810107152077153\n"
          ],
          "name": "stdout"
        },
        {
          "output_type": "stream",
          "text": [
            "\r 90%|████████▉ | 539/600 [6:01:30<36:41, 36.09s/it]"
          ],
          "name": "stderr"
        },
        {
          "output_type": "stream",
          "text": [
            "538[Vz]  no correction: 0.033347321021224355, correction:0.009112989307401983\n",
            "539[x]  no correction: 0.015519188673512466, correction:0.0026180570202683625\n",
            "539[y]  no correction: 0.011466504642386018, correction:0.0017040095817839396\n",
            "539[z]  no correction: 0.0016934184838789243, correction:0.0012977842340070433\n",
            "539[Vx]  no correction: 0.0035820965007257394, correction:0.001640662329357617\n",
            "539[Vy]  no correction: 0.006714788843642632, correction:0.001230378634486873\n"
          ],
          "name": "stdout"
        },
        {
          "output_type": "stream",
          "text": [
            "\r 90%|█████████ | 540/600 [6:01:47<30:27, 30.45s/it]"
          ],
          "name": "stderr"
        },
        {
          "output_type": "stream",
          "text": [
            "539[Vz]  no correction: 0.0066491602522344324, correction:0.0011539445645578328\n",
            "540[x]  no correction: 0.00043850138436885163, correction:0.0004052216458750338\n",
            "540[y]  no correction: 0.002143307554337426, correction:0.0003959111136383336\n",
            "540[z]  no correction: 0.002118385408061133, correction:0.0003970088658723355\n",
            "540[Vx]  no correction: 0.0012369940897884472, correction:0.00039340224324965035\n",
            "540[Vy]  no correction: 0.0008034373358099175, correction:0.0003886014399983615\n"
          ],
          "name": "stdout"
        },
        {
          "output_type": "stream",
          "text": [
            "\r 90%|█████████ | 541/600 [6:02:10<27:52, 28.34s/it]"
          ],
          "name": "stderr"
        },
        {
          "output_type": "stream",
          "text": [
            "540[Vz]  no correction: 0.0009062190047613082, correction:0.00041376056573083967\n",
            "541[x]  no correction: 0.005927165432639429, correction:0.0025663922541297917\n",
            "541[y]  no correction: 0.0060899423874395935, correction:0.0013972621181661117\n",
            "541[z]  no correction: 0.003432231917099338, correction:0.0010676133832958643\n",
            "541[Vx]  no correction: 0.00699633412280475, correction:0.0025389995698684217\n",
            "541[Vy]  no correction: 0.012849290807987097, correction:0.008437398825436515\n"
          ],
          "name": "stdout"
        },
        {
          "output_type": "stream",
          "text": [
            "\r 90%|█████████ | 542/600 [6:02:28<24:17, 25.12s/it]"
          ],
          "name": "stderr"
        },
        {
          "output_type": "stream",
          "text": [
            "541[Vz]  no correction: 0.0039644099931612185, correction:0.007752288606836338\n",
            "541 Vz does not work\n",
            "542[x]  no correction: 0.07328898462360475, correction:0.003963208761682127\n",
            "542[y]  no correction: 0.02247158212628603, correction:0.002690970774474858\n",
            "542[z]  no correction: 0.05318008713519507, correction:0.006537113524319209\n",
            "542[Vx]  no correction: 0.058066084058458756, correction:0.0052801823123733915\n",
            "542[Vy]  no correction: 0.01580607947619928, correction:0.006054561965227995\n"
          ],
          "name": "stdout"
        },
        {
          "output_type": "stream",
          "text": [
            "\r 90%|█████████ | 543/600 [6:02:54<24:08, 25.41s/it]"
          ],
          "name": "stderr"
        },
        {
          "output_type": "stream",
          "text": [
            "542[Vz]  no correction: 0.034110212881687876, correction:0.011012192056189212\n",
            "543[x]  no correction: 0.14343912834056896, correction:0.034166835561789524\n",
            "543[y]  no correction: 0.16572157132734036, correction:0.07431720997668156\n",
            "543[z]  no correction: 0.1161959082678868, correction:0.08651500485596383\n",
            "543[Vx]  no correction: 0.09681486352695201, correction:0.08522852877750207\n",
            "543[Vy]  no correction: 0.2603167654711232, correction:0.15614108648290356\n"
          ],
          "name": "stdout"
        },
        {
          "output_type": "stream",
          "text": [
            "\r 91%|█████████ | 544/600 [6:03:06<20:00, 21.43s/it]"
          ],
          "name": "stderr"
        },
        {
          "output_type": "stream",
          "text": [
            "543[Vz]  no correction: 0.1095105554841857, correction:0.08493595583649927\n",
            "544[x]  no correction: 0.2804165857780367, correction:0.06669508884720117\n",
            "544[y]  no correction: 0.12845918600233228, correction:0.06189522079806838\n",
            "544[z]  no correction: 0.15866568126160713, correction:0.10717097378136921\n",
            "544[Vx]  no correction: 0.22375993410706072, correction:0.15577949769336294\n",
            "544[Vy]  no correction: 0.049855123310143454, correction:0.03917007557734806\n"
          ],
          "name": "stdout"
        },
        {
          "output_type": "stream",
          "text": [
            "\r 91%|█████████ | 545/600 [6:03:24<18:32, 20.22s/it]"
          ],
          "name": "stderr"
        },
        {
          "output_type": "stream",
          "text": [
            "544[Vz]  no correction: 0.18004387304997155, correction:0.12570886233484233\n",
            "545[x]  no correction: 0.003151989582841513, correction:0.00021649404964024194\n",
            "545[y]  no correction: 0.0017335190188897032, correction:0.0002104077664094291\n",
            "545[z]  no correction: 0.003604647763555407, correction:0.00020140812736603965\n",
            "545[Vx]  no correction: 0.0035469841809407433, correction:0.0004232550255563417\n",
            "545[Vy]  no correction: 0.0018199087812864195, correction:0.00015576123195384803\n"
          ],
          "name": "stdout"
        },
        {
          "output_type": "stream",
          "text": [
            "\r 91%|█████████ | 546/600 [6:03:44<18:09, 20.18s/it]"
          ],
          "name": "stderr"
        },
        {
          "output_type": "stream",
          "text": [
            "545[Vz]  no correction: 0.002641624213543875, correction:0.00011387071642383573\n",
            "546[x]  no correction: 0.16965849635155383, correction:0.03916637941196592\n",
            "546[y]  no correction: 0.0884972202221233, correction:0.019871225511923513\n",
            "546[z]  no correction: 0.11094040323346126, correction:0.06897091939954601\n",
            "546[Vx]  no correction: 0.13635892084495335, correction:0.08755310716048037\n",
            "546[Vy]  no correction: 0.06291273964977792, correction:0.04237929438697895\n"
          ],
          "name": "stdout"
        },
        {
          "output_type": "stream",
          "text": [
            "\r 91%|█████████ | 547/600 [6:04:03<17:30, 19.82s/it]"
          ],
          "name": "stderr"
        },
        {
          "output_type": "stream",
          "text": [
            "546[Vz]  no correction: 0.11158486496778333, correction:0.0796597496786733\n",
            "547[x]  no correction: 0.014994214347668447, correction:0.0013107710131122757\n",
            "547[y]  no correction: 0.01180330859419069, correction:0.0016082733959524047\n",
            "547[z]  no correction: 0.011789742886987673, correction:0.0017687568644976818\n",
            "547[Vx]  no correction: 0.021356632841716915, correction:0.0023268389757601497\n",
            "547[Vy]  no correction: 0.007446235141106431, correction:0.0016123746227011662\n"
          ],
          "name": "stdout"
        },
        {
          "output_type": "stream",
          "text": [
            "\r 91%|█████████▏| 548/600 [6:04:23<17:11, 19.83s/it]"
          ],
          "name": "stderr"
        },
        {
          "output_type": "stream",
          "text": [
            "547[Vz]  no correction: 0.013791093990688836, correction:0.0031558853232766457\n",
            "548[x]  no correction: 0.15899846762538364, correction:0.11599168836567202\n",
            "548[y]  no correction: 0.16381167663732404, correction:0.07384638270348642\n"
          ],
          "name": "stdout"
        },
        {
          "output_type": "stream",
          "text": [
            "WARNING:fbprophet:Optimization terminated abnormally. Falling back to Newton.\n"
          ],
          "name": "stderr"
        },
        {
          "output_type": "stream",
          "text": [
            "548[z]  no correction: 0.24140370432040734, correction:0.09429478044798004\n"
          ],
          "name": "stdout"
        },
        {
          "output_type": "stream",
          "text": [
            "WARNING:fbprophet:Optimization terminated abnormally. Falling back to Newton.\n"
          ],
          "name": "stderr"
        },
        {
          "output_type": "stream",
          "text": [
            "548[Vx]  no correction: 0.1378394235806489, correction:0.14356011655711054\n",
            "548 Vx does not work\n",
            "548[Vy]  no correction: 0.15549803049604508, correction:0.12859581203160306\n"
          ],
          "name": "stdout"
        },
        {
          "output_type": "stream",
          "text": [
            "\r 92%|█████████▏| 549/600 [6:04:48<18:10, 21.38s/it]"
          ],
          "name": "stderr"
        },
        {
          "output_type": "stream",
          "text": [
            "548[Vz]  no correction: 0.23356774638223993, correction:0.14963426862354218\n",
            "549[x]  no correction: 0.010665233386058126, correction:0.0029148418858000653\n",
            "549[y]  no correction: 0.0685737761387132, correction:0.0024939308822941454\n",
            "549[z]  no correction: 0.03418320397442053, correction:0.00782186907944393\n",
            "549[Vx]  no correction: 0.036346437595530245, correction:0.0035764920704590354\n",
            "549[Vy]  no correction: 0.030046512661103423, correction:0.004969159062920226\n"
          ],
          "name": "stdout"
        },
        {
          "output_type": "stream",
          "text": [
            "\r 92%|█████████▏| 550/600 [6:05:05<16:49, 20.19s/it]"
          ],
          "name": "stderr"
        },
        {
          "output_type": "stream",
          "text": [
            "549[Vz]  no correction: 0.02110198502106914, correction:0.004868890190455913\n",
            "550[x]  no correction: 0.47180675880300926, correction:0.12389255143457531\n",
            "550[y]  no correction: 0.3101323759595112, correction:0.1493466215468683\n",
            "550[z]  no correction: 0.24230446218956384, correction:0.1750796935290673\n",
            "550[Vx]  no correction: 0.4050696278165662, correction:0.30584906303047904\n",
            "550[Vy]  no correction: 0.2845706341561919, correction:0.24540607277644763\n"
          ],
          "name": "stdout"
        },
        {
          "output_type": "stream",
          "text": [
            "\r 92%|█████████▏| 551/600 [6:05:26<16:33, 20.28s/it]"
          ],
          "name": "stderr"
        },
        {
          "output_type": "stream",
          "text": [
            "550[Vz]  no correction: 0.26171881988362367, correction:0.18529679484679493\n",
            "551[x]  no correction: 0.01178627405035272, correction:0.002987574322057212\n",
            "551[y]  no correction: 0.019630221164263686, correction:0.009589366085124697\n",
            "551[z]  no correction: 0.011152434389289518, correction:0.0027541848941684583\n",
            "551[Vx]  no correction: 0.0073579909539155655, correction:0.011768161027808713\n",
            "551 Vx does not work\n",
            "551[Vy]  no correction: 0.007576449367374096, correction:0.004136886488338672\n"
          ],
          "name": "stdout"
        },
        {
          "output_type": "stream",
          "text": [
            "\r 92%|█████████▏| 552/600 [6:05:37<14:09, 17.70s/it]"
          ],
          "name": "stderr"
        },
        {
          "output_type": "stream",
          "text": [
            "551[Vz]  no correction: 0.006971562306998652, correction:0.0064262631508884265\n",
            "552[x]  no correction: 0.05126231380756001, correction:0.005418293981812235\n",
            "552[y]  no correction: 0.050210665531645125, correction:0.004615402372963889\n",
            "552[z]  no correction: 0.02267167471857328, correction:0.009184667349376424\n",
            "552[Vx]  no correction: 0.017316770800276857, correction:0.009168794418231605\n",
            "552[Vy]  no correction: 0.9341473161013553, correction:0.8113789612362874\n"
          ],
          "name": "stdout"
        },
        {
          "output_type": "stream",
          "text": [
            "\r 92%|█████████▏| 553/600 [6:05:55<13:53, 17.73s/it]"
          ],
          "name": "stderr"
        },
        {
          "output_type": "stream",
          "text": [
            "552[Vz]  no correction: 0.015703183263931476, correction:0.0036217344448721675\n",
            "553[x]  no correction: 0.003579514700818835, correction:0.0021236583459662145\n",
            "553[y]  no correction: 0.003320902847636473, correction:0.0013971368358754684\n",
            "553[z]  no correction: 0.0028432523932643565, correction:0.0017635119489301104\n",
            "553[Vx]  no correction: 0.009157595852121976, correction:0.006043856443636241\n",
            "553[Vy]  no correction: 0.002132595828579752, correction:0.0012280424130245893\n"
          ],
          "name": "stdout"
        },
        {
          "output_type": "stream",
          "text": [
            "\r 92%|█████████▏| 554/600 [6:06:29<17:18, 22.58s/it]"
          ],
          "name": "stderr"
        },
        {
          "output_type": "stream",
          "text": [
            "553[Vz]  no correction: 0.008990605617340148, correction:0.006051381261404498\n",
            "554[x]  no correction: 0.02151630037310182, correction:0.406423210666376\n",
            "554 x does not work\n",
            "554[y]  no correction: 0.026315137459598504, correction:0.1008094731260204\n",
            "554 y does not work\n",
            "554[z]  no correction: 0.011864293322113556, correction:0.07834611771454372\n",
            "554 z does not work\n",
            "554[Vx]  no correction: 0.033027709620104706, correction:0.5007038441502749\n",
            "554 Vx does not work\n",
            "554[Vy]  no correction: 0.008422532041587173, correction:0.2360358651061654\n",
            "554 Vy does not work\n"
          ],
          "name": "stdout"
        },
        {
          "output_type": "stream",
          "text": [
            "\r 92%|█████████▎| 555/600 [6:31:20<5:47:24, 463.21s/it]"
          ],
          "name": "stderr"
        },
        {
          "output_type": "stream",
          "text": [
            "554[Vz]  no correction: 0.02703144571843425, correction:0.15418997561902467\n",
            "554 Vz does not work\n",
            "555[x]  no correction: 0.006011821605767258, correction:0.006818082884918015\n",
            "555 x does not work\n",
            "555[y]  no correction: 0.006211581494221313, correction:0.007405152022180141\n",
            "555 y does not work\n",
            "555[z]  no correction: 0.005062424605540412, correction:0.0063642343250839015\n",
            "555 z does not work\n",
            "555[Vx]  no correction: 0.0055915225051677755, correction:0.007292815051526208\n",
            "555 Vx does not work\n",
            "555[Vy]  no correction: 0.0061322813653355585, correction:0.007665454520163508\n",
            "555 Vy does not work\n"
          ],
          "name": "stdout"
        },
        {
          "output_type": "stream",
          "text": [
            "\r 93%|█████████▎| 556/600 [6:31:57<4:05:49, 335.22s/it]"
          ],
          "name": "stderr"
        },
        {
          "output_type": "stream",
          "text": [
            "555[Vz]  no correction: 0.005176558138999962, correction:0.006501312116372129\n",
            "555 Vz does not work\n",
            "556[x]  no correction: 0.5834921906189224, correction:0.2901898409562663\n",
            "556[y]  no correction: 0.386140596753687, correction:0.24743550656586524\n"
          ],
          "name": "stdout"
        },
        {
          "output_type": "stream",
          "text": [
            "WARNING:fbprophet:Optimization terminated abnormally. Falling back to Newton.\n"
          ],
          "name": "stderr"
        },
        {
          "output_type": "stream",
          "text": [
            "556[z]  no correction: 0.6142766676548401, correction:0.3453120494639361\n",
            "556[Vx]  no correction: 0.48670202882749836, correction:0.4022734795345893\n"
          ],
          "name": "stdout"
        },
        {
          "output_type": "stream",
          "text": [
            "WARNING:fbprophet:Optimization terminated abnormally. Falling back to Newton.\n"
          ],
          "name": "stderr"
        },
        {
          "output_type": "stream",
          "text": [
            "556[Vy]  no correction: 0.3445554089961591, correction:0.36408407848562285\n",
            "556 Vy does not work\n"
          ],
          "name": "stdout"
        },
        {
          "output_type": "stream",
          "text": [
            "\r 93%|█████████▎| 557/600 [6:32:19<2:52:50, 241.17s/it]"
          ],
          "name": "stderr"
        },
        {
          "output_type": "stream",
          "text": [
            "556[Vz]  no correction: 0.5417631659673726, correction:0.37433932427841604\n",
            "557[x]  no correction: 0.0030161672064464725, correction:0.000570250081135848\n",
            "557[y]  no correction: 0.0015081635679987382, correction:0.00026113131347228145\n",
            "557[z]  no correction: 0.0035199541471997594, correction:0.00048211506213818\n",
            "557[Vx]  no correction: 0.0012907247225721263, correction:0.00017190639451220008\n",
            "557[Vy]  no correction: 0.0038371533117035734, correction:0.0005558964573765098\n"
          ],
          "name": "stdout"
        },
        {
          "output_type": "stream",
          "text": [
            "\r 93%|█████████▎| 558/600 [6:33:03<2:07:33, 182.22s/it]"
          ],
          "name": "stderr"
        },
        {
          "output_type": "stream",
          "text": [
            "557[Vz]  no correction: 0.012895216523692327, correction:0.0014549009628478137\n",
            "558[x]  no correction: 0.03317555046650023, correction:0.01045584629078119\n",
            "558[y]  no correction: 0.006465906951131875, correction:0.0003226738099251628\n",
            "558[z]  no correction: 0.0015403389526781471, correction:0.00023862035820103965\n",
            "558[Vx]  no correction: 0.002518515308564576, correction:0.00024606240790701195\n",
            "558[Vy]  no correction: 0.009568854108410593, correction:0.0004970131956551365\n"
          ],
          "name": "stdout"
        },
        {
          "output_type": "stream",
          "text": [
            "\r 93%|█████████▎| 559/600 [6:33:23<1:31:07, 133.35s/it]"
          ],
          "name": "stderr"
        },
        {
          "output_type": "stream",
          "text": [
            "558[Vz]  no correction: 0.0021400249513417024, correction:0.00019001204933072886\n",
            "559[x]  no correction: 0.04123951797644598, correction:0.00234910528371139\n",
            "559[y]  no correction: 0.02429985197042524, correction:0.009404060241312994\n",
            "559[z]  no correction: 0.05608893212477442, correction:0.005953971343517133\n",
            "559[Vx]  no correction: 0.033799102724319574, correction:0.02093539402704703\n",
            "559[Vy]  no correction: 0.024453189287556257, correction:0.00177473172006147\n"
          ],
          "name": "stdout"
        },
        {
          "output_type": "stream",
          "text": [
            "\r 93%|█████████▎| 560/600 [6:33:46<1:06:52, 100.32s/it]"
          ],
          "name": "stderr"
        },
        {
          "output_type": "stream",
          "text": [
            "559[Vz]  no correction: 0.06730461171476822, correction:0.04911519399288792\n",
            "560[x]  no correction: 0.005304380226626463, correction:0.0004481505178588407\n",
            "560[y]  no correction: 0.019576935596050997, correction:0.00801222012972739\n",
            "560[z]  no correction: 0.003163316231893933, correction:0.0004235802278656448\n",
            "560[Vx]  no correction: 0.005595433280055729, correction:0.003072415284298194\n",
            "560[Vy]  no correction: 0.004339429143910545, correction:0.0020289462103776695\n"
          ],
          "name": "stdout"
        },
        {
          "output_type": "stream",
          "text": [
            "\r 94%|█████████▎| 561/600 [6:34:06<49:35, 76.29s/it]   "
          ],
          "name": "stderr"
        },
        {
          "output_type": "stream",
          "text": [
            "560[Vz]  no correction: 0.039665746992687864, correction:0.02769083234505767\n",
            "561[x]  no correction: 0.018699585632823503, correction:0.0030616327055278105\n",
            "561[y]  no correction: 0.016266385442946982, correction:0.003163742580031524\n",
            "561[z]  no correction: 0.026474610310923026, correction:0.002875186037200105\n",
            "561[Vx]  no correction: 0.021365375054495785, correction:0.0332630228904271\n",
            "561 Vx does not work\n",
            "561[Vy]  no correction: 0.05949691239676558, correction:0.03360352106438751\n"
          ],
          "name": "stdout"
        },
        {
          "output_type": "stream",
          "text": [
            "\r 94%|█████████▎| 562/600 [6:34:18<36:07, 57.03s/it]"
          ],
          "name": "stderr"
        },
        {
          "output_type": "stream",
          "text": [
            "561[Vz]  no correction: 0.011314491055829441, correction:0.004627332853091072\n",
            "562[x]  no correction: 0.0029343555071022756, correction:0.0010581328031175625\n",
            "562[y]  no correction: 0.00938876247417188, correction:0.0008760965904024296\n",
            "562[z]  no correction: 0.0004906737038442124, correction:0.00026191264463461364\n",
            "562[Vx]  no correction: 0.0021920582035367493, correction:0.0006430697177501432\n",
            "562[Vy]  no correction: 0.0020287061479114946, correction:0.000586168673466655\n"
          ],
          "name": "stdout"
        },
        {
          "output_type": "stream",
          "text": [
            "\r 94%|█████████▍| 563/600 [6:35:42<40:11, 65.17s/it]"
          ],
          "name": "stderr"
        },
        {
          "output_type": "stream",
          "text": [
            "562[Vz]  no correction: 0.0019041676811604425, correction:0.0004964211432230837\n",
            "563[x]  no correction: 0.04526066398840449, correction:0.06859345563140049\n",
            "563 x does not work\n",
            "563[y]  no correction: 0.02428825428206357, correction:0.0256586806470283\n",
            "563 y does not work\n",
            "563[z]  no correction: 0.043673084089751985, correction:0.024310907885558047\n",
            "563[Vx]  no correction: 0.026446185007900518, correction:0.03911801218004019\n",
            "563 Vx does not work\n",
            "563[Vy]  no correction: 0.062279093726113816, correction:0.07073866779598086\n",
            "563 Vy does not work\n"
          ],
          "name": "stdout"
        },
        {
          "output_type": "stream",
          "text": [
            "\r 94%|█████████▍| 564/600 [6:35:54<29:27, 49.11s/it]"
          ],
          "name": "stderr"
        },
        {
          "output_type": "stream",
          "text": [
            "563[Vz]  no correction: 0.08514910548241579, correction:0.16562334288014455\n",
            "563 Vz does not work\n",
            "564[x]  no correction: 0.007391962452805818, correction:0.0012426199467601331\n",
            "564[y]  no correction: 0.04450548667445805, correction:0.004915238135492747\n",
            "564[z]  no correction: 0.03925583451795962, correction:0.004876234555148882\n",
            "564[Vx]  no correction: 0.0035727436446374326, correction:0.0010017647227199954\n",
            "564[Vy]  no correction: 0.02503899195209981, correction:0.007127319887167287\n"
          ],
          "name": "stdout"
        },
        {
          "output_type": "stream",
          "text": [
            "\r 94%|█████████▍| 565/600 [6:36:14<23:32, 40.37s/it]"
          ],
          "name": "stderr"
        },
        {
          "output_type": "stream",
          "text": [
            "564[Vz]  no correction: 0.0032150470643645267, correction:0.0013568230336425005\n",
            "565[x]  no correction: 0.004104662027744989, correction:0.0006972861308501607\n",
            "565[y]  no correction: 0.04609765817087285, correction:0.006182351214177084\n",
            "565[z]  no correction: 0.008197574786675259, correction:0.000519089043007041\n",
            "565[Vx]  no correction: 0.008073631098040877, correction:0.019745802291360436\n",
            "565 Vx does not work\n",
            "565[Vy]  no correction: 0.0038284231610916297, correction:0.0017150800189494164\n"
          ],
          "name": "stdout"
        },
        {
          "output_type": "stream",
          "text": [
            "\r 94%|█████████▍| 566/600 [6:36:35<19:37, 34.64s/it]"
          ],
          "name": "stderr"
        },
        {
          "output_type": "stream",
          "text": [
            "565[Vz]  no correction: 0.0031108501459224495, correction:0.0015313410314787127\n",
            "566[x]  no correction: 0.17531709007174515, correction:0.13585235967573017\n",
            "566[y]  no correction: 0.1348640944277352, correction:0.10038552446897735\n",
            "566[z]  no correction: 0.18972644834820526, correction:0.055925053299557805\n",
            "566[Vx]  no correction: 0.17862022598002147, correction:0.17239965564824744\n",
            "566[Vy]  no correction: 0.11123805492147705, correction:0.12768211053056802\n",
            "566 Vy does not work\n"
          ],
          "name": "stdout"
        },
        {
          "output_type": "stream",
          "text": [
            "\r 94%|█████████▍| 567/600 [6:36:57<16:59, 30.90s/it]"
          ],
          "name": "stderr"
        },
        {
          "output_type": "stream",
          "text": [
            "566[Vz]  no correction: 0.20474102868128208, correction:0.18429463042931987\n",
            "567[x]  no correction: 0.00177535638845922, correction:0.000805051548324407\n",
            "567[y]  no correction: 0.007220905157408176, correction:0.0016632528603245645\n",
            "567[z]  no correction: 0.008359631824842834, correction:0.0019093620172220681\n",
            "567[Vx]  no correction: 0.0028931793459949077, correction:0.0006720631841854761\n",
            "567[Vy]  no correction: 0.01075620852140453, correction:0.01636168435479894\n",
            "567 Vy does not work\n"
          ],
          "name": "stdout"
        },
        {
          "output_type": "stream",
          "text": [
            "\r 95%|█████████▍| 568/600 [6:37:17<14:45, 27.66s/it]"
          ],
          "name": "stderr"
        },
        {
          "output_type": "stream",
          "text": [
            "567[Vz]  no correction: 0.0021352617090978528, correction:0.001296367196033897\n",
            "568[x]  no correction: 0.01852267612270377, correction:0.01219091348180326\n",
            "568[y]  no correction: 0.023733121014032722, correction:0.009204691793966633\n",
            "568[z]  no correction: 0.004604141665083906, correction:0.0022337611792148052\n",
            "568[Vx]  no correction: 0.007941552717716072, correction:0.005677341858233724\n",
            "568[Vy]  no correction: 0.015067465416504887, correction:0.009982487991080152\n"
          ],
          "name": "stdout"
        },
        {
          "output_type": "stream",
          "text": [
            "\r 95%|█████████▍| 569/600 [6:37:42<13:48, 26.74s/it]"
          ],
          "name": "stderr"
        },
        {
          "output_type": "stream",
          "text": [
            "568[Vz]  no correction: 0.06106591496959674, correction:0.01155816410468264\n",
            "569[x]  no correction: 0.004855256968405713, correction:0.0038920019303896967\n",
            "569[y]  no correction: 0.0013786565352102932, correction:0.002312747940172399\n",
            "569 y does not work\n",
            "569[z]  no correction: 0.001644540927324249, correction:0.0008249452108811564\n",
            "569[Vx]  no correction: 0.011221867301359972, correction:0.005923493217670724\n",
            "569[Vy]  no correction: 0.013020911856290411, correction:0.010147802863242784\n"
          ],
          "name": "stdout"
        },
        {
          "output_type": "stream",
          "text": [
            "\r 95%|█████████▌| 570/600 [6:38:14<14:10, 28.37s/it]"
          ],
          "name": "stderr"
        },
        {
          "output_type": "stream",
          "text": [
            "569[Vz]  no correction: 0.002825715814184709, correction:0.0024045061496262227\n",
            "570[x]  no correction: 0.12723317238899934, correction:0.0594671593733986\n",
            "570[y]  no correction: 0.026443866089578688, correction:0.04376915502056289\n",
            "570 y does not work\n",
            "570[z]  no correction: 0.12317039101207707, correction:0.06335885386446768\n",
            "570[Vx]  no correction: 0.1124630827980657, correction:0.09723834973911329\n",
            "570[Vy]  no correction: 0.0645048972035983, correction:0.050529544554874954\n"
          ],
          "name": "stdout"
        },
        {
          "output_type": "stream",
          "text": [
            "\r 95%|█████████▌| 571/600 [6:38:35<12:36, 26.09s/it]"
          ],
          "name": "stderr"
        },
        {
          "output_type": "stream",
          "text": [
            "570[Vz]  no correction: 0.10805689463304206, correction:0.11191520290781032\n",
            "570 Vz does not work\n",
            "571[x]  no correction: 0.02115801453906, correction:0.018954838549312597\n",
            "571[y]  no correction: 0.005767108830640749, correction:0.004333271224235144\n",
            "571[z]  no correction: 0.015925694270526834, correction:0.008598956168223783\n",
            "571[Vx]  no correction: 0.05494466432338412, correction:0.04723861190455049\n",
            "571[Vy]  no correction: 0.023057170616623466, correction:0.012676367706633935\n"
          ],
          "name": "stdout"
        },
        {
          "output_type": "stream",
          "text": [
            "\r 95%|█████████▌| 572/600 [6:39:02<12:15, 26.28s/it]"
          ],
          "name": "stderr"
        },
        {
          "output_type": "stream",
          "text": [
            "571[Vz]  no correction: 0.006753173962791049, correction:0.006988339181019544\n",
            "571 Vz does not work\n",
            "572[x]  no correction: 0.37059681345215095, correction:0.08719723877491779\n",
            "572[y]  no correction: 0.31016720268955367, correction:0.15377514656777458\n",
            "572[z]  no correction: 0.28347336146333446, correction:0.20430883659984836\n",
            "572[Vx]  no correction: 0.9319564353490223, correction:0.9638384734494397\n",
            "572 Vx does not work\n",
            "572[Vy]  no correction: 0.917997732043055, correction:0.9478726252850557\n",
            "572 Vy does not work\n"
          ],
          "name": "stdout"
        },
        {
          "output_type": "stream",
          "text": [
            "\r 96%|█████████▌| 573/600 [6:39:19<10:38, 23.67s/it]"
          ],
          "name": "stderr"
        },
        {
          "output_type": "stream",
          "text": [
            "572[Vz]  no correction: 0.7581942452871684, correction:0.6802842376206608\n",
            "573[x]  no correction: 0.014672415584971463, correction:0.004599660482646964\n",
            "573[y]  no correction: 0.009542688840604007, correction:0.00336160793878439\n",
            "573[z]  no correction: 0.013638133258701684, correction:0.004305085866354963\n",
            "573[Vx]  no correction: 0.01582089844393235, correction:0.003273452984613425\n",
            "573[Vy]  no correction: 0.025030690425558784, correction:0.005332842449310776\n"
          ],
          "name": "stdout"
        },
        {
          "output_type": "stream",
          "text": [
            "\r 96%|█████████▌| 574/600 [6:39:40<09:48, 22.65s/it]"
          ],
          "name": "stderr"
        },
        {
          "output_type": "stream",
          "text": [
            "573[Vz]  no correction: 0.03466898035161228, correction:0.020551363074894198\n",
            "574[x]  no correction: 0.028664750550284303, correction:0.0453630569165903\n",
            "574 x does not work\n",
            "574[y]  no correction: 0.028235332013684094, correction:0.0449729805914122\n",
            "574 y does not work\n",
            "574[z]  no correction: 0.0334823986192938, correction:0.046721065980858054\n",
            "574 z does not work\n",
            "574[Vx]  no correction: 0.029875390571166234, correction:0.04700188678090673\n",
            "574 Vx does not work\n",
            "574[Vy]  no correction: 0.03562544362056748, correction:0.05158391468204365\n",
            "574 Vy does not work\n"
          ],
          "name": "stdout"
        },
        {
          "output_type": "stream",
          "text": [
            "\r 96%|█████████▌| 575/600 [6:40:04<09:39, 23.19s/it]"
          ],
          "name": "stderr"
        },
        {
          "output_type": "stream",
          "text": [
            "574[Vz]  no correction: 0.024411685074033535, correction:0.04332699317048222\n",
            "574 Vz does not work\n",
            "575[x]  no correction: 0.006163753226993467, correction:0.0005097408196414776\n",
            "575[y]  no correction: 0.008962018606118055, correction:0.0003856806542503651\n",
            "575[z]  no correction: 0.02218037910698231, correction:0.0015673801141167128\n",
            "575[Vx]  no correction: 0.0038819333387330518, correction:0.0003549595247711216\n",
            "575[Vy]  no correction: 0.003640875556709258, correction:0.0004781207821664498\n"
          ],
          "name": "stdout"
        },
        {
          "output_type": "stream",
          "text": [
            "\r 96%|█████████▌| 576/600 [6:40:23<08:48, 22.02s/it]"
          ],
          "name": "stderr"
        },
        {
          "output_type": "stream",
          "text": [
            "575[Vz]  no correction: 0.011651765400244212, correction:0.0013136002794179283\n",
            "576[x]  no correction: 0.0003370137152186787, correction:0.00018711723547174002\n",
            "576[y]  no correction: 0.0018509677087173817, correction:0.00017331823113001356\n",
            "576[z]  no correction: 0.0013170558726177132, correction:0.00029580821825051076\n",
            "576[Vx]  no correction: 0.0019328128010493535, correction:0.00032169890419644014\n",
            "576[Vy]  no correction: 0.0014775184660938074, correction:0.0003538935171694744\n"
          ],
          "name": "stdout"
        },
        {
          "output_type": "stream",
          "text": [
            "\r 96%|█████████▌| 577/600 [6:40:45<08:27, 22.08s/it]"
          ],
          "name": "stderr"
        },
        {
          "output_type": "stream",
          "text": [
            "576[Vz]  no correction: 0.0017201386494699949, correction:0.00029415746169496207\n",
            "577[x]  no correction: 0.0025272564688314575, correction:0.0009858291339294536\n",
            "577[y]  no correction: 0.007760986244241113, correction:0.0010670698899281213\n",
            "577[z]  no correction: 0.0059690467793152464, correction:0.0015397706226150704\n",
            "577[Vx]  no correction: 0.015370720681345656, correction:0.019111483030917753\n",
            "577 Vx does not work\n",
            "577[Vy]  no correction: 0.0026146520790144893, correction:0.0014394790519711973\n"
          ],
          "name": "stdout"
        },
        {
          "output_type": "stream",
          "text": [
            "\r 96%|█████████▋| 578/600 [6:41:08<08:06, 22.11s/it]"
          ],
          "name": "stderr"
        },
        {
          "output_type": "stream",
          "text": [
            "577[Vz]  no correction: 0.0029809919428927293, correction:0.0037653437855387326\n",
            "577 Vz does not work\n",
            "578[x]  no correction: 0.0042349051004709065, correction:0.0005221686709277314\n",
            "578[y]  no correction: 0.00253830058498999, correction:0.0007287760787215367\n",
            "578[z]  no correction: 0.0025204541556980483, correction:0.0009277277415926123\n",
            "578[Vx]  no correction: 0.0038218387666601227, correction:0.0005458032645910275\n",
            "578[Vy]  no correction: 0.0015222291330439241, correction:0.0006276862798507291\n"
          ],
          "name": "stdout"
        },
        {
          "output_type": "stream",
          "text": [
            "\r 96%|█████████▋| 579/600 [6:41:31<07:53, 22.56s/it]"
          ],
          "name": "stderr"
        },
        {
          "output_type": "stream",
          "text": [
            "578[Vz]  no correction: 0.004742442007536084, correction:0.0013575849208334325\n",
            "579[x]  no correction: 0.0022382680696034713, correction:0.0004400025603958718\n",
            "579[y]  no correction: 0.0030043312789212015, correction:0.0003679663353191642\n",
            "579[z]  no correction: 0.0014665766575896833, correction:0.00041078713087362354\n",
            "579[Vx]  no correction: 0.004674376865972986, correction:0.0006436943700793495\n",
            "579[Vy]  no correction: 0.001999927534501277, correction:0.00042207730488300483\n"
          ],
          "name": "stdout"
        },
        {
          "output_type": "stream",
          "text": [
            "\r 97%|█████████▋| 580/600 [6:42:07<08:48, 26.45s/it]"
          ],
          "name": "stderr"
        },
        {
          "output_type": "stream",
          "text": [
            "579[Vz]  no correction: 0.0019960339852485255, correction:0.0005336102323140067\n",
            "580[x]  no correction: 0.0020022474800080996, correction:0.0007511123765287935\n",
            "580[y]  no correction: 0.005857843004155275, correction:0.0017187292065910824\n",
            "580[z]  no correction: 0.00293940376189721, correction:0.000588177100125233\n",
            "580[Vx]  no correction: 0.0036714081615549566, correction:0.0010712792238927462\n",
            "580[Vy]  no correction: 0.010841779473589217, correction:0.0036748459031797683\n"
          ],
          "name": "stdout"
        },
        {
          "output_type": "stream",
          "text": [
            "\r 97%|█████████▋| 581/600 [6:42:25<07:33, 23.87s/it]"
          ],
          "name": "stderr"
        },
        {
          "output_type": "stream",
          "text": [
            "580[Vz]  no correction: 0.000701678696914199, correction:0.0010529407184384078\n",
            "580 Vz does not work\n",
            "581[x]  no correction: 0.038625451859605635, correction:0.0004156824804175184\n",
            "581[y]  no correction: 0.02345287499339168, correction:0.0004056531754714414\n",
            "581[z]  no correction: 0.05440777878786681, correction:0.0006360352921579263\n",
            "581[Vx]  no correction: 0.08695286569563096, correction:0.003311444092124433\n",
            "581[Vy]  no correction: 0.020509979789955814, correction:0.012052891857501313\n"
          ],
          "name": "stdout"
        },
        {
          "output_type": "stream",
          "text": [
            "\r 97%|█████████▋| 582/600 [6:42:48<07:06, 23.70s/it]"
          ],
          "name": "stderr"
        },
        {
          "output_type": "stream",
          "text": [
            "581[Vz]  no correction: 0.018292030609924518, correction:0.0003607847644209632\n",
            "582[x]  no correction: 0.12802896755622895, correction:0.010994972138210804\n",
            "582[y]  no correction: 0.13819478975065938, correction:0.006504365385539323\n",
            "582[z]  no correction: 0.11194481613496209, correction:0.012154258890650776\n",
            "582[Vx]  no correction: 0.16728294412707576, correction:0.013152343759596353\n",
            "582[Vy]  no correction: 0.13318012123073114, correction:0.02674806637174395\n"
          ],
          "name": "stdout"
        },
        {
          "output_type": "stream",
          "text": [
            "\r 97%|█████████▋| 583/600 [6:44:20<12:31, 44.19s/it]"
          ],
          "name": "stderr"
        },
        {
          "output_type": "stream",
          "text": [
            "582[Vz]  no correction: 0.07466261010459263, correction:0.006267224530053847\n",
            "583[x]  no correction: 0.010387684266135653, correction:0.00029685717993875246\n",
            "583[y]  no correction: 0.00901175301180419, correction:0.00033471614797269593\n",
            "583[z]  no correction: 0.01725477214101743, correction:0.0005234920108455708\n",
            "583[Vx]  no correction: 0.007482162965984382, correction:0.00021188526166351392\n",
            "583[Vy]  no correction: 0.009326123144681427, correction:0.001124316011039362\n"
          ],
          "name": "stdout"
        },
        {
          "output_type": "stream",
          "text": [
            "\r 97%|█████████▋| 584/600 [6:45:13<12:31, 46.94s/it]"
          ],
          "name": "stderr"
        },
        {
          "output_type": "stream",
          "text": [
            "583[Vz]  no correction: 0.01788728813500573, correction:0.00040213620718782027\n",
            "584[x]  no correction: 0.08926316237043301, correction:0.005528221447231209\n",
            "584[y]  no correction: 0.11210411180641705, correction:0.0008595459735859876\n",
            "584[z]  no correction: 0.15926309867106164, correction:0.002306737962606405\n",
            "584[Vx]  no correction: 0.09172706229099248, correction:0.004032444729139834\n",
            "584[Vy]  no correction: 0.13109254932124156, correction:0.010901868075486317\n"
          ],
          "name": "stdout"
        },
        {
          "output_type": "stream",
          "text": [
            "\r 98%|█████████▊| 585/600 [6:45:58<11:35, 46.39s/it]"
          ],
          "name": "stderr"
        },
        {
          "output_type": "stream",
          "text": [
            "584[Vz]  no correction: 0.14675789821861027, correction:0.0010003585443250805\n",
            "585[x]  no correction: 0.004238567900879819, correction:0.001267788216799499\n",
            "585[y]  no correction: 0.008217250740735612, correction:0.0006160944599017474\n",
            "585[z]  no correction: 0.010141492771375939, correction:0.0025863971797524246\n",
            "585[Vx]  no correction: 0.004696280631746877, correction:0.0007599345490885217\n",
            "585[Vy]  no correction: 0.002699956010599563, correction:0.0007575373765366959\n"
          ],
          "name": "stdout"
        },
        {
          "output_type": "stream",
          "text": [
            "\r 98%|█████████▊| 586/600 [6:46:17<08:52, 38.00s/it]"
          ],
          "name": "stderr"
        },
        {
          "output_type": "stream",
          "text": [
            "585[Vz]  no correction: 0.005187060440793087, correction:0.002749330048658295\n",
            "586[x]  no correction: 0.19866925747262948, correction:0.1791817758231648\n",
            "586[y]  no correction: 0.24845788814811628, correction:0.257128710816275\n",
            "586 y does not work\n",
            "586[z]  no correction: 0.24996399284187504, correction:0.264068201265144\n",
            "586 z does not work\n",
            "586[Vx]  no correction: 0.1439535618103387, correction:0.145466387925656\n",
            "586 Vx does not work\n",
            "586[Vy]  no correction: 0.1890077660845253, correction:0.18403131997563027\n"
          ],
          "name": "stdout"
        },
        {
          "output_type": "stream",
          "text": [
            "\r 98%|█████████▊| 587/600 [6:46:44<07:33, 34.89s/it]"
          ],
          "name": "stderr"
        },
        {
          "output_type": "stream",
          "text": [
            "586[Vz]  no correction: 0.17889141664699676, correction:0.19264847222152387\n",
            "586 Vz does not work\n",
            "587[x]  no correction: 0.573898352376969, correction:0.4359790995536137\n",
            "587[y]  no correction: 0.6438292341234696, correction:0.46335404943869907\n",
            "587[z]  no correction: 0.6343207866494736, correction:0.4838136084784198\n",
            "587[Vx]  no correction: 0.702625905816794, correction:0.5578519589112301\n",
            "587[Vy]  no correction: 0.64069456102772, correction:0.4840313001716669\n"
          ],
          "name": "stdout"
        },
        {
          "output_type": "stream",
          "text": [
            "\r 98%|█████████▊| 588/600 [6:47:16<06:46, 33.84s/it]"
          ],
          "name": "stderr"
        },
        {
          "output_type": "stream",
          "text": [
            "587[Vz]  no correction: 0.6307182644391871, correction:0.5010783073358523\n",
            "588[x]  no correction: 0.007622821566940168, correction:0.0044733348040445296\n",
            "588[y]  no correction: 0.0018016248803700552, correction:0.002194392434659306\n",
            "588 y does not work\n",
            "588[z]  no correction: 0.00700663831366565, correction:0.004368727440156517\n",
            "588[Vx]  no correction: 0.0073015606989544814, correction:0.0037507092976951715\n",
            "588[Vy]  no correction: 0.002007540436595736, correction:0.0008332264542177033\n"
          ],
          "name": "stdout"
        },
        {
          "output_type": "stream",
          "text": [
            "\r 98%|█████████▊| 589/600 [6:47:54<06:27, 35.25s/it]"
          ],
          "name": "stderr"
        },
        {
          "output_type": "stream",
          "text": [
            "588[Vz]  no correction: 0.005941578225166705, correction:0.003774634704013868\n",
            "589[x]  no correction: 0.005900732263798938, correction:2.5861496829616244e-05\n",
            "589[y]  no correction: 0.00827767984485682, correction:0.00016469938241184056\n",
            "589[z]  no correction: 0.01361340736020863, correction:0.0017516812075623663\n",
            "589[Vx]  no correction: 0.03527930808761126, correction:0.0006995670088753257\n",
            "589[Vy]  no correction: 0.0062904535216043896, correction:0.0002503163233976947\n"
          ],
          "name": "stdout"
        },
        {
          "output_type": "stream",
          "text": [
            "\r 98%|█████████▊| 590/600 [6:49:46<09:41, 58.18s/it]"
          ],
          "name": "stderr"
        },
        {
          "output_type": "stream",
          "text": [
            "589[Vz]  no correction: 0.005135988968459718, correction:0.00034798327784977656\n",
            "590[x]  no correction: 0.002837662013924481, correction:0.0014942327594243802\n",
            "590[y]  no correction: 0.002472250184657965, correction:0.001091927885261076\n",
            "590[z]  no correction: 0.005259572182527945, correction:0.0016376616215375013\n",
            "590[Vx]  no correction: 0.005971255852450362, correction:0.0008175534874222568\n",
            "590[Vy]  no correction: 0.004610869942749281, correction:0.002022867046215544\n"
          ],
          "name": "stdout"
        },
        {
          "output_type": "stream",
          "text": [
            "\r 98%|█████████▊| 591/600 [6:50:08<07:05, 47.23s/it]"
          ],
          "name": "stderr"
        },
        {
          "output_type": "stream",
          "text": [
            "590[Vz]  no correction: 0.005604870202059145, correction:0.000947238333134678\n",
            "591[x]  no correction: 0.012458577748803407, correction:0.003213875739097881\n",
            "591[y]  no correction: 0.005278111258469182, correction:0.006441747548283453\n",
            "591 y does not work\n",
            "591[z]  no correction: 0.007537623570920942, correction:0.004522353511650204\n",
            "591[Vx]  no correction: 0.004471044213575184, correction:0.003486902219723418\n",
            "591[Vy]  no correction: 0.006491791541653437, correction:0.0037194487451444667\n"
          ],
          "name": "stdout"
        },
        {
          "output_type": "stream",
          "text": [
            "\r 99%|█████████▊| 592/600 [6:50:26<05:09, 38.67s/it]"
          ],
          "name": "stderr"
        },
        {
          "output_type": "stream",
          "text": [
            "591[Vz]  no correction: 0.009125237091816384, correction:0.007368221786191566\n",
            "592[x]  no correction: 0.2793036838750571, correction:0.13193892664730122\n",
            "592[y]  no correction: 0.22221853889554882, correction:0.16572786493786096\n",
            "592[z]  no correction: 0.277120094437202, correction:0.2548965469948097\n",
            "592[Vx]  no correction: 0.28374202896017364, correction:0.26463006938518546\n",
            "592[Vy]  no correction: 0.1872659076993662, correction:0.16099010366281852\n"
          ],
          "name": "stdout"
        },
        {
          "output_type": "stream",
          "text": [
            "\r 99%|█████████▉| 593/600 [6:50:50<03:57, 33.99s/it]"
          ],
          "name": "stderr"
        },
        {
          "output_type": "stream",
          "text": [
            "592[Vz]  no correction: 0.2698651204841026, correction:0.23894357125075025\n",
            "593[x]  no correction: 0.0034102404976978124, correction:5.7755199725864026e-05\n",
            "593[y]  no correction: 0.006019045650226483, correction:6.908546216984953e-05\n",
            "593[z]  no correction: 0.0018289188525744328, correction:0.0001144027213785127\n",
            "593[Vx]  no correction: 0.0021728088737522867, correction:7.596631805032034e-05\n",
            "593[Vy]  no correction: 0.008177172976508594, correction:0.0002030579935165537\n"
          ],
          "name": "stdout"
        },
        {
          "output_type": "stream",
          "text": [
            "\r 99%|█████████▉| 594/600 [6:51:44<04:01, 40.17s/it]"
          ],
          "name": "stderr"
        },
        {
          "output_type": "stream",
          "text": [
            "593[Vz]  no correction: 0.0023407563269697723, correction:0.00014439126414018448\n",
            "594[x]  no correction: 0.047788888983616475, correction:0.000496857469293478\n",
            "594[y]  no correction: 0.020222232410717866, correction:0.0004451743007591193\n",
            "594[z]  no correction: 0.041113166160688254, correction:0.0007897099857597173\n",
            "594[Vx]  no correction: 0.05556730122366001, correction:0.004962266709994403\n",
            "594[Vy]  no correction: 0.04246796594776183, correction:0.002789059328658921\n"
          ],
          "name": "stdout"
        },
        {
          "output_type": "stream",
          "text": [
            "\r 99%|█████████▉| 595/600 [6:52:51<04:01, 48.32s/it]"
          ],
          "name": "stderr"
        },
        {
          "output_type": "stream",
          "text": [
            "594[Vz]  no correction: 0.06568089042465215, correction:0.00704332676648763\n",
            "595[x]  no correction: 0.12114762435467935, correction:0.018682509846595217\n",
            "595[y]  no correction: 0.03751019278988835, correction:0.005910427727458819\n",
            "595[z]  no correction: 0.06731903272716575, correction:0.0037467697336343595\n",
            "595[Vx]  no correction: 0.10769916688470468, correction:0.014132931420845698\n",
            "595[Vy]  no correction: 0.03832688724152259, correction:0.0036239214084945273\n"
          ],
          "name": "stdout"
        },
        {
          "output_type": "stream",
          "text": [
            "\r 99%|█████████▉| 596/600 [6:53:20<02:49, 42.46s/it]"
          ],
          "name": "stderr"
        },
        {
          "output_type": "stream",
          "text": [
            "595[Vz]  no correction: 0.13623654011294167, correction:0.03292108882649204\n",
            "596[x]  no correction: 0.031572801031324656, correction:0.014401330265892551\n",
            "596[y]  no correction: 0.00577079363947773, correction:0.0013612414018942102\n",
            "596[z]  no correction: 0.007233360654495485, correction:0.002340899704818702\n",
            "596[Vx]  no correction: 0.009398096053070872, correction:0.008657053707941656\n",
            "596[Vy]  no correction: 0.006037658844049851, correction:0.0025174074799118357\n"
          ],
          "name": "stdout"
        },
        {
          "output_type": "stream",
          "text": [
            "\r100%|█████████▉| 597/600 [6:53:40<01:47, 35.79s/it]"
          ],
          "name": "stderr"
        },
        {
          "output_type": "stream",
          "text": [
            "596[Vz]  no correction: 0.007916445606938516, correction:0.0016644941419070589\n",
            "597[x]  no correction: 0.009666117369858456, correction:0.00179475827834376\n",
            "597[y]  no correction: 0.020007514664783742, correction:0.0026994580897798342\n",
            "597[z]  no correction: 0.051120053541659036, correction:0.007841603889235382\n",
            "597[Vx]  no correction: 0.0047428970694700845, correction:0.0012603685927219561\n",
            "597[Vy]  no correction: 0.039507244062918, correction:0.005430609732040047\n"
          ],
          "name": "stdout"
        },
        {
          "output_type": "stream",
          "text": [
            "\r100%|█████████▉| 598/600 [6:53:59<01:01, 30.62s/it]"
          ],
          "name": "stderr"
        },
        {
          "output_type": "stream",
          "text": [
            "597[Vz]  no correction: 0.011504546832260923, correction:0.0012235682113648145\n",
            "598[x]  no correction: 0.05896685933764195, correction:0.002046930967292277\n",
            "598[y]  no correction: 0.019407146086517422, correction:0.00035816804558877154\n",
            "598[z]  no correction: 0.052342020883342416, correction:0.005807615842721781\n",
            "598[Vx]  no correction: 0.028925189921513474, correction:0.0009498909808948688\n",
            "598[Vy]  no correction: 0.01332792666462735, correction:0.0004438166633020622\n"
          ],
          "name": "stdout"
        },
        {
          "output_type": "stream",
          "text": [
            "\r100%|█████████▉| 599/600 [6:54:40<00:33, 33.76s/it]"
          ],
          "name": "stderr"
        },
        {
          "output_type": "stream",
          "text": [
            "598[Vz]  no correction: 0.02103021114312934, correction:0.00030379082623075066\n",
            "599[x]  no correction: 0.0010673109332166864, correction:0.0003348516033234498\n",
            "599[y]  no correction: 0.0009934968567758976, correction:0.00026406951309680015\n",
            "599[z]  no correction: 0.0031009916833862356, correction:0.0003621441948596339\n",
            "599[Vx]  no correction: 0.004781939170348005, correction:0.002977513643720712\n",
            "599[Vy]  no correction: 0.006277616381302841, correction:0.0029621202254966235\n"
          ],
          "name": "stdout"
        },
        {
          "output_type": "stream",
          "text": [
            "\r100%|██████████| 600/600 [6:55:32<00:00, 39.16s/it]"
          ],
          "name": "stderr"
        },
        {
          "output_type": "stream",
          "text": [
            "599[Vz]  no correction: 0.001000566000943613, correction:0.0005966300600214609\n"
          ],
          "name": "stdout"
        },
        {
          "output_type": "stream",
          "text": [
            "\n"
          ],
          "name": "stderr"
        }
      ]
    },
    {
      "cell_type": "code",
      "metadata": {
        "id": "qkrpAMrgJE74",
        "colab_type": "code",
        "colab": {
          "base_uri": "https://localhost:8080/",
          "height": 67
        },
        "outputId": "48aea209-cd9a-40bb-ea2e-8e19c125d50d"
      },
      "source": [
        "print(f'{len(result_df)}/{len(satellites_list)} satellites processed')\n",
        "print('\\nmetrics:', dict(pd.DataFrame(result_df).iloc[:, 1:].mean()))"
      ],
      "execution_count": 21,
      "outputs": [
        {
          "output_type": "stream",
          "text": [
            "600/600 satellites processed\n",
            "\n",
            "metrics: {1: 0.07992977831877311, 2: 0.04964976319771542}\n"
          ],
          "name": "stdout"
        }
      ]
    },
    {
      "cell_type": "code",
      "metadata": {
        "id": "uiz8mXmZwiyf",
        "colab_type": "code",
        "colab": {
          "base_uri": "https://localhost:8080/",
          "height": 1000
        },
        "outputId": "7204132b-f944-4ddd-eb24-bfa62937a898"
      },
      "source": [
        "fail_list"
      ],
      "execution_count": 24,
      "outputs": [
        {
          "output_type": "execute_result",
          "data": {
            "text/plain": [
              "[(5, 'Vz'),\n",
              " (7, 'x'),\n",
              " (7, 'z'),\n",
              " (7, 'Vx'),\n",
              " (7, 'Vy'),\n",
              " (7, 'Vz'),\n",
              " (11, 'y'),\n",
              " (11, 'z'),\n",
              " (11, 'Vy'),\n",
              " (11, 'Vz'),\n",
              " (15, 'y'),\n",
              " (15, 'Vx'),\n",
              " (15, 'Vy'),\n",
              " (15, 'Vz'),\n",
              " (16, 'y'),\n",
              " (16, 'Vx'),\n",
              " (18, 'z'),\n",
              " (18, 'Vy'),\n",
              " (18, 'Vz'),\n",
              " (20, 'Vx'),\n",
              " (24, 'x'),\n",
              " (24, 'Vz'),\n",
              " (25, 'x'),\n",
              " (25, 'y'),\n",
              " (26, 'x'),\n",
              " (26, 'y'),\n",
              " (26, 'z'),\n",
              " (26, 'Vx'),\n",
              " (26, 'Vy'),\n",
              " (26, 'Vz'),\n",
              " (30, 'x'),\n",
              " (30, 'Vx'),\n",
              " (30, 'Vy'),\n",
              " (37, 'x'),\n",
              " (37, 'y'),\n",
              " (37, 'z'),\n",
              " (37, 'Vx'),\n",
              " (37, 'Vy'),\n",
              " (37, 'Vz'),\n",
              " (45, 'y'),\n",
              " (45, 'Vy'),\n",
              " (47, 'Vz'),\n",
              " (50, 'Vz'),\n",
              " (59, 'y'),\n",
              " (59, 'Vx'),\n",
              " (59, 'Vz'),\n",
              " (61, 'Vx'),\n",
              " (64, 'Vy'),\n",
              " (66, 'Vy'),\n",
              " (70, 'z'),\n",
              " (70, 'Vx'),\n",
              " (70, 'Vz'),\n",
              " (71, 'x'),\n",
              " (71, 'Vz'),\n",
              " (77, 'x'),\n",
              " (77, 'z'),\n",
              " (77, 'Vx'),\n",
              " (77, 'Vy'),\n",
              " (77, 'Vz'),\n",
              " (80, 'Vz'),\n",
              " (81, 'Vz'),\n",
              " (89, 'Vx'),\n",
              " (96, 'Vx'),\n",
              " (96, 'Vz'),\n",
              " (99, 'Vz'),\n",
              " (106, 'Vx'),\n",
              " (110, 'Vx'),\n",
              " (114, 'Vy'),\n",
              " (120, 'Vy'),\n",
              " (127, 'x'),\n",
              " (127, 'y'),\n",
              " (127, 'z'),\n",
              " (127, 'Vx'),\n",
              " (127, 'Vy'),\n",
              " (127, 'Vz'),\n",
              " (129, 'Vy'),\n",
              " (136, 'x'),\n",
              " (136, 'y'),\n",
              " (136, 'z'),\n",
              " (136, 'Vx'),\n",
              " (136, 'Vy'),\n",
              " (136, 'Vz'),\n",
              " (143, 'Vz'),\n",
              " (148, 'x'),\n",
              " (148, 'Vy'),\n",
              " (148, 'Vz'),\n",
              " (153, 'z'),\n",
              " (153, 'Vy'),\n",
              " (154, 'Vy'),\n",
              " (155, 'Vz'),\n",
              " (156, 'z'),\n",
              " (156, 'Vz'),\n",
              " (159, 'z'),\n",
              " (159, 'Vz'),\n",
              " (164, 'y'),\n",
              " (164, 'Vx'),\n",
              " (164, 'Vz'),\n",
              " (165, 'Vy'),\n",
              " (165, 'Vz'),\n",
              " (166, 'y'),\n",
              " (166, 'z'),\n",
              " (166, 'Vx'),\n",
              " (166, 'Vy'),\n",
              " (169, 'y'),\n",
              " (169, 'Vy'),\n",
              " (169, 'Vz'),\n",
              " (175, 'x'),\n",
              " (175, 'Vx'),\n",
              " (175, 'Vy'),\n",
              " (175, 'Vz'),\n",
              " (177, 'z'),\n",
              " (177, 'Vz'),\n",
              " (184, 'x'),\n",
              " (184, 'y'),\n",
              " (184, 'z'),\n",
              " (184, 'Vx'),\n",
              " (184, 'Vy'),\n",
              " (184, 'Vz'),\n",
              " (185, 'Vx'),\n",
              " (186, 'y'),\n",
              " (186, 'Vy'),\n",
              " (186, 'Vz'),\n",
              " (189, 'y'),\n",
              " (189, 'Vx'),\n",
              " (189, 'Vz'),\n",
              " (196, 'Vx'),\n",
              " (196, 'Vy'),\n",
              " (196, 'Vz'),\n",
              " (199, 'z'),\n",
              " (199, 'Vx'),\n",
              " (199, 'Vy'),\n",
              " (199, 'Vz'),\n",
              " (200, 'Vy'),\n",
              " (202, 'z'),\n",
              " (205, 'Vy'),\n",
              " (210, 'Vx'),\n",
              " (210, 'Vy'),\n",
              " (216, 'Vy'),\n",
              " (216, 'Vz'),\n",
              " (220, 'Vx'),\n",
              " (220, 'Vy'),\n",
              " (220, 'Vz'),\n",
              " (223, 'z'),\n",
              " (228, 'x'),\n",
              " (228, 'y'),\n",
              " (228, 'z'),\n",
              " (228, 'Vx'),\n",
              " (228, 'Vy'),\n",
              " (228, 'Vz'),\n",
              " (229, 'Vz'),\n",
              " (234, 'x'),\n",
              " (234, 'y'),\n",
              " (234, 'Vx'),\n",
              " (245, 'Vz'),\n",
              " (249, 'Vy'),\n",
              " (250, 'x'),\n",
              " (251, 'Vx'),\n",
              " (252, 'x'),\n",
              " (252, 'y'),\n",
              " (252, 'z'),\n",
              " (252, 'Vx'),\n",
              " (252, 'Vy'),\n",
              " (252, 'Vz'),\n",
              " (259, 'x'),\n",
              " (259, 'y'),\n",
              " (259, 'z'),\n",
              " (259, 'Vx'),\n",
              " (259, 'Vy'),\n",
              " (259, 'Vz'),\n",
              " (260, 'Vx'),\n",
              " (260, 'Vy'),\n",
              " (265, 'x'),\n",
              " (265, 'y'),\n",
              " (265, 'Vx'),\n",
              " (265, 'Vy'),\n",
              " (265, 'Vz'),\n",
              " (267, 'x'),\n",
              " (267, 'y'),\n",
              " (267, 'Vx'),\n",
              " (267, 'Vy'),\n",
              " (267, 'Vz'),\n",
              " (268, 'Vx'),\n",
              " (268, 'Vy'),\n",
              " (268, 'Vz'),\n",
              " (272, 'y'),\n",
              " (272, 'z'),\n",
              " (272, 'Vy'),\n",
              " (272, 'Vz'),\n",
              " (273, 'x'),\n",
              " (273, 'y'),\n",
              " (273, 'Vy'),\n",
              " (273, 'Vz'),\n",
              " (274, 'Vz'),\n",
              " (277, 'x'),\n",
              " (277, 'y'),\n",
              " (277, 'z'),\n",
              " (277, 'Vx'),\n",
              " (277, 'Vy'),\n",
              " (277, 'Vz'),\n",
              " (278, 'Vx'),\n",
              " (284, 'y'),\n",
              " (284, 'Vx'),\n",
              " (287, 'x'),\n",
              " (287, 'Vy'),\n",
              " (288, 'Vx'),\n",
              " (288, 'Vy'),\n",
              " (288, 'Vz'),\n",
              " (292, 'Vz'),\n",
              " (301, 'x'),\n",
              " (301, 'y'),\n",
              " (301, 'z'),\n",
              " (301, 'Vx'),\n",
              " (301, 'Vy'),\n",
              " (301, 'Vz'),\n",
              " (307, 'x'),\n",
              " (307, 'y'),\n",
              " (307, 'z'),\n",
              " (307, 'Vx'),\n",
              " (307, 'Vy'),\n",
              " (307, 'Vz'),\n",
              " (311, 'x'),\n",
              " (311, 'y'),\n",
              " (311, 'z'),\n",
              " (311, 'Vx'),\n",
              " (311, 'Vy'),\n",
              " (311, 'Vz'),\n",
              " (313, 'Vy'),\n",
              " (314, 'Vz'),\n",
              " (316, 'Vy'),\n",
              " (318, 'Vx'),\n",
              " (319, 'Vy'),\n",
              " (319, 'Vz'),\n",
              " (321, 'x'),\n",
              " (321, 'y'),\n",
              " (321, 'z'),\n",
              " (321, 'Vx'),\n",
              " (321, 'Vy'),\n",
              " (321, 'Vz'),\n",
              " (322, 'Vz'),\n",
              " (327, 'Vx'),\n",
              " (327, 'Vz'),\n",
              " (331, 'y'),\n",
              " (333, 'y'),\n",
              " (336, 'x'),\n",
              " (336, 'y'),\n",
              " (336, 'z'),\n",
              " (336, 'Vx'),\n",
              " (336, 'Vy'),\n",
              " (336, 'Vz'),\n",
              " (349, 'x'),\n",
              " (349, 'Vy'),\n",
              " (349, 'Vz'),\n",
              " (351, 'Vx'),\n",
              " (352, 'Vz'),\n",
              " (353, 'Vx'),\n",
              " (354, 'x'),\n",
              " (354, 'y'),\n",
              " (354, 'z'),\n",
              " (354, 'Vx'),\n",
              " (354, 'Vy'),\n",
              " (354, 'Vz'),\n",
              " (355, 'x'),\n",
              " (355, 'y'),\n",
              " (355, 'z'),\n",
              " (355, 'Vx'),\n",
              " (355, 'Vy'),\n",
              " (355, 'Vz'),\n",
              " (358, 'y'),\n",
              " (358, 'Vy'),\n",
              " (359, 'z'),\n",
              " (359, 'Vx'),\n",
              " (363, 'Vx'),\n",
              " (363, 'Vy'),\n",
              " (363, 'Vz'),\n",
              " (365, 'x'),\n",
              " (365, 'Vx'),\n",
              " (365, 'Vy'),\n",
              " (365, 'Vz'),\n",
              " (367, 'x'),\n",
              " (367, 'Vy'),\n",
              " (367, 'Vz'),\n",
              " (386, 'y'),\n",
              " (386, 'Vz'),\n",
              " (391, 'x'),\n",
              " (391, 'Vx'),\n",
              " (391, 'Vz'),\n",
              " (394, 'Vx'),\n",
              " (395, 'z'),\n",
              " (395, 'Vy'),\n",
              " (402, 'x'),\n",
              " (402, 'y'),\n",
              " (402, 'z'),\n",
              " (402, 'Vx'),\n",
              " (402, 'Vy'),\n",
              " (402, 'Vz'),\n",
              " (405, 'Vy'),\n",
              " (406, 'Vy'),\n",
              " (417, 'y'),\n",
              " (417, 'Vz'),\n",
              " (419, 'y'),\n",
              " (420, 'y'),\n",
              " (422, 'Vy'),\n",
              " (427, 'Vy'),\n",
              " (428, 'y'),\n",
              " (430, 'z'),\n",
              " (432, 'x'),\n",
              " (435, 'Vy'),\n",
              " (438, 'x'),\n",
              " (438, 'y'),\n",
              " (438, 'Vx'),\n",
              " (438, 'Vy'),\n",
              " (438, 'Vz'),\n",
              " (440, 'Vx'),\n",
              " (441, 'x'),\n",
              " (441, 'y'),\n",
              " (441, 'z'),\n",
              " (441, 'Vx'),\n",
              " (441, 'Vy'),\n",
              " (441, 'Vz'),\n",
              " (448, 'Vy'),\n",
              " (448, 'Vz'),\n",
              " (452, 'z'),\n",
              " (452, 'Vy'),\n",
              " (453, 'Vx'),\n",
              " (453, 'Vy'),\n",
              " (454, 'x'),\n",
              " (454, 'Vx'),\n",
              " (454, 'Vz'),\n",
              " (457, 'y'),\n",
              " (457, 'z'),\n",
              " (457, 'Vy'),\n",
              " (457, 'Vz'),\n",
              " (458, 'x'),\n",
              " (458, 'y'),\n",
              " (458, 'Vx'),\n",
              " (458, 'Vz'),\n",
              " (459, 'y'),\n",
              " (459, 'z'),\n",
              " (459, 'Vy'),\n",
              " (459, 'Vz'),\n",
              " (463, 'Vx'),\n",
              " (464, 'x'),\n",
              " (464, 'y'),\n",
              " (464, 'Vx'),\n",
              " (464, 'Vz'),\n",
              " (466, 'x'),\n",
              " (466, 'y'),\n",
              " (466, 'z'),\n",
              " (466, 'Vx'),\n",
              " (466, 'Vz'),\n",
              " (470, 'x'),\n",
              " (470, 'y'),\n",
              " (470, 'z'),\n",
              " (470, 'Vx'),\n",
              " (470, 'Vy'),\n",
              " (470, 'Vz'),\n",
              " (472, 'x'),\n",
              " (472, 'y'),\n",
              " (472, 'Vx'),\n",
              " (472, 'Vy'),\n",
              " (472, 'Vz'),\n",
              " (475, 'z'),\n",
              " (475, 'Vy'),\n",
              " (478, 'x'),\n",
              " (478, 'y'),\n",
              " (478, 'Vx'),\n",
              " (478, 'Vy'),\n",
              " (478, 'Vz'),\n",
              " (481, 'y'),\n",
              " (481, 'Vx'),\n",
              " (485, 'x'),\n",
              " (485, 'y'),\n",
              " (485, 'z'),\n",
              " (485, 'Vx'),\n",
              " (485, 'Vy'),\n",
              " (485, 'Vz'),\n",
              " (486, 'y'),\n",
              " (486, 'z'),\n",
              " (486, 'Vy'),\n",
              " (486, 'Vz'),\n",
              " (487, 'x'),\n",
              " (487, 'y'),\n",
              " (487, 'z'),\n",
              " (487, 'Vx'),\n",
              " (487, 'Vy'),\n",
              " (487, 'Vz'),\n",
              " (491, 'Vz'),\n",
              " (493, 'Vz'),\n",
              " (496, 'y'),\n",
              " (496, 'Vx'),\n",
              " (496, 'Vy'),\n",
              " (497, 'y'),\n",
              " (497, 'Vx'),\n",
              " (497, 'Vy'),\n",
              " (498, 'Vx'),\n",
              " (499, 'Vy'),\n",
              " (500, 'Vx'),\n",
              " (500, 'Vz'),\n",
              " (504, 'z'),\n",
              " (504, 'Vx'),\n",
              " (504, 'Vy'),\n",
              " (504, 'Vz'),\n",
              " (506, 'x'),\n",
              " (506, 'Vy'),\n",
              " (507, 'Vy'),\n",
              " (513, 'Vx'),\n",
              " (513, 'Vy'),\n",
              " (513, 'Vz'),\n",
              " (514, 'Vx'),\n",
              " (514, 'Vy'),\n",
              " (514, 'Vz'),\n",
              " (515, 'x'),\n",
              " (515, 'y'),\n",
              " (515, 'z'),\n",
              " (515, 'Vx'),\n",
              " (515, 'Vy'),\n",
              " (515, 'Vz'),\n",
              " (517, 'Vy'),\n",
              " (518, 'z'),\n",
              " (519, 'Vx'),\n",
              " (520, 'x'),\n",
              " (523, 'x'),\n",
              " (523, 'y'),\n",
              " (523, 'z'),\n",
              " (523, 'Vx'),\n",
              " (523, 'Vy'),\n",
              " (523, 'Vz'),\n",
              " (524, 'x'),\n",
              " (524, 'y'),\n",
              " (524, 'z'),\n",
              " (524, 'Vx'),\n",
              " (524, 'Vy'),\n",
              " (524, 'Vz'),\n",
              " (525, 'Vx'),\n",
              " (525, 'Vy'),\n",
              " (526, 'x'),\n",
              " (526, 'y'),\n",
              " (526, 'z'),\n",
              " (526, 'Vx'),\n",
              " (526, 'Vy'),\n",
              " (526, 'Vz'),\n",
              " (527, 'y'),\n",
              " (529, 'Vy'),\n",
              " (530, 'Vz'),\n",
              " (531, 'x'),\n",
              " (535, 'Vz'),\n",
              " (536, 'x'),\n",
              " (536, 'y'),\n",
              " (536, 'Vx'),\n",
              " (536, 'Vy'),\n",
              " (536, 'Vz'),\n",
              " (541, 'Vz'),\n",
              " (548, 'Vx'),\n",
              " (551, 'Vx'),\n",
              " (554, 'x'),\n",
              " (554, 'y'),\n",
              " (554, 'z'),\n",
              " (554, 'Vx'),\n",
              " (554, 'Vy'),\n",
              " (554, 'Vz'),\n",
              " (555, 'x'),\n",
              " (555, 'y'),\n",
              " (555, 'z'),\n",
              " (555, 'Vx'),\n",
              " (555, 'Vy'),\n",
              " (555, 'Vz'),\n",
              " (556, 'Vy'),\n",
              " (561, 'Vx'),\n",
              " (563, 'x'),\n",
              " (563, 'y'),\n",
              " (563, 'Vx'),\n",
              " (563, 'Vy'),\n",
              " (563, 'Vz'),\n",
              " (565, 'Vx'),\n",
              " (566, 'Vy'),\n",
              " (567, 'Vy'),\n",
              " (569, 'y'),\n",
              " (570, 'y'),\n",
              " (570, 'Vz'),\n",
              " (571, 'Vz'),\n",
              " (572, 'Vx'),\n",
              " (572, 'Vy'),\n",
              " (574, 'x'),\n",
              " (574, 'y'),\n",
              " (574, 'z'),\n",
              " (574, 'Vx'),\n",
              " (574, 'Vy'),\n",
              " (574, 'Vz'),\n",
              " (577, 'Vx'),\n",
              " (577, 'Vz'),\n",
              " (580, 'Vz'),\n",
              " (586, 'y'),\n",
              " (586, 'z'),\n",
              " (586, 'Vx'),\n",
              " (586, 'Vz'),\n",
              " (588, 'y'),\n",
              " (591, 'y')]"
            ]
          },
          "metadata": {
            "tags": []
          },
          "execution_count": 24
        }
      ]
    },
    {
      "cell_type": "code",
      "metadata": {
        "id": "coGjPrDbtyT5",
        "colab_type": "code",
        "colab": {}
      },
      "source": [
        "with open('list_problem.txt', 'w') as filehandle:\n",
        "    for listitem in fail_list:\n",
        "      x = listitem[0]\n",
        "      y = listitem[1]\n",
        "      filehandle.write('{}\\n '.format( str(x)+' '+str(y)))"
      ],
      "execution_count": 0,
      "outputs": []
    },
    {
      "cell_type": "code",
      "metadata": {
        "id": "h37XBApiJE79",
        "colab_type": "code",
        "colab": {},
        "outputId": "986cebd9-1196-49f1-c345-33392e547341"
      },
      "source": [
        "forecast = m.predict(future)\n",
        "forecast[['ds', 'yhat', 'yhat_lower', 'yhat_upper']].tail()"
      ],
      "execution_count": 0,
      "outputs": [
        {
          "output_type": "execute_result",
          "data": {
            "text/html": [
              "<div>\n",
              "<style scoped>\n",
              "    .dataframe tbody tr th:only-of-type {\n",
              "        vertical-align: middle;\n",
              "    }\n",
              "\n",
              "    .dataframe tbody tr th {\n",
              "        vertical-align: top;\n",
              "    }\n",
              "\n",
              "    .dataframe thead th {\n",
              "        text-align: right;\n",
              "    }\n",
              "</style>\n",
              "<table border=\"1\" class=\"dataframe\">\n",
              "  <thead>\n",
              "    <tr style=\"text-align: right;\">\n",
              "      <th></th>\n",
              "      <th>ds</th>\n",
              "      <th>yhat</th>\n",
              "      <th>yhat_lower</th>\n",
              "      <th>yhat_upper</th>\n",
              "    </tr>\n",
              "  </thead>\n",
              "  <tbody>\n",
              "    <tr>\n",
              "      <th>67</th>\n",
              "      <td>2014-01-31 07:04:35.731000064</td>\n",
              "      <td>-0.026839</td>\n",
              "      <td>-0.029839</td>\n",
              "      <td>-0.023842</td>\n",
              "    </tr>\n",
              "    <tr>\n",
              "      <th>68</th>\n",
              "      <td>2014-01-31 10:32:19.900999936</td>\n",
              "      <td>-0.013322</td>\n",
              "      <td>-0.016347</td>\n",
              "      <td>-0.010301</td>\n",
              "    </tr>\n",
              "    <tr>\n",
              "      <th>69</th>\n",
              "      <td>2014-01-31 14:00:04.071000064</td>\n",
              "      <td>-0.011590</td>\n",
              "      <td>-0.014527</td>\n",
              "      <td>-0.008590</td>\n",
              "    </tr>\n",
              "    <tr>\n",
              "      <th>70</th>\n",
              "      <td>2014-01-31 17:27:48.241999872</td>\n",
              "      <td>-0.014995</td>\n",
              "      <td>-0.017961</td>\n",
              "      <td>-0.012117</td>\n",
              "    </tr>\n",
              "    <tr>\n",
              "      <th>71</th>\n",
              "      <td>2014-01-31 20:55:32.412000000</td>\n",
              "      <td>-0.004004</td>\n",
              "      <td>-0.006951</td>\n",
              "      <td>-0.000998</td>\n",
              "    </tr>\n",
              "  </tbody>\n",
              "</table>\n",
              "</div>"
            ],
            "text/plain": [
              "                              ds      yhat  yhat_lower  yhat_upper\n",
              "67 2014-01-31 07:04:35.731000064 -0.026839   -0.029839   -0.023842\n",
              "68 2014-01-31 10:32:19.900999936 -0.013322   -0.016347   -0.010301\n",
              "69 2014-01-31 14:00:04.071000064 -0.011590   -0.014527   -0.008590\n",
              "70 2014-01-31 17:27:48.241999872 -0.014995   -0.017961   -0.012117\n",
              "71 2014-01-31 20:55:32.412000000 -0.004004   -0.006951   -0.000998"
            ]
          },
          "metadata": {
            "tags": []
          },
          "execution_count": 191
        }
      ]
    },
    {
      "cell_type": "code",
      "metadata": {
        "id": "H7q1m2QnJE8F",
        "colab_type": "code",
        "colab": {},
        "outputId": "31f91e9d-5928-49c8-d59a-8a3fcb8fe083"
      },
      "source": [
        "m_data.loc[n:,'Vx_sim'] = m_data.loc[n:,'Vx_sim'].values+forecast.loc[:, 'yhat'].values\n",
        "m_data.head()"
      ],
      "execution_count": 0,
      "outputs": [
        {
          "output_type": "execute_result",
          "data": {
            "text/html": [
              "<div>\n",
              "<style scoped>\n",
              "    .dataframe tbody tr th:only-of-type {\n",
              "        vertical-align: middle;\n",
              "    }\n",
              "\n",
              "    .dataframe tbody tr th {\n",
              "        vertical-align: top;\n",
              "    }\n",
              "\n",
              "    .dataframe thead th {\n",
              "        text-align: right;\n",
              "    }\n",
              "</style>\n",
              "<table border=\"1\" class=\"dataframe\">\n",
              "  <thead>\n",
              "    <tr style=\"text-align: right;\">\n",
              "      <th></th>\n",
              "      <th>epoch</th>\n",
              "      <th>t</th>\n",
              "      <th>sat_id</th>\n",
              "      <th>x_sim</th>\n",
              "      <th>x</th>\n",
              "      <th>y_sim</th>\n",
              "      <th>y</th>\n",
              "      <th>z_sim</th>\n",
              "      <th>z</th>\n",
              "      <th>Vx_sim</th>\n",
              "      <th>Vx</th>\n",
              "      <th>Vy_sim</th>\n",
              "      <th>Vy</th>\n",
              "      <th>Vz_sim</th>\n",
              "      <th>Vz</th>\n",
              "    </tr>\n",
              "  </thead>\n",
              "  <tbody>\n",
              "    <tr>\n",
              "      <th>0</th>\n",
              "      <td>1.388534e+18</td>\n",
              "      <td>0.000000</td>\n",
              "      <td>310</td>\n",
              "      <td>224.412124</td>\n",
              "      <td>138.815691</td>\n",
              "      <td>-35154.137651</td>\n",
              "      <td>-35847.338983</td>\n",
              "      <td>-27851.102107</td>\n",
              "      <td>-26803.108365</td>\n",
              "      <td>-0.148147</td>\n",
              "      <td>-0.112348</td>\n",
              "      <td>-2.260940</td>\n",
              "      <td>-2.214687</td>\n",
              "      <td>2.918531</td>\n",
              "      <td>2.961412</td>\n",
              "    </tr>\n",
              "    <tr>\n",
              "      <th>1</th>\n",
              "      <td>1.388547e+18</td>\n",
              "      <td>0.144261</td>\n",
              "      <td>310</td>\n",
              "      <td>-1496.135353</td>\n",
              "      <td>-1168.724073</td>\n",
              "      <td>-49886.131213</td>\n",
              "      <td>-49918.155519</td>\n",
              "      <td>13152.059547</td>\n",
              "      <td>14662.407974</td>\n",
              "      <td>-0.119244</td>\n",
              "      <td>-0.089126</td>\n",
              "      <td>-0.153755</td>\n",
              "      <td>-0.094020</td>\n",
              "      <td>3.360140</td>\n",
              "      <td>3.343555</td>\n",
              "    </tr>\n",
              "    <tr>\n",
              "      <th>2</th>\n",
              "      <td>1.388559e+18</td>\n",
              "      <td>0.288522</td>\n",
              "      <td>310</td>\n",
              "      <td>-2635.918573</td>\n",
              "      <td>-2028.109728</td>\n",
              "      <td>-43170.258076</td>\n",
              "      <td>-42625.160945</td>\n",
              "      <td>50364.351780</td>\n",
              "      <td>51793.832062</td>\n",
              "      <td>-0.067813</td>\n",
              "      <td>-0.050259</td>\n",
              "      <td>1.057473</td>\n",
              "      <td>1.085898</td>\n",
              "      <td>2.605115</td>\n",
              "      <td>2.564370</td>\n",
              "    </tr>\n",
              "    <tr>\n",
              "      <th>3</th>\n",
              "      <td>1.388572e+18</td>\n",
              "      <td>0.432784</td>\n",
              "      <td>310</td>\n",
              "      <td>-3227.339980</td>\n",
              "      <td>-2474.336284</td>\n",
              "      <td>-26798.726945</td>\n",
              "      <td>-25938.202832</td>\n",
              "      <td>77551.346298</td>\n",
              "      <td>78745.817352</td>\n",
              "      <td>-0.031533</td>\n",
              "      <td>-0.023321</td>\n",
              "      <td>1.505717</td>\n",
              "      <td>1.513673</td>\n",
              "      <td>1.826899</td>\n",
              "      <td>1.788955</td>\n",
              "    </tr>\n",
              "    <tr>\n",
              "      <th>4</th>\n",
              "      <td>1.388584e+18</td>\n",
              "      <td>0.577045</td>\n",
              "      <td>310</td>\n",
              "      <td>-3454.577630</td>\n",
              "      <td>-2648.809020</td>\n",
              "      <td>-7178.356388</td>\n",
              "      <td>-6147.449730</td>\n",
              "      <td>96164.973883</td>\n",
              "      <td>97135.043830</td>\n",
              "      <td>-0.008034</td>\n",
              "      <td>-0.005888</td>\n",
              "      <td>1.631144</td>\n",
              "      <td>1.630283</td>\n",
              "      <td>1.221516</td>\n",
              "      <td>1.188956</td>\n",
              "    </tr>\n",
              "  </tbody>\n",
              "</table>\n",
              "</div>"
            ],
            "text/plain": [
              "          epoch         t  sat_id        x_sim            x         y_sim  \\\n",
              "0  1.388534e+18  0.000000     310   224.412124   138.815691 -35154.137651   \n",
              "1  1.388547e+18  0.144261     310 -1496.135353 -1168.724073 -49886.131213   \n",
              "2  1.388559e+18  0.288522     310 -2635.918573 -2028.109728 -43170.258076   \n",
              "3  1.388572e+18  0.432784     310 -3227.339980 -2474.336284 -26798.726945   \n",
              "4  1.388584e+18  0.577045     310 -3454.577630 -2648.809020  -7178.356388   \n",
              "\n",
              "              y         z_sim             z    Vx_sim        Vx    Vy_sim  \\\n",
              "0 -35847.338983 -27851.102107 -26803.108365 -0.148147 -0.112348 -2.260940   \n",
              "1 -49918.155519  13152.059547  14662.407974 -0.119244 -0.089126 -0.153755   \n",
              "2 -42625.160945  50364.351780  51793.832062 -0.067813 -0.050259  1.057473   \n",
              "3 -25938.202832  77551.346298  78745.817352 -0.031533 -0.023321  1.505717   \n",
              "4  -6147.449730  96164.973883  97135.043830 -0.008034 -0.005888  1.631144   \n",
              "\n",
              "         Vy    Vz_sim        Vz  \n",
              "0 -2.214687  2.918531  2.961412  \n",
              "1 -0.094020  3.360140  3.343555  \n",
              "2  1.085898  2.605115  2.564370  \n",
              "3  1.513673  1.826899  1.788955  \n",
              "4  1.630283  1.221516  1.188956  "
            ]
          },
          "metadata": {
            "tags": []
          },
          "execution_count": 194
        }
      ]
    },
    {
      "cell_type": "code",
      "metadata": {
        "id": "h0-v8G0tJE8K",
        "colab_type": "code",
        "colab": {},
        "outputId": "5e649220-e2e5-4ac9-ccb0-4923ec88931f"
      },
      "source": [
        "plt.figure(figsize=(15, 5))\n",
        "plt.plot(m_data['t'], m_data['Vx'])\n",
        "plt.plot(m_data['t'], m_data['Vx_sim'])"
      ],
      "execution_count": 0,
      "outputs": [
        {
          "output_type": "execute_result",
          "data": {
            "text/plain": [
              "[<matplotlib.lines.Line2D at 0x1b2e6b10d68>]"
            ]
          },
          "metadata": {
            "tags": []
          },
          "execution_count": 195
        },
        {
          "output_type": "display_data",
          "data": {
            "image/png": "[encoded data removed]",
            "text/plain": [
              "<Figure size 1080x360 with 1 Axes>"
            ]
          },
          "metadata": {
            "tags": [],
            "needs_background": "light"
          }
        }
      ]
    },
    {
      "cell_type": "code",
      "metadata": {
        "id": "JlpV4zxWJE8Q",
        "colab_type": "code",
        "colab": {}
      },
      "source": [
        ""
      ],
      "execution_count": 0,
      "outputs": []
    },
    {
      "cell_type": "code",
      "metadata": {
        "id": "YcSViye3JE8U",
        "colab_type": "code",
        "colab": {}
      },
      "source": [
        ""
      ],
      "execution_count": 0,
      "outputs": []
    }
  ]
}