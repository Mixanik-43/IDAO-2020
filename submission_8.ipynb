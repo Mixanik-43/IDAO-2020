{
 "cells": [
  {
   "cell_type": "code",
   "execution_count": 1,
   "metadata": {
    "colab": {},
    "colab_type": "code",
    "id": "VXyqz1FjJE6W"
   },
   "outputs": [
    {
     "name": "stderr",
     "output_type": "stream",
     "text": [
      "ERROR:fbprophet:Importing plotly failed. Interactive plots will not work.\n"
     ]
    }
   ],
   "source": [
    "from tqdm import tqdm\n",
    "import numpy as np\n",
    "import pandas as pd\n",
    "from scipy.interpolate import splrep, splev\n",
    "import datetime as dt\n",
    "import matplotlib.pyplot as plt\n",
    "from fbprophet import Prophet\n",
    "from scipy.interpolate import InterpolatedUnivariateSpline\n",
    "%matplotlib inline\n",
    "plt.rcParams.update({'font.size': 18})"
   ]
  },
  {
   "cell_type": "code",
   "execution_count": 2,
   "metadata": {
    "colab": {},
    "colab_type": "code",
    "id": "NWYkckHCJE6l"
   },
   "outputs": [],
   "source": [
    "def smape(satellite_predicted_values, satellite_true_values):\n",
    "    # the division, addition and subtraction are pointwise\n",
    "    return np.mean(np.abs((satellite_predicted_values - satellite_true_values)/\n",
    "                (np.abs(satellite_predicted_values) + np.abs(satellite_true_values))))\n",
    "\n",
    "\n",
    "def drop_close(t, x, eps=10**9):\n",
    "    '''\n",
    "    t = time array, x = data array, eps is in nanoseconds\n",
    "    Returns entries in t,x with corresponding consecutive times > eps\n",
    "    \n",
    "    '''\n",
    "    t = np.array(t) #if not already np array, convert\n",
    "    x = np.array(x) #if t or x are pandas Series, will have dimension mismatch\n",
    "    far = np.concatenate([(t[1:] - t[:-1]) > eps, [True]])\n",
    "    return t[far], x[far]\n",
    "\n",
    "\n",
    "def resample(t, x, step=10 * 10**9, t_new=None, return_t=False):\n",
    "    '''\n",
    "    t: time array (or series); \n",
    "    x: data array (or series); \n",
    "    t_new: new time scale from start to end of t with step size step;\n",
    "    step: = 10 seconds by default; \n",
    "    return_t: by default, do not return resampled times\n",
    "    \n",
    "    resample time series or array by 10 (default) sec intervals and \n",
    "    return new time series (if t_new=True) and spline approximation series for data\n",
    "    \n",
    "    \n",
    "    '''\n",
    "    t, x = drop_close(t, x)\n",
    "    if t_new is None:\n",
    "        t_new = np.arange(t[0], t[-1], step)\n",
    "    try:\n",
    "        spl = splrep(t, x)\n",
    "        x_new = splev(t_new, spl)\n",
    "    except:\n",
    "        raise ValueError(f'interpolation error, x length = {len(x)}, \\\n",
    "        t_new length = {len(t_new)}')\n",
    "\n",
    "    return (t_new, x_new) if return_t else x_new\n",
    "\n",
    "\n",
    "def get_peaks(array):\n",
    "    '''\n",
    "    returns index of \"sharp\" peaks, excluding first and last values of array\n",
    "    \n",
    "    index of \"smooth peaks\", e.g. 1 2 3 9 9 3 2 1, is not returned\n",
    "    '''\n",
    "    return np.where((array[1:-1] > array[2:]) & (array[1:-1] > array[:-2]))[0] + 1\n",
    "\n",
    "\n",
    "def get_satellite_data(data, sat_id):\n",
    "    '''\n",
    "    returns all data for particular satellite by id\n",
    "    '''\n",
    "    return data[data['sat_id'] == sat_id]\n",
    "\n",
    "\n",
    "def remove_time_jumps(satellite_data, features_list=('x_sim', 'y_sim', 'z_sim', 'Vx_sim', 'Vy_sim', 'Vz_sim'),\n",
    "                      suffix='_jumps_removed',time_threshold = 0.00003):\n",
    "    #time_threshold 0.00003 sufficient for test and train\n",
    "    #time_threshold 0.00002 will throw errors\n",
    "    '''\n",
    "    removes time jumps in the simulation for a single satellite\n",
    "    for train and test data, sufficient to set time_threshold at default\n",
    "    '''\n",
    "    satellite_data['t'] = ((pd.to_datetime(satellite_data['epoch']) - pd.to_datetime(satellite_data['epoch'])[0]) /\n",
    "                           np.timedelta64(1, 'D')).astype(float)\n",
    "    satellite_data['dt'] = satellite_data['t'].diff()\n",
    "    # the most frequent time interval\n",
    "    t_standard = satellite_data['dt'].value_counts().index[0]\n",
    "\n",
    "    # time steps used for simulations\n",
    "    satellite_data['t_sim'] = satellite_data.index.values * t_standard\n",
    "\n",
    "    n = satellite_data.shape[0]\n",
    "    corrected_features = []\n",
    "    for feature_name in features_list:\n",
    "        corrected_feature = [0] * n\n",
    "        corrected_feature[0] = satellite_data[feature_name][0]\n",
    "\n",
    "        feature = satellite_data[feature_name]\n",
    "\n",
    "        for j in range(1, n - 1):\n",
    "            if satellite_data.t[j] < satellite_data.t_sim[j] - time_threshold:\n",
    "                # approximate by the left side\n",
    "    \n",
    "                # look for the interval\n",
    "                step = 0\n",
    "                while satellite_data.t[j] < satellite_data.t_sim[j - step] - time_threshold:\n",
    "                    step += 1\n",
    "                #             print(step)\n",
    "                corrected_feature[j] = feature[j - step] - (satellite_data.t_sim[j - step] - satellite_data.t[j]) / (\n",
    "                            satellite_data.t_sim[j - step] - satellite_data.t_sim[j - step - 1]) * (\n",
    "                                              feature[j - step] - feature[j - step - 1])\n",
    "            elif satellite_data.t[j] > satellite_data.t_sim[j] + time_threshold:\n",
    "                # approximate by the right side\n",
    "    \n",
    "                # look for the interval\n",
    "                step = 0\n",
    "                while satellite_data.t[j] > satellite_data.t_sim[j + step] + time_threshold:\n",
    "                    step += 1\n",
    "    \n",
    "                corrected_feature[j] = feature[j + step + 1] - (satellite_data.t_sim[j + step + 1] - satellite_data.t[j]) / (\n",
    "                            satellite_data.t_sim[j + step + 1] - satellite_data.t_sim[j + step]) * (\n",
    "                                              feature[j + step + 1] - feature[j + step])\n",
    "            else:\n",
    "                corrected_feature[j] = feature[j]\n",
    "    \n",
    "        corrected_feature[n - 1] = feature[n - 1] + corrected_feature[n - 2] - feature[n - 2]\n",
    "        corrected_features.append(corrected_feature)\n",
    "    return pd.DataFrame(corrected_features, index=[f + suffix for f in features_list]).T"
   ]
  },
  {
   "cell_type": "code",
   "execution_count": 3,
   "metadata": {
    "colab": {},
    "colab_type": "code",
    "id": "-TN9lNVPJE6s"
   },
   "outputs": [],
   "source": [
    "def insert_previous_and_shift(df,col_name,ind):\n",
    "    '''\n",
    "    input a data frame (df), column name (col_name), and index (ind)\n",
    "    insert previous value of df[col_name] at index and shift the rest \n",
    "    of df[col_name] from ind by +1;\n",
    "    This is used for remove_time_jumps_fast\n",
    "    '''\n",
    "    shifted_series = df[col_name].shift(1)\n",
    "    df[col_name].iloc[ind] = df[col_name].iloc[ind-1]\n",
    "    df[col_name].iloc[ind+1:] = shifted_series.iloc[ind+1:]\n",
    "    return df"
   ]
  },
  {
   "cell_type": "code",
   "execution_count": 4,
   "metadata": {
    "colab": {},
    "colab_type": "code",
    "id": "ilY6WzcOJE60"
   },
   "outputs": [],
   "source": [
    "def remove_time_jumps_fast(data, features_list=\n",
    "                           ('x_sim', 'y_sim', 'z_sim', 'Vx_sim', 'Vy_sim', 'Vz_sim'),\n",
    "                           threshold = 0.000001):\n",
    "    #time_threshold 0.00003 sufficient for test and train\n",
    "    #time_threshold 0.00002 will throw errors\n",
    "    '''\n",
    "    removes time jumps in the simulation for a single satellite\n",
    "    for train and test data, sufficient to set time_threshold at default\n",
    "    s_data = satellite data\n",
    "    the features are replaced by the correction\n",
    "    note that threshold here is not the same as in remove_time_jumps\n",
    "    '''\n",
    "    data['t'] = ((pd.to_datetime(data['epoch']) - pd.to_datetime(data['epoch'])[0]) /\n",
    "                               np.timedelta64(1, 'D')).astype(float)\n",
    "    data['dt'] = data['t'].diff(1)\n",
    "\n",
    "    index_for_correction = data[data['dt'] < threshold].index \n",
    "    #print(index_for_correction)\n",
    "    if list(index_for_correction): #if non empty\n",
    "        for feature in features_list:\n",
    "            for i in index_for_correction:\n",
    "                data = insert_previous_and_shift(data,feature,i)\n",
    "    return data"
   ]
  },
  {
   "cell_type": "markdown",
   "metadata": {
    "colab_type": "text",
    "id": "hMW8narvJE67"
   },
   "source": [
    "## Transforming all the data"
   ]
  },
  {
   "cell_type": "code",
   "execution_count": 9,
   "metadata": {
    "colab": {},
    "colab_type": "code",
    "id": "-sqU97s-JE69"
   },
   "outputs": [],
   "source": [
    "import utils\n",
    "from LinearAlignment import LinearAlignment"
   ]
  },
  {
   "cell_type": "code",
   "execution_count": 6,
   "metadata": {
    "colab": {},
    "colab_type": "code",
    "id": "ZfYLPtbZJE7E"
   },
   "outputs": [],
   "source": [
    "features_list=['x', 'y', 'z', 'Vx', 'Vy', 'Vz']"
   ]
  },
  {
   "cell_type": "code",
   "execution_count": 7,
   "metadata": {
    "colab": {
     "base_uri": "https://localhost:8080/",
     "height": 299
    },
    "colab_type": "code",
    "id": "iFtkEKxZJE7O",
    "outputId": "670fafeb-efc8-4614-c723-d96bdeae1c5d"
   },
   "outputs": [
    {
     "data": {
      "text/html": [
       "<div>\n",
       "<style scoped>\n",
       "    .dataframe tbody tr th:only-of-type {\n",
       "        vertical-align: middle;\n",
       "    }\n",
       "\n",
       "    .dataframe tbody tr th {\n",
       "        vertical-align: top;\n",
       "    }\n",
       "\n",
       "    .dataframe thead th {\n",
       "        text-align: right;\n",
       "    }\n",
       "</style>\n",
       "<table border=\"1\" class=\"dataframe\">\n",
       "  <thead>\n",
       "    <tr style=\"text-align: right;\">\n",
       "      <th></th>\n",
       "      <th>epoch</th>\n",
       "      <th>sat_id</th>\n",
       "      <th>x</th>\n",
       "      <th>y</th>\n",
       "      <th>z</th>\n",
       "      <th>Vx</th>\n",
       "      <th>Vy</th>\n",
       "      <th>Vz</th>\n",
       "      <th>x_sim</th>\n",
       "      <th>y_sim</th>\n",
       "      <th>z_sim</th>\n",
       "      <th>Vx_sim</th>\n",
       "      <th>Vy_sim</th>\n",
       "      <th>Vz_sim</th>\n",
       "      <th>time</th>\n",
       "    </tr>\n",
       "    <tr>\n",
       "      <th>id</th>\n",
       "      <th></th>\n",
       "      <th></th>\n",
       "      <th></th>\n",
       "      <th></th>\n",
       "      <th></th>\n",
       "      <th></th>\n",
       "      <th></th>\n",
       "      <th></th>\n",
       "      <th></th>\n",
       "      <th></th>\n",
       "      <th></th>\n",
       "      <th></th>\n",
       "      <th></th>\n",
       "      <th></th>\n",
       "      <th></th>\n",
       "    </tr>\n",
       "  </thead>\n",
       "  <tbody>\n",
       "    <tr>\n",
       "      <th>0</th>\n",
       "      <td>1.388534e+18</td>\n",
       "      <td>0</td>\n",
       "      <td>-8855.823863</td>\n",
       "      <td>13117.780146</td>\n",
       "      <td>-20728.353233</td>\n",
       "      <td>-0.908303</td>\n",
       "      <td>-3.808436</td>\n",
       "      <td>-2.022083</td>\n",
       "      <td>-8843.131454</td>\n",
       "      <td>13138.221690</td>\n",
       "      <td>-20741.615306</td>\n",
       "      <td>-0.907527</td>\n",
       "      <td>-3.804930</td>\n",
       "      <td>-2.024133</td>\n",
       "      <td>2014-01-01T00:00:00.000</td>\n",
       "    </tr>\n",
       "    <tr>\n",
       "      <th>1</th>\n",
       "      <td>1.388537e+18</td>\n",
       "      <td>0</td>\n",
       "      <td>-10567.672384</td>\n",
       "      <td>1619.746066</td>\n",
       "      <td>-24451.813271</td>\n",
       "      <td>-0.302590</td>\n",
       "      <td>-4.272617</td>\n",
       "      <td>-0.612796</td>\n",
       "      <td>-10555.500066</td>\n",
       "      <td>1649.289367</td>\n",
       "      <td>-24473.089556</td>\n",
       "      <td>-0.303704</td>\n",
       "      <td>-4.269816</td>\n",
       "      <td>-0.616468</td>\n",
       "      <td>2014-01-01T00:46:43.000</td>\n",
       "    </tr>\n",
       "    <tr>\n",
       "      <th>2</th>\n",
       "      <td>1.388540e+18</td>\n",
       "      <td>0</td>\n",
       "      <td>-10578.684043</td>\n",
       "      <td>-10180.467460</td>\n",
       "      <td>-24238.280949</td>\n",
       "      <td>0.277435</td>\n",
       "      <td>-4.047522</td>\n",
       "      <td>0.723155</td>\n",
       "      <td>-10571.858472</td>\n",
       "      <td>-10145.939908</td>\n",
       "      <td>-24271.169776</td>\n",
       "      <td>0.274880</td>\n",
       "      <td>-4.046788</td>\n",
       "      <td>0.718768</td>\n",
       "      <td>2014-01-01T01:33:26.001</td>\n",
       "    </tr>\n",
       "    <tr>\n",
       "      <th>3</th>\n",
       "      <td>1.388543e+18</td>\n",
       "      <td>0</td>\n",
       "      <td>-9148.251857</td>\n",
       "      <td>-20651.437460</td>\n",
       "      <td>-20720.381279</td>\n",
       "      <td>0.715600</td>\n",
       "      <td>-3.373762</td>\n",
       "      <td>1.722115</td>\n",
       "      <td>-9149.620794</td>\n",
       "      <td>-20618.200201</td>\n",
       "      <td>-20765.019094</td>\n",
       "      <td>0.712437</td>\n",
       "      <td>-3.375202</td>\n",
       "      <td>1.718306</td>\n",
       "      <td>2014-01-01T02:20:09.001</td>\n",
       "    </tr>\n",
       "    <tr>\n",
       "      <th>4</th>\n",
       "      <td>1.388546e+18</td>\n",
       "      <td>0</td>\n",
       "      <td>-6719.092336</td>\n",
       "      <td>-28929.061629</td>\n",
       "      <td>-14938.907967</td>\n",
       "      <td>0.992507</td>\n",
       "      <td>-2.519732</td>\n",
       "      <td>2.344703</td>\n",
       "      <td>-6729.358857</td>\n",
       "      <td>-28902.271436</td>\n",
       "      <td>-14992.399986</td>\n",
       "      <td>0.989382</td>\n",
       "      <td>-2.522618</td>\n",
       "      <td>2.342237</td>\n",
       "      <td>2014-01-01T03:06:52.002</td>\n",
       "    </tr>\n",
       "  </tbody>\n",
       "</table>\n",
       "</div>"
      ],
      "text/plain": [
       "           epoch  sat_id             x             y             z        Vx  \\\n",
       "id                                                                             \n",
       "0   1.388534e+18       0  -8855.823863  13117.780146 -20728.353233 -0.908303   \n",
       "1   1.388537e+18       0 -10567.672384   1619.746066 -24451.813271 -0.302590   \n",
       "2   1.388540e+18       0 -10578.684043 -10180.467460 -24238.280949  0.277435   \n",
       "3   1.388543e+18       0  -9148.251857 -20651.437460 -20720.381279  0.715600   \n",
       "4   1.388546e+18       0  -6719.092336 -28929.061629 -14938.907967  0.992507   \n",
       "\n",
       "          Vy        Vz         x_sim         y_sim         z_sim    Vx_sim  \\\n",
       "id                                                                           \n",
       "0  -3.808436 -2.022083  -8843.131454  13138.221690 -20741.615306 -0.907527   \n",
       "1  -4.272617 -0.612796 -10555.500066   1649.289367 -24473.089556 -0.303704   \n",
       "2  -4.047522  0.723155 -10571.858472 -10145.939908 -24271.169776  0.274880   \n",
       "3  -3.373762  1.722115  -9149.620794 -20618.200201 -20765.019094  0.712437   \n",
       "4  -2.519732  2.344703  -6729.358857 -28902.271436 -14992.399986  0.989382   \n",
       "\n",
       "      Vy_sim    Vz_sim                     time  \n",
       "id                                               \n",
       "0  -3.804930 -2.024133  2014-01-01T00:00:00.000  \n",
       "1  -4.269816 -0.616468  2014-01-01T00:46:43.000  \n",
       "2  -4.046788  0.718768  2014-01-01T01:33:26.001  \n",
       "3  -3.375202  1.718306  2014-01-01T02:20:09.001  \n",
       "4  -2.522618  2.342237  2014-01-01T03:06:52.002  "
      ]
     },
     "execution_count": 7,
     "metadata": {},
     "output_type": "execute_result"
    }
   ],
   "source": [
    "data = pd.read_csv('data/train.csv', index_col = 'id')\n",
    "data['time'] = data['epoch']\n",
    "data['epoch'] = pd.to_datetime(data['epoch']).values.astype(float)\n",
    "data.head()"
   ]
  },
  {
   "cell_type": "code",
   "execution_count": 8,
   "metadata": {},
   "outputs": [],
   "source": [
    "test_data = pd.read_csv('data/test.csv', index_col = 'id')\n",
    "test_data['time'] = test_data['epoch']\n",
    "test_data['epoch'] = pd.to_datetime(test_data['epoch']).values.astype(float)"
   ]
  },
  {
   "cell_type": "code",
   "execution_count": 10,
   "metadata": {},
   "outputs": [
    {
     "data": {
      "text/html": [
       "<div>\n",
       "<style scoped>\n",
       "    .dataframe tbody tr th:only-of-type {\n",
       "        vertical-align: middle;\n",
       "    }\n",
       "\n",
       "    .dataframe tbody tr th {\n",
       "        vertical-align: top;\n",
       "    }\n",
       "\n",
       "    .dataframe thead th {\n",
       "        text-align: right;\n",
       "    }\n",
       "</style>\n",
       "<table border=\"1\" class=\"dataframe\">\n",
       "  <thead>\n",
       "    <tr style=\"text-align: right;\">\n",
       "      <th></th>\n",
       "      <th>sat_id</th>\n",
       "      <th>epoch</th>\n",
       "      <th>x_sim</th>\n",
       "      <th>y_sim</th>\n",
       "      <th>z_sim</th>\n",
       "      <th>Vx_sim</th>\n",
       "      <th>Vy_sim</th>\n",
       "      <th>Vz_sim</th>\n",
       "      <th>time</th>\n",
       "    </tr>\n",
       "    <tr>\n",
       "      <th>id</th>\n",
       "      <th></th>\n",
       "      <th></th>\n",
       "      <th></th>\n",
       "      <th></th>\n",
       "      <th></th>\n",
       "      <th></th>\n",
       "      <th></th>\n",
       "      <th></th>\n",
       "      <th></th>\n",
       "    </tr>\n",
       "  </thead>\n",
       "  <tbody>\n",
       "    <tr>\n",
       "      <th>3927</th>\n",
       "      <td>1</td>\n",
       "      <td>1.391213e+18</td>\n",
       "      <td>-13366.891347</td>\n",
       "      <td>-14236.753503</td>\n",
       "      <td>6386.774555</td>\n",
       "      <td>4.333815</td>\n",
       "      <td>-0.692764</td>\n",
       "      <td>0.810774</td>\n",
       "      <td>2014-02-01T00:01:45.162</td>\n",
       "    </tr>\n",
       "    <tr>\n",
       "      <th>3928</th>\n",
       "      <td>1</td>\n",
       "      <td>1.391214e+18</td>\n",
       "      <td>-7370.434039</td>\n",
       "      <td>-14498.771520</td>\n",
       "      <td>7130.411325</td>\n",
       "      <td>5.077413</td>\n",
       "      <td>0.360609</td>\n",
       "      <td>0.313402</td>\n",
       "      <td>2014-02-01T00:22:57.007</td>\n",
       "    </tr>\n",
       "    <tr>\n",
       "      <th>3929</th>\n",
       "      <td>1</td>\n",
       "      <td>1.391215e+18</td>\n",
       "      <td>-572.068654</td>\n",
       "      <td>-13065.289498</td>\n",
       "      <td>7033.794876</td>\n",
       "      <td>5.519106</td>\n",
       "      <td>2.012830</td>\n",
       "      <td>-0.539412</td>\n",
       "      <td>2014-02-01T00:44:08.852</td>\n",
       "    </tr>\n",
       "    <tr>\n",
       "      <th>3930</th>\n",
       "      <td>1</td>\n",
       "      <td>1.391217e+18</td>\n",
       "      <td>6208.945257</td>\n",
       "      <td>-9076.852425</td>\n",
       "      <td>5548.296900</td>\n",
       "      <td>4.849212</td>\n",
       "      <td>4.338955</td>\n",
       "      <td>-1.869600</td>\n",
       "      <td>2014-02-01T01:05:20.697</td>\n",
       "    </tr>\n",
       "    <tr>\n",
       "      <th>3931</th>\n",
       "      <td>1</td>\n",
       "      <td>1.391218e+18</td>\n",
       "      <td>10768.200284</td>\n",
       "      <td>-2199.706707</td>\n",
       "      <td>2272.014862</td>\n",
       "      <td>1.940505</td>\n",
       "      <td>6.192887</td>\n",
       "      <td>-3.167724</td>\n",
       "      <td>2014-02-01T01:26:32.542</td>\n",
       "    </tr>\n",
       "  </tbody>\n",
       "</table>\n",
       "</div>"
      ],
      "text/plain": [
       "      sat_id         epoch         x_sim         y_sim        z_sim    Vx_sim  \\\n",
       "id                                                                              \n",
       "3927       1  1.391213e+18 -13366.891347 -14236.753503  6386.774555  4.333815   \n",
       "3928       1  1.391214e+18  -7370.434039 -14498.771520  7130.411325  5.077413   \n",
       "3929       1  1.391215e+18   -572.068654 -13065.289498  7033.794876  5.519106   \n",
       "3930       1  1.391217e+18   6208.945257  -9076.852425  5548.296900  4.849212   \n",
       "3931       1  1.391218e+18  10768.200284  -2199.706707  2272.014862  1.940505   \n",
       "\n",
       "        Vy_sim    Vz_sim                     time  \n",
       "id                                                 \n",
       "3927 -0.692764  0.810774  2014-02-01T00:01:45.162  \n",
       "3928  0.360609  0.313402  2014-02-01T00:22:57.007  \n",
       "3929  2.012830 -0.539412  2014-02-01T00:44:08.852  \n",
       "3930  4.338955 -1.869600  2014-02-01T01:05:20.697  \n",
       "3931  6.192887 -3.167724  2014-02-01T01:26:32.542  "
      ]
     },
     "execution_count": 10,
     "metadata": {},
     "output_type": "execute_result"
    }
   ],
   "source": [
    "test_data.head()"
   ]
  },
  {
   "cell_type": "code",
   "execution_count": 223,
   "metadata": {
    "colab": {
     "base_uri": "https://localhost:8080/",
     "height": 151
    },
    "colab_type": "code",
    "id": "McB3F4RvJE7U",
    "outputId": "c435e3f6-bb60-49e6-cbf5-c517076b1c32"
   },
   "outputs": [
    {
     "name": "stderr",
     "output_type": "stream",
     "text": [
      "\n",
      "  0%|                                                                                          | 0/300 [00:00<?, ?it/s]\n",
      "  0%|▎                                                                                 | 1/300 [00:00<03:53,  1.28it/s]\n",
      "  1%|▌                                                                                 | 2/300 [00:01<03:37,  1.37it/s]\n",
      "  1%|▊                                                                                 | 3/300 [00:02<03:35,  1.38it/s]\n",
      "  1%|█                                                                                 | 4/300 [00:03<04:13,  1.17it/s]\n",
      "  2%|█▎                                                                                | 5/300 [00:04<05:25,  1.10s/it]\n",
      "  2%|█▋                                                                                | 6/300 [00:06<06:28,  1.32s/it]\n",
      "  2%|█▉                                                                                | 7/300 [00:07<06:07,  1.26s/it]\n",
      "  3%|██▏                                                                               | 8/300 [00:08<05:42,  1.17s/it]\n",
      "  3%|██▍                                                                               | 9/300 [00:09<05:09,  1.06s/it]\n",
      "  3%|██▋                                                                              | 10/300 [00:10<05:04,  1.05s/it]\n",
      "  4%|██▉                                                                              | 11/300 [00:11<04:26,  1.08it/s]\n",
      "  4%|███▏                                                                             | 12/300 [00:11<03:59,  1.20it/s]\n",
      "  4%|███▌                                                                             | 13/300 [00:12<03:40,  1.30it/s]\n",
      "  5%|███▊                                                                             | 14/300 [00:13<03:25,  1.39it/s]\n",
      "  5%|████                                                                             | 15/300 [00:13<03:16,  1.45it/s]\n",
      "  5%|████▎                                                                            | 16/300 [00:14<03:47,  1.25it/s]\n",
      "  6%|████▌                                                                            | 17/300 [00:16<04:18,  1.09it/s]\n",
      "  6%|████▊                                                                            | 18/300 [00:16<03:51,  1.22it/s]\n",
      "  6%|█████▏                                                                           | 19/300 [00:17<03:39,  1.28it/s]\n",
      "  7%|█████▍                                                                           | 20/300 [00:18<04:06,  1.14it/s]\n",
      "  7%|█████▋                                                                           | 21/300 [00:19<03:48,  1.22it/s]\n",
      "  7%|█████▉                                                                           | 22/300 [00:19<03:30,  1.32it/s]\n",
      "  8%|██████▏                                                                          | 23/300 [00:20<03:21,  1.37it/s]\n",
      "  8%|██████▍                                                                          | 24/300 [00:21<03:21,  1.37it/s]\n",
      "  8%|██████▊                                                                          | 25/300 [00:21<03:16,  1.40it/s]\n",
      "  9%|███████                                                                          | 26/300 [00:22<03:16,  1.39it/s]\n",
      "  9%|███████▎                                                                         | 27/300 [00:23<03:08,  1.45it/s]\n",
      "  9%|███████▌                                                                         | 28/300 [00:23<03:02,  1.49it/s]\n",
      " 10%|███████▊                                                                         | 29/300 [00:24<03:05,  1.46it/s]\n",
      " 10%|████████                                                                         | 30/300 [00:25<03:01,  1.49it/s]\n",
      " 10%|████████▎                                                                        | 31/300 [00:25<02:58,  1.50it/s]\n",
      " 11%|████████▋                                                                        | 32/300 [00:26<02:57,  1.51it/s]\n",
      " 11%|████████▉                                                                        | 33/300 [00:27<02:52,  1.55it/s]\n",
      " 11%|█████████▏                                                                       | 34/300 [00:27<03:03,  1.45it/s]\n",
      " 12%|█████████▍                                                                       | 35/300 [00:28<03:03,  1.44it/s]\n",
      " 12%|█████████▋                                                                       | 36/300 [00:29<03:02,  1.44it/s]\n",
      " 12%|█████████▉                                                                       | 37/300 [00:30<03:20,  1.31it/s]\n",
      " 13%|██████████▎                                                                      | 38/300 [00:30<03:09,  1.38it/s]\n",
      " 13%|██████████▌                                                                      | 39/300 [00:31<03:17,  1.32it/s]\n",
      " 13%|██████████▊                                                                      | 40/300 [00:32<03:14,  1.33it/s]\n",
      " 14%|███████████                                                                      | 41/300 [00:33<03:36,  1.20it/s]\n",
      " 14%|███████████▎                                                                     | 42/300 [00:34<03:49,  1.12it/s]\n",
      " 14%|███████████▌                                                                     | 43/300 [00:35<03:30,  1.22it/s]\n",
      " 15%|███████████▉                                                                     | 44/300 [00:35<03:17,  1.29it/s]\n",
      " 15%|████████████▏                                                                    | 45/300 [00:36<03:49,  1.11it/s]\n",
      " 15%|████████████▍                                                                    | 46/300 [00:37<03:44,  1.13it/s]\n",
      " 16%|████████████▋                                                                    | 47/300 [00:38<03:58,  1.06it/s]\n",
      " 16%|████████████▉                                                                    | 48/300 [00:39<03:51,  1.09it/s]\n",
      " 16%|█████████████▏                                                                   | 49/300 [00:40<03:32,  1.18it/s]\n",
      " 17%|█████████████▌                                                                   | 50/300 [00:41<03:15,  1.28it/s]\n",
      " 17%|█████████████▊                                                                   | 51/300 [00:41<03:02,  1.36it/s]\n",
      " 17%|██████████████                                                                   | 52/300 [00:42<03:43,  1.11it/s]\n",
      " 18%|██████████████▎                                                                  | 53/300 [00:43<03:38,  1.13it/s]\n",
      " 18%|██████████████▌                                                                  | 54/300 [00:44<03:20,  1.23it/s]\n",
      " 18%|██████████████▊                                                                  | 55/300 [00:45<03:24,  1.20it/s]\n",
      " 19%|███████████████                                                                  | 56/300 [00:45<03:13,  1.26it/s]\n",
      " 19%|███████████████▍                                                                 | 57/300 [00:46<03:03,  1.32it/s]\n",
      " 19%|███████████████▋                                                                 | 58/300 [00:47<02:54,  1.38it/s]\n",
      " 20%|███████████████▉                                                                 | 59/300 [00:47<02:46,  1.45it/s]\n",
      " 20%|████████████████▏                                                                | 60/300 [00:48<02:42,  1.48it/s]\n",
      " 20%|████████████████▍                                                                | 61/300 [00:49<02:49,  1.41it/s]\n",
      " 21%|████████████████▋                                                                | 62/300 [00:49<02:40,  1.48it/s]\n",
      " 21%|█████████████████                                                                | 63/300 [00:50<02:37,  1.51it/s]\n",
      " 21%|█████████████████▎                                                               | 64/300 [00:51<02:37,  1.50it/s]\n",
      " 22%|█████████████████▌                                                               | 65/300 [00:51<02:37,  1.49it/s]\n",
      " 22%|█████████████████▊                                                               | 66/300 [00:52<02:43,  1.43it/s]\n",
      " 22%|██████████████████                                                               | 67/300 [00:53<02:57,  1.31it/s]\n",
      " 23%|██████████████████▎                                                              | 68/300 [00:54<03:05,  1.25it/s]\n",
      " 23%|██████████████████▋                                                              | 69/300 [00:55<02:53,  1.33it/s]\n",
      " 23%|██████████████████▉                                                              | 70/300 [00:55<02:46,  1.38it/s]\n",
      " 24%|███████████████████▏                                                             | 71/300 [00:56<02:40,  1.43it/s]\n",
      " 24%|███████████████████▍                                                             | 72/300 [00:57<02:38,  1.44it/s]\n",
      " 24%|███████████████████▋                                                             | 73/300 [00:58<03:09,  1.20it/s]\n",
      " 25%|███████████████████▉                                                             | 74/300 [00:59<03:25,  1.10it/s]\n",
      " 25%|████████████████████▎                                                            | 75/300 [01:00<03:24,  1.10it/s]\n",
      " 25%|████████████████████▌                                                            | 76/300 [01:01<03:22,  1.10it/s]\n",
      " 26%|████████████████████▊                                                            | 77/300 [01:01<03:08,  1.18it/s]\n",
      " 26%|█████████████████████                                                            | 78/300 [01:02<03:00,  1.23it/s]\n",
      " 26%|█████████████████████▎                                                           | 79/300 [01:03<02:53,  1.28it/s]\n",
      " 27%|█████████████████████▌                                                           | 80/300 [01:04<02:46,  1.32it/s]\n",
      " 27%|█████████████████████▊                                                           | 81/300 [01:04<02:39,  1.37it/s]\n",
      " 27%|██████████████████████▏                                                          | 82/300 [01:05<02:34,  1.41it/s]\n",
      " 28%|██████████████████████▍                                                          | 83/300 [01:06<02:31,  1.43it/s]\n",
      " 28%|██████████████████████▋                                                          | 84/300 [01:06<02:31,  1.42it/s]\n",
      " 28%|██████████████████████▉                                                          | 85/300 [01:08<03:14,  1.10it/s]\n",
      " 29%|███████████████████████▏                                                         | 86/300 [01:09<03:39,  1.02s/it]\n",
      " 29%|███████████████████████▍                                                         | 87/300 [01:10<03:27,  1.03it/s]\n",
      " 29%|███████████████████████▊                                                         | 88/300 [01:11<03:19,  1.06it/s]\n",
      " 30%|████████████████████████                                                         | 89/300 [01:11<03:01,  1.16it/s]\n",
      " 30%|████████████████████████▎                                                        | 90/300 [01:12<03:18,  1.06it/s]\n",
      " 30%|████████████████████████▌                                                        | 91/300 [01:13<03:05,  1.13it/s]\n",
      " 31%|████████████████████████▊                                                        | 92/300 [01:14<02:52,  1.21it/s]\n",
      " 31%|█████████████████████████                                                        | 93/300 [01:15<02:42,  1.27it/s]\n",
      " 31%|█████████████████████████▍                                                       | 94/300 [01:15<02:36,  1.31it/s]\n",
      " 32%|█████████████████████████▋                                                       | 95/300 [01:16<02:31,  1.36it/s]\n",
      " 32%|█████████████████████████▉                                                       | 96/300 [01:17<02:25,  1.40it/s]\n",
      " 32%|██████████████████████████▏                                                      | 97/300 [01:17<02:22,  1.43it/s]\n",
      " 33%|██████████████████████████▍                                                      | 98/300 [01:18<02:22,  1.41it/s]\n",
      " 33%|██████████████████████████▋                                                      | 99/300 [01:19<02:50,  1.18it/s]\n",
      " 33%|██████████████████████████▋                                                     | 100/300 [01:20<02:42,  1.23it/s]\n",
      " 34%|██████████████████████████▉                                                     | 101/300 [01:21<02:33,  1.29it/s]\n",
      " 34%|███████████████████████████▏                                                    | 102/300 [01:21<02:27,  1.34it/s]\n",
      " 34%|███████████████████████████▍                                                    | 103/300 [01:22<02:23,  1.37it/s]\n",
      " 35%|███████████████████████████▋                                                    | 104/300 [01:23<02:24,  1.36it/s]\n",
      " 35%|████████████████████████████                                                    | 105/300 [01:23<02:19,  1.40it/s]\n",
      " 35%|████████████████████████████▎                                                   | 106/300 [01:24<02:20,  1.38it/s]\n",
      " 36%|████████████████████████████▌                                                   | 107/300 [01:25<02:53,  1.11it/s]\n",
      " 36%|████████████████████████████▊                                                   | 108/300 [01:27<03:24,  1.07s/it]\n",
      " 36%|█████████████████████████████                                                   | 109/300 [01:28<03:30,  1.10s/it]\n",
      " 37%|█████████████████████████████▎                                                  | 110/300 [01:29<03:25,  1.08s/it]\n",
      " 37%|█████████████████████████████▌                                                  | 111/300 [01:31<03:46,  1.20s/it]\n",
      " 37%|█████████████████████████████▊                                                  | 112/300 [01:32<03:36,  1.15s/it]\n",
      " 38%|██████████████████████████████▏                                                 | 113/300 [01:32<03:07,  1.00s/it]\n",
      " 38%|██████████████████████████████▍                                                 | 114/300 [01:33<02:49,  1.10it/s]\n",
      " 38%|██████████████████████████████▋                                                 | 115/300 [01:34<02:39,  1.16it/s]\n",
      " 39%|██████████████████████████████▉                                                 | 116/300 [01:35<02:36,  1.17it/s]\n",
      " 39%|███████████████████████████████▏                                                | 117/300 [01:35<02:37,  1.16it/s]\n",
      " 39%|███████████████████████████████▍                                                | 118/300 [01:36<02:26,  1.24it/s]\n",
      " 40%|███████████████████████████████▋                                                | 119/300 [01:37<02:18,  1.31it/s]\n",
      " 40%|████████████████████████████████                                                | 120/300 [01:37<02:10,  1.38it/s]\n",
      " 40%|████████████████████████████████▎                                               | 121/300 [01:38<02:05,  1.42it/s]\n",
      " 41%|████████████████████████████████▌                                               | 122/300 [01:39<02:02,  1.45it/s]\n",
      " 41%|████████████████████████████████▊                                               | 123/300 [01:39<01:58,  1.50it/s]\n",
      " 41%|█████████████████████████████████                                               | 124/300 [01:40<01:56,  1.52it/s]\n",
      " 42%|█████████████████████████████████▎                                              | 125/300 [01:41<01:57,  1.49it/s]\n",
      " 42%|█████████████████████████████████▌                                              | 126/300 [01:41<01:56,  1.50it/s]\n",
      " 42%|█████████████████████████████████▊                                              | 127/300 [01:42<01:56,  1.49it/s]\n",
      " 43%|██████████████████████████████████▏                                             | 128/300 [01:43<01:56,  1.47it/s]\n",
      " 43%|██████████████████████████████████▍                                             | 129/300 [01:43<01:55,  1.48it/s]\n",
      " 43%|██████████████████████████████████▋                                             | 130/300 [01:44<01:54,  1.49it/s]\n",
      " 44%|██████████████████████████████████▉                                             | 131/300 [01:45<01:53,  1.49it/s]\n",
      " 44%|███████████████████████████████████▏                                            | 132/300 [01:45<01:52,  1.50it/s]\n",
      " 44%|███████████████████████████████████▍                                            | 133/300 [01:46<01:52,  1.49it/s]\n",
      " 45%|███████████████████████████████████▋                                            | 134/300 [01:47<01:55,  1.44it/s]\n",
      " 45%|████████████████████████████████████                                            | 135/300 [01:48<01:54,  1.44it/s]\n"
     ]
    },
    {
     "name": "stderr",
     "output_type": "stream",
     "text": [
      " 45%|████████████████████████████████████▎                                           | 136/300 [01:49<02:25,  1.13it/s]\n",
      " 46%|████████████████████████████████████▌                                           | 137/300 [01:50<02:27,  1.11it/s]\n",
      " 46%|████████████████████████████████████▊                                           | 138/300 [01:51<02:45,  1.02s/it]\n",
      " 46%|█████████████████████████████████████                                           | 139/300 [01:53<03:30,  1.31s/it]\n",
      " 47%|█████████████████████████████████████▎                                          | 140/300 [01:55<04:03,  1.52s/it]\n",
      " 47%|█████████████████████████████████████▌                                          | 141/300 [01:56<03:29,  1.32s/it]\n",
      " 47%|█████████████████████████████████████▊                                          | 142/300 [01:57<03:05,  1.18s/it]\n",
      " 48%|██████████████████████████████████████▏                                         | 143/300 [01:57<02:39,  1.01s/it]\n",
      " 48%|██████████████████████████████████████▍                                         | 144/300 [01:58<02:25,  1.07it/s]\n",
      " 48%|██████████████████████████████████████▋                                         | 145/300 [01:59<02:15,  1.14it/s]\n",
      " 49%|██████████████████████████████████████▉                                         | 146/300 [02:00<02:12,  1.16it/s]\n",
      " 49%|███████████████████████████████████████▏                                        | 147/300 [02:00<02:02,  1.25it/s]\n",
      " 49%|███████████████████████████████████████▍                                        | 148/300 [02:01<01:56,  1.30it/s]\n",
      " 50%|███████████████████████████████████████▋                                        | 149/300 [02:02<01:52,  1.35it/s]\n",
      " 50%|████████████████████████████████████████                                        | 150/300 [02:03<01:54,  1.31it/s]\n",
      " 50%|████████████████████████████████████████▎                                       | 151/300 [02:03<01:59,  1.24it/s]\n",
      " 51%|████████████████████████████████████████▌                                       | 152/300 [02:04<01:59,  1.24it/s]\n",
      " 51%|████████████████████████████████████████▊                                       | 153/300 [02:05<02:02,  1.20it/s]\n",
      " 51%|█████████████████████████████████████████                                       | 154/300 [02:06<02:03,  1.18it/s]\n",
      " 52%|█████████████████████████████████████████▎                                      | 155/300 [02:07<02:05,  1.16it/s]\n",
      " 52%|█████████████████████████████████████████▌                                      | 156/300 [02:08<02:06,  1.14it/s]\n",
      " 52%|█████████████████████████████████████████▊                                      | 157/300 [02:09<01:55,  1.23it/s]\n",
      " 53%|██████████████████████████████████████████▏                                     | 158/300 [02:09<01:47,  1.32it/s]\n",
      " 53%|██████████████████████████████████████████▍                                     | 159/300 [02:10<01:43,  1.36it/s]\n",
      " 53%|██████████████████████████████████████████▋                                     | 160/300 [02:11<01:41,  1.38it/s]\n",
      " 54%|██████████████████████████████████████████▉                                     | 161/300 [02:11<01:41,  1.37it/s]\n",
      " 54%|███████████████████████████████████████████▏                                    | 162/300 [02:12<01:42,  1.35it/s]\n",
      " 54%|███████████████████████████████████████████▍                                    | 163/300 [02:13<01:38,  1.39it/s]\n",
      " 55%|███████████████████████████████████████████▋                                    | 164/300 [02:13<01:36,  1.41it/s]\n",
      " 55%|████████████████████████████████████████████                                    | 165/300 [02:14<01:36,  1.40it/s]\n",
      " 55%|████████████████████████████████████████████▎                                   | 166/300 [02:15<01:39,  1.34it/s]\n",
      " 56%|████████████████████████████████████████████▌                                   | 167/300 [02:16<01:37,  1.36it/s]\n",
      " 56%|████████████████████████████████████████████▊                                   | 168/300 [02:16<01:34,  1.39it/s]\n",
      " 56%|█████████████████████████████████████████████                                   | 169/300 [02:17<01:38,  1.33it/s]\n",
      " 57%|█████████████████████████████████████████████▎                                  | 170/300 [02:18<01:51,  1.16it/s]\n",
      " 57%|█████████████████████████████████████████████▌                                  | 171/300 [02:19<01:49,  1.17it/s]\n",
      " 57%|█████████████████████████████████████████████▊                                  | 172/300 [02:20<01:48,  1.18it/s]\n",
      " 58%|██████████████████████████████████████████████▏                                 | 173/300 [02:21<02:06,  1.00it/s]\n",
      " 58%|██████████████████████████████████████████████▍                                 | 174/300 [02:23<02:12,  1.05s/it]\n",
      " 58%|██████████████████████████████████████████████▋                                 | 175/300 [02:23<01:56,  1.07it/s]\n",
      " 59%|██████████████████████████████████████████████▉                                 | 176/300 [02:24<01:56,  1.07it/s]\n",
      " 59%|███████████████████████████████████████████████▏                                | 177/300 [02:25<01:48,  1.14it/s]\n",
      " 59%|███████████████████████████████████████████████▍                                | 178/300 [02:26<01:43,  1.18it/s]\n",
      " 60%|███████████████████████████████████████████████▋                                | 179/300 [02:27<01:55,  1.05it/s]\n",
      " 60%|████████████████████████████████████████████████                                | 180/300 [02:28<01:50,  1.08it/s]\n",
      " 60%|████████████████████████████████████████████████▎                               | 181/300 [02:29<02:08,  1.08s/it]\n",
      " 61%|████████████████████████████████████████████████▌                               | 182/300 [02:29<01:41,  1.16it/s]\n",
      " 61%|████████████████████████████████████████████████▊                               | 183/300 [02:31<01:47,  1.09it/s]\n",
      " 61%|█████████████████████████████████████████████████                               | 184/300 [02:32<01:49,  1.06it/s]\n",
      " 62%|█████████████████████████████████████████████████▎                              | 185/300 [02:32<01:43,  1.11it/s]\n",
      " 62%|█████████████████████████████████████████████████▌                              | 186/300 [02:33<01:34,  1.21it/s]\n",
      " 62%|█████████████████████████████████████████████████▊                              | 187/300 [02:34<01:40,  1.12it/s]\n",
      " 63%|██████████████████████████████████████████████████▏                             | 188/300 [02:35<01:46,  1.05it/s]\n",
      " 63%|██████████████████████████████████████████████████▍                             | 189/300 [02:36<01:39,  1.12it/s]\n",
      " 63%|██████████████████████████████████████████████████▋                             | 190/300 [02:37<01:31,  1.20it/s]\n",
      " 64%|██████████████████████████████████████████████████▉                             | 191/300 [02:37<01:25,  1.28it/s]\n",
      " 64%|███████████████████████████████████████████████████▏                            | 192/300 [02:38<01:26,  1.25it/s]\n",
      " 64%|███████████████████████████████████████████████████▍                            | 193/300 [02:39<01:30,  1.18it/s]\n",
      " 65%|███████████████████████████████████████████████████▋                            | 194/300 [02:40<01:29,  1.18it/s]\n",
      " 65%|████████████████████████████████████████████████████                            | 195/300 [02:41<01:33,  1.12it/s]\n",
      " 65%|████████████████████████████████████████████████████▎                           | 196/300 [02:42<01:34,  1.10it/s]\n",
      " 66%|████████████████████████████████████████████████████▌                           | 197/300 [02:43<01:29,  1.15it/s]\n",
      " 66%|████████████████████████████████████████████████████▊                           | 198/300 [02:43<01:26,  1.18it/s]\n",
      " 66%|█████████████████████████████████████████████████████                           | 199/300 [02:44<01:25,  1.17it/s]\n",
      " 67%|█████████████████████████████████████████████████████▎                          | 200/300 [02:45<01:23,  1.20it/s]\n",
      " 67%|█████████████████████████████████████████████████████▌                          | 201/300 [02:46<01:19,  1.25it/s]\n",
      " 67%|█████████████████████████████████████████████████████▊                          | 202/300 [02:47<01:30,  1.09it/s]\n",
      " 68%|██████████████████████████████████████████████████████▏                         | 203/300 [02:49<01:47,  1.11s/it]\n",
      " 68%|██████████████████████████████████████████████████████▍                         | 204/300 [02:50<01:52,  1.17s/it]\n",
      " 68%|██████████████████████████████████████████████████████▋                         | 205/300 [02:51<01:48,  1.14s/it]\n",
      " 69%|██████████████████████████████████████████████████████▉                         | 206/300 [02:52<01:48,  1.16s/it]\n",
      " 69%|███████████████████████████████████████████████████████▏                        | 207/300 [02:53<01:38,  1.06s/it]\n",
      " 69%|███████████████████████████████████████████████████████▍                        | 208/300 [02:54<01:34,  1.03s/it]\n",
      " 70%|███████████████████████████████████████████████████████▋                        | 209/300 [02:55<01:27,  1.05it/s]\n",
      " 70%|████████████████████████████████████████████████████████                        | 210/300 [02:55<01:21,  1.10it/s]\n",
      " 70%|████████████████████████████████████████████████████████▎                       | 211/300 [02:56<01:14,  1.20it/s]\n",
      " 71%|████████████████████████████████████████████████████████▌                       | 212/300 [02:57<01:09,  1.27it/s]\n",
      " 71%|████████████████████████████████████████████████████████▊                       | 213/300 [02:57<01:05,  1.32it/s]\n",
      " 71%|█████████████████████████████████████████████████████████                       | 214/300 [02:58<01:02,  1.37it/s]\n",
      " 72%|█████████████████████████████████████████████████████████▎                      | 215/300 [02:59<01:02,  1.36it/s]\n",
      " 72%|█████████████████████████████████████████████████████████▌                      | 216/300 [03:00<01:02,  1.34it/s]\n",
      " 72%|█████████████████████████████████████████████████████████▊                      | 217/300 [03:00<01:00,  1.38it/s]\n",
      " 73%|██████████████████████████████████████████████████████████▏                     | 218/300 [03:01<01:03,  1.29it/s]\n",
      " 73%|██████████████████████████████████████████████████████████▍                     | 219/300 [03:02<01:01,  1.31it/s]\n",
      " 73%|██████████████████████████████████████████████████████████▋                     | 220/300 [03:03<01:17,  1.04it/s]\n",
      " 74%|██████████████████████████████████████████████████████████▉                     | 221/300 [03:04<01:18,  1.01it/s]\n",
      " 74%|███████████████████████████████████████████████████████████▏                    | 222/300 [03:05<01:18,  1.00s/it]\n",
      " 74%|███████████████████████████████████████████████████████████▍                    | 223/300 [03:06<01:13,  1.05it/s]\n",
      " 75%|███████████████████████████████████████████████████████████▋                    | 224/300 [03:07<01:07,  1.13it/s]\n",
      " 75%|████████████████████████████████████████████████████████████                    | 225/300 [03:08<01:07,  1.11it/s]\n",
      " 75%|████████████████████████████████████████████████████████████▎                   | 226/300 [03:09<01:04,  1.15it/s]\n",
      " 76%|████████████████████████████████████████████████████████████▌                   | 227/300 [03:10<01:18,  1.08s/it]\n",
      " 76%|████████████████████████████████████████████████████████████▊                   | 228/300 [03:12<01:30,  1.25s/it]\n",
      " 76%|█████████████████████████████████████████████████████████████                   | 229/300 [03:13<01:22,  1.16s/it]\n",
      " 77%|█████████████████████████████████████████████████████████████▎                  | 230/300 [03:14<01:17,  1.11s/it]\n",
      " 77%|█████████████████████████████████████████████████████████████▌                  | 231/300 [03:15<01:22,  1.20s/it]\n",
      " 77%|█████████████████████████████████████████████████████████████▊                  | 232/300 [03:16<01:14,  1.10s/it]\n",
      " 78%|██████████████████████████████████████████████████████████████▏                 | 233/300 [03:17<01:05,  1.02it/s]\n",
      " 78%|██████████████████████████████████████████████████████████████▍                 | 234/300 [03:18<01:00,  1.10it/s]\n",
      " 78%|██████████████████████████████████████████████████████████████▋                 | 235/300 [03:19<01:08,  1.05s/it]\n",
      " 79%|██████████████████████████████████████████████████████████████▉                 | 236/300 [03:20<01:04,  1.01s/it]\n",
      " 79%|███████████████████████████████████████████████████████████████▏                | 237/300 [03:21<00:59,  1.05it/s]\n",
      " 79%|███████████████████████████████████████████████████████████████▍                | 238/300 [03:21<00:50,  1.22it/s]\n",
      " 80%|███████████████████████████████████████████████████████████████▋                | 239/300 [03:22<00:56,  1.09it/s]\n",
      " 80%|████████████████████████████████████████████████████████████████                | 240/300 [03:23<00:51,  1.17it/s]\n",
      " 80%|████████████████████████████████████████████████████████████████▎               | 241/300 [03:24<00:50,  1.17it/s]\n",
      " 81%|████████████████████████████████████████████████████████████████▌               | 242/300 [03:26<01:02,  1.08s/it]\n",
      " 81%|████████████████████████████████████████████████████████████████▊               | 243/300 [03:27<01:03,  1.11s/it]\n",
      " 81%|█████████████████████████████████████████████████████████████████               | 244/300 [03:28<01:06,  1.19s/it]\n",
      " 82%|█████████████████████████████████████████████████████████████████▎              | 245/300 [03:29<01:03,  1.15s/it]\n",
      " 82%|█████████████████████████████████████████████████████████████████▌              | 246/300 [03:30<00:55,  1.03s/it]\n",
      " 82%|█████████████████████████████████████████████████████████████████▊              | 247/300 [03:31<01:00,  1.15s/it]\n",
      " 83%|██████████████████████████████████████████████████████████████████▏             | 248/300 [03:33<01:02,  1.20s/it]\n",
      " 83%|██████████████████████████████████████████████████████████████████▍             | 249/300 [03:34<01:06,  1.30s/it]\n",
      " 83%|██████████████████████████████████████████████████████████████████▋             | 250/300 [03:36<01:11,  1.43s/it]\n",
      " 84%|██████████████████████████████████████████████████████████████████▉             | 251/300 [03:37<01:06,  1.35s/it]\n",
      " 84%|███████████████████████████████████████████████████████████████████▏            | 252/300 [03:38<01:01,  1.28s/it]\n",
      " 84%|███████████████████████████████████████████████████████████████████▍            | 253/300 [03:39<00:53,  1.14s/it]\n",
      " 85%|███████████████████████████████████████████████████████████████████▋            | 254/300 [03:40<00:46,  1.02s/it]\n",
      " 85%|████████████████████████████████████████████████████████████████████            | 255/300 [03:41<00:47,  1.05s/it]\n",
      " 85%|████████████████████████████████████████████████████████████████████▎           | 256/300 [03:43<01:00,  1.37s/it]\n",
      " 86%|████████████████████████████████████████████████████████████████████▌           | 257/300 [03:44<00:55,  1.29s/it]\n",
      " 86%|████████████████████████████████████████████████████████████████████▊           | 258/300 [03:45<00:54,  1.30s/it]\n",
      " 86%|█████████████████████████████████████████████████████████████████████           | 259/300 [03:46<00:49,  1.21s/it]\n",
      " 87%|█████████████████████████████████████████████████████████████████████▎          | 260/300 [03:47<00:45,  1.13s/it]\n",
      " 87%|█████████████████████████████████████████████████████████████████████▌          | 261/300 [03:48<00:40,  1.04s/it]\n",
      " 87%|█████████████████████████████████████████████████████████████████████▊          | 262/300 [03:49<00:37,  1.01it/s]\n",
      " 88%|██████████████████████████████████████████████████████████████████████▏         | 263/300 [03:49<00:27,  1.33it/s]\n",
      " 88%|██████████████████████████████████████████████████████████████████████▍         | 264/300 [03:50<00:28,  1.27it/s]\n",
      " 88%|██████████████████████████████████████████████████████████████████████▋         | 265/300 [03:51<00:27,  1.27it/s]\n",
      " 89%|██████████████████████████████████████████████████████████████████████▉         | 266/300 [03:52<00:26,  1.29it/s]\n",
      " 89%|███████████████████████████████████████████████████████████████████████▏        | 267/300 [03:52<00:25,  1.29it/s]\n",
      " 89%|███████████████████████████████████████████████████████████████████████▍        | 268/300 [03:53<00:24,  1.32it/s]\n",
      " 90%|███████████████████████████████████████████████████████████████████████▋        | 269/300 [03:53<00:18,  1.70it/s]\n",
      " 90%|████████████████████████████████████████████████████████████████████████        | 270/300 [03:54<00:18,  1.59it/s]\n",
      " 90%|████████████████████████████████████████████████████████████████████████▎       | 271/300 [03:55<00:19,  1.49it/s]\n"
     ]
    },
    {
     "name": "stderr",
     "output_type": "stream",
     "text": [
      " 91%|████████████████████████████████████████████████████████████████████████▌       | 272/300 [03:56<00:20,  1.40it/s]\n",
      " 91%|████████████████████████████████████████████████████████████████████████▊       | 273/300 [03:57<00:23,  1.16it/s]\n",
      " 91%|█████████████████████████████████████████████████████████████████████████       | 274/300 [03:58<00:21,  1.23it/s]\n",
      " 92%|█████████████████████████████████████████████████████████████████████████▎      | 275/300 [03:58<00:20,  1.22it/s]\n",
      " 92%|█████████████████████████████████████████████████████████████████████████▌      | 276/300 [04:00<00:21,  1.12it/s]\n",
      " 92%|█████████████████████████████████████████████████████████████████████████▊      | 277/300 [04:01<00:24,  1.06s/it]\n",
      " 93%|██████████████████████████████████████████████████████████████████████████▏     | 278/300 [04:02<00:21,  1.03it/s]\n",
      " 93%|██████████████████████████████████████████████████████████████████████████▍     | 279/300 [04:03<00:21,  1.02s/it]\n",
      " 93%|██████████████████████████████████████████████████████████████████████████▋     | 280/300 [04:04<00:18,  1.06it/s]\n",
      " 94%|██████████████████████████████████████████████████████████████████████████▉     | 281/300 [04:05<00:20,  1.10s/it]\n",
      " 94%|███████████████████████████████████████████████████████████████████████████▏    | 282/300 [04:06<00:18,  1.05s/it]\n",
      " 94%|███████████████████████████████████████████████████████████████████████████▍    | 283/300 [04:07<00:19,  1.12s/it]\n",
      " 95%|███████████████████████████████████████████████████████████████████████████▋    | 284/300 [04:08<00:16,  1.02s/it]\n",
      " 95%|████████████████████████████████████████████████████████████████████████████    | 285/300 [04:09<00:15,  1.03s/it]\n",
      " 95%|████████████████████████████████████████████████████████████████████████████▎   | 286/300 [04:11<00:16,  1.15s/it]\n",
      " 96%|████████████████████████████████████████████████████████████████████████████▌   | 287/300 [04:12<00:14,  1.14s/it]\n",
      " 96%|████████████████████████████████████████████████████████████████████████████▊   | 288/300 [04:13<00:13,  1.10s/it]\n",
      " 96%|█████████████████████████████████████████████████████████████████████████████   | 289/300 [04:14<00:11,  1.02s/it]\n",
      " 97%|█████████████████████████████████████████████████████████████████████████████▎  | 290/300 [04:15<00:10,  1.08s/it]\n",
      " 97%|█████████████████████████████████████████████████████████████████████████████▌  | 291/300 [04:16<00:09,  1.03s/it]\n",
      " 97%|█████████████████████████████████████████████████████████████████████████████▊  | 292/300 [04:17<00:08,  1.06s/it]\n",
      " 98%|██████████████████████████████████████████████████████████████████████████████▏ | 293/300 [04:18<00:06,  1.02it/s]\n",
      " 98%|██████████████████████████████████████████████████████████████████████████████▍ | 294/300 [04:19<00:06,  1.14s/it]\n",
      " 98%|██████████████████████████████████████████████████████████████████████████████▋ | 295/300 [04:19<00:04,  1.11it/s]\n",
      " 99%|██████████████████████████████████████████████████████████████████████████████▉ | 296/300 [04:21<00:04,  1.02s/it]\n",
      " 99%|███████████████████████████████████████████████████████████████████████████████▏| 297/300 [04:22<00:03,  1.14s/it]\n",
      " 99%|███████████████████████████████████████████████████████████████████████████████▍| 298/300 [04:23<00:02,  1.11s/it]\n",
      "100%|███████████████████████████████████████████████████████████████████████████████▋| 299/300 [04:25<00:01,  1.22s/it]\n",
      "100%|████████████████████████████████████████████████████████████████████████████████| 300/300 [04:26<00:00,  1.20s/it]"
     ]
    }
   ],
   "source": [
    "result_df = []\n",
    "alignment_model = LinearAlignment()\n",
    "\n",
    "satellites_list = test_data['sat_id'].unique()\n",
    "\n",
    "transf_df = pd.DataFrame([])\n",
    "# for sat_id in tqdm(satellites_list):\n",
    "for sat_id in tqdm(satellites_list):\n",
    "    \n",
    "#     sat_data = utils.get_satellite_data(data, sat_id)\n",
    "    try:\n",
    "        sat_data = get_satellite_data(data, sat_id)\n",
    "        n_first = sat_data.shape[0]\n",
    "        \n",
    "        test_sat_data = get_satellite_data(test_data, sat_id)\n",
    "        \n",
    "        sat_data = pd.concat([sat_data,test_sat_data], axis = 0, sort = False)\n",
    "                \n",
    "        index = sat_data.index\n",
    "        pred = pd.DataFrame(index = index )\n",
    "        \n",
    "        sat_data = remove_time_jumps_fast(sat_data.reset_index(drop=True))\n",
    "        sat_data.set_index(index)\n",
    "#         sat_data = get_satellite_data(data, sat_id) # run to check the smape score before any transformations\n",
    "    except KeyError as e:\n",
    "        print(f'jump removal failed for satellite {sat_id}:\\t{type(e).__name__} {e}')\n",
    "        continue\n",
    "    \n",
    "    \n",
    "    n_train = 4*len(sat_data) // 10\n",
    "    \n",
    "    train_sat_data = sat_data[:n_train]\n",
    "    \n",
    "    \n",
    "    pred['epoch'] = sat_data['epoch'].values\n",
    "    pred['t'] = sat_data['t'].values\n",
    "    pred['sat_id'] = sat_id\n",
    "    \n",
    "    if sat_id in set([372,587,523,473,514]):\n",
    "        \n",
    "        for feature_name in features_list:\n",
    "            pred.loc[:,f'{feature_name}_sim']  = sat_data.loc[:, f'{feature_name}_sim'].values\n",
    "            pred.loc[:,feature_name]=sat_data.loc[:, feature_name].values\n",
    "    else:\n",
    "        \n",
    "        try:\n",
    "\n",
    "            for feature_name in features_list:\n",
    "                alignment_model.fit(t=train_sat_data['epoch'].values,\n",
    "                                    x=-train_sat_data[f'{feature_name}_sim'].values,\n",
    "                                    gt=-train_sat_data[feature_name].values)\n",
    "                option1 = alignment_model.predict(t=sat_data['epoch'].values,\n",
    "                                                             x=sat_data[f'{feature_name}_sim'].values)\n",
    "                alignment_model.fit(t=train_sat_data['epoch'].values,\n",
    "                                    x= train_sat_data[f'{feature_name}_sim'].values,\n",
    "                                    gt= train_sat_data[feature_name].values)\n",
    "\n",
    "                option2 = alignment_model.predict(t=sat_data['epoch'].values,\n",
    "                                                             x=sat_data[f'{feature_name}_sim'].values)\n",
    "\n",
    "                if utils.smape(option1[n_train:n_first],sat_data[feature_name].values[n_train:n_first]) < utils.smape(option2[n_train:n_first],sat_data[feature_name].values[n_train:n_first]):\n",
    "                    alignment_model.fit(t=sat_data['epoch'].iloc[:n_first].values,\n",
    "                                    x=-sat_data[f'{feature_name}_sim'].iloc[:n_first].values,\n",
    "                                    gt=-sat_data[feature_name].iloc[:n_first].values)\n",
    "\n",
    "                    pred[f'{feature_name}_sim'] = alignment_model.predict(t=sat_data['epoch'].values,\n",
    "                                                             x=sat_data[f'{feature_name}_sim'].values)\n",
    "                else:\n",
    "                    alignment_model.fit(t=sat_data['epoch'].iloc[:n_first].values,\n",
    "                                    x=sat_data[f'{feature_name}_sim'].iloc[:n_first].values,\n",
    "                                    gt=sat_data[feature_name].iloc[:n_first].values)\n",
    "                    pred.loc[:,f'{feature_name}_sim']  = alignment_model.predict(t=sat_data['epoch'].values,\n",
    "                                                             x=sat_data[f'{feature_name}_sim'].values)\n",
    "\n",
    "                pred.loc[:,feature_name]=sat_data.loc[:, feature_name].values\n",
    "\n",
    "\n",
    "\n",
    "        except Exception as e:\n",
    "            print(f'linear alignment failed for satellite {sat_id}:\\t{type(e).__name__} {e}')\n",
    "            continue\n",
    "    \n",
    "    transf_df = transf_df.append(pred, sort = False)"
   ]
  },
  {
   "cell_type": "code",
   "execution_count": 12,
   "metadata": {
    "colab": {
     "base_uri": "https://localhost:8080/",
     "height": 215
    },
    "colab_type": "code",
    "id": "Ib6hxF4DJE7Z",
    "outputId": "9a25df2f-7175-44c1-e736-db90421081b3"
   },
   "outputs": [
    {
     "data": {
      "text/html": [
       "<div>\n",
       "<style scoped>\n",
       "    .dataframe tbody tr th:only-of-type {\n",
       "        vertical-align: middle;\n",
       "    }\n",
       "\n",
       "    .dataframe tbody tr th {\n",
       "        vertical-align: top;\n",
       "    }\n",
       "\n",
       "    .dataframe thead th {\n",
       "        text-align: right;\n",
       "    }\n",
       "</style>\n",
       "<table border=\"1\" class=\"dataframe\">\n",
       "  <thead>\n",
       "    <tr style=\"text-align: right;\">\n",
       "      <th></th>\n",
       "      <th>epoch</th>\n",
       "      <th>t</th>\n",
       "      <th>sat_id</th>\n",
       "      <th>x_sim</th>\n",
       "      <th>x</th>\n",
       "      <th>y_sim</th>\n",
       "      <th>y</th>\n",
       "      <th>z_sim</th>\n",
       "      <th>z</th>\n",
       "      <th>Vx_sim</th>\n",
       "      <th>Vx</th>\n",
       "      <th>Vy_sim</th>\n",
       "      <th>Vy</th>\n",
       "      <th>Vz_sim</th>\n",
       "      <th>Vz</th>\n",
       "    </tr>\n",
       "    <tr>\n",
       "      <th>id</th>\n",
       "      <th></th>\n",
       "      <th></th>\n",
       "      <th></th>\n",
       "      <th></th>\n",
       "      <th></th>\n",
       "      <th></th>\n",
       "      <th></th>\n",
       "      <th></th>\n",
       "      <th></th>\n",
       "      <th></th>\n",
       "      <th></th>\n",
       "      <th></th>\n",
       "      <th></th>\n",
       "      <th></th>\n",
       "      <th></th>\n",
       "    </tr>\n",
       "  </thead>\n",
       "  <tbody>\n",
       "    <tr>\n",
       "      <th>1819</th>\n",
       "      <td>1.388534e+18</td>\n",
       "      <td>0.000000</td>\n",
       "      <td>1</td>\n",
       "      <td>10405.813755</td>\n",
       "      <td>10390.313089</td>\n",
       "      <td>-2771.180760</td>\n",
       "      <td>-2796.458271</td>\n",
       "      <td>3166.926302</td>\n",
       "      <td>3179.562085</td>\n",
       "      <td>2.508879</td>\n",
       "      <td>2.520477</td>\n",
       "      <td>6.152996</td>\n",
       "      <td>6.149930</td>\n",
       "      <td>-2.826227</td>\n",
       "      <td>-2.827599</td>\n",
       "    </tr>\n",
       "    <tr>\n",
       "      <th>1820</th>\n",
       "      <td>1.388536e+18</td>\n",
       "      <td>0.014720</td>\n",
       "      <td>1</td>\n",
       "      <td>11199.459274</td>\n",
       "      <td>11195.606833</td>\n",
       "      <td>5105.200658</td>\n",
       "      <td>5078.653968</td>\n",
       "      <td>-848.597754</td>\n",
       "      <td>-839.076593</td>\n",
       "      <td>-1.132222</td>\n",
       "      <td>-1.126667</td>\n",
       "      <td>5.822436</td>\n",
       "      <td>5.826412</td>\n",
       "      <td>-3.250054</td>\n",
       "      <td>-3.255872</td>\n",
       "    </tr>\n",
       "    <tr>\n",
       "      <th>1821</th>\n",
       "      <td>1.388537e+18</td>\n",
       "      <td>0.029441</td>\n",
       "      <td>1</td>\n",
       "      <td>8237.279843</td>\n",
       "      <td>8235.556436</td>\n",
       "      <td>11469.206013</td>\n",
       "      <td>11445.904263</td>\n",
       "      <td>-4684.829256</td>\n",
       "      <td>-4680.514023</td>\n",
       "      <td>-3.228498</td>\n",
       "      <td>-3.230227</td>\n",
       "      <td>4.124297</td>\n",
       "      <td>4.126433</td>\n",
       "      <td>-2.700287</td>\n",
       "      <td>-2.704441</td>\n",
       "    </tr>\n",
       "    <tr>\n",
       "      <th>1822</th>\n",
       "      <td>1.388538e+18</td>\n",
       "      <td>0.044161</td>\n",
       "      <td>1</td>\n",
       "      <td>3565.004307</td>\n",
       "      <td>3560.149776</td>\n",
       "      <td>15655.733441</td>\n",
       "      <td>15634.195146</td>\n",
       "      <td>-7655.277835</td>\n",
       "      <td>-7654.177182</td>\n",
       "      <td>-3.960607</td>\n",
       "      <td>-3.964696</td>\n",
       "      <td>2.521337</td>\n",
       "      <td>2.520867</td>\n",
       "      <td>-1.976770</td>\n",
       "      <td>-1.978151</td>\n",
       "    </tr>\n",
       "    <tr>\n",
       "      <th>1823</th>\n",
       "      <td>1.388539e+18</td>\n",
       "      <td>0.058882</td>\n",
       "      <td>1</td>\n",
       "      <td>-1571.839073</td>\n",
       "      <td>-1580.476891</td>\n",
       "      <td>18044.683022</td>\n",
       "      <td>18023.318335</td>\n",
       "      <td>-9755.479443</td>\n",
       "      <td>-9755.287599</td>\n",
       "      <td>-4.046854</td>\n",
       "      <td>-4.050865</td>\n",
       "      <td>1.298053</td>\n",
       "      <td>1.296388</td>\n",
       "      <td>-1.347061</td>\n",
       "      <td>-1.346512</td>\n",
       "    </tr>\n",
       "  </tbody>\n",
       "</table>\n",
       "</div>"
      ],
      "text/plain": [
       "             epoch         t  sat_id         x_sim             x  \\\n",
       "id                                                                 \n",
       "1819  1.388534e+18  0.000000       1  10405.813755  10390.313089   \n",
       "1820  1.388536e+18  0.014720       1  11199.459274  11195.606833   \n",
       "1821  1.388537e+18  0.029441       1   8237.279843   8235.556436   \n",
       "1822  1.388538e+18  0.044161       1   3565.004307   3560.149776   \n",
       "1823  1.388539e+18  0.058882       1  -1571.839073  -1580.476891   \n",
       "\n",
       "             y_sim             y        z_sim            z    Vx_sim  \\\n",
       "id                                                                     \n",
       "1819  -2771.180760  -2796.458271  3166.926302  3179.562085  2.508879   \n",
       "1820   5105.200658   5078.653968  -848.597754  -839.076593 -1.132222   \n",
       "1821  11469.206013  11445.904263 -4684.829256 -4680.514023 -3.228498   \n",
       "1822  15655.733441  15634.195146 -7655.277835 -7654.177182 -3.960607   \n",
       "1823  18044.683022  18023.318335 -9755.479443 -9755.287599 -4.046854   \n",
       "\n",
       "            Vx    Vy_sim        Vy    Vz_sim        Vz  \n",
       "id                                                      \n",
       "1819  2.520477  6.152996  6.149930 -2.826227 -2.827599  \n",
       "1820 -1.126667  5.822436  5.826412 -3.250054 -3.255872  \n",
       "1821 -3.230227  4.124297  4.126433 -2.700287 -2.704441  \n",
       "1822 -3.964696  2.521337  2.520867 -1.976770 -1.978151  \n",
       "1823 -4.050865  1.298053  1.296388 -1.347061 -1.346512  "
      ]
     },
     "execution_count": 12,
     "metadata": {},
     "output_type": "execute_result"
    }
   ],
   "source": [
    "transf_df.head()"
   ]
  },
  {
   "cell_type": "code",
   "execution_count": 13,
   "metadata": {
    "colab": {
     "base_uri": "https://localhost:8080/",
     "height": 34
    },
    "colab_type": "code",
    "id": "8N-TF9nlJE7f",
    "outputId": "208f83c4-82c6-4b0e-ba1c-71b2160d89b6"
   },
   "outputs": [
    {
     "data": {
      "text/plain": [
       "(599254, 15)"
      ]
     },
     "execution_count": 13,
     "metadata": {},
     "output_type": "execute_result"
    }
   ],
   "source": [
    "transf_df.shape"
   ]
  },
  {
   "cell_type": "code",
   "execution_count": null,
   "metadata": {
    "colab": {},
    "colab_type": "code",
    "id": "9_zL6fpcJE7m",
    "outputId": "3f0b0bf9-1373-4604-f8fb-c5b52155f8d6"
   },
   "outputs": [],
   "source": [
    "# # for now, simply append non-transformed values fot the satellites 252\n",
    "# transf_df = transf_df.append(remove_time_jumps_fast(get_satellite_data(data, 252))[transf_df.columns])\n",
    "# transf_df = transf_df.append(remove_time_jumps_fast(get_satellite_data(data, 301))[transf_df.columns])\n",
    "# transf_df.shape"
   ]
  },
  {
   "cell_type": "code",
   "execution_count": 14,
   "metadata": {
    "colab": {
     "base_uri": "https://localhost:8080/",
     "height": 1000
    },
    "colab_type": "code",
    "id": "qEFuNAr0JE7r",
    "outputId": "69bd429c-4a8c-4d0a-b14e-ba90aa0316ba"
   },
   "outputs": [
    {
     "name": "stderr",
     "output_type": "stream",
     "text": [
      "  0%|                                                                                          | 0/100 [00:00<?, ?it/s]C:\\Users\\Tatiana\\Anaconda3\\envs\\idao\\lib\\site-packages\\pystan\\misc.py:399: FutureWarning: Conversion of the second argument of issubdtype from `float` to `np.floating` is deprecated. In future, it will be treated as `np.float64 == np.dtype(float).type`.\n",
      "  elif np.issubdtype(np.asarray(v).dtype, float):\n"
     ]
    },
    {
     "name": "stdout",
     "output_type": "stream",
     "text": [
      "409[x]  no correction: 0.010941483528247553, correction:0.00028040339000085776\n",
      "409[y]  no correction: 0.01169326527205602, correction:0.00036652777810589423\n",
      "409[z]  no correction: 0.029886973511009877, correction:0.0007977217138609785\n",
      "409[Vx]  no correction: 0.010705148118499512, correction:0.0004845653377526722\n",
      "409[Vy]  no correction: 0.013922984334155323, correction:0.0005549264536912809\n",
      "409[Vz]  no correction: 0.018425386659938234, correction:0.0006291482203397009\n"
     ]
    },
    {
     "name": "stderr",
     "output_type": "stream",
     "text": [
      "\r",
      "  1%|▊                                                                              | 1/100 [04:03<6:42:29, 243.94s/it]"
     ]
    },
    {
     "name": "stdout",
     "output_type": "stream",
     "text": [
      "411[x]  no correction: 0.03700791298711481, correction:0.01258217735638395\n",
      "411[y]  no correction: 0.0180379351391425, correction:0.0022574978982897393\n",
      "411[z]  no correction: 0.019204236601963957, correction:0.0036060996788831795\n",
      "411[Vx]  no correction: 0.025439356982449878, correction:0.01391566006757299\n",
      "411[Vy]  no correction: 0.012295113619725129, correction:0.004560439462685319\n",
      "411[Vz]  no correction: 0.01744512354718017, correction:0.006407632202669285\n"
     ]
    },
    {
     "name": "stderr",
     "output_type": "stream",
     "text": [
      "\r",
      "  2%|█▌                                                                             | 2/100 [05:42<5:27:14, 200.35s/it]"
     ]
    },
    {
     "name": "stdout",
     "output_type": "stream",
     "text": [
      "412[x]  no correction: 0.0025254049154981666, correction:5.8774783420856436e-05\n",
      "412[y]  no correction: 0.0015788991651249583, correction:6.955931144031626e-05\n",
      "412[z]  no correction: 0.001444942737959569, correction:0.00036298137147552695\n",
      "412[Vx]  no correction: 0.003250010703310442, correction:0.0003735631247990659\n",
      "412[Vy]  no correction: 0.002235346516516262, correction:6.953461794579594e-05\n",
      "412[Vz]  no correction: 0.0029600606971233344, correction:0.001220098589400413\n"
     ]
    },
    {
     "name": "stderr",
     "output_type": "stream",
     "text": [
      "\r",
      "  3%|██▎                                                                            | 3/100 [10:43<6:12:53, 230.65s/it]"
     ]
    },
    {
     "name": "stdout",
     "output_type": "stream",
     "text": [
      "415[x]  no correction: 0.00604761504912872, correction:0.0020536802791852266\n",
      "415[y]  no correction: 0.008918079126349187, correction:0.0007400420183561621\n",
      "415[z]  no correction: 0.007555195636257086, correction:0.00047496877706991534\n",
      "415[Vx]  no correction: 0.007831476975269654, correction:0.0028135239181843763\n",
      "415[Vy]  no correction: 0.02977969064596161, correction:0.0036847106837129013\n",
      "415[Vz]  no correction: 0.008296755873143678, correction:0.004291902186113131\n"
     ]
    },
    {
     "name": "stderr",
     "output_type": "stream",
     "text": [
      "\r",
      "  4%|███▏                                                                           | 4/100 [12:43<5:15:47, 197.37s/it]"
     ]
    },
    {
     "name": "stdout",
     "output_type": "stream",
     "text": [
      "416[x]  no correction: 0.011199030752540098, correction:0.00035044021870566164\n",
      "416[y]  no correction: 0.0075495192259466565, correction:0.0008546828394079003\n",
      "416[z]  no correction: 0.02077275432112551, correction:0.00115394333218877\n",
      "416[Vx]  no correction: 0.0057633563582560575, correction:0.0009875350793099808\n",
      "416[Vy]  no correction: 0.007673448929959257, correction:0.00021381732329022097\n",
      "416[Vz]  no correction: 0.005206163357547901, correction:0.00047873924908383613\n"
     ]
    },
    {
     "name": "stderr",
     "output_type": "stream",
     "text": [
      "\r",
      "  5%|███▉                                                                           | 5/100 [16:27<5:25:09, 205.36s/it]"
     ]
    },
    {
     "name": "stdout",
     "output_type": "stream",
     "text": [
      "417[x]  no correction: 0.008354440223755885, correction:0.0005693481653700941\n",
      "417[y]  no correction: 0.0013213918856217553, correction:0.00015149031396100886\n",
      "417[z]  no correction: 0.051846222558480926, correction:0.004346091296932973\n",
      "417[Vx]  no correction: 0.0024085324928892933, correction:0.000238787029132293\n",
      "417[Vy]  no correction: 0.003132490328595617, correction:0.00022713429795559486\n",
      "417[Vz]  no correction: 0.002477219539615139, correction:0.0006803919844262767\n"
     ]
    },
    {
     "name": "stderr",
     "output_type": "stream",
     "text": [
      "\r",
      "  6%|████▋                                                                          | 6/100 [17:45<4:21:50, 167.13s/it]"
     ]
    },
    {
     "name": "stdout",
     "output_type": "stream",
     "text": [
      "418[x]  no correction: 0.13865193144372234, correction:0.003504456377858973\n",
      "418[y]  no correction: 0.05965576035288449, correction:0.011179556675587132\n",
      "418[z]  no correction: 0.08754283883931288, correction:0.007037807934550144\n",
      "418[Vx]  no correction: 0.10032806666865177, correction:0.03396861810540908\n",
      "418[Vy]  no correction: 0.07083002934078023, correction:0.010165391406692426\n",
      "418[Vz]  no correction: 0.10185471553172726, correction:0.04583339300277142\n"
     ]
    },
    {
     "name": "stderr",
     "output_type": "stream",
     "text": [
      "\r",
      "  7%|█████▌                                                                         | 7/100 [19:49<3:59:04, 154.24s/it]"
     ]
    },
    {
     "name": "stdout",
     "output_type": "stream",
     "text": [
      "419[x]  no correction: 0.0025281367065079787, correction:0.0001916664698599073\n",
      "419[y]  no correction: 0.0012768388671689892, correction:6.774311819980665e-05\n",
      "419[z]  no correction: 0.0025861575368532363, correction:6.204997410156303e-05\n",
      "419[Vx]  no correction: 0.002047705105872971, correction:0.00011451904361711583\n",
      "419[Vy]  no correction: 0.0015790383544969744, correction:6.938624303140467e-05\n",
      "419[Vz]  no correction: 0.002845481292012151, correction:5.6665278114236556e-05\n"
     ]
    },
    {
     "name": "stderr",
     "output_type": "stream",
     "text": [
      "\r",
      "  8%|██████▎                                                                        | 8/100 [26:36<5:52:42, 230.03s/it]"
     ]
    },
    {
     "name": "stdout",
     "output_type": "stream",
     "text": [
      "422[x]  no correction: 0.003969105089895592, correction:0.0003562683486817968\n",
      "422[y]  no correction: 0.010578207912719505, correction:0.0039002633380872506\n",
      "422[z]  no correction: 0.0028510143218223546, correction:0.0008774483608485146\n",
      "422[Vx]  no correction: 0.04861737206431168, correction:0.04084994119601184\n",
      "422[Vy]  no correction: 0.007201558550171119, correction:0.0005362581227407973\n",
      "422[Vz]  no correction: 0.0032590447806191843, correction:0.00045865929418644684\n"
     ]
    },
    {
     "name": "stderr",
     "output_type": "stream",
     "text": [
      "\r",
      "  9%|███████                                                                        | 9/100 [29:39<5:27:32, 215.96s/it]"
     ]
    },
    {
     "name": "stdout",
     "output_type": "stream",
     "text": [
      "423[x]  no correction: 0.0027065332110775497, correction:0.00014832665890552533\n",
      "423[y]  no correction: 0.028169987101364372, correction:0.004239405100933482\n",
      "423[z]  no correction: 0.0005716045227330661, correction:0.00011847374481671503\n",
      "423[Vx]  no correction: 0.0020046275930798406, correction:0.0003954433970649601\n",
      "423[Vy]  no correction: 0.0003939182793075569, correction:0.00021746076675236605\n",
      "423[Vz]  no correction: 0.0009442182677968413, correction:9.947197582268042e-05\n"
     ]
    },
    {
     "name": "stderr",
     "output_type": "stream",
     "text": [
      "\r",
      " 10%|███████▊                                                                      | 10/100 [37:05<7:07:08, 284.76s/it]"
     ]
    },
    {
     "name": "stdout",
     "output_type": "stream",
     "text": [
      "424[x]  no correction: 0.004504806613400741, correction:0.0005165387127507228\n",
      "424[y]  no correction: 0.004985983686766407, correction:0.0009250823104578807\n",
      "424[z]  no correction: 0.004683112730288018, correction:0.0007308082914640201\n",
      "424[Vx]  no correction: 0.002505399191093011, correction:0.001253132913079083\n",
      "424[Vy]  no correction: 0.0051718806748191765, correction:0.0013883867575884366\n",
      "424[Vz]  no correction: 0.009456637935078881, correction:0.007930777617278123\n"
     ]
    },
    {
     "name": "stderr",
     "output_type": "stream",
     "text": [
      "\r",
      " 11%|████████▌                                                                     | 11/100 [39:00<5:47:03, 233.97s/it]"
     ]
    },
    {
     "name": "stdout",
     "output_type": "stream",
     "text": [
      "426[x]  no correction: 0.015723826441294934, correction:0.0034809225634807443\n",
      "426[y]  no correction: 0.006611984544601816, correction:0.0008188712024537074\n",
      "426[z]  no correction: 0.007823929195737175, correction:0.0007871930115558713\n",
      "426[Vx]  no correction: 0.009197299436889066, correction:0.0013519046473512934\n",
      "426[Vy]  no correction: 0.005508851194212146, correction:0.0029732982759596046\n",
      "426[Vz]  no correction: 0.0063944738409865585, correction:0.001411202936478911\n"
     ]
    },
    {
     "name": "stderr",
     "output_type": "stream",
     "text": [
      "\r",
      " 12%|█████████▎                                                                    | 12/100 [41:13<4:58:45, 203.70s/it]"
     ]
    },
    {
     "name": "stdout",
     "output_type": "stream",
     "text": [
      "428[x]  no correction: 0.0018033660075051877, correction:0.000629018077370145\n",
      "428[y]  no correction: 0.0002843407317790026, correction:0.0005408428705383444\n",
      "428 y does not work\n",
      "428[z]  no correction: 0.0011088394229264364, correction:0.0004205554021208545\n",
      "428[Vx]  no correction: 0.0012907101984977424, correction:0.0008092271944560413\n",
      "428[Vy]  no correction: 0.0004808712589260696, correction:0.0005044133460272735\n",
      "428 Vy does not work\n",
      "428[Vz]  no correction: 0.0008513249288923294, correction:0.00047181526108298677\n"
     ]
    },
    {
     "name": "stderr",
     "output_type": "stream",
     "text": [
      "\r",
      " 13%|██████████▏                                                                   | 13/100 [42:37<4:03:09, 167.70s/it]"
     ]
    },
    {
     "name": "stdout",
     "output_type": "stream",
     "text": [
      "435[x]  no correction: 0.2402589616296119, correction:0.1026840999137583\n",
      "435[y]  no correction: 0.11456278933352969, correction:0.051294447890371526\n",
      "435[z]  no correction: 0.23523150565182238, correction:0.11477968753680738\n",
      "435[Vx]  no correction: 0.20705383278272005, correction:0.1363914736742413\n",
      "435[Vy]  no correction: 0.12748906488260042, correction:0.12458383689814465\n",
      "435[Vz]  no correction: 0.2313863032806416, correction:0.11603057827966964\n"
     ]
    },
    {
     "name": "stderr",
     "output_type": "stream",
     "text": [
      "\r",
      " 14%|██████████▉                                                                   | 14/100 [43:32<3:11:51, 133.86s/it]"
     ]
    },
    {
     "name": "stdout",
     "output_type": "stream",
     "text": [
      "436[x]  no correction: 0.0007685028657417192, correction:0.00021823525138795424\n",
      "436[y]  no correction: 0.0014918496893413277, correction:7.516169839323512e-05\n",
      "436[z]  no correction: 0.0017428034908710443, correction:0.00014778447985740742\n",
      "436[Vx]  no correction: 0.001347205348475824, correction:9.614514178502809e-05\n",
      "436[Vy]  no correction: 0.004397278345752555, correction:0.0003309369790389866\n",
      "436[Vz]  no correction: 0.001209659906601604, correction:6.45233153889056e-05\n"
     ]
    },
    {
     "name": "stderr",
     "output_type": "stream",
     "text": [
      "\r",
      " 15%|███████████▋                                                                  | 15/100 [47:38<3:57:36, 167.72s/it]"
     ]
    },
    {
     "name": "stdout",
     "output_type": "stream",
     "text": [
      "437[x]  no correction: 0.006098676497318098, correction:0.00018644527308799065\n",
      "437[y]  no correction: 0.012280545682444924, correction:0.00034279488427887473\n",
      "437[z]  no correction: 0.030779311137437215, correction:0.0006347031341975729\n",
      "437[Vx]  no correction: 0.014405528521111688, correction:0.00019730990398327545\n",
      "437[Vy]  no correction: 0.011557114359047094, correction:0.00014359867421763738\n",
      "437[Vz]  no correction: 0.01823672068729205, correction:0.0005855389408352999\n"
     ]
    },
    {
     "name": "stderr",
     "output_type": "stream",
     "text": [
      "\r",
      " 16%|████████████▍                                                                 | 16/100 [54:52<5:46:40, 247.62s/it]"
     ]
    },
    {
     "name": "stdout",
     "output_type": "stream",
     "text": [
      "438[x]  no correction: 0.1373081566124866, correction:0.013234422501287584\n",
      "438[y]  no correction: 0.19650981027071357, correction:0.7379645435775685\n",
      "438 y does not work\n",
      "438[z]  no correction: 0.37360039873858397, correction:0.12734614851526577\n",
      "438[Vx]  no correction: 0.20241312443974016, correction:0.02896849194808232\n",
      "438[Vy]  no correction: 0.20022539180479906, correction:0.2615442759212483\n",
      "438 Vy does not work\n",
      "438[Vz]  no correction: 0.30159034908347004, correction:0.2662054892778912\n"
     ]
    },
    {
     "name": "stderr",
     "output_type": "stream",
     "text": [
      "\r",
      " 17%|█████████████▎                                                                | 17/100 [55:47<4:22:30, 189.76s/it]"
     ]
    },
    {
     "name": "stdout",
     "output_type": "stream",
     "text": [
      "440[x]  no correction: 0.044913808716071445, correction:0.00627114927626744\n",
      "440[y]  no correction: 0.030413438020312836, correction:0.00303572913180621\n",
      "440[z]  no correction: 0.015202087793817527, correction:0.002350310571656993\n",
      "440[Vx]  no correction: 0.006117040310088733, correction:0.007029071542453838\n",
      "440 Vx does not work\n",
      "440[Vy]  no correction: 0.007333926059844754, correction:0.003028116728361325\n",
      "440[Vz]  no correction: 0.007420787524992038, correction:0.002691112239157358\n"
     ]
    },
    {
     "name": "stderr",
     "output_type": "stream",
     "text": [
      "\r",
      " 18%|██████████████                                                                | 18/100 [57:34<3:45:26, 164.96s/it]"
     ]
    },
    {
     "name": "stdout",
     "output_type": "stream",
     "text": [
      "443[x]  no correction: 0.2917942342793943, correction:0.10531293051700934\n",
      "443[y]  no correction: 0.23939028069066673, correction:0.12073765161365163\n",
      "443[z]  no correction: 0.23645970697068852, correction:0.1126056281189624\n",
      "443[Vx]  no correction: 0.31864181652659196, correction:0.18423854633726855\n",
      "443[Vy]  no correction: 0.24625737295601827, correction:0.1465209859393148\n",
      "443[Vz]  no correction: 0.36236019017009746, correction:0.17582848604071238\n"
     ]
    },
    {
     "name": "stderr",
     "output_type": "stream",
     "text": [
      "\r",
      " 19%|██████████████▊                                                               | 19/100 [58:34<3:00:15, 133.53s/it]"
     ]
    },
    {
     "name": "stdout",
     "output_type": "stream",
     "text": [
      "446[x]  no correction: 0.003793263763932752, correction:0.0002164958494562837\n",
      "446[y]  no correction: 0.0016146328306946703, correction:0.0002115078443719896\n",
      "446[z]  no correction: 0.006195001423743548, correction:0.0005094930203331784\n",
      "446[Vx]  no correction: 0.0012621516429037036, correction:0.0006577903447211155\n",
      "446[Vy]  no correction: 0.0016449615859837885, correction:0.00013799461592719548\n",
      "446[Vz]  no correction: 0.005549723517069859, correction:0.0018143715222505468\n"
     ]
    },
    {
     "name": "stderr",
     "output_type": "stream",
     "text": [
      "\r",
      " 20%|███████████████▏                                                            | 20/100 [1:01:09<3:06:14, 139.68s/it]"
     ]
    },
    {
     "name": "stdout",
     "output_type": "stream",
     "text": [
      "448[x]  no correction: 0.22754025542424605, correction:0.09001330760206215\n",
      "448[y]  no correction: 0.042603790926331105, correction:0.02452684598167476\n",
      "448[z]  no correction: 0.18970279387186026, correction:0.05853420005537164\n",
      "448[Vx]  no correction: 0.17142857681338078, correction:0.12489172299504582\n",
      "448[Vy]  no correction: 0.05799791149703753, correction:0.07375977923962274\n",
      "448 Vy does not work\n",
      "448[Vz]  no correction: 0.19374854685769644, correction:0.08349153104563918\n"
     ]
    },
    {
     "name": "stderr",
     "output_type": "stream",
     "text": [
      "\r",
      " 21%|███████████████▉                                                            | 21/100 [1:01:42<2:21:50, 107.73s/it]"
     ]
    },
    {
     "name": "stdout",
     "output_type": "stream",
     "text": [
      "449[x]  no correction: 0.010591365075160205, correction:0.0012965478527035895\n",
      "449[y]  no correction: 0.0074057213563748035, correction:0.0017509443099754923\n",
      "449[z]  no correction: 0.008887209638371744, correction:0.0011878794007752543\n",
      "449[Vx]  no correction: 0.004485923662229983, correction:0.0009021732740710306\n",
      "449[Vy]  no correction: 0.003174131989400254, correction:0.0010917568279337315\n",
      "449[Vz]  no correction: 0.0037360513701866563, correction:0.000894173159100186\n"
     ]
    },
    {
     "name": "stderr",
     "output_type": "stream",
     "text": [
      "\r",
      " 22%|████████████████▋                                                           | 22/100 [1:04:32<2:44:17, 126.38s/it]"
     ]
    },
    {
     "name": "stdout",
     "output_type": "stream",
     "text": [
      "450[x]  no correction: 0.002998363208025234, correction:8.501992908104465e-05\n",
      "450[y]  no correction: 0.0013754157692281372, correction:0.00010151076869979674\n",
      "450[z]  no correction: 0.0038540241815680477, correction:8.448828275222968e-05\n",
      "450[Vx]  no correction: 0.003383295142013168, correction:7.453898150402871e-05\n",
      "450[Vy]  no correction: 0.0022588586997439636, correction:0.00018743164569536304\n",
      "450[Vz]  no correction: 0.003924570234754875, correction:0.0001795274532361792\n"
     ]
    },
    {
     "name": "stderr",
     "output_type": "stream",
     "text": [
      "\r",
      " 23%|█████████████████▍                                                          | 23/100 [1:17:32<6:54:09, 322.73s/it]"
     ]
    },
    {
     "name": "stdout",
     "output_type": "stream",
     "text": [
      "452[x]  no correction: 0.21649457832455818, correction:0.08352672400426289\n",
      "452[y]  no correction: 0.14092102243310342, correction:0.041747969298505834\n",
      "452[z]  no correction: 0.12193509503270325, correction:0.1422201445798303\n",
      "452 z does not work\n",
      "452[Vx]  no correction: 0.21648594649864922, correction:0.16841788852231837\n",
      "452[Vy]  no correction: 0.14509217363307256, correction:0.02186318980103721\n",
      "452[Vz]  no correction: 0.12938940171777705, correction:0.09311691444898332\n"
     ]
    },
    {
     "name": "stderr",
     "output_type": "stream",
     "text": [
      "\r",
      " 24%|██████████████████▏                                                         | 24/100 [1:19:27<5:29:47, 260.36s/it]"
     ]
    },
    {
     "name": "stdout",
     "output_type": "stream",
     "text": [
      "454[x]  no correction: 0.02306185987649367, correction:0.05847366382941128\n",
      "454 x does not work\n",
      "454[y]  no correction: 0.02627892422339524, correction:0.020706710010519106\n",
      "454[z]  no correction: 0.03761271254456956, correction:0.021930936504592508\n",
      "454[Vx]  no correction: 0.026360409376726165, correction:0.042026690244924\n",
      "454 Vx does not work\n",
      "454[Vy]  no correction: 0.08467882443460908, correction:0.12331109214330177\n",
      "454 Vy does not work\n",
      "454[Vz]  no correction: 0.4795469620610731, correction:0.8160968570786248\n",
      "454 Vz does not work\n"
     ]
    },
    {
     "name": "stderr",
     "output_type": "stream",
     "text": [
      "\r",
      " 25%|███████████████████                                                         | 25/100 [1:20:19<4:07:08, 197.72s/it]"
     ]
    },
    {
     "name": "stdout",
     "output_type": "stream",
     "text": [
      "455[x]  no correction: 0.007596066431514357, correction:0.0008019456488857766\n",
      "455[y]  no correction: 0.015204896411706532, correction:0.0017440969859177063\n",
      "455[z]  no correction: 0.15883275373482048, correction:0.09700496569915114\n",
      "455[Vx]  no correction: 0.011996747707399637, correction:0.0013698665613377159\n",
      "455[Vy]  no correction: 0.006586883083535773, correction:0.00047589348382815497\n",
      "455[Vz]  no correction: 0.09903903436879252, correction:0.03254316945087027\n"
     ]
    },
    {
     "name": "stderr",
     "output_type": "stream",
     "text": [
      "\r",
      " 26%|███████████████████▊                                                        | 26/100 [1:21:54<3:26:01, 167.05s/it]"
     ]
    },
    {
     "name": "stdout",
     "output_type": "stream",
     "text": [
      "456[x]  no correction: 0.30007948755949293, correction:0.008507443326279299\n",
      "456[y]  no correction: 0.168803292650611, correction:0.13708189067110646\n",
      "456[z]  no correction: 0.3044856114390721, correction:0.055867765989116185\n",
      "456[Vx]  no correction: 0.26161014780376635, correction:0.18216853352938372\n",
      "456[Vy]  no correction: 0.17084570669166488, correction:0.14447524674518622\n",
      "456[Vz]  no correction: 0.26130398503336977, correction:0.17660500659273626\n"
     ]
    },
    {
     "name": "stderr",
     "output_type": "stream",
     "text": [
      "\r",
      " 27%|████████████████████▌                                                       | 27/100 [1:23:49<3:04:11, 151.39s/it]"
     ]
    },
    {
     "name": "stdout",
     "output_type": "stream",
     "text": [
      "457[x]  no correction: 0.018010908206868088, correction:0.007890880091230224\n",
      "457[y]  no correction: 0.002982796452932487, correction:0.0050782692961750435\n",
      "457 y does not work\n",
      "457[z]  no correction: 0.0258976298535684, correction:0.03794593140430507\n",
      "457 z does not work\n",
      "457[Vx]  no correction: 0.04069695434704247, correction:0.03177411101778077\n",
      "457[Vy]  no correction: 0.0026382414246110012, correction:0.005244749616083963\n",
      "457 Vy does not work\n",
      "457[Vz]  no correction: 0.5549022828509355, correction:0.8527413290393583\n",
      "457 Vz does not work\n"
     ]
    },
    {
     "name": "stderr",
     "output_type": "stream",
     "text": [
      "\r",
      " 28%|█████████████████████▎                                                      | 28/100 [1:24:53<2:30:12, 125.17s/it]"
     ]
    },
    {
     "name": "stdout",
     "output_type": "stream",
     "text": [
      "460[x]  no correction: 0.27394934017157696, correction:0.07189623335592231\n",
      "460[y]  no correction: 0.17869251416434764, correction:0.005584759175343692\n",
      "460[z]  no correction: 0.3158352656111033, correction:0.12550980226400285\n",
      "460[Vx]  no correction: 0.2873609902709596, correction:0.07766748778256842\n",
      "460[Vy]  no correction: 0.14096139545265002, correction:0.06022925084525779\n",
      "460[Vz]  no correction: 0.2533683283939171, correction:0.22088412606137173\n"
     ]
    },
    {
     "name": "stderr",
     "output_type": "stream",
     "text": [
      "\r",
      " 29%|██████████████████████                                                      | 29/100 [1:28:23<2:58:01, 150.44s/it]"
     ]
    },
    {
     "name": "stdout",
     "output_type": "stream",
     "text": [
      "462[x]  no correction: 0.0008192935822235382, correction:3.090624047723055e-05\n",
      "462[y]  no correction: 0.008339351036904566, correction:0.00014400661055834267\n",
      "462[z]  no correction: 0.0017511664988793573, correction:4.1998629430012594e-05\n",
      "462[Vx]  no correction: 0.0013308367998603441, correction:7.57625391583449e-05\n",
      "462[Vy]  no correction: 0.0006580097115464798, correction:5.561816691870088e-05\n",
      "462[Vz]  no correction: 0.002941177386916844, correction:0.00011373203959433733\n"
     ]
    },
    {
     "name": "stderr",
     "output_type": "stream",
     "text": [
      "\r",
      " 30%|██████████████████████▊                                                     | 30/100 [1:36:48<4:59:46, 256.95s/it]"
     ]
    },
    {
     "name": "stdout",
     "output_type": "stream",
     "text": [
      "464[x]  no correction: 0.05288416424374922, correction:0.0028764019603196903\n",
      "464[y]  no correction: 0.0685258472769348, correction:0.0659493669183855\n",
      "464[z]  no correction: 0.07022522126597121, correction:0.020373476290204875\n",
      "464[Vx]  no correction: 0.12580378669986161, correction:0.012227699867341959\n",
      "464[Vy]  no correction: 0.04433879017077258, correction:0.008152729044123386\n",
      "464[Vz]  no correction: 0.038689130053510185, correction:0.08480463192368899\n",
      "464 Vz does not work\n"
     ]
    },
    {
     "name": "stderr",
     "output_type": "stream",
     "text": [
      "\r",
      " 31%|███████████████████████▌                                                    | 31/100 [1:41:51<5:11:17, 270.69s/it]"
     ]
    },
    {
     "name": "stdout",
     "output_type": "stream",
     "text": [
      "465[x]  no correction: 0.0020682579835995295, correction:0.00011893898067972366\n",
      "465[y]  no correction: 0.0015943684924260237, correction:9.043655111870133e-05\n",
      "465[z]  no correction: 0.0059475421254353575, correction:0.00025851282678126527\n",
      "465[Vx]  no correction: 0.0013155413189943092, correction:8.127124854232576e-05\n",
      "465[Vy]  no correction: 0.0019013503619427336, correction:8.503630071223817e-05\n",
      "465[Vz]  no correction: 0.01299932768776366, correction:0.00023679439460043894\n"
     ]
    },
    {
     "name": "stderr",
     "output_type": "stream",
     "text": [
      "\r",
      " 32%|████████████████████████▎                                                   | 32/100 [1:49:31<6:11:05, 327.43s/it]"
     ]
    },
    {
     "name": "stdout",
     "output_type": "stream",
     "text": [
      "466[x]  no correction: 0.034898328003081326, correction:0.01659307630770531\n",
      "466[y]  no correction: 0.1851883898549075, correction:0.050734814679187897\n",
      "466[z]  no correction: 0.04129102681004324, correction:0.07229267741597259\n",
      "466 z does not work\n",
      "466[Vx]  no correction: 0.5512903444676452, correction:0.7337810754520824\n",
      "466 Vx does not work\n",
      "466[Vy]  no correction: 0.1556680231150525, correction:0.2442100114067278\n",
      "466 Vy does not work\n",
      "466[Vz]  no correction: 0.5650064931761988, correction:0.7021497314331563\n",
      "466 Vz does not work\n"
     ]
    },
    {
     "name": "stderr",
     "output_type": "stream",
     "text": [
      "\r",
      " 33%|█████████████████████████                                                   | 33/100 [1:50:09<4:28:37, 240.56s/it]"
     ]
    },
    {
     "name": "stdout",
     "output_type": "stream",
     "text": [
      "467[x]  no correction: 0.09170202303228216, correction:0.012371465567343688\n",
      "467[y]  no correction: 0.025540548895841564, correction:0.012097481907615486\n",
      "467[z]  no correction: 0.020512728165113743, correction:0.0069458695501962995\n",
      "467[Vx]  no correction: 0.04550000987316953, correction:0.004120506419868139\n",
      "467[Vy]  no correction: 0.06730903769201535, correction:0.02959441933743844\n",
      "467[Vz]  no correction: 0.4847037979249101, correction:0.35497995090448736\n"
     ]
    },
    {
     "name": "stderr",
     "output_type": "stream",
     "text": [
      "\r",
      " 34%|█████████████████████████▊                                                  | 34/100 [1:50:56<3:21:01, 182.75s/it]"
     ]
    },
    {
     "name": "stdout",
     "output_type": "stream",
     "text": [
      "468[x]  no correction: 0.0011240496245973558, correction:0.00011607478575786315\n",
      "468[y]  no correction: 0.0011804267163730874, correction:8.424817563774275e-05\n",
      "468[z]  no correction: 0.0033938859446180918, correction:0.0005582066417503186\n",
      "468[Vx]  no correction: 0.001254995295192048, correction:0.00035192263009112593\n",
      "468[Vy]  no correction: 0.0016897533777491362, correction:0.00014265248467615574\n",
      "468[Vz]  no correction: 0.0034575445992560436, correction:0.0007015550925077702\n"
     ]
    },
    {
     "name": "stderr",
     "output_type": "stream",
     "text": [
      "\r",
      " 35%|██████████████████████████▌                                                 | 35/100 [1:55:34<3:48:47, 211.20s/it]"
     ]
    },
    {
     "name": "stdout",
     "output_type": "stream",
     "text": [
      "470[x]  no correction: 0.13665207376379998, correction:0.10403202134704286\n",
      "470[y]  no correction: 0.11443181594708061, correction:0.11845990434176205\n",
      "470 y does not work\n",
      "470[z]  no correction: 0.11792577859702325, correction:0.07555275433610499\n",
      "470[Vx]  no correction: 0.15363028675898066, correction:0.07031333190474016\n",
      "470[Vy]  no correction: 0.15222300154944485, correction:0.0780168609127408\n",
      "470[Vz]  no correction: 0.12955161849212246, correction:0.08117009325998928\n"
     ]
    },
    {
     "name": "stderr",
     "output_type": "stream",
     "text": [
      "\r",
      " 36%|███████████████████████████▎                                                | 36/100 [1:57:39<3:17:46, 185.41s/it]"
     ]
    },
    {
     "name": "stdout",
     "output_type": "stream",
     "text": [
      "471[x]  no correction: 0.35903316136624225, correction:0.16188951944625862\n",
      "471[y]  no correction: 0.2737719928759346, correction:0.186641162177944\n",
      "471[z]  no correction: 0.3521060984397046, correction:0.15248958302213458\n",
      "471[Vx]  no correction: 0.3254884105082518, correction:0.2822927699554885\n",
      "471[Vy]  no correction: 0.2782105019616716, correction:0.18730457271076037\n",
      "471[Vz]  no correction: 0.3256177934861786, correction:0.1996822755493433\n"
     ]
    },
    {
     "name": "stderr",
     "output_type": "stream",
     "text": [
      "\r",
      " 37%|████████████████████████████                                                | 37/100 [1:58:18<2:28:24, 141.34s/it]"
     ]
    },
    {
     "name": "stdout",
     "output_type": "stream",
     "text": [
      "473[x]  no correction: 0.42089521582718664, correction:0.29421771345713327\n",
      "473[y]  no correction: 0.4479868103792845, correction:0.26516225144258454\n",
      "473[z]  no correction: 0.403523964432627, correction:0.2875882312177558\n",
      "473[Vx]  no correction: 0.48766690632756843, correction:0.27701417593844707\n",
      "473[Vy]  no correction: 0.4007779591691519, correction:0.300790052012418\n",
      "473[Vz]  no correction: 0.5107037136786515, correction:0.2636529532777499\n"
     ]
    },
    {
     "name": "stderr",
     "output_type": "stream",
     "text": [
      "\r",
      " 38%|████████████████████████████▉                                               | 38/100 [1:59:44<2:09:01, 124.86s/it]"
     ]
    },
    {
     "name": "stdout",
     "output_type": "stream",
     "text": [
      "474[x]  no correction: 0.09400587793845676, correction:0.017312399428627116\n",
      "474[y]  no correction: 0.06251775696453632, correction:0.04445061585605713\n",
      "474[z]  no correction: 0.04307156027876507, correction:0.023749540302682653\n",
      "474[Vx]  no correction: 0.07560451240783601, correction:0.04900519696110572\n",
      "474[Vy]  no correction: 0.052956505782719036, correction:0.04541071233807329\n",
      "474[Vz]  no correction: 0.055075762961793735, correction:0.045311801469008366\n"
     ]
    },
    {
     "name": "stderr",
     "output_type": "stream",
     "text": [
      "\r",
      " 39%|█████████████████████████████▋                                              | 39/100 [2:01:05<1:53:23, 111.53s/it]"
     ]
    },
    {
     "name": "stdout",
     "output_type": "stream",
     "text": [
      "475[x]  no correction: 0.00594445259813242, correction:0.0026864445858519872\n",
      "475[y]  no correction: 0.05632819667594663, correction:0.005599891505776301\n",
      "475[z]  no correction: 0.00928434287055344, correction:0.006721292916911979\n",
      "475[Vx]  no correction: 0.010356860388011202, correction:0.004089290305873474\n",
      "475[Vy]  no correction: 0.010136508578865956, correction:0.007950561158797966\n",
      "475[Vz]  no correction: 0.014220606837627027, correction:0.010476283012695127\n"
     ]
    },
    {
     "name": "stderr",
     "output_type": "stream",
     "text": [
      "\r",
      " 40%|██████████████████████████████▊                                              | 40/100 [2:02:15<1:39:15, 99.27s/it]"
     ]
    },
    {
     "name": "stdout",
     "output_type": "stream",
     "text": [
      "476[x]  no correction: 0.019075762784178427, correction:0.0020143781365058637\n",
      "476[y]  no correction: 0.015929513375684642, correction:0.010670199076299097\n",
      "476[z]  no correction: 0.018324094116586198, correction:0.004979715430983584\n",
      "476[Vx]  no correction: 0.016257151374966007, correction:0.013182351594113234\n",
      "476[Vy]  no correction: 0.005347872064804651, correction:0.0035523476342212306\n",
      "476[Vz]  no correction: 0.0157323073384198, correction:0.011151505624895227\n"
     ]
    },
    {
     "name": "stderr",
     "output_type": "stream",
     "text": [
      "\r",
      " 41%|███████████████████████████████▌                                             | 41/100 [2:03:49<1:35:52, 97.50s/it]"
     ]
    },
    {
     "name": "stdout",
     "output_type": "stream",
     "text": [
      "477[x]  no correction: 0.06405256754308387, correction:0.0007289448399904986\n",
      "477[y]  no correction: 0.0829195933319461, correction:0.0029201981368931307\n",
      "477[z]  no correction: 0.1171540157288079, correction:0.0007231350070360267\n",
      "477[Vx]  no correction: 0.0645144189729085, correction:0.0009026868933126667\n",
      "477[Vy]  no correction: 0.08033992174040888, correction:0.0014866787759017308\n",
      "477[Vz]  no correction: 0.11744956809430422, correction:0.0036840167866487613\n"
     ]
    },
    {
     "name": "stderr",
     "output_type": "stream",
     "text": [
      "\r",
      " 42%|███████████████████████████████▉                                            | 42/100 [2:07:09<2:04:03, 128.34s/it]"
     ]
    },
    {
     "name": "stdout",
     "output_type": "stream",
     "text": [
      "479[x]  no correction: 0.0090887206292312, correction:0.00102746555240752\n",
      "479[y]  no correction: 0.024086760225144204, correction:0.0038982919151069753\n",
      "479[z]  no correction: 0.018843535323281795, correction:0.0022654469169679906\n",
      "479[Vx]  no correction: 0.011662961761500744, correction:0.004027204157076215\n",
      "479[Vy]  no correction: 0.007409357452216396, correction:0.0009723505958731763\n",
      "479[Vz]  no correction: 0.017940049778772654, correction:0.0008702032613329257\n"
     ]
    },
    {
     "name": "stderr",
     "output_type": "stream",
     "text": [
      "\r",
      " 43%|████████████████████████████████▋                                           | 43/100 [2:11:48<2:45:00, 173.69s/it]"
     ]
    },
    {
     "name": "stdout",
     "output_type": "stream",
     "text": [
      "480[x]  no correction: 0.006919277211947547, correction:0.0023355858429728667\n",
      "480[y]  no correction: 0.003618175038882608, correction:0.00028348926356524807\n",
      "480[z]  no correction: 0.006417250374908709, correction:0.0006943992273915943\n",
      "480[Vx]  no correction: 0.0030167177650508876, correction:0.0005534669437918769\n",
      "480[Vy]  no correction: 0.002483988349208987, correction:0.0015498319998581663\n",
      "480[Vz]  no correction: 0.006063111762345263, correction:0.001887426205554734\n"
     ]
    },
    {
     "name": "stderr",
     "output_type": "stream",
     "text": [
      "\r",
      " 44%|█████████████████████████████████▍                                          | 44/100 [2:13:08<2:15:42, 145.41s/it]"
     ]
    },
    {
     "name": "stdout",
     "output_type": "stream",
     "text": [
      "481[x]  no correction: 0.5886882859290382, correction:0.5518262426999401\n",
      "481[y]  no correction: 0.4529974458450178, correction:0.3105032341234368\n",
      "481[z]  no correction: 0.9135627351997707, correction:0.7738933531822582\n",
      "481[Vx]  no correction: 0.5883782877359913, correction:0.5950226091827578\n",
      "481 Vx does not work\n",
      "481[Vy]  no correction: 0.634617486909573, correction:0.7530789689099735\n",
      "481 Vy does not work\n",
      "481[Vz]  no correction: 0.8657773832345916, correction:0.7521331197803423\n"
     ]
    },
    {
     "name": "stderr",
     "output_type": "stream",
     "text": [
      "\r",
      " 45%|██████████████████████████████████▏                                         | 45/100 [2:13:32<1:39:54, 108.98s/it]"
     ]
    },
    {
     "name": "stdout",
     "output_type": "stream",
     "text": [
      "482[x]  no correction: 0.009026813997360005, correction:0.00806125304822036\n",
      "482[y]  no correction: 0.02223903261414772, correction:0.00813945634766676\n",
      "482[z]  no correction: 0.004333938103441444, correction:0.004246879198616291\n",
      "482[Vx]  no correction: 0.698342044187864, correction:0.8628144528176838\n",
      "482 Vx does not work\n",
      "482[Vy]  no correction: 0.030253251075555158, correction:0.02383782886119625\n",
      "482[Vz]  no correction: 0.018488438439443686, correction:0.005985613309041823\n"
     ]
    },
    {
     "name": "stderr",
     "output_type": "stream",
     "text": [
      "\r",
      " 46%|███████████████████████████████████▍                                         | 46/100 [2:14:31<1:24:31, 93.91s/it]"
     ]
    },
    {
     "name": "stdout",
     "output_type": "stream",
     "text": [
      "483[x]  no correction: 0.011798313376916622, correction:0.00336495796659353\n",
      "483[y]  no correction: 0.009165108511566043, correction:0.001770622736217058\n",
      "483[z]  no correction: 0.009822082560917655, correction:0.001709904148369165\n",
      "483[Vx]  no correction: 0.06253773273116658, correction:0.01196592703246224\n",
      "483[Vy]  no correction: 0.007426098283598929, correction:0.0017570865416742588\n",
      "483[Vz]  no correction: 0.0073995483638384, correction:0.00354159991832228\n"
     ]
    },
    {
     "name": "stderr",
     "output_type": "stream",
     "text": [
      "\r",
      " 47%|████████████████████████████████████▏                                        | 47/100 [2:15:42<1:17:00, 87.18s/it]"
     ]
    },
    {
     "name": "stdout",
     "output_type": "stream",
     "text": [
      "486[x]  no correction: 0.17003145973805286, correction:0.08595586518773088\n",
      "486[y]  no correction: 0.12804273941354957, correction:0.035022537354291006\n",
      "486[z]  no correction: 0.12512769713802877, correction:0.03862329523439535\n",
      "486[Vx]  no correction: 0.1893264029777076, correction:0.0742772319939211\n",
      "486[Vy]  no correction: 0.12207303573403289, correction:0.060692659459652146\n",
      "486[Vz]  no correction: 0.09698238338916178, correction:0.06385520535409141\n"
     ]
    },
    {
     "name": "stderr",
     "output_type": "stream",
     "text": [
      "\r",
      " 48%|████████████████████████████████████▉                                        | 48/100 [2:16:50<1:10:33, 81.42s/it]"
     ]
    },
    {
     "name": "stdout",
     "output_type": "stream",
     "text": [
      "488[x]  no correction: 0.01742001182394662, correction:3.138286146325642e-05\n",
      "488[y]  no correction: 0.035039867011845124, correction:0.00033940303274722345\n",
      "488[z]  no correction: 0.059498413851467244, correction:0.00017367610564757643\n",
      "488[Vx]  no correction: 0.02071154546743096, correction:0.0001615549066563696\n",
      "488[Vy]  no correction: 0.022968645306261772, correction:7.817859158440075e-05\n",
      "488[Vz]  no correction: 0.035290850185835616, correction:9.287887130702742e-05\n"
     ]
    },
    {
     "name": "stderr",
     "output_type": "stream",
     "text": [
      "\r",
      " 49%|█████████████████████████████████████▏                                      | 49/100 [2:24:29<2:45:33, 194.77s/it]"
     ]
    },
    {
     "name": "stdout",
     "output_type": "stream",
     "text": [
      "489[x]  no correction: 0.007352241550957625, correction:0.0015127485614332878\n",
      "489[y]  no correction: 0.030399265501207366, correction:0.016152118760108303\n",
      "489[z]  no correction: 0.016465194467826717, correction:0.007669689723924431\n",
      "489[Vx]  no correction: 0.014862552048764278, correction:0.0256685131917935\n",
      "489 Vx does not work\n",
      "489[Vy]  no correction: 0.004417839696716156, correction:0.008592653806365869\n",
      "489 Vy does not work\n",
      "489[Vz]  no correction: 0.0028882967914035736, correction:0.004811636283199777\n",
      "489 Vz does not work\n"
     ]
    },
    {
     "name": "stderr",
     "output_type": "stream",
     "text": [
      "\r",
      " 50%|██████████████████████████████████████                                      | 50/100 [2:26:14<2:19:45, 167.70s/it]"
     ]
    },
    {
     "name": "stdout",
     "output_type": "stream",
     "text": [
      "491[x]  no correction: 0.007156306099061379, correction:0.005573625177878036\n",
      "491[y]  no correction: 0.0015619311310667188, correction:0.0009498903165139612\n",
      "491[z]  no correction: 0.003913068609894794, correction:0.0014019922040931635\n",
      "491[Vx]  no correction: 0.009636167163472792, correction:0.0069531056024075\n",
      "491[Vy]  no correction: 0.001583729737304588, correction:0.0011149717717245844\n",
      "491[Vz]  no correction: 0.00990931003603327, correction:0.002373561394607401\n"
     ]
    },
    {
     "name": "stderr",
     "output_type": "stream",
     "text": [
      "\r",
      " 51%|██████████████████████████████████████▊                                     | 51/100 [2:27:40<1:57:06, 143.39s/it]"
     ]
    },
    {
     "name": "stdout",
     "output_type": "stream",
     "text": [
      "495[x]  no correction: 0.004293566156683503, correction:4.319889402333987e-05\n",
      "495[y]  no correction: 0.006320876066120568, correction:0.000715752950767092\n",
      "495[z]  no correction: 0.007748754138109779, correction:0.005043194937220501\n",
      "495[Vx]  no correction: 0.006769728664577451, correction:0.003317489306312233\n",
      "495[Vy]  no correction: 0.005608929419676996, correction:0.0005501468002750342\n",
      "495[Vz]  no correction: 0.0060423125268533944, correction:0.00018267166745071145\n"
     ]
    },
    {
     "name": "stderr",
     "output_type": "stream",
     "text": [
      "\r",
      " 52%|███████████████████████████████████████▌                                    | 52/100 [2:31:22<2:13:32, 166.93s/it]"
     ]
    },
    {
     "name": "stdout",
     "output_type": "stream",
     "text": [
      "498[x]  no correction: 0.004684874141030146, correction:0.014347877385721861\n",
      "498 x does not work\n",
      "498[y]  no correction: 0.03002966099837686, correction:0.011031556010905547\n",
      "498[z]  no correction: 0.008671661543622347, correction:0.007761403352531143\n",
      "498[Vx]  no correction: 0.006669115203105149, correction:0.012789160068225105\n",
      "498 Vx does not work\n",
      "498[Vy]  no correction: 0.02371722561862136, correction:0.039513062634083065\n",
      "498 Vy does not work\n",
      "498[Vz]  no correction: 0.5854907871998314, correction:0.831353011725966\n",
      "498 Vz does not work\n"
     ]
    },
    {
     "name": "stderr",
     "output_type": "stream",
     "text": [
      "\r",
      " 53%|████████████████████████████████████████▎                                   | 53/100 [2:32:07<1:42:07, 130.37s/it]"
     ]
    },
    {
     "name": "stdout",
     "output_type": "stream",
     "text": [
      "499[x]  no correction: 0.05456516591317939, correction:0.0003305662613053224\n",
      "499[y]  no correction: 0.01309936345965851, correction:0.0006242119890106874\n",
      "499[z]  no correction: 0.024268239143585925, correction:0.0004810305115454907\n",
      "499[Vx]  no correction: 0.015252308798658692, correction:0.010193305355309242\n",
      "499[Vy]  no correction: 0.023549027265966735, correction:0.001226702506469833\n",
      "499[Vz]  no correction: 0.025323636656671023, correction:0.0011473567036241832\n"
     ]
    },
    {
     "name": "stderr",
     "output_type": "stream",
     "text": [
      "\r",
      " 54%|█████████████████████████████████████████                                   | 54/100 [2:34:58<1:49:15, 142.51s/it]"
     ]
    },
    {
     "name": "stdout",
     "output_type": "stream",
     "text": [
      "502[x]  no correction: 0.3496252273978325, correction:0.10299373141057441\n",
      "502[y]  no correction: 0.272229460102733, correction:0.10950584494970211\n",
      "502[z]  no correction: 0.3147455047485605, correction:0.15181695010708912\n",
      "502[Vx]  no correction: 0.3340995987366915, correction:0.2997674832390601\n",
      "502[Vy]  no correction: 0.23236085359645653, correction:0.17136825941915626\n",
      "502[Vz]  no correction: 0.2909393158389664, correction:0.20033673247440995\n"
     ]
    },
    {
     "name": "stderr",
     "output_type": "stream",
     "text": [
      "\r",
      " 55%|█████████████████████████████████████████▊                                  | 55/100 [2:35:37<1:23:36, 111.48s/it]"
     ]
    },
    {
     "name": "stdout",
     "output_type": "stream",
     "text": [
      "504[x]  no correction: 0.03734240578182442, correction:0.02845245222131038\n",
      "504[y]  no correction: 0.02090842230450955, correction:0.0023477965456252347\n",
      "504[z]  no correction: 0.02275793648824715, correction:0.01445306379498014\n",
      "504[Vx]  no correction: 0.042863409427121295, correction:0.08014342926240366\n",
      "504 Vx does not work\n",
      "504[Vy]  no correction: 0.0069556672243217006, correction:0.00970033711852111\n",
      "504 Vy does not work\n",
      "504[Vz]  no correction: 0.006801160218035053, correction:0.007732672319013233\n",
      "504 Vz does not work\n"
     ]
    },
    {
     "name": "stderr",
     "output_type": "stream",
     "text": [
      "\r",
      " 56%|███████████████████████████████████████████                                  | 56/100 [2:36:44<1:11:55, 98.09s/it]"
     ]
    },
    {
     "name": "stdout",
     "output_type": "stream",
     "text": [
      "505[x]  no correction: 0.025789612766369957, correction:0.00015950946695667993\n",
      "505[y]  no correction: 0.016373655125478524, correction:0.00012846921211125264\n",
      "505[z]  no correction: 0.027033974162574644, correction:0.00016762088949009434\n",
      "505[Vx]  no correction: 0.052103162343490744, correction:0.0002846138003676044\n",
      "505[Vy]  no correction: 0.015080869297641625, correction:0.0003603228821719226\n",
      "505[Vz]  no correction: 0.04124131800072643, correction:0.0009364354648043374\n"
     ]
    },
    {
     "name": "stderr",
     "output_type": "stream",
     "text": [
      "\r",
      " 57%|███████████████████████████████████████████▎                                | 57/100 [2:41:40<1:52:44, 157.32s/it]"
     ]
    },
    {
     "name": "stdout",
     "output_type": "stream",
     "text": [
      "506[x]  no correction: 0.0018877744483686981, correction:0.0018939408952764944\n",
      "506 x does not work\n",
      "506[y]  no correction: 0.006117748212684956, correction:0.0021537408461769383\n",
      "506[z]  no correction: 0.002590324164781975, correction:0.0006281869279920245\n",
      "506[Vx]  no correction: 0.005089013215990166, correction:0.002080114321004542\n",
      "506[Vy]  no correction: 0.0029483815238614164, correction:0.000924794437782436\n",
      "506[Vz]  no correction: 0.001424481077666845, correction:0.0012719813415117086\n"
     ]
    },
    {
     "name": "stderr",
     "output_type": "stream",
     "text": [
      "\r",
      " 58%|████████████████████████████████████████████                                | 58/100 [2:43:02<1:34:19, 134.75s/it]"
     ]
    },
    {
     "name": "stdout",
     "output_type": "stream",
     "text": [
      "508[x]  no correction: 0.10020091729506861, correction:0.033410626974867526\n",
      "508[y]  no correction: 0.08225175556744846, correction:0.0091876545064339\n",
      "508[z]  no correction: 0.13287902701455823, correction:0.0052291013086069515\n",
      "508[Vx]  no correction: 0.08637597642890041, correction:0.03039081200613084\n",
      "508[Vy]  no correction: 0.0832797121413323, correction:0.012057091621200064\n",
      "508[Vz]  no correction: 0.14601914082643508, correction:0.011439799817600823\n"
     ]
    },
    {
     "name": "stderr",
     "output_type": "stream",
     "text": [
      "\r",
      " 59%|████████████████████████████████████████████▊                               | 59/100 [2:44:25<1:21:29, 119.26s/it]"
     ]
    },
    {
     "name": "stdout",
     "output_type": "stream",
     "text": [
      "509[x]  no correction: 0.002996135498708478, correction:0.0002584253812690685\n",
      "509[y]  no correction: 0.009353702854447216, correction:0.0050430121914002675\n",
      "509[z]  no correction: 0.0024902586375670248, correction:0.00014650481376999032\n",
      "509[Vx]  no correction: 0.003052950733460859, correction:0.00018088407869432704\n",
      "509[Vy]  no correction: 0.0025295712867704255, correction:0.00029464226212486214\n",
      "509[Vz]  no correction: 0.002160003571742016, correction:7.429096395580736e-05\n"
     ]
    },
    {
     "name": "stderr",
     "output_type": "stream",
     "text": [
      "\r",
      " 60%|█████████████████████████████████████████████▌                              | 60/100 [2:55:49<3:12:29, 288.75s/it]"
     ]
    },
    {
     "name": "stdout",
     "output_type": "stream",
     "text": [
      "510[x]  no correction: 0.16725887594400962, correction:0.07165763969793328\n",
      "510[y]  no correction: 0.24755724454111872, correction:0.0034168898620505306\n",
      "510[z]  no correction: 0.2907973311858856, correction:0.06346623058411027\n",
      "510[Vx]  no correction: 0.171737968104362, correction:0.09159451800746142\n",
      "510[Vy]  no correction: 0.20046065700294308, correction:0.14993768052446307\n",
      "510[Vz]  no correction: 0.2708485224547194, correction:0.20410833856934915\n"
     ]
    },
    {
     "name": "stderr",
     "output_type": "stream",
     "text": [
      "\r",
      " 61%|██████████████████████████████████████████████▎                             | 61/100 [2:57:14<2:28:02, 227.74s/it]"
     ]
    },
    {
     "name": "stdout",
     "output_type": "stream",
     "text": [
      "511[x]  no correction: 0.1333285254109401, correction:0.03579919728905183\n",
      "511[y]  no correction: 0.2864528577544799, correction:0.17852407183244812\n",
      "511[z]  no correction: 0.15354328510130164, correction:0.08361192495538863\n",
      "511[Vx]  no correction: 0.14801148007298373, correction:0.06075804252979402\n",
      "511[Vy]  no correction: 0.2725384952813169, correction:0.2045321104681418\n",
      "511[Vz]  no correction: 0.18676483713729372, correction:0.0888021442330625\n"
     ]
    },
    {
     "name": "stderr",
     "output_type": "stream",
     "text": [
      "\r",
      " 62%|███████████████████████████████████████████████                             | 62/100 [2:58:20<1:53:26, 179.12s/it]"
     ]
    },
    {
     "name": "stdout",
     "output_type": "stream",
     "text": [
      "514[x]  no correction: 0.4008405226593565, correction:0.2604237585214235\n",
      "514[y]  no correction: 0.3872158420219513, correction:0.26172852759715454\n",
      "514[z]  no correction: 0.35007463084400464, correction:0.23083995697629114\n",
      "514[Vx]  no correction: 0.6597099855525308, correction:0.8892838641588402\n",
      "514 Vx does not work\n",
      "514[Vy]  no correction: 0.402353434250083, correction:0.2805040529615755\n",
      "514[Vz]  no correction: 0.3979099077896861, correction:0.341907263364391\n"
     ]
    },
    {
     "name": "stderr",
     "output_type": "stream",
     "text": [
      "\r",
      " 63%|███████████████████████████████████████████████▉                            | 63/100 [2:59:16<1:27:38, 142.13s/it]"
     ]
    },
    {
     "name": "stdout",
     "output_type": "stream",
     "text": [
      "515[x]  no correction: 0.4848770548835819, correction:0.9322191069332354\n",
      "515 x does not work\n",
      "515[y]  no correction: 0.3928640426979384, correction:0.9322402818610619\n",
      "515 y does not work\n",
      "515[z]  no correction: 0.4248384574511384, correction:0.6884371562954362\n",
      "515 z does not work\n",
      "515[Vx]  no correction: 0.5688777412334418, correction:0.9483280498726223\n",
      "515 Vx does not work\n",
      "515[Vy]  no correction: 0.6155715760459155, correction:0.9640670873106203\n",
      "515 Vy does not work\n",
      "515[Vz]  no correction: 0.3689956638196717, correction:0.8500325801453094\n",
      "515 Vz does not work\n"
     ]
    },
    {
     "name": "stderr",
     "output_type": "stream",
     "text": [
      "\r",
      " 64%|███████████████████████████████████████████████▎                          | 64/100 [5:43:21<30:31:43, 3052.87s/it]"
     ]
    },
    {
     "name": "stdout",
     "output_type": "stream",
     "text": [
      "516[x]  no correction: 0.2932698551115733, correction:0.003094012188787698\n",
      "516[y]  no correction: 0.30024244776085623, correction:0.1322819553537994\n",
      "516[z]  no correction: 0.1510881586452297, correction:0.001788385521242886\n",
      "516[Vx]  no correction: 0.2508482621180072, correction:0.1703666505973575\n",
      "516[Vy]  no correction: 0.2556720786221392, correction:0.0013749671049157368\n",
      "516[Vz]  no correction: 0.18517078294638692, correction:0.042435004678081534\n"
     ]
    },
    {
     "name": "stderr",
     "output_type": "stream",
     "text": [
      "\r",
      " 65%|████████████████████████████████████████████████                          | 65/100 [5:45:46<21:12:04, 2180.69s/it]"
     ]
    },
    {
     "name": "stdout",
     "output_type": "stream",
     "text": [
      "517[x]  no correction: 0.3776406419973746, correction:0.019535700542777805\n",
      "517[y]  no correction: 0.3267896620582303, correction:0.17625012536603035\n",
      "517[z]  no correction: 0.31958685295383266, correction:0.00468708323625309\n",
      "517[Vx]  no correction: 0.3595078455307031, correction:0.019138284526876763\n",
      "517[Vy]  no correction: 0.32294626704067475, correction:0.0485851426460897\n",
      "517[Vz]  no correction: 0.3011692352015216, correction:0.2177206495111374\n"
     ]
    },
    {
     "name": "stderr",
     "output_type": "stream",
     "text": [
      "\r",
      " 66%|████████████████████████████████████████████████▊                         | 66/100 [5:48:09<14:49:20, 1569.42s/it]"
     ]
    },
    {
     "name": "stdout",
     "output_type": "stream",
     "text": [
      "519[x]  no correction: 0.006709455998038328, correction:0.0009939493765846298\n",
      "519[y]  no correction: 0.003300997580843286, correction:0.0018958728923207263\n",
      "519[z]  no correction: 0.013267262415667006, correction:0.0020849717344430256\n",
      "519[Vx]  no correction: 0.012512274386741119, correction:0.01691427088931284\n",
      "519 Vx does not work\n",
      "519[Vy]  no correction: 0.003767024607415239, correction:0.0012813652733013846\n",
      "519[Vz]  no correction: 0.0056488569430655266, correction:0.001823797594337367\n"
     ]
    },
    {
     "name": "stderr",
     "output_type": "stream",
     "text": [
      "\r",
      " 67%|█████████████████████████████████████████████████▌                        | 67/100 [5:49:25<10:16:47, 1121.43s/it]"
     ]
    },
    {
     "name": "stdout",
     "output_type": "stream",
     "text": [
      "522[x]  no correction: 0.12769552196546136, correction:0.06087637935004979\n",
      "522[y]  no correction: 0.20766854585643565, correction:0.05438831176621626\n",
      "522[z]  no correction: 0.23997178470313663, correction:0.002336371892652934\n",
      "522[Vx]  no correction: 0.12349418717283815, correction:0.013027624870851255\n",
      "522[Vy]  no correction: 0.19361187091272708, correction:0.0038622707323452904\n",
      "522[Vz]  no correction: 0.23628850853297304, correction:0.18981971165972766\n"
     ]
    },
    {
     "name": "stderr",
     "output_type": "stream",
     "text": [
      "\r",
      " 68%|███████████████████████████████████████████████████▋                        | 68/100 [5:51:40<7:20:10, 825.33s/it]"
     ]
    },
    {
     "name": "stdout",
     "output_type": "stream",
     "text": [
      "523[x]  no correction: 0.506828521768017, correction:0.48700866445337465\n",
      "523[y]  no correction: 0.5275252746434327, correction:0.4970268037175962\n",
      "523[z]  no correction: 0.5051122890471778, correction:0.46705459122821363\n",
      "523[Vx]  no correction: 0.5699025490837644, correction:0.490823723141445\n",
      "523[Vy]  no correction: 0.5265602671917049, correction:0.5106653606724251\n",
      "523[Vz]  no correction: 0.5758208360803707, correction:0.5950976391317095\n",
      "523 Vz does not work\n"
     ]
    },
    {
     "name": "stderr",
     "output_type": "stream",
     "text": [
      "\r",
      " 69%|████████████████████████████████████████████████████▍                       | 69/100 [5:53:42<5:17:30, 614.53s/it]"
     ]
    },
    {
     "name": "stdout",
     "output_type": "stream",
     "text": [
      "524[x]  no correction: 0.01586825455145314, correction:0.3906643560417187\n",
      "524 x does not work\n",
      "524[y]  no correction: 0.011918289852931148, correction:0.02867115606453627\n",
      "524 y does not work\n",
      "524[z]  no correction: 0.0064824966701819454, correction:0.4543350442561822\n",
      "524 z does not work\n",
      "524[Vx]  no correction: 0.0501680742267404, correction:0.05615018284901575\n",
      "524 Vx does not work\n",
      "524[Vy]  no correction: 0.022955573060935323, correction:0.8284431740507112\n",
      "524 Vy does not work\n",
      "524[Vz]  no correction: 0.01531215100646341, correction:0.3064262726203687\n",
      "524 Vz does not work\n"
     ]
    },
    {
     "name": "stderr",
     "output_type": "stream",
     "text": [
      "\r",
      " 70%|███████████████████████████████████████████████████▊                      | 70/100 [7:56:09<21:57:01, 2634.06s/it]"
     ]
    },
    {
     "name": "stdout",
     "output_type": "stream",
     "text": [
      "528[x]  no correction: 0.3073865461749352, correction:0.0814674835381409\n",
      "528[y]  no correction: 0.1808601083749963, correction:0.10280186382858962\n",
      "528[z]  no correction: 0.11907937578437656, correction:0.09099106394079476\n",
      "528[Vx]  no correction: 0.35042153798391923, correction:0.8929514539068658\n",
      "528 Vx does not work\n",
      "528[Vy]  no correction: 0.13778703188569214, correction:0.12258865558869472\n",
      "528[Vz]  no correction: 0.1527566046073205, correction:0.1320481556919524\n"
     ]
    },
    {
     "name": "stderr",
     "output_type": "stream",
     "text": [
      "\r",
      " 71%|████████████████████████████████████████████████████▌                     | 71/100 [7:56:44<14:56:15, 1854.31s/it]"
     ]
    },
    {
     "name": "stdout",
     "output_type": "stream",
     "text": [
      "536[x]  no correction: 0.010098368180441863, correction:0.007027020386391839\n",
      "536[y]  no correction: 0.009928576925098928, correction:0.004305324895174228\n",
      "536[z]  no correction: 0.011593767341558559, correction:0.008817843426829897\n",
      "536[Vx]  no correction: 0.02718589431787769, correction:0.032334432519592116\n",
      "536 Vx does not work\n",
      "536[Vy]  no correction: 0.006659577242158419, correction:0.0048579103227897515\n",
      "536[Vz]  no correction: 0.004948607143255706, correction:0.007013632518505364\n",
      "536 Vz does not work\n"
     ]
    },
    {
     "name": "stderr",
     "output_type": "stream",
     "text": [
      "\r",
      " 72%|█████████████████████████████████████████████████████▎                    | 72/100 [7:57:24<10:11:27, 1310.26s/it]"
     ]
    },
    {
     "name": "stdout",
     "output_type": "stream",
     "text": [
      "537[x]  no correction: 0.007879055111439496, correction:0.0004693488922690254\n",
      "537[y]  no correction: 0.005047045832762779, correction:0.0007514802491741217\n",
      "537[z]  no correction: 0.005917580439832342, correction:0.0008613248809753709\n",
      "537[Vx]  no correction: 0.005159298643366063, correction:0.0005170526512167341\n",
      "537[Vy]  no correction: 0.013977971347123735, correction:0.0032930941926634966\n",
      "537[Vz]  no correction: 0.004459999332187966, correction:0.0010659008419126761\n"
     ]
    },
    {
     "name": "stderr",
     "output_type": "stream",
     "text": [
      "\r",
      " 73%|███████████████████████████████████████████████████████▍                    | 73/100 [7:59:18<7:08:00, 951.13s/it]"
     ]
    },
    {
     "name": "stdout",
     "output_type": "stream",
     "text": [
      "539[x]  no correction: 0.014480665831809424, correction:0.0009649425691699922\n",
      "539[y]  no correction: 0.011900896402373826, correction:0.0026445725122581226\n",
      "539[z]  no correction: 0.001790013955108479, correction:0.0013411859333072416\n",
      "539[Vx]  no correction: 0.004055956524475944, correction:0.0008898384179879067\n",
      "539[Vy]  no correction: 0.006535668228964266, correction:0.00236748144772709\n",
      "539[Vz]  no correction: 0.006854417699829731, correction:0.000652784695421489\n"
     ]
    },
    {
     "name": "stderr",
     "output_type": "stream",
     "text": [
      "\r",
      " 74%|████████████████████████████████████████████████████████▏                   | 74/100 [8:00:01<4:54:05, 678.66s/it]"
     ]
    },
    {
     "name": "stdout",
     "output_type": "stream",
     "text": [
      "542[x]  no correction: 0.0690134481549586, correction:0.005252909528796346\n",
      "542[y]  no correction: 0.024765067579486884, correction:0.0009971147958937536\n",
      "542[z]  no correction: 0.056510111231757684, correction:0.032551423128303746\n",
      "542[Vx]  no correction: 0.0626093143899221, correction:0.004019309132630228\n",
      "542[Vy]  no correction: 0.015288777378170929, correction:0.010751059247233121\n",
      "542[Vz]  no correction: 0.036571744539974846, correction:0.07899489451952237\n",
      "542 Vz does not work\n"
     ]
    },
    {
     "name": "stderr",
     "output_type": "stream",
     "text": [
      "\r",
      " 75%|█████████████████████████████████████████████████████████                   | 75/100 [8:01:34<3:29:36, 503.05s/it]"
     ]
    },
    {
     "name": "stdout",
     "output_type": "stream",
     "text": [
      "543[x]  no correction: 0.14588722072825158, correction:0.0621098102856474\n",
      "543[y]  no correction: 0.18901383939808433, correction:0.278512598270402\n",
      "543 y does not work\n",
      "543[z]  no correction: 0.1060778146801418, correction:0.04717102485993123\n",
      "543[Vx]  no correction: 0.07806954754181533, correction:0.17272920567510527\n",
      "543 Vx does not work\n",
      "543[Vy]  no correction: 0.20436757476885, correction:0.13723166816270924\n",
      "543[Vz]  no correction: 0.6992954519777631, correction:0.7430371504067125\n",
      "543 Vz does not work\n"
     ]
    },
    {
     "name": "stderr",
     "output_type": "stream",
     "text": [
      "\r",
      " 76%|█████████████████████████████████████████████████████████▊                  | 76/100 [8:02:00<2:24:01, 360.07s/it]"
     ]
    },
    {
     "name": "stdout",
     "output_type": "stream",
     "text": [
      "544[x]  no correction: 0.2737217423324451, correction:0.08676311747302301\n",
      "544[y]  no correction: 0.15011091479999622, correction:0.02707676629182509\n",
      "544[z]  no correction: 0.18081455744246078, correction:0.11141981908200153\n",
      "544[Vx]  no correction: 0.23806822841370506, correction:0.16195429078307114\n",
      "544[Vy]  no correction: 0.14581543049541423, correction:0.08105226863673287\n",
      "544[Vz]  no correction: 0.19200404626842738, correction:0.13318356966382633\n"
     ]
    },
    {
     "name": "stderr",
     "output_type": "stream",
     "text": [
      "\r",
      " 77%|██████████████████████████████████████████████████████████▌                 | 77/100 [8:02:36<1:40:42, 262.72s/it]"
     ]
    },
    {
     "name": "stdout",
     "output_type": "stream",
     "text": [
      "547[x]  no correction: 0.015953173947199372, correction:0.0008154918355891633\n",
      "547[y]  no correction: 0.01164611510193528, correction:0.0012147252409711305\n",
      "547[z]  no correction: 0.011780261729724774, correction:0.001262134084268696\n",
      "547[Vx]  no correction: 0.02188645362280816, correction:0.0007714017241913551\n",
      "547[Vy]  no correction: 0.008096165732573442, correction:0.0009067230663898862\n",
      "547[Vz]  no correction: 0.012797458050549103, correction:0.0008604224714407247\n"
     ]
    },
    {
     "name": "stderr",
     "output_type": "stream",
     "text": [
      "\r",
      " 78%|███████████████████████████████████████████████████████████▎                | 78/100 [8:04:50<1:22:10, 224.12s/it]"
     ]
    },
    {
     "name": "stdout",
     "output_type": "stream",
     "text": [
      "548[x]  no correction: 0.16756342387263917, correction:0.1219707257389956\n",
      "548[y]  no correction: 0.16866426730352124, correction:0.15205712779482414\n",
      "548[z]  no correction: 0.2363031689175639, correction:0.2128926233748588\n",
      "548[Vx]  no correction: 0.13360451180301466, correction:0.06235485415401569\n",
      "548[Vy]  no correction: 0.159386750871641, correction:0.20025280652738378\n",
      "548 Vy does not work\n",
      "548[Vz]  no correction: 0.224423448803054, correction:0.149805286339936\n"
     ]
    },
    {
     "name": "stderr",
     "output_type": "stream",
     "text": [
      "\r",
      " 79%|█████████████████████████████████████████████████████████████▌                | 79/100 [8:05:31<59:14, 169.27s/it]"
     ]
    },
    {
     "name": "stdout",
     "output_type": "stream",
     "text": [
      "549[x]  no correction: 0.011313010967532513, correction:0.0008300249490755309\n",
      "549[y]  no correction: 0.06649115568597334, correction:0.002078161292101339\n",
      "549[z]  no correction: 0.022140238633269808, correction:0.005877753265147819\n",
      "549[Vx]  no correction: 0.036128251727809764, correction:0.012106288774796864\n",
      "549[Vy]  no correction: 0.030746219464027398, correction:0.0027527956470303084\n",
      "549[Vz]  no correction: 0.03302573382839748, correction:0.01021567011087234\n"
     ]
    },
    {
     "name": "stderr",
     "output_type": "stream",
     "text": [
      "\r",
      " 80%|██████████████████████████████████████████████████████████████▍               | 80/100 [8:07:07<49:05, 147.30s/it]"
     ]
    },
    {
     "name": "stdout",
     "output_type": "stream",
     "text": [
      "550[x]  no correction: 0.48269108357849133, correction:0.13382426818445758\n",
      "550[y]  no correction: 0.34378776300159214, correction:0.1291147974445647\n",
      "550[z]  no correction: 0.22666278597837186, correction:0.1587605783659028\n",
      "550[Vx]  no correction: 0.3900346094504741, correction:0.2810711545847346\n",
      "550[Vy]  no correction: 0.3258165444759799, correction:0.2645582650873166\n",
      "550[Vz]  no correction: 0.2681004253477475, correction:0.1954610985513917\n"
     ]
    },
    {
     "name": "stderr",
     "output_type": "stream",
     "text": [
      "\r",
      " 81%|███████████████████████████████████████████████████████████████▏              | 81/100 [8:08:10<38:36, 121.91s/it]"
     ]
    },
    {
     "name": "stdout",
     "output_type": "stream",
     "text": [
      "558[x]  no correction: 0.03614181049125984, correction:0.010859489917241602\n",
      "558[y]  no correction: 0.007161681972936378, correction:0.0007909452725129901\n",
      "558[z]  no correction: 0.0022455443613011027, correction:0.00027504918368358557\n",
      "558[Vx]  no correction: 0.0030723108331400344, correction:0.0004547132924388373\n",
      "558[Vy]  no correction: 0.008445335188040602, correction:0.0004826274997237654\n",
      "558[Vz]  no correction: 0.001850353334926762, correction:0.0001511433439990128\n"
     ]
    },
    {
     "name": "stderr",
     "output_type": "stream",
     "text": [
      "\r",
      " 82%|███████████████████████████████████████████████████████████████▉              | 82/100 [8:09:22<32:04, 106.93s/it]"
     ]
    },
    {
     "name": "stdout",
     "output_type": "stream",
     "text": [
      "563[x]  no correction: 0.020075041683010324, correction:0.0961069563113883\n",
      "563 x does not work\n",
      "563[y]  no correction: 0.01605304388520668, correction:0.03685018155210363\n",
      "563 y does not work\n",
      "563[z]  no correction: 0.031098893805905203, correction:0.004373995556839092\n",
      "563[Vx]  no correction: 0.024436081855797143, correction:0.1697084512741298\n",
      "563 Vx does not work\n",
      "563[Vy]  no correction: 0.060837284592013804, correction:0.04944986868808322\n",
      "563[Vz]  no correction: 0.06866368940354209, correction:0.018190615233697312\n"
     ]
    },
    {
     "name": "stderr",
     "output_type": "stream",
     "text": [
      "\r",
      " 83%|█████████████████████████████████████████████████████████████████▌             | 83/100 [8:09:52<23:47, 83.95s/it]"
     ]
    },
    {
     "name": "stdout",
     "output_type": "stream",
     "text": [
      "565[x]  no correction: 0.004249751470066045, correction:0.0004565187344212627\n",
      "565[y]  no correction: 0.047463452906780085, correction:0.023953732394975294\n",
      "565[z]  no correction: 0.008310608298173297, correction:0.000458018598070108\n",
      "565[Vx]  no correction: 0.013966926179806112, correction:0.012222368768277527\n",
      "565[Vy]  no correction: 0.00380463067214744, correction:0.001979586721126139\n",
      "565[Vz]  no correction: 0.0031061859534633127, correction:0.001123389847286253\n"
     ]
    },
    {
     "name": "stderr",
     "output_type": "stream",
     "text": [
      "\r",
      " 84%|██████████████████████████████████████████████████████████████████▎            | 84/100 [8:12:00<25:53, 97.09s/it]"
     ]
    },
    {
     "name": "stdout",
     "output_type": "stream",
     "text": [
      "566[x]  no correction: 0.1896506692828686, correction:0.1326297432596054\n",
      "566[y]  no correction: 0.13671870625702442, correction:0.1049353408739813\n",
      "566[z]  no correction: 0.18801804887049442, correction:0.05350109614208488\n",
      "566[Vx]  no correction: 0.19613869101438763, correction:0.11891883103822377\n",
      "566[Vy]  no correction: 0.11667510443373338, correction:0.11445925447065158\n",
      "566[Vz]  no correction: 0.19992598525370842, correction:0.21546356466249378\n",
      "566 Vz does not work\n"
     ]
    },
    {
     "name": "stderr",
     "output_type": "stream",
     "text": [
      "\r",
      " 85%|███████████████████████████████████████████████████████████████████▏           | 85/100 [8:12:45<20:23, 81.59s/it]"
     ]
    },
    {
     "name": "stdout",
     "output_type": "stream",
     "text": [
      "567[x]  no correction: 0.0009933303203763628, correction:0.0006546183580739506\n",
      "567[y]  no correction: 0.0071279701932860495, correction:0.0006640510005175937\n",
      "567[z]  no correction: 0.007785190182869703, correction:0.0015417642677003779\n",
      "567[Vx]  no correction: 0.002620605911364054, correction:0.0010230060863748623\n",
      "567[Vy]  no correction: 0.0069015395626947805, correction:0.005806351271523804\n",
      "567[Vz]  no correction: 0.0014375357304265625, correction:0.0004117656325508799\n"
     ]
    },
    {
     "name": "stderr",
     "output_type": "stream",
     "text": [
      "\r",
      " 86%|███████████████████████████████████████████████████████████████████▉           | 86/100 [8:14:14<19:32, 83.79s/it]"
     ]
    },
    {
     "name": "stdout",
     "output_type": "stream",
     "text": [
      "569[x]  no correction: 0.0027545254947256128, correction:0.0007738796118470959\n",
      "569[y]  no correction: 0.003932485955389534, correction:0.0007317036241062496\n",
      "569[z]  no correction: 0.0011265697794881804, correction:0.00020227907433908532\n",
      "569[Vx]  no correction: 0.0027165317610710763, correction:0.000881802851432525\n",
      "569[Vy]  no correction: 0.00294424484287476, correction:0.001067417555482421\n",
      "569[Vz]  no correction: 0.0012533118255340957, correction:0.0004020984949973751\n"
     ]
    },
    {
     "name": "stderr",
     "output_type": "stream",
     "text": [
      "\r",
      " 87%|███████████████████████████████████████████████████████████████████▊          | 87/100 [8:16:33<21:42, 100.20s/it]"
     ]
    },
    {
     "name": "stdout",
     "output_type": "stream",
     "text": [
      "572[x]  no correction: 0.3693589964175957, correction:0.1878115971137349\n",
      "572[y]  no correction: 0.2997005457645957, correction:0.15914594262347126\n",
      "572[z]  no correction: 0.31704535662641137, correction:0.1957268254836557\n",
      "572[Vx]  no correction: 0.6874861225498686, correction:0.7623605973610699\n",
      "572 Vx does not work\n",
      "572[Vy]  no correction: 0.7201829539696002, correction:0.7407550592023797\n",
      "572 Vy does not work\n",
      "572[Vz]  no correction: 0.6724336395505146, correction:0.8180686070477341\n",
      "572 Vz does not work\n"
     ]
    },
    {
     "name": "stderr",
     "output_type": "stream",
     "text": [
      "\r",
      " 88%|█████████████████████████████████████████████████████████████████████▌         | 88/100 [8:16:56<15:25, 77.08s/it]"
     ]
    },
    {
     "name": "stdout",
     "output_type": "stream",
     "text": [
      "575[x]  no correction: 0.005783188629349882, correction:0.0029676200320651698\n",
      "575[y]  no correction: 0.008922100109111366, correction:0.000820205889766447\n",
      "575[z]  no correction: 0.020509431994018806, correction:0.007347598593264968\n",
      "575[Vx]  no correction: 0.00380817266382839, correction:0.0007120758196180718\n",
      "575[Vy]  no correction: 0.006208966562314437, correction:0.0021630088621303668\n",
      "575[Vz]  no correction: 0.010992994928749843, correction:0.0011020683084559623\n"
     ]
    },
    {
     "name": "stderr",
     "output_type": "stream",
     "text": [
      "\r",
      " 89%|██████████████████████████████████████████████████████████████████████▎        | 89/100 [8:18:42<15:44, 85.87s/it]"
     ]
    },
    {
     "name": "stdout",
     "output_type": "stream",
     "text": [
      "578[x]  no correction: 0.005252624551635678, correction:0.0006019920658584194\n",
      "578[y]  no correction: 0.0025669251503745685, correction:0.0007084971799770052\n",
      "578[z]  no correction: 0.002774676515807975, correction:0.0007017307395341045\n",
      "578[Vx]  no correction: 0.004820416369597631, correction:0.0006559270752724166\n",
      "578[Vy]  no correction: 0.0016038112628673036, correction:0.0006103156412714424\n",
      "578[Vz]  no correction: 0.004487047299327819, correction:0.0015286158714270563\n"
     ]
    },
    {
     "name": "stderr",
     "output_type": "stream",
     "text": [
      "\r",
      " 90%|██████████████████████████████████████████████████████████████████████▏       | 90/100 [8:21:57<19:45, 118.58s/it]"
     ]
    },
    {
     "name": "stdout",
     "output_type": "stream",
     "text": [
      "579[x]  no correction: 0.002241103435566723, correction:0.00045854179266757055\n",
      "579[y]  no correction: 0.0031152933433813545, correction:0.00017878919720281037\n",
      "579[z]  no correction: 0.0018056683595473002, correction:0.00047157096345745166\n",
      "579[Vx]  no correction: 0.004901165188663459, correction:0.0006351727982238202\n",
      "579[Vy]  no correction: 0.0023230903597642335, correction:0.0006777268846685153\n",
      "579[Vz]  no correction: 0.0020353709616954007, correction:0.002018619526504834\n"
     ]
    },
    {
     "name": "stderr",
     "output_type": "stream",
     "text": [
      "\r",
      " 91%|██████████████████████████████████████████████████████████████████████▉       | 91/100 [8:27:28<27:21, 182.34s/it]"
     ]
    },
    {
     "name": "stdout",
     "output_type": "stream",
     "text": [
      "580[x]  no correction: 0.0018485909881760933, correction:0.0007880402995014172\n",
      "580[y]  no correction: 0.007120289005133706, correction:0.0021579830172360143\n",
      "580[z]  no correction: 0.003219582331619302, correction:0.0008408401222132282\n",
      "580[Vx]  no correction: 0.0026066013907871106, correction:0.0009165378227942614\n",
      "580[Vy]  no correction: 0.01216130940791756, correction:0.0030820160253950766\n",
      "580[Vz]  no correction: 0.0015289424840751774, correction:0.0008939293724030728\n"
     ]
    },
    {
     "name": "stderr",
     "output_type": "stream",
     "text": [
      "\r",
      " 92%|███████████████████████████████████████████████████████████████████████▊      | 92/100 [8:28:50<20:16, 152.07s/it]"
     ]
    },
    {
     "name": "stdout",
     "output_type": "stream",
     "text": [
      "583[x]  no correction: 0.011559409234405144, correction:8.500694412814325e-05\n",
      "583[y]  no correction: 0.008673246010194162, correction:0.00013108900771387745\n",
      "583[z]  no correction: 0.01733674063807842, correction:0.00017282199902437704\n",
      "583[Vx]  no correction: 0.007139064756765461, correction:0.00010241338107793938\n",
      "583[Vy]  no correction: 0.009927154108278748, correction:0.0003776495995487454\n",
      "583[Vz]  no correction: 0.019591002605607075, correction:0.00011871686509931198\n"
     ]
    },
    {
     "name": "stderr",
     "output_type": "stream",
     "text": [
      "\r",
      " 93%|████████████████████████████████████████████████████████████████████████▌     | 93/100 [8:34:58<25:18, 216.92s/it]"
     ]
    },
    {
     "name": "stdout",
     "output_type": "stream",
     "text": [
      "584[x]  no correction: 0.09927651728603296, correction:0.029161345794376375\n",
      "584[y]  no correction: 0.1135330507957908, correction:0.010663795705593764\n",
      "584[z]  no correction: 0.1684054580608067, correction:0.0024129875770039244\n",
      "584[Vx]  no correction: 0.09283741789340684, correction:0.024452346048581625\n",
      "584[Vy]  no correction: 0.12387248797735685, correction:0.05316780155329516\n",
      "584[Vz]  no correction: 0.17547344104018306, correction:0.0005755668327488087\n"
     ]
    },
    {
     "name": "stderr",
     "output_type": "stream",
     "text": [
      "\r",
      " 94%|█████████████████████████████████████████████████████████████████████████▎    | 94/100 [8:37:46<20:13, 202.21s/it]"
     ]
    },
    {
     "name": "stdout",
     "output_type": "stream",
     "text": [
      "587[x]  no correction: 0.5094936556278605, correction:0.41598080711637825\n",
      "587[y]  no correction: 0.5023673204437292, correction:0.40915091485432303\n",
      "587[z]  no correction: 0.5481400963303669, correction:0.42436291417030725\n",
      "587[Vx]  no correction: 0.5981795081361294, correction:0.3797124548895968\n",
      "587[Vy]  no correction: 0.5823179090852487, correction:0.39114250984916765\n",
      "587[Vz]  no correction: 0.48149938610498494, correction:0.4407607182816055\n"
     ]
    },
    {
     "name": "stderr",
     "output_type": "stream",
     "text": [
      "\r",
      " 95%|██████████████████████████████████████████████████████████████████████████    | 95/100 [8:39:12<13:57, 167.47s/it]"
     ]
    },
    {
     "name": "stdout",
     "output_type": "stream",
     "text": [
      "588[x]  no correction: 0.00531208574786883, correction:0.002779537779275459\n",
      "588[y]  no correction: 0.001730264757054094, correction:0.0016724354763647115\n",
      "588[z]  no correction: 0.004583730546351449, correction:0.001653316341799198\n",
      "588[Vx]  no correction: 0.0036061002453942697, correction:0.0011563901763283631\n",
      "588[Vy]  no correction: 0.002095413005532185, correction:0.0008064186614857694\n",
      "588[Vz]  no correction: 0.003263767475951704, correction:0.0018305825860809076\n"
     ]
    },
    {
     "name": "stderr",
     "output_type": "stream",
     "text": [
      "\r",
      " 96%|██████████████████████████████████████████████████████████████████████████▉   | 96/100 [8:41:25<10:28, 157.16s/it]"
     ]
    },
    {
     "name": "stdout",
     "output_type": "stream",
     "text": [
      "593[x]  no correction: 0.0035195245697350087, correction:6.931058047436583e-05\n",
      "593[y]  no correction: 0.003684655204458203, correction:9.440306104688117e-05\n",
      "593[z]  no correction: 0.0019634177161294633, correction:4.698602268719416e-05\n",
      "593[Vx]  no correction: 0.002360444417898276, correction:9.973432273935713e-05\n",
      "593[Vy]  no correction: 0.006652535596731136, correction:0.00010532142789049013\n",
      "593[Vz]  no correction: 0.003195178335377901, correction:7.894522245257422e-05\n"
     ]
    },
    {
     "name": "stderr",
     "output_type": "stream",
     "text": [
      "\r",
      " 97%|███████████████████████████████████████████████████████████████████████████▋  | 97/100 [8:45:36<09:16, 185.34s/it]"
     ]
    },
    {
     "name": "stdout",
     "output_type": "stream",
     "text": [
      "595[x]  no correction: 0.12768075418966512, correction:0.009981369139124532\n",
      "595[y]  no correction: 0.03981210910468197, correction:0.0039051762332984017\n",
      "595[z]  no correction: 0.07140730636490963, correction:0.010381086637480448\n",
      "595[Vx]  no correction: 0.1158209038900571, correction:0.004597059516209281\n",
      "595[Vy]  no correction: 0.048520951379150794, correction:0.0386419330202976\n",
      "595[Vz]  no correction: 0.10861165069690841, correction:0.06253791775335506\n"
     ]
    },
    {
     "name": "stderr",
     "output_type": "stream",
     "text": [
      "\r",
      " 98%|████████████████████████████████████████████████████████████████████████████▍ | 98/100 [8:47:26<05:25, 162.66s/it]"
     ]
    },
    {
     "name": "stdout",
     "output_type": "stream",
     "text": [
      "596[x]  no correction: 0.03834668187083804, correction:0.013723502138803592\n",
      "596[y]  no correction: 0.006510563373095324, correction:0.0009632990244615431\n",
      "596[z]  no correction: 0.006935797954444145, correction:0.0023455558061840722\n",
      "596[Vx]  no correction: 0.01656521055315475, correction:0.006368503788722379\n",
      "596[Vy]  no correction: 0.005311120029185384, correction:0.002495334580074642\n",
      "596[Vz]  no correction: 0.007580362160708127, correction:0.004461611979657295\n"
     ]
    },
    {
     "name": "stderr",
     "output_type": "stream",
     "text": [
      "\r",
      " 99%|█████████████████████████████████████████████████████████████████████████████▏| 99/100 [8:49:13<02:26, 146.04s/it]"
     ]
    },
    {
     "name": "stdout",
     "output_type": "stream",
     "text": [
      "597[x]  no correction: 0.0102068283760401, correction:0.0033465147514855644\n",
      "597[y]  no correction: 0.021134070883808406, correction:0.005893589203534436\n",
      "597[z]  no correction: 0.05646959030309932, correction:0.019642643196112714\n",
      "597[Vx]  no correction: 0.005238040701819942, correction:0.0023720455483326824\n",
      "597[Vy]  no correction: 0.02754174141454834, correction:0.01811000483524426\n",
      "597[Vz]  no correction: 0.022383043297277926, correction:0.002767024353609174\n"
     ]
    },
    {
     "name": "stderr",
     "output_type": "stream",
     "text": [
      "100%|█████████████████████████████████████████████████████████████████████████████| 100/100 [8:50:38<00:00, 127.46s/it]\n"
     ]
    }
   ],
   "source": [
    "fail_list = []\n",
    "satellites_list = transf_df['sat_id'].unique()\n",
    "res = pd.DataFrame([])\n",
    "for sat_id in tqdm(satellites_list[200:]):\n",
    "    \n",
    "    \n",
    "    \n",
    "    sat_data = transf_df[transf_df.sat_id == sat_id]\n",
    "    \n",
    "    n_train = 4* len(sat_data) // 10\n",
    "    n_first = len(sat_data[~pd.isna(sat_data.x)])\n",
    "\n",
    "    pred = pd.DataFrame(index = sat_data.iloc[n_first:].index)\n",
    "    pred['epoch'] = sat_data['epoch'].iloc[n_first:].values\n",
    "    pred['t'] = sat_data['t'].iloc[n_first:].values\n",
    "    pred['sat_id'] = sat_id\n",
    "\n",
    "    if sat_id in [26]:\n",
    "        for feature_name in features_list:\n",
    "            pred[feature_name] = sat_data[f'{feature_name}_sim'].values\n",
    "    else:\n",
    "        try:\n",
    "\n",
    "            for feature_name in features_list:\n",
    "\n",
    "                q = InterpolatedUnivariateSpline(sat_data['t'][:n_train], sat_data[f'{feature_name}_sim'][:n_train]).roots()\n",
    "                T = (q[2]-q[0])\n",
    "\n",
    "                # create a DataFrame for prophet model()\n",
    "                ts = pd.DataFrame([])\n",
    "                ts['ds'] = pd.to_datetime(sat_data ['epoch']).values\n",
    "                ts['y'] = sat_data [feature_name].values-sat_data [f'{feature_name}_sim'].values\n",
    "\n",
    "                # define the time frame for the first forecast \n",
    "                future =ts[n_train:n_first] [['ds']]\n",
    "\n",
    "                # define the model\n",
    "                m = Prophet(changepoint_prior_scale = T/20,\n",
    "                weekly_seasonality = False,\n",
    "                yearly_seasonality = False).add_seasonality(name='grid', period = T, fourier_order=50)\n",
    "\n",
    "                #fit the model and make the forecast\n",
    "                m.fit(ts[:n_train])\n",
    "                forecast = m.predict(future)\n",
    "\n",
    "                new_values = sat_data.loc[:,f'{feature_name}_sim'].iloc[n_train:n_first].values+forecast.loc[:, 'yhat'].values\n",
    "\n",
    "                option1 = sat_data[f'{feature_name}_sim'].values\n",
    "\n",
    "\n",
    "                option2 = np.concatenate((sat_data[f'{feature_name}_sim'].values[:n_train], new_values), axis=None)\n",
    "\n",
    "\n",
    "                print('{}[{}]  no correction: {}, correction:{}'.format(sat_id,\n",
    "                                                                    feature_name,\n",
    "                                                                    utils.smape(option1[n_train:n_first],sat_data[feature_name].iloc[n_train:n_first].values),\n",
    "                                                                    utils.smape(option2[n_train:n_first],sat_data[feature_name].iloc[n_train:n_first].values)))\n",
    "\n",
    "                if utils.smape(option1[n_train:n_first],sat_data[feature_name].iloc[n_train:n_first].values) < utils.smape(option2[n_train:n_first],sat_data[feature_name].iloc[n_train:n_first].values):\n",
    "                    pred[feature_name] = option1[n_first:]\n",
    "                    print(sat_id, feature_name, 'does not work')\n",
    "                    fail_list.append((sat_id, feature_name))\n",
    "                else:\n",
    "                    # fit a new model on the whole training range\n",
    "\n",
    "                    # define the time frame for the first forecast \n",
    "                    future =ts[n_first:] [['ds']]\n",
    "\n",
    "                    # define the model\n",
    "                    m = Prophet(changepoint_prior_scale = T/20,\n",
    "                    weekly_seasonality = False,\n",
    "                    yearly_seasonality = False).add_seasonality(name='grid', period = T, fourier_order=50)\n",
    "\n",
    "                    #fit the model and make the forecast\n",
    "                    m.fit(ts[:n_first])\n",
    "                    forecast = m.predict(future)\n",
    "\n",
    "                    pred[feature_name]  = sat_data.loc[:,f'{feature_name}_sim'].iloc[n_first:].values+forecast.loc[:, 'yhat'].values\n",
    "\n",
    "\n",
    "\n",
    "\n",
    "\n",
    "        except Exception as e:\n",
    "            print(f'phophet failed for satellite {sat_id}:\\t{type(e).__name__} {e}')\n",
    "            continue\n",
    "        \n",
    "#     sat_sim_smape = utils.smape(sat_data.loc[n_train:, [f'{f}_sim' for f in features_list]].values,\n",
    "#                                 sat_data.loc[n_train:, features_list].values)\n",
    "#     sat_new_smape = utils.smape(pred.loc[n_train:, features_list].values,\n",
    "#                                 sat_data.loc[n_train:, features_list].values)\n",
    "#     result_df.append([sat_id, sat_sim_smape, sat_new_smape])\n",
    "    res = res.append(pred, sort=False)"
   ]
  },
  {
   "cell_type": "code",
   "execution_count": 213,
   "metadata": {},
   "outputs": [
    {
     "data": {
      "text/html": [
       "<div>\n",
       "<style scoped>\n",
       "    .dataframe tbody tr th:only-of-type {\n",
       "        vertical-align: middle;\n",
       "    }\n",
       "\n",
       "    .dataframe tbody tr th {\n",
       "        vertical-align: top;\n",
       "    }\n",
       "\n",
       "    .dataframe thead th {\n",
       "        text-align: right;\n",
       "    }\n",
       "</style>\n",
       "<table border=\"1\" class=\"dataframe\">\n",
       "  <thead>\n",
       "    <tr style=\"text-align: right;\">\n",
       "      <th></th>\n",
       "      <th>epoch</th>\n",
       "      <th>t</th>\n",
       "      <th>sat_id</th>\n",
       "      <th>x</th>\n",
       "      <th>y</th>\n",
       "      <th>z</th>\n",
       "      <th>Vx</th>\n",
       "      <th>Vy</th>\n",
       "      <th>Vz</th>\n",
       "    </tr>\n",
       "    <tr>\n",
       "      <th>id</th>\n",
       "      <th></th>\n",
       "      <th></th>\n",
       "      <th></th>\n",
       "      <th></th>\n",
       "      <th></th>\n",
       "      <th></th>\n",
       "      <th></th>\n",
       "      <th></th>\n",
       "      <th></th>\n",
       "    </tr>\n",
       "  </thead>\n",
       "  <tbody>\n",
       "    <tr>\n",
       "      <th>825619</th>\n",
       "      <td>1.391214e+18</td>\n",
       "      <td>31.010948</td>\n",
       "      <td>409</td>\n",
       "      <td>3920.707409</td>\n",
       "      <td>-5758.835921</td>\n",
       "      <td>25992.400795</td>\n",
       "      <td>2.692933</td>\n",
       "      <td>-3.154077</td>\n",
       "      <td>-0.827579</td>\n",
       "    </tr>\n",
       "    <tr>\n",
       "      <th>825620</th>\n",
       "      <td>1.391216e+18</td>\n",
       "      <td>31.040968</td>\n",
       "      <td>409</td>\n",
       "      <td>10495.538787</td>\n",
       "      <td>-13382.600634</td>\n",
       "      <td>22176.554605</td>\n",
       "      <td>2.328510</td>\n",
       "      <td>-2.669669</td>\n",
       "      <td>-2.058324</td>\n",
       "    </tr>\n",
       "    <tr>\n",
       "      <th>825621</th>\n",
       "      <td>1.391219e+18</td>\n",
       "      <td>31.070988</td>\n",
       "      <td>409</td>\n",
       "      <td>15814.667648</td>\n",
       "      <td>-19402.955486</td>\n",
       "      <td>15655.888817</td>\n",
       "      <td>1.750063</td>\n",
       "      <td>-1.948448</td>\n",
       "      <td>-2.899419</td>\n",
       "    </tr>\n",
       "    <tr>\n",
       "      <th>825622</th>\n",
       "      <td>1.391222e+18</td>\n",
       "      <td>31.101008</td>\n",
       "      <td>409</td>\n",
       "      <td>19512.385532</td>\n",
       "      <td>-23432.425437</td>\n",
       "      <td>7493.746745</td>\n",
       "      <td>1.098717</td>\n",
       "      <td>-1.158357</td>\n",
       "      <td>-3.332581</td>\n",
       "    </tr>\n",
       "    <tr>\n",
       "      <th>825623</th>\n",
       "      <td>1.391224e+18</td>\n",
       "      <td>31.131029</td>\n",
       "      <td>409</td>\n",
       "      <td>21534.491564</td>\n",
       "      <td>-25448.557777</td>\n",
       "      <td>-1337.682593</td>\n",
       "      <td>0.469478</td>\n",
       "      <td>-0.408800</td>\n",
       "      <td>-3.431058</td>\n",
       "    </tr>\n",
       "  </tbody>\n",
       "</table>\n",
       "</div>"
      ],
      "text/plain": [
       "               epoch          t  sat_id             x             y  \\\n",
       "id                                                                    \n",
       "825619  1.391214e+18  31.010948     409   3920.707409  -5758.835921   \n",
       "825620  1.391216e+18  31.040968     409  10495.538787 -13382.600634   \n",
       "825621  1.391219e+18  31.070988     409  15814.667648 -19402.955486   \n",
       "825622  1.391222e+18  31.101008     409  19512.385532 -23432.425437   \n",
       "825623  1.391224e+18  31.131029     409  21534.491564 -25448.557777   \n",
       "\n",
       "                   z        Vx        Vy        Vz  \n",
       "id                                                  \n",
       "825619  25992.400795  2.692933 -3.154077 -0.827579  \n",
       "825620  22176.554605  2.328510 -2.669669 -2.058324  \n",
       "825621  15655.888817  1.750063 -1.948448 -2.899419  \n",
       "825622   7493.746745  1.098717 -1.158357 -3.332581  \n",
       "825623  -1337.682593  0.469478 -0.408800 -3.431058  "
      ]
     },
     "execution_count": 213,
     "metadata": {},
     "output_type": "execute_result"
    }
   ],
   "source": [
    "res.head()"
   ]
  },
  {
   "cell_type": "code",
   "execution_count": 16,
   "metadata": {},
   "outputs": [],
   "source": [
    "res.to_csv('results_200_to_299.csv')"
   ]
  },
  {
   "cell_type": "code",
   "execution_count": 228,
   "metadata": {},
   "outputs": [
    {
     "data": {
      "text/html": [
       "<div>\n",
       "<style scoped>\n",
       "    .dataframe tbody tr th:only-of-type {\n",
       "        vertical-align: middle;\n",
       "    }\n",
       "\n",
       "    .dataframe tbody tr th {\n",
       "        vertical-align: top;\n",
       "    }\n",
       "\n",
       "    .dataframe thead th {\n",
       "        text-align: right;\n",
       "    }\n",
       "</style>\n",
       "<table border=\"1\" class=\"dataframe\">\n",
       "  <thead>\n",
       "    <tr style=\"text-align: right;\">\n",
       "      <th></th>\n",
       "      <th>epoch</th>\n",
       "      <th>t</th>\n",
       "      <th>sat_id</th>\n",
       "      <th>x</th>\n",
       "      <th>y</th>\n",
       "      <th>z</th>\n",
       "      <th>Vx</th>\n",
       "      <th>Vy</th>\n",
       "      <th>Vz</th>\n",
       "    </tr>\n",
       "    <tr>\n",
       "      <th>id</th>\n",
       "      <th></th>\n",
       "      <th></th>\n",
       "      <th></th>\n",
       "      <th></th>\n",
       "      <th></th>\n",
       "      <th></th>\n",
       "      <th></th>\n",
       "      <th></th>\n",
       "      <th></th>\n",
       "    </tr>\n",
       "  </thead>\n",
       "  <tbody>\n",
       "    <tr>\n",
       "      <th>3927</th>\n",
       "      <td>1.391213e+18</td>\n",
       "      <td>31.001217</td>\n",
       "      <td>1</td>\n",
       "      <td>-24616.438318</td>\n",
       "      <td>-10911.810034</td>\n",
       "      <td>6820.958757</td>\n",
       "      <td>3.083805</td>\n",
       "      <td>-1.304549</td>\n",
       "      <td>1.158497</td>\n",
       "    </tr>\n",
       "    <tr>\n",
       "      <th>3928</th>\n",
       "      <td>1.391214e+18</td>\n",
       "      <td>31.015938</td>\n",
       "      <td>1</td>\n",
       "      <td>-20565.072873</td>\n",
       "      <td>-12384.815035</td>\n",
       "      <td>7997.737262</td>\n",
       "      <td>3.778842</td>\n",
       "      <td>-0.994761</td>\n",
       "      <td>0.974115</td>\n",
       "    </tr>\n",
       "    <tr>\n",
       "      <th>3929</th>\n",
       "      <td>1.391215e+18</td>\n",
       "      <td>31.030658</td>\n",
       "      <td>1</td>\n",
       "      <td>-15631.615452</td>\n",
       "      <td>-13378.928776</td>\n",
       "      <td>8708.489841</td>\n",
       "      <td>4.494128</td>\n",
       "      <td>-0.539214</td>\n",
       "      <td>0.681806</td>\n",
       "    </tr>\n",
       "    <tr>\n",
       "      <th>3930</th>\n",
       "      <td>1.391217e+18</td>\n",
       "      <td>31.045378</td>\n",
       "      <td>1</td>\n",
       "      <td>-9832.429053</td>\n",
       "      <td>-13654.515179</td>\n",
       "      <td>8630.509884</td>\n",
       "      <td>5.063693</td>\n",
       "      <td>0.158111</td>\n",
       "      <td>0.208387</td>\n",
       "    </tr>\n",
       "    <tr>\n",
       "      <th>3931</th>\n",
       "      <td>1.391218e+18</td>\n",
       "      <td>31.060099</td>\n",
       "      <td>1</td>\n",
       "      <td>-3350.309837</td>\n",
       "      <td>-12793.435846</td>\n",
       "      <td>7249.772047</td>\n",
       "      <td>4.951922</td>\n",
       "      <td>1.293529</td>\n",
       "      <td>-0.592050</td>\n",
       "    </tr>\n",
       "  </tbody>\n",
       "</table>\n",
       "</div>"
      ],
      "text/plain": [
       "             epoch          t  sat_id             x             y  \\\n",
       "id                                                                  \n",
       "3927  1.391213e+18  31.001217       1 -24616.438318 -10911.810034   \n",
       "3928  1.391214e+18  31.015938       1 -20565.072873 -12384.815035   \n",
       "3929  1.391215e+18  31.030658       1 -15631.615452 -13378.928776   \n",
       "3930  1.391217e+18  31.045378       1  -9832.429053 -13654.515179   \n",
       "3931  1.391218e+18  31.060099       1  -3350.309837 -12793.435846   \n",
       "\n",
       "                z        Vx        Vy        Vz  \n",
       "id                                               \n",
       "3927  6820.958757  3.083805 -1.304549  1.158497  \n",
       "3928  7997.737262  3.778842 -0.994761  0.974115  \n",
       "3929  8708.489841  4.494128 -0.539214  0.681806  \n",
       "3930  8630.509884  5.063693  0.158111  0.208387  \n",
       "3931  7249.772047  4.951922  1.293529 -0.592050  "
      ]
     },
     "execution_count": 228,
     "metadata": {},
     "output_type": "execute_result"
    }
   ],
   "source": [
    "res1 = pd.read_csv('data/result_0_to_200.csv', index_col = 'id')\n",
    "res1.head()"
   ]
  },
  {
   "cell_type": "code",
   "execution_count": 229,
   "metadata": {},
   "outputs": [
    {
     "data": {
      "text/html": [
       "<div>\n",
       "<style scoped>\n",
       "    .dataframe tbody tr th:only-of-type {\n",
       "        vertical-align: middle;\n",
       "    }\n",
       "\n",
       "    .dataframe tbody tr th {\n",
       "        vertical-align: top;\n",
       "    }\n",
       "\n",
       "    .dataframe thead th {\n",
       "        text-align: right;\n",
       "    }\n",
       "</style>\n",
       "<table border=\"1\" class=\"dataframe\">\n",
       "  <thead>\n",
       "    <tr style=\"text-align: right;\">\n",
       "      <th></th>\n",
       "      <th>epoch</th>\n",
       "      <th>t</th>\n",
       "      <th>sat_id</th>\n",
       "      <th>x</th>\n",
       "      <th>y</th>\n",
       "      <th>z</th>\n",
       "      <th>Vx</th>\n",
       "      <th>Vy</th>\n",
       "      <th>Vz</th>\n",
       "    </tr>\n",
       "    <tr>\n",
       "      <th>id</th>\n",
       "      <th></th>\n",
       "      <th></th>\n",
       "      <th></th>\n",
       "      <th></th>\n",
       "      <th></th>\n",
       "      <th></th>\n",
       "      <th></th>\n",
       "      <th></th>\n",
       "      <th></th>\n",
       "    </tr>\n",
       "  </thead>\n",
       "  <tbody>\n",
       "    <tr>\n",
       "      <th>1054985</th>\n",
       "      <td>1.393626e+18</td>\n",
       "      <td>58.934400</td>\n",
       "      <td>514</td>\n",
       "      <td>233522.902580</td>\n",
       "      <td>-7526.987750</td>\n",
       "      <td>-3048.673310</td>\n",
       "      <td>0.0</td>\n",
       "      <td>-0.759704</td>\n",
       "      <td>-1.731971</td>\n",
       "    </tr>\n",
       "    <tr>\n",
       "      <th>1054986</th>\n",
       "      <td>1.393628e+18</td>\n",
       "      <td>58.949816</td>\n",
       "      <td>514</td>\n",
       "      <td>259115.628428</td>\n",
       "      <td>-1699.643703</td>\n",
       "      <td>3961.245890</td>\n",
       "      <td>0.0</td>\n",
       "      <td>3.536526</td>\n",
       "      <td>-1.942998</td>\n",
       "    </tr>\n",
       "    <tr>\n",
       "      <th>1054987</th>\n",
       "      <td>1.393629e+18</td>\n",
       "      <td>58.965232</td>\n",
       "      <td>514</td>\n",
       "      <td>284883.473292</td>\n",
       "      <td>5106.669098</td>\n",
       "      <td>8756.776852</td>\n",
       "      <td>0.0</td>\n",
       "      <td>5.285911</td>\n",
       "      <td>-1.790300</td>\n",
       "    </tr>\n",
       "    <tr>\n",
       "      <th>1054988</th>\n",
       "      <td>1.393630e+18</td>\n",
       "      <td>58.980648</td>\n",
       "      <td>514</td>\n",
       "      <td>309707.794495</td>\n",
       "      <td>9972.299398</td>\n",
       "      <td>10616.924199</td>\n",
       "      <td>0.0</td>\n",
       "      <td>4.727923</td>\n",
       "      <td>-0.670378</td>\n",
       "    </tr>\n",
       "    <tr>\n",
       "      <th>1054989</th>\n",
       "      <td>1.393632e+18</td>\n",
       "      <td>58.996063</td>\n",
       "      <td>514</td>\n",
       "      <td>334125.708799</td>\n",
       "      <td>12099.936750</td>\n",
       "      <td>11285.500085</td>\n",
       "      <td>0.0</td>\n",
       "      <td>2.230914</td>\n",
       "      <td>1.714616</td>\n",
       "    </tr>\n",
       "  </tbody>\n",
       "</table>\n",
       "</div>"
      ],
      "text/plain": [
       "                epoch          t  sat_id              x             y  \\\n",
       "id                                                                      \n",
       "1054985  1.393626e+18  58.934400     514  233522.902580  -7526.987750   \n",
       "1054986  1.393628e+18  58.949816     514  259115.628428  -1699.643703   \n",
       "1054987  1.393629e+18  58.965232     514  284883.473292   5106.669098   \n",
       "1054988  1.393630e+18  58.980648     514  309707.794495   9972.299398   \n",
       "1054989  1.393632e+18  58.996063     514  334125.708799  12099.936750   \n",
       "\n",
       "                    z   Vx        Vy        Vz  \n",
       "id                                              \n",
       "1054985  -3048.673310  0.0 -0.759704 -1.731971  \n",
       "1054986   3961.245890  0.0  3.536526 -1.942998  \n",
       "1054987   8756.776852  0.0  5.285911 -1.790300  \n",
       "1054988  10616.924199  0.0  4.727923 -0.670378  \n",
       "1054989  11285.500085  0.0  2.230914  1.714616  "
      ]
     },
     "execution_count": 229,
     "metadata": {},
     "output_type": "execute_result"
    }
   ],
   "source": [
    "res2 = pd.read_csv('data/results_372_587_523_473_514.csv', index_col = 'id')\n",
    "res2.tail()"
   ]
  },
  {
   "cell_type": "code",
   "execution_count": 231,
   "metadata": {},
   "outputs": [],
   "source": [
    "df = res.append(res1)\n",
    "# df = df.append(res2)"
   ]
  },
  {
   "cell_type": "code",
   "execution_count": 232,
   "metadata": {},
   "outputs": [
    {
     "data": {
      "text/plain": [
       "(283983, 9)"
      ]
     },
     "execution_count": 232,
     "metadata": {},
     "output_type": "execute_result"
    }
   ],
   "source": [
    "df.shape"
   ]
  },
  {
   "cell_type": "code",
   "execution_count": 233,
   "metadata": {},
   "outputs": [
    {
     "data": {
      "text/plain": [
       "(284071, 9)"
      ]
     },
     "execution_count": 233,
     "metadata": {},
     "output_type": "execute_result"
    }
   ],
   "source": [
    "test_data.shape"
   ]
  },
  {
   "cell_type": "code",
   "execution_count": 234,
   "metadata": {},
   "outputs": [
    {
     "data": {
      "text/plain": [
       "{301}"
      ]
     },
     "execution_count": 234,
     "metadata": {},
     "output_type": "execute_result"
    }
   ],
   "source": [
    "set(test_data.sat_id.values).difference(set(df.sat_id.values))"
   ]
  },
  {
   "cell_type": "code",
   "execution_count": 235,
   "metadata": {},
   "outputs": [],
   "source": [
    "sat_301_data = transf_df[transf_df.sat_id ==301]\n",
    "sat_301_data = sat_301_data[pd.isna(sat_301_data.x)]"
   ]
  },
  {
   "cell_type": "code",
   "execution_count": 236,
   "metadata": {},
   "outputs": [
    {
     "data": {
      "text/html": [
       "<div>\n",
       "<style scoped>\n",
       "    .dataframe tbody tr th:only-of-type {\n",
       "        vertical-align: middle;\n",
       "    }\n",
       "\n",
       "    .dataframe tbody tr th {\n",
       "        vertical-align: top;\n",
       "    }\n",
       "\n",
       "    .dataframe thead th {\n",
       "        text-align: right;\n",
       "    }\n",
       "</style>\n",
       "<table border=\"1\" class=\"dataframe\">\n",
       "  <thead>\n",
       "    <tr style=\"text-align: right;\">\n",
       "      <th></th>\n",
       "      <th>epoch</th>\n",
       "      <th>t</th>\n",
       "      <th>sat_id</th>\n",
       "      <th>x</th>\n",
       "      <th>y</th>\n",
       "      <th>z</th>\n",
       "      <th>Vx</th>\n",
       "      <th>Vy</th>\n",
       "      <th>Vz</th>\n",
       "    </tr>\n",
       "    <tr>\n",
       "      <th>id</th>\n",
       "      <th></th>\n",
       "      <th></th>\n",
       "      <th></th>\n",
       "      <th></th>\n",
       "      <th></th>\n",
       "      <th></th>\n",
       "      <th></th>\n",
       "      <th></th>\n",
       "      <th></th>\n",
       "    </tr>\n",
       "  </thead>\n",
       "  <tbody>\n",
       "    <tr>\n",
       "      <th>589202</th>\n",
       "      <td>1.391235e+18</td>\n",
       "      <td>31.257923</td>\n",
       "      <td>301</td>\n",
       "      <td>-52592.999298</td>\n",
       "      <td>-60074.102890</td>\n",
       "      <td>-139573.635865</td>\n",
       "      <td>-1.323422</td>\n",
       "      <td>0.071619</td>\n",
       "      <td>0.418158</td>\n",
       "    </tr>\n",
       "    <tr>\n",
       "      <th>589203</th>\n",
       "      <td>1.391262e+18</td>\n",
       "      <td>31.573659</td>\n",
       "      <td>301</td>\n",
       "      <td>-86473.537938</td>\n",
       "      <td>-54655.422454</td>\n",
       "      <td>-158762.920979</td>\n",
       "      <td>-1.185425</td>\n",
       "      <td>0.208074</td>\n",
       "      <td>0.443904</td>\n",
       "    </tr>\n",
       "    <tr>\n",
       "      <th>589204</th>\n",
       "      <td>1.391290e+18</td>\n",
       "      <td>31.889396</td>\n",
       "      <td>301</td>\n",
       "      <td>-116576.927142</td>\n",
       "      <td>-47126.408813</td>\n",
       "      <td>-171085.163335</td>\n",
       "      <td>-1.049094</td>\n",
       "      <td>0.282414</td>\n",
       "      <td>0.469019</td>\n",
       "    </tr>\n",
       "    <tr>\n",
       "      <th>589205</th>\n",
       "      <td>1.391317e+18</td>\n",
       "      <td>32.205133</td>\n",
       "      <td>301</td>\n",
       "      <td>-143117.229722</td>\n",
       "      <td>-38203.789612</td>\n",
       "      <td>-178168.278315</td>\n",
       "      <td>-0.921780</td>\n",
       "      <td>0.330740</td>\n",
       "      <td>0.493551</td>\n",
       "    </tr>\n",
       "    <tr>\n",
       "      <th>589206</th>\n",
       "      <td>1.391344e+18</td>\n",
       "      <td>32.520869</td>\n",
       "      <td>301</td>\n",
       "      <td>-166305.946230</td>\n",
       "      <td>-28399.763252</td>\n",
       "      <td>-181059.157342</td>\n",
       "      <td>-0.801008</td>\n",
       "      <td>0.361295</td>\n",
       "      <td>0.517539</td>\n",
       "    </tr>\n",
       "  </tbody>\n",
       "</table>\n",
       "</div>"
      ],
      "text/plain": [
       "               epoch          t  sat_id              x             y  \\\n",
       "id                                                                     \n",
       "589202  1.391235e+18  31.257923     301  -52592.999298 -60074.102890   \n",
       "589203  1.391262e+18  31.573659     301  -86473.537938 -54655.422454   \n",
       "589204  1.391290e+18  31.889396     301 -116576.927142 -47126.408813   \n",
       "589205  1.391317e+18  32.205133     301 -143117.229722 -38203.789612   \n",
       "589206  1.391344e+18  32.520869     301 -166305.946230 -28399.763252   \n",
       "\n",
       "                    z        Vx        Vy        Vz  \n",
       "id                                                   \n",
       "589202 -139573.635865 -1.323422  0.071619  0.418158  \n",
       "589203 -158762.920979 -1.185425  0.208074  0.443904  \n",
       "589204 -171085.163335 -1.049094  0.282414  0.469019  \n",
       "589205 -178168.278315 -0.921780  0.330740  0.493551  \n",
       "589206 -181059.157342 -0.801008  0.361295  0.517539  "
      ]
     },
     "execution_count": 236,
     "metadata": {},
     "output_type": "execute_result"
    }
   ],
   "source": [
    "sat_301_data = sat_301_data.drop(columns=['x','y','z','Vx','Vy','Vz'])\n",
    "sat_301_data.columns = ['epoch','t','sat_id','x','y','z','Vx','Vy','Vz']\n",
    "sat_301_data.head()"
   ]
  },
  {
   "cell_type": "code",
   "execution_count": 237,
   "metadata": {},
   "outputs": [
    {
     "data": {
      "text/plain": [
       "(284071, 9)"
      ]
     },
     "execution_count": 237,
     "metadata": {},
     "output_type": "execute_result"
    }
   ],
   "source": [
    "df = df.append(sat_301_data)\n",
    "df.shape"
   ]
  },
  {
   "cell_type": "code",
   "execution_count": 238,
   "metadata": {},
   "outputs": [
    {
     "data": {
      "text/html": [
       "<div>\n",
       "<style scoped>\n",
       "    .dataframe tbody tr th:only-of-type {\n",
       "        vertical-align: middle;\n",
       "    }\n",
       "\n",
       "    .dataframe tbody tr th {\n",
       "        vertical-align: top;\n",
       "    }\n",
       "\n",
       "    .dataframe thead th {\n",
       "        text-align: right;\n",
       "    }\n",
       "</style>\n",
       "<table border=\"1\" class=\"dataframe\">\n",
       "  <thead>\n",
       "    <tr style=\"text-align: right;\">\n",
       "      <th></th>\n",
       "      <th>epoch</th>\n",
       "      <th>t</th>\n",
       "      <th>sat_id</th>\n",
       "      <th>x</th>\n",
       "      <th>y</th>\n",
       "      <th>z</th>\n",
       "      <th>Vx</th>\n",
       "      <th>Vy</th>\n",
       "      <th>Vz</th>\n",
       "    </tr>\n",
       "    <tr>\n",
       "      <th>id</th>\n",
       "      <th></th>\n",
       "      <th></th>\n",
       "      <th></th>\n",
       "      <th></th>\n",
       "      <th></th>\n",
       "      <th></th>\n",
       "      <th></th>\n",
       "      <th></th>\n",
       "      <th></th>\n",
       "    </tr>\n",
       "  </thead>\n",
       "  <tbody>\n",
       "    <tr>\n",
       "      <th>50725</th>\n",
       "      <td>1.391232e+18</td>\n",
       "      <td>31.221753</td>\n",
       "      <td>26</td>\n",
       "      <td>148699.986678</td>\n",
       "      <td>-15261.348146</td>\n",
       "      <td>-170190.755733</td>\n",
       "      <td>0.375843</td>\n",
       "      <td>0.721510</td>\n",
       "      <td>-0.262729</td>\n",
       "    </tr>\n",
       "    <tr>\n",
       "      <th>50726</th>\n",
       "      <td>1.391253e+18</td>\n",
       "      <td>31.465673</td>\n",
       "      <td>26</td>\n",
       "      <td>151614.711956</td>\n",
       "      <td>594.218047</td>\n",
       "      <td>-171985.237039</td>\n",
       "      <td>0.263672</td>\n",
       "      <td>0.690406</td>\n",
       "      <td>-0.131890</td>\n",
       "    </tr>\n",
       "    <tr>\n",
       "      <th>50727</th>\n",
       "      <td>1.391274e+18</td>\n",
       "      <td>31.709593</td>\n",
       "      <td>26</td>\n",
       "      <td>152288.113678</td>\n",
       "      <td>16428.611911</td>\n",
       "      <td>-171184.891073</td>\n",
       "      <td>0.156594</td>\n",
       "      <td>0.648208</td>\n",
       "      <td>-0.008761</td>\n",
       "    </tr>\n",
       "    <tr>\n",
       "      <th>50728</th>\n",
       "      <td>1.391295e+18</td>\n",
       "      <td>31.953512</td>\n",
       "      <td>26</td>\n",
       "      <td>150744.241316</td>\n",
       "      <td>32005.876510</td>\n",
       "      <td>-167885.541702</td>\n",
       "      <td>0.052642</td>\n",
       "      <td>0.593440</td>\n",
       "      <td>0.109114</td>\n",
       "    </tr>\n",
       "    <tr>\n",
       "      <th>50729</th>\n",
       "      <td>1.391316e+18</td>\n",
       "      <td>32.197432</td>\n",
       "      <td>26</td>\n",
       "      <td>146971.313778</td>\n",
       "      <td>47111.141442</td>\n",
       "      <td>-162141.599215</td>\n",
       "      <td>-0.049894</td>\n",
       "      <td>0.523472</td>\n",
       "      <td>0.223752</td>\n",
       "    </tr>\n",
       "  </tbody>\n",
       "</table>\n",
       "</div>"
      ],
      "text/plain": [
       "              epoch          t  sat_id              x             y  \\\n",
       "id                                                                    \n",
       "50725  1.391232e+18  31.221753      26  148699.986678 -15261.348146   \n",
       "50726  1.391253e+18  31.465673      26  151614.711956    594.218047   \n",
       "50727  1.391274e+18  31.709593      26  152288.113678  16428.611911   \n",
       "50728  1.391295e+18  31.953512      26  150744.241316  32005.876510   \n",
       "50729  1.391316e+18  32.197432      26  146971.313778  47111.141442   \n",
       "\n",
       "                   z        Vx        Vy        Vz  \n",
       "id                                                  \n",
       "50725 -170190.755733  0.375843  0.721510 -0.262729  \n",
       "50726 -171985.237039  0.263672  0.690406 -0.131890  \n",
       "50727 -171184.891073  0.156594  0.648208 -0.008761  \n",
       "50728 -167885.541702  0.052642  0.593440  0.109114  \n",
       "50729 -162141.599215 -0.049894  0.523472  0.223752  "
      ]
     },
     "execution_count": 238,
     "metadata": {},
     "output_type": "execute_result"
    }
   ],
   "source": [
    "sat_26_data = transf_df[transf_df.sat_id ==26]\n",
    "sat_26_data = sat_26_data[pd.isna(sat_26_data.x)]\n",
    "sat_26_data = sat_26_data.drop(columns=['x','y','z','Vx','Vy','Vz'])\n",
    "sat_26_data.columns = ['epoch','t','sat_id','x','y','z','Vx','Vy','Vz']\n",
    "sat_26_data.head()"
   ]
  },
  {
   "cell_type": "code",
   "execution_count": 239,
   "metadata": {},
   "outputs": [],
   "source": [
    "df.loc[sat_26_data.index, :] = sat_26_data.loc[:,:]"
   ]
  },
  {
   "cell_type": "code",
   "execution_count": 240,
   "metadata": {},
   "outputs": [
    {
     "data": {
      "text/plain": [
       "array([959698, 959699, 959700, ..., 758375, 758376, 758377], dtype=int64)"
      ]
     },
     "execution_count": 240,
     "metadata": {},
     "output_type": "execute_result"
    }
   ],
   "source": [
    "problem_index = df[df.sat_id.isin([372,523,587,473,514])].index.values\n",
    "problem_index"
   ]
  },
  {
   "cell_type": "code",
   "execution_count": 133,
   "metadata": {},
   "outputs": [
    {
     "data": {
      "text/plain": [
       "(284071, 9)"
      ]
     },
     "execution_count": 133,
     "metadata": {},
     "output_type": "execute_result"
    }
   ],
   "source": [
    "# for sat_id in [252,372,523,587]:\n",
    "#     id_data = transf_df[transf_df.sat_id ==sat_id]\n",
    "#     id_data = id_data[pd.isna(id_data.x)]\n",
    "#     id_data = id_data.drop(columns=['x','y','z','Vx','Vy','Vz'])\n",
    "#     id_data.columns = ['epoch','t','sat_id','x','y','z','Vx','Vy','Vz']\n",
    "#     df1 = df1.append(id_data)\n",
    "# df1.shape"
   ]
  },
  {
   "cell_type": "code",
   "execution_count": 241,
   "metadata": {},
   "outputs": [],
   "source": [
    "sub = pd.read_csv('data/submission.csv', index_col = 'id')"
   ]
  },
  {
   "cell_type": "code",
   "execution_count": 242,
   "metadata": {},
   "outputs": [
    {
     "data": {
      "text/html": [
       "<div>\n",
       "<style scoped>\n",
       "    .dataframe tbody tr th:only-of-type {\n",
       "        vertical-align: middle;\n",
       "    }\n",
       "\n",
       "    .dataframe tbody tr th {\n",
       "        vertical-align: top;\n",
       "    }\n",
       "\n",
       "    .dataframe thead th {\n",
       "        text-align: right;\n",
       "    }\n",
       "</style>\n",
       "<table border=\"1\" class=\"dataframe\">\n",
       "  <thead>\n",
       "    <tr style=\"text-align: right;\">\n",
       "      <th></th>\n",
       "      <th>x</th>\n",
       "      <th>y</th>\n",
       "      <th>z</th>\n",
       "      <th>Vx</th>\n",
       "      <th>Vy</th>\n",
       "      <th>Vz</th>\n",
       "    </tr>\n",
       "    <tr>\n",
       "      <th>id</th>\n",
       "      <th></th>\n",
       "      <th></th>\n",
       "      <th></th>\n",
       "      <th></th>\n",
       "      <th></th>\n",
       "      <th></th>\n",
       "    </tr>\n",
       "  </thead>\n",
       "  <tbody>\n",
       "    <tr>\n",
       "      <th>3927</th>\n",
       "      <td>-13366.891347</td>\n",
       "      <td>-14236.753503</td>\n",
       "      <td>6386.774555</td>\n",
       "      <td>4.333815</td>\n",
       "      <td>-0.692764</td>\n",
       "      <td>0.810774</td>\n",
       "    </tr>\n",
       "    <tr>\n",
       "      <th>3928</th>\n",
       "      <td>-7370.434039</td>\n",
       "      <td>-14498.771520</td>\n",
       "      <td>7130.411325</td>\n",
       "      <td>5.077413</td>\n",
       "      <td>0.360609</td>\n",
       "      <td>0.313402</td>\n",
       "    </tr>\n",
       "    <tr>\n",
       "      <th>3929</th>\n",
       "      <td>-572.068654</td>\n",
       "      <td>-13065.289498</td>\n",
       "      <td>7033.794876</td>\n",
       "      <td>5.519106</td>\n",
       "      <td>2.012830</td>\n",
       "      <td>-0.539412</td>\n",
       "    </tr>\n",
       "    <tr>\n",
       "      <th>3930</th>\n",
       "      <td>6208.945257</td>\n",
       "      <td>-9076.852425</td>\n",
       "      <td>5548.296900</td>\n",
       "      <td>4.849212</td>\n",
       "      <td>4.338955</td>\n",
       "      <td>-1.869600</td>\n",
       "    </tr>\n",
       "    <tr>\n",
       "      <th>3931</th>\n",
       "      <td>10768.200284</td>\n",
       "      <td>-2199.706707</td>\n",
       "      <td>2272.014862</td>\n",
       "      <td>1.940505</td>\n",
       "      <td>6.192887</td>\n",
       "      <td>-3.167724</td>\n",
       "    </tr>\n",
       "  </tbody>\n",
       "</table>\n",
       "</div>"
      ],
      "text/plain": [
       "                 x             y            z        Vx        Vy        Vz\n",
       "id                                                                         \n",
       "3927 -13366.891347 -14236.753503  6386.774555  4.333815 -0.692764  0.810774\n",
       "3928  -7370.434039 -14498.771520  7130.411325  5.077413  0.360609  0.313402\n",
       "3929   -572.068654 -13065.289498  7033.794876  5.519106  2.012830 -0.539412\n",
       "3930   6208.945257  -9076.852425  5548.296900  4.849212  4.338955 -1.869600\n",
       "3931  10768.200284  -2199.706707  2272.014862  1.940505  6.192887 -3.167724"
      ]
     },
     "execution_count": 242,
     "metadata": {},
     "output_type": "execute_result"
    }
   ],
   "source": [
    "sub.head()"
   ]
  },
  {
   "cell_type": "code",
   "execution_count": 243,
   "metadata": {},
   "outputs": [
    {
     "data": {
      "text/html": [
       "<div>\n",
       "<style scoped>\n",
       "    .dataframe tbody tr th:only-of-type {\n",
       "        vertical-align: middle;\n",
       "    }\n",
       "\n",
       "    .dataframe tbody tr th {\n",
       "        vertical-align: top;\n",
       "    }\n",
       "\n",
       "    .dataframe thead th {\n",
       "        text-align: right;\n",
       "    }\n",
       "</style>\n",
       "<table border=\"1\" class=\"dataframe\">\n",
       "  <thead>\n",
       "    <tr style=\"text-align: right;\">\n",
       "      <th></th>\n",
       "      <th>epoch</th>\n",
       "      <th>t</th>\n",
       "      <th>sat_id</th>\n",
       "      <th>x</th>\n",
       "      <th>y</th>\n",
       "      <th>z</th>\n",
       "      <th>Vx</th>\n",
       "      <th>Vy</th>\n",
       "      <th>Vz</th>\n",
       "    </tr>\n",
       "    <tr>\n",
       "      <th>id</th>\n",
       "      <th></th>\n",
       "      <th></th>\n",
       "      <th></th>\n",
       "      <th></th>\n",
       "      <th></th>\n",
       "      <th></th>\n",
       "      <th></th>\n",
       "      <th></th>\n",
       "      <th></th>\n",
       "    </tr>\n",
       "  </thead>\n",
       "  <tbody>\n",
       "    <tr>\n",
       "      <th>3927</th>\n",
       "      <td>1.391213e+18</td>\n",
       "      <td>31.001217</td>\n",
       "      <td>1</td>\n",
       "      <td>-24616.438318</td>\n",
       "      <td>-10911.810034</td>\n",
       "      <td>6820.958757</td>\n",
       "      <td>3.083805</td>\n",
       "      <td>-1.304549</td>\n",
       "      <td>1.158497</td>\n",
       "    </tr>\n",
       "    <tr>\n",
       "      <th>3928</th>\n",
       "      <td>1.391214e+18</td>\n",
       "      <td>31.015938</td>\n",
       "      <td>1</td>\n",
       "      <td>-20565.072873</td>\n",
       "      <td>-12384.815035</td>\n",
       "      <td>7997.737262</td>\n",
       "      <td>3.778842</td>\n",
       "      <td>-0.994761</td>\n",
       "      <td>0.974115</td>\n",
       "    </tr>\n",
       "    <tr>\n",
       "      <th>3929</th>\n",
       "      <td>1.391215e+18</td>\n",
       "      <td>31.030658</td>\n",
       "      <td>1</td>\n",
       "      <td>-15631.615452</td>\n",
       "      <td>-13378.928776</td>\n",
       "      <td>8708.489841</td>\n",
       "      <td>4.494128</td>\n",
       "      <td>-0.539214</td>\n",
       "      <td>0.681806</td>\n",
       "    </tr>\n",
       "    <tr>\n",
       "      <th>3930</th>\n",
       "      <td>1.391217e+18</td>\n",
       "      <td>31.045378</td>\n",
       "      <td>1</td>\n",
       "      <td>-9832.429053</td>\n",
       "      <td>-13654.515179</td>\n",
       "      <td>8630.509884</td>\n",
       "      <td>5.063693</td>\n",
       "      <td>0.158111</td>\n",
       "      <td>0.208387</td>\n",
       "    </tr>\n",
       "    <tr>\n",
       "      <th>3931</th>\n",
       "      <td>1.391218e+18</td>\n",
       "      <td>31.060099</td>\n",
       "      <td>1</td>\n",
       "      <td>-3350.309837</td>\n",
       "      <td>-12793.435846</td>\n",
       "      <td>7249.772047</td>\n",
       "      <td>4.951922</td>\n",
       "      <td>1.293529</td>\n",
       "      <td>-0.592050</td>\n",
       "    </tr>\n",
       "  </tbody>\n",
       "</table>\n",
       "</div>"
      ],
      "text/plain": [
       "             epoch          t  sat_id             x             y  \\\n",
       "id                                                                  \n",
       "3927  1.391213e+18  31.001217       1 -24616.438318 -10911.810034   \n",
       "3928  1.391214e+18  31.015938       1 -20565.072873 -12384.815035   \n",
       "3929  1.391215e+18  31.030658       1 -15631.615452 -13378.928776   \n",
       "3930  1.391217e+18  31.045378       1  -9832.429053 -13654.515179   \n",
       "3931  1.391218e+18  31.060099       1  -3350.309837 -12793.435846   \n",
       "\n",
       "                z        Vx        Vy        Vz  \n",
       "id                                               \n",
       "3927  6820.958757  3.083805 -1.304549  1.158497  \n",
       "3928  7997.737262  3.778842 -0.994761  0.974115  \n",
       "3929  8708.489841  4.494128 -0.539214  0.681806  \n",
       "3930  8630.509884  5.063693  0.158111  0.208387  \n",
       "3931  7249.772047  4.951922  1.293529 -0.592050  "
      ]
     },
     "execution_count": 243,
     "metadata": {},
     "output_type": "execute_result"
    }
   ],
   "source": [
    "sumission_index = sub.index\n",
    "df = df.loc[sumission_index,:]\n",
    "# ignore problem data\n",
    "df.loc[problem_index,:] = res2.loc[problem_index,:]\n",
    "df.head()"
   ]
  },
  {
   "cell_type": "code",
   "execution_count": 244,
   "metadata": {},
   "outputs": [],
   "source": [
    "df = df.drop(columns = ['epoch','t','sat_id'])"
   ]
  },
  {
   "cell_type": "code",
   "execution_count": 284,
   "metadata": {},
   "outputs": [],
   "source": [
    "df.to_csv('submission_8.csv')"
   ]
  },
  {
   "cell_type": "code",
   "execution_count": null,
   "metadata": {},
   "outputs": [],
   "source": []
  }
 ],
 "metadata": {
  "accelerator": "GPU",
  "colab": {
   "name": "prophet_model_exploration-Copy1.ipynb",
   "provenance": [],
   "toc_visible": true
  },
  "kernelspec": {
   "display_name": "Python 3",
   "language": "python",
   "name": "python3"
  },
  "language_info": {
   "codemirror_mode": {
    "name": "ipython",
    "version": 3
   },
   "file_extension": ".py",
   "mimetype": "text/x-python",
   "name": "python",
   "nbconvert_exporter": "python",
   "pygments_lexer": "ipython3",
   "version": "3.7.3"
  }
 },
 "nbformat": 4,
 "nbformat_minor": 1
}
