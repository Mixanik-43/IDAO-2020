{
 "cells": [
  {
   "cell_type": "code",
   "execution_count": 2,
   "metadata": {
    "colab": {},
    "colab_type": "code",
    "id": "VXyqz1FjJE6W"
   },
   "outputs": [],
   "source": [
    "from tqdm import tqdm\n",
    "import numpy as np\n",
    "import pandas as pd\n",
    "from scipy.interpolate import splrep, splev\n",
    "import datetime as dt\n",
    "import matplotlib.pyplot as plt\n",
    "from fbprophet import Prophet\n",
    "from scipy.interpolate import InterpolatedUnivariateSpline\n",
    "%matplotlib inline\n",
    "plt.rcParams.update({'font.size': 18})\n",
    "import utils\n",
    "from LinearAlignment import LinearAlignment\n",
    "from numpy import random\n",
    "import json"
   ]
  },
  {
   "cell_type": "code",
   "execution_count": 122,
   "metadata": {},
   "outputs": [],
   "source": [
    "random.seed(50)"
   ]
  },
  {
   "cell_type": "code",
   "execution_count": 4,
   "metadata": {
    "colab": {},
    "colab_type": "code",
    "id": "NWYkckHCJE6l"
   },
   "outputs": [],
   "source": [
    "def smape(satellite_predicted_values, satellite_true_values):\n",
    "    # the division, addition and subtraction are pointwise\n",
    "\n",
    "    return np.mean(np.abs((satellite_predicted_values - satellite_true_values)/\n",
    "                (np.abs(satellite_predicted_values) + np.abs(satellite_true_values))))\n",
    "\n",
    "\n",
    "def drop_close(t, x, eps=10**9):\n",
    "    '''\n",
    "    t = time array, x = data array, eps is in nanoseconds\n",
    "    Returns entries in t,x with corresponding consecutive times > eps\n",
    "    \n",
    "    '''\n",
    "    t = np.array(t) #if not already np array, convert\n",
    "    x = np.array(x) #if t or x are pandas Series, will have dimension mismatch\n",
    "    far = np.concatenate([(t[1:] - t[:-1]) > eps, [True]])\n",
    "    return t[far], x[far]\n",
    "\n",
    "\n",
    "def resample(t, x, step=10 * 10**9, t_new=None, return_t=False):\n",
    "    '''\n",
    "    t: time array (or series); \n",
    "    x: data array (or series); \n",
    "    t_new: new time scale from start to end of t with step size step;\n",
    "    step: = 10 seconds by default; \n",
    "    return_t: by default, do not return resampled times\n",
    "    \n",
    "    resample time series or array by 10 (default) sec intervals and \n",
    "    return new time series (if t_new=True) and spline approximation series for data\n",
    "    \n",
    "    \n",
    "    '''\n",
    "    t, x = drop_close(t, x)\n",
    "    if t_new is None:\n",
    "        t_new = np.arange(t[0], t[-1], step)\n",
    "    try:\n",
    "        spl = splrep(t, x)\n",
    "        x_new = splev(t_new, spl)\n",
    "    except:\n",
    "        raise ValueError(f'interpolation error, x length = {len(x)}, \\\n",
    "        t_new length = {len(t_new)}')\n",
    "\n",
    "    return (t_new, x_new) if return_t else x_new\n",
    "\n",
    "\n",
    "def get_peaks(array):\n",
    "    '''\n",
    "    returns index of \"sharp\" peaks, excluding first and last values of array\n",
    "    \n",
    "    index of \"smooth peaks\", e.g. 1 2 3 9 9 3 2 1, is not returned\n",
    "    '''\n",
    "    return np.where((array[1:-1] > array[2:]) & (array[1:-1] > array[:-2]))[0] + 1\n",
    "\n",
    "\n",
    "def get_satellite_data(data, sat_id):\n",
    "    '''\n",
    "    returns all data for particular satellite by id\n",
    "    '''\n",
    "    return data[data['sat_id'] == sat_id]\n",
    "\n",
    "\n",
    "def remove_time_jumps(satellite_data, features_list=('x_sim', 'y_sim', 'z_sim', 'Vx_sim', 'Vy_sim', 'Vz_sim'),\n",
    "                      suffix='_jumps_removed',time_threshold = 0.00003):\n",
    "    #time_threshold 0.00003 sufficient for test and train\n",
    "    #time_threshold 0.00002 will throw errors\n",
    "    '''\n",
    "    removes time jumps in the simulation for a single satellite\n",
    "    for train and test data, sufficient to set time_threshold at default\n",
    "    '''\n",
    "    satellite_data['t'] = ((pd.to_datetime(satellite_data['epoch']) - pd.to_datetime(satellite_data['epoch'])[0]) /\n",
    "                           np.timedelta64(1, 'D')).astype(float)\n",
    "    satellite_data['dt'] = satellite_data['t'].diff()\n",
    "    # the most frequent time interval\n",
    "    t_standard = satellite_data['dt'].value_counts().index[0]\n",
    "\n",
    "    # time steps used for simulations\n",
    "    satellite_data['t_sim'] = satellite_data.index.values * t_standard\n",
    "\n",
    "    n = satellite_data.shape[0]\n",
    "    corrected_features = []\n",
    "    for feature_name in features_list:\n",
    "        corrected_feature = [0] * n\n",
    "        corrected_feature[0] = satellite_data[feature_name][0]\n",
    "\n",
    "        feature = satellite_data[feature_name]\n",
    "\n",
    "        for j in range(1, n - 1):\n",
    "            if satellite_data.t[j] < satellite_data.t_sim[j] - time_threshold:\n",
    "                # approximate by the left side\n",
    "    \n",
    "                # look for the interval\n",
    "                step = 0\n",
    "                while satellite_data.t[j] < satellite_data.t_sim[j - step] - time_threshold:\n",
    "                    step += 1\n",
    "                #             print(step)\n",
    "                corrected_feature[j] = feature[j - step] - (satellite_data.t_sim[j - step] - satellite_data.t[j]) / (\n",
    "                            satellite_data.t_sim[j - step] - satellite_data.t_sim[j - step - 1]) * (\n",
    "                                              feature[j - step] - feature[j - step - 1])\n",
    "            elif satellite_data.t[j] > satellite_data.t_sim[j] + time_threshold:\n",
    "                # approximate by the right side\n",
    "    \n",
    "                # look for the interval\n",
    "                step = 0\n",
    "                while satellite_data.t[j] > satellite_data.t_sim[j + step] + time_threshold:\n",
    "                    step += 1\n",
    "    \n",
    "                corrected_feature[j] = feature[j + step + 1] - (satellite_data.t_sim[j + step + 1] - satellite_data.t[j]) / (\n",
    "                            satellite_data.t_sim[j + step + 1] - satellite_data.t_sim[j + step]) * (\n",
    "                                              feature[j + step + 1] - feature[j + step])\n",
    "            else:\n",
    "                corrected_feature[j] = feature[j]\n",
    "    \n",
    "        corrected_feature[n - 1] = feature[n - 1] + corrected_feature[n - 2] - feature[n - 2]\n",
    "        corrected_features.append(corrected_feature)\n",
    "    return pd.DataFrame(corrected_features, index=[f + suffix for f in features_list]).T"
   ]
  },
  {
   "cell_type": "code",
   "execution_count": 5,
   "metadata": {
    "colab": {},
    "colab_type": "code",
    "id": "-TN9lNVPJE6s"
   },
   "outputs": [],
   "source": [
    "def insert_previous_and_shift(df,col_name,ind):\n",
    "    '''\n",
    "    input a data frame (df), column name (col_name), and index (ind)\n",
    "    insert previous value of df[col_name] at index and shift the rest \n",
    "    of df[col_name] from ind by +1;\n",
    "    This is used for remove_time_jumps_fast\n",
    "    '''\n",
    "    shifted_series = df[col_name].shift(1)\n",
    "    df[col_name].iloc[ind] = df[col_name].iloc[ind-1]\n",
    "    df[col_name].iloc[ind+1:] = shifted_series.iloc[ind+1:]\n",
    "    return df"
   ]
  },
  {
   "cell_type": "code",
   "execution_count": 6,
   "metadata": {
    "colab": {},
    "colab_type": "code",
    "id": "ilY6WzcOJE60"
   },
   "outputs": [],
   "source": [
    "def remove_time_jumps_fast(data, features_list=\n",
    "                           ('x_sim', 'y_sim', 'z_sim', 'Vx_sim', 'Vy_sim', 'Vz_sim'),\n",
    "                           threshold = 0.000001):\n",
    "    #time_threshold 0.00003 sufficient for test and train\n",
    "    #time_threshold 0.00002 will throw errors\n",
    "    '''\n",
    "    removes time jumps in the simulation for a single satellite\n",
    "    for train and test data, sufficient to set time_threshold at default\n",
    "    s_data = satellite data\n",
    "    the features are replaced by the correction\n",
    "    note that threshold here is not the same as in remove_time_jumps\n",
    "    '''\n",
    "    epoch_ind = data.columns.get_loc('epoch')\n",
    "    data['t'] = ((pd.to_datetime(data['epoch']) - pd.to_datetime(data.iloc[0,epoch_ind])) /\n",
    "                               np.timedelta64(1, 'D')).astype(float)\n",
    "    data['dt'] = data['t'].diff(1)\n",
    "\n",
    "    index_for_correction = data[data['dt'] < threshold].index \n",
    "    #print(index_for_correction)\n",
    "    if list(index_for_correction): #if non empty\n",
    "        for feature in features_list:\n",
    "            for i in index_for_correction:\n",
    "                j = data.index.get_loc(i)\n",
    "                data = insert_previous_and_shift(data,feature,j)\n",
    "    return data"
   ]
  },
  {
   "cell_type": "code",
   "execution_count": 7,
   "metadata": {},
   "outputs": [],
   "source": [
    "def stretch_simulated_feats(data, stretch,true_feats = 'position',\n",
    "                           suffix=\"_stretch\"):\n",
    "    '''\n",
    "    stretch time scale for simulation to better match true data,\n",
    "    for a single sattelite;\n",
    "    use predetermined stretch coefficient (depends on the satellite)\n",
    "    \n",
    "    '''\n",
    "    if true_feats == 'position':\n",
    "        true_feats_list = ['x','y','z']\n",
    "    elif true_feats == 'velocity':\n",
    "        true_feats_list = ['Vx','Vy','Vz']\n",
    "    elif true_feats == 'all':\n",
    "        true_feats_list = ['x','y','z'] + ['Vx','Vy','Vz']\n",
    "    else:\n",
    "        true_feats_list = true_feats\n",
    "    \n",
    "    for feature in true_feats_list:\n",
    "        spl = splrep(stretch*data['t'],data[feature+'_sim'])\n",
    "        test_stretch = splev(data['t'], spl) #np array\n",
    "        data[feature+suffix] = test_stretch\n",
    "    \n",
    "    return data\n",
    "\n",
    "def amp_sim_feats(data, amp_stretch,feats = ['Vx_sim','Vy_sim','Vz_sim'],\n",
    "                           suffix=\"_stretch_amp\"):\n",
    "    '''\n",
    "    vary amplitude for simulation to better match true data,\n",
    "    for a single sattelite;\n",
    "    use predetermined amp_stretch coefficient (depends on the satellite)\n",
    "    \n",
    "    '''\n",
    "    if feats == 'position':\n",
    "        feats_list = ['x_sim','y_sim','z_sim']\n",
    "    elif feats == 'velocity':\n",
    "        feats_list = ['Vx_sim','Vy_sim','Vz_sim']\n",
    "    elif feats == 'all':\n",
    "        feats_list = ['x_sim','y_sim','z_sim'] + ['Vx_sim','Vy_sim','Vz_sim']\n",
    "    else:\n",
    "        feats_list = feats\n",
    "        \n",
    "    for feature in feats_list:\n",
    "        data[feature+suffix] = amp_stretch*data[feature]\n",
    "    \n",
    "    return data"
   ]
  },
  {
   "cell_type": "markdown",
   "metadata": {
    "colab_type": "text",
    "id": "hMW8narvJE67"
   },
   "source": [
    "## Loading the data"
   ]
  },
  {
   "cell_type": "code",
   "execution_count": 8,
   "metadata": {
    "colab": {
     "base_uri": "https://localhost:8080/",
     "height": 299
    },
    "colab_type": "code",
    "id": "iFtkEKxZJE7O",
    "outputId": "670fafeb-efc8-4614-c723-d96bdeae1c5d"
   },
   "outputs": [],
   "source": [
    "data = pd.read_csv('data/train.csv', index_col = 'id')\n",
    "data['time'] = data['epoch']\n",
    "data['epoch'] = pd.to_datetime(data['epoch']).values.astype(float)\n",
    "# data['epoch'] = data['epoch'] - data['epoch'][0]"
   ]
  },
  {
   "cell_type": "code",
   "execution_count": 9,
   "metadata": {},
   "outputs": [],
   "source": [
    "#data.head(1)"
   ]
  },
  {
   "cell_type": "code",
   "execution_count": 10,
   "metadata": {},
   "outputs": [],
   "source": [
    "test_data = pd.read_csv('data/test.csv', index_col = 'id')\n",
    "test_data['time'] = test_data['epoch']\n",
    "test_data['epoch'] = pd.to_datetime(test_data['epoch']).values.astype(float)\n",
    "# test_data['epoch'] = test_data['epoch'] - data['epoch'][0]"
   ]
  },
  {
   "cell_type": "code",
   "execution_count": 11,
   "metadata": {},
   "outputs": [],
   "source": [
    "#test_data.head()"
   ]
  },
  {
   "cell_type": "markdown",
   "metadata": {},
   "source": [
    "Track 1 train data only"
   ]
  },
  {
   "cell_type": "code",
   "execution_count": 12,
   "metadata": {},
   "outputs": [],
   "source": [
    "sat_t1 = test_data['sat_id'].unique()\n",
    "data = data[data['sat_id'].isin(sat_t1)]"
   ]
  },
  {
   "cell_type": "code",
   "execution_count": 13,
   "metadata": {},
   "outputs": [],
   "source": [
    "all_data = pd.concat([data,test_data],sort=False)"
   ]
  },
  {
   "cell_type": "code",
   "execution_count": 14,
   "metadata": {},
   "outputs": [],
   "source": [
    "train_index = data.index\n",
    "test_index = test_data.index\n",
    "all_index = all_data.index"
   ]
  },
  {
   "cell_type": "code",
   "execution_count": 15,
   "metadata": {},
   "outputs": [],
   "source": [
    "target_list = ['x','y','z','Vx','Vy','Vz']\n",
    "feature_list = [t+'_sim' for t in target_list]"
   ]
  },
  {
   "cell_type": "markdown",
   "metadata": {},
   "source": [
    "### Remove time jumps: track 1"
   ]
  },
  {
   "cell_type": "markdown",
   "metadata": {},
   "source": [
    "remove_time_jumps_fast on all track1 satellites only, compute smape"
   ]
  },
  {
   "cell_type": "code",
   "execution_count": 16,
   "metadata": {},
   "outputs": [
    {
     "name": "stderr",
     "output_type": "stream",
     "text": [
      "100%|████████████████████████████████████████████████████████████████████████████████| 300/300 [00:31<00:00,  5.22it/s]\n"
     ]
    }
   ],
   "source": [
    "pd.options.mode.chained_assignment = None\n",
    "remove_jumps = pd.DataFrame([])\n",
    "for sat_id in tqdm(sat_t1):\n",
    "    sat_data = get_satellite_data(all_data, sat_id)\n",
    "    sat_data = remove_time_jumps_fast(sat_data)\n",
    "    remove_jumps = remove_jumps.append(sat_data)"
   ]
  },
  {
   "cell_type": "code",
   "execution_count": 17,
   "metadata": {},
   "outputs": [
    {
     "data": {
      "text/html": [
       "<div>\n",
       "<style scoped>\n",
       "    .dataframe tbody tr th:only-of-type {\n",
       "        vertical-align: middle;\n",
       "    }\n",
       "\n",
       "    .dataframe tbody tr th {\n",
       "        vertical-align: top;\n",
       "    }\n",
       "\n",
       "    .dataframe thead th {\n",
       "        text-align: right;\n",
       "    }\n",
       "</style>\n",
       "<table border=\"1\" class=\"dataframe\">\n",
       "  <thead>\n",
       "    <tr style=\"text-align: right;\">\n",
       "      <th></th>\n",
       "      <th>epoch</th>\n",
       "      <th>sat_id</th>\n",
       "      <th>x</th>\n",
       "      <th>y</th>\n",
       "      <th>z</th>\n",
       "      <th>Vx</th>\n",
       "      <th>Vy</th>\n",
       "      <th>Vz</th>\n",
       "      <th>x_sim</th>\n",
       "      <th>y_sim</th>\n",
       "      <th>z_sim</th>\n",
       "      <th>Vx_sim</th>\n",
       "      <th>Vy_sim</th>\n",
       "      <th>Vz_sim</th>\n",
       "      <th>time</th>\n",
       "      <th>t</th>\n",
       "      <th>dt</th>\n",
       "    </tr>\n",
       "    <tr>\n",
       "      <th>id</th>\n",
       "      <th></th>\n",
       "      <th></th>\n",
       "      <th></th>\n",
       "      <th></th>\n",
       "      <th></th>\n",
       "      <th></th>\n",
       "      <th></th>\n",
       "      <th></th>\n",
       "      <th></th>\n",
       "      <th></th>\n",
       "      <th></th>\n",
       "      <th></th>\n",
       "      <th></th>\n",
       "      <th></th>\n",
       "      <th></th>\n",
       "      <th></th>\n",
       "      <th></th>\n",
       "    </tr>\n",
       "  </thead>\n",
       "  <tbody>\n",
       "    <tr>\n",
       "      <th>1819</th>\n",
       "      <td>1.388534e+18</td>\n",
       "      <td>1</td>\n",
       "      <td>10390.313089</td>\n",
       "      <td>-2796.458271</td>\n",
       "      <td>3179.562085</td>\n",
       "      <td>2.520477</td>\n",
       "      <td>6.149930</td>\n",
       "      <td>-2.827599</td>\n",
       "      <td>10405.813755</td>\n",
       "      <td>-2771.180760</td>\n",
       "      <td>3166.926302</td>\n",
       "      <td>2.508879</td>\n",
       "      <td>6.152996</td>\n",
       "      <td>-2.826227</td>\n",
       "      <td>2014-01-01T00:00:00.000</td>\n",
       "      <td>0.000000</td>\n",
       "      <td>NaN</td>\n",
       "    </tr>\n",
       "    <tr>\n",
       "      <th>1820</th>\n",
       "      <td>1.388536e+18</td>\n",
       "      <td>1</td>\n",
       "      <td>11195.606833</td>\n",
       "      <td>5078.653968</td>\n",
       "      <td>-839.076593</td>\n",
       "      <td>-1.126667</td>\n",
       "      <td>5.826412</td>\n",
       "      <td>-3.255872</td>\n",
       "      <td>11199.853336</td>\n",
       "      <td>5102.405255</td>\n",
       "      <td>-845.930363</td>\n",
       "      <td>-1.130992</td>\n",
       "      <td>5.822303</td>\n",
       "      <td>-3.250049</td>\n",
       "      <td>2014-01-01T00:21:11.845</td>\n",
       "      <td>0.014720</td>\n",
       "      <td>0.01472</td>\n",
       "    </tr>\n",
       "    <tr>\n",
       "      <th>1821</th>\n",
       "      <td>1.388537e+18</td>\n",
       "      <td>1</td>\n",
       "      <td>8235.556436</td>\n",
       "      <td>11445.904263</td>\n",
       "      <td>-4680.514023</td>\n",
       "      <td>-3.230227</td>\n",
       "      <td>4.126433</td>\n",
       "      <td>-2.704441</td>\n",
       "      <td>8239.504004</td>\n",
       "      <td>11465.137350</td>\n",
       "      <td>-4680.291877</td>\n",
       "      <td>-3.227356</td>\n",
       "      <td>4.123931</td>\n",
       "      <td>-2.700255</td>\n",
       "      <td>2014-01-01T00:42:23.690</td>\n",
       "      <td>0.029441</td>\n",
       "      <td>0.01472</td>\n",
       "    </tr>\n",
       "    <tr>\n",
       "      <th>1822</th>\n",
       "      <td>1.388538e+18</td>\n",
       "      <td>1</td>\n",
       "      <td>3560.149776</td>\n",
       "      <td>15634.195146</td>\n",
       "      <td>-7654.177182</td>\n",
       "      <td>-3.964696</td>\n",
       "      <td>2.520867</td>\n",
       "      <td>-1.978151</td>\n",
       "      <td>3569.107805</td>\n",
       "      <td>15652.050271</td>\n",
       "      <td>-7650.341207</td>\n",
       "      <td>-3.960215</td>\n",
       "      <td>2.520907</td>\n",
       "      <td>-1.976723</td>\n",
       "      <td>2014-01-01T01:03:35.534</td>\n",
       "      <td>0.044161</td>\n",
       "      <td>0.01472</td>\n",
       "    </tr>\n",
       "    <tr>\n",
       "      <th>1823</th>\n",
       "      <td>1.388539e+18</td>\n",
       "      <td>1</td>\n",
       "      <td>-1580.476891</td>\n",
       "      <td>18023.318335</td>\n",
       "      <td>-9755.287599</td>\n",
       "      <td>-4.050865</td>\n",
       "      <td>1.296388</td>\n",
       "      <td>-1.346512</td>\n",
       "      <td>-1566.253652</td>\n",
       "      <td>18042.143340</td>\n",
       "      <td>-9750.982621</td>\n",
       "      <td>-4.047005</td>\n",
       "      <td>1.297625</td>\n",
       "      <td>-1.347010</td>\n",
       "      <td>2014-01-01T01:24:47.379</td>\n",
       "      <td>0.058882</td>\n",
       "      <td>0.01472</td>\n",
       "    </tr>\n",
       "  </tbody>\n",
       "</table>\n",
       "</div>"
      ],
      "text/plain": [
       "             epoch  sat_id             x             y            z        Vx  \\\n",
       "id                                                                              \n",
       "1819  1.388534e+18       1  10390.313089  -2796.458271  3179.562085  2.520477   \n",
       "1820  1.388536e+18       1  11195.606833   5078.653968  -839.076593 -1.126667   \n",
       "1821  1.388537e+18       1   8235.556436  11445.904263 -4680.514023 -3.230227   \n",
       "1822  1.388538e+18       1   3560.149776  15634.195146 -7654.177182 -3.964696   \n",
       "1823  1.388539e+18       1  -1580.476891  18023.318335 -9755.287599 -4.050865   \n",
       "\n",
       "            Vy        Vz         x_sim         y_sim        z_sim    Vx_sim  \\\n",
       "id                                                                            \n",
       "1819  6.149930 -2.827599  10405.813755  -2771.180760  3166.926302  2.508879   \n",
       "1820  5.826412 -3.255872  11199.853336   5102.405255  -845.930363 -1.130992   \n",
       "1821  4.126433 -2.704441   8239.504004  11465.137350 -4680.291877 -3.227356   \n",
       "1822  2.520867 -1.978151   3569.107805  15652.050271 -7650.341207 -3.960215   \n",
       "1823  1.296388 -1.346512  -1566.253652  18042.143340 -9750.982621 -4.047005   \n",
       "\n",
       "        Vy_sim    Vz_sim                     time         t       dt  \n",
       "id                                                                    \n",
       "1819  6.152996 -2.826227  2014-01-01T00:00:00.000  0.000000      NaN  \n",
       "1820  5.822303 -3.250049  2014-01-01T00:21:11.845  0.014720  0.01472  \n",
       "1821  4.123931 -2.700255  2014-01-01T00:42:23.690  0.029441  0.01472  \n",
       "1822  2.520907 -1.976723  2014-01-01T01:03:35.534  0.044161  0.01472  \n",
       "1823  1.297625 -1.347010  2014-01-01T01:24:47.379  0.058882  0.01472  "
      ]
     },
     "execution_count": 17,
     "metadata": {},
     "output_type": "execute_result"
    }
   ],
   "source": [
    "remove_jumps.head()"
   ]
  },
  {
   "cell_type": "code",
   "execution_count": 18,
   "metadata": {},
   "outputs": [],
   "source": [
    "remove_jumps_train = remove_jumps.drop('dt',axis=1).dropna()"
   ]
  },
  {
   "cell_type": "code",
   "execution_count": 19,
   "metadata": {},
   "outputs": [
    {
     "data": {
      "text/plain": [
       "(315183, 16)"
      ]
     },
     "execution_count": 19,
     "metadata": {},
     "output_type": "execute_result"
    }
   ],
   "source": [
    "remove_jumps_train.shape"
   ]
  },
  {
   "cell_type": "code",
   "execution_count": 20,
   "metadata": {},
   "outputs": [],
   "source": [
    "remove_jumps_test = remove_jumps.loc[~remove_jumps.index.isin(remove_jumps.drop('dt',axis=1).dropna().index)]"
   ]
  },
  {
   "cell_type": "code",
   "execution_count": 21,
   "metadata": {},
   "outputs": [
    {
     "data": {
      "text/plain": [
       "(284071, 17)"
      ]
     },
     "execution_count": 21,
     "metadata": {},
     "output_type": "execute_result"
    }
   ],
   "source": [
    "remove_jumps_test.shape"
   ]
  },
  {
   "cell_type": "code",
   "execution_count": 22,
   "metadata": {},
   "outputs": [
    {
     "data": {
      "text/plain": [
       "True"
      ]
     },
     "execution_count": 22,
     "metadata": {},
     "output_type": "execute_result"
    }
   ],
   "source": [
    "remove_jumps_train.index.equals(data.index)"
   ]
  },
  {
   "cell_type": "code",
   "execution_count": 23,
   "metadata": {},
   "outputs": [
    {
     "data": {
      "text/plain": [
       "True"
      ]
     },
     "execution_count": 23,
     "metadata": {},
     "output_type": "execute_result"
    }
   ],
   "source": [
    "remove_jumps_test.index.equals(test_data.index)"
   ]
  },
  {
   "cell_type": "code",
   "execution_count": 24,
   "metadata": {},
   "outputs": [],
   "source": [
    "smape_remove_jumps = []\n",
    "for sat in sat_t1:\n",
    "    d = get_satellite_data(remove_jumps_train,sat)\n",
    "    m = int(0.7*d.shape[0])\n",
    "    smape_remove_jumps.append(smape(d[feature_list][m:].to_numpy(),d[target_list][m:].to_numpy()))"
   ]
  },
  {
   "cell_type": "markdown",
   "metadata": {},
   "source": [
    "### Add linear alignment\n",
    "after having removed time jumps"
   ]
  },
  {
   "cell_type": "code",
   "execution_count": 25,
   "metadata": {},
   "outputs": [
    {
     "name": "stdout",
     "output_type": "stream",
     "text": [
      "357\n"
     ]
    }
   ],
   "source": [
    "sat_id = random.choice(sat_t1)\n",
    "print(sat_id)\n",
    "# sat_id = 448"
   ]
  },
  {
   "cell_type": "code",
   "execution_count": 26,
   "metadata": {
    "colab": {
     "base_uri": "https://localhost:8080/",
     "height": 151
    },
    "colab_type": "code",
    "id": "McB3F4RvJE7U",
    "outputId": "c435e3f6-bb60-49e6-cbf5-c517076b1c32"
   },
   "outputs": [
    {
     "name": "stderr",
     "output_type": "stream",
     "text": [
      "100%|████████████████████████████████████████████████████████████████████████████████| 300/300 [02:43<00:00,  1.65it/s]\n"
     ]
    }
   ],
   "source": [
    "alignment_model = LinearAlignment()\n",
    "transf_df = pd.DataFrame([])\n",
    "for sat_id in tqdm(sat_t1):\n",
    "\n",
    "    sat_data = get_satellite_data(remove_jumps, sat_id)\n",
    "    n_first = sat_data.shape[0] - sat_data['x'].isnull().sum()\n",
    "    index = sat_data.index\n",
    "    pred = pd.DataFrame(index = index)\n",
    "    sat_data.set_index(index)\n",
    "\n",
    "    n_train = 4*len(sat_data) // 10\n",
    "    train_sat_data = sat_data[:n_train]\n",
    "    \n",
    "    pred['epoch'] = sat_data['epoch'].values\n",
    "    pred['t'] = sat_data['t'].values\n",
    "    pred['sat_id'] = sat_id\n",
    "    \n",
    "    try:\n",
    "        for feature_name in target_list:\n",
    "            alignment_model.fit(t=train_sat_data['epoch'].values,\n",
    "                                x=-train_sat_data[f'{feature_name}_sim'].values,\n",
    "                                gt=-train_sat_data[feature_name].values)\n",
    "            option1 = alignment_model.predict(t=sat_data['epoch'].values,\n",
    "                                                         x=sat_data[f'{feature_name}_sim'].values)\n",
    "            alignment_model.fit(t=train_sat_data['epoch'].values,\n",
    "                                x= train_sat_data[f'{feature_name}_sim'].values,\n",
    "                                gt= train_sat_data[feature_name].values)\n",
    "\n",
    "            option2 = alignment_model.predict(t=sat_data['epoch'].values,\n",
    "                                                         x=sat_data[f'{feature_name}_sim'].values)\n",
    "\n",
    "            if utils.smape(option1[n_train:n_first],sat_data[feature_name].values[n_train:n_first]) < utils.smape(option2[n_train:n_first],sat_data[feature_name].values[n_train:n_first]):\n",
    "                alignment_model.fit(t=sat_data['epoch'].iloc[:n_first].values,\n",
    "                                x=-sat_data[f'{feature_name}_sim'].iloc[:n_first].values,\n",
    "                                gt=-sat_data[feature_name].iloc[:n_first].values)\n",
    "\n",
    "                pred[f'{feature_name}_sim'] = alignment_model.predict(t=sat_data['epoch'].values,\n",
    "                                                         x=sat_data[f'{feature_name}_sim'].values)\n",
    "            else:\n",
    "                alignment_model.fit(t=sat_data['epoch'].iloc[:n_first].values,\n",
    "                                x=sat_data[f'{feature_name}_sim'].iloc[:n_first].values,\n",
    "                                gt=sat_data[feature_name].iloc[:n_first].values)\n",
    "                pred[f'{feature_name}_sim']  = alignment_model.predict(t=sat_data['epoch'].values,\n",
    "                                                         x=sat_data[f'{feature_name}_sim'].values)\n",
    "\n",
    "            pred.loc[:,feature_name]=sat_data.loc[:, feature_name].values\n",
    "\n",
    "    except Exception as e:\n",
    "        print(f'linear alignment failed for satellite {sat_id}:\\t{type(e).__name__} {e}')\n",
    "        continue\n",
    "    transf_df = transf_df.append(pred)"
   ]
  },
  {
   "cell_type": "code",
   "execution_count": 27,
   "metadata": {},
   "outputs": [],
   "source": [
    "remove_jumps_la = transf_df.copy()\n",
    "remove_jumps_la_train = remove_jumps_la.dropna()\n",
    "remove_jumps_la_test = remove_jumps_la.loc[~remove_jumps_la.index.isin\n",
    "                                           (remove_jumps_la.dropna().index)]"
   ]
  },
  {
   "cell_type": "code",
   "execution_count": 28,
   "metadata": {},
   "outputs": [
    {
     "data": {
      "text/plain": [
       "True"
      ]
     },
     "execution_count": 28,
     "metadata": {},
     "output_type": "execute_result"
    }
   ],
   "source": [
    "remove_jumps_la_train.index.equals(data.index)"
   ]
  },
  {
   "cell_type": "code",
   "execution_count": 29,
   "metadata": {},
   "outputs": [
    {
     "data": {
      "text/plain": [
       "True"
      ]
     },
     "execution_count": 29,
     "metadata": {},
     "output_type": "execute_result"
    }
   ],
   "source": [
    "remove_jumps_la_test.index.equals(test_data.index)"
   ]
  },
  {
   "cell_type": "code",
   "execution_count": 30,
   "metadata": {},
   "outputs": [],
   "source": [
    "smape_remove_jumps_la = []\n",
    "for sat in sat_t1:\n",
    "    d = get_satellite_data(remove_jumps_la_train,sat)\n",
    "    m = int(0.7*d.shape[0])\n",
    "    smape_remove_jumps_la.append(smape(d[feature_list][m:].to_numpy(),d[target_list][m:].to_numpy()))"
   ]
  },
  {
   "cell_type": "markdown",
   "metadata": {},
   "source": [
    "Check tails for all satellites, to be sure LA did not remove any data at end"
   ]
  },
  {
   "cell_type": "code",
   "execution_count": 31,
   "metadata": {},
   "outputs": [],
   "source": [
    "#check tail on 372,587,523,473,515\n",
    "threshold = 0.0001\n",
    "for i in sat_t1:\n",
    "    if abs(get_satellite_data(remove_jumps_la,i)['Vx_sim'].tail(10).mean()) < threshold:\n",
    "        print(i)"
   ]
  },
  {
   "cell_type": "markdown",
   "metadata": {},
   "source": [
    "### Stretch horizontally\n",
    "\n",
    "Will find one coefficient for x,y,z and another for Vx,Vy,Vz; that is best in terms of smape on train data."
   ]
  },
  {
   "cell_type": "code",
   "execution_count": 32,
   "metadata": {},
   "outputs": [],
   "source": [
    "true_feats = ['Vx','Vy','Vz']\n",
    "sim_feats = [f + '_sim' for f in true_feats]\n",
    "stretched_feats = [f+'_stretch' for f in true_feats]\n",
    "stretch_amp_feats = [f + '_amp' for f in stretched_feats]"
   ]
  },
  {
   "cell_type": "code",
   "execution_count": 33,
   "metadata": {},
   "outputs": [
    {
     "name": "stderr",
     "output_type": "stream",
     "text": [
      "100%|████████████████████████████████████████████████████████████████████████████████| 300/300 [00:13<00:00, 22.12it/s]\n"
     ]
    }
   ],
   "source": [
    "stretch_dict_vel = {}\n",
    "for sat in tqdm(sat_t1):\n",
    "    d = get_satellite_data(remove_jumps_train, sat)\n",
    "    \n",
    "    stretch_list = []\n",
    "    for i in np.arange(0.98,1.02,0.005):\n",
    "        d = stretch_simulated_feats(d,i,true_feats='velocity',suffix='_stretch')\n",
    "        metric = smape(d[true_feats].to_numpy(),d[stretched_feats].to_numpy())\n",
    "        stretch_list.append((i,metric))\n",
    "        #print('i:',i)\n",
    "        #print('smape:',metric)\n",
    "    best = min(stretch_list, key = lambda t: t[1])\n",
    "    stretch_dict_vel[sat] = best[0]"
   ]
  },
  {
   "cell_type": "code",
   "execution_count": 34,
   "metadata": {},
   "outputs": [
    {
     "data": {
      "text/plain": [
       "[26, 35, 252, 277, 391, 515]"
      ]
     },
     "execution_count": 34,
     "metadata": {},
     "output_type": "execute_result"
    }
   ],
   "source": [
    "extreme_stretch = [k for k,v in stretch_dict_vel.items() if (v <= 0.98 or v >= 1.02)]\n",
    "extreme_stretch"
   ]
  },
  {
   "cell_type": "code",
   "execution_count": 35,
   "metadata": {},
   "outputs": [],
   "source": [
    "for sat in extreme_stretch:\n",
    "    d = get_satellite_data(remove_jumps_train, sat)\n",
    "    \n",
    "    stretch_list = []\n",
    "    for i in np.arange(0.94,1.06,0.005):\n",
    "        d = stretch_simulated_feats(d,i,true_feats = 'velocity')\n",
    "        metric = smape(d[true_feats].to_numpy(),d[stretched_feats].to_numpy())\n",
    "        stretch_list.append((i,metric))\n",
    "        #print('i:',i)\n",
    "        #print('smape:',metric)\n",
    "    best = min(stretch_list, key = lambda t: t[1])\n",
    "    stretch_dict_vel[sat] = best[0]"
   ]
  },
  {
   "cell_type": "code",
   "execution_count": 36,
   "metadata": {},
   "outputs": [
    {
     "data": {
      "text/plain": [
       "[]"
      ]
     },
     "execution_count": 36,
     "metadata": {},
     "output_type": "execute_result"
    }
   ],
   "source": [
    "extreme_stretch = [k for k,v in stretch_dict_vel.items() if (v <= 0.94 or v >= 1.06)]\n",
    "extreme_stretch"
   ]
  },
  {
   "cell_type": "code",
   "execution_count": 37,
   "metadata": {},
   "outputs": [],
   "source": [
    "#stretch_dict_vel = {int(k):v for k,v in stretch_dict_vel.items()}\n",
    "\n",
    "#save stretch_dict\n",
    "#import json\n",
    "#with open('stretch_dict_vel.txt', 'w') as file:\n",
    "#    json.dump(stretch_dict_vel, file)\n",
    "\n",
    "with open('stretch_dict_vel.txt', 'r') as file:\n",
    "    stretch_dict_vel = json.load(file)"
   ]
  },
  {
   "cell_type": "code",
   "execution_count": 38,
   "metadata": {},
   "outputs": [
    {
     "name": "stderr",
     "output_type": "stream",
     "text": [
      "100%|████████████████████████████████████████████████████████████████████████████████| 300/300 [00:12<00:00, 24.29it/s]\n"
     ]
    }
   ],
   "source": [
    "#position\n",
    "true_feats = ['x','y','z']\n",
    "sim_feats = [f + '_sim' for f in true_feats]\n",
    "stretched_feats = [f+'_stretch' for f in true_feats]\n",
    "stretch_amp_feats = [f + '_amp' for f in stretched_feats]\n",
    "stretch_dict_pos = {}\n",
    "for sat in tqdm(sat_t1):\n",
    "    d = get_satellite_data(remove_jumps_train, sat)\n",
    "    \n",
    "    stretch_list = []\n",
    "    for i in np.arange(0.98,1.02,0.005):\n",
    "        d = stretch_simulated_feats(d,i,true_feats='position',suffix='_stretch')\n",
    "        metric = smape(d[true_feats].to_numpy(),d[stretched_feats].to_numpy())\n",
    "        stretch_list.append((i,metric))\n",
    "        #print('i:',i)\n",
    "        #print('smape:',metric)\n",
    "    best = min(stretch_list, key = lambda t: t[1])\n",
    "    stretch_dict_pos[sat] = best[0]"
   ]
  },
  {
   "cell_type": "code",
   "execution_count": 39,
   "metadata": {},
   "outputs": [
    {
     "data": {
      "text/plain": [
       "[252, 277, 391, 438, 515]"
      ]
     },
     "execution_count": 39,
     "metadata": {},
     "output_type": "execute_result"
    }
   ],
   "source": [
    "extreme_stretch = [k for k,v in stretch_dict_pos.items() if (v <= 0.98 or v >= 1.02)]\n",
    "extreme_stretch"
   ]
  },
  {
   "cell_type": "code",
   "execution_count": 40,
   "metadata": {},
   "outputs": [],
   "source": [
    "for sat in extreme_stretch:\n",
    "    d = get_satellite_data(remove_jumps_train, sat)\n",
    "    \n",
    "    stretch_list = []\n",
    "    for i in np.arange(0.9,1.1,0.005):\n",
    "        d = stretch_simulated_feats(d,i,true_feats = 'position')\n",
    "        metric = smape(d[true_feats].to_numpy(),d[stretched_feats].to_numpy())\n",
    "        stretch_list.append((i,metric))\n",
    "        #print('i:',i)\n",
    "        #print('smape:',metric)\n",
    "    best = min(stretch_list, key = lambda t: t[1])\n",
    "    stretch_dict_pos[sat] = best[0]"
   ]
  },
  {
   "cell_type": "code",
   "execution_count": 41,
   "metadata": {},
   "outputs": [
    {
     "data": {
      "text/plain": [
       "[]"
      ]
     },
     "execution_count": 41,
     "metadata": {},
     "output_type": "execute_result"
    }
   ],
   "source": [
    "extreme_stretch = [k for k,v in stretch_dict_pos.items() if (v <= 0.9 or v >= 1.1)]\n",
    "extreme_stretch"
   ]
  },
  {
   "cell_type": "code",
   "execution_count": 42,
   "metadata": {},
   "outputs": [],
   "source": [
    "#stretch_dict_pos = {int(k):v for k,v in stretch_dict_pos.items()}\n",
    "#save stretch_dict\n",
    "#import json\n",
    "#with open('stretch_dict_pos.txt', 'w') as file:\n",
    "#    json.dump(stretch_dict_pos, file)\n",
    "\n",
    "with open('stretch_dict_pos.txt', 'r') as file:\n",
    "    stretch_dict_pos = json.load(file)"
   ]
  },
  {
   "cell_type": "markdown",
   "metadata": {},
   "source": [
    "### Horizontal stretch after LA"
   ]
  },
  {
   "cell_type": "code",
   "execution_count": 43,
   "metadata": {},
   "outputs": [],
   "source": [
    "true_feats = ['Vx','Vy','Vz']\n",
    "sim_feats = [f + '_sim' for f in true_feats]\n",
    "stretched_feats = [f+'_stretch' for f in true_feats]\n",
    "stretch_amp_feats = [f + '_amp' for f in stretched_feats]"
   ]
  },
  {
   "cell_type": "code",
   "execution_count": 44,
   "metadata": {},
   "outputs": [
    {
     "name": "stderr",
     "output_type": "stream",
     "text": [
      "100%|████████████████████████████████████████████████████████████████████████████████| 300/300 [00:26<00:00, 11.83it/s]\n"
     ]
    }
   ],
   "source": [
    "stretch_dict_la_vel = {}\n",
    "for sat in tqdm(sat_t1):\n",
    "    d = get_satellite_data(remove_jumps_la_train, sat)\n",
    "    \n",
    "    stretch_list = []\n",
    "    for i in np.arange(0.95,1.05,0.005):\n",
    "        d = stretch_simulated_feats(d,i,true_feats='velocity',suffix='_stretch')\n",
    "        metric = smape(d[true_feats].to_numpy(),d[stretched_feats].to_numpy())\n",
    "        stretch_list.append((i,metric))\n",
    "        #print('i:',i)\n",
    "        #print('smape:',metric)\n",
    "    best = min(stretch_list, key = lambda t: t[1])\n",
    "    stretch_dict_la_vel[sat] = best[0]"
   ]
  },
  {
   "cell_type": "code",
   "execution_count": 45,
   "metadata": {},
   "outputs": [
    {
     "data": {
      "text/plain": [
       "[]"
      ]
     },
     "execution_count": 45,
     "metadata": {},
     "output_type": "execute_result"
    }
   ],
   "source": [
    "extreme_stretch = [k for k,v in stretch_dict_la_vel.items() if (v <= 0.95 or v >= 1.05)]\n",
    "extreme_stretch"
   ]
  },
  {
   "cell_type": "code",
   "execution_count": 46,
   "metadata": {},
   "outputs": [],
   "source": [
    "#stretch_dict_la_vel = {int(k):v for k,v in stretch_dict_la_vel.items()}\n",
    "#save stretch_dict\n",
    "#import json\n",
    "#with open('stretch_dict_la_vel.txt', 'w') as file:\n",
    "#    json.dump(stretch_dict_la_vel, file)\n",
    "\n",
    "with open('stretch_dict_la_vel.txt', 'r') as file:\n",
    "    stretch_dict_la_vel = json.load(file)"
   ]
  },
  {
   "cell_type": "code",
   "execution_count": 47,
   "metadata": {},
   "outputs": [
    {
     "name": "stderr",
     "output_type": "stream",
     "text": [
      "100%|████████████████████████████████████████████████████████████████████████████████| 300/300 [00:21<00:00, 13.89it/s]\n"
     ]
    }
   ],
   "source": [
    "#position\n",
    "true_feats = ['x','y','z']\n",
    "sim_feats = [f + '_sim' for f in true_feats]\n",
    "stretched_feats = [f+'_stretch' for f in true_feats]\n",
    "stretch_amp_feats = [f + '_amp' for f in stretched_feats]\n",
    "stretch_dict_la_pos = {}\n",
    "for sat in tqdm(sat_t1):\n",
    "    d = get_satellite_data(remove_jumps_la_train, sat)\n",
    "    \n",
    "    stretch_list = []\n",
    "    for i in np.arange(0.96,1.04,0.005):\n",
    "        d = stretch_simulated_feats(d,i,true_feats='position',suffix='_stretch')\n",
    "        metric = smape(d[true_feats].to_numpy(),d[stretched_feats].to_numpy())\n",
    "        stretch_list.append((i,metric))\n",
    "        #print('i:',i)\n",
    "        #print('smape:',metric)\n",
    "    best = min(stretch_list, key = lambda t: t[1])\n",
    "    stretch_dict_la_pos[sat] = best[0]"
   ]
  },
  {
   "cell_type": "code",
   "execution_count": 48,
   "metadata": {},
   "outputs": [
    {
     "data": {
      "text/plain": [
       "[]"
      ]
     },
     "execution_count": 48,
     "metadata": {},
     "output_type": "execute_result"
    }
   ],
   "source": [
    "extreme_stretch = [k for k,v in stretch_dict_la_pos.items() if (v <= 0.96 or v >= 1.04)]\n",
    "extreme_stretch"
   ]
  },
  {
   "cell_type": "code",
   "execution_count": 49,
   "metadata": {},
   "outputs": [],
   "source": [
    "#stretch_dict_la_pos = {int(k):v for k,v in stretch_dict_la_pos.items()}\n",
    "#save stretch_dict\n",
    "#import json\n",
    "#with open('stretch_dict_la_pos.txt', 'w') as file:\n",
    "#    json.dump(stretch_dict_la_pos, file)\n",
    "\n",
    "with open('stretch_dict_la_pos.txt', 'r') as file:\n",
    "    stretch_dict_la_pos = json.load(file)"
   ]
  },
  {
   "cell_type": "markdown",
   "metadata": {},
   "source": [
    "## Stretch amplitude, individually for each feature"
   ]
  },
  {
   "cell_type": "code",
   "execution_count": 50,
   "metadata": {},
   "outputs": [
    {
     "name": "stderr",
     "output_type": "stream",
     "text": [
      "100%|████████████████████████████████████████████████████████████████████████████████| 300/300 [00:32<00:00,  9.14it/s]\n",
      "100%|████████████████████████████████████████████████████████████████████████████████| 300/300 [00:32<00:00,  9.48it/s]\n",
      "100%|████████████████████████████████████████████████████████████████████████████████| 300/300 [00:31<00:00,  9.50it/s]\n"
     ]
    }
   ],
   "source": [
    "amp_dict_pos = {}\n",
    "for dim in ['x','y','z']:\n",
    "    amp_dict_pos[dim] = {}\n",
    "    for sat in tqdm(sat_t1):\n",
    "        amplitude_list = []\n",
    "        for i in np.arange(0.9,1.1,0.01):\n",
    "            d = get_satellite_data(remove_jumps_train,sat)\n",
    "            d = stretch_simulated_feats(d,stretch_dict_pos[str(sat)],true_feats = 'position',suffix='')\n",
    "            d = amp_sim_feats(d,i,feats = 'position',suffix='')\n",
    "            metric = smape(d['{}'.format(dim)].to_numpy(),d['{}_sim'.format(dim)].to_numpy())\n",
    "            amplitude_list.append((i,metric))\n",
    "            #print('i:',i)\n",
    "            #print('smape:',metric)\n",
    "        best = min(amplitude_list, key = lambda t: t[1])\n",
    "        amp_dict_pos[dim][sat] = best[0]"
   ]
  },
  {
   "cell_type": "code",
   "execution_count": 51,
   "metadata": {},
   "outputs": [
    {
     "data": {
      "text/plain": [
       "{'x': [], 'y': [515], 'z': [515]}"
      ]
     },
     "execution_count": 51,
     "metadata": {},
     "output_type": "execute_result"
    }
   ],
   "source": [
    "extreme_amp = {}\n",
    "for dim in ['x','y','z']:\n",
    "    extreme_amp[dim] = [k for k,v in amp_dict_pos[dim].items() if (v <= 0.9 or v >= 1.1)]\n",
    "extreme_amp"
   ]
  },
  {
   "cell_type": "code",
   "execution_count": 52,
   "metadata": {},
   "outputs": [],
   "source": [
    "for dim in ['x','y','z']:\n",
    "    for sat in extreme_amp[dim]:\n",
    "        amplitude_list = []\n",
    "        for i in np.arange(0.1,1.9,0.01):\n",
    "            d = get_satellite_data(remove_jumps_train,sat)\n",
    "            d = stretch_simulated_feats(d,stretch_dict_pos[str(sat)],true_feats = 'position',suffix='')\n",
    "            d = amp_sim_feats(d,i,feats = 'position',suffix='')\n",
    "            metric = smape(d['{}'.format(dim)].to_numpy(),d['{}_sim'.format(dim)].to_numpy())\n",
    "            amplitude_list.append((i,metric))\n",
    "            #print('i:',i)\n",
    "            #print('smape:',metric)\n",
    "        best = min(amplitude_list, key = lambda t: t[1])\n",
    "        amp_dict_pos[dim][sat] = best[0]"
   ]
  },
  {
   "cell_type": "code",
   "execution_count": 53,
   "metadata": {},
   "outputs": [
    {
     "data": {
      "text/plain": [
       "{'x': [], 'y': [], 'z': []}"
      ]
     },
     "execution_count": 53,
     "metadata": {},
     "output_type": "execute_result"
    }
   ],
   "source": [
    "extreme_amp = {}\n",
    "for dim in ['x','y','z']:\n",
    "    extreme_amp[dim] = [k for k,v in amp_dict_pos[dim].items() if (v <= 0.1 or v >= 1.9)]\n",
    "extreme_amp"
   ]
  },
  {
   "cell_type": "code",
   "execution_count": 54,
   "metadata": {},
   "outputs": [],
   "source": [
    "#for dim in ['x','y','z']:\n",
    "#    amp_dict_pos[dim] = {int(k):v for k,v in amp_dict_pos[dim].items()}\n",
    "#save stretch_dict\n",
    "#import json\n",
    "#with open('amp_dict_pos.txt', 'w') as file:\n",
    "#    json.dump(amp_dict_pos, file)\n",
    "\n",
    "with open('amp_dict_pos.txt', 'r') as file:\n",
    "    amp_dict_pos = json.load(file)"
   ]
  },
  {
   "cell_type": "code",
   "execution_count": 55,
   "metadata": {},
   "outputs": [
    {
     "name": "stderr",
     "output_type": "stream",
     "text": [
      "100%|████████████████████████████████████████████████████████████████████████████████| 300/300 [00:32<00:00,  9.22it/s]\n",
      "100%|████████████████████████████████████████████████████████████████████████████████| 300/300 [00:33<00:00,  8.82it/s]\n",
      "100%|████████████████████████████████████████████████████████████████████████████████| 300/300 [00:35<00:00,  8.56it/s]\n"
     ]
    }
   ],
   "source": [
    "amp_dict_vel = {}\n",
    "for dim in ['Vx','Vy','Vz']:\n",
    "    amp_dict_vel[dim] = {}\n",
    "    for sat in tqdm(sat_t1):\n",
    "        amplitude_list = []\n",
    "        for i in np.arange(0.9,1.1,0.01):\n",
    "            d = get_satellite_data(remove_jumps_train,sat)\n",
    "            d = stretch_simulated_feats(d,stretch_dict_vel[str(sat)],true_feats = 'velocity',suffix='')\n",
    "            d = amp_sim_feats(d,i,feats = 'velocity',suffix='')\n",
    "            metric = smape(d['{}'.format(dim)].to_numpy(),d['{}_sim'.format(dim)].to_numpy())\n",
    "            amplitude_list.append((i,metric))\n",
    "        best = min(amplitude_list, key = lambda t: t[1])\n",
    "        amp_dict_vel[dim][sat] = best[0]"
   ]
  },
  {
   "cell_type": "code",
   "execution_count": 56,
   "metadata": {},
   "outputs": [
    {
     "data": {
      "text/plain": [
       "{'Vx': [391, 515], 'Vy': [127, 252], 'Vz': []}"
      ]
     },
     "execution_count": 56,
     "metadata": {},
     "output_type": "execute_result"
    }
   ],
   "source": [
    "extreme_amp = {}\n",
    "for dim in ['Vx','Vy','Vz']:\n",
    "    extreme_amp[dim] = [k for k,v in amp_dict_vel[dim].items() if (v <= 0.9 or v >= 1.1)]\n",
    "extreme_amp"
   ]
  },
  {
   "cell_type": "code",
   "execution_count": 57,
   "metadata": {},
   "outputs": [],
   "source": [
    "for dim in ['Vx','Vy','Vz']:\n",
    "    for sat in extreme_amp[dim]:\n",
    "        amplitude_list = []\n",
    "        for i in np.arange(0.1,1.9,0.01):\n",
    "            d = get_satellite_data(remove_jumps_train,sat)\n",
    "            d = stretch_simulated_feats(d,stretch_dict_vel[str(sat)],true_feats = 'velocity',suffix='')\n",
    "            d = amp_sim_feats(d,i,feats = 'velocity',suffix='')\n",
    "            metric = smape(d['{}'.format(dim)].to_numpy(),d['{}_sim'.format(dim)].to_numpy())\n",
    "            amplitude_list.append((i,metric))\n",
    "            #print('i:',i)\n",
    "            #print('smape:',metric)\n",
    "        best = min(amplitude_list, key = lambda t: t[1])\n",
    "        amp_dict_vel[dim][sat] = best[0]"
   ]
  },
  {
   "cell_type": "code",
   "execution_count": 58,
   "metadata": {},
   "outputs": [
    {
     "data": {
      "text/plain": [
       "{'Vx': [], 'Vy': [], 'Vz': []}"
      ]
     },
     "execution_count": 58,
     "metadata": {},
     "output_type": "execute_result"
    }
   ],
   "source": [
    "extreme_amp = {}\n",
    "for dim in ['Vx','Vy','Vz']:\n",
    "    extreme_amp[dim] = [k for k,v in amp_dict_vel[dim].items() if (v <= 0.1 or v >= 1.9)]\n",
    "extreme_amp"
   ]
  },
  {
   "cell_type": "code",
   "execution_count": 59,
   "metadata": {},
   "outputs": [],
   "source": [
    "for dim in ['Vx','Vy','Vz']:\n",
    "    amp_dict_vel[dim] = {int(k):v for k,v in amp_dict_vel[dim].items()}\n",
    "#save stretch_dict\n",
    "#import json\n",
    "#with open('amp_dict_vel.txt', 'w') as file:\n",
    "#    json.dump(amp_dict_vel, file)\n",
    "\n",
    "with open('amp_dict_vel.txt', 'r') as file:\n",
    "    amp_dict_vel = json.load(file)"
   ]
  },
  {
   "cell_type": "markdown",
   "metadata": {},
   "source": [
    "## Amplitude stretch after LA and horizontal stretch"
   ]
  },
  {
   "cell_type": "code",
   "execution_count": 60,
   "metadata": {},
   "outputs": [
    {
     "name": "stderr",
     "output_type": "stream",
     "text": [
      "100%|████████████████████████████████████████████████████████████████████████████████| 300/300 [00:31<00:00,  9.38it/s]\n",
      "100%|████████████████████████████████████████████████████████████████████████████████| 300/300 [00:30<00:00,  9.80it/s]\n",
      "100%|████████████████████████████████████████████████████████████████████████████████| 300/300 [00:31<00:00,  9.93it/s]\n"
     ]
    }
   ],
   "source": [
    "amp_dict_la_pos = {}\n",
    "for dim in ['x','y','z']:\n",
    "    amp_dict_la_pos[dim] = {}\n",
    "    for sat in tqdm(sat_t1):\n",
    "        amplitude_list = []\n",
    "        for i in np.arange(0.9,1.1,0.01):\n",
    "            d = get_satellite_data(remove_jumps_la_train,sat)\n",
    "            d = stretch_simulated_feats(d,stretch_dict_la_pos[str(sat)],true_feats = 'position',suffix='')\n",
    "            d = amp_sim_feats(d,i,feats = 'position',suffix='')\n",
    "            metric = smape(d['{}'.format(dim)].to_numpy(),d['{}_sim'.format(dim)].to_numpy())\n",
    "            amplitude_list.append((i,metric))\n",
    "            #print('i:',i)\n",
    "            #print('smape:',metric)\n",
    "        best = min(amplitude_list, key = lambda t: t[1])\n",
    "        amp_dict_la_pos[dim][sat] = best[0]"
   ]
  },
  {
   "cell_type": "code",
   "execution_count": 61,
   "metadata": {},
   "outputs": [
    {
     "data": {
      "text/plain": [
       "{'x': [], 'y': [], 'z': []}"
      ]
     },
     "execution_count": 61,
     "metadata": {},
     "output_type": "execute_result"
    }
   ],
   "source": [
    "extreme_amp = {}\n",
    "for dim in ['x','y','z']:\n",
    "    extreme_amp[dim] = [k for k,v in amp_dict_la_pos[dim].items() if (v <= 0.9 or v >= 1.1)]\n",
    "extreme_amp"
   ]
  },
  {
   "cell_type": "code",
   "execution_count": 62,
   "metadata": {},
   "outputs": [],
   "source": [
    "#for dim in ['x','y','z']:\n",
    "#    amp_dict_la_pos[dim] = {int(k):v for k,v in amp_dict_la_pos[dim].items()}\n",
    "#save stretch_dict\n",
    "#import json\n",
    "#with open('amp_dict_la_pos.txt', 'w') as file:\n",
    "#    json.dump(amp_dict_la_pos, file)\n",
    "\n",
    "with open('amp_dict_la_pos.txt', 'r') as file:\n",
    "    amp_dict_la_pos = json.load(file)"
   ]
  },
  {
   "cell_type": "code",
   "execution_count": 63,
   "metadata": {},
   "outputs": [
    {
     "name": "stderr",
     "output_type": "stream",
     "text": [
      "100%|████████████████████████████████████████████████████████████████████████████████| 300/300 [00:32<00:00,  9.65it/s]\n",
      "100%|████████████████████████████████████████████████████████████████████████████████| 300/300 [00:32<00:00,  9.62it/s]\n",
      "100%|████████████████████████████████████████████████████████████████████████████████| 300/300 [00:32<00:00,  9.80it/s]\n"
     ]
    }
   ],
   "source": [
    "amp_dict_la_vel = {}\n",
    "for dim in ['Vx','Vy','Vz']:\n",
    "    amp_dict_la_vel[dim] = {}\n",
    "    for sat in tqdm(sat_t1):\n",
    "        amplitude_list = []\n",
    "        for i in np.arange(0.9,1.1,0.01):\n",
    "            d = get_satellite_data(remove_jumps_la_train,sat)\n",
    "            d = stretch_simulated_feats(d,stretch_dict_la_vel[str(sat)],true_feats = 'velocity',suffix='')\n",
    "            d = amp_sim_feats(d,i,feats = 'velocity',suffix='')\n",
    "            metric = smape(d['{}'.format(dim)].to_numpy(),d['{}_sim'.format(dim)].to_numpy())\n",
    "            amplitude_list.append((i,metric))\n",
    "        best = min(amplitude_list, key = lambda t: t[1])\n",
    "        amp_dict_la_vel[dim][sat] = best[0]"
   ]
  },
  {
   "cell_type": "code",
   "execution_count": 64,
   "metadata": {},
   "outputs": [
    {
     "data": {
      "text/plain": [
       "{'Vx': [], 'Vy': [], 'Vz': []}"
      ]
     },
     "execution_count": 64,
     "metadata": {},
     "output_type": "execute_result"
    }
   ],
   "source": [
    "extreme_amp = {}\n",
    "for dim in ['Vx','Vy','Vz']:\n",
    "    extreme_amp[dim] = [k for k,v in amp_dict_la_vel[dim].items() if (v <= 0.1 or v >= 1.9)]\n",
    "extreme_amp"
   ]
  },
  {
   "cell_type": "code",
   "execution_count": 65,
   "metadata": {},
   "outputs": [],
   "source": [
    "#for dim in ['Vx','Vy','Vz']:\n",
    "#    amp_dict_la_vel[dim] = {int(k):v for k,v in amp_dict_la_vel[dim].items()}\n",
    "#save stretch_dict\n",
    "#import json\n",
    "#with open('amp_dict_la_vel.txt', 'w') as file:\n",
    "#    json.dump(amp_dict_la_vel, file)\n",
    "\n",
    "with open('amp_dict_la_vel.txt', 'r') as file:\n",
    "    amp_dict_la_vel = json.load(file)"
   ]
  },
  {
   "cell_type": "markdown",
   "metadata": {},
   "source": [
    "## Apply stretching to data\n",
    "\n",
    "\n",
    "1. To `remove_jumps` df\n",
    "\n",
    "2. Next, to `remove_jumps_la` df"
   ]
  },
  {
   "cell_type": "code",
   "execution_count": 66,
   "metadata": {},
   "outputs": [
    {
     "data": {
      "text/plain": [
       "300"
      ]
     },
     "execution_count": 66,
     "metadata": {},
     "output_type": "execute_result"
    }
   ],
   "source": [
    "df_list = [get_satellite_data(remove_jumps,i) for i in sat_t1]\n",
    "len(df_list)"
   ]
  },
  {
   "cell_type": "code",
   "execution_count": 67,
   "metadata": {},
   "outputs": [
    {
     "data": {
      "text/html": [
       "<div>\n",
       "<style scoped>\n",
       "    .dataframe tbody tr th:only-of-type {\n",
       "        vertical-align: middle;\n",
       "    }\n",
       "\n",
       "    .dataframe tbody tr th {\n",
       "        vertical-align: top;\n",
       "    }\n",
       "\n",
       "    .dataframe thead th {\n",
       "        text-align: right;\n",
       "    }\n",
       "</style>\n",
       "<table border=\"1\" class=\"dataframe\">\n",
       "  <thead>\n",
       "    <tr style=\"text-align: right;\">\n",
       "      <th></th>\n",
       "      <th>epoch</th>\n",
       "      <th>sat_id</th>\n",
       "      <th>x</th>\n",
       "      <th>y</th>\n",
       "      <th>z</th>\n",
       "      <th>Vx</th>\n",
       "      <th>Vy</th>\n",
       "      <th>Vz</th>\n",
       "      <th>x_sim</th>\n",
       "      <th>y_sim</th>\n",
       "      <th>z_sim</th>\n",
       "      <th>Vx_sim</th>\n",
       "      <th>Vy_sim</th>\n",
       "      <th>Vz_sim</th>\n",
       "      <th>time</th>\n",
       "      <th>t</th>\n",
       "      <th>dt</th>\n",
       "    </tr>\n",
       "    <tr>\n",
       "      <th>id</th>\n",
       "      <th></th>\n",
       "      <th></th>\n",
       "      <th></th>\n",
       "      <th></th>\n",
       "      <th></th>\n",
       "      <th></th>\n",
       "      <th></th>\n",
       "      <th></th>\n",
       "      <th></th>\n",
       "      <th></th>\n",
       "      <th></th>\n",
       "      <th></th>\n",
       "      <th></th>\n",
       "      <th></th>\n",
       "      <th></th>\n",
       "      <th></th>\n",
       "      <th></th>\n",
       "    </tr>\n",
       "  </thead>\n",
       "  <tbody>\n",
       "    <tr>\n",
       "      <th>1231060</th>\n",
       "      <td>1.393565e+18</td>\n",
       "      <td>597</td>\n",
       "      <td>NaN</td>\n",
       "      <td>NaN</td>\n",
       "      <td>NaN</td>\n",
       "      <td>NaN</td>\n",
       "      <td>NaN</td>\n",
       "      <td>NaN</td>\n",
       "      <td>77054.582572</td>\n",
       "      <td>-59078.354514</td>\n",
       "      <td>-568.800871</td>\n",
       "      <td>-0.803702</td>\n",
       "      <td>-1.297028</td>\n",
       "      <td>0.163600</td>\n",
       "      <td>2014-02-28T05:19:01.386</td>\n",
       "      <td>58.221544</td>\n",
       "      <td>0.085244</td>\n",
       "    </tr>\n",
       "    <tr>\n",
       "      <th>1231061</th>\n",
       "      <td>1.393572e+18</td>\n",
       "      <td>597</td>\n",
       "      <td>NaN</td>\n",
       "      <td>NaN</td>\n",
       "      <td>NaN</td>\n",
       "      <td>NaN</td>\n",
       "      <td>NaN</td>\n",
       "      <td>NaN</td>\n",
       "      <td>70256.332335</td>\n",
       "      <td>-67906.739391</td>\n",
       "      <td>638.268409</td>\n",
       "      <td>-1.037560</td>\n",
       "      <td>-1.095490</td>\n",
       "      <td>0.163476</td>\n",
       "      <td>2014-02-28T07:21:46.454</td>\n",
       "      <td>58.306788</td>\n",
       "      <td>0.085244</td>\n",
       "    </tr>\n",
       "    <tr>\n",
       "      <th>1231062</th>\n",
       "      <td>1.393579e+18</td>\n",
       "      <td>597</td>\n",
       "      <td>NaN</td>\n",
       "      <td>NaN</td>\n",
       "      <td>NaN</td>\n",
       "      <td>NaN</td>\n",
       "      <td>NaN</td>\n",
       "      <td>NaN</td>\n",
       "      <td>61829.238915</td>\n",
       "      <td>-75160.476673</td>\n",
       "      <td>1830.266511</td>\n",
       "      <td>-1.246389</td>\n",
       "      <td>-0.869204</td>\n",
       "      <td>0.159549</td>\n",
       "      <td>2014-02-28T09:24:31.522</td>\n",
       "      <td>58.392032</td>\n",
       "      <td>0.085244</td>\n",
       "    </tr>\n",
       "    <tr>\n",
       "      <th>1231063</th>\n",
       "      <td>1.393587e+18</td>\n",
       "      <td>597</td>\n",
       "      <td>NaN</td>\n",
       "      <td>NaN</td>\n",
       "      <td>NaN</td>\n",
       "      <td>NaN</td>\n",
       "      <td>NaN</td>\n",
       "      <td>NaN</td>\n",
       "      <td>51953.463644</td>\n",
       "      <td>-80650.378576</td>\n",
       "      <td>2978.927754</td>\n",
       "      <td>-1.431064</td>\n",
       "      <td>-0.616020</td>\n",
       "      <td>0.151705</td>\n",
       "      <td>2014-02-28T11:27:16.590</td>\n",
       "      <td>58.477275</td>\n",
       "      <td>0.085244</td>\n",
       "    </tr>\n",
       "    <tr>\n",
       "      <th>1231064</th>\n",
       "      <td>1.393594e+18</td>\n",
       "      <td>597</td>\n",
       "      <td>NaN</td>\n",
       "      <td>NaN</td>\n",
       "      <td>NaN</td>\n",
       "      <td>NaN</td>\n",
       "      <td>NaN</td>\n",
       "      <td>NaN</td>\n",
       "      <td>40809.611234</td>\n",
       "      <td>-84165.238391</td>\n",
       "      <td>4054.152281</td>\n",
       "      <td>-1.590525</td>\n",
       "      <td>-0.332080</td>\n",
       "      <td>0.139551</td>\n",
       "      <td>2014-02-28T13:30:01.658</td>\n",
       "      <td>58.562519</td>\n",
       "      <td>0.085244</td>\n",
       "    </tr>\n",
       "  </tbody>\n",
       "</table>\n",
       "</div>"
      ],
      "text/plain": [
       "                epoch  sat_id   x   y   z  Vx  Vy  Vz         x_sim  \\\n",
       "id                                                                    \n",
       "1231060  1.393565e+18     597 NaN NaN NaN NaN NaN NaN  77054.582572   \n",
       "1231061  1.393572e+18     597 NaN NaN NaN NaN NaN NaN  70256.332335   \n",
       "1231062  1.393579e+18     597 NaN NaN NaN NaN NaN NaN  61829.238915   \n",
       "1231063  1.393587e+18     597 NaN NaN NaN NaN NaN NaN  51953.463644   \n",
       "1231064  1.393594e+18     597 NaN NaN NaN NaN NaN NaN  40809.611234   \n",
       "\n",
       "                y_sim        z_sim    Vx_sim    Vy_sim    Vz_sim  \\\n",
       "id                                                                 \n",
       "1231060 -59078.354514  -568.800871 -0.803702 -1.297028  0.163600   \n",
       "1231061 -67906.739391   638.268409 -1.037560 -1.095490  0.163476   \n",
       "1231062 -75160.476673  1830.266511 -1.246389 -0.869204  0.159549   \n",
       "1231063 -80650.378576  2978.927754 -1.431064 -0.616020  0.151705   \n",
       "1231064 -84165.238391  4054.152281 -1.590525 -0.332080  0.139551   \n",
       "\n",
       "                            time          t        dt  \n",
       "id                                                     \n",
       "1231060  2014-02-28T05:19:01.386  58.221544  0.085244  \n",
       "1231061  2014-02-28T07:21:46.454  58.306788  0.085244  \n",
       "1231062  2014-02-28T09:24:31.522  58.392032  0.085244  \n",
       "1231063  2014-02-28T11:27:16.590  58.477275  0.085244  \n",
       "1231064  2014-02-28T13:30:01.658  58.562519  0.085244  "
      ]
     },
     "execution_count": 67,
     "metadata": {},
     "output_type": "execute_result"
    }
   ],
   "source": [
    "#horizontal stretch\n",
    "for df in df_list:\n",
    "    df = stretch_simulated_feats(df,stretch_dict_vel[str(int(df['sat_id'].unique()))],true_feats='velocity',suffix='_sim')\n",
    "    df = stretch_simulated_feats(df,stretch_dict_pos[str(int(df['sat_id'].unique()))],true_feats='position',suffix='_sim')\n",
    "df.tail()"
   ]
  },
  {
   "cell_type": "code",
   "execution_count": 68,
   "metadata": {},
   "outputs": [
    {
     "data": {
      "text/html": [
       "<div>\n",
       "<style scoped>\n",
       "    .dataframe tbody tr th:only-of-type {\n",
       "        vertical-align: middle;\n",
       "    }\n",
       "\n",
       "    .dataframe tbody tr th {\n",
       "        vertical-align: top;\n",
       "    }\n",
       "\n",
       "    .dataframe thead th {\n",
       "        text-align: right;\n",
       "    }\n",
       "</style>\n",
       "<table border=\"1\" class=\"dataframe\">\n",
       "  <thead>\n",
       "    <tr style=\"text-align: right;\">\n",
       "      <th></th>\n",
       "      <th>epoch</th>\n",
       "      <th>sat_id</th>\n",
       "      <th>x</th>\n",
       "      <th>y</th>\n",
       "      <th>z</th>\n",
       "      <th>Vx</th>\n",
       "      <th>Vy</th>\n",
       "      <th>Vz</th>\n",
       "      <th>x_sim</th>\n",
       "      <th>y_sim</th>\n",
       "      <th>z_sim</th>\n",
       "      <th>Vx_sim</th>\n",
       "      <th>Vy_sim</th>\n",
       "      <th>Vz_sim</th>\n",
       "      <th>time</th>\n",
       "      <th>t</th>\n",
       "      <th>dt</th>\n",
       "    </tr>\n",
       "    <tr>\n",
       "      <th>id</th>\n",
       "      <th></th>\n",
       "      <th></th>\n",
       "      <th></th>\n",
       "      <th></th>\n",
       "      <th></th>\n",
       "      <th></th>\n",
       "      <th></th>\n",
       "      <th></th>\n",
       "      <th></th>\n",
       "      <th></th>\n",
       "      <th></th>\n",
       "      <th></th>\n",
       "      <th></th>\n",
       "      <th></th>\n",
       "      <th></th>\n",
       "      <th></th>\n",
       "      <th></th>\n",
       "    </tr>\n",
       "  </thead>\n",
       "  <tbody>\n",
       "    <tr>\n",
       "      <th>1231060</th>\n",
       "      <td>1.393565e+18</td>\n",
       "      <td>597</td>\n",
       "      <td>NaN</td>\n",
       "      <td>NaN</td>\n",
       "      <td>NaN</td>\n",
       "      <td>NaN</td>\n",
       "      <td>NaN</td>\n",
       "      <td>NaN</td>\n",
       "      <td>77054.582572</td>\n",
       "      <td>-59078.354514</td>\n",
       "      <td>-568.800871</td>\n",
       "      <td>-0.803702</td>\n",
       "      <td>-1.297028</td>\n",
       "      <td>0.163600</td>\n",
       "      <td>2014-02-28T05:19:01.386</td>\n",
       "      <td>58.221544</td>\n",
       "      <td>0.085244</td>\n",
       "    </tr>\n",
       "    <tr>\n",
       "      <th>1231061</th>\n",
       "      <td>1.393572e+18</td>\n",
       "      <td>597</td>\n",
       "      <td>NaN</td>\n",
       "      <td>NaN</td>\n",
       "      <td>NaN</td>\n",
       "      <td>NaN</td>\n",
       "      <td>NaN</td>\n",
       "      <td>NaN</td>\n",
       "      <td>70256.332335</td>\n",
       "      <td>-67906.739391</td>\n",
       "      <td>638.268409</td>\n",
       "      <td>-1.037560</td>\n",
       "      <td>-1.095490</td>\n",
       "      <td>0.163476</td>\n",
       "      <td>2014-02-28T07:21:46.454</td>\n",
       "      <td>58.306788</td>\n",
       "      <td>0.085244</td>\n",
       "    </tr>\n",
       "    <tr>\n",
       "      <th>1231062</th>\n",
       "      <td>1.393579e+18</td>\n",
       "      <td>597</td>\n",
       "      <td>NaN</td>\n",
       "      <td>NaN</td>\n",
       "      <td>NaN</td>\n",
       "      <td>NaN</td>\n",
       "      <td>NaN</td>\n",
       "      <td>NaN</td>\n",
       "      <td>61829.238915</td>\n",
       "      <td>-75160.476673</td>\n",
       "      <td>1830.266511</td>\n",
       "      <td>-1.246389</td>\n",
       "      <td>-0.869204</td>\n",
       "      <td>0.159549</td>\n",
       "      <td>2014-02-28T09:24:31.522</td>\n",
       "      <td>58.392032</td>\n",
       "      <td>0.085244</td>\n",
       "    </tr>\n",
       "    <tr>\n",
       "      <th>1231063</th>\n",
       "      <td>1.393587e+18</td>\n",
       "      <td>597</td>\n",
       "      <td>NaN</td>\n",
       "      <td>NaN</td>\n",
       "      <td>NaN</td>\n",
       "      <td>NaN</td>\n",
       "      <td>NaN</td>\n",
       "      <td>NaN</td>\n",
       "      <td>51953.463644</td>\n",
       "      <td>-80650.378576</td>\n",
       "      <td>2978.927754</td>\n",
       "      <td>-1.431064</td>\n",
       "      <td>-0.616020</td>\n",
       "      <td>0.151705</td>\n",
       "      <td>2014-02-28T11:27:16.590</td>\n",
       "      <td>58.477275</td>\n",
       "      <td>0.085244</td>\n",
       "    </tr>\n",
       "    <tr>\n",
       "      <th>1231064</th>\n",
       "      <td>1.393594e+18</td>\n",
       "      <td>597</td>\n",
       "      <td>NaN</td>\n",
       "      <td>NaN</td>\n",
       "      <td>NaN</td>\n",
       "      <td>NaN</td>\n",
       "      <td>NaN</td>\n",
       "      <td>NaN</td>\n",
       "      <td>40809.611234</td>\n",
       "      <td>-84165.238391</td>\n",
       "      <td>4054.152281</td>\n",
       "      <td>-1.590525</td>\n",
       "      <td>-0.332080</td>\n",
       "      <td>0.139551</td>\n",
       "      <td>2014-02-28T13:30:01.658</td>\n",
       "      <td>58.562519</td>\n",
       "      <td>0.085244</td>\n",
       "    </tr>\n",
       "  </tbody>\n",
       "</table>\n",
       "</div>"
      ],
      "text/plain": [
       "                epoch  sat_id   x   y   z  Vx  Vy  Vz         x_sim  \\\n",
       "id                                                                    \n",
       "1231060  1.393565e+18     597 NaN NaN NaN NaN NaN NaN  77054.582572   \n",
       "1231061  1.393572e+18     597 NaN NaN NaN NaN NaN NaN  70256.332335   \n",
       "1231062  1.393579e+18     597 NaN NaN NaN NaN NaN NaN  61829.238915   \n",
       "1231063  1.393587e+18     597 NaN NaN NaN NaN NaN NaN  51953.463644   \n",
       "1231064  1.393594e+18     597 NaN NaN NaN NaN NaN NaN  40809.611234   \n",
       "\n",
       "                y_sim        z_sim    Vx_sim    Vy_sim    Vz_sim  \\\n",
       "id                                                                 \n",
       "1231060 -59078.354514  -568.800871 -0.803702 -1.297028  0.163600   \n",
       "1231061 -67906.739391   638.268409 -1.037560 -1.095490  0.163476   \n",
       "1231062 -75160.476673  1830.266511 -1.246389 -0.869204  0.159549   \n",
       "1231063 -80650.378576  2978.927754 -1.431064 -0.616020  0.151705   \n",
       "1231064 -84165.238391  4054.152281 -1.590525 -0.332080  0.139551   \n",
       "\n",
       "                            time          t        dt  \n",
       "id                                                     \n",
       "1231060  2014-02-28T05:19:01.386  58.221544  0.085244  \n",
       "1231061  2014-02-28T07:21:46.454  58.306788  0.085244  \n",
       "1231062  2014-02-28T09:24:31.522  58.392032  0.085244  \n",
       "1231063  2014-02-28T11:27:16.590  58.477275  0.085244  \n",
       "1231064  2014-02-28T13:30:01.658  58.562519  0.085244  "
      ]
     },
     "execution_count": 68,
     "metadata": {},
     "output_type": "execute_result"
    }
   ],
   "source": [
    "#amplitude stretch\n",
    "for df in df_list:\n",
    "    for dim in ['Vx','Vy','Vz']:\n",
    "        #print(dim)\n",
    "        amp = amp_dict_vel[dim][str(int(df['sat_id'].unique()))]\n",
    "        #print(amp)\n",
    "        df['{}_sim'.format(dim)] = amp*df['{}_sim'.format(dim)]\n",
    "    for dim in ['x','y','z']:\n",
    "        amp = amp_dict_pos[dim][str(int(df['sat_id'].unique()))]\n",
    "        df['{}_sim'.format(dim)] = amp*df['{}_sim'.format(dim)]\n",
    "df.tail()"
   ]
  },
  {
   "cell_type": "code",
   "execution_count": 69,
   "metadata": {},
   "outputs": [],
   "source": [
    "remove_jumps_stretch = pd.concat(df_list,axis=0,sort=False)"
   ]
  },
  {
   "cell_type": "code",
   "execution_count": 70,
   "metadata": {},
   "outputs": [],
   "source": [
    "remove_jumps_stretch_train = remove_jumps_stretch.drop('dt',axis=1).dropna()"
   ]
  },
  {
   "cell_type": "code",
   "execution_count": 71,
   "metadata": {},
   "outputs": [
    {
     "data": {
      "text/plain": [
       "True"
      ]
     },
     "execution_count": 71,
     "metadata": {},
     "output_type": "execute_result"
    }
   ],
   "source": [
    "remove_jumps_stretch_test = remove_jumps_stretch.loc[~remove_jumps_stretch.index.isin\n",
    "                                           (remove_jumps_stretch_train.dropna().index)]\n",
    "remove_jumps_stretch_train.index.equals(data.index)\n",
    "remove_jumps_stretch_test.index.equals(test_data.index)"
   ]
  },
  {
   "cell_type": "code",
   "execution_count": 72,
   "metadata": {},
   "outputs": [],
   "source": [
    "smape_remove_jumps_stretch = []\n",
    "for sat in sat_t1:\n",
    "    d = get_satellite_data(remove_jumps_stretch_train,sat)\n",
    "    m = int(0.7*d.shape[0])\n",
    "    smape_remove_jumps_stretch.append(smape(d[feature_list][m:].to_numpy(),d[target_list][m:].to_numpy()))"
   ]
  },
  {
   "cell_type": "markdown",
   "metadata": {},
   "source": [
    "Now LA and stretch"
   ]
  },
  {
   "cell_type": "code",
   "execution_count": 73,
   "metadata": {},
   "outputs": [
    {
     "data": {
      "text/plain": [
       "300"
      ]
     },
     "execution_count": 73,
     "metadata": {},
     "output_type": "execute_result"
    }
   ],
   "source": [
    "df_list = [get_satellite_data(remove_jumps_la,i) for i in sat_t1]\n",
    "len(df_list)"
   ]
  },
  {
   "cell_type": "code",
   "execution_count": 74,
   "metadata": {},
   "outputs": [
    {
     "data": {
      "text/html": [
       "<div>\n",
       "<style scoped>\n",
       "    .dataframe tbody tr th:only-of-type {\n",
       "        vertical-align: middle;\n",
       "    }\n",
       "\n",
       "    .dataframe tbody tr th {\n",
       "        vertical-align: top;\n",
       "    }\n",
       "\n",
       "    .dataframe thead th {\n",
       "        text-align: right;\n",
       "    }\n",
       "</style>\n",
       "<table border=\"1\" class=\"dataframe\">\n",
       "  <thead>\n",
       "    <tr style=\"text-align: right;\">\n",
       "      <th></th>\n",
       "      <th>epoch</th>\n",
       "      <th>t</th>\n",
       "      <th>sat_id</th>\n",
       "      <th>x_sim</th>\n",
       "      <th>x</th>\n",
       "      <th>y_sim</th>\n",
       "      <th>y</th>\n",
       "      <th>z_sim</th>\n",
       "      <th>z</th>\n",
       "      <th>Vx_sim</th>\n",
       "      <th>Vx</th>\n",
       "      <th>Vy_sim</th>\n",
       "      <th>Vy</th>\n",
       "      <th>Vz_sim</th>\n",
       "      <th>Vz</th>\n",
       "    </tr>\n",
       "    <tr>\n",
       "      <th>id</th>\n",
       "      <th></th>\n",
       "      <th></th>\n",
       "      <th></th>\n",
       "      <th></th>\n",
       "      <th></th>\n",
       "      <th></th>\n",
       "      <th></th>\n",
       "      <th></th>\n",
       "      <th></th>\n",
       "      <th></th>\n",
       "      <th></th>\n",
       "      <th></th>\n",
       "      <th></th>\n",
       "      <th></th>\n",
       "      <th></th>\n",
       "    </tr>\n",
       "  </thead>\n",
       "  <tbody>\n",
       "    <tr>\n",
       "      <th>1231060</th>\n",
       "      <td>1.393565e+18</td>\n",
       "      <td>58.221544</td>\n",
       "      <td>597</td>\n",
       "      <td>76906.939308</td>\n",
       "      <td>NaN</td>\n",
       "      <td>-59236.403348</td>\n",
       "      <td>NaN</td>\n",
       "      <td>-535.523943</td>\n",
       "      <td>NaN</td>\n",
       "      <td>-0.807110</td>\n",
       "      <td>NaN</td>\n",
       "      <td>-1.292839</td>\n",
       "      <td>NaN</td>\n",
       "      <td>0.163711</td>\n",
       "      <td>NaN</td>\n",
       "    </tr>\n",
       "    <tr>\n",
       "      <th>1231061</th>\n",
       "      <td>1.393572e+18</td>\n",
       "      <td>58.306788</td>\n",
       "      <td>597</td>\n",
       "      <td>70065.693017</td>\n",
       "      <td>NaN</td>\n",
       "      <td>-68040.376910</td>\n",
       "      <td>NaN</td>\n",
       "      <td>671.553602</td>\n",
       "      <td>NaN</td>\n",
       "      <td>-1.040613</td>\n",
       "      <td>NaN</td>\n",
       "      <td>-1.090759</td>\n",
       "      <td>NaN</td>\n",
       "      <td>0.163333</td>\n",
       "      <td>NaN</td>\n",
       "    </tr>\n",
       "    <tr>\n",
       "      <th>1231062</th>\n",
       "      <td>1.393579e+18</td>\n",
       "      <td>58.392032</td>\n",
       "      <td>597</td>\n",
       "      <td>61600.061178</td>\n",
       "      <td>NaN</td>\n",
       "      <td>-75266.613847</td>\n",
       "      <td>NaN</td>\n",
       "      <td>1862.786813</td>\n",
       "      <td>NaN</td>\n",
       "      <td>-1.249111</td>\n",
       "      <td>NaN</td>\n",
       "      <td>-0.863900</td>\n",
       "      <td>NaN</td>\n",
       "      <td>0.159153</td>\n",
       "      <td>NaN</td>\n",
       "    </tr>\n",
       "    <tr>\n",
       "      <th>1231063</th>\n",
       "      <td>1.393587e+18</td>\n",
       "      <td>58.477275</td>\n",
       "      <td>597</td>\n",
       "      <td>51690.108564</td>\n",
       "      <td>NaN</td>\n",
       "      <td>-80725.590472</td>\n",
       "      <td>NaN</td>\n",
       "      <td>3009.871459</td>\n",
       "      <td>NaN</td>\n",
       "      <td>-1.433450</td>\n",
       "      <td>NaN</td>\n",
       "      <td>-0.610073</td>\n",
       "      <td>NaN</td>\n",
       "      <td>0.151035</td>\n",
       "      <td>NaN</td>\n",
       "    </tr>\n",
       "    <tr>\n",
       "      <th>1231064</th>\n",
       "      <td>1.393594e+18</td>\n",
       "      <td>58.562519</td>\n",
       "      <td>597</td>\n",
       "      <td>40516.510035</td>\n",
       "      <td>NaN</td>\n",
       "      <td>-84205.829605</td>\n",
       "      <td>NaN</td>\n",
       "      <td>4082.665626</td>\n",
       "      <td>NaN</td>\n",
       "      <td>-1.592554</td>\n",
       "      <td>NaN</td>\n",
       "      <td>-0.325392</td>\n",
       "      <td>NaN</td>\n",
       "      <td>0.138577</td>\n",
       "      <td>NaN</td>\n",
       "    </tr>\n",
       "  </tbody>\n",
       "</table>\n",
       "</div>"
      ],
      "text/plain": [
       "                epoch          t  sat_id         x_sim   x         y_sim   y  \\\n",
       "id                                                                             \n",
       "1231060  1.393565e+18  58.221544     597  76906.939308 NaN -59236.403348 NaN   \n",
       "1231061  1.393572e+18  58.306788     597  70065.693017 NaN -68040.376910 NaN   \n",
       "1231062  1.393579e+18  58.392032     597  61600.061178 NaN -75266.613847 NaN   \n",
       "1231063  1.393587e+18  58.477275     597  51690.108564 NaN -80725.590472 NaN   \n",
       "1231064  1.393594e+18  58.562519     597  40516.510035 NaN -84205.829605 NaN   \n",
       "\n",
       "               z_sim   z    Vx_sim  Vx    Vy_sim  Vy    Vz_sim  Vz  \n",
       "id                                                                  \n",
       "1231060  -535.523943 NaN -0.807110 NaN -1.292839 NaN  0.163711 NaN  \n",
       "1231061   671.553602 NaN -1.040613 NaN -1.090759 NaN  0.163333 NaN  \n",
       "1231062  1862.786813 NaN -1.249111 NaN -0.863900 NaN  0.159153 NaN  \n",
       "1231063  3009.871459 NaN -1.433450 NaN -0.610073 NaN  0.151035 NaN  \n",
       "1231064  4082.665626 NaN -1.592554 NaN -0.325392 NaN  0.138577 NaN  "
      ]
     },
     "execution_count": 74,
     "metadata": {},
     "output_type": "execute_result"
    }
   ],
   "source": [
    "#horizontal stretch\n",
    "for df in df_list:\n",
    "    df = stretch_simulated_feats(df,stretch_dict_la_vel[str(int(df['sat_id'].unique()))],true_feats='velocity',suffix='_sim')\n",
    "    df = stretch_simulated_feats(df,stretch_dict_la_pos[str(int(df['sat_id'].unique()))],true_feats='position',suffix='_sim')\n",
    "df.tail()"
   ]
  },
  {
   "cell_type": "code",
   "execution_count": 75,
   "metadata": {},
   "outputs": [],
   "source": [
    "#amplitude stretch\n",
    "for df in df_list:\n",
    "    for dim in ['Vx','Vy','Vz']:\n",
    "        #print(dim)\n",
    "        amp = amp_dict_la_vel[dim][str(int(df['sat_id'].unique()))]\n",
    "        #print(amp)\n",
    "        df['{}_sim'.format(dim)] = amp*df['{}_sim'.format(dim)]\n",
    "    for dim in ['x','y','z']:\n",
    "        amp = amp_dict_la_pos[dim][str(int(df['sat_id'].unique()))]\n",
    "        df['{}_sim'.format(dim)] = amp*df['{}_sim'.format(dim)]"
   ]
  },
  {
   "cell_type": "code",
   "execution_count": 76,
   "metadata": {},
   "outputs": [
    {
     "data": {
      "text/html": [
       "<div>\n",
       "<style scoped>\n",
       "    .dataframe tbody tr th:only-of-type {\n",
       "        vertical-align: middle;\n",
       "    }\n",
       "\n",
       "    .dataframe tbody tr th {\n",
       "        vertical-align: top;\n",
       "    }\n",
       "\n",
       "    .dataframe thead th {\n",
       "        text-align: right;\n",
       "    }\n",
       "</style>\n",
       "<table border=\"1\" class=\"dataframe\">\n",
       "  <thead>\n",
       "    <tr style=\"text-align: right;\">\n",
       "      <th></th>\n",
       "      <th>epoch</th>\n",
       "      <th>t</th>\n",
       "      <th>sat_id</th>\n",
       "      <th>x_sim</th>\n",
       "      <th>x</th>\n",
       "      <th>y_sim</th>\n",
       "      <th>y</th>\n",
       "      <th>z_sim</th>\n",
       "      <th>z</th>\n",
       "      <th>Vx_sim</th>\n",
       "      <th>Vx</th>\n",
       "      <th>Vy_sim</th>\n",
       "      <th>Vy</th>\n",
       "      <th>Vz_sim</th>\n",
       "      <th>Vz</th>\n",
       "    </tr>\n",
       "    <tr>\n",
       "      <th>id</th>\n",
       "      <th></th>\n",
       "      <th></th>\n",
       "      <th></th>\n",
       "      <th></th>\n",
       "      <th></th>\n",
       "      <th></th>\n",
       "      <th></th>\n",
       "      <th></th>\n",
       "      <th></th>\n",
       "      <th></th>\n",
       "      <th></th>\n",
       "      <th></th>\n",
       "      <th></th>\n",
       "      <th></th>\n",
       "      <th></th>\n",
       "    </tr>\n",
       "  </thead>\n",
       "  <tbody>\n",
       "    <tr>\n",
       "      <th>1231060</th>\n",
       "      <td>1.393565e+18</td>\n",
       "      <td>58.221544</td>\n",
       "      <td>597</td>\n",
       "      <td>76906.939308</td>\n",
       "      <td>NaN</td>\n",
       "      <td>-59236.403348</td>\n",
       "      <td>NaN</td>\n",
       "      <td>-535.523943</td>\n",
       "      <td>NaN</td>\n",
       "      <td>-0.807110</td>\n",
       "      <td>NaN</td>\n",
       "      <td>-1.292839</td>\n",
       "      <td>NaN</td>\n",
       "      <td>0.163711</td>\n",
       "      <td>NaN</td>\n",
       "    </tr>\n",
       "    <tr>\n",
       "      <th>1231061</th>\n",
       "      <td>1.393572e+18</td>\n",
       "      <td>58.306788</td>\n",
       "      <td>597</td>\n",
       "      <td>70065.693017</td>\n",
       "      <td>NaN</td>\n",
       "      <td>-68040.376910</td>\n",
       "      <td>NaN</td>\n",
       "      <td>671.553602</td>\n",
       "      <td>NaN</td>\n",
       "      <td>-1.040613</td>\n",
       "      <td>NaN</td>\n",
       "      <td>-1.090759</td>\n",
       "      <td>NaN</td>\n",
       "      <td>0.163333</td>\n",
       "      <td>NaN</td>\n",
       "    </tr>\n",
       "    <tr>\n",
       "      <th>1231062</th>\n",
       "      <td>1.393579e+18</td>\n",
       "      <td>58.392032</td>\n",
       "      <td>597</td>\n",
       "      <td>61600.061178</td>\n",
       "      <td>NaN</td>\n",
       "      <td>-75266.613847</td>\n",
       "      <td>NaN</td>\n",
       "      <td>1862.786813</td>\n",
       "      <td>NaN</td>\n",
       "      <td>-1.249111</td>\n",
       "      <td>NaN</td>\n",
       "      <td>-0.863900</td>\n",
       "      <td>NaN</td>\n",
       "      <td>0.159153</td>\n",
       "      <td>NaN</td>\n",
       "    </tr>\n",
       "    <tr>\n",
       "      <th>1231063</th>\n",
       "      <td>1.393587e+18</td>\n",
       "      <td>58.477275</td>\n",
       "      <td>597</td>\n",
       "      <td>51690.108564</td>\n",
       "      <td>NaN</td>\n",
       "      <td>-80725.590472</td>\n",
       "      <td>NaN</td>\n",
       "      <td>3009.871459</td>\n",
       "      <td>NaN</td>\n",
       "      <td>-1.433450</td>\n",
       "      <td>NaN</td>\n",
       "      <td>-0.610073</td>\n",
       "      <td>NaN</td>\n",
       "      <td>0.151035</td>\n",
       "      <td>NaN</td>\n",
       "    </tr>\n",
       "    <tr>\n",
       "      <th>1231064</th>\n",
       "      <td>1.393594e+18</td>\n",
       "      <td>58.562519</td>\n",
       "      <td>597</td>\n",
       "      <td>40516.510035</td>\n",
       "      <td>NaN</td>\n",
       "      <td>-84205.829605</td>\n",
       "      <td>NaN</td>\n",
       "      <td>4082.665626</td>\n",
       "      <td>NaN</td>\n",
       "      <td>-1.592554</td>\n",
       "      <td>NaN</td>\n",
       "      <td>-0.325392</td>\n",
       "      <td>NaN</td>\n",
       "      <td>0.138577</td>\n",
       "      <td>NaN</td>\n",
       "    </tr>\n",
       "  </tbody>\n",
       "</table>\n",
       "</div>"
      ],
      "text/plain": [
       "                epoch          t  sat_id         x_sim   x         y_sim   y  \\\n",
       "id                                                                             \n",
       "1231060  1.393565e+18  58.221544     597  76906.939308 NaN -59236.403348 NaN   \n",
       "1231061  1.393572e+18  58.306788     597  70065.693017 NaN -68040.376910 NaN   \n",
       "1231062  1.393579e+18  58.392032     597  61600.061178 NaN -75266.613847 NaN   \n",
       "1231063  1.393587e+18  58.477275     597  51690.108564 NaN -80725.590472 NaN   \n",
       "1231064  1.393594e+18  58.562519     597  40516.510035 NaN -84205.829605 NaN   \n",
       "\n",
       "               z_sim   z    Vx_sim  Vx    Vy_sim  Vy    Vz_sim  Vz  \n",
       "id                                                                  \n",
       "1231060  -535.523943 NaN -0.807110 NaN -1.292839 NaN  0.163711 NaN  \n",
       "1231061   671.553602 NaN -1.040613 NaN -1.090759 NaN  0.163333 NaN  \n",
       "1231062  1862.786813 NaN -1.249111 NaN -0.863900 NaN  0.159153 NaN  \n",
       "1231063  3009.871459 NaN -1.433450 NaN -0.610073 NaN  0.151035 NaN  \n",
       "1231064  4082.665626 NaN -1.592554 NaN -0.325392 NaN  0.138577 NaN  "
      ]
     },
     "execution_count": 76,
     "metadata": {},
     "output_type": "execute_result"
    }
   ],
   "source": [
    "df.tail()"
   ]
  },
  {
   "cell_type": "code",
   "execution_count": 77,
   "metadata": {},
   "outputs": [],
   "source": [
    "remove_jumps_la_stretch = pd.concat(df_list,axis=0,sort=False)"
   ]
  },
  {
   "cell_type": "code",
   "execution_count": 78,
   "metadata": {},
   "outputs": [],
   "source": [
    "remove_jumps_la_stretch_train = remove_jumps_la_stretch.dropna()"
   ]
  },
  {
   "cell_type": "code",
   "execution_count": 79,
   "metadata": {},
   "outputs": [
    {
     "data": {
      "text/plain": [
       "True"
      ]
     },
     "execution_count": 79,
     "metadata": {},
     "output_type": "execute_result"
    }
   ],
   "source": [
    "remove_jumps_la_stretch_test = remove_jumps_la_stretch.loc[~remove_jumps_la_stretch.index.isin\n",
    "                                           (remove_jumps_la_stretch_train.dropna().index)]\n",
    "remove_jumps_la_stretch_train.index.equals(data.index)\n",
    "remove_jumps_la_stretch_test.index.equals(test_data.index)"
   ]
  },
  {
   "cell_type": "code",
   "execution_count": 80,
   "metadata": {},
   "outputs": [],
   "source": [
    "smape_remove_jumps_la_stretch = []\n",
    "for sat in sat_t1:\n",
    "    d = get_satellite_data(remove_jumps_la_stretch_train,sat)\n",
    "    m = int(0.7*d.shape[0])\n",
    "    smape_remove_jumps_la_stretch.append(smape(d[feature_list][m:].to_numpy(),d[target_list][m:].to_numpy()))"
   ]
  },
  {
   "cell_type": "markdown",
   "metadata": {},
   "source": [
    "### Smape for orignal simulation"
   ]
  },
  {
   "cell_type": "code",
   "execution_count": 81,
   "metadata": {},
   "outputs": [],
   "source": [
    "smape_original = []\n",
    "for sat in sat_t1:\n",
    "    d = get_satellite_data(data,sat)\n",
    "    m = int(0.7*d.shape[0])\n",
    "    smape_original.append(smape(d[feature_list][m:].to_numpy(),d[target_list][m:].to_numpy()))"
   ]
  },
  {
   "cell_type": "markdown",
   "metadata": {},
   "source": [
    "### Remove jumps, stretch, then do LA\n",
    "\n",
    "First two pieces already in `remove_jumps_stretch` df."
   ]
  },
  {
   "cell_type": "code",
   "execution_count": 82,
   "metadata": {},
   "outputs": [
    {
     "name": "stderr",
     "output_type": "stream",
     "text": [
      "100%|████████████████████████████████████████████████████████████████████████████████| 300/300 [02:47<00:00,  1.65it/s]\n"
     ]
    }
   ],
   "source": [
    "alignment_model = LinearAlignment()\n",
    "stretch_la_df = pd.DataFrame([])\n",
    "for sat_id in tqdm(sat_t1):\n",
    "    try:\n",
    "        sat_data = get_satellite_data(remove_jumps_stretch, sat_id)\n",
    "        n_first = sat_data.shape[0] - sat_data['x'].isnull().sum()\n",
    "        index = sat_data.index\n",
    "        pred = pd.DataFrame(index = index)\n",
    "        sat_data.set_index(index)\n",
    "    except KeyError as e:\n",
    "        print(f'jump removal failed for satellite {sat_id}:\\t{type(e).__name__} {e}')\n",
    "        continue\n",
    "    \n",
    "    \n",
    "    n_train = 4*len(sat_data) // 10\n",
    "    train_sat_data = sat_data[:n_train]\n",
    "    \n",
    "    pred['epoch'] = sat_data['epoch'].values\n",
    "    pred['t'] = sat_data['t'].values\n",
    "    pred['sat_id'] = sat_id\n",
    "    \n",
    "    try:\n",
    "        for feature_name in target_list:\n",
    "            alignment_model.fit(t=train_sat_data['epoch'].values,\n",
    "                                x=-train_sat_data[f'{feature_name}_sim'].values,\n",
    "                                gt=-train_sat_data[feature_name].values)\n",
    "            option1 = alignment_model.predict(t=sat_data['epoch'].values,\n",
    "                                                         x=sat_data[f'{feature_name}_sim'].values)\n",
    "            alignment_model.fit(t=train_sat_data['epoch'].values,\n",
    "                                x= train_sat_data[f'{feature_name}_sim'].values,\n",
    "                                gt= train_sat_data[feature_name].values)\n",
    "\n",
    "            option2 = alignment_model.predict(t=sat_data['epoch'].values,\n",
    "                                                         x=sat_data[f'{feature_name}_sim'].values)\n",
    "\n",
    "            if utils.smape(option1[n_train:n_first],sat_data[feature_name].values[n_train:n_first]) < utils.smape(option2[n_train:n_first],sat_data[feature_name].values[n_train:n_first]):\n",
    "                alignment_model.fit(t=sat_data['epoch'].iloc[:n_first].values,\n",
    "                                x=-sat_data[f'{feature_name}_sim'].iloc[:n_first].values,\n",
    "                                gt=-sat_data[feature_name].iloc[:n_first].values)\n",
    "\n",
    "                pred[f'{feature_name}_sim'] = alignment_model.predict(t=sat_data['epoch'].values,\n",
    "                                                         x=sat_data[f'{feature_name}_sim'].values)\n",
    "            else:\n",
    "                alignment_model.fit(t=sat_data['epoch'].iloc[:n_first].values,\n",
    "                                x=sat_data[f'{feature_name}_sim'].iloc[:n_first].values,\n",
    "                                gt=sat_data[feature_name].iloc[:n_first].values)\n",
    "                pred[f'{feature_name}_sim']  = alignment_model.predict(t=sat_data['epoch'].values,\n",
    "                                                         x=sat_data[f'{feature_name}_sim'].values)\n",
    "\n",
    "            pred.loc[:,feature_name]=sat_data.loc[:, feature_name].values\n",
    "\n",
    "    except Exception as e:\n",
    "        print(f'linear alignment failed for satellite {sat_id}:\\t{type(e).__name__} {e}')\n",
    "        continue\n",
    "    stretch_la_df = stretch_la_df.append(pred)"
   ]
  },
  {
   "cell_type": "code",
   "execution_count": 83,
   "metadata": {},
   "outputs": [
    {
     "data": {
      "text/html": [
       "<div>\n",
       "<style scoped>\n",
       "    .dataframe tbody tr th:only-of-type {\n",
       "        vertical-align: middle;\n",
       "    }\n",
       "\n",
       "    .dataframe tbody tr th {\n",
       "        vertical-align: top;\n",
       "    }\n",
       "\n",
       "    .dataframe thead th {\n",
       "        text-align: right;\n",
       "    }\n",
       "</style>\n",
       "<table border=\"1\" class=\"dataframe\">\n",
       "  <thead>\n",
       "    <tr style=\"text-align: right;\">\n",
       "      <th></th>\n",
       "      <th>epoch</th>\n",
       "      <th>t</th>\n",
       "      <th>sat_id</th>\n",
       "      <th>x_sim</th>\n",
       "      <th>x</th>\n",
       "      <th>y_sim</th>\n",
       "      <th>y</th>\n",
       "      <th>z_sim</th>\n",
       "      <th>z</th>\n",
       "      <th>Vx_sim</th>\n",
       "      <th>Vx</th>\n",
       "      <th>Vy_sim</th>\n",
       "      <th>Vy</th>\n",
       "      <th>Vz_sim</th>\n",
       "      <th>Vz</th>\n",
       "    </tr>\n",
       "    <tr>\n",
       "      <th>id</th>\n",
       "      <th></th>\n",
       "      <th></th>\n",
       "      <th></th>\n",
       "      <th></th>\n",
       "      <th></th>\n",
       "      <th></th>\n",
       "      <th></th>\n",
       "      <th></th>\n",
       "      <th></th>\n",
       "      <th></th>\n",
       "      <th></th>\n",
       "      <th></th>\n",
       "      <th></th>\n",
       "      <th></th>\n",
       "      <th></th>\n",
       "    </tr>\n",
       "  </thead>\n",
       "  <tbody>\n",
       "    <tr>\n",
       "      <th>1819</th>\n",
       "      <td>1.388534e+18</td>\n",
       "      <td>0.000000</td>\n",
       "      <td>1</td>\n",
       "      <td>10405.813755</td>\n",
       "      <td>10390.313089</td>\n",
       "      <td>-2771.180760</td>\n",
       "      <td>-2796.458271</td>\n",
       "      <td>3166.926302</td>\n",
       "      <td>3179.562085</td>\n",
       "      <td>2.508879</td>\n",
       "      <td>2.520477</td>\n",
       "      <td>6.152996</td>\n",
       "      <td>6.149930</td>\n",
       "      <td>-2.826227</td>\n",
       "      <td>-2.827599</td>\n",
       "    </tr>\n",
       "    <tr>\n",
       "      <th>1820</th>\n",
       "      <td>1.388536e+18</td>\n",
       "      <td>0.014720</td>\n",
       "      <td>1</td>\n",
       "      <td>11199.459274</td>\n",
       "      <td>11195.606833</td>\n",
       "      <td>5105.200658</td>\n",
       "      <td>5078.653968</td>\n",
       "      <td>-848.597754</td>\n",
       "      <td>-839.076593</td>\n",
       "      <td>-1.132222</td>\n",
       "      <td>-1.126667</td>\n",
       "      <td>5.822436</td>\n",
       "      <td>5.826412</td>\n",
       "      <td>-3.250054</td>\n",
       "      <td>-3.255872</td>\n",
       "    </tr>\n",
       "    <tr>\n",
       "      <th>1821</th>\n",
       "      <td>1.388537e+18</td>\n",
       "      <td>0.029441</td>\n",
       "      <td>1</td>\n",
       "      <td>8237.279843</td>\n",
       "      <td>8235.556436</td>\n",
       "      <td>11469.206013</td>\n",
       "      <td>11445.904263</td>\n",
       "      <td>-4684.829256</td>\n",
       "      <td>-4680.514023</td>\n",
       "      <td>-3.228498</td>\n",
       "      <td>-3.230227</td>\n",
       "      <td>4.124297</td>\n",
       "      <td>4.126433</td>\n",
       "      <td>-2.700287</td>\n",
       "      <td>-2.704441</td>\n",
       "    </tr>\n",
       "    <tr>\n",
       "      <th>1822</th>\n",
       "      <td>1.388538e+18</td>\n",
       "      <td>0.044161</td>\n",
       "      <td>1</td>\n",
       "      <td>3565.004307</td>\n",
       "      <td>3560.149776</td>\n",
       "      <td>15655.733441</td>\n",
       "      <td>15634.195146</td>\n",
       "      <td>-7655.277835</td>\n",
       "      <td>-7654.177182</td>\n",
       "      <td>-3.960607</td>\n",
       "      <td>-3.964696</td>\n",
       "      <td>2.521337</td>\n",
       "      <td>2.520867</td>\n",
       "      <td>-1.976770</td>\n",
       "      <td>-1.978151</td>\n",
       "    </tr>\n",
       "    <tr>\n",
       "      <th>1823</th>\n",
       "      <td>1.388539e+18</td>\n",
       "      <td>0.058882</td>\n",
       "      <td>1</td>\n",
       "      <td>-1571.839073</td>\n",
       "      <td>-1580.476891</td>\n",
       "      <td>18044.683022</td>\n",
       "      <td>18023.318335</td>\n",
       "      <td>-9755.479443</td>\n",
       "      <td>-9755.287599</td>\n",
       "      <td>-4.046854</td>\n",
       "      <td>-4.050865</td>\n",
       "      <td>1.298053</td>\n",
       "      <td>1.296388</td>\n",
       "      <td>-1.347061</td>\n",
       "      <td>-1.346512</td>\n",
       "    </tr>\n",
       "  </tbody>\n",
       "</table>\n",
       "</div>"
      ],
      "text/plain": [
       "             epoch         t  sat_id         x_sim             x  \\\n",
       "id                                                                 \n",
       "1819  1.388534e+18  0.000000       1  10405.813755  10390.313089   \n",
       "1820  1.388536e+18  0.014720       1  11199.459274  11195.606833   \n",
       "1821  1.388537e+18  0.029441       1   8237.279843   8235.556436   \n",
       "1822  1.388538e+18  0.044161       1   3565.004307   3560.149776   \n",
       "1823  1.388539e+18  0.058882       1  -1571.839073  -1580.476891   \n",
       "\n",
       "             y_sim             y        z_sim            z    Vx_sim  \\\n",
       "id                                                                     \n",
       "1819  -2771.180760  -2796.458271  3166.926302  3179.562085  2.508879   \n",
       "1820   5105.200658   5078.653968  -848.597754  -839.076593 -1.132222   \n",
       "1821  11469.206013  11445.904263 -4684.829256 -4680.514023 -3.228498   \n",
       "1822  15655.733441  15634.195146 -7655.277835 -7654.177182 -3.960607   \n",
       "1823  18044.683022  18023.318335 -9755.479443 -9755.287599 -4.046854   \n",
       "\n",
       "            Vx    Vy_sim        Vy    Vz_sim        Vz  \n",
       "id                                                      \n",
       "1819  2.520477  6.152996  6.149930 -2.826227 -2.827599  \n",
       "1820 -1.126667  5.822436  5.826412 -3.250054 -3.255872  \n",
       "1821 -3.230227  4.124297  4.126433 -2.700287 -2.704441  \n",
       "1822 -3.964696  2.521337  2.520867 -1.976770 -1.978151  \n",
       "1823 -4.050865  1.298053  1.296388 -1.347061 -1.346512  "
      ]
     },
     "execution_count": 83,
     "metadata": {},
     "output_type": "execute_result"
    }
   ],
   "source": [
    "stretch_la_df.head()"
   ]
  },
  {
   "cell_type": "code",
   "execution_count": 84,
   "metadata": {},
   "outputs": [
    {
     "data": {
      "text/plain": [
       "(315183, 15)"
      ]
     },
     "execution_count": 84,
     "metadata": {},
     "output_type": "execute_result"
    }
   ],
   "source": [
    "remove_jumps_stretch_la_train = stretch_la_df.dropna()\n",
    "remove_jumps_stretch_la_train.shape"
   ]
  },
  {
   "cell_type": "code",
   "execution_count": 85,
   "metadata": {},
   "outputs": [
    {
     "data": {
      "text/plain": [
       "True"
      ]
     },
     "execution_count": 85,
     "metadata": {},
     "output_type": "execute_result"
    }
   ],
   "source": [
    "remove_jumps_stretch_la_test = stretch_la_df.loc[~stretch_la_df.index.isin\n",
    "                                           (remove_jumps_stretch_la_train.dropna().index)]\n",
    "remove_jumps_stretch_la_train.index.equals(data.index)\n",
    "#remove_jumps_stretch_la_test.index.equals(test_data.index)"
   ]
  },
  {
   "cell_type": "code",
   "execution_count": 86,
   "metadata": {},
   "outputs": [],
   "source": [
    "smape_remove_jumps_stretch_la = []\n",
    "for sat in sat_t1:\n",
    "    d = get_satellite_data(remove_jumps_stretch_la_train,sat)\n",
    "    m = int(0.7*d.shape[0])\n",
    "    smape_remove_jumps_stretch_la.append(smape(d[feature_list][m:].to_numpy(),d[target_list][m:].to_numpy()))"
   ]
  },
  {
   "cell_type": "markdown",
   "metadata": {},
   "source": [
    "### Compare SMAPEs"
   ]
  },
  {
   "cell_type": "markdown",
   "metadata": {},
   "source": [
    "Best choice `best_choice` of transformation for each satellite according to lowest smape in train data.\n",
    "\n",
    "Code is: \n",
    "\n",
    "1. original data \\\n",
    "    `data` (train) and `test_data` (test) <hr>\n",
    "    \n",
    "2. yes remove time jumps \\\n",
    "    `remove_jumps_train` and `remove_jumps` <hr>\n",
    "3. yes remove time jumps, yes LA \\\n",
    "    `remove_jumps_la_train` and `remove_jumps_la` <hr>\n",
    "4. yes remove time jumps, yes LA, yes stretch (in that order) \\\n",
    "    `remove_jumps_la_stretch_train` and `remove_jumps_la_stretch` <hr>\n",
    "5. yes remove time jumps, yes stretch \\\n",
    "    `remove_jumps_stretch_train` and `remove_jumps_stretch` <hr>\n",
    "6. yes remove time jumps, yes stretch, yes LA (in that order) \\\n",
    "    `stretch_la_df_train` and `stretch_la_df`"
   ]
  },
  {
   "cell_type": "code",
   "execution_count": 87,
   "metadata": {},
   "outputs": [],
   "source": [
    "satellites_and_smapes = [sat_t1, smape_original,smape_remove_jumps,smape_remove_jumps_la,\n",
    "                        smape_remove_jumps_la_stretch,smape_remove_jumps_stretch,\n",
    "                        smape_remove_jumps_stretch_la]"
   ]
  },
  {
   "cell_type": "code",
   "execution_count": 88,
   "metadata": {},
   "outputs": [
    {
     "data": {
      "text/plain": [
       "300"
      ]
     },
     "execution_count": 88,
     "metadata": {},
     "output_type": "execute_result"
    }
   ],
   "source": [
    "smapes_all = list(zip(sat_t1, smape_original,smape_remove_jumps,smape_remove_jumps_la,\n",
    "                        smape_remove_jumps_la_stretch,smape_remove_jumps_stretch,\n",
    "                        smape_remove_jumps_stretch_la))\n",
    "len(smapes_all)"
   ]
  },
  {
   "cell_type": "code",
   "execution_count": 89,
   "metadata": {},
   "outputs": [],
   "source": [
    "best_choice = []\n",
    "for i in range(len(sat_t1)):\n",
    "    best_choice.append((smapes_all[i][0],smapes_all[i].index(min(smapes_all[i]))))"
   ]
  },
  {
   "cell_type": "markdown",
   "metadata": {},
   "source": [
    "## Submission with best transformation by satellite"
   ]
  },
  {
   "cell_type": "code",
   "execution_count": null,
   "metadata": {},
   "outputs": [],
   "source": [
    "# best_choice_map = {1:test_data,2:remove_jumps_test,3:remove_jumps_la_test,\n",
    "#                    4:remove_jumps_la_stretch_test,5:remove_jumps_stretch_test,\n",
    "#                    6:remove_jumps_stretch_la_test}"
   ]
  },
  {
   "cell_type": "code",
   "execution_count": 91,
   "metadata": {},
   "outputs": [],
   "source": [
    "best_choice_map = {1:all_data,2:remove_jumps,3:remove_jumps_la,\n",
    "                   4:remove_jumps_la_stretch,5:remove_jumps_stretch,\n",
    "                   6:stretch_la_df}"
   ]
  },
  {
   "cell_type": "code",
   "execution_count": 126,
   "metadata": {},
   "outputs": [],
   "source": [
    "best = pd.DataFrame([])\n",
    "i=0\n",
    "for sat in sat_t1:\n",
    "  #  if i < 1:\n",
    "   #     print(i, best_choice[i][1])\n",
    "    d = best_choice_map[best_choice[i][1]][feature_list+['sat_id']]\n",
    "   # if i < 1:\n",
    "   #     print(d.shape)\n",
    "    d = d[d['sat_id']==sat]\n",
    "   # if i < 1:\n",
    "    #    print(d[feature_list].columns)\n",
    "    best = best.append(d)\n",
    "    #if i < 1:\n",
    "     #   print(submission_best_transformation.shape)\n",
    "    i += 1"
   ]
  },
  {
   "cell_type": "code",
   "execution_count": 129,
   "metadata": {},
   "outputs": [
    {
     "data": {
      "text/html": [
       "<div>\n",
       "<style scoped>\n",
       "    .dataframe tbody tr th:only-of-type {\n",
       "        vertical-align: middle;\n",
       "    }\n",
       "\n",
       "    .dataframe tbody tr th {\n",
       "        vertical-align: top;\n",
       "    }\n",
       "\n",
       "    .dataframe thead th {\n",
       "        text-align: right;\n",
       "    }\n",
       "</style>\n",
       "<table border=\"1\" class=\"dataframe\">\n",
       "  <thead>\n",
       "    <tr style=\"text-align: right;\">\n",
       "      <th></th>\n",
       "      <th>x_sim</th>\n",
       "      <th>y_sim</th>\n",
       "      <th>z_sim</th>\n",
       "      <th>Vx_sim</th>\n",
       "      <th>Vy_sim</th>\n",
       "      <th>Vz_sim</th>\n",
       "      <th>sat_id</th>\n",
       "    </tr>\n",
       "    <tr>\n",
       "      <th>id</th>\n",
       "      <th></th>\n",
       "      <th></th>\n",
       "      <th></th>\n",
       "      <th></th>\n",
       "      <th></th>\n",
       "      <th></th>\n",
       "      <th></th>\n",
       "    </tr>\n",
       "  </thead>\n",
       "  <tbody>\n",
       "    <tr>\n",
       "      <th>1819</th>\n",
       "      <td>10405.813755</td>\n",
       "      <td>-2771.180760</td>\n",
       "      <td>3166.926302</td>\n",
       "      <td>2.508879</td>\n",
       "      <td>6.152996</td>\n",
       "      <td>-2.826227</td>\n",
       "      <td>1</td>\n",
       "    </tr>\n",
       "    <tr>\n",
       "      <th>1820</th>\n",
       "      <td>11199.459274</td>\n",
       "      <td>5105.200658</td>\n",
       "      <td>-848.597754</td>\n",
       "      <td>-1.132222</td>\n",
       "      <td>5.822436</td>\n",
       "      <td>-3.250054</td>\n",
       "      <td>1</td>\n",
       "    </tr>\n",
       "    <tr>\n",
       "      <th>1821</th>\n",
       "      <td>8237.279843</td>\n",
       "      <td>11469.206013</td>\n",
       "      <td>-4684.829256</td>\n",
       "      <td>-3.228498</td>\n",
       "      <td>4.124297</td>\n",
       "      <td>-2.700287</td>\n",
       "      <td>1</td>\n",
       "    </tr>\n",
       "    <tr>\n",
       "      <th>1822</th>\n",
       "      <td>3565.004307</td>\n",
       "      <td>15655.733441</td>\n",
       "      <td>-7655.277835</td>\n",
       "      <td>-3.960607</td>\n",
       "      <td>2.521337</td>\n",
       "      <td>-1.976770</td>\n",
       "      <td>1</td>\n",
       "    </tr>\n",
       "    <tr>\n",
       "      <th>1823</th>\n",
       "      <td>-1571.839073</td>\n",
       "      <td>18044.683022</td>\n",
       "      <td>-9755.479443</td>\n",
       "      <td>-4.046854</td>\n",
       "      <td>1.298053</td>\n",
       "      <td>-1.347061</td>\n",
       "      <td>1</td>\n",
       "    </tr>\n",
       "  </tbody>\n",
       "</table>\n",
       "</div>"
      ],
      "text/plain": [
       "             x_sim         y_sim        z_sim    Vx_sim    Vy_sim    Vz_sim  \\\n",
       "id                                                                            \n",
       "1819  10405.813755  -2771.180760  3166.926302  2.508879  6.152996 -2.826227   \n",
       "1820  11199.459274   5105.200658  -848.597754 -1.132222  5.822436 -3.250054   \n",
       "1821   8237.279843  11469.206013 -4684.829256 -3.228498  4.124297 -2.700287   \n",
       "1822   3565.004307  15655.733441 -7655.277835 -3.960607  2.521337 -1.976770   \n",
       "1823  -1571.839073  18044.683022 -9755.479443 -4.046854  1.298053 -1.347061   \n",
       "\n",
       "      sat_id  \n",
       "id            \n",
       "1819       1  \n",
       "1820       1  \n",
       "1821       1  \n",
       "1822       1  \n",
       "1823       1  "
      ]
     },
     "execution_count": 129,
     "metadata": {},
     "output_type": "execute_result"
    }
   ],
   "source": [
    "best.head()"
   ]
  },
  {
   "cell_type": "code",
   "execution_count": 131,
   "metadata": {},
   "outputs": [
    {
     "data": {
      "text/html": [
       "<div>\n",
       "<style scoped>\n",
       "    .dataframe tbody tr th:only-of-type {\n",
       "        vertical-align: middle;\n",
       "    }\n",
       "\n",
       "    .dataframe tbody tr th {\n",
       "        vertical-align: top;\n",
       "    }\n",
       "\n",
       "    .dataframe thead th {\n",
       "        text-align: right;\n",
       "    }\n",
       "</style>\n",
       "<table border=\"1\" class=\"dataframe\">\n",
       "  <thead>\n",
       "    <tr style=\"text-align: right;\">\n",
       "      <th></th>\n",
       "      <th>x_sim</th>\n",
       "      <th>y_sim</th>\n",
       "      <th>z_sim</th>\n",
       "      <th>Vx_sim</th>\n",
       "      <th>Vy_sim</th>\n",
       "      <th>Vz_sim</th>\n",
       "      <th>sat_id</th>\n",
       "      <th>x</th>\n",
       "      <th>y</th>\n",
       "      <th>z</th>\n",
       "      <th>Vx</th>\n",
       "      <th>Vy</th>\n",
       "      <th>Vz</th>\n",
       "      <th>epoch</th>\n",
       "      <th>t</th>\n",
       "    </tr>\n",
       "    <tr>\n",
       "      <th>id</th>\n",
       "      <th></th>\n",
       "      <th></th>\n",
       "      <th></th>\n",
       "      <th></th>\n",
       "      <th></th>\n",
       "      <th></th>\n",
       "      <th></th>\n",
       "      <th></th>\n",
       "      <th></th>\n",
       "      <th></th>\n",
       "      <th></th>\n",
       "      <th></th>\n",
       "      <th></th>\n",
       "      <th></th>\n",
       "      <th></th>\n",
       "    </tr>\n",
       "  </thead>\n",
       "  <tbody>\n",
       "    <tr>\n",
       "      <th>1819</th>\n",
       "      <td>10405.813755</td>\n",
       "      <td>-2771.180760</td>\n",
       "      <td>3166.926302</td>\n",
       "      <td>2.508879</td>\n",
       "      <td>6.152996</td>\n",
       "      <td>-2.826227</td>\n",
       "      <td>1</td>\n",
       "      <td>10390.313089</td>\n",
       "      <td>-2796.458271</td>\n",
       "      <td>3179.562085</td>\n",
       "      <td>2.520477</td>\n",
       "      <td>6.149930</td>\n",
       "      <td>-2.827599</td>\n",
       "      <td>1.388534e+18</td>\n",
       "      <td>0.000000</td>\n",
       "    </tr>\n",
       "    <tr>\n",
       "      <th>1820</th>\n",
       "      <td>11199.459274</td>\n",
       "      <td>5105.200658</td>\n",
       "      <td>-848.597754</td>\n",
       "      <td>-1.132222</td>\n",
       "      <td>5.822436</td>\n",
       "      <td>-3.250054</td>\n",
       "      <td>1</td>\n",
       "      <td>11195.606833</td>\n",
       "      <td>5078.653968</td>\n",
       "      <td>-839.076593</td>\n",
       "      <td>-1.126667</td>\n",
       "      <td>5.826412</td>\n",
       "      <td>-3.255872</td>\n",
       "      <td>1.388536e+18</td>\n",
       "      <td>0.014720</td>\n",
       "    </tr>\n",
       "    <tr>\n",
       "      <th>1821</th>\n",
       "      <td>8237.279843</td>\n",
       "      <td>11469.206013</td>\n",
       "      <td>-4684.829256</td>\n",
       "      <td>-3.228498</td>\n",
       "      <td>4.124297</td>\n",
       "      <td>-2.700287</td>\n",
       "      <td>1</td>\n",
       "      <td>8235.556436</td>\n",
       "      <td>11445.904263</td>\n",
       "      <td>-4680.514023</td>\n",
       "      <td>-3.230227</td>\n",
       "      <td>4.126433</td>\n",
       "      <td>-2.704441</td>\n",
       "      <td>1.388537e+18</td>\n",
       "      <td>0.029441</td>\n",
       "    </tr>\n",
       "    <tr>\n",
       "      <th>1822</th>\n",
       "      <td>3565.004307</td>\n",
       "      <td>15655.733441</td>\n",
       "      <td>-7655.277835</td>\n",
       "      <td>-3.960607</td>\n",
       "      <td>2.521337</td>\n",
       "      <td>-1.976770</td>\n",
       "      <td>1</td>\n",
       "      <td>3560.149776</td>\n",
       "      <td>15634.195146</td>\n",
       "      <td>-7654.177182</td>\n",
       "      <td>-3.964696</td>\n",
       "      <td>2.520867</td>\n",
       "      <td>-1.978151</td>\n",
       "      <td>1.388538e+18</td>\n",
       "      <td>0.044161</td>\n",
       "    </tr>\n",
       "    <tr>\n",
       "      <th>1823</th>\n",
       "      <td>-1571.839073</td>\n",
       "      <td>18044.683022</td>\n",
       "      <td>-9755.479443</td>\n",
       "      <td>-4.046854</td>\n",
       "      <td>1.298053</td>\n",
       "      <td>-1.347061</td>\n",
       "      <td>1</td>\n",
       "      <td>-1580.476891</td>\n",
       "      <td>18023.318335</td>\n",
       "      <td>-9755.287599</td>\n",
       "      <td>-4.050865</td>\n",
       "      <td>1.296388</td>\n",
       "      <td>-1.346512</td>\n",
       "      <td>1.388539e+18</td>\n",
       "      <td>0.058882</td>\n",
       "    </tr>\n",
       "  </tbody>\n",
       "</table>\n",
       "</div>"
      ],
      "text/plain": [
       "             x_sim         y_sim        z_sim    Vx_sim    Vy_sim    Vz_sim  \\\n",
       "id                                                                            \n",
       "1819  10405.813755  -2771.180760  3166.926302  2.508879  6.152996 -2.826227   \n",
       "1820  11199.459274   5105.200658  -848.597754 -1.132222  5.822436 -3.250054   \n",
       "1821   8237.279843  11469.206013 -4684.829256 -3.228498  4.124297 -2.700287   \n",
       "1822   3565.004307  15655.733441 -7655.277835 -3.960607  2.521337 -1.976770   \n",
       "1823  -1571.839073  18044.683022 -9755.479443 -4.046854  1.298053 -1.347061   \n",
       "\n",
       "      sat_id             x             y            z        Vx        Vy  \\\n",
       "id                                                                          \n",
       "1819       1  10390.313089  -2796.458271  3179.562085  2.520477  6.149930   \n",
       "1820       1  11195.606833   5078.653968  -839.076593 -1.126667  5.826412   \n",
       "1821       1   8235.556436  11445.904263 -4680.514023 -3.230227  4.126433   \n",
       "1822       1   3560.149776  15634.195146 -7654.177182 -3.964696  2.520867   \n",
       "1823       1  -1580.476891  18023.318335 -9755.287599 -4.050865  1.296388   \n",
       "\n",
       "            Vz         epoch         t  \n",
       "id                                      \n",
       "1819 -2.827599  1.388534e+18  0.000000  \n",
       "1820 -3.255872  1.388536e+18  0.014720  \n",
       "1821 -2.704441  1.388537e+18  0.029441  \n",
       "1822 -1.978151  1.388538e+18  0.044161  \n",
       "1823 -1.346512  1.388539e+18  0.058882  "
      ]
     },
     "execution_count": 131,
     "metadata": {},
     "output_type": "execute_result"
    }
   ],
   "source": [
    "index = all_data.index\n",
    "for label in target_list:\n",
    "    best.loc[index, label] = all_data.loc[index,label]\n",
    "best.loc[index, 'epoch']= all_data.loc[index,'epoch']\n",
    "best.loc[index, 't']= remove_jumps.loc[index,'t']\n",
    "best.head()\n"
   ]
  },
  {
   "cell_type": "code",
   "execution_count": 132,
   "metadata": {},
   "outputs": [
    {
     "data": {
      "text/plain": [
       "[<matplotlib.lines.Line2D at 0x1e7d18a4dd8>]"
      ]
     },
     "execution_count": 132,
     "metadata": {},
     "output_type": "execute_result"
    },
    {
     "data": {
      "image/png": "[encoded data removed]",
      "text/plain": [
       "<Figure size 1080x720 with 1 Axes>"
      ]
     },
     "metadata": {
      "needs_background": "light"
     },
     "output_type": "display_data"
    }
   ],
   "source": [
    "plt.figure(figsize = (15,10))\n",
    "m_data = best[best.sat_id == 2]\n",
    "plt.plot(m_data['t'], m_data['x_sim'])\n",
    "plt.plot(m_data['t'], m_data['x'])"
   ]
  },
  {
   "cell_type": "code",
   "execution_count": 133,
   "metadata": {},
   "outputs": [
    {
     "data": {
      "text/plain": [
       "['x', 'y', 'z', 'Vx', 'Vy', 'Vz']"
      ]
     },
     "execution_count": 133,
     "metadata": {},
     "output_type": "execute_result"
    }
   ],
   "source": [
    "target_list"
   ]
  },
  {
   "cell_type": "code",
   "execution_count": 177,
   "metadata": {},
   "outputs": [
    {
     "data": {
      "text/html": [
       "<div>\n",
       "<style scoped>\n",
       "    .dataframe tbody tr th:only-of-type {\n",
       "        vertical-align: middle;\n",
       "    }\n",
       "\n",
       "    .dataframe tbody tr th {\n",
       "        vertical-align: top;\n",
       "    }\n",
       "\n",
       "    .dataframe thead th {\n",
       "        text-align: right;\n",
       "    }\n",
       "</style>\n",
       "<table border=\"1\" class=\"dataframe\">\n",
       "  <thead>\n",
       "    <tr style=\"text-align: right;\">\n",
       "      <th></th>\n",
       "      <th>x_sim</th>\n",
       "      <th>y_sim</th>\n",
       "      <th>z_sim</th>\n",
       "      <th>Vx_sim</th>\n",
       "      <th>Vy_sim</th>\n",
       "      <th>Vz_sim</th>\n",
       "      <th>sat_id</th>\n",
       "      <th>x</th>\n",
       "      <th>y</th>\n",
       "      <th>z</th>\n",
       "      <th>Vx</th>\n",
       "      <th>Vy</th>\n",
       "      <th>Vz</th>\n",
       "      <th>epoch</th>\n",
       "      <th>t</th>\n",
       "    </tr>\n",
       "    <tr>\n",
       "      <th>id</th>\n",
       "      <th></th>\n",
       "      <th></th>\n",
       "      <th></th>\n",
       "      <th></th>\n",
       "      <th></th>\n",
       "      <th></th>\n",
       "      <th></th>\n",
       "      <th></th>\n",
       "      <th></th>\n",
       "      <th></th>\n",
       "      <th></th>\n",
       "      <th></th>\n",
       "      <th></th>\n",
       "      <th></th>\n",
       "      <th></th>\n",
       "    </tr>\n",
       "  </thead>\n",
       "  <tbody>\n",
       "    <tr>\n",
       "      <th>746351</th>\n",
       "      <td>-7860.046460</td>\n",
       "      <td>-3132.109662</td>\n",
       "      <td>2904.845788</td>\n",
       "      <td>-2.248154</td>\n",
       "      <td>6.610960</td>\n",
       "      <td>1.041413</td>\n",
       "      <td>372</td>\n",
       "      <td>-7864.678484</td>\n",
       "      <td>-3129.694640</td>\n",
       "      <td>2907.635431</td>\n",
       "      <td>-2.245256</td>\n",
       "      <td>6.608261</td>\n",
       "      <td>1.039890</td>\n",
       "      <td>1.388534e+18</td>\n",
       "      <td>0.000000</td>\n",
       "    </tr>\n",
       "    <tr>\n",
       "      <th>746352</th>\n",
       "      <td>-8408.384650</td>\n",
       "      <td>-221.380394</td>\n",
       "      <td>3195.033561</td>\n",
       "      <td>-0.323371</td>\n",
       "      <td>7.008780</td>\n",
       "      <td>0.318784</td>\n",
       "      <td>372</td>\n",
       "      <td>-8412.117022</td>\n",
       "      <td>-220.195147</td>\n",
       "      <td>3197.249996</td>\n",
       "      <td>-0.322000</td>\n",
       "      <td>7.005179</td>\n",
       "      <td>0.317406</td>\n",
       "      <td>1.388535e+18</td>\n",
       "      <td>0.004906</td>\n",
       "    </tr>\n",
       "    <tr>\n",
       "      <th>746353</th>\n",
       "      <td>-8138.889636</td>\n",
       "      <td>2712.535682</td>\n",
       "      <td>3174.147312</td>\n",
       "      <td>1.569253</td>\n",
       "      <td>6.726703</td>\n",
       "      <td>-0.410586</td>\n",
       "      <td>372</td>\n",
       "      <td>-8142.359815</td>\n",
       "      <td>2712.345768</td>\n",
       "      <td>3175.824997</td>\n",
       "      <td>1.569116</td>\n",
       "      <td>6.723347</td>\n",
       "      <td>-0.411696</td>\n",
       "      <td>1.388535e+18</td>\n",
       "      <td>0.009812</td>\n",
       "    </tr>\n",
       "    <tr>\n",
       "      <th>746354</th>\n",
       "      <td>-7114.320644</td>\n",
       "      <td>5397.827305</td>\n",
       "      <td>2858.516662</td>\n",
       "      <td>3.208626</td>\n",
       "      <td>5.859393</td>\n",
       "      <td>-1.059693</td>\n",
       "      <td>372</td>\n",
       "      <td>-7118.319697</td>\n",
       "      <td>5395.817612</td>\n",
       "      <td>2859.815398</td>\n",
       "      <td>3.207649</td>\n",
       "      <td>5.855679</td>\n",
       "      <td>-1.061148</td>\n",
       "      <td>1.388536e+18</td>\n",
       "      <td>0.014718</td>\n",
       "    </tr>\n",
       "    <tr>\n",
       "      <th>746355</th>\n",
       "      <td>-5474.803399</td>\n",
       "      <td>7620.801613</td>\n",
       "      <td>2295.605579</td>\n",
       "      <td>4.455283</td>\n",
       "      <td>4.576093</td>\n",
       "      <td>-1.570595</td>\n",
       "      <td>372</td>\n",
       "      <td>-5478.816040</td>\n",
       "      <td>7618.661585</td>\n",
       "      <td>2296.340781</td>\n",
       "      <td>4.454570</td>\n",
       "      <td>4.574468</td>\n",
       "      <td>-1.571567</td>\n",
       "      <td>1.388536e+18</td>\n",
       "      <td>0.019624</td>\n",
       "    </tr>\n",
       "  </tbody>\n",
       "</table>\n",
       "</div>"
      ],
      "text/plain": [
       "              x_sim        y_sim        z_sim    Vx_sim    Vy_sim    Vz_sim  \\\n",
       "id                                                                            \n",
       "746351 -7860.046460 -3132.109662  2904.845788 -2.248154  6.610960  1.041413   \n",
       "746352 -8408.384650  -221.380394  3195.033561 -0.323371  7.008780  0.318784   \n",
       "746353 -8138.889636  2712.535682  3174.147312  1.569253  6.726703 -0.410586   \n",
       "746354 -7114.320644  5397.827305  2858.516662  3.208626  5.859393 -1.059693   \n",
       "746355 -5474.803399  7620.801613  2295.605579  4.455283  4.576093 -1.570595   \n",
       "\n",
       "        sat_id            x            y            z        Vx        Vy  \\\n",
       "id                                                                          \n",
       "746351     372 -7864.678484 -3129.694640  2907.635431 -2.245256  6.608261   \n",
       "746352     372 -8412.117022  -220.195147  3197.249996 -0.322000  7.005179   \n",
       "746353     372 -8142.359815  2712.345768  3175.824997  1.569116  6.723347   \n",
       "746354     372 -7118.319697  5395.817612  2859.815398  3.207649  5.855679   \n",
       "746355     372 -5478.816040  7618.661585  2296.340781  4.454570  4.574468   \n",
       "\n",
       "              Vz         epoch         t  \n",
       "id                                        \n",
       "746351  1.039890  1.388534e+18  0.000000  \n",
       "746352  0.317406  1.388535e+18  0.004906  \n",
       "746353 -0.411696  1.388535e+18  0.009812  \n",
       "746354 -1.061148  1.388536e+18  0.014718  \n",
       "746355 -1.571567  1.388536e+18  0.019624  "
      ]
     },
     "execution_count": 177,
     "metadata": {},
     "output_type": "execute_result"
    }
   ],
   "source": [
    "best_1 = pd.DataFrame([])\n",
    "i=0\n",
    "for sat in [372,473,514]:\n",
    "  #  if i < 1:\n",
    "   #     print(i, best_choice[i][1])\n",
    "    d = best_choice_map[5][feature_list+['sat_id']]\n",
    "   # if i < 1:\n",
    "   #     print(d.shape)\n",
    "    d = d[d['sat_id']==sat]\n",
    "   # if i < 1:\n",
    "    #    print(d[feature_list].columns)\n",
    "    best_1 = best_1.append(d)\n",
    "    #if i < 1:\n",
    "     #   print(submission_best_transformation.shape)\n",
    "    i += 1\n",
    "for sat in [587]:\n",
    "  #  if i < 1:\n",
    "   #     print(i, best_choice[i][1])\n",
    "    d = best_choice_map[1][feature_list+['sat_id']]\n",
    "   # if i < 1:\n",
    "   #     print(d.shape)\n",
    "    d = d[d['sat_id']==sat]\n",
    "   # if i < 1:\n",
    "    #    print(d[feature_list].columns)\n",
    "    best_1 = best_1.append(d)\n",
    "    #if i < 1:\n",
    "     #   print(submission_best_transformation.shape)\n",
    "    i += 1\n",
    "index = all_data[all_data.sat_id.isin([372,587,473,514])].index\n",
    "for label in target_list:\n",
    "    best_1.loc[index, label] = all_data.loc[index,label]\n",
    "best_1.loc[index, 'epoch']= all_data.loc[index,'epoch']\n",
    "best_1.loc[index, 't']= remove_jumps.loc[index,'t']\n",
    "best_1.head()"
   ]
  },
  {
   "cell_type": "code",
   "execution_count": 178,
   "metadata": {},
   "outputs": [
    {
     "data": {
      "text/plain": [
       "[<matplotlib.lines.Line2D at 0x1e801effda0>]"
      ]
     },
     "execution_count": 178,
     "metadata": {},
     "output_type": "execute_result"
    },
    {
     "data": {
      "image/png": "[encoded data removed]",
      "text/plain": [
       "<Figure size 1080x720 with 1 Axes>"
      ]
     },
     "metadata": {
      "needs_background": "light"
     },
     "output_type": "display_data"
    }
   ],
   "source": [
    "plt.figure(figsize = (15,10))\n",
    "m_data = best_1[best_1.sat_id == 587]\n",
    "plt.plot(m_data['t'], m_data['x_sim'])\n",
    "plt.plot(m_data['t'], m_data['x'])"
   ]
  },
  {
   "cell_type": "markdown",
   "metadata": {},
   "source": [
    "# Prophet()"
   ]
  },
  {
   "cell_type": "code",
   "execution_count": 184,
   "metadata": {
    "scrolled": false
   },
   "outputs": [
    {
     "name": "stderr",
     "output_type": "stream",
     "text": [
      "\n",
      "  0%|                                                                                            | 0/4 [00:00<?, ?it/s]"
     ]
    },
    {
     "name": "stdout",
     "output_type": "stream",
     "text": [
      "372[x]  no correction: 0.47314769699532344, correction:0.8147674984159842\n",
      "372 x does not work\n",
      "372[y]  no correction: 0.47179603596177566, correction:0.7829036477860563\n",
      "372 y does not work\n",
      "372[z]  no correction: 0.4701036038901174, correction:0.8017488087722251\n",
      "372 z does not work\n",
      "372[Vx]  no correction: 0.47327525708711704, correction:0.7703037770041228\n",
      "372 Vx does not work\n",
      "372[Vy]  no correction: 0.47427645864597023, correction:0.8364101491078627\n",
      "372 Vy does not work\n",
      "372[Vz]  no correction: 0.4717968134250936, correction:0.7681637583702386\n",
      "372 Vz does not work\n"
     ]
    },
    {
     "name": "stderr",
     "output_type": "stream",
     "text": [
      "\n",
      " 25%|█████████████████████                                                               | 1/4 [00:59<02:58, 59.50s/it]"
     ]
    },
    {
     "name": "stdout",
     "output_type": "stream",
     "text": [
      "587[x]  no correction: 0.5198461535932867, correction:0.6464800865223452\n",
      "587 x does not work\n",
      "587[y]  no correction: 0.5140342565753254, correction:0.5990630030059643\n",
      "587 y does not work\n",
      "587[z]  no correction: 0.5073191908273499, correction:0.535223260370483\n",
      "587 z does not work\n",
      "587[Vx]  no correction: 0.51729692347224, correction:0.6888266110094428\n",
      "587 Vx does not work\n",
      "587[Vy]  no correction: 0.5170355484038015, correction:0.6374718746355753\n",
      "587 Vy does not work\n",
      "587[Vz]  no correction: 0.5221810919411196, correction:0.5036024236246717\n"
     ]
    },
    {
     "name": "stderr",
     "output_type": "stream",
     "text": [
      "\n",
      " 50%|██████████████████████████████████████████                                          | 2/4 [02:03<02:01, 60.88s/it]"
     ]
    },
    {
     "name": "stdout",
     "output_type": "stream",
     "text": [
      "473[x]  no correction: 0.8323707158108656, correction:0.28670472365655525\n",
      "473[y]  no correction: 0.8708780787145398, correction:0.29168367833869063\n",
      "473[z]  no correction: 0.9051266034188734, correction:0.5267099384045308\n",
      "473[Vx]  no correction: 0.9314385095289089, correction:0.3987099800461531\n",
      "473[Vy]  no correction: 0.9058757456400861, correction:0.38911105223651216\n",
      "473[Vz]  no correction: 0.893219525802869, correction:0.6845374357570998\n"
     ]
    },
    {
     "name": "stderr",
     "output_type": "stream",
     "text": [
      "\n",
      " 75%|██████████████████████████████████████████████████████████████▎                    | 3/4 [06:21<02:00, 120.07s/it]"
     ]
    },
    {
     "name": "stdout",
     "output_type": "stream",
     "text": [
      "514[x]  no correction: 0.6020792035225818, correction:0.5092419359962616\n",
      "514[y]  no correction: 0.6752709669378205, correction:0.6744759613760094\n",
      "514[z]  no correction: 0.6206731245172906, correction:0.6090373340004741\n",
      "514[Vx]  no correction: 0.26777403806303834, correction:0.3712461767166566\n",
      "514 Vx does not work\n",
      "514[Vy]  no correction: 0.2666216628928308, correction:0.3919204488873376\n",
      "514 Vy does not work\n",
      "514[Vz]  no correction: 0.2691472915111961, correction:0.38357390564224886\n",
      "514 Vz does not work\n"
     ]
    },
    {
     "name": "stderr",
     "output_type": "stream",
     "text": [
      "\n",
      "100%|███████████████████████████████████████████████████████████████████████████████████| 4/4 [07:18<00:00, 100.95s/it]"
     ]
    }
   ],
   "source": [
    "fail_list = []\n",
    "# satellites_list = transf_df['sat_id'].unique()\n",
    "# res = pd.DataFrame([])\n",
    "# for sat_id in tqdm(sat_t1):\n",
    "for sat_id in tqdm([372,587,473,514]):    \n",
    "    \n",
    "    \n",
    "    sat_data = best_1[best_1.sat_id == sat_id]\n",
    "    \n",
    "    n_train = 4* len(sat_data) // 10\n",
    "    n_first = len(sat_data[~pd.isna(sat_data.x)])\n",
    "\n",
    "    pred = pd.DataFrame(index = sat_data.iloc[n_first:].index)\n",
    "    pred['epoch'] = sat_data['epoch'].iloc[n_first:].values\n",
    "    pred['t'] = sat_data['t'].iloc[n_first:].values\n",
    "    pred['sat_id'] = sat_id\n",
    "\n",
    "#     if sat_id in [26]:\n",
    "#         for feature_name in target_list:\n",
    "#             pred[feature_name] = sat_data[f'{feature_name}_sim'].values\n",
    "#     else:\n",
    "    try:\n",
    "\n",
    "        for feature_name in target_list:\n",
    "\n",
    "            q = InterpolatedUnivariateSpline(sat_data['t'][:n_train], sat_data[f'{feature_name}_sim'][:n_train]).roots()\n",
    "            T = (q[2]-q[0])\n",
    "\n",
    "            # create a DataFrame for prophet model()\n",
    "            ts = pd.DataFrame([])\n",
    "            ts['ds'] = pd.to_datetime(sat_data ['epoch']).values\n",
    "            ts['y'] = sat_data [feature_name].values-sat_data [f'{feature_name}_sim'].values\n",
    "\n",
    "            # define the time frame for the first forecast \n",
    "            future =ts[n_train:n_first] [['ds']]\n",
    "\n",
    "            # define the model\n",
    "            m = Prophet(changepoint_prior_scale = T/20,\n",
    "            weekly_seasonality = False,\n",
    "            yearly_seasonality = False).add_seasonality(name='grid', period = T, fourier_order=50)\n",
    "\n",
    "            #fit the model and make the forecast\n",
    "            m.fit(ts[:n_train])\n",
    "            forecast = m.predict(future)\n",
    "\n",
    "            new_values = sat_data.loc[:,f'{feature_name}_sim'].iloc[n_train:n_first].values+forecast.loc[:, 'yhat'].values\n",
    "\n",
    "            option1 = sat_data[f'{feature_name}_sim'].values\n",
    "\n",
    "\n",
    "            option2 = np.concatenate((sat_data[f'{feature_name}_sim'].values[:n_train], new_values), axis=None)\n",
    "\n",
    "\n",
    "            print('{}[{}]  no correction: {}, correction:{}'.format(sat_id,\n",
    "                                                                feature_name,\n",
    "                                                                utils.smape(option1[n_train:n_first],sat_data[feature_name].iloc[n_train:n_first].values),\n",
    "                                                                utils.smape(option2[n_train:n_first],sat_data[feature_name].iloc[n_train:n_first].values)))\n",
    "\n",
    "            if utils.smape(option1[n_train:n_first],sat_data[feature_name].iloc[n_train:n_first].values) < utils.smape(option2[n_train:n_first],sat_data[feature_name].iloc[n_train:n_first].values):\n",
    "                pred[feature_name] = option1[n_first:]\n",
    "                print(sat_id, feature_name, 'does not work')\n",
    "                fail_list.append((sat_id, feature_name))\n",
    "            else:\n",
    "                # fit a new model on the whole training range\n",
    "\n",
    "                # define the time frame for the first forecast \n",
    "                future =ts[n_first:] [['ds']]\n",
    "\n",
    "                # define the model\n",
    "                m = Prophet(changepoint_prior_scale = T/20,\n",
    "                weekly_seasonality = False,\n",
    "                yearly_seasonality = False).add_seasonality(name='grid', period = T, fourier_order=50)\n",
    "\n",
    "                #fit the model and make the forecast\n",
    "                m.fit(ts[:n_first])\n",
    "                forecast = m.predict(future)\n",
    "\n",
    "                pred[feature_name]  = sat_data.loc[:,f'{feature_name}_sim'].iloc[n_first:].values+forecast.loc[:, 'yhat'].values\n",
    "\n",
    "\n",
    "\n",
    "\n",
    "\n",
    "    except Exception as e:\n",
    "        print(f'phophet failed for satellite {sat_id}:\\t{type(e).__name__} {e}')\n",
    "        continue\n",
    "\n",
    "#     sat_sim_smape = utils.smape(sat_data.loc[n_train:, [f'{f}_sim' for f in features_list]].values,\n",
    "#                                 sat_data.loc[n_train:, features_list].values)\n",
    "#     sat_new_smape = utils.smape(pred.loc[n_train:, features_list].values,\n",
    "#                                 sat_data.loc[n_train:, features_list].values)\n",
    "#     result_df.append([sat_id, sat_sim_smape, sat_new_smape])\n",
    "    res = res.append(pred, sort=False)"
   ]
  },
  {
   "cell_type": "code",
   "execution_count": 137,
   "metadata": {},
   "outputs": [],
   "source": [
    "# res.to_csv('temp.csv')"
   ]
  },
  {
   "cell_type": "code",
   "execution_count": 185,
   "metadata": {},
   "outputs": [
    {
     "data": {
      "text/plain": [
       "(284071, 9)"
      ]
     },
     "execution_count": 185,
     "metadata": {},
     "output_type": "execute_result"
    }
   ],
   "source": [
    "res.shape"
   ]
  },
  {
   "cell_type": "code",
   "execution_count": 186,
   "metadata": {},
   "outputs": [],
   "source": [
    "# res = res[~res.sat_id.isin([372,587,473,514])]\n",
    "# res.shape"
   ]
  },
  {
   "cell_type": "code",
   "execution_count": 196,
   "metadata": {},
   "outputs": [
    {
     "data": {
      "text/plain": [
       "<matplotlib.legend.Legend at 0x1e800e09ef0>"
      ]
     },
     "execution_count": 196,
     "metadata": {},
     "output_type": "execute_result"
    },
    {
     "data": {
      "image/png": "[encoded data removed]",
      "text/plain": [
       "<Figure size 1080x720 with 1 Axes>"
      ]
     },
     "metadata": {
      "needs_background": "light"
     },
     "output_type": "display_data"
    }
   ],
   "source": [
    "plt.figure(figsize = (15,10))\n",
    "s_id = 587\n",
    "m_data = best_1[best_1.sat_id == s_id]\n",
    "plt.plot(m_data['t'], m_data['Vx_sim'], label = 'Masha stretch')\n",
    "plt.plot(m_data['t'], m_data['Vx'], label = 'real')\n",
    "plt.plot(res[res.sat_id == s_id]['t'],res[res.sat_id == s_id]['Vx'] , label = 'with prophet')\n",
    "plt.legend()"
   ]
  },
  {
   "cell_type": "code",
   "execution_count": 197,
   "metadata": {},
   "outputs": [
    {
     "data": {
      "text/html": [
       "<div>\n",
       "<style scoped>\n",
       "    .dataframe tbody tr th:only-of-type {\n",
       "        vertical-align: middle;\n",
       "    }\n",
       "\n",
       "    .dataframe tbody tr th {\n",
       "        vertical-align: top;\n",
       "    }\n",
       "\n",
       "    .dataframe thead th {\n",
       "        text-align: right;\n",
       "    }\n",
       "</style>\n",
       "<table border=\"1\" class=\"dataframe\">\n",
       "  <thead>\n",
       "    <tr style=\"text-align: right;\">\n",
       "      <th></th>\n",
       "      <th>x</th>\n",
       "      <th>y</th>\n",
       "      <th>z</th>\n",
       "      <th>Vx</th>\n",
       "      <th>Vy</th>\n",
       "      <th>Vz</th>\n",
       "    </tr>\n",
       "    <tr>\n",
       "      <th>id</th>\n",
       "      <th></th>\n",
       "      <th></th>\n",
       "      <th></th>\n",
       "      <th></th>\n",
       "      <th></th>\n",
       "      <th></th>\n",
       "    </tr>\n",
       "  </thead>\n",
       "  <tbody>\n",
       "    <tr>\n",
       "      <th>3927</th>\n",
       "      <td>-13366.891347</td>\n",
       "      <td>-14236.753503</td>\n",
       "      <td>6386.774555</td>\n",
       "      <td>4.333815</td>\n",
       "      <td>-0.692764</td>\n",
       "      <td>0.810774</td>\n",
       "    </tr>\n",
       "    <tr>\n",
       "      <th>3928</th>\n",
       "      <td>-7370.434039</td>\n",
       "      <td>-14498.771520</td>\n",
       "      <td>7130.411325</td>\n",
       "      <td>5.077413</td>\n",
       "      <td>0.360609</td>\n",
       "      <td>0.313402</td>\n",
       "    </tr>\n",
       "    <tr>\n",
       "      <th>3929</th>\n",
       "      <td>-572.068654</td>\n",
       "      <td>-13065.289498</td>\n",
       "      <td>7033.794876</td>\n",
       "      <td>5.519106</td>\n",
       "      <td>2.012830</td>\n",
       "      <td>-0.539412</td>\n",
       "    </tr>\n",
       "    <tr>\n",
       "      <th>3930</th>\n",
       "      <td>6208.945257</td>\n",
       "      <td>-9076.852425</td>\n",
       "      <td>5548.296900</td>\n",
       "      <td>4.849212</td>\n",
       "      <td>4.338955</td>\n",
       "      <td>-1.869600</td>\n",
       "    </tr>\n",
       "    <tr>\n",
       "      <th>3931</th>\n",
       "      <td>10768.200284</td>\n",
       "      <td>-2199.706707</td>\n",
       "      <td>2272.014862</td>\n",
       "      <td>1.940505</td>\n",
       "      <td>6.192887</td>\n",
       "      <td>-3.167724</td>\n",
       "    </tr>\n",
       "  </tbody>\n",
       "</table>\n",
       "</div>"
      ],
      "text/plain": [
       "                 x             y            z        Vx        Vy        Vz\n",
       "id                                                                         \n",
       "3927 -13366.891347 -14236.753503  6386.774555  4.333815 -0.692764  0.810774\n",
       "3928  -7370.434039 -14498.771520  7130.411325  5.077413  0.360609  0.313402\n",
       "3929   -572.068654 -13065.289498  7033.794876  5.519106  2.012830 -0.539412\n",
       "3930   6208.945257  -9076.852425  5548.296900  4.849212  4.338955 -1.869600\n",
       "3931  10768.200284  -2199.706707  2272.014862  1.940505  6.192887 -3.167724"
      ]
     },
     "execution_count": 197,
     "metadata": {},
     "output_type": "execute_result"
    }
   ],
   "source": [
    "sub = pd.read_csv('data/submission.csv', index_col = 'id')\n",
    "sub.head()"
   ]
  },
  {
   "cell_type": "code",
   "execution_count": 202,
   "metadata": {},
   "outputs": [
    {
     "data": {
      "text/plain": [
       "(284071, 6)"
      ]
     },
     "execution_count": 202,
     "metadata": {},
     "output_type": "execute_result"
    }
   ],
   "source": [
    "sub.shape"
   ]
  },
  {
   "cell_type": "code",
   "execution_count": 200,
   "metadata": {},
   "outputs": [],
   "source": [
    "sumission_index = sub.index\n",
    "df = res.loc[sumission_index,:]\n",
    "df = df.drop(columns = ['epoch','t','sat_id'])"
   ]
  },
  {
   "cell_type": "code",
   "execution_count": 201,
   "metadata": {},
   "outputs": [],
   "source": [
    "df.to_csv('submission_12.csv')"
   ]
  },
  {
   "cell_type": "code",
   "execution_count": 203,
   "metadata": {},
   "outputs": [
    {
     "data": {
      "text/plain": [
       "(284071, 6)"
      ]
     },
     "execution_count": 203,
     "metadata": {},
     "output_type": "execute_result"
    }
   ],
   "source": [
    "df.shape"
   ]
  },
  {
   "cell_type": "code",
   "execution_count": null,
   "metadata": {},
   "outputs": [],
   "source": []
  }
 ],
 "metadata": {
  "accelerator": "GPU",
  "colab": {
   "name": "prophet_model_exploration-Copy1.ipynb",
   "provenance": [],
   "toc_visible": true
  },
  "kernelspec": {
   "display_name": "Python 3",
   "language": "python",
   "name": "python3"
  },
  "language_info": {
   "codemirror_mode": {
    "name": "ipython",
    "version": 3
   },
   "file_extension": ".py",
   "mimetype": "text/x-python",
   "name": "python",
   "nbconvert_exporter": "python",
   "pygments_lexer": "ipython3",
   "version": "3.7.3"
  }
 },
 "nbformat": 4,
 "nbformat_minor": 1
}
